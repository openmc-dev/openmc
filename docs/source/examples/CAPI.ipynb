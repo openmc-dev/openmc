{
 "cells": [
  {
   "cell_type": "markdown",
   "metadata": {},
   "source": [
    "This notebook shows how to use the OpenMC C/C++ API through the openmc.lib module. This module is particularly useful for multiphysics coupling because it allows you to update the density of materials and the temperatures of cells in memory, without stopping the simulation."
   ]
  },
  {
   "cell_type": "code",
   "execution_count": 1,
   "metadata": {},
   "outputs": [],
   "source": [
    "%matplotlib inline\n",
    "import openmc\n",
    "import openmc.lib"
   ]
  },
  {
   "cell_type": "markdown",
   "metadata": {},
   "source": [
    "<b>Generate Input Files</b>\n",
    "\n",
    "Let's start by creating a fuel rod geometry. We will make 10 zones in the z-direction which will allow us to make changes to each zone. Changes in temperature have to be made on the cell, so will make 10 cells in the axial direction. Changes in density have to be made on the material, so we will make 10  water materials. "
   ]
  },
  {
   "cell_type": "markdown",
   "metadata": {},
   "source": [
    "Materials: we will make a fuel, helium, zircaloy, and 10 water materials. "
   ]
  },
  {
   "cell_type": "code",
   "execution_count": 2,
   "metadata": {},
   "outputs": [],
   "source": [
    "material_list = []"
   ]
  },
  {
   "cell_type": "code",
   "execution_count": 3,
   "metadata": {},
   "outputs": [],
   "source": [
    "uo2 = openmc.Material(material_id=1, name='UO2 fuel at 2.4% wt enrichment')\n",
    "uo2.set_density('g/cm3', 10.29769)\n",
    "uo2.add_element('U', 1., enrichment=2.4)\n",
    "uo2.add_element('O', 2.)\n",
    "material_list.append(uo2)\n",
    "\n",
    "helium = openmc.Material(material_id=2, name='Helium for gap') #gap\n",
    "helium.set_density('g/cm3', 0.001598)\n",
    "helium.add_element('He', 2.4044e-4)\n",
    "material_list.append(helium)\n",
    "\n",
    "zircaloy = openmc.Material(material_id=3, name='Zircaloy 4')\n",
    "zircaloy.set_density('g/cm3', 6.55)\n",
    "zircaloy.add_element('Sn', 0.014  , 'wo')\n",
    "zircaloy.add_element('Fe', 0.00165, 'wo')\n",
    "zircaloy.add_element('Cr', 0.001  , 'wo')\n",
    "zircaloy.add_element('Zr', 0.98335, 'wo')\n",
    "material_list.append(zircaloy)\n",
    "\n",
    "for i in range(10):\n",
    "\twater = openmc.Material(material_id=4+i)\n",
    "\twater.set_density('g/cm3', 0.7)\n",
    "\twater.add_element('H', 2.0)\n",
    "\twater.add_element('O', 1.0)\n",
    "\twater.add_s_alpha_beta('c_H_in_H2O')\n",
    "\tmaterial_list.append(water)\n",
    "    \n",
    "materials_file = openmc.Materials(material_list)\n",
    "materials_file.export_to_xml()"
   ]
  },
  {
   "cell_type": "markdown",
   "metadata": {},
   "source": [
    "Cells: we will make a fuel cylinder, a gap cylinder, a cladding cylinder, and a water exterior. Each one will be broken into 10 cells which are the 10 axial zones. The z_list is the list of axial positions that delimit those 10 zones. To keep track of all the cells, we will create lists: fuel_list, gap_list, clad_list, and water_list. "
   ]
  },
  {
   "cell_type": "code",
   "execution_count": 4,
   "metadata": {},
   "outputs": [],
   "source": [
    "fuel_or = openmc.ZCylinder(x0=0, y0=0, r=0.39218)\n",
    "clad_ir = openmc.ZCylinder(x0=0, y0=0, r=0.40005)\n",
    "clad_or = openmc.ZCylinder(x0=0, y0=0, r=0.4572)\n",
    "left = openmc.XPlane(x0=-1.25984/2)\n",
    "right = openmc.XPlane(x0=1.25984/2)\n",
    "back = openmc.YPlane(y0=-1.25984/2)\n",
    "front = openmc.YPlane(y0=1.25984/2)\n",
    "z = [0., 30., 60., 90., 120., 150., 180., 210., 240., 270., 300.]\n",
    "z_list = []\n",
    "for i in range(len(z)):\n",
    "\tz_list.append(openmc.ZPlane(z0=z[i]))"
   ]
  },
  {
   "cell_type": "code",
   "execution_count": 5,
   "metadata": {},
   "outputs": [],
   "source": [
    "left.boundary_type = 'reflective'\n",
    "right.boundary_type = 'reflective'\n",
    "front.boundary_type = 'reflective'\n",
    "back.boundary_type = 'reflective'\n",
    "z_list[0].boundary_type = 'vacuum'\n",
    "z_list[-1].boundary_type = 'vacuum'"
   ]
  },
  {
   "cell_type": "code",
   "execution_count": 6,
   "metadata": {},
   "outputs": [],
   "source": [
    "fuel_list = []\n",
    "gap_list = []\n",
    "clad_list = []\n",
    "water_list = []\n",
    "for i in range(10):\n",
    "\tfuel_list.append(openmc.Cell())\n",
    "\tgap_list.append(openmc.Cell())\n",
    "\tclad_list.append(openmc.Cell())\n",
    "\twater_list.append(openmc.Cell())\n",
    "    \n",
    "j = 0\n",
    "for fuels in fuel_list:\n",
    "\tfuels.region = -fuel_or & +z_list[j] & -z_list[j+1]\n",
    "\tfuels.fill = uo2\n",
    "\tfuels.temperature = 900.\n",
    "\tj += 1\n",
    "j = 0\n",
    "for gaps in gap_list:\n",
    "\tgaps.region = +fuel_or & -clad_ir & +z_list[j] & -z_list[j+1]\n",
    "\tgaps.fill = helium\n",
    "\tgaps.temperature = 566.\n",
    "\tj += 1\n",
    "j = 0\n",
    "for clads in clad_list:\n",
    "\tclads.region = +clad_ir & -clad_or & +z_list[j] & -z_list[j+1]\n",
    "\tclads.fill = zircaloy\n",
    "\tclads.temperature = 566.\n",
    "\tj += 1\n",
    "j = 0\n",
    "for waters in water_list:\n",
    "\twaters.region = +clad_or & +left & -right & +back & -front & +z_list[j] & -z_list[j+1]\n",
    "\twaters.fill = material_list[j+3]\n",
    "\twater.temperature = 566.\n",
    "\tj += 1"
   ]
  },
  {
   "cell_type": "code",
   "execution_count": 7,
   "metadata": {},
   "outputs": [],
   "source": [
    "root = openmc.Universe(universe_id=0, name='root universe')\n",
    "root.add_cells(fuel_list)\n",
    "root.add_cells(gap_list)\n",
    "root.add_cells(clad_list)\n",
    "root.add_cells(water_list)\n",
    "geometry_file = openmc.Geometry(root)\n",
    "geometry_file.export_to_xml()"
   ]
  },
  {
   "cell_type": "markdown",
   "metadata": {},
   "source": [
    "If you are coupling this externally to a heat transfer solver, you will want to know the heat deposited by each fuel cell. So let's create a cell filter for the recoverable fission heat. "
   ]
  },
  {
   "cell_type": "code",
   "execution_count": 8,
   "metadata": {},
   "outputs": [],
   "source": [
    "cell_filter = openmc.CellFilter(fuel_list)\n",
    "t = openmc.Tally(tally_id=1)\n",
    "t.filters.append(cell_filter)\n",
    "t.scores = ['fission-q-recoverable']\n",
    "tallies = openmc.Tallies([t])\n",
    "tallies.export_to_xml()"
   ]
  },
  {
   "cell_type": "markdown",
   "metadata": {},
   "source": [
    "Let's plot our geometry to make sure it looks like we expect. Since we made new water materials in each axial cell, and we have centered the plot at 150, we should see one color for the water material in the bottom half and a different color for the water material in the top half. "
   ]
  },
  {
   "cell_type": "code",
   "execution_count": 19,
   "metadata": {},
   "outputs": [
    {
     "data": {
      "text/plain": [
       "<matplotlib.image.AxesImage at 0x126d642e0>"
      ]
     },
     "execution_count": 19,
     "metadata": {},
     "output_type": "execute_result"
    },
    {
     "data": {
      "image/png": "[encoded data removed]",
      "text/plain": [
       "<Figure size 432x288 with 1 Axes>"
      ]
     },
     "metadata": {
      "needs_background": "light"
     },
     "output_type": "display_data"
    }
   ],
   "source": [
    "root.plot(basis = 'yz', width = [2, 10], color_by = 'material', origin = [0., 0., 150.], pixels = [400, 400])"
   ]
  },
  {
   "cell_type": "markdown",
   "metadata": {},
   "source": [
    "Settings: everything will be standard excpet for the temperature settings. Since we will be working with specified temperatures, you will need temperature dependent data. I typically use the endf data found here: https://openmc.org/official-data-libraries/\n",
    "Make sure your cross sections environment variable is pointing to temperature-dependent data before using the following settings."
   ]
  },
  {
   "cell_type": "code",
   "execution_count": 9,
   "metadata": {},
   "outputs": [],
   "source": [
    "lower_left = [-0.62992, -1.25984/2, 0]\n",
    "upper_right = [+0.62992, +1.25984/2, +365.76]\n",
    "uniform_dist = openmc.stats.Box(lower_left, upper_right, only_fissionable=True)\n",
    "\n",
    "settings_file = openmc.Settings()\n",
    "settings_file.batches = 100\n",
    "settings_file.inactive = 10\n",
    "settings_file.particles = 200\n",
    "settings_file.temperature = {'multipole': True, 'method': 'interpolation', 'range': [290,2500]}\n",
    "settings_file.source = openmc.source.Source(space=uniform_dist)\n",
    "settings_file.export_to_xml()"
   ]
  },
  {
   "cell_type": "markdown",
   "metadata": {},
   "source": [
    "To run a regular simulation, just use openmc.run(). \n",
    "However, we want to run a simulation that we can stop in the middle and update the material and cell properties. So we will use openmc.lib."
   ]
  },
  {
   "cell_type": "code",
   "execution_count": 10,
   "metadata": {},
   "outputs": [],
   "source": [
    "openmc.lib.init()\n",
    "openmc.lib.simulation_init()"
   ]
  },
  {
   "cell_type": "markdown",
   "metadata": {},
   "source": [
    "There are 10 inactive batches, so we need to run next_batch() at least 10 times before the tally is activated. "
   ]
  },
  {
   "cell_type": "code",
   "execution_count": 11,
   "metadata": {},
   "outputs": [
    {
     "data": {
      "text/plain": [
       "0"
      ]
     },
     "execution_count": 11,
     "metadata": {},
     "output_type": "execute_result"
    }
   ],
   "source": [
    "openmc.lib.next_batch()\n",
    "openmc.lib.next_batch()\n",
    "openmc.lib.next_batch()\n",
    "openmc.lib.next_batch()\n",
    "openmc.lib.next_batch()\n",
    "openmc.lib.next_batch()\n",
    "openmc.lib.next_batch()\n",
    "openmc.lib.next_batch()\n",
    "openmc.lib.next_batch()\n",
    "openmc.lib.next_batch()\n",
    "openmc.lib.next_batch()\n",
    "openmc.lib.next_batch()\n",
    "openmc.lib.next_batch()\n",
    "openmc.lib.next_batch()"
   ]
  },
  {
   "cell_type": "markdown",
   "metadata": {},
   "source": [
    "Let's take a look at the tally. There are 10 entries, one for each cell in the fuel."
   ]
  },
  {
   "cell_type": "code",
   "execution_count": 12,
   "metadata": {},
   "outputs": [
    {
     "name": "stdout",
     "output_type": "stream",
     "text": [
      "[[ 7055776.55287918]\n",
      " [17094863.33665218]\n",
      " [11506453.28737884]\n",
      " [ 7928487.37318672]\n",
      " [ 6207272.97538636]\n",
      " [10543201.56141501]\n",
      " [14835050.99568053]\n",
      " [12634499.4021036 ]\n",
      " [ 8157771.53337996]\n",
      " [  889335.96828464]]\n"
     ]
    }
   ],
   "source": [
    "t = openmc.lib.tallies[1]\n",
    "print(t.mean)"
   ]
  },
  {
   "cell_type": "markdown",
   "metadata": {},
   "source": [
    "Now, let's make some changes to the temperatures. For this, we need to identify each cell by its index in the list of cells given to the geometry. We can use get_temperature() to compare the temperatures of the cells before and after the change. "
   ]
  },
  {
   "cell_type": "code",
   "execution_count": 13,
   "metadata": {},
   "outputs": [
    {
     "name": "stdout",
     "output_type": "stream",
     "text": [
      "fuel temperature is: \n",
      "566.0\n"
     ]
    }
   ],
   "source": [
    "print(\"fuel temperature is: \")\n",
    "print(openmc.lib.Cell(new=False, index=5).get_temperature())"
   ]
  },
  {
   "cell_type": "code",
   "execution_count": 14,
   "metadata": {},
   "outputs": [],
   "source": [
    "for i in range(10):\n",
    "    temp = 900.0\n",
    "    openmc.lib.Cell(new=False, index=i).set_temperature(temp)"
   ]
  },
  {
   "cell_type": "code",
   "execution_count": 15,
   "metadata": {},
   "outputs": [
    {
     "name": "stdout",
     "output_type": "stream",
     "text": [
      "fuel temperature is: \n",
      "899.9999999999999\n"
     ]
    }
   ],
   "source": [
    "print(\"fuel temperature is: \")\n",
    "print(openmc.lib.Cell(new=False, index=5).get_temperature())"
   ]
  },
  {
   "cell_type": "markdown",
   "metadata": {},
   "source": [
    "Let's make a similar change for the water density. For this, we need to identify each material by its index in the list of materials given to openmc. "
   ]
  },
  {
   "cell_type": "code",
   "execution_count": 16,
   "metadata": {},
   "outputs": [],
   "source": [
    "for i in range(10):\n",
    "\tdensity = 0.65\n",
    "\topenmc.lib.Material(new=False, index=3+i).set_density(density, units='g/cm3')"
   ]
  },
  {
   "cell_type": "markdown",
   "metadata": {},
   "source": [
    "The new batches we run will use the new material and cell properties."
   ]
  },
  {
   "cell_type": "code",
   "execution_count": 17,
   "metadata": {},
   "outputs": [
    {
     "data": {
      "text/plain": [
       "0"
      ]
     },
     "execution_count": 17,
     "metadata": {},
     "output_type": "execute_result"
    }
   ],
   "source": [
    "openmc.lib.next_batch()\n",
    "openmc.lib.next_batch()\n",
    "openmc.lib.next_batch()\n",
    "openmc.lib.next_batch()\n",
    "openmc.lib.next_batch()\n",
    "openmc.lib.next_batch()\n",
    "openmc.lib.next_batch()\n",
    "openmc.lib.next_batch()\n",
    "openmc.lib.next_batch()\n",
    "openmc.lib.next_batch()\n",
    "openmc.lib.next_batch()\n",
    "openmc.lib.next_batch()\n",
    "openmc.lib.next_batch()\n",
    "openmc.lib.next_batch()"
   ]
  },
  {
   "cell_type": "markdown",
   "metadata": {},
   "source": [
    "When you're ready to end the simulation, use the following:"
   ]
  },
  {
   "cell_type": "code",
   "execution_count": 18,
   "metadata": {},
   "outputs": [],
   "source": [
    "openmc.lib.simulation_finalize()\n",
    "openmc.lib.finalize()"
   ]
  }
 ],
 "metadata": {
  "kernelspec": {
   "display_name": "Python 3",
   "language": "python",
   "name": "python3"
  },
  "language_info": {
   "codemirror_mode": {
    "name": "ipython",
    "version": 3
   },
   "file_extension": ".py",
   "mimetype": "text/x-python",
   "name": "python",
   "nbconvert_exporter": "python",
   "pygments_lexer": "ipython3",
   "version": "3.9.0"
  }
 },
 "nbformat": 4,
 "nbformat_minor": 4
}
