{
 "cells": [
  {
   "cell_type": "markdown",
   "metadata": {},
   "source": [
    "This Notebook illustrates the usage of OpenMC's multi-group calculational mode with the Python API. This example notebook creates and executes the 2-D [C5G7](https://www.oecd-nea.org/science/docs/2003/nsc-doc2003-16.pdf) benchmark model using the `openmc.MGXSLibrary`class to create the supporting data library on the fly."
   ]
  },
  {
   "cell_type": "markdown",
   "metadata": {},
   "source": [
    "# Generate MGXS Library"
   ]
  },
  {
   "cell_type": "code",
   "execution_count": 1,
   "metadata": {
    "collapsed": true
   },
   "outputs": [],
   "source": [
    "import os\n",
    "\n",
    "from IPython.display import Image\n",
    "import matplotlib.pyplot as plt\n",
    "import matplotlib.colors as colors\n",
    "import numpy as np\n",
    "\n",
    "import openmc\n",
    "\n",
    "%matplotlib inline"
   ]
  },
  {
   "cell_type": "markdown",
   "metadata": {},
   "source": [
    "We will now create the multi-group library using data directly from Appendix A of the C5G7 benchmark documentation. All of the data below will be created at 294K, consistent with the benchmark.\n",
    "\n",
    "This notebook will first begin by setting the group structure and building the data for UO2.\n",
    "\n",
    "*Note*: Most users familiar with deterministic transport libraries are already familiar with the idea of entering one scattering matrix for every order (i.e. scattering order as the outer dimension). However, the shape of OpenMC's scattering matrix entry is instead [Incoming groups, Outgoing Groups, Scattering Order] to best enable other scattering representations. We will follow the more familiar approach in this notebook, and then use numpy's `numpy.rollaxis` function to change the ordering to what we need (scattering order on the inner dimension).\n"
   ]
  },
  {
   "cell_type": "code",
   "execution_count": 2,
   "metadata": {
    "collapsed": false
   },
   "outputs": [],
   "source": [
    "# Create a 7-group structure with arbitrary boundaries (the specific boundaries are unimportant)\n",
    "groups = openmc.mgxs.EnergyGroups(np.logspace(-5, 7, 8))\n",
    "\n",
    "# Add data for the UO2 material\n",
    "uo2_xsdata = openmc.XSdata('uo2', groups)\n",
    "uo2_xsdata.order = 0\n",
    "# When setting the data let the object know you are setting the data for a temperature of 294K.\n",
    "uo2_xsdata.set_total([1.779490E-01, 3.298050E-01, 4.803880E-01, 5.543670E-01,\n",
    "                      3.118010E-01, 3.951680E-01, 5.644060E-01], temperature=294.)\n",
    "\n",
    "uo2_xsdata.set_absorption([8.02480E-03, 3.71740E-03, 2.67690E-02, 9.62360E-02,\n",
    "                           3.00200E-02, 1.11260E-01, 2.82780E-01], temperature=294.)\n",
    "\n",
    "# The scattering matrix is ordered with incoming groups as rows and outgoing groups as columns\n",
    "# (i.e., above the diagonal is up-scattering).\n",
    "scatter_matrix = \\\n",
    "    [[[1.275370E-01, 4.237800E-02, 9.437400E-06, 5.516300E-09, 0.000000E-00, 0.000000E-00, 0.000000E-00],\n",
    "      [0.000000E-00, 3.244560E-01, 1.631400E-03, 3.142700E-09, 0.000000E-00, 0.000000E-00, 0.000000E-00],\n",
    "      [0.000000E-00, 0.000000E-00, 4.509400E-01, 2.679200E-03, 0.000000E-00, 0.000000E-00, 0.000000E-00],\n",
    "      [0.000000E-00, 0.000000E-00, 0.000000E-00, 4.525650E-01, 5.566400E-03, 0.000000E-00, 0.000000E-00],\n",
    "      [0.000000E-00, 0.000000E-00, 0.000000E-00, 1.252500E-04, 2.714010E-01, 1.025500E-02, 1.002100E-08],\n",
    "      [0.000000E-00, 0.000000E-00, 0.000000E-00, 0.000000E-00, 1.296800E-03, 2.658020E-01, 1.680900E-02],\n",
    "      [0.000000E-00, 0.000000E-00, 0.000000E-00, 0.000000E-00, 0.000000E-00, 8.545800E-03, 2.730800E-01]]]\n",
    "scatter_matrix = np.array(scatter_matrix)\n",
    "scatter_matrix = np.rollaxis(scatter_matrix, 0, 3)\n",
    "uo2_xsdata.set_scatter_matrix(scatter_matrix, temperature=294.)\n",
    "\n",
    "uo2_xsdata.set_fission([7.212060E-03, 8.193010E-04, 6.453200E-03, 1.856480E-02,\n",
    "                        1.780840E-02, 8.303480E-02, 2.160040E-01], temperature=294.)\n",
    "\n",
    "uo2_xsdata.set_nu_fission([2.005998E-02, 2.027303E-03, 1.570599E-02, 4.518301E-02,\n",
    "                           4.334208E-02, 2.020901E-01, 5.257105E-01], temperature=294.)\n",
    "\n",
    "uo2_xsdata.set_chi([5.87910E-01, 4.11760E-01, 3.39060E-04, 1.17610E-07,\n",
    "                    0.000000E-00, 0.000000E-00, 0.000000E-00], temperature=294.)"
   ]
  },
  {
   "cell_type": "markdown",
   "metadata": {},
   "source": [
    "Now that the UO2 data has been added to the library, we can move on to the remaining materials using the same process. This time, we will be slightly less verbose: 294K is actually the default temperature and so we do not need to explicitly state it as such."
   ]
  },
  {
   "cell_type": "code",
   "execution_count": 3,
   "metadata": {
    "collapsed": false
   },
   "outputs": [],
   "source": [
    "mox43_xsdata = openmc.XSdata('mox43', groups)\n",
    "mox43_xsdata.order = 0\n",
    "mox43_xsdata.set_total([1.787310E-01, 3.308490E-01, 4.837720E-01, 5.669220E-01,\n",
    "                        4.262270E-01, 6.789970E-01, 6.828520E-01])\n",
    "mox43_xsdata.set_absorption([8.43390E-03, 3.75770E-03, 2.79700E-02, 1.04210E-01,\n",
    "                             1.39940E-01, 4.09180E-01, 4.09350E-01])\n",
    "scatter_matrix = \\\n",
    "    [[[1.288760E-01, 4.141300E-02, 8.229000E-06, 5.040500E-09, 0.000000E-00, 0.000000E-00, 0.000000E-00],\n",
    "      [0.000000E-00, 3.254520E-01, 1.639500E-03, 1.598200E-09, 0.000000E-00, 0.000000E-00, 0.000000E-00],\n",
    "      [0.000000E-00, 0.000000E-00, 4.531880E-01, 2.614200E-03, 0.000000E-00, 0.000000E-00, 0.000000E-00],\n",
    "      [0.000000E-00, 0.000000E-00, 0.000000E-00, 4.571730E-01, 5.539400E-03, 0.000000E-00, 0.000000E-00],\n",
    "      [0.000000E-00, 0.000000E-00, 0.000000E-00, 1.604600E-04, 2.768140E-01, 9.312700E-03, 9.165600E-09],\n",
    "      [0.000000E-00, 0.000000E-00, 0.000000E-00, 0.000000E-00, 2.005100E-03, 2.529620E-01, 1.485000E-02],\n",
    "      [0.000000E-00, 0.000000E-00, 0.000000E-00, 0.000000E-00, 0.000000E-00, 8.494800E-03, 2.650070E-01]]]\n",
    "scatter_matrix = np.array(scatter_matrix)\n",
    "scatter_matrix = np.rollaxis(scatter_matrix, 0, 3)\n",
    "mox43_xsdata.set_scatter_matrix(scatter_matrix)\n",
    "mox43_xsdata.set_fission([7.62704E-03, 8.76898E-04, 5.69835E-03, 2.28872E-02,\n",
    "                          1.07635E-02, 2.32757E-01, 2.48968E-01])\n",
    "mox43_xsdata.set_nu_fission([2.175300E-02, 2.535103E-03, 1.626799E-02, 6.547410E-02,\n",
    "                             3.072409E-02, 6.666510E-01, 7.139904E-01])\n",
    "mox43_xsdata.set_chi([5.87910E-01, 4.11760E-01, 3.39060E-04, 1.17610E-07,\n",
    "                      0.000000E-00, 0.000000E-00, 0.000000E-00])\n",
    "\n",
    "mox7_xsdata = openmc.XSdata('mox7', groups)\n",
    "mox7_xsdata.order = 0\n",
    "mox7_xsdata.set_total([1.813230E-01, 3.343680E-01, 4.937850E-01, 5.912160E-01,\n",
    "                       4.741980E-01, 8.336010E-01, 8.536030E-01])\n",
    "mox7_xsdata.set_absorption([9.06570E-03, 4.29670E-03, 3.28810E-02, 1.22030E-01,\n",
    "                            1.82980E-01, 5.68460E-01, 5.85210E-01])\n",
    "scatter_matrix = \\\n",
    "    [[[1.304570E-01, 4.179200E-02, 8.510500E-06, 5.132900E-09, 0.000000E-00, 0.000000E-00, 0.000000E-00],\n",
    "      [0.000000E-00, 3.284280E-01, 1.643600E-03, 2.201700E-09, 0.000000E-00, 0.000000E-00, 0.000000E-00],\n",
    "      [0.000000E-00, 0.000000E-00, 4.583710E-01, 2.533100E-03, 0.000000E-00, 0.000000E-00, 0.000000E-00],\n",
    "      [0.000000E-00, 0.000000E-00, 0.000000E-00, 4.637090E-01, 5.476600E-03, 0.000000E-00, 0.000000E-00],\n",
    "      [0.000000E-00, 0.000000E-00, 0.000000E-00, 1.761900E-04, 2.823130E-01, 8.728900E-03, 9.001600E-09],\n",
    "      [0.000000E-00, 0.000000E-00, 0.000000E-00, 0.000000E-00, 2.276000E-03, 2.497510E-01, 1.311400E-02],\n",
    "      [0.000000E-00, 0.000000E-00, 0.000000E-00, 0.000000E-00, 0.000000E-00, 8.864500E-03, 2.595290E-01]]]\n",
    "scatter_matrix = np.array(scatter_matrix)\n",
    "scatter_matrix = np.rollaxis(scatter_matrix, 0, 3)\n",
    "mox7_xsdata.set_scatter_matrix(scatter_matrix)\n",
    "mox7_xsdata.set_fission([8.25446E-03, 1.32565E-03, 8.42156E-03, 3.28730E-02,\n",
    "                         1.59636E-02, 3.23794E-01, 3.62803E-01])\n",
    "mox7_xsdata.set_nu_fission([2.381395E-02, 3.858689E-03, 2.413400E-02, 9.436622E-02,\n",
    "                            4.576988E-02, 9.281814E-01, 1.043200E+00])\n",
    "mox7_xsdata.set_chi([5.87910E-01, 4.11760E-01, 3.39060E-04, 1.17610E-07,\n",
    "                     0.000000E-00, 0.000000E-00, 0.000000E-00])\n",
    "\n",
    "mox87_xsdata = openmc.XSdata('mox87', groups)\n",
    "mox87_xsdata.order = 0\n",
    "mox87_xsdata.set_total([1.830450E-01, 3.367050E-01, 5.005070E-01, 6.061740E-01,\n",
    "                        5.027540E-01, 9.210280E-01, 9.552310E-01])\n",
    "mox87_xsdata.set_absorption([9.48620E-03, 4.65560E-03, 3.62400E-02, 1.32720E-01,\n",
    "                             2.08400E-01, 6.58700E-01, 6.90170E-01])\n",
    "scatter_matrix = \\\n",
    "    [[[1.315040E-01, 4.204600E-02, 8.697200E-06, 5.193800E-09, 0.000000E-00, 0.000000E-00, 0.000000E-00],\n",
    "      [0.000000E-00, 3.304030E-01, 1.646300E-03, 2.600600E-09, 0.000000E-00, 0.000000E-00, 0.000000E-00],\n",
    "      [0.000000E-00, 0.000000E-00, 4.617920E-01, 2.474900E-03, 0.000000E-00, 0.000000E-00, 0.000000E-00],\n",
    "      [0.000000E-00, 0.000000E-00, 0.000000E-00, 4.680210E-01, 5.433000E-03, 0.000000E-00, 0.000000E-00],\n",
    "      [0.000000E-00, 0.000000E-00, 0.000000E-00, 1.859700E-04, 2.857710E-01, 8.397300E-03, 8.928000E-09],\n",
    "      [0.000000E-00, 0.000000E-00, 0.000000E-00, 0.000000E-00, 2.391600E-03, 2.476140E-01, 1.232200E-02],\n",
    "      [0.000000E-00, 0.000000E-00, 0.000000E-00, 0.000000E-00, 0.000000E-00, 8.968100E-03, 2.560930E-01]]]\n",
    "scatter_matrix = np.array(scatter_matrix)\n",
    "scatter_matrix = np.rollaxis(scatter_matrix, 0, 3)\n",
    "mox87_xsdata.set_scatter_matrix(scatter_matrix)\n",
    "mox87_xsdata.set_fission([8.67209E-03, 1.62426E-03, 1.02716E-02, 3.90447E-02,\n",
    "                          1.92576E-02, 3.74888E-01, 4.30599E-01])\n",
    "mox87_xsdata.set_nu_fission([2.518600E-02, 4.739509E-03, 2.947805E-02, 1.122500E-01,\n",
    "                             5.530301E-02, 1.074999E+00, 1.239298E+00])\n",
    "mox87_xsdata.set_chi([5.87910E-01, 4.11760E-01, 3.39060E-04, 1.17610E-07,\n",
    "                      0.000000E-00, 0.000000E-00, 0.000000E-00])\n",
    "\n",
    "fiss_chamber_xsdata = openmc.XSdata('fiss_chamber', groups)\n",
    "fiss_chamber_xsdata.order = 0\n",
    "fiss_chamber_xsdata.set_total([1.260320E-01, 2.931600E-01, 2.842500E-01, 2.810200E-01,\n",
    "                               3.344600E-01, 5.656400E-01, 1.172140E+00])\n",
    "fiss_chamber_xsdata.set_absorption([5.11320E-04, 7.58130E-05, 3.16430E-04, 1.16750E-03,\n",
    "                                    3.39770E-03, 9.18860E-03, 2.32440E-02])\n",
    "scatter_matrix = \\\n",
    "    [[[6.616590E-02, 5.907000E-02, 2.833400E-04, 1.462200E-06, 2.064200E-08, 0.000000E-00, 0.000000E-00],\n",
    "      [0.000000E-00, 2.403770E-01, 5.243500E-02, 2.499000E-04, 1.923900E-05, 2.987500E-06, 4.214000E-07],\n",
    "      [0.000000E-00, 0.000000E-00, 1.834250E-01, 9.228800E-02, 6.936500E-03, 1.079000E-03, 2.054300E-04],\n",
    "      [0.000000E-00, 0.000000E-00, 0.000000E-00, 7.907690E-02, 1.699900E-01, 2.586000E-02, 4.925600E-03],\n",
    "      [0.000000E-00, 0.000000E-00, 0.000000E-00, 3.734000E-05, 9.975700E-02, 2.067900E-01, 2.447800E-02],\n",
    "      [0.000000E-00, 0.000000E-00, 0.000000E-00, 0.000000E-00, 9.174200E-04, 3.167740E-01, 2.387600E-01],\n",
    "      [0.000000E-00, 0.000000E-00, 0.000000E-00, 0.000000E-00, 0.000000E-00, 4.979300E-02, 1.09910E+00]]]\n",
    "scatter_matrix = np.array(scatter_matrix)\n",
    "scatter_matrix = np.rollaxis(scatter_matrix, 0, 3)\n",
    "fiss_chamber_xsdata.set_scatter_matrix(scatter_matrix)\n",
    "fiss_chamber_xsdata.set_fission([4.79002E-09, 5.82564E-09, 4.63719E-07, 5.24406E-06,\n",
    "                                 1.45390E-07, 7.14972E-07, 2.08041E-06])\n",
    "fiss_chamber_xsdata.set_nu_fission([1.323401E-08, 1.434500E-08, 1.128599E-06, 1.276299E-05,\n",
    "                                    3.538502E-07, 1.740099E-06, 5.063302E-06])\n",
    "fiss_chamber_xsdata.set_chi([5.87910E-01, 4.11760E-01, 3.39060E-04, 1.17610E-07,\n",
    "                             0.000000E-00, 0.000000E-00, 0.000000E-00])\n",
    "\n",
    "guide_tube_xsdata = openmc.XSdata('guide_tube', groups)\n",
    "guide_tube_xsdata.order = 0\n",
    "guide_tube_xsdata.set_total([1.260320E-01, 2.931600E-01, 2.842400E-01, 2.809600E-01,\n",
    "                             3.344400E-01, 5.656400E-01, 1.172150E+00])\n",
    "guide_tube_xsdata.set_absorption([5.11320E-04, 7.58010E-05, 3.15720E-04, 1.15820E-03,\n",
    "                                  3.39750E-03, 9.18780E-03, 2.32420E-02])\n",
    "scatter_matrix = \\\n",
    "    [[[6.616590E-02, 5.907000E-02, 2.833400E-04, 1.462200E-06, 2.064200E-08, 0.000000E-00, 0.000000E-00],\n",
    "      [0.000000E-00, 2.403770E-01, 5.243500E-02, 2.499000E-04, 1.923900E-05, 2.987500E-06, 4.214000E-07],\n",
    "      [0.000000E-00, 0.000000E-00, 1.832970E-01, 9.239700E-02, 6.944600E-03, 1.080300E-03, 2.056700E-04],\n",
    "      [0.000000E-00, 0.000000E-00, 0.000000E-00, 7.885110E-02, 1.701400E-01, 2.588100E-02, 4.929700E-03],\n",
    "      [0.000000E-00, 0.000000E-00, 0.000000E-00, 3.733300E-05, 9.973720E-02, 2.067900E-01, 2.447800E-02],\n",
    "      [0.000000E-00, 0.000000E-00, 0.000000E-00, 0.000000E-00, 9.172600E-04, 3.167650E-01, 2.387700E-01],\n",
    "      [0.000000E-00, 0.000000E-00, 0.000000E-00, 0.000000E-00, 0.000000E-00, 4.979200E-02, 1.099120E+00]]]\n",
    "scatter_matrix = np.array(scatter_matrix)\n",
    "scatter_matrix = np.rollaxis(scatter_matrix, 0, 3)\n",
    "guide_tube_xsdata.set_scatter_matrix(scatter_matrix)\n",
    "\n",
    "water_xsdata = openmc.XSdata('water', groups)\n",
    "water_xsdata.order = 0\n",
    "water_xsdata.set_total([1.592060E-01, 4.129700E-01, 5.903100E-01, 5.843500E-01,\n",
    "                        7.180000E-01, 1.254450E+00, 2.650380E+00])\n",
    "water_xsdata.set_absorption([6.01050E-04, 1.57930E-05, 3.37160E-04, 1.94060E-03,\n",
    "                             5.74160E-03, 1.50010E-02, 3.72390E-02])\n",
    "scatter_matrix = \\\n",
    "    [[[4.447770E-02, 1.134000E-01, 7.234700E-04, 3.749900E-06, 5.318400E-08, 0.000000E-00, 0.000000E-00],\n",
    "      [0.000000E-00, 2.823340E-01, 1.299400E-01, 6.234000E-04, 4.800200E-05, 7.448600E-06, 1.045500E-06],\n",
    "      [0.000000E-00, 0.000000E-00, 3.452560E-01, 2.245700E-01, 1.699900E-02, 2.644300E-03, 5.034400E-04],\n",
    "      [0.000000E-00, 0.000000E-00, 0.000000E-00, 9.102840E-02, 4.155100E-01, 6.373200E-02, 1.213900E-02],\n",
    "      [0.000000E-00, 0.000000E-00, 0.000000E-00, 7.143700E-05, 1.391380E-01, 5.118200E-01, 6.122900E-02],\n",
    "      [0.000000E-00, 0.000000E-00, 0.000000E-00, 0.000000E-00, 2.215700E-03, 6.999130E-01, 5.373200E-01],\n",
    "      [0.000000E-00, 0.000000E-00, 0.000000E-00, 0.000000E-00, 0.000000E-00, 1.324400E-01, 2.480700E+00]]]\n",
    "scatter_matrix = np.array(scatter_matrix)\n",
    "scatter_matrix = np.rollaxis(scatter_matrix, 0, 3)\n",
    "water_xsdata.set_scatter_matrix(scatter_matrix)"
   ]
  },
  {
   "cell_type": "markdown",
   "metadata": {},
   "source": [
    "So far we have not yet set the data for individual materials but have not yet combined them together into a library; we will do that next and then write that library to disk."
   ]
  },
  {
   "cell_type": "code",
   "execution_count": 4,
   "metadata": {
    "collapsed": false
   },
   "outputs": [],
   "source": [
    "mg_cross_sections_file = openmc.MGXSLibrary(groups)\n",
    "mg_cross_sections_file.add_xsdatas([uo2_xsdata, mox43_xsdata, mox7_xsdata, mox87_xsdata,\n",
    "                                    fiss_chamber_xsdata, guide_tube_xsdata, water_xsdata])\n",
    "\n",
    "# And finally, write the file to 'mgxs.h5' in the current directory so OpenMC can read it later\n",
    "mg_cross_sections_file.export_to_hdf5('./mgxs.h5')"
   ]
  },
  {
   "cell_type": "markdown",
   "metadata": {},
   "source": [
    "# Generate 2-D C5G7 Problem Input Files"
   ]
  },
  {
   "cell_type": "markdown",
   "metadata": {},
   "source": [
    "To build the actual 2-D model, we will first begin by creating the `materials.xml` file.\n",
    "\n",
    "First we need to define materials that will be used in the problem. In other notebooks, either `openmc.Nuclides` or `openmc.Elements` were created at the equivalent stage. We can do that in multi-group mode as well.  However, multi-group cross-sections are sometimes provided as macroscopic cross-sections; the C5G7 benchmark data are macroscopic. In this case, we can instead use `openmc.Macroscopic` objects to in-place of `openmc.Nuclides` or `openmc.Elements`.\n",
    "\n",
    "`openmc.Macroscopic`, unlike `openmc.Nuclides` and `openmc.Elements` objects, do not need to be provided enough information to calculate number densities, as no number densities are needed.\n",
    "\n",
    "When assigning `openmc.Macroscopic` objects to `openmc.Material` objects, the density can still be scaled by setting the density to a value that is not 1.0. This would be useful, for example, when slightly perturbing the density of water due to a small change in temperature (while of course ignoring any resultant spectral shift). The density of a macroscopic dataset is set to 1.0 in the `openmc.Material` object by default when an `openmc.Macroscopic` dataset is used; so we will show its use the first time and then afterwards it will not be required.\n",
    "\n",
    "Aside from these differences, the following code is very similar to similar code in other OpenMC example Notebooks."
   ]
  },
  {
   "cell_type": "code",
   "execution_count": 5,
   "metadata": {
    "collapsed": false
   },
   "outputs": [],
   "source": [
    "# Instantiate some Macroscopic Data using a name that is the same as that which was used in the\n",
    "# MGXS Library earlier\n",
    "uo2_data = openmc.Macroscopic('uo2')\n",
    "mox43_data = openmc.Macroscopic('mox43')\n",
    "mox7_data = openmc.Macroscopic('mox7')\n",
    "mox87_data = openmc.Macroscopic('mox87')\n",
    "fiss_chamber_data = openmc.Macroscopic('fiss_chamber')\n",
    "guide_tube_data = openmc.Macroscopic('guide_tube')\n",
    "water_data = openmc.Macroscopic('water')\n",
    "\n",
    "# Instantiate Materials dictionary\n",
    "materials = {}\n",
    "\n",
    "# Instantiate some Materials and register the appropriate Macroscopic objects\n",
    "materials['UO2'] = openmc.Material(name='UO2')\n",
    "materials['UO2'].set_density('macro', 1.0)\n",
    "materials['UO2'].add_macroscopic(uo2_data)\n",
    "\n",
    "materials['MOX 4.3%'] = openmc.Material(name='MOX 4.3%')\n",
    "materials['MOX 4.3%'].set_density('macro', 1.0)\n",
    "materials['MOX 4.3%'].add_macroscopic(mox43_data)\n",
    "\n",
    "materials['MOX 7.0%'] = openmc.Material(name='MOX 7.0%')\n",
    "materials['MOX 7.0%'].set_density('macro', 1.0)\n",
    "materials['MOX 7.0%'].add_macroscopic(mox7_data)\n",
    "\n",
    "materials['MOX 8.7%'] = openmc.Material(name='MOX 8.7%')\n",
    "materials['MOX 8.7%'].set_density('macro', 1.0)\n",
    "materials['MOX 8.7%'].add_macroscopic(mox87_data)\n",
    "\n",
    "materials['Fission Chamber'] = openmc.Material(name='Fission Chamber')\n",
    "materials['Fission Chamber'].add_macroscopic(fiss_chamber_data)\n",
    "\n",
    "materials['Guide Tube'] = openmc.Material(name='Guide Tube')\n",
    "materials['Guide Tube'].add_macroscopic(guide_tube_data)\n",
    "\n",
    "materials['Water'] = openmc.Material(name='Water')\n",
    "materials['Water'].add_macroscopic(water_data)"
   ]
  },
  {
   "cell_type": "markdown",
   "metadata": {},
   "source": [
    "Now we can go ahead and produce a `materials.xml` file for use by OpenMC"
   ]
  },
  {
   "cell_type": "code",
   "execution_count": 6,
   "metadata": {
    "collapsed": true
   },
   "outputs": [],
   "source": [
    "# Instantiate a Materials collection, register all Materials, and export to XML\n",
    "materials_file = openmc.Materials(materials.values())\n",
    "\n",
    "# Set the location of the cross sections file\n",
    "materials_file.cross_sections = './mgxs.h5'\n",
    "\n",
    "materials_file.export_to_xml()"
   ]
  },
  {
   "cell_type": "markdown",
   "metadata": {},
   "source": [
    "Our next step will be to create the geometry information needed for our assembly and to write that to the `geometry.xml` file.\n",
    "\n",
    "We will begin by defining the surfaces, cells, and universes needed for each of the individual fuel pins, guide tubes, and fission chambers."
   ]
  },
  {
   "cell_type": "code",
   "execution_count": 7,
   "metadata": {
    "collapsed": true
   },
   "outputs": [],
   "source": [
    "# Create the surface used for each pin\n",
    "pin_surf = openmc.ZCylinder(surface_id=1, x0=0, y0=0, R=0.54, name='pin_surf')\n",
    "\n",
    "# Create the cells which will be used to represent each `pin` type.\n",
    "cells = {}\n",
    "cells['UO2'] = openmc.Cell(name='UO2')\n",
    "cells['MOX 4.3%'] = openmc.Cell(name='MOX 4.3%')\n",
    "cells['MOX 7.0%'] = openmc.Cell(name='MOX 7.0%')\n",
    "cells['MOX 8.7%'] = openmc.Cell(name='MOX 8.7%')\n",
    "cells['Fission Chamber'] = openmc.Cell(name='Fission Chamber')\n",
    "cells['Guide Tube'] = openmc.Cell(name='Guide Tube')\n",
    "cells['Reflector'] = openmc.Cell(name='Reflector')\n",
    "cells['UO2 Moderator'] = openmc.Cell(name='UO2 Moderator')\n",
    "cells['MOX 4.3% Moderator'] = openmc.Cell(name='MOX 4.3% Moderator')\n",
    "cells['MOX 7.0% Moderator'] = openmc.Cell(name='MOX 7.0% Moderator')\n",
    "cells['MOX 8.7% Moderator'] = openmc.Cell(name='MOX 8.7% Moderator')\n",
    "cells['Fission Chamber Moderator'] = openmc.Cell(name='Fission Chamber Moderator')\n",
    "cells['Guide Tube Moderator'] = openmc.Cell(name='Guide Tube Moderator')\n",
    "\n",
    "# Use surface half-spaces to define regions.\n",
    "cells['UO2'].region = -pin_surf\n",
    "cells['MOX 4.3%'].region = -pin_surf\n",
    "cells['MOX 7.0%'].region = -pin_surf\n",
    "cells['MOX 8.7%'].region = -pin_surf\n",
    "cells['Fission Chamber'].region = -pin_surf\n",
    "cells['Guide Tube'].region = -pin_surf\n",
    "cells['UO2 Moderator'].region = +pin_surf\n",
    "cells['MOX 4.3% Moderator'].region = +pin_surf\n",
    "cells['MOX 7.0% Moderator'].region = +pin_surf\n",
    "cells['MOX 8.7% Moderator'].region = +pin_surf\n",
    "cells['Fission Chamber Moderator'].region = +pin_surf\n",
    "cells['Guide Tube Moderator'].region = +pin_surf\n",
    "\n",
    "# Register Materials with Cells\n",
    "cells['UO2'].fill = materials['UO2']\n",
    "cells['MOX 4.3%'].fill = materials['MOX 4.3%']\n",
    "cells['MOX 7.0%'].fill = materials['MOX 7.0%']\n",
    "cells['MOX 8.7%'].fill = materials['MOX 8.7%']\n",
    "cells['Fission Chamber'].fill = materials['Fission Chamber']\n",
    "cells['Guide Tube'].fill = materials['Guide Tube']\n",
    "cells['Reflector'].fill = materials['Water']\n",
    "cells['UO2 Moderator'].fill = materials['Water']\n",
    "cells['MOX 4.3% Moderator'].fill = materials['Water']\n",
    "cells['MOX 7.0% Moderator'].fill = materials['Water']\n",
    "cells['MOX 8.7% Moderator'].fill = materials['Water']\n",
    "cells['Fission Chamber Moderator'].fill = materials['Water']\n",
    "cells['Guide Tube Moderator'].fill = materials['Water']\n",
    "\n",
    "# Instantiate Universes\n",
    "universes = {}\n",
    "universes['UO2'] = openmc.Universe(name='UO2')\n",
    "universes['MOX 4.3%'] = openmc.Universe(name='MOX 4.3%')\n",
    "universes['MOX 7.0%'] = openmc.Universe(name='MOX 7.0%')\n",
    "universes['MOX 8.7%'] = openmc.Universe(name='MOX 8.7%')\n",
    "universes['Fission Chamber'] = openmc.Universe(name='Fission Chamber')\n",
    "universes['Guide Tube'] = openmc.Universe(name='Guide Tube')\n",
    "universes['Reflector'] = openmc.Universe(name='Reflector')\n",
    "\n",
    "# Register Cells with Universes\n",
    "universes['UO2'].add_cells([cells['UO2'], cells['UO2 Moderator']])\n",
    "universes['MOX 4.3%'].add_cells([cells['MOX 4.3%'], cells['MOX 4.3% Moderator']])\n",
    "universes['MOX 7.0%'].add_cells([cells['MOX 7.0%'], cells['MOX 7.0% Moderator']])\n",
    "universes['MOX 8.7%'].add_cells([cells['MOX 8.7%'], cells['MOX 8.7% Moderator']])\n",
    "universes['Fission Chamber'].add_cells([cells['Fission Chamber'], cells['Fission Chamber Moderator']])\n",
    "universes['Guide Tube'].add_cells([cells['Guide Tube'], cells['Guide Tube Moderator']])\n",
    "universes['Reflector'].add_cell(cells['Reflector'])\n"
   ]
  },
  {
   "cell_type": "markdown",
   "metadata": {
    "collapsed": true
   },
   "source": [
    "The next step is to take our universes (representing the different pin types) and lay them out in a lattice to represent the assembly types"
   ]
  },
  {
   "cell_type": "code",
   "execution_count": 8,
   "metadata": {
    "collapsed": false
   },
   "outputs": [],
   "source": [
    "lattices = {}\n",
    "\n",
    "# Instantiate the UO2 Lattice\n",
    "lattices['UO2 Assembly'] = openmc.RectLattice(name='UO2 Assembly')\n",
    "lattices['UO2 Assembly'].dimension = [17, 17]\n",
    "lattices['UO2 Assembly'].lower_left = [-10.71, -10.71]\n",
    "lattices['UO2 Assembly'].pitch = [1.26, 1.26]\n",
    "u = universes['UO2']\n",
    "g = universes['Guide Tube']\n",
    "f = universes['Fission Chamber']\n",
    "lattices['UO2 Assembly'].universes = \\\n",
    "    [[u, u, u, u, u, u, u, u, u, u, u, u, u, u, u, u, u],\n",
    "     [u, u, u, u, u, u, u, u, u, u, u, u, u, u, u, u, u],\n",
    "     [u, u, u, u, u, g, u, u, g, u, u, g, u, u, u, u, u],\n",
    "     [u, u, u, g, u, u, u, u, u, u, u, u, u, g, u, u, u],\n",
    "     [u, u, u, u, u, u, u, u, u, u, u, u, u, u, u, u, u],\n",
    "     [u, u, g, u, u, g, u, u, g, u, u, g, u, u, g, u, u],\n",
    "     [u, u, u, u, u, u, u, u, u, u, u, u, u, u, u, u, u],\n",
    "     [u, u, u, u, u, u, u, u, u, u, u, u, u, u, u, u, u],\n",
    "     [u, u, g, u, u, g, u, u, f, u, u, g, u, u, g, u, u],\n",
    "     [u, u, u, u, u, u, u, u, u, u, u, u, u, u, u, u, u],\n",
    "     [u, u, u, u, u, u, u, u, u, u, u, u, u, u, u, u, u],\n",
    "     [u, u, g, u, u, g, u, u, g, u, u, g, u, u, g, u, u],\n",
    "     [u, u, u, u, u, u, u, u, u, u, u, u, u, u, u, u, u],\n",
    "     [u, u, u, g, u, u, u, u, u, u, u, u, u, g, u, u, u],\n",
    "     [u, u, u, u, u, g, u, u, g, u, u, g, u, u, u, u, u],\n",
    "     [u, u, u, u, u, u, u, u, u, u, u, u, u, u, u, u, u],\n",
    "     [u, u, u, u, u, u, u, u, u, u, u, u, u, u, u, u, u]]\n",
    "    \n",
    "# Create a containing cell and universe\n",
    "cells['UO2 Assembly'] = openmc.Cell(name='UO2 Assembly')\n",
    "cells['UO2 Assembly'].fill = lattices['UO2 Assembly']\n",
    "universes['UO2 Assembly'] = openmc.Universe(name='UO2 Assembly')\n",
    "universes['UO2 Assembly'].add_cell(cells['UO2 Assembly'])\n",
    "\n",
    "# Instantiate the MOX Lattice\n",
    "lattices['MOX Assembly'] = openmc.RectLattice(name='MOX Assembly')\n",
    "lattices['MOX Assembly'].dimension = [17, 17]\n",
    "lattices['MOX Assembly'].lower_left = [-10.71, -10.71]\n",
    "lattices['MOX Assembly'].pitch = [1.26, 1.26]\n",
    "m = universes['MOX 4.3%']\n",
    "n = universes['MOX 7.0%']\n",
    "o = universes['MOX 8.7%']\n",
    "g = universes['Guide Tube']\n",
    "f = universes['Fission Chamber']\n",
    "lattices['MOX Assembly'].universes = \\\n",
    "    [[m, m, m, m, m, m, m, m, m, m, m, m, m, m, m, m, m],\n",
    "     [m, n, n, n, n, n, n, n, n, n, n, n, n, n, n, n, m],\n",
    "     [m, n, n, n, n, g, n, n, g, n, n, g, n, n, n, n, m],\n",
    "     [m, n, n, g, n, o, o, o, o, o, o, o, n, g, n, n, m],\n",
    "     [m, n, n, n, o, o, o, o, o, o, o, o, o, n, n, n, m],\n",
    "     [m, n, g, o, o, g, o, o, g, o, o, g, o, o, g, n, m],\n",
    "     [m, n, n, o, o, o, o, o, o, o, o, o, o, o, n, n, m],\n",
    "     [m, n, n, o, o, o, o, o, o, o, o, o, o, o, n, n, m],\n",
    "     [m, n, g, o, o, g, o, o, f, o, o, g, o, o, g, n, m],\n",
    "     [m, n, n, o, o, o, o, o, o, o, o, o, o, o, n, n, m],\n",
    "     [m, n, n, o, o, o, o, o, o, o, o, o, o, o, n, n, m],\n",
    "     [m, n, g, o, o, g, o, o, g, o, o, g, o, o, g, n, m],\n",
    "     [m, n, n, n, o, o, o, o, o, o, o, o, o, n, n, n, m],\n",
    "     [m, n, n, g, n, o, o, o, o, o, o, o, n, g, n, n, m],\n",
    "     [m, n, n, n, n, g, n, n, g, n, n, g, n, n, n, n, m],\n",
    "     [m, n, n, n, n, n, n, n, n, n, n, n, n, n, n, n, m],\n",
    "     [m, m, m, m, m, m, m, m, m, m, m, m, m, m, m, m, m]]\n",
    "# Create a containing cell and universe\n",
    "cells['MOX Assembly'] = openmc.Cell(name='MOX Assembly')\n",
    "cells['MOX Assembly'].fill = lattices['MOX Assembly']\n",
    "universes['MOX Assembly'] = openmc.Universe(name='MOX Assembly')\n",
    "universes['MOX Assembly'].add_cell(cells['MOX Assembly'])\n",
    "    \n",
    "# Instantiate the Reflector Lattice\n",
    "lattices['Reflector Assembly'] = openmc.RectLattice(name='Reflector Assembly')\n",
    "lattices['Reflector Assembly'].dimension = [1,1]\n",
    "lattices['Reflector Assembly'].lower_left = [-10.71, -10.71]\n",
    "lattices['Reflector Assembly'].pitch = [21.42, 21.42]\n",
    "lattices['Reflector Assembly'].universes = [[universes['Reflector']]]\n",
    "\n",
    "# Create a containing cell and universe\n",
    "cells['Reflector Assembly'] = openmc.Cell(name='Reflector Assembly')\n",
    "cells['Reflector Assembly'].fill = lattices['Reflector Assembly']\n",
    "universes['Reflector Assembly'] = openmc.Universe(name='Reflector Assembly')\n",
    "universes['Reflector Assembly'].add_cell(cells['Reflector Assembly'])"
   ]
  },
  {
   "cell_type": "markdown",
   "metadata": {
    "collapsed": true
   },
   "source": [
    "Lets now create the core layout in a 3x3 lattice wher each lattice position is one of the assemblies we just defined.\n",
    "Then we can create the final cell to contain the entire core"
   ]
  },
  {
   "cell_type": "code",
   "execution_count": 9,
   "metadata": {
    "collapsed": false
   },
   "outputs": [],
   "source": [
    "lattices['Core'] = openmc.RectLattice(name='3x3 core lattice')\n",
    "lattices['Core'].dimension= [3, 3]\n",
    "lattices['Core'].lower_left = [-32.13, -32.13]\n",
    "lattices['Core'].pitch = [21.42, 21.42]\n",
    "r = universes['Reflector Assembly']\n",
    "u = universes['UO2 Assembly']\n",
    "m = universes['MOX Assembly']\n",
    "lattices['Core'].universes = [[u, m, r],\n",
    "                              [m, u, r],\n",
    "                              [r, r, r]]\n",
    "\n",
    "# Create boundary planes to surround the geometry\n",
    "min_x = openmc.XPlane(x0=-32.13, boundary_type='reflective')\n",
    "max_x = openmc.XPlane(x0=+32.13, boundary_type='vacuum')\n",
    "min_y = openmc.YPlane(y0=-32.13, boundary_type='vacuum')\n",
    "max_y = openmc.YPlane(y0=+32.13, boundary_type='reflective')\n",
    "\n",
    "# Create root Cell\n",
    "root_cell = openmc.Cell(name='root cell')\n",
    "root_cell.fill = lattices['Core']\n",
    "\n",
    "# Add boundary planes\n",
    "root_cell.region = +min_x & -max_x & +min_y & -max_y\n",
    "\n",
    "# Create root Universe\n",
    "root_universe = openmc.Universe(name='root universe', universe_id=0)\n",
    "root_universe.add_cell(root_cell)"
   ]
  },
  {
   "cell_type": "markdown",
   "metadata": {},
   "source": [
    "Before we commit to the geometry, lets view it using the Python API's plotting capability"
   ]
  },
  {
   "cell_type": "code",
   "execution_count": 10,
   "metadata": {
    "collapsed": false
   },
   "outputs": [
    {
     "data": {
      "image/png": "[encoded data removed]",
      "text/plain": [
       "<matplotlib.figure.Figure at 0x7fd19aa6f780>"
      ]
     },
     "metadata": {},
     "output_type": "display_data"
    }
   ],
   "source": [
    "root_universe.plot(center=(0., 0., 0.), width=(3 * 21.42, 3 * 21.42), pixels=(500, 500),\n",
    "                   color_by='material')"
   ]
  },
  {
   "cell_type": "markdown",
   "metadata": {},
   "source": [
    "OK, it looks pretty good, lets go ahead and write the file"
   ]
  },
  {
   "cell_type": "code",
   "execution_count": 11,
   "metadata": {
    "collapsed": false
   },
   "outputs": [],
   "source": [
    "# Create Geometry and set root Universe\n",
    "geometry = openmc.Geometry()\n",
    "geometry.root_universe = root_universe\n",
    "\n",
    "# Export to \"geometry.xml\"\n",
    "geometry.export_to_xml()"
   ]
  },
  {
   "cell_type": "markdown",
   "metadata": {},
   "source": [
    "We can now create the tally file information. The tallies will be set up to  give us the pin powers in this notebook. We will do this with a mesh filter, with one mesh cell per pin."
   ]
  },
  {
   "cell_type": "code",
   "execution_count": 12,
   "metadata": {
    "collapsed": true
   },
   "outputs": [],
   "source": [
    "tallies_file = openmc.Tallies()\n",
    "\n",
    "# Instantiate a tally Mesh\n",
    "mesh = openmc.Mesh()\n",
    "mesh.type = 'regular'\n",
    "mesh.dimension = [17 * 2, 17 * 2]\n",
    "mesh.lower_left = [-32.13, -10.71]\n",
    "mesh.upper_right = [+10.71, +32.13]\n",
    "\n",
    "# Instantiate tally Filter\n",
    "mesh_filter = openmc.MeshFilter(mesh)\n",
    "\n",
    "# Instantiate the Tally\n",
    "tally = openmc.Tally(name='mesh tally')\n",
    "tally.filters = [mesh_filter]\n",
    "tally.scores = ['fission']\n",
    "\n",
    "# Add tally to collection\n",
    "tallies_file.append(tally)\n",
    "\n",
    "# Export all tallies to a \"tallies.xml\" file\n",
    "tallies_file.export_to_xml()"
   ]
  },
  {
   "cell_type": "markdown",
   "metadata": {},
   "source": [
    "With the geometry and materials finished, we now just need to define simulation parameters for the `settings.xml` file. Note the use of the `energy_mode` attribute of our `settings_file` object. This is used to tell OpenMC that we intend to run in multi-group mode instead of the default continuous-energy mode. If we didn't specify this but our cross sections file was not a continuous-energy data set, then OpenMC would complain."
   ]
  },
  {
   "cell_type": "code",
   "execution_count": 13,
   "metadata": {
    "collapsed": false
   },
   "outputs": [],
   "source": [
    "# OpenMC simulation parameters\n",
    "batches = 1000\n",
    "inactive = 100\n",
    "particles = 5000\n",
    "\n",
    "# Instantiate a Settings object\n",
    "settings_file = openmc.Settings()\n",
    "settings_file.batches = batches\n",
    "settings_file.inactive = inactive\n",
    "settings_file.particles = particles\n",
    "\n",
    "# We dont need a tallies.out file, as we will be working with the StatePoint\n",
    "# file instead, so tell OpenMC not to write the file.\n",
    "settings_file.output = {'tallies': False}\n",
    "\n",
    "# Tell OpenMC this is a multi-group problem\n",
    "settings_file.energy_mode = 'multi-group'\n",
    "\n",
    "# Set the verbosity to 6 so we dont see output for every batch\n",
    "settings_file.verbosity = 6\n",
    "\n",
    "# Create an initial uniform spatial source distribution over fissionable zones\n",
    "bounds = [-32.13, -10.71, -1e50, 10.71, 32.13, 1e50]\n",
    "uniform_dist = openmc.stats.Box(bounds[:3], bounds[3:], only_fissionable=True)\n",
    "settings_file.source = openmc.source.Source(space=uniform_dist)\n",
    "\n",
    "# Tell OpenMC we want to run in eigenvalue mode\n",
    "settings_file.run_mode = 'eigenvalue'\n",
    "\n",
    "# Export to \"settings.xml\"\n",
    "settings_file.export_to_xml()"
   ]
  },
  {
   "cell_type": "markdown",
   "metadata": {},
   "source": [
    "Lets go ahead and execute the simulation! You'll notice that the output for multi-group mode is exactly the same as for continuous-energy. The differences are all under the hood."
   ]
  },
  {
   "cell_type": "code",
   "execution_count": 14,
   "metadata": {
    "collapsed": false
   },
   "outputs": [
    {
     "name": "stdout",
     "output_type": "stream",
     "text": [
      "\n",
      "                               %%%%%%%%%%%%%%%\n",
      "                          %%%%%%%%%%%%%%%%%%%%%%%%\n",
      "                       %%%%%%%%%%%%%%%%%%%%%%%%%%%%%%\n",
      "                     %%%%%%%%%%%%%%%%%%%%%%%%%%%%%%%%%%\n",
      "                   %%%%%%%%%%%%%%%%%%%%%%%%%%%%%%%%%%%%%%\n",
      "                  %%%%%%%%%%%%%%%%%%%%%%%%%%%%%%%%%%%%%%%%\n",
      "                                   %%%%%%%%%%%%%%%%%%%%%%%%\n",
      "                                    %%%%%%%%%%%%%%%%%%%%%%%%\n",
      "                ###############      %%%%%%%%%%%%%%%%%%%%%%%%\n",
      "               ##################     %%%%%%%%%%%%%%%%%%%%%%%\n",
      "               ###################     %%%%%%%%%%%%%%%%%%%%%%%\n",
      "               ####################     %%%%%%%%%%%%%%%%%%%%%%\n",
      "               #####################     %%%%%%%%%%%%%%%%%%%%%\n",
      "               ######################     %%%%%%%%%%%%%%%%%%%%\n",
      "               #######################     %%%%%%%%%%%%%%%%%%\n",
      "                #######################     %%%%%%%%%%%%%%%%%\n",
      "                ######################     %%%%%%%%%%%%%%%%%\n",
      "                 ####################     %%%%%%%%%%%%%%%%%\n",
      "                   #################     %%%%%%%%%%%%%%%%%\n",
      "                    ###############     %%%%%%%%%%%%%%%%\n",
      "                      ############     %%%%%%%%%%%%%%%\n",
      "                         ########     %%%%%%%%%%%%%%\n",
      "                                     %%%%%%%%%%%\n",
      "\n",
      "                   | The OpenMC Monte Carlo Code\n",
      "         Copyright | 2011-2017 Massachusetts Institute of Technology\n",
      "           License | http://openmc.readthedocs.io/en/latest/license.html\n",
      "           Version | 0.8.0\n",
      "          Git SHA1 | e10a92487255a233e03533b2570e1b5c010b8506\n",
      "         Date/Time | 2017-03-05 13:29:09\n",
      "    OpenMP Threads | 8\n",
      "\n",
      " Reading settings XML file...\n",
      " Reading geometry XML file...\n",
      " Reading materials XML file...\n",
      " Reading cross sections HDF5 file...\n",
      " Reading tallies XML file...\n",
      " Loading cross section data...\n",
      " Loading uo2 data...\n",
      " Loading mox43 data...\n",
      " Loading mox7 data...\n",
      " Loading mox87 data...\n",
      " Loading fiss_chamber data...\n",
      " Loading guide_tube data...\n",
      " Loading water data...\n",
      " Building neighboring cells lists for each surface...\n",
      " Initializing source particles...\n",
      "\n",
      " ====================>     K EIGENVALUE SIMULATION     <====================\n",
      "\n",
      " Creating state point statepoint.1000.h5...\n",
      "\n",
      " =======================>     TIMING STATISTICS     <=======================\n",
      "\n",
      " Total time for initialization     =  1.4368E-01 seconds\n",
      "   Reading cross sections          =  4.5424E-02 seconds\n",
      " Total time in simulation          =  1.2489E+02 seconds\n",
      "   Time in transport only          =  1.2426E+02 seconds\n",
      "   Time in inactive batches        =  8.0909E+00 seconds\n",
      "   Time in active batches          =  1.1680E+02 seconds\n",
      "   Time synchronizing fission bank =  2.0736E-01 seconds\n",
      "     Sampling source sites         =  1.5095E-01 seconds\n",
      "     SEND/RECV source sites        =  5.4904E-02 seconds\n",
      "   Time accumulating tallies       =  7.7863E-03 seconds\n",
      " Total time for finalization       =  1.6174E-05 seconds\n",
      " Total time elapsed                =  1.2507E+02 seconds\n",
      " Calculation Rate (inactive)       =  61797.5 neutrons/second\n",
      " Calculation Rate (active)         =  38527.2 neutrons/second\n",
      "\n",
      " ============================>     RESULTS     <============================\n",
      "\n",
      " k-effective (Collision)     =  1.18592 +/-  0.00054\n",
      " k-effective (Track-length)  =  1.18604 +/-  0.00072\n",
      " k-effective (Absorption)    =  1.18621 +/-  0.00035\n",
      " Combined k-effective        =  1.18618 +/-  0.00034\n",
      " Leakage Fraction            =  0.00183 +/-  0.00002\n",
      "\n"
     ]
    },
    {
     "data": {
      "text/plain": [
       "0"
      ]
     },
     "execution_count": 14,
     "metadata": {},
     "output_type": "execute_result"
    }
   ],
   "source": [
    "# Run OpenMC\n",
    "openmc.run()"
   ]
  },
  {
   "cell_type": "markdown",
   "metadata": {},
   "source": [
    "# Results Visualization\n",
    "\n",
    "Now that we have run the simulation, lets look at the fission rate and flux tallies that we tallied."
   ]
  },
  {
   "cell_type": "code",
   "execution_count": 15,
   "metadata": {
    "collapsed": false
   },
   "outputs": [
    {
     "data": {
      "image/png": "[encoded data removed]",
      "text/plain": [
       "<matplotlib.figure.Figure at 0x7fd19a9f8550>"
      ]
     },
     "metadata": {},
     "output_type": "display_data"
    }
   ],
   "source": [
    "# Load the last statepoint file and keff value\n",
    "sp = openmc.StatePoint('statepoint.' + str(batches) + '.h5')\n",
    "\n",
    "# Get the OpenMC pin power tally data\n",
    "mesh_tally = sp.get_tally(name='mesh tally')\n",
    "fission_rates = mesh_tally.get_values(scores=['fission'])\n",
    "\n",
    "# Reshape array to 2D for plotting\n",
    "fission_rates.shape = mesh.dimension\n",
    "\n",
    "# Normalize to the average pin power\n",
    "fission_rates /= np.mean(fission_rates)\n",
    "\n",
    "# Force zeros to be NaNs so their values are not included when matplotlib calculates\n",
    "# the color scale\n",
    "fission_rates[fission_rates == 0.] = np.nan\n",
    "\n",
    "# Plot the pin powers and the fluxes\n",
    "plt.figure()\n",
    "plt.imshow(fission_rates, interpolation='none', cmap='jet', origin='lower')\n",
    "plt.colorbar()\n",
    "plt.title('Pin Powers')\n",
    "plt.show()\n"
   ]
  },
  {
   "cell_type": "markdown",
   "metadata": {},
   "source": [
    "There we have it! We have just successfully run the C5G7 benchmark model!"
   ]
  }
 ],
 "metadata": {
  "kernelspec": {
   "display_name": "Python 3",
   "language": "python",
   "name": "python3"
  },
  "language_info": {
   "codemirror_mode": {
    "name": "ipython",
    "version": 3
   },
   "file_extension": ".py",
   "mimetype": "text/x-python",
   "name": "python",
   "nbconvert_exporter": "python",
   "pygments_lexer": "ipython3",
   "version": "3.6.0"
  }
 },
 "nbformat": 4,
 "nbformat_minor": 2
}
