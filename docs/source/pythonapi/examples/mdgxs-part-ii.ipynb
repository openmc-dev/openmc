{
 "cells": [
  {
   "cell_type": "markdown",
   "metadata": {},
   "source": [
    "This IPython Notebook illustrates the use of the **`openmc.mgxs.Library`** class. The `Library` class is designed to automate the calculation of multi-group cross sections for use cases with one or more domains, cross section types, and/or nuclides. In particular, this Notebook illustrates the following features:\n",
    "\n",
    "* Calculation of multi-energy-group and multi-delayed-group cross sections for a **fuel assembly**\n",
    "* Automated creation, manipulation and storage of `MGXS` with **`openmc.mgxs.Library`**\n",
    "* Steady-state pin-by-pin **delayed neutron fractions (beta)** for each delayed group.\n",
    "* Generation of surface currents on the interfaces and surfaces of a Mesh."
   ]
  },
  {
   "cell_type": "markdown",
   "metadata": {},
   "source": [
    "## Generate Input Files"
   ]
  },
  {
   "cell_type": "code",
   "execution_count": 1,
   "metadata": {
    "collapsed": false
   },
   "outputs": [
    {
     "name": "stderr",
     "output_type": "stream",
     "text": [
      "/usr/lib/python3/dist-packages/matplotlib/__init__.py:1352: UserWarning:  This call to matplotlib.use() has no effect\n",
      "because the backend has already been chosen;\n",
      "matplotlib.use() must be called *before* pylab, matplotlib.pyplot,\n",
      "or matplotlib.backends is imported for the first time.\n",
      "\n",
      "  warnings.warn(_use_error_msg)\n"
     ]
    }
   ],
   "source": [
    "import math\n",
    "import pickle\n",
    "\n",
    "from IPython.display import Image\n",
    "import matplotlib.pyplot as plt\n",
    "import numpy as np\n",
    "\n",
    "import openmc\n",
    "import openmc.mgxs\n",
    "import openmoc\n",
    "import openmoc.process\n",
    "from openmoc.opencg_compatible import get_openmoc_geometry\n",
    "from openmoc.materialize import load_openmc_mgxs_lib\n",
    "\n",
    "%matplotlib inline"
   ]
  },
  {
   "cell_type": "markdown",
   "metadata": {},
   "source": [
    "First we need to define materials that will be used in the problem. Before defining a material, we must create nuclides that are used in the material."
   ]
  },
  {
   "cell_type": "code",
   "execution_count": 2,
   "metadata": {
    "collapsed": false
   },
   "outputs": [],
   "source": [
    "# Instantiate some Nuclides\n",
    "h1 = openmc.Nuclide('H1')\n",
    "b10 = openmc.Nuclide('B10')\n",
    "o16 = openmc.Nuclide('O16')\n",
    "u235 = openmc.Nuclide('U235')\n",
    "u238 = openmc.Nuclide('U238')\n",
    "zr90 = openmc.Nuclide('Zr90')"
   ]
  },
  {
   "cell_type": "markdown",
   "metadata": {},
   "source": [
    "With the nuclides we defined, we will now create three materials for the fuel, water, and cladding of the fuel pins."
   ]
  },
  {
   "cell_type": "code",
   "execution_count": 3,
   "metadata": {
    "collapsed": true
   },
   "outputs": [],
   "source": [
    "# 1.6 enriched fuel\n",
    "fuel = openmc.Material(name='1.6% Fuel')\n",
    "fuel.set_density('g/cm3', 10.31341)\n",
    "fuel.add_nuclide(u235, 3.7503e-4)\n",
    "fuel.add_nuclide(u238, 2.2625e-2)\n",
    "fuel.add_nuclide(o16, 4.6007e-2)\n",
    "\n",
    "# borated water\n",
    "water = openmc.Material(name='Borated Water')\n",
    "water.set_density('g/cm3', 0.740582)\n",
    "water.add_nuclide(h1, 4.9457e-2)\n",
    "water.add_nuclide(o16, 2.4732e-2)\n",
    "water.add_nuclide(b10, 8.0042e-6)\n",
    "\n",
    "# zircaloy\n",
    "zircaloy = openmc.Material(name='Zircaloy')\n",
    "zircaloy.set_density('g/cm3', 6.55)\n",
    "zircaloy.add_nuclide(zr90, 7.2758e-3)"
   ]
  },
  {
   "cell_type": "markdown",
   "metadata": {},
   "source": [
    "With our three materials, we can now create a `Materials` object that can be exported to an actual XML file."
   ]
  },
  {
   "cell_type": "code",
   "execution_count": 4,
   "metadata": {
    "collapsed": true
   },
   "outputs": [],
   "source": [
    "# Instantiate a Materials object\n",
    "materials_file = openmc.Materials((fuel, water, zircaloy))\n",
    "materials_file.default_xs = '71c'\n",
    "\n",
    "# Export to \"materials.xml\"\n",
    "materials_file.export_to_xml()"
   ]
  },
  {
   "cell_type": "markdown",
   "metadata": {},
   "source": [
    "Now let's move on to the geometry. This problem will be a square array of fuel pins and control rod guide tubes for which we can use OpenMC's lattice/universe feature. The basic universe will have three regions for the fuel, the clad, and the surrounding coolant. The first step is to create the bounding surfaces for fuel and clad, as well as the outer bounding surfaces of the problem."
   ]
  },
  {
   "cell_type": "code",
   "execution_count": 5,
   "metadata": {
    "collapsed": false
   },
   "outputs": [],
   "source": [
    "# Create cylinders for the fuel and clad\n",
    "fuel_outer_radius = openmc.ZCylinder(x0=0.0, y0=0.0, R=0.39218)\n",
    "clad_outer_radius = openmc.ZCylinder(x0=0.0, y0=0.0, R=0.45720)\n",
    "\n",
    "# Create boundary planes to surround the geometry\n",
    "min_x = openmc.XPlane(x0=-10.71, boundary_type='reflective')\n",
    "max_x = openmc.XPlane(x0=+10.71, boundary_type='reflective')\n",
    "min_y = openmc.YPlane(y0=-10.71, boundary_type='reflective')\n",
    "max_y = openmc.YPlane(y0=+10.71, boundary_type='reflective')\n",
    "min_z = openmc.ZPlane(z0=-10., boundary_type='reflective')\n",
    "max_z = openmc.ZPlane(z0=+10., boundary_type='reflective')"
   ]
  },
  {
   "cell_type": "markdown",
   "metadata": {},
   "source": [
    "With the surfaces defined, we can now construct a fuel pin cell from cells that are defined by intersections of half-spaces created by the surfaces."
   ]
  },
  {
   "cell_type": "code",
   "execution_count": 6,
   "metadata": {
    "collapsed": true
   },
   "outputs": [],
   "source": [
    "# Create a Universe to encapsulate a fuel pin\n",
    "fuel_pin_universe = openmc.Universe(name='1.6% Fuel Pin')\n",
    "\n",
    "# Create fuel Cell\n",
    "fuel_cell = openmc.Cell(name='1.6% Fuel')\n",
    "fuel_cell.fill = fuel\n",
    "fuel_cell.region = -fuel_outer_radius\n",
    "fuel_pin_universe.add_cell(fuel_cell)\n",
    "\n",
    "# Create a clad Cell\n",
    "clad_cell = openmc.Cell(name='1.6% Clad')\n",
    "clad_cell.fill = zircaloy\n",
    "clad_cell.region = +fuel_outer_radius & -clad_outer_radius\n",
    "fuel_pin_universe.add_cell(clad_cell)\n",
    "\n",
    "# Create a moderator Cell\n",
    "moderator_cell = openmc.Cell(name='1.6% Moderator')\n",
    "moderator_cell.fill = water\n",
    "moderator_cell.region = +clad_outer_radius\n",
    "fuel_pin_universe.add_cell(moderator_cell)"
   ]
  },
  {
   "cell_type": "markdown",
   "metadata": {},
   "source": [
    "Likewise, we can construct a control rod guide tube with the same surfaces."
   ]
  },
  {
   "cell_type": "code",
   "execution_count": 7,
   "metadata": {
    "collapsed": false
   },
   "outputs": [],
   "source": [
    "# Create a Universe to encapsulate a control rod guide tube\n",
    "guide_tube_universe = openmc.Universe(name='Guide Tube')\n",
    "\n",
    "# Create guide tube Cell\n",
    "guide_tube_cell = openmc.Cell(name='Guide Tube Water')\n",
    "guide_tube_cell.fill = water\n",
    "guide_tube_cell.region = -fuel_outer_radius\n",
    "guide_tube_universe.add_cell(guide_tube_cell)\n",
    "\n",
    "# Create a clad Cell\n",
    "clad_cell = openmc.Cell(name='Guide Clad')\n",
    "clad_cell.fill = zircaloy\n",
    "clad_cell.region = +fuel_outer_radius & -clad_outer_radius\n",
    "guide_tube_universe.add_cell(clad_cell)\n",
    "\n",
    "# Create a moderator Cell\n",
    "moderator_cell = openmc.Cell(name='Guide Tube Moderator')\n",
    "moderator_cell.fill = water\n",
    "moderator_cell.region = +clad_outer_radius\n",
    "guide_tube_universe.add_cell(moderator_cell)"
   ]
  },
  {
   "cell_type": "markdown",
   "metadata": {},
   "source": [
    "Using the pin cell universe, we can construct a 17x17 rectangular lattice with a 1.26 cm pitch."
   ]
  },
  {
   "cell_type": "code",
   "execution_count": 8,
   "metadata": {
    "collapsed": false
   },
   "outputs": [],
   "source": [
    "# Create fuel assembly Lattice\n",
    "assembly = openmc.RectLattice(name='1.6% Fuel Assembly')\n",
    "assembly.pitch = (1.26, 1.26)\n",
    "assembly.lower_left = [-1.26 * 17. / 2.0] * 2"
   ]
  },
  {
   "cell_type": "markdown",
   "metadata": {},
   "source": [
    "Next, we create a NumPy array of fuel pin and guide tube universes for the lattice."
   ]
  },
  {
   "cell_type": "code",
   "execution_count": 9,
   "metadata": {
    "collapsed": false
   },
   "outputs": [],
   "source": [
    "# Create array indices for guide tube locations in lattice\n",
    "template_x = np.array([5, 8, 11, 3, 13, 2, 5, 8, 11, 14, 2, 5, 8,\n",
    "                       11, 14, 2, 5, 8, 11, 14, 3, 13, 5, 8, 11])\n",
    "template_y = np.array([2, 2, 2, 3, 3, 5, 5, 5, 5, 5, 8, 8, 8, 8,\n",
    "                       8, 11, 11, 11, 11, 11, 13, 13, 14, 14, 14])\n",
    "\n",
    "# Initialize an empty 17x17 array of the lattice universes\n",
    "universes = np.empty((17, 17), dtype=openmc.Universe)\n",
    "\n",
    "# Fill the array with the fuel pin and guide tube universes\n",
    "universes[:,:] = fuel_pin_universe\n",
    "universes[template_x, template_y] = guide_tube_universe\n",
    "\n",
    "# Store the array of universes in the lattice\n",
    "assembly.universes = universes"
   ]
  },
  {
   "cell_type": "markdown",
   "metadata": {},
   "source": [
    "OpenMC requires that there is a \"root\" universe. Let us create a root cell that is filled by the pin cell universe and then assign it to the root universe."
   ]
  },
  {
   "cell_type": "code",
   "execution_count": 10,
   "metadata": {
    "collapsed": false
   },
   "outputs": [],
   "source": [
    "# Create root Cell\n",
    "root_cell = openmc.Cell(name='root cell')\n",
    "root_cell.fill = assembly\n",
    "\n",
    "# Add boundary planes\n",
    "root_cell.region = +min_x & -max_x & +min_y & -max_y & +min_z & -max_z\n",
    "\n",
    "# Create root Universe\n",
    "root_universe = openmc.Universe(universe_id=0, name='root universe')\n",
    "root_universe.add_cell(root_cell)"
   ]
  },
  {
   "cell_type": "markdown",
   "metadata": {},
   "source": [
    "We now must create a geometry that is assigned a root universe and export it to XML."
   ]
  },
  {
   "cell_type": "code",
   "execution_count": 11,
   "metadata": {
    "collapsed": false
   },
   "outputs": [],
   "source": [
    "# Create Geometry and set root Universe\n",
    "geometry = openmc.Geometry()\n",
    "geometry.root_universe = root_universe"
   ]
  },
  {
   "cell_type": "code",
   "execution_count": 12,
   "metadata": {
    "collapsed": false
   },
   "outputs": [],
   "source": [
    "# Export to \"geometry.xml\"\n",
    "geometry.export_to_xml()"
   ]
  },
  {
   "cell_type": "markdown",
   "metadata": {},
   "source": [
    "With the geometry and materials finished, we now just need to define simulation parameters. In this case, we will use 10 inactive batches and 40 active batches each with 2500 particles."
   ]
  },
  {
   "cell_type": "code",
   "execution_count": 13,
   "metadata": {
    "collapsed": false
   },
   "outputs": [],
   "source": [
    "# OpenMC simulation parameters\n",
    "batches = 50\n",
    "inactive = 10\n",
    "particles = 2500\n",
    "\n",
    "# Instantiate a Settings object\n",
    "settings_file = openmc.Settings()\n",
    "settings_file.batches = batches\n",
    "settings_file.inactive = inactive\n",
    "settings_file.particles = particles\n",
    "settings_file.output = {'tallies': False}\n",
    "\n",
    "# Create an initial uniform spatial source distribution over fissionable zones\n",
    "bounds = [-10.71, -10.71, -10, 10.71, 10.71, 10.]\n",
    "uniform_dist = openmc.stats.Box(bounds[:3], bounds[3:], only_fissionable=True)\n",
    "settings_file.source = openmc.source.Source(space=uniform_dist)\n",
    "\n",
    "# Export to \"settings.xml\"\n",
    "settings_file.export_to_xml()"
   ]
  },
  {
   "cell_type": "markdown",
   "metadata": {},
   "source": [
    "Let us also create a `Plots` file that we can use to verify that our fuel assembly geometry was created successfully."
   ]
  },
  {
   "cell_type": "code",
   "execution_count": 14,
   "metadata": {
    "collapsed": false
   },
   "outputs": [],
   "source": [
    "# Instantiate a Plot\n",
    "plot = openmc.Plot(plot_id=1)\n",
    "plot.filename = 'materials-xy'\n",
    "plot.origin = [0, 0, 0]\n",
    "plot.pixels = [250, 250]\n",
    "plot.width = [-10.71*2, -10.71*2]\n",
    "plot.color = 'mat'\n",
    "\n",
    "# Instantiate a Plots object, add Plot, and export to \"plots.xml\"\n",
    "plot_file = openmc.Plots([plot])\n",
    "plot_file.export_to_xml()"
   ]
  },
  {
   "cell_type": "markdown",
   "metadata": {},
   "source": [
    "With the plots.xml file, we can now generate and view the plot. OpenMC outputs plots in .ppm format, which can be converted into a compressed format like .png with the convert utility."
   ]
  },
  {
   "cell_type": "code",
   "execution_count": 15,
   "metadata": {
    "collapsed": false
   },
   "outputs": [
    {
     "data": {
      "text/plain": [
       "0"
      ]
     },
     "execution_count": 15,
     "metadata": {},
     "output_type": "execute_result"
    }
   ],
   "source": [
    "# Run openmc in plotting mode\n",
    "openmc.plot_geometry(output=False)"
   ]
  },
  {
   "cell_type": "code",
   "execution_count": 16,
   "metadata": {
    "collapsed": false
   },
   "outputs": [
    {
     "data": {
      "image/png": "[encoded data removed]",
      "text/plain": [
       "<IPython.core.display.Image object>"
      ]
     },
     "execution_count": 16,
     "metadata": {},
     "output_type": "execute_result"
    }
   ],
   "source": [
    "# Convert OpenMC's funky ppm to png\n",
    "!convert materials-xy.ppm materials-xy.png\n",
    "\n",
    "# Display the materials plot inline\n",
    "Image(filename='materials-xy.png')"
   ]
  },
  {
   "cell_type": "markdown",
   "metadata": {},
   "source": [
    "As we can see from the plot, we have a nice array of fuel and guide tube pin cells with fuel, cladding, and water!"
   ]
  },
  {
   "cell_type": "markdown",
   "metadata": {},
   "source": [
    "## Create an MGXS Library"
   ]
  },
  {
   "cell_type": "markdown",
   "metadata": {},
   "source": [
    "Now we are ready to generate multi-group cross sections! First, let's define 20-energy-group, 1-energy-group, and 6-delayed-group structures."
   ]
  },
  {
   "cell_type": "code",
   "execution_count": 17,
   "metadata": {
    "collapsed": false
   },
   "outputs": [],
   "source": [
    "# Instantiate a 20-group EnergyGroups object\n",
    "energy_groups = openmc.mgxs.EnergyGroups()\n",
    "energy_groups.group_edges = np.logspace(-9,1.3,21)\n",
    "\n",
    "# Instantiate a 1-group EnergyGroups object\n",
    "one_group = openmc.mgxs.EnergyGroups()\n",
    "one_group.group_edges = np.array([energy_groups.group_edges[0], energy_groups.group_edges[-1]])\n",
    "\n",
    "# Instantiate a 6-delayed-group list\n",
    "delayed_groups = list(range(1,7))"
   ]
  },
  {
   "cell_type": "markdown",
   "metadata": {},
   "source": [
    "Next, we will instantiate an `openmc.mgxs.Library` for the energy and delayed groups with our the fuel assembly geometry."
   ]
  },
  {
   "cell_type": "code",
   "execution_count": 18,
   "metadata": {
    "collapsed": false
   },
   "outputs": [],
   "source": [
    "# Instantiate a tally mesh                                                                                                                                                                  \n",
    "mesh = openmc.Mesh(mesh_id=1)\n",
    "mesh.type = 'regular'\n",
    "mesh.dimension = [17, 17, 1]\n",
    "mesh.lower_left = [-10.71, -10.71, -10000.]\n",
    "mesh.width = [1.26, 1.26, 20000.]\n",
    "\n",
    "# Initialize an 20-energy-group and 6-delayed-group MGXS Library\n",
    "mgxs_lib = openmc.mgxs.Library(geometry)\n",
    "mgxs_lib.energy_groups  = energy_groups\n",
    "mgxs_lib.delayed_groups = delayed_groups\n",
    "\n",
    "# Specify multi-group cross section types to compute\n",
    "mgxs_lib.mgxs_types = ['total', 'transport', 'nu-scatter matrix', 'kappa-fission', 'inverse-velocity', 'chi-prompt',\n",
    "                      'prompt-nu-fission', 'chi-delayed', 'delayed-nu-fission', 'beta']\n",
    "\n",
    "# Specify a \"mesh\" domain type for the cross section tally filters\n",
    "mgxs_lib.domain_type = 'mesh'\n",
    "\n",
    "# Specify the mesh domain over which to compute multi-group cross sections\n",
    "mgxs_lib.domains = [mesh]\n",
    "\n",
    "# Construct all tallies needed for the multi-group cross section library\n",
    "mgxs_lib.build_library()\n",
    "\n",
    "# Create a \"tallies.xml\" file for the MGXS Library\n",
    "tallies_file = openmc.Tallies()\n",
    "mgxs_lib.add_to_tallies_file(tallies_file, merge=True)\n",
    "\n",
    "# Instantiate a current tally\n",
    "mesh_filter = openmc.MeshFilter(mesh)\n",
    "current_tally = openmc.Tally(name='current tally')\n",
    "current_tally.scores = ['current']\n",
    "current_tally.filters = [mesh_filter]\n",
    "\n",
    "# Add current tally to the tallies file\n",
    "tallies_file.append(current_tally)\n",
    "\n",
    "# Export to \"tallies.xml\"\n",
    "tallies_file.export_to_xml()"
   ]
  },
  {
   "cell_type": "markdown",
   "metadata": {},
   "source": [
    "Now, we can run OpenMC to generate the cross sections."
   ]
  },
  {
   "cell_type": "code",
   "execution_count": 19,
   "metadata": {
    "collapsed": false
   },
   "outputs": [
    {
     "name": "stdout",
     "output_type": "stream",
     "text": [
      "\n",
      "                               %%%%%%%%%%%%%%%\n",
      "                          %%%%%%%%%%%%%%%%%%%%%%%%\n",
      "                       %%%%%%%%%%%%%%%%%%%%%%%%%%%%%%\n",
      "                     %%%%%%%%%%%%%%%%%%%%%%%%%%%%%%%%%%\n",
      "                   %%%%%%%%%%%%%%%%%%%%%%%%%%%%%%%%%%%%%%\n",
      "                  %%%%%%%%%%%%%%%%%%%%%%%%%%%%%%%%%%%%%%%%\n",
      "                                   %%%%%%%%%%%%%%%%%%%%%%%%\n",
      "                                    %%%%%%%%%%%%%%%%%%%%%%%%\n",
      "                ###############      %%%%%%%%%%%%%%%%%%%%%%%%\n",
      "               ##################     %%%%%%%%%%%%%%%%%%%%%%%\n",
      "               ###################     %%%%%%%%%%%%%%%%%%%%%%%\n",
      "               ####################     %%%%%%%%%%%%%%%%%%%%%%\n",
      "               #####################     %%%%%%%%%%%%%%%%%%%%%\n",
      "               ######################     %%%%%%%%%%%%%%%%%%%%\n",
      "               #######################     %%%%%%%%%%%%%%%%%%\n",
      "                #######################     %%%%%%%%%%%%%%%%%\n",
      "                ######################     %%%%%%%%%%%%%%%%%\n",
      "                 ####################     %%%%%%%%%%%%%%%%%\n",
      "                   #################     %%%%%%%%%%%%%%%%%\n",
      "                    ###############     %%%%%%%%%%%%%%%%\n",
      "                      ############     %%%%%%%%%%%%%%%\n",
      "                         ########     %%%%%%%%%%%%%%\n",
      "                                     %%%%%%%%%%%\n",
      "\n",
      "                   | The OpenMC Monte Carlo Code\n",
      "         Copyright | 2011-2016 Massachusetts Institute of Technology\n",
      "           License | http://openmc.readthedocs.io/en/latest/license.html\n",
      "           Version | 0.8.0\n",
      "          Git SHA1 | b02fa21928a37a2254bec13c9802ff8173b6aefd\n",
      "         Date/Time | 2016-09-29 22:57:36\n",
      "     MPI Processes | 1\n",
      "\n",
      " ===========================================================================\n",
      " ========================>     INITIALIZATION     <=========================\n",
      " ===========================================================================\n",
      "\n",
      " Reading settings XML file...\n",
      " Reading geometry XML file...\n",
      " Reading cross sections XML file...\n",
      " Reading materials XML file...\n",
      " Reading U235 from /home/smharper/openmc/data/nndc_hdf5/U235.h5\n",
      " Reading U238 from /home/smharper/openmc/data/nndc_hdf5/U238.h5\n",
      " Reading O16 from /home/smharper/openmc/data/nndc_hdf5/O16.h5\n",
      " Reading H1 from /home/smharper/openmc/data/nndc_hdf5/H1.h5\n",
      " Reading B10 from /home/smharper/openmc/data/nndc_hdf5/B10.h5\n",
      " Reading Zr90 from /home/smharper/openmc/data/nndc_hdf5/Zr90.h5\n",
      " Maximum neutron transport energy: 20.0000 MeV for U235\n",
      " Reading tallies XML file...\n",
      " Building neighboring cells lists for each surface...\n",
      " Initializing source particles...\n",
      "\n",
      " ===========================================================================\n",
      " ====================>     K EIGENVALUE SIMULATION     <====================\n",
      " ===========================================================================\n",
      "\n",
      "  Bat./Gen.      k            Average k         \n",
      "  =========   ========   ====================   \n",
      "        1/1    1.03852                       \n",
      "        2/1    0.99743                       \n",
      "        3/1    1.02987                       \n",
      "        4/1    1.04472                       \n",
      "        5/1    1.02183                       \n",
      "        6/1    1.05263                       \n",
      "        7/1    0.99048                       \n",
      "        8/1    1.02753                       \n",
      "        9/1    1.03159                       \n",
      "       10/1    1.04005                       \n",
      "       11/1    1.05278                       \n",
      "       12/1    1.02555    1.03917 +/- 0.01362\n",
      "       13/1    0.99400    1.02411 +/- 0.01699\n",
      "       14/1    1.03508    1.02685 +/- 0.01232\n",
      "       15/1    1.00055    1.02159 +/- 0.01090\n",
      "       16/1    1.01334    1.02022 +/- 0.00900\n",
      "       17/1    0.99822    1.01707 +/- 0.00823\n",
      "       18/1    1.01767    1.01715 +/- 0.00713\n",
      "       19/1    1.05052    1.02086 +/- 0.00730\n",
      "       20/1    1.03133    1.02190 +/- 0.00661\n",
      "       21/1    1.04112    1.02365 +/- 0.00623\n",
      "       22/1    1.04175    1.02516 +/- 0.00588\n",
      "       23/1    1.01909    1.02469 +/- 0.00543\n",
      "       24/1    1.07119    1.02801 +/- 0.00603\n",
      "       25/1    0.97445    1.02444 +/- 0.00665\n",
      "       26/1    1.04737    1.02588 +/- 0.00638\n",
      "       27/1    1.04656    1.02709 +/- 0.00612\n",
      "       28/1    1.03464    1.02751 +/- 0.00578\n",
      "       29/1    1.02528    1.02739 +/- 0.00547\n",
      "       30/1    1.02799    1.02742 +/- 0.00519\n",
      "       31/1    1.05846    1.02890 +/- 0.00516\n",
      "       32/1    1.03811    1.02932 +/- 0.00493\n",
      "       33/1    1.00894    1.02843 +/- 0.00480\n",
      "       34/1    1.02049    1.02810 +/- 0.00460\n",
      "       35/1    1.00690    1.02726 +/- 0.00450\n",
      "       36/1    1.03129    1.02741 +/- 0.00432\n",
      "       37/1    0.98864    1.02597 +/- 0.00440\n",
      "       38/1    1.00017    1.02505 +/- 0.00434\n",
      "       39/1    1.03635    1.02544 +/- 0.00421\n",
      "       40/1    1.07090    1.02696 +/- 0.00434\n",
      "       41/1    1.03141    1.02710 +/- 0.00420\n",
      "       42/1    1.02624    1.02707 +/- 0.00406\n",
      "       43/1    1.02668    1.02706 +/- 0.00394\n",
      "       44/1    1.05940    1.02801 +/- 0.00394\n",
      "       45/1    1.01149    1.02754 +/- 0.00385\n",
      "       46/1    1.06958    1.02871 +/- 0.00392\n",
      "       47/1    1.02674    1.02866 +/- 0.00381\n",
      "       48/1    1.02542    1.02857 +/- 0.00371\n",
      "       49/1    1.03516    1.02874 +/- 0.00362\n",
      "       50/1    1.06818    1.02973 +/- 0.00366\n",
      " Creating state point statepoint.50.h5...\n",
      "\n",
      " ===========================================================================\n",
      " ======================>     SIMULATION FINISHED     <======================\n",
      " ===========================================================================\n",
      "\n",
      "\n",
      " =======================>     TIMING STATISTICS     <=======================\n",
      "\n",
      " Total time for initialization     =  3.1500E-01 seconds\n",
      "   Reading cross sections          =  1.8000E-01 seconds\n",
      " Total time in simulation          =  6.0566E+01 seconds\n",
      "   Time in transport only          =  6.0351E+01 seconds\n",
      "   Time in inactive batches        =  5.1910E+00 seconds\n",
      "   Time in active batches          =  5.5375E+01 seconds\n",
      "   Time synchronizing fission bank =  7.0000E-03 seconds\n",
      "     Sampling source sites         =  2.0000E-03 seconds\n",
      "     SEND/RECV source sites        =  4.0000E-03 seconds\n",
      "   Time accumulating tallies       =  1.7900E-01 seconds\n",
      " Total time for finalization       =  3.0000E-03 seconds\n",
      " Total time elapsed                =  6.0903E+01 seconds\n",
      " Calculation Rate (inactive)       =  4816.03 neutrons/second\n",
      " Calculation Rate (active)         =  1805.87 neutrons/second\n",
      "\n",
      " ============================>     RESULTS     <============================\n",
      "\n",
      " k-effective (Collision)     =  1.02763 +/-  0.00343\n",
      " k-effective (Track-length)  =  1.02973 +/-  0.00366\n",
      " k-effective (Absorption)    =  1.02732 +/-  0.00319\n",
      " Combined k-effective        =  1.02826 +/-  0.00259\n",
      " Leakage Fraction            =  0.00000 +/-  0.00000\n",
      "\n"
     ]
    },
    {
     "data": {
      "text/plain": [
       "0"
      ]
     },
     "execution_count": 19,
     "metadata": {},
     "output_type": "execute_result"
    }
   ],
   "source": [
    "# Run OpenMC\n",
    "openmc.run()"
   ]
  },
  {
   "cell_type": "markdown",
   "metadata": {},
   "source": [
    "## Tally Data Processing"
   ]
  },
  {
   "cell_type": "markdown",
   "metadata": {},
   "source": [
    "Our simulation ran successfully and created statepoint and summary output files. We begin our analysis by instantiating a `StatePoint` object. "
   ]
  },
  {
   "cell_type": "code",
   "execution_count": 20,
   "metadata": {
    "collapsed": false
   },
   "outputs": [],
   "source": [
    "# Load the last statepoint file\n",
    "sp = openmc.StatePoint('statepoint.50.h5')"
   ]
  },
  {
   "cell_type": "markdown",
   "metadata": {},
   "source": [
    "The statepoint is now ready to be analyzed by the `Library`. We simply have to load the tallies from the statepoint into the `Library` and our `MGXS` objects will compute the cross sections for us under-the-hood."
   ]
  },
  {
   "cell_type": "code",
   "execution_count": 21,
   "metadata": {
    "collapsed": false
   },
   "outputs": [],
   "source": [
    "# Initialize MGXS Library with OpenMC statepoint data\n",
    "mgxs_lib.load_from_statepoint(sp)\n",
    "\n",
    "# Extrack the current tally separately\n",
    "current_tally = sp.get_tally(name='current tally')"
   ]
  },
  {
   "cell_type": "markdown",
   "metadata": {},
   "source": [
    "# Using Tally Arithmetic to Compute the Delayed Neutron Precursor Concentrations"
   ]
  },
  {
   "cell_type": "markdown",
   "metadata": {},
   "source": [
    "Finally, we illustrate how one can leverage OpenMC's [tally arithmetic](https://mit-crpg.github.io/openmc/pythonapi/examples/tally-arithmetic.html) data processing feature with `MGXS` objects. The `openmc.mgxs` module uses tally arithmetic to compute multi-group cross sections with automated uncertainty propagation. Each `MGXS` object includes an `xs_tally` attribute which is a \"derived\" `Tally` based on the tallies needed to compute the cross section type of interest. These derived tallies can be used in subsequent tally arithmetic operations. For example, we can use tally artithmetic to compute the delayed neutron precursor concentrations using the `Beta` and `DelayedNuFissionXS` objects. The delayed neutron precursor concentrations are modeled using the following equations:\n",
    "\n",
    "$$\\frac{\\partial}{\\partial t} C_{k,d} (t) = \\int_{0}^{\\infty}\\mathrm{d}E'\\int_{\\mathbf{r} \\in V_{k}}\\mathrm{d}\\mathbf{r} \\beta_{k,d} (t) \\nu_d \\sigma_{f,x}(\\mathbf{r},E',t)\\Phi(\\mathbf{r},E',t) - \\lambda_{d} C_{k,d} (t) $$\n",
    "\n",
    "$$C_{k,d} (t=0) = \\frac{1}{\\lambda_{d}} \\int_{0}^{\\infty}\\mathrm{d}E'\\int_{\\mathbf{r} \\in V_{k}}\\mathrm{d}\\mathbf{r} \\beta_{k,d} (t=0) \\nu_d \\sigma_{f,x}(\\mathbf{r},E',t=0)\\Phi(\\mathbf{r},E',t=0) $$"
   ]
  },
  {
   "cell_type": "code",
   "execution_count": 22,
   "metadata": {
    "collapsed": false
   },
   "outputs": [
    {
     "name": "stderr",
     "output_type": "stream",
     "text": [
      "/usr/local/lib/python3.5/dist-packages/numpy/lib/shape_base.py:873: VisibleDeprecationWarning: using a non-integer number instead of an integer will result in an error in the future\n",
      "  return c.reshape(shape_out)\n"
     ]
    },
    {
     "data": {
      "text/html": [
       "<div>\n",
       "<table border=\"1\" class=\"dataframe\">\n",
       "  <thead>\n",
       "    <tr>\n",
       "      <th></th>\n",
       "      <th colspan=\"3\" halign=\"left\">mesh 1</th>\n",
       "      <th>delayedgroup</th>\n",
       "      <th>nuclide</th>\n",
       "      <th>score</th>\n",
       "      <th>mean</th>\n",
       "      <th>std. dev.</th>\n",
       "    </tr>\n",
       "    <tr>\n",
       "      <th></th>\n",
       "      <th>x</th>\n",
       "      <th>y</th>\n",
       "      <th>z</th>\n",
       "      <th></th>\n",
       "      <th></th>\n",
       "      <th></th>\n",
       "      <th></th>\n",
       "      <th></th>\n",
       "    </tr>\n",
       "  </thead>\n",
       "  <tbody>\n",
       "    <tr>\n",
       "      <th>0</th>\n",
       "      <td>1</td>\n",
       "      <td>1</td>\n",
       "      <td>1</td>\n",
       "      <td>1</td>\n",
       "      <td>total</td>\n",
       "      <td>(((delayed-nu-fission / nu-fission) * (delayed...</td>\n",
       "      <td>0.002504</td>\n",
       "      <td>0.000687</td>\n",
       "    </tr>\n",
       "    <tr>\n",
       "      <th>1</th>\n",
       "      <td>1</td>\n",
       "      <td>1</td>\n",
       "      <td>1</td>\n",
       "      <td>2</td>\n",
       "      <td>total</td>\n",
       "      <td>(((delayed-nu-fission / nu-fission) * (delayed...</td>\n",
       "      <td>0.001094</td>\n",
       "      <td>0.000111</td>\n",
       "    </tr>\n",
       "    <tr>\n",
       "      <th>2</th>\n",
       "      <td>1</td>\n",
       "      <td>1</td>\n",
       "      <td>1</td>\n",
       "      <td>3</td>\n",
       "      <td>total</td>\n",
       "      <td>(((delayed-nu-fission / nu-fission) * (delayed...</td>\n",
       "      <td>0.009430</td>\n",
       "      <td>0.001004</td>\n",
       "    </tr>\n",
       "    <tr>\n",
       "      <th>3</th>\n",
       "      <td>1</td>\n",
       "      <td>1</td>\n",
       "      <td>1</td>\n",
       "      <td>4</td>\n",
       "      <td>total</td>\n",
       "      <td>(((delayed-nu-fission / nu-fission) * (delayed...</td>\n",
       "      <td>0.087406</td>\n",
       "      <td>0.006221</td>\n",
       "    </tr>\n",
       "    <tr>\n",
       "      <th>4</th>\n",
       "      <td>1</td>\n",
       "      <td>1</td>\n",
       "      <td>1</td>\n",
       "      <td>5</td>\n",
       "      <td>total</td>\n",
       "      <td>(((delayed-nu-fission / nu-fission) * (delayed...</td>\n",
       "      <td>0.039974</td>\n",
       "      <td>0.002638</td>\n",
       "    </tr>\n",
       "    <tr>\n",
       "      <th>5</th>\n",
       "      <td>1</td>\n",
       "      <td>1</td>\n",
       "      <td>1</td>\n",
       "      <td>6</td>\n",
       "      <td>total</td>\n",
       "      <td>(((delayed-nu-fission / nu-fission) * (delayed...</td>\n",
       "      <td>0.002251</td>\n",
       "      <td>0.000324</td>\n",
       "    </tr>\n",
       "    <tr>\n",
       "      <th>6</th>\n",
       "      <td>1</td>\n",
       "      <td>2</td>\n",
       "      <td>1</td>\n",
       "      <td>1</td>\n",
       "      <td>total</td>\n",
       "      <td>(((delayed-nu-fission / nu-fission) * (delayed...</td>\n",
       "      <td>0.004193</td>\n",
       "      <td>0.001632</td>\n",
       "    </tr>\n",
       "    <tr>\n",
       "      <th>7</th>\n",
       "      <td>1</td>\n",
       "      <td>2</td>\n",
       "      <td>1</td>\n",
       "      <td>2</td>\n",
       "      <td>total</td>\n",
       "      <td>(((delayed-nu-fission / nu-fission) * (delayed...</td>\n",
       "      <td>0.000992</td>\n",
       "      <td>0.000075</td>\n",
       "    </tr>\n",
       "    <tr>\n",
       "      <th>8</th>\n",
       "      <td>1</td>\n",
       "      <td>2</td>\n",
       "      <td>1</td>\n",
       "      <td>3</td>\n",
       "      <td>total</td>\n",
       "      <td>(((delayed-nu-fission / nu-fission) * (delayed...</td>\n",
       "      <td>0.007720</td>\n",
       "      <td>0.000821</td>\n",
       "    </tr>\n",
       "    <tr>\n",
       "      <th>9</th>\n",
       "      <td>1</td>\n",
       "      <td>2</td>\n",
       "      <td>1</td>\n",
       "      <td>4</td>\n",
       "      <td>total</td>\n",
       "      <td>(((delayed-nu-fission / nu-fission) * (delayed...</td>\n",
       "      <td>0.095094</td>\n",
       "      <td>0.005909</td>\n",
       "    </tr>\n",
       "  </tbody>\n",
       "</table>\n",
       "</div>"
      ],
      "text/plain": [
       "  mesh 1       delayedgroup nuclide  \\\n",
       "       x  y  z                        \n",
       "0      1  1  1            1   total   \n",
       "1      1  1  1            2   total   \n",
       "2      1  1  1            3   total   \n",
       "3      1  1  1            4   total   \n",
       "4      1  1  1            5   total   \n",
       "5      1  1  1            6   total   \n",
       "6      1  2  1            1   total   \n",
       "7      1  2  1            2   total   \n",
       "8      1  2  1            3   total   \n",
       "9      1  2  1            4   total   \n",
       "\n",
       "                                               score      mean std. dev.  \n",
       "                                                                          \n",
       "0  (((delayed-nu-fission / nu-fission) * (delayed...  0.002504  0.000687  \n",
       "1  (((delayed-nu-fission / nu-fission) * (delayed...  0.001094  0.000111  \n",
       "2  (((delayed-nu-fission / nu-fission) * (delayed...  0.009430  0.001004  \n",
       "3  (((delayed-nu-fission / nu-fission) * (delayed...  0.087406  0.006221  \n",
       "4  (((delayed-nu-fission / nu-fission) * (delayed...  0.039974  0.002638  \n",
       "5  (((delayed-nu-fission / nu-fission) * (delayed...  0.002251  0.000324  \n",
       "6  (((delayed-nu-fission / nu-fission) * (delayed...  0.004193  0.001632  \n",
       "7  (((delayed-nu-fission / nu-fission) * (delayed...  0.000992  0.000075  \n",
       "8  (((delayed-nu-fission / nu-fission) * (delayed...  0.007720  0.000821  \n",
       "9  (((delayed-nu-fission / nu-fission) * (delayed...  0.095094  0.005909  "
      ]
     },
     "execution_count": 22,
     "metadata": {},
     "output_type": "execute_result"
    }
   ],
   "source": [
    "# Set the time constants for the delayed precursors (in seconds^-1)\n",
    "precursor_halflife = np.array([55.6, 24.5, 16.3, 2.37, 0.424, 0.195])\n",
    "precursor_lambda = -np.log(0.5) / precursor_halflife\n",
    "\n",
    "beta = mgxs_lib.get_mgxs(mesh, 'beta')\n",
    "\n",
    "# Create a tally object with only the delayed group filter for the time constants\n",
    "beta_filters = [f for f in beta.xs_tally.filters if type(f) is not openmc.DelayedGroupFilter]\n",
    "lambda_tally = beta.xs_tally.summation(nuclides=beta.xs_tally.nuclides)\n",
    "for f in beta_filters:\n",
    "    lambda_tally = lambda_tally.summation(filter_type=type(f), remove_filter=True) * 0. + 1.\n",
    "\n",
    "# Set the mean of the lambda tally and reshape to account for nuclides and scores\n",
    "lambda_tally._mean = precursor_lambda\n",
    "lambda_tally._mean.shape = lambda_tally.std_dev.shape\n",
    "\n",
    "# Set a total nuclide and lambda score\n",
    "lambda_tally.nuclides = [openmc.Nuclide(name='total')]\n",
    "lambda_tally.scores = ['lambda']\n",
    "\n",
    "delayed_nu_fission = mgxs_lib.get_mgxs(mesh, 'delayed-nu-fission')\n",
    "\n",
    "# Use tally arithmetic to compute the precursor concentrations\n",
    "precursor_conc = beta.xs_tally.summation(filter_type=openmc.EnergyFilter, remove_filter=True) * \\\n",
    "    delayed_nu_fission.xs_tally.summation(filter_type=openmc.EnergyFilter, remove_filter=True) / lambda_tally\n",
    "    \n",
    "# The difference is a derived tally which can generate Pandas DataFrames for inspection\n",
    "precursor_conc.get_pandas_dataframe().head(10)"
   ]
  },
  {
   "cell_type": "markdown",
   "metadata": {},
   "source": [
    "Another useful feature of the Python API is the ability to extract the surface currents for the interfaces and surfaces of a mesh. We can inspect the currents for the mesh by getting the pandas dataframe."
   ]
  },
  {
   "cell_type": "code",
   "execution_count": 23,
   "metadata": {
    "collapsed": false
   },
   "outputs": [
    {
     "name": "stderr",
     "output_type": "stream",
     "text": [
      "/usr/local/lib/python3.5/dist-packages/numpy/lib/shape_base.py:873: VisibleDeprecationWarning: using a non-integer number instead of an integer will result in an error in the future\n",
      "  return c.reshape(shape_out)\n"
     ]
    },
    {
     "data": {
      "text/html": [
       "<div>\n",
       "<table border=\"1\" class=\"dataframe\">\n",
       "  <thead>\n",
       "    <tr>\n",
       "      <th></th>\n",
       "      <th colspan=\"3\" halign=\"left\">mesh 1</th>\n",
       "      <th>surface</th>\n",
       "      <th>nuclide</th>\n",
       "      <th>score</th>\n",
       "      <th>mean</th>\n",
       "      <th>std. dev.</th>\n",
       "    </tr>\n",
       "    <tr>\n",
       "      <th></th>\n",
       "      <th>x</th>\n",
       "      <th>y</th>\n",
       "      <th>z</th>\n",
       "      <th></th>\n",
       "      <th></th>\n",
       "      <th></th>\n",
       "      <th></th>\n",
       "      <th></th>\n",
       "    </tr>\n",
       "  </thead>\n",
       "  <tbody>\n",
       "    <tr>\n",
       "      <th>0</th>\n",
       "      <td>1</td>\n",
       "      <td>1</td>\n",
       "      <td>1</td>\n",
       "      <td>x-min out</td>\n",
       "      <td>total</td>\n",
       "      <td>current</td>\n",
       "      <td>0.00000</td>\n",
       "      <td>0.000000</td>\n",
       "    </tr>\n",
       "    <tr>\n",
       "      <th>1</th>\n",
       "      <td>1</td>\n",
       "      <td>1</td>\n",
       "      <td>1</td>\n",
       "      <td>x-max out</td>\n",
       "      <td>total</td>\n",
       "      <td>current</td>\n",
       "      <td>0.00000</td>\n",
       "      <td>0.000000</td>\n",
       "    </tr>\n",
       "    <tr>\n",
       "      <th>2</th>\n",
       "      <td>1</td>\n",
       "      <td>1</td>\n",
       "      <td>1</td>\n",
       "      <td>y-min out</td>\n",
       "      <td>total</td>\n",
       "      <td>current</td>\n",
       "      <td>0.03162</td>\n",
       "      <td>0.000690</td>\n",
       "    </tr>\n",
       "    <tr>\n",
       "      <th>3</th>\n",
       "      <td>1</td>\n",
       "      <td>1</td>\n",
       "      <td>1</td>\n",
       "      <td>y-max out</td>\n",
       "      <td>total</td>\n",
       "      <td>current</td>\n",
       "      <td>0.03150</td>\n",
       "      <td>0.000629</td>\n",
       "    </tr>\n",
       "    <tr>\n",
       "      <th>4</th>\n",
       "      <td>1</td>\n",
       "      <td>1</td>\n",
       "      <td>1</td>\n",
       "      <td>z-min out</td>\n",
       "      <td>total</td>\n",
       "      <td>current</td>\n",
       "      <td>0.00000</td>\n",
       "      <td>0.000000</td>\n",
       "    </tr>\n",
       "    <tr>\n",
       "      <th>5</th>\n",
       "      <td>1</td>\n",
       "      <td>1</td>\n",
       "      <td>1</td>\n",
       "      <td>z-max out</td>\n",
       "      <td>total</td>\n",
       "      <td>current</td>\n",
       "      <td>0.00000</td>\n",
       "      <td>0.000000</td>\n",
       "    </tr>\n",
       "    <tr>\n",
       "      <th>6</th>\n",
       "      <td>1</td>\n",
       "      <td>1</td>\n",
       "      <td>1</td>\n",
       "      <td>x-min in</td>\n",
       "      <td>total</td>\n",
       "      <td>current</td>\n",
       "      <td>0.03177</td>\n",
       "      <td>0.000645</td>\n",
       "    </tr>\n",
       "    <tr>\n",
       "      <th>7</th>\n",
       "      <td>1</td>\n",
       "      <td>1</td>\n",
       "      <td>1</td>\n",
       "      <td>x-max in</td>\n",
       "      <td>total</td>\n",
       "      <td>current</td>\n",
       "      <td>0.03192</td>\n",
       "      <td>0.000561</td>\n",
       "    </tr>\n",
       "    <tr>\n",
       "      <th>8</th>\n",
       "      <td>1</td>\n",
       "      <td>1</td>\n",
       "      <td>1</td>\n",
       "      <td>y-min in</td>\n",
       "      <td>total</td>\n",
       "      <td>current</td>\n",
       "      <td>0.00000</td>\n",
       "      <td>0.000000</td>\n",
       "    </tr>\n",
       "    <tr>\n",
       "      <th>9</th>\n",
       "      <td>1</td>\n",
       "      <td>1</td>\n",
       "      <td>1</td>\n",
       "      <td>y-max in</td>\n",
       "      <td>total</td>\n",
       "      <td>current</td>\n",
       "      <td>0.00000</td>\n",
       "      <td>0.000000</td>\n",
       "    </tr>\n",
       "  </tbody>\n",
       "</table>\n",
       "</div>"
      ],
      "text/plain": [
       "  mesh 1          surface nuclide    score     mean std. dev.\n",
       "       x  y  z                                               \n",
       "0      1  1  1  x-min out   total  current  0.00000  0.000000\n",
       "1      1  1  1  x-max out   total  current  0.00000  0.000000\n",
       "2      1  1  1  y-min out   total  current  0.03162  0.000690\n",
       "3      1  1  1  y-max out   total  current  0.03150  0.000629\n",
       "4      1  1  1  z-min out   total  current  0.00000  0.000000\n",
       "5      1  1  1  z-max out   total  current  0.00000  0.000000\n",
       "6      1  1  1   x-min in   total  current  0.03177  0.000645\n",
       "7      1  1  1   x-max in   total  current  0.03192  0.000561\n",
       "8      1  1  1   y-min in   total  current  0.00000  0.000000\n",
       "9      1  1  1   y-max in   total  current  0.00000  0.000000"
      ]
     },
     "execution_count": 23,
     "metadata": {},
     "output_type": "execute_result"
    }
   ],
   "source": [
    "current_tally.get_pandas_dataframe().head(10)"
   ]
  },
  {
   "cell_type": "markdown",
   "metadata": {},
   "source": [
    "## Cross Section Visualizations"
   ]
  },
  {
   "cell_type": "markdown",
   "metadata": {},
   "source": [
    "In addition to inspecting the data in the tallies by getting the pandas dataframe, we can also plot the tally data on the domain mesh. Below is the delayed neutron fraction tallied in each mesh cell for each delayed group."
   ]
  },
  {
   "cell_type": "code",
   "execution_count": 24,
   "metadata": {
    "collapsed": false
   },
   "outputs": [
    {
     "data": {
      "text/plain": [
       "<matplotlib.text.Text at 0x7fce39d1d5f8>"
      ]
     },
     "execution_count": 24,
     "metadata": {},
     "output_type": "execute_result"
    },
    {
     "data": {
      "image/png": "[encoded data removed]",
      "text/plain": [
       "<matplotlib.figure.Figure at 0x7fce3a33bd30>"
      ]
     },
     "metadata": {},
     "output_type": "display_data"
    }
   ],
   "source": [
    "# Extract the energy-condensed delayed neutron fraction tally\n",
    "beta_by_group = beta.get_condensed_xs(one_group).xs_tally.summation(filter_type='energy', remove_filter=True)\n",
    "beta_by_group.mean.shape = (17, 17, 6)\n",
    "beta_by_group.mean[beta_by_group.mean == 0] = np.nan\n",
    "\n",
    "# Plot the betas\n",
    "plt.figure(figsize=(18,9))\n",
    "fig = plt.subplot(231)\n",
    "plt.imshow(beta_by_group.mean[:,:,0], interpolation='none', cmap='jet')\n",
    "plt.colorbar()\n",
    "plt.title('Beta - delayed group 1')\n",
    "\n",
    "fig = plt.subplot(232)\n",
    "plt.imshow(beta_by_group.mean[:,:,1], interpolation='none', cmap='jet')\n",
    "plt.colorbar()\n",
    "plt.title('Beta - delayed group 2')\n",
    "\n",
    "fig = plt.subplot(233)\n",
    "plt.imshow(beta_by_group.mean[:,:,2], interpolation='none', cmap='jet')\n",
    "plt.colorbar()\n",
    "plt.title('Beta - delayed group 3')\n",
    "\n",
    "fig = plt.subplot(234)\n",
    "plt.imshow(beta_by_group.mean[:,:,3], interpolation='none', cmap='jet')\n",
    "plt.colorbar()\n",
    "plt.title('Beta - delayed group 4')\n",
    "\n",
    "fig = plt.subplot(235)\n",
    "plt.imshow(beta_by_group.mean[:,:,4], interpolation='none', cmap='jet')\n",
    "plt.colorbar()\n",
    "plt.title('Beta - delayed group 5')\n",
    "\n",
    "fig = plt.subplot(236)\n",
    "plt.imshow(beta_by_group.mean[:,:,5], interpolation='none', cmap='jet')\n",
    "plt.colorbar()\n",
    "plt.title('Beta - delayed group 6')"
   ]
  },
  {
   "cell_type": "code",
   "execution_count": null,
   "metadata": {
    "collapsed": true
   },
   "outputs": [],
   "source": []
  }
 ],
 "metadata": {
  "kernelspec": {
   "display_name": "Python 3",
   "language": "python",
   "name": "python3"
  },
  "language_info": {
   "codemirror_mode": {
    "name": "ipython",
    "version": 3
   },
   "file_extension": ".py",
   "mimetype": "text/x-python",
   "name": "python",
   "nbconvert_exporter": "python",
   "pygments_lexer": "ipython3",
   "version": "3.5.2"
  }
 },
 "nbformat": 4,
 "nbformat_minor": 0
}
