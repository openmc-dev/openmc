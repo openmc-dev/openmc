{
 "cells": [
  {
   "cell_type": "markdown",
   "metadata": {},
   "source": [
    "This Notebook illustrates the use of the openmc.mgxs.Library class specifically for application in OpenMC's multi-group mode. This example notebook follows the same process as was done in MGXS Part III, but instead uses OpenMC as the multi-group solver. This Notebook illustrates the following features:\n",
    "\n",
    "   - Calculation of multi-group cross sections for a fuel assembly\n",
    "   - Automated creation, manipulation and storage of MGXS with openmc.mgxs.Library\n",
    "   - Validation of multi-group cross sections with OpenMC\n",
    "   - Steady-state pin-by-pin fission rates comparison between Continuous-Energy mode and Multi-Group OpenMC.\n",
    "\n",
    "Note: This Notebook illustrates the use of Pandas DataFrames to containerize multi-group cross section data. We recommend using Pandas >v0.15.0 or later since OpenMC's Python API leverages the multi-indexing feature included in the most recent releases of Pandas.\n"
   ]
  },
  {
   "cell_type": "markdown",
   "metadata": {},
   "source": [
    "# Generate Input Files"
   ]
  },
  {
   "cell_type": "code",
   "execution_count": 1,
   "metadata": {
    "collapsed": false
   },
   "outputs": [],
   "source": [
    "import math\n",
    "import pickle\n",
    "\n",
    "from IPython.display import Image\n",
    "import matplotlib.pyplot as plt\n",
    "import numpy as np\n",
    "import os\n",
    "\n",
    "import openmc\n",
    "import openmc.mgxs\n",
    "\n",
    "%matplotlib inline"
   ]
  },
  {
   "cell_type": "markdown",
   "metadata": {},
   "source": [
    "\n",
    "First we need to define materials that will be used in the problem. Before defining a material, we must create nuclides that are used in the material."
   ]
  },
  {
   "cell_type": "code",
   "execution_count": 2,
   "metadata": {
    "collapsed": true
   },
   "outputs": [],
   "source": [
    "# Instantiate some Nuclides\n",
    "h1 = openmc.Nuclide('H-1')\n",
    "b10 = openmc.Nuclide('B-10')\n",
    "o16 = openmc.Nuclide('O-16')\n",
    "u235 = openmc.Nuclide('U-235')\n",
    "u238 = openmc.Nuclide('U-238')\n",
    "zr90 = openmc.Nuclide('Zr-90')"
   ]
  },
  {
   "cell_type": "markdown",
   "metadata": {},
   "source": [
    "With the nuclides we defined, we will now create three materials for the fuel, water, and cladding of the fuel pins."
   ]
  },
  {
   "cell_type": "code",
   "execution_count": 3,
   "metadata": {
    "collapsed": false
   },
   "outputs": [],
   "source": [
    "# 1.6 enriched fuel\n",
    "fuel = openmc.Material(name='1.6% Fuel')\n",
    "fuel.set_density('g/cm3', 10.31341)\n",
    "fuel.add_nuclide(u235, 3.7503e-4)\n",
    "fuel.add_nuclide(u238, 2.2625e-2)\n",
    "fuel.add_nuclide(o16, 4.6007e-2)\n",
    "\n",
    "# borated water\n",
    "water = openmc.Material(name='Borated Water')\n",
    "water.set_density('g/cm3', 0.740582)\n",
    "water.add_nuclide(h1, 4.9457e-2)\n",
    "water.add_nuclide(o16, 2.4732e-2)\n",
    "water.add_nuclide(b10, 8.0042e-6)\n",
    "\n",
    "# zircaloy\n",
    "zircaloy = openmc.Material(name='Zircaloy')\n",
    "zircaloy.set_density('g/cm3', 6.55)\n",
    "zircaloy.add_nuclide(zr90, 7.2758e-3)"
   ]
  },
  {
   "cell_type": "markdown",
   "metadata": {},
   "source": [
    "With our three materials, we can now create a Materials object that can be exported to an actual XML file."
   ]
  },
  {
   "cell_type": "code",
   "execution_count": 4,
   "metadata": {
    "collapsed": true
   },
   "outputs": [],
   "source": [
    "# Instantiate a Materials object\n",
    "materials_file = openmc.Materials((fuel, water, zircaloy))\n",
    "materials_file.default_xs = '71c'\n",
    "\n",
    "# Export to \"materials.xml\"\n",
    "materials_file.export_to_xml()"
   ]
  },
  {
   "cell_type": "markdown",
   "metadata": {},
   "source": [
    "Now let's move on to the geometry. This problem will be a square array of fuel pins and control rod guide tubes for which we can use OpenMC's lattice/universe feature. The basic universe will have three regions for the fuel, the clad, and the surrounding coolant. The first step is to create the bounding surfaces for fuel and clad, as well as the outer bounding surfaces of the problem."
   ]
  },
  {
   "cell_type": "code",
   "execution_count": 5,
   "metadata": {
    "collapsed": true
   },
   "outputs": [],
   "source": [
    "# Create cylinders for the fuel and clad\n",
    "fuel_outer_radius = openmc.ZCylinder(x0=0.0, y0=0.0, R=0.39218)\n",
    "clad_outer_radius = openmc.ZCylinder(x0=0.0, y0=0.0, R=0.45720)\n",
    "\n",
    "# Create boundary planes to surround the geometry\n",
    "min_x = openmc.XPlane(x0=-10.71, boundary_type='reflective')\n",
    "max_x = openmc.XPlane(x0=+10.71, boundary_type='reflective')\n",
    "min_y = openmc.YPlane(y0=-10.71, boundary_type='reflective')\n",
    "max_y = openmc.YPlane(y0=+10.71, boundary_type='reflective')\n",
    "min_z = openmc.ZPlane(z0=-10., boundary_type='reflective')\n",
    "max_z = openmc.ZPlane(z0=+10., boundary_type='reflective')"
   ]
  },
  {
   "cell_type": "markdown",
   "metadata": {},
   "source": [
    "With the surfaces defined, we can now construct a fuel pin cell from cells that are defined by intersections of half-spaces created by the surfaces."
   ]
  },
  {
   "cell_type": "code",
   "execution_count": 6,
   "metadata": {
    "collapsed": false
   },
   "outputs": [],
   "source": [
    "# Create a Universe to encapsulate a fuel pin\n",
    "fuel_pin_universe = openmc.Universe(name='1.6% Fuel Pin', universe_id=10)\n",
    "\n",
    "# Create fuel Cell\n",
    "fuel_cell = openmc.Cell(name='1.6% Fuel', cell_id=1)\n",
    "fuel_cell.fill = fuel\n",
    "fuel_cell.region = -fuel_outer_radius\n",
    "fuel_pin_universe.add_cell(fuel_cell)\n",
    "\n",
    "# Create a clad Cell\n",
    "clad_cell = openmc.Cell(name='1.6% Clad', cell_id=2)\n",
    "clad_cell.fill = zircaloy\n",
    "clad_cell.region = +fuel_outer_radius & -clad_outer_radius\n",
    "fuel_pin_universe.add_cell(clad_cell)\n",
    "\n",
    "# Create a moderator Cell\n",
    "moderator_cell = openmc.Cell(name='1.6% Moderator', cell_id=3)\n",
    "moderator_cell.fill = water\n",
    "moderator_cell.region = +clad_outer_radius\n",
    "fuel_pin_universe.add_cell(moderator_cell)"
   ]
  },
  {
   "cell_type": "markdown",
   "metadata": {},
   "source": [
    "Likewise, we can construct a control rod guide tube with the same surfaces."
   ]
  },
  {
   "cell_type": "code",
   "execution_count": 7,
   "metadata": {
    "collapsed": false
   },
   "outputs": [],
   "source": [
    "# Create a Universe to encapsulate a control rod guide tube\n",
    "guide_tube_universe = openmc.Universe(name='Guide Tube', universe_id=20)\n",
    "\n",
    "# Create guide tube Cell\n",
    "guide_tube_cell = openmc.Cell(name='Guide Tube Water', cell_id=4)\n",
    "guide_tube_cell.fill = water\n",
    "guide_tube_cell.region = -fuel_outer_radius\n",
    "guide_tube_universe.add_cell(guide_tube_cell)\n",
    "\n",
    "# Create a clad Cell\n",
    "clad_cell = openmc.Cell(name='Guide Clad', cell_id=5)\n",
    "clad_cell.fill = zircaloy\n",
    "clad_cell.region = +fuel_outer_radius & -clad_outer_radius\n",
    "guide_tube_universe.add_cell(clad_cell)\n",
    "\n",
    "# Create a moderator Cell\n",
    "moderator_cell = openmc.Cell(name='Guide Tube Moderator', cell_id=6)\n",
    "moderator_cell.fill = water\n",
    "moderator_cell.region = +clad_outer_radius\n",
    "guide_tube_universe.add_cell(moderator_cell)"
   ]
  },
  {
   "cell_type": "markdown",
   "metadata": {},
   "source": [
    "Using the pin cell universe, we can construct a 17x17 rectangular lattice with a 1.26 cm pitch."
   ]
  },
  {
   "cell_type": "code",
   "execution_count": 8,
   "metadata": {
    "collapsed": false
   },
   "outputs": [],
   "source": [
    "# Create fuel assembly Lattice\n",
    "assembly = openmc.RectLattice(name='1.6% Fuel Assembly', lattice_id=100)\n",
    "assembly.dimension = (17, 17)\n",
    "assembly.pitch = (1.26, 1.26)\n",
    "assembly.lower_left = [-1.26 * 17. / 2.0] * 2"
   ]
  },
  {
   "cell_type": "markdown",
   "metadata": {},
   "source": [
    "Next, we create a NumPy array of fuel pin and guide tube universes for the lattice."
   ]
  },
  {
   "cell_type": "code",
   "execution_count": 9,
   "metadata": {
    "collapsed": true
   },
   "outputs": [],
   "source": [
    "# Create array indices for guide tube locations in lattice\n",
    "template_x = np.array([5, 8, 11, 3, 13, 2, 5, 8, 11, 14, 2, 5, 8,\n",
    "                       11, 14, 2, 5, 8, 11, 14, 3, 13, 5, 8, 11])\n",
    "template_y = np.array([2, 2, 2, 3, 3, 5, 5, 5, 5, 5, 8, 8, 8, 8,\n",
    "                       8, 11, 11, 11, 11, 11, 13, 13, 14, 14, 14])\n",
    "\n",
    "# Initialize an empty 17x17 array of the lattice universes\n",
    "universes = np.empty((17, 17), dtype=openmc.Universe)\n",
    "\n",
    "# Fill the array with the fuel pin and guide tube universes\n",
    "universes[:,:] = fuel_pin_universe\n",
    "universes[template_x, template_y] = guide_tube_universe\n",
    "\n",
    "# Store the array of universes in the lattice\n",
    "assembly.universes = universes"
   ]
  },
  {
   "cell_type": "markdown",
   "metadata": {},
   "source": [
    "OpenMC requires that there is a \"root\" universe. Let us create a root cell that is filled by the pin cell universe and then assign it to the root universe."
   ]
  },
  {
   "cell_type": "code",
   "execution_count": 10,
   "metadata": {
    "collapsed": false
   },
   "outputs": [],
   "source": [
    "# Create root Cell\n",
    "root_cell = openmc.Cell(name='root cell', cell_id=0)\n",
    "root_cell.fill = assembly\n",
    "\n",
    "# Add boundary planes\n",
    "root_cell.region = +min_x & -max_x & +min_y & -max_y & +min_z & -max_z\n",
    "\n",
    "# Create root Universe\n",
    "root_universe = openmc.Universe(universe_id=0, name='root universe')\n",
    "root_universe.add_cell(root_cell)"
   ]
  },
  {
   "cell_type": "markdown",
   "metadata": {},
   "source": [
    "We now must create a geometry that is assigned a root universe and export it to XML."
   ]
  },
  {
   "cell_type": "code",
   "execution_count": 11,
   "metadata": {
    "collapsed": true
   },
   "outputs": [],
   "source": [
    "# Create Geometry and set root Universe\n",
    "geometry = openmc.Geometry()\n",
    "geometry.root_universe = root_universe\n",
    "# Export to \"geometry.xml\"\n",
    "geometry.export_to_xml()"
   ]
  },
  {
   "cell_type": "markdown",
   "metadata": {},
   "source": [
    "With the geometry and materials finished, we now just need to define simulation parameters. In this case, we will use 10 inactive batches and 40 active batches each with 2500 particles."
   ]
  },
  {
   "cell_type": "code",
   "execution_count": 12,
   "metadata": {
    "collapsed": true
   },
   "outputs": [],
   "source": [
    "# OpenMC simulation parameters\n",
    "batches = 500\n",
    "inactive = 10\n",
    "particles = 5000\n",
    "\n",
    "# Instantiate a Settings object\n",
    "settings_file = openmc.Settings()\n",
    "settings_file.batches = batches\n",
    "settings_file.inactive = inactive\n",
    "settings_file.particles = particles\n",
    "settings_file.output = {'tallies': False}\n",
    "\n",
    "# Create an initial uniform spatial source distribution over fissionable zones\n",
    "bounds = [-10.71, -10.71, -10, 10.71, 10.71, 10.]\n",
    "uniform_dist = openmc.stats.Box(bounds[:3], bounds[3:], only_fissionable=True)\n",
    "settings_file.source = openmc.source.Source(space=uniform_dist)\n",
    "\n",
    "# Export to \"settings.xml\"\n",
    "settings_file.export_to_xml()"
   ]
  },
  {
   "cell_type": "markdown",
   "metadata": {},
   "source": [
    "Let us also create a Plots file that we can use to verify that our fuel assembly geometry was created successfully."
   ]
  },
  {
   "cell_type": "code",
   "execution_count": 13,
   "metadata": {
    "collapsed": true
   },
   "outputs": [],
   "source": [
    "# Instantiate a Plot\n",
    "plot = openmc.Plot(plot_id=1)\n",
    "plot.filename = 'materials-xy'\n",
    "plot.origin = [0, 0, 0]\n",
    "plot.pixels = [250, 250]\n",
    "plot.width = [-10.71*2, -10.71*2]\n",
    "plot.color = 'mat'\n",
    "\n",
    "# Instantiate a Plots object, add Plot, and export to \"plots.xml\"\n",
    "plot_file = openmc.Plots([plot])\n",
    "plot_file.export_to_xml()"
   ]
  },
  {
   "cell_type": "markdown",
   "metadata": {},
   "source": [
    "With the plots.xml file, we can now generate and view the plot. OpenMC outputs plots in .ppm format, which can be converted into a compressed format like .png with the convert utility."
   ]
  },
  {
   "cell_type": "code",
   "execution_count": 14,
   "metadata": {
    "collapsed": false
   },
   "outputs": [
    {
     "data": {
      "text/plain": [
       "0"
      ]
     },
     "execution_count": 14,
     "metadata": {},
     "output_type": "execute_result"
    }
   ],
   "source": [
    "# Run openmc in plotting mode\n",
    "openmc.plot_geometry(output=False)"
   ]
  },
  {
   "cell_type": "code",
   "execution_count": 15,
   "metadata": {
    "collapsed": false
   },
   "outputs": [
    {
     "data": {
      "image/png": "[encoded data removed]",
      "text/plain": [
       "<IPython.core.display.Image object>"
      ]
     },
     "execution_count": 15,
     "metadata": {},
     "output_type": "execute_result"
    }
   ],
   "source": [
    "# Convert OpenMC's funky ppm to png\n",
    "!convert materials-xy.ppm materials-xy.png\n",
    "\n",
    "# Display the materials plot inline\n",
    "Image(filename='materials-xy.png')"
   ]
  },
  {
   "cell_type": "markdown",
   "metadata": {},
   "source": [
    "As we can see from the plot, we have a nice array of fuel and guide tube pin cells with fuel, cladding, and water!\n",
    "\n",
    "# Create an MGXS Library\n",
    "\n",
    "Now we are ready to generate multi-group cross sections! First, let's define a 2-group structure using the built-in EnergyGroups class."
   ]
  },
  {
   "cell_type": "code",
   "execution_count": 16,
   "metadata": {
    "collapsed": true
   },
   "outputs": [],
   "source": [
    "# Instantiate a 2-group EnergyGroups object\n",
    "groups = openmc.mgxs.EnergyGroups()\n",
    "groups.group_edges = np.array([0., 0.625e-6, 20.])"
   ]
  },
  {
   "cell_type": "markdown",
   "metadata": {},
   "source": [
    "Next, we will instantiate an openmc.mgxs.Library for the energy groups with our the fuel assembly geometry."
   ]
  },
  {
   "cell_type": "code",
   "execution_count": 17,
   "metadata": {
    "collapsed": true
   },
   "outputs": [],
   "source": [
    "# Initialize an 2-group MGXS Library for OpenMOC\n",
    "mgxs_lib = openmc.mgxs.Library(geometry)\n",
    "mgxs_lib.energy_groups = groups"
   ]
  },
  {
   "cell_type": "markdown",
   "metadata": {},
   "source": [
    "Now, we must specify to the Library which types of cross sections to compute. OpenMC's multi-group mode can accept isotropic flux-weighted cross sections or angle-dependent cross sections, as well as supporting anisotropic scattering represented by either Legendre polynomials, histogram, or tabular angular distributions.  At this time the MGXS Library class only supports the generation of isotropic flux-weighted cross sections and P0 scattering, so that is what will be used for this example.  Therefore, we will create the following multi-group cross sections needed to run an OpenMC simulation to verify the accuracy of our cross sections: \"transport\", \"absorption\", \"nu-fission\", '\"fission\", \"nu-scatter matrix\", \"scatter matrix\", and \"chi\".\n",
    "\"scatter matrix\" is needed in addition to \"nu-scatter matrix\" because OpenMC's multi-group mode can treat scattering multiplication (i.e., (n,xn) reactions)) explicitly instead of adjusting the absorption cross section to maintain neutron balance, and using this explicit treatment would require tallying of both types of scattering matrices."
   ]
  },
  {
   "cell_type": "code",
   "execution_count": 18,
   "metadata": {
    "collapsed": true
   },
   "outputs": [],
   "source": [
    "# Specify multi-group cross section types to compute\n",
    "mgxs_lib.mgxs_types = ['transport', 'absorption', 'nu-fission', 'fission',\n",
    "                       'nu-scatter matrix', 'scatter matrix', 'chi']"
   ]
  },
  {
   "cell_type": "markdown",
   "metadata": {},
   "source": [
    "Now we must specify the type of domain over which we would like the `Library` to compute multi-group cross sections. The domain type corresponds to the type of tally filter to be used in the tallies created to compute multi-group cross sections. At the present time, the `Library` supports \"material,\" \"cell,\" and \"universe\" domain types. We will use a \"cell\" domain type here to compute cross sections in each of the cells in the fuel assembly geometry.\n",
    "\n",
    "**Note:** By default, the `Library` class will instantiate `MGXS` objects for each and every domain (material, cell or universe) in the geometry of interest. However, one may specify a subset of these domains to the `Library.domains` property. In our case, we wish to compute multi-group cross sections in each and every cell since they will be needed in our downstream multi-group OpenMC calculation on the identical combinatorial geometry mesh."
   ]
  },
  {
   "cell_type": "code",
   "execution_count": 19,
   "metadata": {
    "collapsed": false
   },
   "outputs": [],
   "source": [
    "# Specify a \"cell\" domain type for the cross section tally filters\n",
    "mgxs_lib.domain_type = \"cell\"\n",
    "\n",
    "# Specify the cell domains over which to compute multi-group cross sections\n",
    "mgxs_lib.domains = geometry.get_all_material_cells()"
   ]
  },
  {
   "cell_type": "markdown",
   "metadata": {},
   "source": [
    "We will instruct the library to not compute cross sections on a nuclide-by-nuclide basis, and instead to focus on generating material-specific macroscopic cross sections.\n",
    "\n",
    "**NOTE:** The default value of the `by_nuclide` parameter is `False`, so the following step is not necessary but is included for illustrative purposes."
   ]
  },
  {
   "cell_type": "code",
   "execution_count": 20,
   "metadata": {
    "collapsed": false
   },
   "outputs": [],
   "source": [
    "# Do not compute cross sections on a nuclide-by-nuclide basis\n",
    "mgxs_lib.by_nuclide = False"
   ]
  },
  {
   "cell_type": "markdown",
   "metadata": {},
   "source": [
    "Now that the `Library` has been setup, lets make sure it contains the types of cross sections which meet the needs of OpenMC's multi-group solver.  Note that this step is done automatically when writing the Multi-Group Library file later in the process (as part of the `mgxs_lib.write_mg_library()`), but it is a good practice to also run this before spending all the time running OpenMC to generate the cross sections."
   ]
  },
  {
   "cell_type": "code",
   "execution_count": 21,
   "metadata": {
    "collapsed": false
   },
   "outputs": [],
   "source": [
    "# Check the library - if no errors are raised, then the library is satisfactory.\n",
    "mgxs_lib.check_library_for_openmc_mgxs()"
   ]
  },
  {
   "cell_type": "markdown",
   "metadata": {},
   "source": [
    "Lastly, we use the `Library` to construct the tallies needed to compute all of the requested multi-group cross sections in each domain and nuclide."
   ]
  },
  {
   "cell_type": "code",
   "execution_count": 22,
   "metadata": {
    "collapsed": true
   },
   "outputs": [],
   "source": [
    "# Construct all tallies needed for the multi-group cross section library\n",
    "mgxs_lib.build_library()"
   ]
  },
  {
   "cell_type": "markdown",
   "metadata": {},
   "source": [
    "The tallies can now be export to a \"tallies.xml\" input file for OpenMC.\n",
    "\n",
    "**NOTE:** At this point the `Library` has constructed nearly 100 distinct Tally objects. The overhead to tally in OpenMC scales as O(N) for N tallies, which can become a bottleneck for large tally datasets. To compensate for this, the Python API's `Tally`, `Filter` and `Tallies` classes allow for the smart merging of tallies when possible. The `Library` class supports this runtime optimization with the use of the optional `merge` parameter (`False` by default) for the `Library.add_to_tallies_file(...)` method, as shown below."
   ]
  },
  {
   "cell_type": "code",
   "execution_count": 23,
   "metadata": {
    "collapsed": true
   },
   "outputs": [],
   "source": [
    "# Create a \"tallies.xml\" file for the MGXS Library\n",
    "tallies_file = openmc.Tallies()\n",
    "mgxs_lib.add_to_tallies_file(tallies_file, merge=True)"
   ]
  },
  {
   "cell_type": "markdown",
   "metadata": {},
   "source": [
    "In addition, we instantiate a fission rate mesh tally to compare with the multi-group result."
   ]
  },
  {
   "cell_type": "code",
   "execution_count": 24,
   "metadata": {
    "collapsed": true
   },
   "outputs": [],
   "source": [
    "# Instantiate a tally Mesh\n",
    "mesh = openmc.Mesh(mesh_id=1)\n",
    "mesh.type = 'regular'\n",
    "mesh.dimension = [17, 17]\n",
    "mesh.lower_left = [-10.71, -10.71]\n",
    "mesh.upper_right = [+10.71, +10.71]\n",
    "\n",
    "# Instantiate tally Filter\n",
    "mesh_filter = openmc.Filter()\n",
    "mesh_filter.mesh = mesh\n",
    "\n",
    "# Instantiate the Tally\n",
    "tally = openmc.Tally(name='mesh tally')\n",
    "tally.filters = [mesh_filter]\n",
    "tally.scores = ['fission']\n",
    "\n",
    "# Add tally to collection\n",
    "tallies_file.append(tally)"
   ]
  },
  {
   "cell_type": "code",
   "execution_count": 25,
   "metadata": {
    "collapsed": true
   },
   "outputs": [],
   "source": [
    "# Export all tallies to a \"tallies.xml\" file\n",
    "tallies_file.export_to_xml()"
   ]
  },
  {
   "cell_type": "code",
   "execution_count": 26,
   "metadata": {
    "collapsed": false
   },
   "outputs": [
    {
     "name": "stdout",
     "output_type": "stream",
     "text": [
      "\n",
      "       .d88888b.                             888b     d888  .d8888b.\n",
      "      d88P\" \"Y88b                            8888b   d8888 d88P  Y88b\n",
      "      888     888                            88888b.d88888 888    888\n",
      "      888     888 88888b.   .d88b.  88888b.  888Y88888P888 888       \n",
      "      888     888 888 \"88b d8P  Y8b 888 \"88b 888 Y888P 888 888       \n",
      "      888     888 888  888 88888888 888  888 888  Y8P  888 888    888\n",
      "      Y88b. .d88P 888 d88P Y8b.     888  888 888   \"   888 Y88b  d88P\n",
      "       \"Y88888P\"  88888P\"   \"Y8888  888  888 888       888  \"Y8888P\"\n",
      "__________________888______________________________________________________\n",
      "                  888\n",
      "                  888\n",
      "\n",
      "      Copyright:      2011-2016 Massachusetts Institute of Technology\n",
      "      License:        http://openmc.readthedocs.org/en/latest/license.html\n",
      "      Version:        0.7.1\n",
      "      Git SHA1:       c779ca42c41a062a6a813e03f2add2d182ca9190\n",
      "      Date/Time:      2016-05-12 21:15:02\n",
      "      OpenMP Threads: 4\n",
      "\n",
      " ===========================================================================\n",
      " ========================>     INITIALIZATION     <=========================\n",
      " ===========================================================================\n",
      "\n",
      " Reading settings XML file...\n",
      " Reading cross sections XML file...\n",
      " Reading geometry XML file...\n",
      " Reading materials XML file...\n",
      " Reading tallies XML file...\n",
      " Building neighboring cells lists for each surface...\n",
      " Loading ACE cross section table: 92235.71c\n",
      " Loading ACE cross section table: 92238.71c\n",
      " Loading ACE cross section table: 8016.71c\n",
      " Loading ACE cross section table: 1001.71c\n",
      " Loading ACE cross section table: 5010.71c\n",
      " Loading ACE cross section table: 40090.71c\n",
      " Maximum neutron transport energy: 20.0000 MeV for 92235.71c\n",
      " Initializing source particles...\n",
      "\n",
      " ===========================================================================\n",
      " ====================>     K EIGENVALUE SIMULATION     <====================\n",
      " ===========================================================================\n",
      "\n",
      "  Bat./Gen.      k            Average k         \n",
      "  =========   ========   ====================   \n",
      "        1/1    1.05162                       \n",
      "        2/1    1.05369                       \n",
      "        3/1    1.02989                       \n",
      "        4/1    1.00126                       \n",
      "        5/1    1.03151                       \n",
      "        6/1    1.00183                       \n",
      "        7/1    0.99379                       \n",
      "        8/1    1.04193                       \n",
      "        9/1    1.01578                       \n",
      "       10/1    1.03349                       \n",
      "       11/1    1.03354                       \n",
      "       12/1    1.03646    1.03500 +/- 0.00146\n",
      "       13/1    1.00873    1.02624 +/- 0.00880\n",
      "       14/1    1.04263    1.03034 +/- 0.00745\n",
      "       15/1    1.01556    1.02738 +/- 0.00648\n",
      "       16/1    1.04897    1.03098 +/- 0.00640\n",
      "       17/1    1.01796    1.02912 +/- 0.00572\n",
      "       18/1    1.02276    1.02833 +/- 0.00502\n",
      "       19/1    1.04003    1.02963 +/- 0.00461\n",
      "       20/1    1.00695    1.02736 +/- 0.00471\n",
      "       21/1    1.00012    1.02488 +/- 0.00493\n",
      "       22/1    1.03580    1.02579 +/- 0.00459\n",
      "       23/1    1.03427    1.02644 +/- 0.00427\n",
      "       24/1    1.06024    1.02886 +/- 0.00463\n",
      "       25/1    1.00742    1.02743 +/- 0.00454\n",
      "       26/1    1.02556    1.02731 +/- 0.00425\n",
      "       27/1    1.02207    1.02700 +/- 0.00401\n",
      "       28/1    1.05847    1.02875 +/- 0.00416\n",
      "       29/1    1.01125    1.02783 +/- 0.00404\n",
      "       30/1    1.03213    1.02804 +/- 0.00384\n",
      "       31/1    1.02241    1.02778 +/- 0.00366\n",
      "       32/1    1.02675    1.02773 +/- 0.00349\n",
      "       33/1    1.05484    1.02891 +/- 0.00354\n",
      "       34/1    1.01893    1.02849 +/- 0.00341\n",
      "       35/1    0.99044    1.02697 +/- 0.00361\n",
      "       36/1    1.02602    1.02693 +/- 0.00347\n",
      "       37/1    1.04107    1.02746 +/- 0.00338\n",
      "       38/1    1.03237    1.02763 +/- 0.00326\n",
      "       39/1    1.01489    1.02719 +/- 0.00318\n",
      "       40/1    1.01065    1.02664 +/- 0.00312\n",
      "       41/1    1.03722    1.02698 +/- 0.00304\n",
      "       42/1    1.04339    1.02750 +/- 0.00298\n",
      "       43/1    1.00921    1.02694 +/- 0.00294\n",
      "       44/1    1.04576    1.02750 +/- 0.00291\n",
      "       45/1    1.02580    1.02745 +/- 0.00283\n",
      "       46/1    1.03464    1.02765 +/- 0.00275\n",
      "       47/1    1.01552    1.02732 +/- 0.00270\n",
      "       48/1    1.03357    1.02748 +/- 0.00263\n",
      "       49/1    1.03439    1.02766 +/- 0.00257\n",
      "       50/1    1.04281    1.02804 +/- 0.00253\n",
      "       51/1    1.02902    1.02806 +/- 0.00247\n",
      "       52/1    1.02245    1.02793 +/- 0.00241\n",
      "       53/1    1.05271    1.02851 +/- 0.00243\n",
      "       54/1    0.98630    1.02755 +/- 0.00256\n",
      "       55/1    1.02690    1.02753 +/- 0.00250\n",
      "       56/1    1.04107    1.02783 +/- 0.00246\n",
      "       57/1    1.03029    1.02788 +/- 0.00241\n",
      "       58/1    1.01874    1.02769 +/- 0.00237\n",
      "       59/1    1.04211    1.02798 +/- 0.00234\n",
      "       60/1    0.99584    1.02734 +/- 0.00238\n",
      "       61/1    1.05166    1.02782 +/- 0.00238\n",
      "       62/1    1.05572    1.02835 +/- 0.00239\n",
      "       63/1    1.02694    1.02833 +/- 0.00235\n",
      "       64/1    1.03314    1.02842 +/- 0.00231\n",
      "       65/1    1.05850    1.02896 +/- 0.00233\n",
      "       66/1    1.01100    1.02864 +/- 0.00231\n",
      "       67/1    1.03784    1.02880 +/- 0.00227\n",
      "       68/1    1.04084    1.02901 +/- 0.00224\n",
      "       69/1    1.03932    1.02919 +/- 0.00221\n",
      "       70/1    1.02564    1.02913 +/- 0.00218\n",
      "       71/1    1.00027    1.02865 +/- 0.00219\n",
      "       72/1    1.02385    1.02858 +/- 0.00216\n",
      "       73/1    1.04885    1.02890 +/- 0.00215\n",
      "       74/1    1.00298    1.02849 +/- 0.00215\n",
      "       75/1    1.02009    1.02836 +/- 0.00212\n",
      "       76/1    1.04505    1.02862 +/- 0.00211\n",
      "       77/1    1.02889    1.02862 +/- 0.00207\n",
      "       78/1    1.01306    1.02839 +/- 0.00206\n",
      "       79/1    1.01817    1.02824 +/- 0.00203\n",
      "       80/1    1.00533    1.02792 +/- 0.00203\n",
      "       81/1    1.04439    1.02815 +/- 0.00201\n",
      "       82/1    1.02212    1.02806 +/- 0.00199\n",
      "       83/1    0.99419    1.02760 +/- 0.00201\n",
      "       84/1    1.07132    1.02819 +/- 0.00207\n",
      "       85/1    1.02710    1.02818 +/- 0.00204\n",
      "       86/1    1.01702    1.02803 +/- 0.00202\n",
      "       87/1    1.02134    1.02794 +/- 0.00200\n",
      "       88/1    1.05231    1.02826 +/- 0.00200\n",
      "       89/1    1.05290    1.02857 +/- 0.00200\n",
      "       90/1    1.05751    1.02893 +/- 0.00200\n",
      "       91/1    1.03970    1.02906 +/- 0.00198\n",
      "       92/1    0.99678    1.02867 +/- 0.00200\n",
      "       93/1    1.04471    1.02886 +/- 0.00198\n",
      "       94/1    1.00820    1.02862 +/- 0.00198\n",
      "       95/1    1.05823    1.02896 +/- 0.00198\n",
      "       96/1    1.05118    1.02922 +/- 0.00198\n",
      "       97/1    1.03617    1.02930 +/- 0.00196\n",
      "       98/1    1.00585    1.02904 +/- 0.00195\n",
      "       99/1    1.06663    1.02946 +/- 0.00198\n",
      "      100/1    1.01802    1.02933 +/- 0.00196\n",
      "      101/1    1.02695    1.02931 +/- 0.00194\n",
      "      102/1    1.01642    1.02917 +/- 0.00192\n",
      "      103/1    1.02567    1.02913 +/- 0.00190\n",
      "      104/1    1.03519    1.02919 +/- 0.00188\n",
      "      105/1    1.02439    1.02914 +/- 0.00186\n",
      "      106/1    1.03779    1.02923 +/- 0.00184\n",
      "      107/1    1.01304    1.02906 +/- 0.00183\n",
      "      108/1    1.02541    1.02903 +/- 0.00181\n",
      "      109/1    1.04297    1.02917 +/- 0.00180\n",
      "      110/1    1.00442    1.02892 +/- 0.00180\n",
      "      111/1    1.03102    1.02894 +/- 0.00178\n",
      "      112/1    1.00380    1.02870 +/- 0.00178\n",
      "      113/1    1.04010    1.02881 +/- 0.00177\n",
      "      114/1    1.01297    1.02865 +/- 0.00176\n",
      "      115/1    1.00130    1.02839 +/- 0.00176\n",
      "      116/1    1.02001    1.02831 +/- 0.00174\n",
      "      117/1    1.03847    1.02841 +/- 0.00173\n",
      "      118/1    1.00371    1.02818 +/- 0.00173\n",
      "      119/1    1.02650    1.02817 +/- 0.00171\n",
      "      120/1    1.00767    1.02798 +/- 0.00171\n",
      "      121/1    1.00408    1.02776 +/- 0.00171\n",
      "      122/1    1.00235    1.02754 +/- 0.00171\n",
      "      123/1    1.01212    1.02740 +/- 0.00170\n",
      "      124/1    1.03278    1.02745 +/- 0.00168\n",
      "      125/1    1.00818    1.02728 +/- 0.00168\n",
      "      126/1    1.02132    1.02723 +/- 0.00166\n",
      "      127/1    1.03677    1.02731 +/- 0.00165\n",
      "      128/1    1.04148    1.02743 +/- 0.00164\n",
      "      129/1    1.01245    1.02730 +/- 0.00163\n",
      "      130/1    1.04172    1.02742 +/- 0.00162\n",
      "      131/1    1.04519    1.02757 +/- 0.00162\n",
      "      132/1    1.02495    1.02755 +/- 0.00160\n",
      "      133/1    0.99747    1.02731 +/- 0.00161\n",
      "      134/1    1.02411    1.02728 +/- 0.00160\n",
      "      135/1    1.05750    1.02752 +/- 0.00160\n",
      "      136/1    1.02341    1.02749 +/- 0.00159\n",
      "      137/1    1.02212    1.02745 +/- 0.00158\n",
      "      138/1    1.03464    1.02750 +/- 0.00157\n",
      "      139/1    1.05920    1.02775 +/- 0.00157\n",
      "      140/1    1.01911    1.02768 +/- 0.00156\n",
      "      141/1    1.03076    1.02771 +/- 0.00155\n",
      "      142/1    1.03648    1.02777 +/- 0.00154\n",
      "      143/1    1.00382    1.02759 +/- 0.00154\n",
      "      144/1    1.00366    1.02741 +/- 0.00154\n",
      "      145/1    1.01638    1.02733 +/- 0.00153\n",
      "      146/1    1.02418    1.02731 +/- 0.00152\n",
      "      147/1    0.99267    1.02706 +/- 0.00153\n",
      "      148/1    1.02575    1.02705 +/- 0.00152\n",
      "      149/1    0.98560    1.02675 +/- 0.00153\n",
      "      150/1    1.02725    1.02675 +/- 0.00152\n",
      "      151/1    1.03723    1.02683 +/- 0.00151\n",
      "      152/1    1.00857    1.02670 +/- 0.00151\n",
      "      153/1    1.00642    1.02656 +/- 0.00151\n",
      "      154/1    1.03461    1.02661 +/- 0.00150\n",
      "      155/1    1.00088    1.02643 +/- 0.00150\n",
      "      156/1    1.02589    1.02643 +/- 0.00149\n",
      "      157/1    1.02494    1.02642 +/- 0.00148\n",
      "      158/1    1.03303    1.02646 +/- 0.00147\n",
      "      159/1    1.02276    1.02644 +/- 0.00146\n",
      "      160/1    1.03293    1.02648 +/- 0.00145\n",
      "      161/1    1.04758    1.02662 +/- 0.00144\n",
      "      162/1    1.01033    1.02652 +/- 0.00144\n",
      "      163/1    1.03883    1.02660 +/- 0.00143\n",
      "      164/1    1.00519    1.02646 +/- 0.00143\n",
      "      165/1    1.05958    1.02667 +/- 0.00144\n",
      "      166/1    1.03849    1.02675 +/- 0.00143\n",
      "      167/1    1.02306    1.02672 +/- 0.00142\n",
      "      168/1    1.02693    1.02672 +/- 0.00141\n",
      "      169/1    1.02584    1.02672 +/- 0.00140\n",
      "      170/1    0.99388    1.02651 +/- 0.00141\n",
      "      171/1    0.99376    1.02631 +/- 0.00141\n",
      "      172/1    1.00453    1.02618 +/- 0.00141\n",
      "      173/1    1.04516    1.02629 +/- 0.00141\n",
      "      174/1    1.02402    1.02628 +/- 0.00140\n",
      "      175/1    0.99012    1.02606 +/- 0.00141\n",
      "      176/1    1.02084    1.02603 +/- 0.00140\n",
      "      177/1    1.03959    1.02611 +/- 0.00139\n",
      "      178/1    1.01719    1.02606 +/- 0.00139\n",
      "      179/1    1.01671    1.02600 +/- 0.00138\n",
      "      180/1    1.03691    1.02606 +/- 0.00137\n",
      "      181/1    1.04276    1.02616 +/- 0.00137\n",
      "      182/1    1.02002    1.02613 +/- 0.00136\n",
      "      183/1    1.03081    1.02615 +/- 0.00135\n",
      "      184/1    1.02432    1.02614 +/- 0.00135\n",
      "      185/1    1.02225    1.02612 +/- 0.00134\n",
      "      186/1    1.04722    1.02624 +/- 0.00134\n",
      "      187/1    0.98045    1.02598 +/- 0.00135\n",
      "      188/1    1.02555    1.02598 +/- 0.00135\n",
      "      189/1    1.03645    1.02604 +/- 0.00134\n",
      "      190/1    1.00407    1.02592 +/- 0.00134\n",
      "      191/1    1.03033    1.02594 +/- 0.00133\n",
      "      192/1    1.04175    1.02603 +/- 0.00133\n",
      "      193/1    1.00555    1.02592 +/- 0.00132\n",
      "      194/1    1.00183    1.02578 +/- 0.00132\n",
      "      195/1    1.04328    1.02588 +/- 0.00132\n",
      "      196/1    1.03041    1.02590 +/- 0.00131\n",
      "      197/1    1.04791    1.02602 +/- 0.00131\n",
      "      198/1    1.01366    1.02596 +/- 0.00130\n",
      "      199/1    1.04471    1.02605 +/- 0.00130\n",
      "      200/1    1.02416    1.02604 +/- 0.00129\n",
      "      201/1    1.01172    1.02597 +/- 0.00129\n",
      "      202/1    1.01683    1.02592 +/- 0.00128\n",
      "      203/1    1.01341    1.02586 +/- 0.00128\n",
      "      204/1    1.01507    1.02580 +/- 0.00127\n",
      "      205/1    1.02540    1.02580 +/- 0.00127\n",
      "      206/1    1.00310    1.02568 +/- 0.00127\n",
      "      207/1    1.02822    1.02570 +/- 0.00126\n",
      "      208/1    1.01023    1.02562 +/- 0.00126\n",
      "      209/1    1.04603    1.02572 +/- 0.00125\n",
      "      210/1    1.00775    1.02563 +/- 0.00125\n",
      "      211/1    1.01706    1.02559 +/- 0.00125\n",
      "      212/1    0.99434    1.02543 +/- 0.00125\n",
      "      213/1    1.03346    1.02547 +/- 0.00124\n",
      "      214/1    1.05322    1.02561 +/- 0.00124\n",
      "      215/1    1.03057    1.02563 +/- 0.00124\n",
      "      216/1    1.00976    1.02556 +/- 0.00123\n",
      "      217/1    1.02760    1.02557 +/- 0.00123\n",
      "      218/1    1.01259    1.02550 +/- 0.00122\n",
      "      219/1    1.02829    1.02552 +/- 0.00122\n",
      "      220/1    1.02228    1.02550 +/- 0.00121\n",
      "      221/1    1.06679    1.02570 +/- 0.00122\n",
      "      222/1    1.03417    1.02574 +/- 0.00122\n",
      "      223/1    1.04239    1.02582 +/- 0.00121\n",
      "      224/1    1.02062    1.02579 +/- 0.00121\n",
      "      225/1    1.00331    1.02569 +/- 0.00121\n",
      "      226/1    1.00131    1.02557 +/- 0.00121\n",
      "      227/1    1.01768    1.02554 +/- 0.00120\n",
      "      228/1    1.00813    1.02546 +/- 0.00120\n",
      "      229/1    1.05320    1.02558 +/- 0.00120\n",
      "      230/1    1.03472    1.02563 +/- 0.00120\n",
      "      231/1    1.01426    1.02557 +/- 0.00119\n",
      "      232/1    1.00782    1.02549 +/- 0.00119\n",
      "      233/1    1.02813    1.02551 +/- 0.00118\n",
      "      234/1    1.01184    1.02545 +/- 0.00118\n",
      "      235/1    1.02156    1.02543 +/- 0.00118\n",
      "      236/1    0.99029    1.02527 +/- 0.00118\n",
      "      237/1    1.04196    1.02535 +/- 0.00118\n",
      "      238/1    1.01594    1.02531 +/- 0.00117\n",
      "      239/1    1.02732    1.02531 +/- 0.00117\n",
      "      240/1    0.98987    1.02516 +/- 0.00117\n",
      "      241/1    1.03388    1.02520 +/- 0.00117\n",
      "      242/1    1.01319    1.02515 +/- 0.00116\n",
      "      243/1    1.02870    1.02516 +/- 0.00116\n",
      "      244/1    1.01943    1.02514 +/- 0.00115\n",
      "      245/1    1.04463    1.02522 +/- 0.00115\n",
      "      246/1    1.03551    1.02526 +/- 0.00115\n",
      "      247/1    1.00436    1.02517 +/- 0.00115\n",
      "      248/1    1.03326    1.02521 +/- 0.00114\n",
      "      249/1    1.05769    1.02534 +/- 0.00115\n",
      "      250/1    1.01372    1.02530 +/- 0.00114\n",
      "      251/1    1.02971    1.02531 +/- 0.00114\n",
      "      252/1    1.01166    1.02526 +/- 0.00113\n",
      "      253/1    1.03992    1.02532 +/- 0.00113\n",
      "      254/1    1.01507    1.02528 +/- 0.00113\n",
      "      255/1    1.03222    1.02530 +/- 0.00112\n",
      "      256/1    1.03096    1.02533 +/- 0.00112\n",
      "      257/1    1.01153    1.02527 +/- 0.00112\n",
      "      258/1    1.03668    1.02532 +/- 0.00111\n",
      "      259/1    1.03070    1.02534 +/- 0.00111\n",
      "      260/1    1.01189    1.02529 +/- 0.00111\n",
      "      261/1    1.00082    1.02519 +/- 0.00111\n",
      "      262/1    1.03653    1.02523 +/- 0.00110\n",
      "      263/1    1.02908    1.02525 +/- 0.00110\n",
      "      264/1    1.00072    1.02515 +/- 0.00110\n",
      "      265/1    1.00832    1.02509 +/- 0.00109\n",
      "      266/1    1.04385    1.02516 +/- 0.00109\n",
      "      267/1    1.00117    1.02507 +/- 0.00109\n",
      "      268/1    1.02682    1.02507 +/- 0.00109\n",
      "      269/1    1.03202    1.02510 +/- 0.00108\n",
      "      270/1    1.01275    1.02505 +/- 0.00108\n",
      "      271/1    1.02633    1.02506 +/- 0.00108\n",
      "      272/1    1.04811    1.02514 +/- 0.00108\n",
      "      273/1    1.02851    1.02516 +/- 0.00107\n",
      "      274/1    1.01270    1.02511 +/- 0.00107\n",
      "      275/1    1.06222    1.02525 +/- 0.00107\n",
      "      276/1    1.02778    1.02526 +/- 0.00107\n",
      "      277/1    1.02601    1.02526 +/- 0.00107\n",
      "      278/1    1.02356    1.02526 +/- 0.00106\n",
      "      279/1    1.00792    1.02519 +/- 0.00106\n",
      "      280/1    1.02331    1.02518 +/- 0.00106\n",
      "      281/1    1.00985    1.02513 +/- 0.00105\n",
      "      282/1    1.02035    1.02511 +/- 0.00105\n",
      "      283/1    0.98181    1.02495 +/- 0.00106\n",
      "      284/1    1.01829    1.02493 +/- 0.00106\n",
      "      285/1    1.02929    1.02494 +/- 0.00105\n",
      "      286/1    1.03524    1.02498 +/- 0.00105\n",
      "      287/1    1.01212    1.02493 +/- 0.00105\n",
      "      288/1    1.03584    1.02497 +/- 0.00104\n",
      "      289/1    1.02961    1.02499 +/- 0.00104\n",
      "      290/1    0.99692    1.02489 +/- 0.00104\n",
      "      291/1    1.03966    1.02494 +/- 0.00104\n",
      "      292/1    1.00965    1.02489 +/- 0.00104\n",
      "      293/1    1.02601    1.02489 +/- 0.00103\n",
      "      294/1    1.03224    1.02492 +/- 0.00103\n",
      "      295/1    1.01596    1.02489 +/- 0.00103\n",
      "      296/1    1.06964    1.02504 +/- 0.00103\n",
      "      297/1    1.03982    1.02509 +/- 0.00103\n",
      "      298/1    0.99758    1.02500 +/- 0.00103\n",
      "      299/1    1.01479    1.02496 +/- 0.00103\n",
      "      300/1    1.04517    1.02503 +/- 0.00103\n",
      "      301/1    0.99128    1.02492 +/- 0.00103\n",
      "      302/1    1.01493    1.02488 +/- 0.00103\n",
      "      303/1    1.00623    1.02482 +/- 0.00103\n",
      "      304/1    1.02560    1.02482 +/- 0.00102\n",
      "      305/1    1.00806    1.02477 +/- 0.00102\n",
      "      306/1    1.03524    1.02480 +/- 0.00102\n",
      "      307/1    0.99244    1.02469 +/- 0.00102\n",
      "      308/1    0.98013    1.02454 +/- 0.00103\n",
      "      309/1    1.00853    1.02449 +/- 0.00103\n",
      "      310/1    1.00116    1.02441 +/- 0.00103\n",
      "      311/1    1.01730    1.02439 +/- 0.00102\n",
      "      312/1    1.01198    1.02435 +/- 0.00102\n",
      "      313/1    1.02405    1.02435 +/- 0.00102\n",
      "      314/1    1.01734    1.02432 +/- 0.00101\n",
      "      315/1    1.02320    1.02432 +/- 0.00101\n",
      "      316/1    1.03438    1.02435 +/- 0.00101\n",
      "      317/1    1.00106    1.02428 +/- 0.00101\n",
      "      318/1    1.03114    1.02430 +/- 0.00100\n",
      "      319/1    1.04955    1.02438 +/- 0.00100\n",
      "      320/1    1.03259    1.02441 +/- 0.00100\n",
      "      321/1    1.00687    1.02435 +/- 0.00100\n",
      "      322/1    1.05753    1.02446 +/- 0.00100\n",
      "      323/1    1.03676    1.02450 +/- 0.00100\n",
      "      324/1    0.99796    1.02441 +/- 0.00100\n",
      "      325/1    1.03783    1.02445 +/- 0.00100\n",
      "      326/1    1.02315    1.02445 +/- 0.00099\n",
      "      327/1    1.04205    1.02451 +/- 0.00099\n",
      "      328/1    1.01971    1.02449 +/- 0.00099\n",
      "      329/1    1.02394    1.02449 +/- 0.00099\n",
      "      330/1    1.03318    1.02452 +/- 0.00098\n",
      "      331/1    1.01503    1.02449 +/- 0.00098\n",
      "      332/1    1.07143    1.02463 +/- 0.00099\n",
      "      333/1    1.00991    1.02459 +/- 0.00099\n",
      "      334/1    1.03115    1.02461 +/- 0.00098\n",
      "      335/1    1.04400    1.02467 +/- 0.00098\n",
      "      336/1    1.03516    1.02470 +/- 0.00098\n",
      "      337/1    1.02025    1.02468 +/- 0.00098\n",
      "      338/1    1.03269    1.02471 +/- 0.00098\n",
      "      339/1    1.03745    1.02475 +/- 0.00097\n",
      "      340/1    1.03685    1.02478 +/- 0.00097\n",
      "      341/1    1.01831    1.02476 +/- 0.00097\n",
      "      342/1    1.01425    1.02473 +/- 0.00097\n",
      "      343/1    1.02990    1.02475 +/- 0.00096\n",
      "      344/1    1.02958    1.02476 +/- 0.00096\n",
      "      345/1    1.03133    1.02478 +/- 0.00096\n",
      "      346/1    1.02441    1.02478 +/- 0.00095\n",
      "      347/1    1.07010    1.02492 +/- 0.00096\n",
      "      348/1    1.02327    1.02491 +/- 0.00096\n",
      "      349/1    1.03123    1.02493 +/- 0.00096\n",
      "      350/1    1.03158    1.02495 +/- 0.00095\n",
      "      351/1    1.03473    1.02498 +/- 0.00095\n",
      "      352/1    1.04000    1.02502 +/- 0.00095\n",
      "      353/1    1.01651    1.02500 +/- 0.00095\n",
      "      354/1    1.03647    1.02503 +/- 0.00094\n",
      "      355/1    1.04650    1.02509 +/- 0.00094\n",
      "      356/1    1.04703    1.02516 +/- 0.00094\n",
      "      357/1    1.00260    1.02509 +/- 0.00094\n",
      "      358/1    1.00075    1.02502 +/- 0.00094\n",
      "      359/1    1.04874    1.02509 +/- 0.00094\n",
      "      360/1    1.03211    1.02511 +/- 0.00094\n",
      "      361/1    1.02136    1.02510 +/- 0.00094\n",
      "      362/1    1.00803    1.02505 +/- 0.00094\n",
      "      363/1    1.00319    1.02499 +/- 0.00094\n",
      "      364/1    1.01443    1.02496 +/- 0.00093\n",
      "      365/1    1.02685    1.02496 +/- 0.00093\n",
      "      366/1    1.02373    1.02496 +/- 0.00093\n",
      "      367/1    1.02026    1.02495 +/- 0.00093\n",
      "      368/1    1.01579    1.02492 +/- 0.00092\n",
      "      369/1    1.08004    1.02508 +/- 0.00093\n",
      "      370/1    1.01715    1.02505 +/- 0.00093\n",
      "      371/1    0.98578    1.02494 +/- 0.00093\n",
      "      372/1    1.03033    1.02496 +/- 0.00093\n",
      "      373/1    1.03269    1.02498 +/- 0.00093\n",
      "      374/1    1.04050    1.02502 +/- 0.00093\n",
      "      375/1    1.00760    1.02498 +/- 0.00093\n",
      "      376/1    1.04492    1.02503 +/- 0.00093\n",
      "      377/1    1.04983    1.02510 +/- 0.00093\n",
      "      378/1    1.06022    1.02519 +/- 0.00093\n",
      "      379/1    1.02516    1.02519 +/- 0.00093\n",
      "      380/1    1.01740    1.02517 +/- 0.00092\n",
      "      381/1    1.02520    1.02517 +/- 0.00092\n",
      "      382/1    1.02820    1.02518 +/- 0.00092\n",
      "      383/1    1.00697    1.02513 +/- 0.00092\n",
      "      384/1    1.03497    1.02516 +/- 0.00092\n",
      "      385/1    0.98404    1.02505 +/- 0.00092\n",
      "      386/1    1.05206    1.02512 +/- 0.00092\n",
      "      387/1    1.01502    1.02509 +/- 0.00092\n",
      "      388/1    1.02196    1.02508 +/- 0.00092\n",
      "      389/1    1.02856    1.02509 +/- 0.00091\n",
      "      390/1    1.01376    1.02506 +/- 0.00091\n",
      "      391/1    1.01696    1.02504 +/- 0.00091\n",
      "      392/1    1.03283    1.02506 +/- 0.00091\n",
      "      393/1    1.00787    1.02502 +/- 0.00091\n",
      "      394/1    1.02184    1.02501 +/- 0.00090\n",
      "      395/1    1.03170    1.02503 +/- 0.00090\n",
      "      396/1    1.04406    1.02508 +/- 0.00090\n",
      "      397/1    1.03939    1.02511 +/- 0.00090\n",
      "      398/1    1.00329    1.02506 +/- 0.00090\n",
      "      399/1    1.04518    1.02511 +/- 0.00090\n",
      "      400/1    1.03435    1.02513 +/- 0.00090\n",
      "      401/1    1.00525    1.02508 +/- 0.00089\n",
      "      402/1    1.03112    1.02510 +/- 0.00089\n",
      "      403/1    1.00188    1.02504 +/- 0.00089\n",
      "      404/1    1.01241    1.02501 +/- 0.00089\n",
      "      405/1    1.01796    1.02499 +/- 0.00089\n",
      "      406/1    1.02686    1.02499 +/- 0.00089\n",
      "      407/1    1.01003    1.02496 +/- 0.00088\n",
      "      408/1    1.02359    1.02495 +/- 0.00088\n",
      "      409/1    1.01258    1.02492 +/- 0.00088\n",
      "      410/1    1.04361    1.02497 +/- 0.00088\n",
      "      411/1    1.00885    1.02493 +/- 0.00088\n",
      "      412/1    1.00999    1.02489 +/- 0.00088\n",
      "      413/1    0.97832    1.02477 +/- 0.00088\n",
      "      414/1    1.04183    1.02482 +/- 0.00088\n",
      "      415/1    1.02279    1.02481 +/- 0.00088\n",
      "      416/1    1.04197    1.02485 +/- 0.00088\n",
      "      417/1    1.04617    1.02491 +/- 0.00088\n",
      "      418/1    1.01311    1.02488 +/- 0.00088\n",
      "      419/1    1.03904    1.02491 +/- 0.00087\n",
      "      420/1    1.00458    1.02486 +/- 0.00087\n",
      "      421/1    0.98580    1.02477 +/- 0.00088\n",
      "      422/1    1.01850    1.02475 +/- 0.00087\n",
      "      423/1    1.03739    1.02478 +/- 0.00087\n",
      "      424/1    1.02716    1.02479 +/- 0.00087\n",
      "      425/1    1.00711    1.02475 +/- 0.00087\n",
      "      426/1    1.01008    1.02471 +/- 0.00087\n",
      "      427/1    1.03332    1.02473 +/- 0.00087\n",
      "      428/1    1.00501    1.02468 +/- 0.00087\n",
      "      429/1    1.04549    1.02473 +/- 0.00086\n",
      "      430/1    1.00582    1.02469 +/- 0.00086\n",
      "      431/1    1.00586    1.02464 +/- 0.00086\n",
      "      432/1    1.00082    1.02459 +/- 0.00086\n",
      "      433/1    1.00835    1.02455 +/- 0.00086\n",
      "      434/1    1.03965    1.02458 +/- 0.00086\n",
      "      435/1    1.02385    1.02458 +/- 0.00086\n",
      "      436/1    1.01440    1.02456 +/- 0.00086\n",
      "      437/1    1.03127    1.02458 +/- 0.00085\n",
      "      438/1    1.02961    1.02459 +/- 0.00085\n",
      "      439/1    0.99584    1.02452 +/- 0.00085\n",
      "      440/1    1.04964    1.02458 +/- 0.00085\n",
      "      441/1    0.99792    1.02452 +/- 0.00085\n",
      "      442/1    1.04971    1.02457 +/- 0.00085\n",
      "      443/1    1.01504    1.02455 +/- 0.00085\n",
      "      444/1    1.04359    1.02460 +/- 0.00085\n",
      "      445/1    1.01148    1.02457 +/- 0.00085\n",
      "      446/1    1.01203    1.02454 +/- 0.00085\n",
      "      447/1    1.02353    1.02454 +/- 0.00085\n",
      "      448/1    1.06299    1.02462 +/- 0.00085\n",
      "      449/1    1.00017    1.02457 +/- 0.00085\n",
      "      450/1    1.01193    1.02454 +/- 0.00085\n",
      "      451/1    1.00179    1.02449 +/- 0.00085\n",
      "      452/1    1.02425    1.02449 +/- 0.00085\n",
      "      453/1    1.03629    1.02451 +/- 0.00084\n",
      "      454/1    1.01955    1.02450 +/- 0.00084\n",
      "      455/1    1.00870    1.02447 +/- 0.00084\n",
      "      456/1    1.04230    1.02451 +/- 0.00084\n",
      "      457/1    1.05081    1.02457 +/- 0.00084\n",
      "      458/1    1.00271    1.02452 +/- 0.00084\n",
      "      459/1    1.01010    1.02448 +/- 0.00084\n",
      "      460/1    1.04656    1.02453 +/- 0.00084\n",
      "      461/1    1.00790    1.02450 +/- 0.00084\n",
      "      462/1    1.02214    1.02449 +/- 0.00084\n",
      "      463/1    1.04401    1.02453 +/- 0.00083\n",
      "      464/1    1.02863    1.02454 +/- 0.00083\n",
      "      465/1    0.99971    1.02449 +/- 0.00083\n",
      "      466/1    1.00344    1.02444 +/- 0.00083\n",
      "      467/1    1.02810    1.02445 +/- 0.00083\n",
      "      468/1    1.02091    1.02444 +/- 0.00083\n",
      "      469/1    1.00545    1.02440 +/- 0.00083\n",
      "      470/1    1.01590    1.02438 +/- 0.00083\n",
      "      471/1    1.04465    1.02443 +/- 0.00083\n",
      "      472/1    1.02028    1.02442 +/- 0.00082\n",
      "      473/1    1.01951    1.02441 +/- 0.00082\n",
      "      474/1    1.03280    1.02443 +/- 0.00082\n",
      "      475/1    1.04722    1.02447 +/- 0.00082\n",
      "      476/1    1.03587    1.02450 +/- 0.00082\n",
      "      477/1    1.02234    1.02449 +/- 0.00082\n",
      "      478/1    1.07848    1.02461 +/- 0.00082\n",
      "      479/1    1.04759    1.02466 +/- 0.00082\n",
      "      480/1    1.07189    1.02476 +/- 0.00083\n",
      "      481/1    1.05811    1.02483 +/- 0.00083\n",
      "      482/1    1.04554    1.02487 +/- 0.00083\n",
      "      483/1    1.01956    1.02486 +/- 0.00083\n",
      "      484/1    1.01055    1.02483 +/- 0.00083\n",
      "      485/1    1.00845    1.02480 +/- 0.00082\n",
      "      486/1    1.04607    1.02484 +/- 0.00082\n",
      "      487/1    1.05955    1.02492 +/- 0.00083\n",
      "      488/1    1.02245    1.02491 +/- 0.00082\n",
      "      489/1    0.98206    1.02482 +/- 0.00083\n",
      "      490/1    1.03786    1.02485 +/- 0.00083\n",
      "      491/1    1.02973    1.02486 +/- 0.00082\n",
      "      492/1    1.02890    1.02487 +/- 0.00082\n",
      "      493/1    1.02086    1.02486 +/- 0.00082\n",
      "      494/1    1.01194    1.02483 +/- 0.00082\n",
      "      495/1    1.01902    1.02482 +/- 0.00082\n",
      "      496/1    1.01783    1.02481 +/- 0.00082\n",
      "      497/1    1.02129    1.02480 +/- 0.00081\n",
      "      498/1    1.02407    1.02480 +/- 0.00081\n",
      "      499/1    1.02873    1.02480 +/- 0.00081\n",
      "      500/1    1.00998    1.02477 +/- 0.00081\n",
      " Creating state point statepoint.500.h5...\n",
      "\n",
      " ===========================================================================\n",
      " ======================>     SIMULATION FINISHED     <======================\n",
      " ===========================================================================\n",
      "\n",
      "\n",
      " =======================>     TIMING STATISTICS     <=======================\n",
      "\n",
      " Total time for initialization     =  1.5880E+00 seconds\n",
      "   Reading cross sections          =  1.2650E+00 seconds\n",
      " Total time in simulation          =  2.6051E+02 seconds\n",
      "   Time in transport only          =  2.6013E+02 seconds\n",
      "   Time in inactive batches        =  2.0990E+00 seconds\n",
      "   Time in active batches          =  2.5841E+02 seconds\n",
      "   Time synchronizing fission bank =  6.5000E-02 seconds\n",
      "     Sampling source sites         =  4.4000E-02 seconds\n",
      "     SEND/RECV source sites        =  2.1000E-02 seconds\n",
      "   Time accumulating tallies       =  2.0000E-03 seconds\n",
      " Total time for finalization       =  0.0000E+00 seconds\n",
      " Total time elapsed                =  2.6211E+02 seconds\n",
      " Calculation Rate (inactive)       =  23820.9 neutrons/second\n",
      " Calculation Rate (active)         =  9480.98 neutrons/second\n",
      "\n",
      " ============================>     RESULTS     <============================\n",
      "\n",
      " k-effective (Collision)     =  1.02480 +/-  0.00073\n",
      " k-effective (Track-length)  =  1.02477 +/-  0.00081\n",
      " k-effective (Absorption)    =  1.02552 +/-  0.00068\n",
      " Combined k-effective        =  1.02519 +/-  0.00055\n",
      " Leakage Fraction            =  0.00000 +/-  0.00000\n",
      "\n"
     ]
    },
    {
     "data": {
      "text/plain": [
       "0"
      ]
     },
     "execution_count": 26,
     "metadata": {},
     "output_type": "execute_result"
    }
   ],
   "source": [
    "# Run OpenMC\n",
    "openmc.run()"
   ]
  },
  {
   "cell_type": "markdown",
   "metadata": {},
   "source": [
    "To make the files available and not be over-written when running the multi-group calculation, we will now rename the statepoint and summary files."
   ]
  },
  {
   "cell_type": "code",
   "execution_count": 27,
   "metadata": {
    "collapsed": false
   },
   "outputs": [],
   "source": [
    "# Move the StatePoint File\n",
    "ce_spfile = './ce_statepoint.h5'\n",
    "os.rename('statepoint.' + str(batches) + '.h5', ce_spfile)\n",
    "# Move the Summary file\n",
    "ce_sumfile = './ce_summary.h5'\n",
    "os.rename('summary.h5', ce_sumfile)"
   ]
  },
  {
   "cell_type": "markdown",
   "metadata": {},
   "source": [
    "# Tally Data Processing\n",
    "\n",
    "Our simulation ran successfully and created statepoint and summary output files.  Let's begin by loading the StatePoint file, but not automatically linking the summary file."
   ]
  },
  {
   "cell_type": "code",
   "execution_count": 28,
   "metadata": {
    "collapsed": false
   },
   "outputs": [],
   "source": [
    "# Load the statepoint file, but not the summary file, as it is a different filename than expected.\n",
    "sp = openmc.StatePoint(ce_spfile, autolink=False)"
   ]
  },
  {
   "cell_type": "markdown",
   "metadata": {},
   "source": [
    "In addition to the statepoint file, our simulation also created a summary file which encapsulates information about the materials and geometry. This is necessary for the `openmc.mgxs` module to properly process the tally data. We first create a `Summary` object and link it with the statepoint.  Normally this would not need to be performed, but since we have renamed our summary file to avoid conflicts with the Multi-Group calculation's summary file, we will load this in explicitly."
   ]
  },
  {
   "cell_type": "code",
   "execution_count": 29,
   "metadata": {
    "collapsed": false
   },
   "outputs": [],
   "source": [
    "su = openmc.Summary(ce_sumfile)\n",
    "sp.link_with_summary(su)"
   ]
  },
  {
   "cell_type": "markdown",
   "metadata": {},
   "source": [
    "The statepoint is now ready to be analyzed by the `Library`. We simply have to load the tallies from the statepoint into the `Library` and our `MGXS` objects will compute the cross sections for us under-the-hood."
   ]
  },
  {
   "cell_type": "code",
   "execution_count": 30,
   "metadata": {
    "collapsed": false
   },
   "outputs": [],
   "source": [
    "# Initialize MGXS Library with OpenMC statepoint data\n",
    "mgxs_lib.load_from_statepoint(sp)"
   ]
  },
  {
   "cell_type": "markdown",
   "metadata": {},
   "source": [
    "The next step will be to prepare the input for OpenMC to use our newly created multi-group data."
   ]
  },
  {
   "cell_type": "markdown",
   "metadata": {},
   "source": [
    "# Multi-Group OpenMC Calculation"
   ]
  },
  {
   "cell_type": "markdown",
   "metadata": {},
   "source": [
    "We will now use the `Library` to produce a multi-group cross section data set for use by the OpenMC multi-group solver.  "
   ]
  },
  {
   "cell_type": "code",
   "execution_count": 31,
   "metadata": {
    "collapsed": false
   },
   "outputs": [
    {
     "name": "stderr",
     "output_type": "stream",
     "text": [
      "/home/nelsonag/git/openmc/openmc/tallies.py:1988: RuntimeWarning: invalid value encountered in true_divide\n",
      "  self_rel_err = data['self']['std. dev.'] / data['self']['mean']\n",
      "/home/nelsonag/git/openmc/openmc/tallies.py:1989: RuntimeWarning: invalid value encountered in true_divide\n",
      "  other_rel_err = data['other']['std. dev.'] / data['other']['mean']\n",
      "/home/nelsonag/git/openmc/openmc/tallies.py:1990: RuntimeWarning: invalid value encountered in true_divide\n",
      "  new_tally._mean = data['self']['mean'] / data['other']['mean']\n"
     ]
    }
   ],
   "source": [
    "mgxs_lib.write_mg_library(filename='mgxs', xs_type='macro',\n",
    "                          domain_names=['fuel', 'fuel_clad', 'fuel_mod',\n",
    "                                        'gt_inmod', 'gt_clad', 'gt_outmod'],\n",
    "                          xs_ids='2m')"
   ]
  },
  {
   "cell_type": "markdown",
   "metadata": {},
   "source": [
    "Now we will need to recreate similar xml files from above, beginning with materials.xml.  Similar to how continuous-energy cross section libraries are named, the `openmc.Macroscopic` quantities below can either have their `xs_id` included (i.e., `'.2m'`), or this can be left off but the `default_xs` parameter of the materials file be used instead to be set to the `'xs_id'` of interest (which is `'.2m'` in this case as defined in the previous cell)."
   ]
  },
  {
   "cell_type": "code",
   "execution_count": 32,
   "metadata": {
    "collapsed": false
   },
   "outputs": [],
   "source": [
    "# Instantiate our Macroscopic Data using mat_names for the name\n",
    "fuel_macro = openmc.Macroscopic('fuel')\n",
    "fuel_clad_macro = openmc.Macroscopic('fuel_clad')\n",
    "fuel_mod_macro = openmc.Macroscopic('fuel_mod')\n",
    "gt_inmod_macro = openmc.Macroscopic('gt_inmod')\n",
    "gt_clad_macro = openmc.Macroscopic('gt_clad')\n",
    "gt_outmod_macro = openmc.Macroscopic('gt_outmod')\n",
    "\n",
    "# Now define the materials\n",
    "\n",
    "# 1.6 enriched fuel UO2\n",
    "fuel = openmc.Material(name='1.6% Fuel UO2', material_id=1)\n",
    "fuel.set_density('macro', 1.0)\n",
    "fuel.add_macroscopic(fuel_macro)\n",
    "\n",
    "# 1.6 enriched fuel cladding\n",
    "fuel_clad = openmc.Material(name='1.6% Fuel Clad', material_id=2)\n",
    "fuel_clad.set_density('macro', 1.0)\n",
    "fuel_clad.add_macroscopic(fuel_clad_macro)\n",
    "\n",
    "# 1.6 enriched fuel moderator\n",
    "fuel_mod = openmc.Material(name='1.6% Fuel Water', material_id=3)\n",
    "fuel_mod.set_density('macro', 1.0)\n",
    "fuel_mod.add_macroscopic(fuel_mod_macro)\n",
    "\n",
    "# Guide Tube Inner Moderator\n",
    "gt_inmod = openmc.Material(name='GT Inner Water', material_id=4)\n",
    "gt_inmod.set_density('macro', 1.0)\n",
    "gt_inmod.add_macroscopic(gt_inmod_macro)\n",
    "\n",
    "# Guide Tube Cladding\n",
    "gt_clad = openmc.Material(name='GT Clad', material_id=5)\n",
    "gt_clad.set_density('macro', 1.0)\n",
    "gt_clad.add_macroscopic(gt_clad_macro)\n",
    "\n",
    "# Guide Tube Outer Moderator\n",
    "gt_outmod = openmc.Material(name='GT Outer Water', material_id=6)\n",
    "gt_outmod.set_density('macro', 1.0)\n",
    "gt_outmod.add_macroscopic(gt_outmod_macro)\n",
    "\n",
    "# Finally, instantiate our Materials object\n",
    "materials_file = openmc.Materials((fuel, fuel_clad, fuel_mod,\n",
    "                                   gt_inmod, gt_clad, gt_outmod))\n",
    "materials_file.default_xs = '2m'\n",
    "\n",
    "# Export to \"materials.xml\"\n",
    "materials_file.export_to_xml()\n"
   ]
  },
  {
   "cell_type": "markdown",
   "metadata": {},
   "source": [
    "\n",
    "For our geometry files we will do the same as before but now we will be pointing at our newly created materials instead."
   ]
  },
  {
   "cell_type": "code",
   "execution_count": 33,
   "metadata": {
    "collapsed": false
   },
   "outputs": [],
   "source": [
    "# Create a Universe to encapsulate a fuel pin\n",
    "fuel_pin_universe = openmc.Universe(name='1.6% Fuel Pin', universe_id=10)\n",
    "\n",
    "# Create fuel Cell\n",
    "fuel_cell = openmc.Cell(name='1.6% Fuel', cell_id=1)\n",
    "fuel_cell.fill = fuel\n",
    "fuel_cell.region = -fuel_outer_radius\n",
    "fuel_pin_universe.add_cell(fuel_cell)\n",
    "\n",
    "# Create a clad Cell\n",
    "clad_cell = openmc.Cell(name='1.6% Clad', cell_id=2)\n",
    "clad_cell.fill = fuel_clad\n",
    "clad_cell.region = +fuel_outer_radius & -clad_outer_radius\n",
    "fuel_pin_universe.add_cell(clad_cell)\n",
    "\n",
    "# Create a moderator Cell\n",
    "moderator_cell = openmc.Cell(name='1.6% Moderator', cell_id=3)\n",
    "moderator_cell.fill = fuel_mod\n",
    "moderator_cell.region = +clad_outer_radius\n",
    "fuel_pin_universe.add_cell(moderator_cell)\n",
    "\n",
    "# Create a Universe to encapsulate a control rod guide tube\n",
    "guide_tube_universe = openmc.Universe(name='Guide Tube', universe_id=20)\n",
    "\n",
    "# Create guide tube Cell\n",
    "guide_tube_cell = openmc.Cell(name='Guide Tube Water', cell_id=4)\n",
    "guide_tube_cell.fill = gt_inmod\n",
    "guide_tube_cell.region = -fuel_outer_radius\n",
    "guide_tube_universe.add_cell(guide_tube_cell)\n",
    "\n",
    "# Create a clad Cell\n",
    "clad_cell = openmc.Cell(name='Guide Clad', cell_id=5)\n",
    "clad_cell.fill = gt_clad\n",
    "clad_cell.region = +fuel_outer_radius & -clad_outer_radius\n",
    "guide_tube_universe.add_cell(clad_cell)\n",
    "\n",
    "# Create a moderator Cell\n",
    "moderator_cell = openmc.Cell(name='Guide Tube Moderator', cell_id=6)\n",
    "moderator_cell.fill = gt_outmod\n",
    "moderator_cell.region = +clad_outer_radius\n",
    "guide_tube_universe.add_cell(moderator_cell)\n",
    "\n",
    "# Create fuel assembly Lattice\n",
    "assembly = openmc.RectLattice(name='1.6% Fuel Assembly', lattice_id=100)\n",
    "assembly.dimension = (17, 17)\n",
    "assembly.pitch = (1.26, 1.26)\n",
    "assembly.lower_left = [-1.26 * 17. / 2.0] * 2\n",
    "\n",
    "# Create array indices for guide tube locations in lattice\n",
    "template_x = np.array([5, 8, 11, 3, 13, 2, 5, 8, 11, 14, 2, 5, 8,\n",
    "                       11, 14, 2, 5, 8, 11, 14, 3, 13, 5, 8, 11])\n",
    "template_y = np.array([2, 2, 2, 3, 3, 5, 5, 5, 5, 5, 8, 8, 8, 8,\n",
    "                       8, 11, 11, 11, 11, 11, 13, 13, 14, 14, 14])\n",
    "\n",
    "# Initialize an empty 17x17 array of the lattice universes\n",
    "universes = np.empty((17, 17), dtype=openmc.Universe)\n",
    "\n",
    "# Fill the array with the fuel pin and guide tube universes\n",
    "universes[:,:] = fuel_pin_universe\n",
    "universes[template_x, template_y] = guide_tube_universe\n",
    "\n",
    "# Store the array of universes in the lattice\n",
    "assembly.universes = universes\n",
    "\n",
    "# Create root Cell\n",
    "root_cell = openmc.Cell(name='root cell', cell_id=0)\n",
    "root_cell.fill = assembly\n",
    "\n",
    "# Add boundary planes\n",
    "root_cell.region = +min_x & -max_x & +min_y & -max_y & +min_z & -max_z\n",
    "\n",
    "# Create root Universe\n",
    "root_universe = openmc.Universe(universe_id=0, name='root universe')\n",
    "root_universe.add_cell(root_cell)\n",
    "\n",
    "# Create Geometry and set root Universe\n",
    "geometry = openmc.Geometry()\n",
    "geometry.root_universe = root_universe\n",
    "# Export to \"geometry.xml\"\n",
    "geometry.export_to_xml()"
   ]
  },
  {
   "cell_type": "markdown",
   "metadata": {},
   "source": [
    "Next, we can make the changes we need to the settings file.\n",
    "These changes are limited to telling OpenMC we will be running a multi-group calculation and pointing to the location of our multi-group cross section file."
   ]
  },
  {
   "cell_type": "code",
   "execution_count": 34,
   "metadata": {
    "collapsed": true
   },
   "outputs": [],
   "source": [
    "# Set the location of the cross sections file\n",
    "settings_file.cross_sections = './mgxs.xml'\n",
    "settings_file.energy_mode = 'multi-group'\n",
    "\n",
    "# Export to \"settings.xml\"\n",
    "settings_file.export_to_xml()"
   ]
  },
  {
   "cell_type": "markdown",
   "metadata": {},
   "source": [
    "Finally, since we want similar tally data in the end, we will leave our pre-existing `tallies.xml` file for this calculation.\n",
    "\n",
    "At this point, the problem is set up and we can run the multi-group calculation."
   ]
  },
  {
   "cell_type": "code",
   "execution_count": 35,
   "metadata": {
    "collapsed": false
   },
   "outputs": [
    {
     "name": "stdout",
     "output_type": "stream",
     "text": [
      "\n",
      "       .d88888b.                             888b     d888  .d8888b.\n",
      "      d88P\" \"Y88b                            8888b   d8888 d88P  Y88b\n",
      "      888     888                            88888b.d88888 888    888\n",
      "      888     888 88888b.   .d88b.  88888b.  888Y88888P888 888       \n",
      "      888     888 888 \"88b d8P  Y8b 888 \"88b 888 Y888P 888 888       \n",
      "      888     888 888  888 88888888 888  888 888  Y8P  888 888    888\n",
      "      Y88b. .d88P 888 d88P Y8b.     888  888 888   \"   888 Y88b  d88P\n",
      "       \"Y88888P\"  88888P\"   \"Y8888  888  888 888       888  \"Y8888P\"\n",
      "__________________888______________________________________________________\n",
      "                  888\n",
      "                  888\n",
      "\n",
      "      Copyright:      2011-2016 Massachusetts Institute of Technology\n",
      "      License:        http://openmc.readthedocs.org/en/latest/license.html\n",
      "      Version:        0.7.1\n",
      "      Git SHA1:       c779ca42c41a062a6a813e03f2add2d182ca9190\n",
      "      Date/Time:      2016-05-12 21:19:25\n",
      "      OpenMP Threads: 4\n",
      "\n",
      " ===========================================================================\n",
      " ========================>     INITIALIZATION     <=========================\n",
      " ===========================================================================\n",
      "\n",
      " Reading settings XML file...\n",
      " Reading cross sections XML file...\n",
      " Reading geometry XML file...\n",
      " Reading materials XML file...\n",
      " Reading tallies XML file...\n",
      " Building neighboring cells lists for each surface...\n",
      " Loading Cross Section Data...\n",
      " Loading fuel.2m Data...\n",
      " Loading fuel_clad.2m Data...\n",
      " Loading fuel_mod.2m Data...\n",
      " Loading gt_inmod.2m Data...\n",
      " Loading gt_clad.2m Data...\n",
      " Loading gt_outmod.2m Data...\n",
      " Initializing source particles...\n",
      "\n",
      " ===========================================================================\n",
      " ====================>     K EIGENVALUE SIMULATION     <====================\n",
      " ===========================================================================\n",
      "\n",
      "  Bat./Gen.      k            Average k         \n",
      "  =========   ========   ====================   \n",
      "        1/1    1.01702                       \n",
      "        2/1    0.99463                       \n",
      "        3/1    1.02321                       \n",
      "        4/1    0.98628                       \n",
      "        5/1    1.03122                       \n",
      "        6/1    1.00774                       \n",
      "        7/1    1.05616                       \n",
      "        8/1    1.03051                       \n",
      "        9/1    1.02321                       \n",
      "       10/1    1.04380                       \n",
      "       11/1    1.05837                       \n",
      "       12/1    1.01514    1.03676 +/- 0.02161\n",
      "       13/1    1.06720    1.04690 +/- 0.01608\n",
      "       14/1    1.01696    1.03942 +/- 0.01361\n",
      "       15/1    1.03549    1.03863 +/- 0.01057\n",
      "       16/1    1.01599    1.03486 +/- 0.00942\n",
      "       17/1    1.03070    1.03427 +/- 0.00799\n",
      "       18/1    1.03778    1.03470 +/- 0.00693\n",
      "       19/1    1.03042    1.03423 +/- 0.00613\n",
      "       20/1    1.01047    1.03185 +/- 0.00598\n",
      "       21/1    1.03251    1.03191 +/- 0.00541\n",
      "       22/1    1.02047    1.03096 +/- 0.00503\n",
      "       23/1    1.01729    1.02991 +/- 0.00474\n",
      "       24/1    1.02948    1.02988 +/- 0.00439\n",
      "       25/1    1.01963    1.02919 +/- 0.00414\n",
      "       26/1    1.00626    1.02776 +/- 0.00413\n",
      "       27/1    1.04531    1.02879 +/- 0.00402\n",
      "       28/1    0.99936    1.02716 +/- 0.00412\n",
      "       29/1    1.04497    1.02809 +/- 0.00401\n",
      "       30/1    1.02429    1.02790 +/- 0.00381\n",
      "       31/1    1.05112    1.02901 +/- 0.00379\n",
      "       32/1    1.01843    1.02853 +/- 0.00365\n",
      "       33/1    1.04478    1.02924 +/- 0.00355\n",
      "       34/1    1.01719    1.02873 +/- 0.00344\n",
      "       35/1    0.99873    1.02753 +/- 0.00351\n",
      "       36/1    1.00054    1.02649 +/- 0.00353\n",
      "       37/1    1.03986    1.02699 +/- 0.00343\n",
      "       38/1    1.02243    1.02683 +/- 0.00331\n",
      "       39/1    1.02744    1.02685 +/- 0.00319\n",
      "       40/1    1.01174    1.02634 +/- 0.00313\n",
      "       41/1    1.04973    1.02710 +/- 0.00312\n",
      "       42/1    0.99564    1.02612 +/- 0.00317\n",
      "       43/1    1.03022    1.02624 +/- 0.00308\n",
      "       44/1    1.03526    1.02650 +/- 0.00300\n",
      "       45/1    1.02143    1.02636 +/- 0.00292\n",
      "       46/1    1.03264    1.02653 +/- 0.00284\n",
      "       47/1    1.03868    1.02686 +/- 0.00278\n",
      "       48/1    1.02385    1.02678 +/- 0.00271\n",
      "       49/1    1.03897    1.02710 +/- 0.00266\n",
      "       50/1    1.01267    1.02674 +/- 0.00261\n",
      "       51/1    0.99683    1.02601 +/- 0.00265\n",
      "       52/1    1.04189    1.02638 +/- 0.00261\n",
      "       53/1    1.02871    1.02644 +/- 0.00255\n",
      "       54/1    1.02564    1.02642 +/- 0.00250\n",
      "       55/1    1.02955    1.02649 +/- 0.00244\n",
      "       56/1    1.02390    1.02643 +/- 0.00239\n",
      "       57/1    1.03342    1.02658 +/- 0.00234\n",
      "       58/1    1.01430    1.02633 +/- 0.00231\n",
      "       59/1    0.99242    1.02563 +/- 0.00236\n",
      "       60/1    1.00442    1.02521 +/- 0.00235\n",
      "       61/1    1.03870    1.02547 +/- 0.00232\n",
      "       62/1    1.02146    1.02540 +/- 0.00228\n",
      "       63/1    1.04782    1.02582 +/- 0.00227\n",
      "       64/1    1.02872    1.02587 +/- 0.00223\n",
      "       65/1    1.02420    1.02584 +/- 0.00219\n",
      "       66/1    1.01974    1.02573 +/- 0.00215\n",
      "       67/1    1.00774    1.02542 +/- 0.00214\n",
      "       68/1    1.01323    1.02521 +/- 0.00211\n",
      "       69/1    1.01468    1.02503 +/- 0.00208\n",
      "       70/1    1.02869    1.02509 +/- 0.00205\n",
      "       71/1    1.02284    1.02505 +/- 0.00202\n",
      "       72/1    1.04815    1.02543 +/- 0.00202\n",
      "       73/1    1.01119    1.02520 +/- 0.00200\n",
      "       74/1    1.03314    1.02533 +/- 0.00197\n",
      "       75/1    1.02333    1.02529 +/- 0.00194\n",
      "       76/1    1.04030    1.02552 +/- 0.00193\n",
      "       77/1    1.02537    1.02552 +/- 0.00190\n",
      "       78/1    1.02875    1.02557 +/- 0.00187\n",
      "       79/1    1.03588    1.02572 +/- 0.00185\n",
      "       80/1    1.05250    1.02610 +/- 0.00186\n",
      "       81/1    1.00477    1.02580 +/- 0.00186\n",
      "       82/1    1.03903    1.02598 +/- 0.00184\n",
      "       83/1    1.02378    1.02595 +/- 0.00182\n",
      "       84/1    1.01107    1.02575 +/- 0.00180\n",
      "       85/1    1.01550    1.02561 +/- 0.00178\n",
      "       86/1    1.00540    1.02535 +/- 0.00178\n",
      "       87/1    1.03056    1.02542 +/- 0.00176\n",
      "       88/1    1.01742    1.02531 +/- 0.00174\n",
      "       89/1    0.99730    1.02496 +/- 0.00175\n",
      "       90/1    1.03569    1.02509 +/- 0.00174\n",
      "       91/1    1.04514    1.02534 +/- 0.00173\n",
      "       92/1    1.02757    1.02537 +/- 0.00171\n",
      "       93/1    1.00610    1.02514 +/- 0.00171\n",
      "       94/1    1.03576    1.02526 +/- 0.00169\n",
      "       95/1    1.03732    1.02540 +/- 0.00168\n",
      "       96/1    1.04784    1.02567 +/- 0.00168\n",
      "       97/1    1.06507    1.02612 +/- 0.00172\n",
      "       98/1    1.03673    1.02624 +/- 0.00170\n",
      "       99/1    1.01270    1.02609 +/- 0.00169\n",
      "      100/1    1.01980    1.02602 +/- 0.00167\n",
      "      101/1    1.01357    1.02588 +/- 0.00166\n",
      "      102/1    1.03125    1.02594 +/- 0.00164\n",
      "      103/1    1.01527    1.02582 +/- 0.00163\n",
      "      104/1    1.02403    1.02580 +/- 0.00161\n",
      "      105/1    1.03435    1.02589 +/- 0.00160\n",
      "      106/1    1.04113    1.02605 +/- 0.00159\n",
      "      107/1    1.03291    1.02612 +/- 0.00157\n",
      "      108/1    1.02478    1.02611 +/- 0.00156\n",
      "      109/1    1.05814    1.02643 +/- 0.00158\n",
      "      110/1    1.02647    1.02643 +/- 0.00156\n",
      "      111/1    0.98951    1.02607 +/- 0.00159\n",
      "      112/1    1.00739    1.02589 +/- 0.00158\n",
      "      113/1    1.04165    1.02604 +/- 0.00157\n",
      "      114/1    1.00047    1.02579 +/- 0.00158\n",
      "      115/1    1.02550    1.02579 +/- 0.00156\n",
      "      116/1    1.02408    1.02577 +/- 0.00155\n",
      "      117/1    1.03110    1.02582 +/- 0.00153\n",
      "      118/1    1.02874    1.02585 +/- 0.00152\n",
      "      119/1    1.02348    1.02583 +/- 0.00151\n",
      "      120/1    1.01969    1.02577 +/- 0.00149\n",
      "      121/1    1.02312    1.02575 +/- 0.00148\n",
      "      122/1    1.03261    1.02581 +/- 0.00147\n",
      "      123/1    0.98394    1.02544 +/- 0.00150\n",
      "      124/1    1.03771    1.02555 +/- 0.00149\n",
      "      125/1    1.01857    1.02549 +/- 0.00148\n",
      "      126/1    1.00066    1.02527 +/- 0.00148\n",
      "      127/1    1.02372    1.02526 +/- 0.00147\n",
      "      128/1    1.03307    1.02533 +/- 0.00146\n",
      "      129/1    1.00889    1.02519 +/- 0.00145\n",
      "      130/1    1.02053    1.02515 +/- 0.00144\n",
      "      131/1    1.00943    1.02502 +/- 0.00144\n",
      "      132/1    1.07225    1.02541 +/- 0.00148\n",
      "      133/1    1.04068    1.02553 +/- 0.00147\n",
      "      134/1    1.03509    1.02561 +/- 0.00146\n",
      "      135/1    1.01250    1.02550 +/- 0.00145\n",
      "      136/1    1.02179    1.02547 +/- 0.00144\n",
      "      137/1    1.05685    1.02572 +/- 0.00145\n",
      "      138/1    1.04217    1.02585 +/- 0.00144\n",
      "      139/1    1.02793    1.02586 +/- 0.00143\n",
      "      140/1    1.01207    1.02576 +/- 0.00143\n",
      "      141/1    1.03445    1.02582 +/- 0.00142\n",
      "      142/1    1.03579    1.02590 +/- 0.00141\n",
      "      143/1    1.00786    1.02576 +/- 0.00140\n",
      "      144/1    0.99089    1.02550 +/- 0.00142\n",
      "      145/1    1.02617    1.02551 +/- 0.00141\n",
      "      146/1    1.01691    1.02545 +/- 0.00140\n",
      "      147/1    1.00692    1.02531 +/- 0.00139\n",
      "      148/1    0.97702    1.02496 +/- 0.00143\n",
      "      149/1    1.04002    1.02507 +/- 0.00142\n",
      "      150/1    1.01262    1.02498 +/- 0.00141\n",
      "      151/1    1.03613    1.02506 +/- 0.00141\n",
      "      152/1    1.02920    1.02509 +/- 0.00140\n",
      "      153/1    1.02199    1.02507 +/- 0.00139\n",
      "      154/1    1.03421    1.02513 +/- 0.00138\n",
      "      155/1    1.05882    1.02536 +/- 0.00139\n",
      "      156/1    1.02649    1.02537 +/- 0.00138\n",
      "      157/1    1.01933    1.02533 +/- 0.00137\n",
      "      158/1    1.04269    1.02545 +/- 0.00137\n",
      "      159/1    0.99604    1.02525 +/- 0.00137\n",
      "      160/1    1.04748    1.02540 +/- 0.00137\n",
      "      161/1    1.00501    1.02526 +/- 0.00137\n",
      "      162/1    1.00550    1.02513 +/- 0.00137\n",
      "      163/1    1.00115    1.02498 +/- 0.00137\n",
      "      164/1    1.02283    1.02496 +/- 0.00136\n",
      "      165/1    1.01964    1.02493 +/- 0.00135\n",
      "      166/1    1.02287    1.02491 +/- 0.00134\n",
      "      167/1    1.05498    1.02511 +/- 0.00134\n",
      "      168/1    1.05267    1.02528 +/- 0.00135\n",
      "      169/1    1.00474    1.02515 +/- 0.00135\n",
      "      170/1    1.03469    1.02521 +/- 0.00134\n",
      "      171/1    1.02499    1.02521 +/- 0.00133\n",
      "      172/1    1.03961    1.02530 +/- 0.00132\n",
      "      173/1    1.01240    1.02522 +/- 0.00132\n",
      "      174/1    1.00762    1.02511 +/- 0.00132\n",
      "      175/1    1.00200    1.02497 +/- 0.00131\n",
      "      176/1    1.01449    1.02491 +/- 0.00131\n",
      "      177/1    1.01111    1.02483 +/- 0.00130\n",
      "      178/1    1.01208    1.02475 +/- 0.00130\n",
      "      179/1    1.03304    1.02480 +/- 0.00129\n",
      "      180/1    1.04504    1.02492 +/- 0.00129\n",
      "      181/1    1.03476    1.02498 +/- 0.00128\n",
      "      182/1    1.02124    1.02495 +/- 0.00128\n",
      "      183/1    0.98855    1.02474 +/- 0.00128\n",
      "      184/1    1.04689    1.02487 +/- 0.00128\n",
      "      185/1    1.00618    1.02476 +/- 0.00128\n",
      "      186/1    1.02012    1.02474 +/- 0.00127\n",
      "      187/1    1.00162    1.02461 +/- 0.00127\n",
      "      188/1    1.03269    1.02465 +/- 0.00127\n",
      "      189/1    1.04772    1.02478 +/- 0.00127\n",
      "      190/1    1.01132    1.02471 +/- 0.00126\n",
      "      191/1    1.02669    1.02472 +/- 0.00125\n",
      "      192/1    1.01154    1.02464 +/- 0.00125\n",
      "      193/1    1.05795    1.02483 +/- 0.00126\n",
      "      194/1    1.01615    1.02478 +/- 0.00125\n",
      "      195/1    1.03828    1.02485 +/- 0.00125\n",
      "      196/1    1.00695    1.02476 +/- 0.00124\n",
      "      197/1    1.04126    1.02484 +/- 0.00124\n",
      "      198/1    1.02834    1.02486 +/- 0.00123\n",
      "      199/1    1.01000    1.02478 +/- 0.00123\n",
      "      200/1    0.99294    1.02462 +/- 0.00123\n",
      "      201/1    1.00248    1.02450 +/- 0.00123\n",
      "      202/1    1.03461    1.02455 +/- 0.00123\n",
      "      203/1    1.06289    1.02475 +/- 0.00124\n",
      "      204/1    1.03010    1.02478 +/- 0.00123\n",
      "      205/1    1.04636    1.02489 +/- 0.00123\n",
      "      206/1    1.05434    1.02504 +/- 0.00123\n",
      "      207/1    1.03993    1.02512 +/- 0.00123\n",
      "      208/1    1.02672    1.02512 +/- 0.00122\n",
      "      209/1    1.04958    1.02525 +/- 0.00122\n",
      "      210/1    0.99194    1.02508 +/- 0.00123\n",
      "      211/1    1.01570    1.02503 +/- 0.00122\n",
      "      212/1    1.04079    1.02511 +/- 0.00122\n",
      "      213/1    1.02961    1.02513 +/- 0.00121\n",
      "      214/1    1.03797    1.02520 +/- 0.00121\n",
      "      215/1    1.03714    1.02526 +/- 0.00120\n",
      "      216/1    1.03299    1.02529 +/- 0.00120\n",
      "      217/1    1.00461    1.02519 +/- 0.00120\n",
      "      218/1    1.02386    1.02519 +/- 0.00119\n",
      "      219/1    1.01955    1.02516 +/- 0.00119\n",
      "      220/1    1.04372    1.02525 +/- 0.00118\n",
      "      221/1    1.01694    1.02521 +/- 0.00118\n",
      "      222/1    0.99642    1.02507 +/- 0.00118\n",
      "      223/1    1.00999    1.02500 +/- 0.00118\n",
      "      224/1    1.02703    1.02501 +/- 0.00117\n",
      "      225/1    1.00236    1.02491 +/- 0.00117\n",
      "      226/1    1.02825    1.02492 +/- 0.00117\n",
      "      227/1    1.04535    1.02502 +/- 0.00116\n",
      "      228/1    1.01779    1.02498 +/- 0.00116\n",
      "      229/1    1.01058    1.02492 +/- 0.00116\n",
      "      230/1    1.00391    1.02482 +/- 0.00115\n",
      "      231/1    1.05990    1.02498 +/- 0.00116\n",
      "      232/1    1.01885    1.02495 +/- 0.00116\n",
      "      233/1    1.03204    1.02498 +/- 0.00115\n",
      "      234/1    0.99396    1.02485 +/- 0.00115\n",
      "      235/1    1.01828    1.02482 +/- 0.00115\n",
      "      236/1    1.08225    1.02507 +/- 0.00117\n",
      "      237/1    1.00335    1.02498 +/- 0.00117\n",
      "      238/1    1.03097    1.02500 +/- 0.00117\n",
      "      239/1    1.01738    1.02497 +/- 0.00116\n",
      "      240/1    1.02261    1.02496 +/- 0.00116\n",
      "      241/1    1.02814    1.02497 +/- 0.00115\n",
      "      242/1    1.01158    1.02491 +/- 0.00115\n",
      "      243/1    1.03507    1.02496 +/- 0.00114\n",
      "      244/1    1.01914    1.02493 +/- 0.00114\n",
      "      245/1    1.04555    1.02502 +/- 0.00114\n",
      "      246/1    1.02459    1.02502 +/- 0.00113\n",
      "      247/1    1.05827    1.02516 +/- 0.00114\n",
      "      248/1    1.02549    1.02516 +/- 0.00113\n",
      "      249/1    1.03354    1.02520 +/- 0.00113\n",
      "      250/1    1.04186    1.02526 +/- 0.00113\n",
      "      251/1    1.00466    1.02518 +/- 0.00112\n",
      "      252/1    0.99065    1.02504 +/- 0.00113\n",
      "      253/1    1.03065    1.02506 +/- 0.00112\n",
      "      254/1    1.02167    1.02505 +/- 0.00112\n",
      "      255/1    1.01700    1.02501 +/- 0.00112\n",
      "      256/1    1.03619    1.02506 +/- 0.00111\n",
      "      257/1    1.01833    1.02503 +/- 0.00111\n",
      "      258/1    1.02211    1.02502 +/- 0.00110\n",
      "      259/1    1.04348    1.02509 +/- 0.00110\n",
      "      260/1    1.03444    1.02513 +/- 0.00110\n",
      "      261/1    1.05597    1.02525 +/- 0.00110\n",
      "      262/1    1.02085    1.02524 +/- 0.00110\n",
      "      263/1    1.00552    1.02516 +/- 0.00109\n",
      "      264/1    1.03976    1.02522 +/- 0.00109\n",
      "      265/1    1.02810    1.02523 +/- 0.00109\n",
      "      266/1    1.00911    1.02516 +/- 0.00108\n",
      "      267/1    1.01963    1.02514 +/- 0.00108\n",
      "      268/1    1.03732    1.02519 +/- 0.00108\n",
      "      269/1    1.02422    1.02519 +/- 0.00107\n",
      "      270/1    1.01546    1.02515 +/- 0.00107\n",
      "      271/1    1.05488    1.02526 +/- 0.00107\n",
      "      272/1    1.01709    1.02523 +/- 0.00107\n",
      "      273/1    1.05629    1.02535 +/- 0.00107\n",
      "      274/1    1.03864    1.02540 +/- 0.00107\n",
      "      275/1    1.01472    1.02536 +/- 0.00106\n",
      "      276/1    1.03425    1.02539 +/- 0.00106\n",
      "      277/1    1.00663    1.02532 +/- 0.00106\n",
      "      278/1    1.03326    1.02535 +/- 0.00106\n",
      "      279/1    1.02571    1.02535 +/- 0.00105\n",
      "      280/1    1.00525    1.02528 +/- 0.00105\n",
      "      281/1    1.00451    1.02520 +/- 0.00105\n",
      "      282/1    1.04016    1.02526 +/- 0.00105\n",
      "      283/1    0.98343    1.02510 +/- 0.00105\n",
      "      284/1    1.04843    1.02519 +/- 0.00105\n",
      "      285/1    1.01807    1.02516 +/- 0.00105\n",
      "      286/1    1.02393    1.02516 +/- 0.00105\n",
      "      287/1    1.01851    1.02514 +/- 0.00104\n",
      "      288/1    1.03976    1.02519 +/- 0.00104\n",
      "      289/1    1.03153    1.02521 +/- 0.00104\n",
      "      290/1    1.00416    1.02514 +/- 0.00104\n",
      "      291/1    1.01426    1.02510 +/- 0.00103\n",
      "      292/1    1.02583    1.02510 +/- 0.00103\n",
      "      293/1    1.01680    1.02507 +/- 0.00103\n",
      "      294/1    1.04578    1.02514 +/- 0.00103\n",
      "      295/1    1.03162    1.02517 +/- 0.00102\n",
      "      296/1    1.01682    1.02514 +/- 0.00102\n",
      "      297/1    1.00488    1.02507 +/- 0.00102\n",
      "      298/1    1.03057    1.02508 +/- 0.00101\n",
      "      299/1    1.01126    1.02504 +/- 0.00101\n",
      "      300/1    1.03528    1.02507 +/- 0.00101\n",
      "      301/1    1.05548    1.02518 +/- 0.00101\n",
      "      302/1    1.02994    1.02519 +/- 0.00101\n",
      "      303/1    1.03010    1.02521 +/- 0.00100\n",
      "      304/1    1.04031    1.02526 +/- 0.00100\n",
      "      305/1    1.05866    1.02537 +/- 0.00101\n",
      "      306/1    1.03602    1.02541 +/- 0.00100\n",
      "      307/1    1.01362    1.02537 +/- 0.00100\n",
      "      308/1    1.01318    1.02533 +/- 0.00100\n",
      "      309/1    1.04262    1.02539 +/- 0.00100\n",
      "      310/1    1.01626    1.02536 +/- 0.00099\n",
      "      311/1    1.00285    1.02528 +/- 0.00099\n",
      "      312/1    0.98155    1.02514 +/- 0.00100\n",
      "      313/1    1.05649    1.02524 +/- 0.00100\n",
      "      314/1    1.00960    1.02519 +/- 0.00100\n",
      "      315/1    1.05350    1.02528 +/- 0.00100\n",
      "      316/1    1.03842    1.02533 +/- 0.00100\n",
      "      317/1    1.01394    1.02529 +/- 0.00100\n",
      "      318/1    1.01830    1.02527 +/- 0.00099\n",
      "      319/1    1.02050    1.02525 +/- 0.00099\n",
      "      320/1    1.03402    1.02528 +/- 0.00099\n",
      "      321/1    1.04547    1.02534 +/- 0.00099\n",
      "      322/1    1.02579    1.02534 +/- 0.00098\n",
      "      323/1    1.01922    1.02533 +/- 0.00098\n",
      "      324/1    1.01050    1.02528 +/- 0.00098\n",
      "      325/1    1.01426    1.02524 +/- 0.00098\n",
      "      326/1    1.03283    1.02527 +/- 0.00097\n",
      "      327/1    1.03859    1.02531 +/- 0.00097\n",
      "      328/1    1.01536    1.02528 +/- 0.00097\n",
      "      329/1    1.03149    1.02530 +/- 0.00097\n",
      "      330/1    1.04328    1.02535 +/- 0.00096\n",
      "      331/1    1.01949    1.02534 +/- 0.00096\n",
      "      332/1    1.02319    1.02533 +/- 0.00096\n",
      "      333/1    1.01704    1.02530 +/- 0.00096\n",
      "      334/1    1.02691    1.02531 +/- 0.00095\n",
      "      335/1    1.03188    1.02533 +/- 0.00095\n",
      "      336/1    1.03107    1.02535 +/- 0.00095\n",
      "      337/1    1.02410    1.02534 +/- 0.00094\n",
      "      338/1    0.99917    1.02526 +/- 0.00094\n",
      "      339/1    1.03593    1.02529 +/- 0.00094\n",
      "      340/1    1.02286    1.02529 +/- 0.00094\n",
      "      341/1    1.04154    1.02534 +/- 0.00094\n",
      "      342/1    1.01664    1.02531 +/- 0.00094\n",
      "      343/1    1.01041    1.02527 +/- 0.00093\n",
      "      344/1    1.02033    1.02525 +/- 0.00093\n",
      "      345/1    1.03137    1.02527 +/- 0.00093\n",
      "      346/1    1.02162    1.02526 +/- 0.00093\n",
      "      347/1    1.00835    1.02521 +/- 0.00092\n",
      "      348/1    1.01168    1.02517 +/- 0.00092\n",
      "      349/1    1.01168    1.02513 +/- 0.00092\n",
      "      350/1    1.03509    1.02516 +/- 0.00092\n",
      "      351/1    1.01883    1.02514 +/- 0.00092\n",
      "      352/1    1.04314    1.02519 +/- 0.00091\n",
      "      353/1    0.99067    1.02509 +/- 0.00092\n",
      "      354/1    1.03100    1.02511 +/- 0.00091\n",
      "      355/1    1.01664    1.02508 +/- 0.00091\n",
      "      356/1    1.02193    1.02507 +/- 0.00091\n",
      "      357/1    1.03213    1.02509 +/- 0.00091\n",
      "      358/1    1.00555    1.02504 +/- 0.00091\n",
      "      359/1    1.04849    1.02511 +/- 0.00091\n",
      "      360/1    1.02174    1.02510 +/- 0.00090\n",
      "      361/1    1.05064    1.02517 +/- 0.00090\n",
      "      362/1    1.05274    1.02525 +/- 0.00091\n",
      "      363/1    1.00932    1.02520 +/- 0.00090\n",
      "      364/1    1.03400    1.02523 +/- 0.00090\n",
      "      365/1    1.00149    1.02516 +/- 0.00090\n",
      "      366/1    1.01631    1.02514 +/- 0.00090\n",
      "      367/1    1.03928    1.02517 +/- 0.00090\n",
      "      368/1    1.01318    1.02514 +/- 0.00090\n",
      "      369/1    1.04610    1.02520 +/- 0.00090\n",
      "      370/1    1.04338    1.02525 +/- 0.00089\n",
      "      371/1    1.01638    1.02523 +/- 0.00089\n",
      "      372/1    1.04056    1.02527 +/- 0.00089\n",
      "      373/1    1.00090    1.02520 +/- 0.00089\n",
      "      374/1    1.01261    1.02517 +/- 0.00089\n",
      "      375/1    1.03919    1.02520 +/- 0.00089\n",
      "      376/1    0.99900    1.02513 +/- 0.00089\n",
      "      377/1    1.00168    1.02507 +/- 0.00089\n",
      "      378/1    0.99476    1.02499 +/- 0.00089\n",
      "      379/1    1.04960    1.02505 +/- 0.00089\n",
      "      380/1    0.99797    1.02498 +/- 0.00089\n",
      "      381/1    1.04956    1.02505 +/- 0.00089\n",
      "      382/1    1.02803    1.02505 +/- 0.00089\n",
      "      383/1    0.99388    1.02497 +/- 0.00089\n",
      "      384/1    1.00767    1.02492 +/- 0.00089\n",
      "      385/1    1.00856    1.02488 +/- 0.00089\n",
      "      386/1    1.02997    1.02489 +/- 0.00088\n",
      "      387/1    0.97841    1.02477 +/- 0.00089\n",
      "      388/1    0.99712    1.02470 +/- 0.00089\n",
      "      389/1    0.99072    1.02461 +/- 0.00089\n",
      "      390/1    1.02439    1.02461 +/- 0.00089\n",
      "      391/1    1.02769    1.02462 +/- 0.00089\n",
      "      392/1    1.02205    1.02461 +/- 0.00089\n",
      "      393/1    1.03702    1.02464 +/- 0.00088\n",
      "      394/1    1.00274    1.02458 +/- 0.00088\n",
      "      395/1    1.00131    1.02452 +/- 0.00088\n",
      "      396/1    1.00130    1.02446 +/- 0.00088\n",
      "      397/1    1.00472    1.02441 +/- 0.00088\n",
      "      398/1    1.00724    1.02437 +/- 0.00088\n",
      "      399/1    1.03061    1.02438 +/- 0.00088\n",
      "      400/1    0.99651    1.02431 +/- 0.00088\n",
      "      401/1    0.99290    1.02423 +/- 0.00088\n",
      "      402/1    1.02166    1.02423 +/- 0.00088\n",
      "      403/1    1.01691    1.02421 +/- 0.00088\n",
      "      404/1    1.00492    1.02416 +/- 0.00088\n",
      "      405/1    1.00663    1.02411 +/- 0.00088\n",
      "      406/1    1.01865    1.02410 +/- 0.00087\n",
      "      407/1    1.02717    1.02411 +/- 0.00087\n",
      "      408/1    1.01793    1.02409 +/- 0.00087\n",
      "      409/1    1.02606    1.02410 +/- 0.00087\n",
      "      410/1    1.03809    1.02413 +/- 0.00087\n",
      "      411/1    1.03780    1.02417 +/- 0.00086\n",
      "      412/1    1.02782    1.02418 +/- 0.00086\n",
      "      413/1    1.03077    1.02419 +/- 0.00086\n",
      "      414/1    1.00651    1.02415 +/- 0.00086\n",
      "      415/1    1.05594    1.02423 +/- 0.00086\n",
      "      416/1    0.99558    1.02416 +/- 0.00086\n",
      "      417/1    1.00689    1.02411 +/- 0.00086\n",
      "      418/1    1.02932    1.02413 +/- 0.00086\n",
      "      419/1    1.03552    1.02415 +/- 0.00086\n",
      "      420/1    1.03735    1.02419 +/- 0.00085\n",
      "      421/1    1.02402    1.02419 +/- 0.00085\n",
      "      422/1    1.04227    1.02423 +/- 0.00085\n",
      "      423/1    1.03087    1.02425 +/- 0.00085\n",
      "      424/1    1.04363    1.02429 +/- 0.00085\n",
      "      425/1    1.02676    1.02430 +/- 0.00085\n",
      "      426/1    1.03739    1.02433 +/- 0.00085\n",
      "      427/1    1.02977    1.02434 +/- 0.00084\n",
      "      428/1    1.02547    1.02435 +/- 0.00084\n",
      "      429/1    1.03552    1.02437 +/- 0.00084\n",
      "      430/1    1.04282    1.02442 +/- 0.00084\n",
      "      431/1    1.03171    1.02443 +/- 0.00084\n",
      "      432/1    1.01030    1.02440 +/- 0.00084\n",
      "      433/1    1.04168    1.02444 +/- 0.00084\n",
      "      434/1    0.98994    1.02436 +/- 0.00084\n",
      "      435/1    0.98166    1.02426 +/- 0.00084\n",
      "      436/1    1.00178    1.02421 +/- 0.00084\n",
      "      437/1    1.03801    1.02424 +/- 0.00084\n",
      "      438/1    1.02099    1.02423 +/- 0.00084\n",
      "      439/1    1.01305    1.02421 +/- 0.00084\n",
      "      440/1    1.02286    1.02420 +/- 0.00083\n",
      "      441/1    1.03697    1.02423 +/- 0.00083\n",
      "      442/1    0.99050    1.02415 +/- 0.00083\n",
      "      443/1    1.02238    1.02415 +/- 0.00083\n",
      "      444/1    1.05188    1.02421 +/- 0.00083\n",
      "      445/1    1.03150    1.02423 +/- 0.00083\n",
      "      446/1    1.01071    1.02420 +/- 0.00083\n",
      "      447/1    1.03713    1.02423 +/- 0.00083\n",
      "      448/1    1.03631    1.02426 +/- 0.00083\n",
      "      449/1    1.02968    1.02427 +/- 0.00083\n",
      "      450/1    1.03031    1.02428 +/- 0.00082\n",
      "      451/1    1.02161    1.02428 +/- 0.00082\n",
      "      452/1    0.99036    1.02420 +/- 0.00082\n",
      "      453/1    1.02581    1.02420 +/- 0.00082\n",
      "      454/1    1.03140    1.02422 +/- 0.00082\n",
      "      455/1    1.01962    1.02421 +/- 0.00082\n",
      "      456/1    1.00680    1.02417 +/- 0.00082\n",
      "      457/1    1.00178    1.02412 +/- 0.00082\n",
      "      458/1    1.02306    1.02412 +/- 0.00082\n",
      "      459/1    1.02653    1.02412 +/- 0.00081\n",
      "      460/1    1.02934    1.02413 +/- 0.00081\n",
      "      461/1    1.00872    1.02410 +/- 0.00081\n",
      "      462/1    1.00012    1.02405 +/- 0.00081\n",
      "      463/1    0.99057    1.02397 +/- 0.00081\n",
      "      464/1    1.02353    1.02397 +/- 0.00081\n",
      "      465/1    1.01402    1.02395 +/- 0.00081\n",
      "      466/1    1.01651    1.02393 +/- 0.00081\n",
      "      467/1    1.01024    1.02390 +/- 0.00081\n",
      "      468/1    1.02504    1.02391 +/- 0.00080\n",
      "      469/1    1.00891    1.02387 +/- 0.00080\n",
      "      470/1    1.04038    1.02391 +/- 0.00080\n",
      "      471/1    1.04346    1.02395 +/- 0.00080\n",
      "      472/1    1.02634    1.02396 +/- 0.00080\n",
      "      473/1    1.01207    1.02393 +/- 0.00080\n",
      "      474/1    1.00787    1.02390 +/- 0.00080\n",
      "      475/1    1.03591    1.02392 +/- 0.00080\n",
      "      476/1    1.04257    1.02396 +/- 0.00080\n",
      "      477/1    1.00536    1.02392 +/- 0.00079\n",
      "      478/1    1.07545    1.02403 +/- 0.00080\n",
      "      479/1    1.02306    1.02403 +/- 0.00080\n",
      "      480/1    1.02733    1.02404 +/- 0.00080\n",
      "      481/1    1.00990    1.02401 +/- 0.00080\n",
      "      482/1    0.99031    1.02394 +/- 0.00080\n",
      "      483/1    0.98006    1.02384 +/- 0.00080\n",
      "      484/1    1.05635    1.02391 +/- 0.00080\n",
      "      485/1    1.02410    1.02391 +/- 0.00080\n",
      "      486/1    1.01227    1.02389 +/- 0.00080\n",
      "      487/1    1.00614    1.02385 +/- 0.00080\n",
      "      488/1    1.01837    1.02384 +/- 0.00080\n",
      "      489/1    1.02565    1.02384 +/- 0.00080\n",
      "      490/1    1.00530    1.02381 +/- 0.00079\n",
      "      491/1    1.01958    1.02380 +/- 0.00079\n",
      "      492/1    1.04490    1.02384 +/- 0.00079\n",
      "      493/1    1.02567    1.02384 +/- 0.00079\n",
      "      494/1    1.03865    1.02387 +/- 0.00079\n",
      "      495/1    1.03990    1.02391 +/- 0.00079\n",
      "      496/1    0.98352    1.02382 +/- 0.00079\n",
      "      497/1    1.00909    1.02379 +/- 0.00079\n",
      "      498/1    1.03661    1.02382 +/- 0.00079\n",
      "      499/1    1.04423    1.02386 +/- 0.00079\n",
      "      500/1    1.06406    1.02394 +/- 0.00079\n",
      " Creating state point statepoint.500.h5...\n",
      "\n",
      " ===========================================================================\n",
      " ======================>     SIMULATION FINISHED     <======================\n",
      " ===========================================================================\n",
      "\n",
      "\n",
      " =======================>     TIMING STATISTICS     <=======================\n",
      "\n",
      " Total time for initialization     =  5.3000E-02 seconds\n",
      "   Reading cross sections          =  5.0000E-03 seconds\n",
      " Total time in simulation          =  1.8631E+02 seconds\n",
      "   Time in transport only          =  1.8590E+02 seconds\n",
      "   Time in inactive batches        =  1.1710E+00 seconds\n",
      "   Time in active batches          =  1.8514E+02 seconds\n",
      "   Time synchronizing fission bank =  7.3000E-02 seconds\n",
      "     Sampling source sites         =  5.1000E-02 seconds\n",
      "     SEND/RECV source sites        =  2.2000E-02 seconds\n",
      "   Time accumulating tallies       =  4.0000E-03 seconds\n",
      " Total time for finalization       =  0.0000E+00 seconds\n",
      " Total time elapsed                =  1.8637E+02 seconds\n",
      " Calculation Rate (inactive)       =  42698.5 neutrons/second\n",
      " Calculation Rate (active)         =  13233.2 neutrons/second\n",
      "\n",
      " ============================>     RESULTS     <============================\n",
      "\n",
      " k-effective (Collision)     =  1.02403 +/-  0.00071\n",
      " k-effective (Track-length)  =  1.02394 +/-  0.00079\n",
      " k-effective (Absorption)    =  1.02539 +/-  0.00044\n",
      " Combined k-effective        =  1.02518 +/-  0.00042\n",
      " Leakage Fraction            =  0.00000 +/-  0.00000\n",
      "\n"
     ]
    },
    {
     "data": {
      "text/plain": [
       "0"
      ]
     },
     "execution_count": 35,
     "metadata": {},
     "output_type": "execute_result"
    }
   ],
   "source": [
    "# Run the Multi-Group OpenMC Simulation\n",
    "openmc.run()"
   ]
  },
  {
   "cell_type": "markdown",
   "metadata": {},
   "source": [
    "# Results Comparison\n",
    "Now we can compare the multi-group and continuous-energy results.\n",
    "\n",
    "We will begin by loading the multi-group statepoint file we just finished writing and extracting the calculated keff.\n",
    "Since we did not rename the summary file, we do not need to load it separately this time."
   ]
  },
  {
   "cell_type": "code",
   "execution_count": 36,
   "metadata": {
    "collapsed": false
   },
   "outputs": [],
   "source": [
    "# Load the last statepoint file and keff value\n",
    "mgsp = openmc.StatePoint('statepoint.' + str(batches) + '.h5')\n",
    "mg_keff = mgsp.k_combined"
   ]
  },
  {
   "cell_type": "markdown",
   "metadata": {},
   "source": [
    "Next, we can load the continuous-energy eigenvalue for comparison."
   ]
  },
  {
   "cell_type": "code",
   "execution_count": 37,
   "metadata": {
    "collapsed": true
   },
   "outputs": [],
   "source": [
    "ce_keff = sp.k_combined"
   ]
  },
  {
   "cell_type": "markdown",
   "metadata": {},
   "source": [
    "Lets compare the two eigenvalues, including their bias"
   ]
  },
  {
   "cell_type": "code",
   "execution_count": 38,
   "metadata": {
    "collapsed": false
   },
   "outputs": [
    {
     "name": "stdout",
     "output_type": "stream",
     "text": [
      "Continuous-Energy keff = 1.025194\n",
      "Multi-Group keff = 1.025183\n",
      "bias [pcm]: 1.1\n"
     ]
    }
   ],
   "source": [
    "bias = 1.0E5 * (ce_keff[0] - mg_keff[0])\n",
    "\n",
    "print('Continuous-Energy keff = {0:1.6f}'.format(ce_keff[0]))\n",
    "print('Multi-Group keff = {0:1.6f}'.format(mg_keff[0]))\n",
    "print('bias [pcm]: {0:1.1f}'.format(bias))"
   ]
  },
  {
   "cell_type": "markdown",
   "metadata": {},
   "source": [
    "We see quite good agreement with only an 1 pcm difference between the two.  While these results are quite favorable, due to the high degree of approximations inherent in practical application of multi-group theory, one should not expect results of such fidelity always for multi-group Monte Carlo calculations."
   ]
  },
  {
   "cell_type": "markdown",
   "metadata": {},
   "source": [
    "# Flux and Pin Power Visualizations"
   ]
  },
  {
   "cell_type": "markdown",
   "metadata": {},
   "source": [
    "Next we will visualize the mesh tally results obtained from both the Continuous-Energy and Multi-Group OpenMC calculations.\n",
    "\n",
    "First, we extract volume-integrated fission rates from the Multi-Group calculation's mesh fission rate tally for each pin cell in the fuel assembly."
   ]
  },
  {
   "cell_type": "code",
   "execution_count": 39,
   "metadata": {
    "collapsed": false
   },
   "outputs": [],
   "source": [
    "# Get the OpenMC fission rate mesh tally data\n",
    "mg_mesh_tally = mgsp.get_tally(name='mesh tally')\n",
    "mgopenmc_fission_rates = mg_mesh_tally.get_values(scores=['fission'])\n",
    "\n",
    "# Reshape array to 2D for plotting\n",
    "mgopenmc_fission_rates.shape = (17,17)\n",
    "\n",
    "# Normalize to the average pin power\n",
    "mgopenmc_fission_rates /= np.mean(mgopenmc_fission_rates)"
   ]
  },
  {
   "cell_type": "markdown",
   "metadata": {},
   "source": [
    "Now we can do the same for the Multi-Group results."
   ]
  },
  {
   "cell_type": "code",
   "execution_count": 40,
   "metadata": {
    "collapsed": true
   },
   "outputs": [],
   "source": [
    "# Get the OpenMC fission rate mesh tally data\n",
    "mesh_tally = sp.get_tally(name='mesh tally')\n",
    "openmc_fission_rates = mesh_tally.get_values(scores=['fission'])\n",
    "\n",
    "# Reshape array to 2D for plotting\n",
    "openmc_fission_rates.shape = (17,17)\n",
    "\n",
    "# Normalize to the average pin power\n",
    "openmc_fission_rates /= np.mean(openmc_fission_rates)"
   ]
  },
  {
   "cell_type": "markdown",
   "metadata": {},
   "source": [
    "Now we can easily use Matplotlib to visualize the two fission rates side-by-side."
   ]
  },
  {
   "cell_type": "code",
   "execution_count": 41,
   "metadata": {
    "collapsed": false
   },
   "outputs": [
    {
     "data": {
      "text/plain": [
       "<matplotlib.text.Text at 0x7f89c8d2de10>"
      ]
     },
     "execution_count": 41,
     "metadata": {},
     "output_type": "execute_result"
    },
    {
     "data": {
      "image/png": "[encoded data removed]",
      "text/plain": [
       "<matplotlib.figure.Figure at 0x7f89c8d895c0>"
      ]
     },
     "metadata": {},
     "output_type": "display_data"
    }
   ],
   "source": [
    "# Plot the CE fission rates in the left subplot\n",
    "fig = plt.subplot(121)\n",
    "plt.imshow(openmc_fission_rates, interpolation='none', cmap='jet')\n",
    "plt.title('Continuous-Energy Fission Rates')\n",
    "\n",
    "# Plot the MG fission rates in the right subplot\n",
    "fig2 = plt.subplot(122)\n",
    "plt.imshow(mgopenmc_fission_rates, interpolation='none', cmap='jet')\n",
    "plt.title('Multi-Group Fission Rates')\n"
   ]
  },
  {
   "cell_type": "markdown",
   "metadata": {
    "collapsed": true
   },
   "source": [
    "We also see very good agreement between the fission rate distributions."
   ]
  },
  {
   "cell_type": "code",
   "execution_count": null,
   "metadata": {
    "collapsed": true
   },
   "outputs": [],
   "source": []
  }
 ],
 "metadata": {
  "kernelspec": {
   "display_name": "Python 3",
   "language": "python",
   "name": "python3"
  },
  "language_info": {
   "codemirror_mode": {
    "name": "ipython",
    "version": 3
   },
   "file_extension": ".py",
   "mimetype": "text/x-python",
   "name": "python",
   "nbconvert_exporter": "python",
   "pygments_lexer": "ipython3",
   "version": "3.5.1"
  }
 },
 "nbformat": 4,
 "nbformat_minor": 0
}
