{
 "cells": [
  {
   "cell_type": "markdown",
   "metadata": {},
   "source": [
    "In this notebook, we will go through the salient features of the `openmc.data` package in the Python API. This package enables inspection, analysis, and conversion of nuclear data from ACE files. Most importantly, the package provides a mean to generate HDF5 nuclear data libraries that are used by the transport solver."
   ]
  },
  {
   "cell_type": "code",
   "execution_count": 1,
   "metadata": {
    "collapsed": true
   },
   "outputs": [],
   "source": [
    "%matplotlib inline\n",
    "import os\n",
    "from pprint import pprint\n",
    "\n",
    "import h5py\n",
    "import numpy as np\n",
    "import matplotlib.pyplot as plt\n",
    "import matplotlib.cm\n",
    "from matplotlib.patches import Rectangle\n",
    "\n",
    "import openmc.data"
   ]
  },
  {
   "cell_type": "markdown",
   "metadata": {},
   "source": [
    "## Importing from HDF5"
   ]
  },
  {
   "cell_type": "markdown",
   "metadata": {},
   "source": [
    "The `openmc.data` module can read OpenMC's HDF5-formatted data into Python objects. The easiest way to do this is with the `openmc.data.IncidentNeutron.from_hdf5(...)` factory method. Replace the `filename` variable below with a valid path to an HDF5 data file on your computer."
   ]
  },
  {
   "cell_type": "code",
   "execution_count": 2,
   "metadata": {
    "collapsed": false
   },
   "outputs": [
    {
     "data": {
      "text/plain": [
       "<IncidentNeutron: Gd157.71c>"
      ]
     },
     "execution_count": 2,
     "metadata": {},
     "output_type": "execute_result"
    }
   ],
   "source": [
    "# Get filename for Gd-157\n",
    "filename ='/home/smharper/nuclear-data/nndc-hdf5/Gd157_71c.h5'\n",
    "\n",
    "# Load HDF5 data into object\n",
    "gd157 = openmc.data.IncidentNeutron.from_hdf5(filename)\n",
    "gd157"
   ]
  },
  {
   "cell_type": "markdown",
   "metadata": {},
   "source": [
    "## Cross sections"
   ]
  },
  {
   "cell_type": "markdown",
   "metadata": {},
   "source": [
    "From Python, it's easy to explore (and modify) the nuclear data. Let's start off by reading the total cross section. Reactions are indexed using their \"MT\" number -- a unique identifier for each reaction defined by the ENDF-6 format. The MT number for the total cross section is 1."
   ]
  },
  {
   "cell_type": "code",
   "execution_count": 3,
   "metadata": {
    "collapsed": false
   },
   "outputs": [
    {
     "data": {
      "text/plain": [
       "<Reaction: MT=1 (n,total)>"
      ]
     },
     "execution_count": 3,
     "metadata": {},
     "output_type": "execute_result"
    }
   ],
   "source": [
    "total = gd157[1]\n",
    "total"
   ]
  },
  {
   "cell_type": "markdown",
   "metadata": {},
   "source": [
    "To find the cross section at a particular energy, 1 eV for example, simply call the reaction's `xs` attribute at that energy. Note that our nuclear data uses MeV as the unit of energy."
   ]
  },
  {
   "cell_type": "code",
   "execution_count": 4,
   "metadata": {
    "collapsed": false
   },
   "outputs": [
    {
     "data": {
      "text/plain": [
       "142.6474702147809"
      ]
     },
     "execution_count": 4,
     "metadata": {},
     "output_type": "execute_result"
    }
   ],
   "source": [
    "total.xs(1e-6)"
   ]
  },
  {
   "cell_type": "markdown",
   "metadata": {},
   "source": [
    "The `xs` attribute can also be called on an array of energies."
   ]
  },
  {
   "cell_type": "code",
   "execution_count": 5,
   "metadata": {
    "collapsed": false
   },
   "outputs": [
    {
     "data": {
      "text/plain": [
       "array([ 142.64747021,   38.65417611,  175.40019668])"
      ]
     },
     "execution_count": 5,
     "metadata": {},
     "output_type": "execute_result"
    }
   ],
   "source": [
    "total.xs([1e-6, 2e-6, 3e-6])"
   ]
  },
  {
   "cell_type": "markdown",
   "metadata": {},
   "source": [
    "A quick way to plot cross sections is to use the `energy` attribute of `IncidentNeutron`. This gives an array of all the energy values used in cross section interpolation."
   ]
  },
  {
   "cell_type": "code",
   "execution_count": 6,
   "metadata": {
    "collapsed": false
   },
   "outputs": [
    {
     "data": {
      "text/plain": [
       "array([  1.00000000e-11,   1.03250000e-11,   1.06500000e-11, ...,\n",
       "         1.95000000e+01,   1.99000000e+01,   2.00000000e+01])"
      ]
     },
     "execution_count": 6,
     "metadata": {},
     "output_type": "execute_result"
    }
   ],
   "source": [
    "gd157.energy"
   ]
  },
  {
   "cell_type": "code",
   "execution_count": 7,
   "metadata": {
    "collapsed": false
   },
   "outputs": [
    {
     "data": {
      "text/plain": [
       "<matplotlib.text.Text at 0x7f237f0f0810>"
      ]
     },
     "execution_count": 7,
     "metadata": {},
     "output_type": "execute_result"
    },
    {
     "data": {
      "image/png": "[encoded data removed]",
      "text/plain": [
       "<matplotlib.figure.Figure at 0x7f239c356b90>"
      ]
     },
     "metadata": {},
     "output_type": "display_data"
    }
   ],
   "source": [
    "plt.loglog(gd157.energy, total.xs(gd157.energy))\n",
    "plt.xlabel('Energy (MeV)')\n",
    "plt.ylabel('Cross section (b)')"
   ]
  },
  {
   "cell_type": "markdown",
   "metadata": {},
   "source": [
    "## Reaction Data\n",
    "\n",
    "Most of the interesting data for an `IncidentNeutron` instance is contained within the `reactions` attribute, which is a dictionary mapping MT values to `Reaction` objects."
   ]
  },
  {
   "cell_type": "code",
   "execution_count": 8,
   "metadata": {
    "collapsed": false
   },
   "outputs": [
    {
     "name": "stdout",
     "output_type": "stream",
     "text": [
      "[<Reaction: MT=2 (n,elastic)>,\n",
      " <Reaction: MT=16 (n,2n)>,\n",
      " <Reaction: MT=17 (n,3n)>,\n",
      " <Reaction: MT=22 (n,na)>,\n",
      " <Reaction: MT=24 (n,2na)>,\n",
      " <Reaction: MT=28 (n,np)>,\n",
      " <Reaction: MT=41 (n,2np)>,\n",
      " <Reaction: MT=51 (n,n1)>,\n",
      " <Reaction: MT=52 (n,n2)>,\n",
      " <Reaction: MT=53 (n,n3)>]\n"
     ]
    }
   ],
   "source": [
    "pprint(list(gd157.reactions.values())[:10])"
   ]
  },
  {
   "cell_type": "markdown",
   "metadata": {},
   "source": [
    "Let's suppose we want to look more closely at the (n,2n) reaction. This reaction has an energy threshold"
   ]
  },
  {
   "cell_type": "code",
   "execution_count": 9,
   "metadata": {
    "collapsed": false
   },
   "outputs": [
    {
     "name": "stdout",
     "output_type": "stream",
     "text": [
      "Threshold = 6.400881 MeV\n"
     ]
    }
   ],
   "source": [
    "n2n = gd157[16]\n",
    "print('Threshold = {} MeV'.format(n2n.threshold))"
   ]
  },
  {
   "cell_type": "markdown",
   "metadata": {},
   "source": [
    "The (n,2n) cross section, like all basic cross sections, is represented by the `Tabulated1D` class. The energy and cross section values in the table can be directly accessed with the `x` and `y` attributes. Using the `x` and `y` has the nice benefit of automatically acounting for reaction thresholds."
   ]
  },
  {
   "cell_type": "code",
   "execution_count": 10,
   "metadata": {
    "collapsed": false
   },
   "outputs": [
    {
     "data": {
      "text/plain": [
       "<openmc.data.function.Tabulated1D at 0x7f237f748650>"
      ]
     },
     "execution_count": 10,
     "metadata": {},
     "output_type": "execute_result"
    }
   ],
   "source": [
    "n2n.xs"
   ]
  },
  {
   "cell_type": "code",
   "execution_count": 11,
   "metadata": {
    "collapsed": false
   },
   "outputs": [
    {
     "data": {
      "text/plain": [
       "(6.400881, 20.0)"
      ]
     },
     "execution_count": 11,
     "metadata": {},
     "output_type": "execute_result"
    },
    {
     "data": {
      "image/png": "[encoded data removed]",
      "text/plain": [
       "<matplotlib.figure.Figure at 0x7f237ef64c10>"
      ]
     },
     "metadata": {},
     "output_type": "display_data"
    }
   ],
   "source": [
    "plt.plot(n2n.xs.x, n2n.xs.y)\n",
    "plt.xlabel('Energy (MeV)')\n",
    "plt.ylabel('Cross section (b)')\n",
    "plt.xlim((n2n.xs.x[0], n2n.xs.x[-1]))"
   ]
  },
  {
   "cell_type": "markdown",
   "metadata": {},
   "source": [
    "To get information on the energy and angle distribution of the neutrons emitted in the reaction, we need to look at the `products` attribute."
   ]
  },
  {
   "cell_type": "code",
   "execution_count": 12,
   "metadata": {
    "collapsed": false
   },
   "outputs": [
    {
     "data": {
      "text/plain": [
       "[<Product: neutron, emission=prompt, yield=2.0>,\n",
       " <Product: photon, emission=prompt, yield=tabulated>]"
      ]
     },
     "execution_count": 12,
     "metadata": {},
     "output_type": "execute_result"
    }
   ],
   "source": [
    "n2n.products"
   ]
  },
  {
   "cell_type": "code",
   "execution_count": 13,
   "metadata": {
    "collapsed": false
   },
   "outputs": [
    {
     "data": {
      "text/plain": [
       "[<openmc.data.correlated.CorrelatedAngleEnergy at 0x7f237f766710>]"
      ]
     },
     "execution_count": 13,
     "metadata": {},
     "output_type": "execute_result"
    }
   ],
   "source": [
    "neutron = n2n.products[0]\n",
    "neutron.distribution"
   ]
  },
  {
   "cell_type": "markdown",
   "metadata": {},
   "source": [
    "We see that the neutrons emitted have a correlated angle-energy distribution. Let's look at the `energy_out` attribute to see what the outgoing energy distributions are."
   ]
  },
  {
   "cell_type": "code",
   "execution_count": 14,
   "metadata": {
    "collapsed": false
   },
   "outputs": [
    {
     "data": {
      "text/plain": [
       "[<openmc.stats.univariate.Tabular at 0x7f237f766790>,\n",
       " <openmc.stats.univariate.Tabular at 0x7f237f766810>,\n",
       " <openmc.stats.univariate.Tabular at 0x7f237f7668d0>,\n",
       " <openmc.stats.univariate.Tabular at 0x7f237f766990>,\n",
       " <openmc.stats.univariate.Tabular at 0x7f237f766b10>,\n",
       " <openmc.stats.univariate.Tabular at 0x7f237f766d50>,\n",
       " <openmc.stats.univariate.Tabular at 0x7f237f6ed050>,\n",
       " <openmc.stats.univariate.Tabular at 0x7f237f6ed3d0>,\n",
       " <openmc.stats.univariate.Tabular at 0x7f237f6ed7d0>,\n",
       " <openmc.stats.univariate.Tabular at 0x7f237f6edc50>,\n",
       " <openmc.stats.univariate.Tabular at 0x7f237f6f6190>,\n",
       " <openmc.stats.univariate.Tabular at 0x7f237f6f6710>,\n",
       " <openmc.stats.univariate.Tabular at 0x7f237f6f6c90>,\n",
       " <openmc.stats.univariate.Tabular at 0x7f237f700310>,\n",
       " <openmc.stats.univariate.Tabular at 0x7f237f700990>,\n",
       " <openmc.stats.univariate.Tabular at 0x7f237f70a0d0>,\n",
       " <openmc.stats.univariate.Tabular at 0x7f237f70a810>,\n",
       " <openmc.stats.univariate.Tabular at 0x7f237f70afd0>,\n",
       " <openmc.stats.univariate.Tabular at 0x7f237f713810>,\n",
       " <openmc.stats.univariate.Tabular at 0x7f237f71d050>,\n",
       " <openmc.stats.univariate.Tabular at 0x7f237f71d8d0>,\n",
       " <openmc.stats.univariate.Tabular at 0x7f237f7251d0>,\n",
       " <openmc.stats.univariate.Tabular at 0x7f237f725ad0>,\n",
       " <openmc.stats.univariate.Tabular at 0x7f237f6af450>,\n",
       " <openmc.stats.univariate.Tabular at 0x7f237f6afdd0>,\n",
       " <openmc.stats.univariate.Tabular at 0x7f237f6b87d0>,\n",
       " <openmc.stats.univariate.Tabular at 0x7f237f6c2210>,\n",
       " <openmc.stats.univariate.Tabular at 0x7f237f6c2b50>,\n",
       " <openmc.stats.univariate.Tabular at 0x7f237f6ca590>,\n",
       " <openmc.stats.univariate.Tabular at 0x7f237f6cafd0>]"
      ]
     },
     "execution_count": 14,
     "metadata": {},
     "output_type": "execute_result"
    }
   ],
   "source": [
    "dist = neutron.distribution[0]\n",
    "dist.energy_out"
   ]
  },
  {
   "cell_type": "markdown",
   "metadata": {},
   "source": [
    "Here we see we have a tabulated outgoing energy distribution for each incoming energy. Note that the same probability distribution classes that we could use to create a source definition are also used within the `openmc.data` package. Let's plot every fifth distribution to get an idea of what they look like."
   ]
  },
  {
   "cell_type": "code",
   "execution_count": 15,
   "metadata": {
    "collapsed": false
   },
   "outputs": [
    {
     "data": {
      "image/png": "[encoded data removed]",
      "text/plain": [
       "<matplotlib.figure.Figure at 0x7f237ef48610>"
      ]
     },
     "metadata": {},
     "output_type": "display_data"
    }
   ],
   "source": [
    "for e_in, e_out_dist in zip(dist.energy[::5], dist.energy_out[::5]):\n",
    "    plt.semilogy(e_out_dist.x, e_out_dist.p, label='E={:.2f} MeV'.format(e_in))\n",
    "plt.ylim(ymax=10)\n",
    "plt.legend()\n",
    "plt.xlabel('Outgoing energy (MeV)')\n",
    "plt.ylabel('Probability/MeV')\n",
    "plt.show()"
   ]
  },
  {
   "cell_type": "markdown",
   "metadata": {},
   "source": [
    "There is also `summed_reactions` attribute for cross sections (like total) which are built from summing up other cross sections."
   ]
  },
  {
   "cell_type": "code",
   "execution_count": 16,
   "metadata": {
    "collapsed": false
   },
   "outputs": [
    {
     "name": "stdout",
     "output_type": "stream",
     "text": [
      "[<Reaction: MT=101 (n,disappear)>,\n",
      " <Reaction: MT=27 (n,absorption)>,\n",
      " <Reaction: MT=4 (n,level)>,\n",
      " <Reaction: MT=3>,\n",
      " <Reaction: MT=1 (n,total)>]\n"
     ]
    }
   ],
   "source": [
    "pprint(list(gd157.summed_reactions.values()))"
   ]
  },
  {
   "cell_type": "markdown",
   "metadata": {},
   "source": [
    "Note that the cross sections for these reactions are represented by the `Sum` class rather than `Tabulated1D`. They do not support the `x` and `y` attributes."
   ]
  },
  {
   "cell_type": "code",
   "execution_count": 17,
   "metadata": {
    "collapsed": false
   },
   "outputs": [
    {
     "data": {
      "text/plain": [
       "<openmc.data.function.Sum at 0x7f237f7a9f90>"
      ]
     },
     "execution_count": 17,
     "metadata": {},
     "output_type": "execute_result"
    }
   ],
   "source": [
    "gd157[27].xs"
   ]
  },
  {
   "cell_type": "markdown",
   "metadata": {},
   "source": [
    "## Unresolved resonance probability tables\n",
    "\n",
    "We can also look at unresolved resonance probability tables which are stored in a `ProbabilityTables` object. In the following example, we'll create a plot showing what the total cross section probability tables look like as a function of incoming energy."
   ]
  },
  {
   "cell_type": "code",
   "execution_count": 18,
   "metadata": {
    "collapsed": false
   },
   "outputs": [
    {
     "data": {
      "text/plain": [
       "<matplotlib.text.Text at 0x7f237eccbf10>"
      ]
     },
     "execution_count": 18,
     "metadata": {},
     "output_type": "execute_result"
    },
    {
     "data": {
      "image/png": "[encoded data removed]",
      "text/plain": [
       "<matplotlib.figure.Figure at 0x7f237ecb7a10>"
      ]
     },
     "metadata": {},
     "output_type": "display_data"
    }
   ],
   "source": [
    "fig = plt.figure()\n",
    "ax = fig.add_subplot(111)\n",
    "cm = matplotlib.cm.Spectral_r\n",
    "\n",
    "# Determine size of probability tables\n",
    "urr = gd157.urr\n",
    "n_energy = urr.table.shape[0]\n",
    "n_band = urr.table.shape[2]\n",
    "\n",
    "for i in range(n_energy):\n",
    "    # Get bounds on energy\n",
    "    if i > 0:\n",
    "        e_left = urr.energy[i] - 0.5*(urr.energy[i] - urr.energy[i-1])\n",
    "    else:\n",
    "        e_left = urr.energy[i] - 0.5*(urr.energy[i+1] - urr.energy[i])\n",
    "\n",
    "    if i < n_energy - 1:\n",
    "        e_right = urr.energy[i] + 0.5*(urr.energy[i+1] - urr.energy[i])\n",
    "    else:\n",
    "        e_right = urr.energy[i] + 0.5*(urr.energy[i] - urr.energy[i-1])\n",
    "        \n",
    "    for j in range(n_band):\n",
    "        # Determine maximum probability for a single band\n",
    "        max_prob = np.diff(urr.table[i,0,:]).max()\n",
    "        \n",
    "        # Determine bottom of band\n",
    "        if j > 0:\n",
    "            xs_bottom = urr.table[i,1,j] - 0.5*(urr.table[i,1,j] - urr.table[i,1,j-1])\n",
    "            value = (urr.table[i,0,j] - urr.table[i,0,j-1])/max_prob\n",
    "        else:\n",
    "            xs_bottom = urr.table[i,1,j] - 0.5*(urr.table[i,1,j+1] - urr.table[i,1,j])\n",
    "            value = urr.table[i,0,j]/max_prob\n",
    "\n",
    "        # Determine top of band\n",
    "        if j < n_band - 1:\n",
    "            xs_top = urr.table[i,1,j] + 0.5*(urr.table[i,1,j+1] - urr.table[i,1,j])\n",
    "        else:\n",
    "            xs_top = urr.table[i,1,j] + 0.5*(urr.table[i,1,j] - urr.table[i,1,j-1])\n",
    "    \n",
    "        # Draw rectangle with appropriate color\n",
    "        ax.add_patch(Rectangle((e_left, xs_bottom), e_right - e_left, xs_top - xs_bottom,\n",
    "                     color=cm(value)))\n",
    "\n",
    "# Overlay total cross section\n",
    "ax.plot(gd157.energy, total.xs(gd157.energy), 'k')\n",
    "\n",
    "# Make plot pretty and labeled\n",
    "ax.set_xlim(1e-6, 1e-1)\n",
    "ax.set_ylim(1e-1, 1e4)\n",
    "ax.set_xscale('log')\n",
    "ax.set_yscale('log')\n",
    "ax.set_xlabel('Energy (MeV)')\n",
    "ax.set_ylabel('Cross section(b)')"
   ]
  },
  {
   "cell_type": "markdown",
   "metadata": {},
   "source": [
    "## Converting ACE to HDF5\n",
    "\n",
    "The `openmc.data` package can also read ACE files and output HDF5 files. ACE files can be read with the `openmc.data.IncidentNeutron.from_ace(...)` factory method."
   ]
  },
  {
   "cell_type": "code",
   "execution_count": 19,
   "metadata": {
    "collapsed": false
   },
   "outputs": [
    {
     "data": {
      "text/plain": [
       "<IncidentNeutron: Gd157.71c>"
      ]
     },
     "execution_count": 19,
     "metadata": {},
     "output_type": "execute_result"
    }
   ],
   "source": [
    "filename = '/home/smharper/nuclear-data/nndc/293.6K/Gd_157_293.6K.ace'\n",
    "gd157_ace = openmc.data.IncidentNeutron.from_ace(filename)\n",
    "gd157_ace"
   ]
  },
  {
   "cell_type": "markdown",
   "metadata": {},
   "source": [
    "We can store this formerly ACE data as HDF5 with the `export_to_hdf5()` method."
   ]
  },
  {
   "cell_type": "code",
   "execution_count": 20,
   "metadata": {
    "collapsed": true
   },
   "outputs": [],
   "source": [
    "gd157_ace.export_to_hdf5('gd157.h5', 'w')"
   ]
  },
  {
   "cell_type": "markdown",
   "metadata": {},
   "source": [
    "With few exceptions, the HDF5 file encodes the same data as the ACE file."
   ]
  },
  {
   "cell_type": "code",
   "execution_count": 21,
   "metadata": {
    "collapsed": false
   },
   "outputs": [
    {
     "data": {
      "text/plain": [
       "array([ 0.,  0.,  0.,  0.,  0.,  0.,  0.,  0.,  0.,  0.,  0.,  0.,  0.,\n",
       "        0.,  0.,  0.,  0.,  0.,  0.,  0.,  0.,  0.,  0.,  0.,  0.,  0.,\n",
       "        0.,  0.,  0.,  0.,  0.,  0.,  0.,  0.,  0.,  0.,  0.])"
      ]
     },
     "execution_count": 21,
     "metadata": {},
     "output_type": "execute_result"
    }
   ],
   "source": [
    "gd157_reconstructed = openmc.data.IncidentNeutron.from_hdf5('gd157.h5')\n",
    "gd157_ace[16].xs.y - gd157_reconstructed[16].xs.y"
   ]
  },
  {
   "cell_type": "markdown",
   "metadata": {},
   "source": [
    "And one of the best parts of using HDF5 is that it is a widely used format with lots of third-party support. You can use `h5py`, for example, to inspect the data."
   ]
  },
  {
   "cell_type": "code",
   "execution_count": 22,
   "metadata": {
    "collapsed": false
   },
   "outputs": [
    {
     "name": "stdout",
     "output_type": "stream",
     "text": [
      "reaction_002, (n,elastic)\n",
      "reaction_016, (n,2n)\n",
      "reaction_017, (n,3n)\n",
      "reaction_022, (n,na)\n",
      "reaction_024, (n,2na)\n",
      "reaction_028, (n,np)\n",
      "reaction_041, (n,2np)\n",
      "reaction_051, (n,n1)\n",
      "reaction_052, (n,n2)\n",
      "reaction_053, (n,n3)\n"
     ]
    }
   ],
   "source": [
    "h5file = h5py.File('gd157.h5', 'r')\n",
    "main_group = h5file['Gd157.71c/reactions']\n",
    "for name, obj in sorted(list(main_group.items()))[:10]:\n",
    "    if 'reaction_' in name:\n",
    "        print('{}, {}'.format(name, obj.attrs['label'].decode()))"
   ]
  },
  {
   "cell_type": "code",
   "execution_count": 23,
   "metadata": {
    "collapsed": false
   },
   "outputs": [
    {
     "name": "stdout",
     "output_type": "stream",
     "text": [
      "[<HDF5 dataset \"xs\": shape (37,), type \"<f8\">,\n",
      " <HDF5 group \"/Gd157.71c/reactions/reaction_016/product_0\" (2 members)>,\n",
      " <HDF5 group \"/Gd157.71c/reactions/reaction_016/product_1\" (2 members)>]\n"
     ]
    }
   ],
   "source": [
    "n2n_group = main_group['reaction_016']\n",
    "pprint(list(n2n_group.values()))"
   ]
  },
  {
   "cell_type": "markdown",
   "metadata": {},
   "source": [
    "So we see that the hierarchy of data within the HDF5 mirrors the hierarchy of Python objects that we manipulated before."
   ]
  },
  {
   "cell_type": "code",
   "execution_count": 24,
   "metadata": {
    "collapsed": false,
    "scrolled": true
   },
   "outputs": [
    {
     "data": {
      "text/plain": [
       "array([  0.00000000e+00,   3.02679600e-13,   1.29110100e-02,\n",
       "         6.51111000e-02,   3.92627000e-01,   5.75226800e-01,\n",
       "         6.96960000e-01,   7.39937800e-01,   9.63545000e-01,\n",
       "         1.14213000e+00,   1.30802000e+00,   1.46350000e+00,\n",
       "         1.55760000e+00,   1.64055000e+00,   1.68896000e+00,\n",
       "         1.71140000e+00,   1.73945000e+00,   1.78207000e+00,\n",
       "         1.81665000e+00,   1.84528000e+00,   1.86540900e+00,\n",
       "         1.86724000e+00,   1.88155800e+00,   1.88156000e+00,\n",
       "         1.88180000e+00,   1.89447000e+00,   1.86957000e+00,\n",
       "         1.82120000e+00,   1.71600000e+00,   1.60054000e+00,\n",
       "         1.43162000e+00,   1.28346000e+00,   1.10166000e+00,\n",
       "         1.06530000e+00,   9.30730000e-01,   8.02980000e-01,\n",
       "         7.77740000e-01])"
      ]
     },
     "execution_count": 24,
     "metadata": {},
     "output_type": "execute_result"
    }
   ],
   "source": [
    "n2n_group['xs'].value"
   ]
  }
 ],
 "metadata": {
  "kernelspec": {
   "display_name": "Python 2",
   "language": "python",
   "name": "python2"
  },
  "language_info": {
   "codemirror_mode": {
    "name": "ipython",
    "version": 2
   },
   "file_extension": ".py",
   "mimetype": "text/x-python",
   "name": "python",
   "nbconvert_exporter": "python",
   "pygments_lexer": "ipython2",
   "version": "2.7.12"
  }
 },
 "nbformat": 4,
 "nbformat_minor": 0
}
