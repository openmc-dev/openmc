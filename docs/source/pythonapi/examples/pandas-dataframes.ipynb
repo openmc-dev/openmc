{
 "cells": [
  {
   "cell_type": "markdown",
   "metadata": {},
   "source": [
    "This notebook demonstrates how systematic analysis of tally scores is possible using Pandas dataframes. A dataframe can be automatically generated using the `Tally.get_pandas_dataframe(...)` method. Furthermore, by linking the tally data in a statepoint file with geometry and material information from a summary file, the dataframe can be shown with user-supplied labels.\n",
    "\n",
    "**Note:** that this Notebook was created using the latest Pandas v0.16.1. Everything in the Notebook will wun with older versions of Pandas, but the multi-indexing option in >v0.15.0 makes the tables look prettier."
   ]
  },
  {
   "cell_type": "code",
   "execution_count": 1,
   "metadata": {
    "collapsed": false
   },
   "outputs": [],
   "source": [
    "%matplotlib inline\n",
    "import glob\n",
    "\n",
    "from IPython.display import Image\n",
    "import matplotlib.pyplot as plt\n",
    "import scipy.stats\n",
    "import numpy as np\n",
    "import pandas as pd\n",
    "\n",
    "import openmc"
   ]
  },
  {
   "cell_type": "markdown",
   "metadata": {},
   "source": [
    "## Generate Input Files"
   ]
  },
  {
   "cell_type": "markdown",
   "metadata": {},
   "source": [
    "First we need to define materials that will be used in the problem. Before defining a material, we must create nuclides that are used in the material."
   ]
  },
  {
   "cell_type": "code",
   "execution_count": 2,
   "metadata": {
    "collapsed": true
   },
   "outputs": [],
   "source": [
    "# Instantiate some Nuclides\n",
    "h1 = openmc.Nuclide('H1')\n",
    "b10 = openmc.Nuclide('B10')\n",
    "o16 = openmc.Nuclide('O16')\n",
    "u235 = openmc.Nuclide('U235')\n",
    "u238 = openmc.Nuclide('U238')\n",
    "zr90 = openmc.Nuclide('Zr90')"
   ]
  },
  {
   "cell_type": "markdown",
   "metadata": {},
   "source": [
    "With the nuclides we defined, we will now create three materials for the fuel, water, and cladding of the fuel pin."
   ]
  },
  {
   "cell_type": "code",
   "execution_count": 3,
   "metadata": {
    "collapsed": false
   },
   "outputs": [],
   "source": [
    "# 1.6 enriched fuel\n",
    "fuel = openmc.Material(name='1.6% Fuel')\n",
    "fuel.set_density('g/cm3', 10.31341)\n",
    "fuel.add_nuclide(u235, 3.7503e-4)\n",
    "fuel.add_nuclide(u238, 2.2625e-2)\n",
    "fuel.add_nuclide(o16, 4.6007e-2)\n",
    "\n",
    "# borated water\n",
    "water = openmc.Material(name='Borated Water')\n",
    "water.set_density('g/cm3', 0.740582)\n",
    "water.add_nuclide(h1, 4.9457e-2)\n",
    "water.add_nuclide(o16, 2.4732e-2)\n",
    "water.add_nuclide(b10, 8.0042e-6)\n",
    "\n",
    "# zircaloy\n",
    "zircaloy = openmc.Material(name='Zircaloy')\n",
    "zircaloy.set_density('g/cm3', 6.55)\n",
    "zircaloy.add_nuclide(zr90, 7.2758e-3)"
   ]
  },
  {
   "cell_type": "markdown",
   "metadata": {},
   "source": [
    "With our three materials, we can now create a materials file object that can be exported to an actual XML file."
   ]
  },
  {
   "cell_type": "code",
   "execution_count": 4,
   "metadata": {
    "collapsed": false
   },
   "outputs": [],
   "source": [
    "# Instantiate a Materials collection\n",
    "materials_file = openmc.Materials((fuel, water, zircaloy))\n",
    "\n",
    "# Export to \"materials.xml\"\n",
    "materials_file.export_to_xml()"
   ]
  },
  {
   "cell_type": "markdown",
   "metadata": {},
   "source": [
    "Now let's move on to the geometry. This problem will be a square array of fuel pins for which we can use OpenMC's lattice/universe feature. The basic universe will have three regions for the fuel, the clad, and the surrounding coolant. The first step is to create the bounding surfaces for fuel and clad, as well as the outer bounding surfaces of the problem."
   ]
  },
  {
   "cell_type": "code",
   "execution_count": 5,
   "metadata": {
    "collapsed": false
   },
   "outputs": [],
   "source": [
    "# Create cylinders for the fuel and clad\n",
    "fuel_outer_radius = openmc.ZCylinder(x0=0.0, y0=0.0, R=0.39218)\n",
    "clad_outer_radius = openmc.ZCylinder(x0=0.0, y0=0.0, R=0.45720)\n",
    "\n",
    "# Create boundary planes to surround the geometry\n",
    "# Use both reflective and vacuum boundaries to make life interesting\n",
    "min_x = openmc.XPlane(x0=-10.71, boundary_type='reflective')\n",
    "max_x = openmc.XPlane(x0=+10.71, boundary_type='vacuum')\n",
    "min_y = openmc.YPlane(y0=-10.71, boundary_type='vacuum')\n",
    "max_y = openmc.YPlane(y0=+10.71, boundary_type='reflective')\n",
    "min_z = openmc.ZPlane(z0=-10.71, boundary_type='reflective')\n",
    "max_z = openmc.ZPlane(z0=+10.71, boundary_type='reflective')"
   ]
  },
  {
   "cell_type": "markdown",
   "metadata": {},
   "source": [
    "With the surfaces defined, we can now construct a fuel pin cell from cells that are defined by intersections of half-spaces created by the surfaces."
   ]
  },
  {
   "cell_type": "code",
   "execution_count": 6,
   "metadata": {
    "collapsed": false
   },
   "outputs": [],
   "source": [
    "# Create a Universe to encapsulate a fuel pin\n",
    "pin_cell_universe = openmc.Universe(name='1.6% Fuel Pin')\n",
    "\n",
    "# Create fuel Cell\n",
    "fuel_cell = openmc.Cell(name='1.6% Fuel')\n",
    "fuel_cell.fill = fuel\n",
    "fuel_cell.region = -fuel_outer_radius\n",
    "pin_cell_universe.add_cell(fuel_cell)\n",
    "\n",
    "# Create a clad Cell\n",
    "clad_cell = openmc.Cell(name='1.6% Clad')\n",
    "clad_cell.fill = zircaloy\n",
    "clad_cell.region = +fuel_outer_radius & -clad_outer_radius\n",
    "pin_cell_universe.add_cell(clad_cell)\n",
    "\n",
    "# Create a moderator Cell\n",
    "moderator_cell = openmc.Cell(name='1.6% Moderator')\n",
    "moderator_cell.fill = water\n",
    "moderator_cell.region = +clad_outer_radius\n",
    "pin_cell_universe.add_cell(moderator_cell)"
   ]
  },
  {
   "cell_type": "markdown",
   "metadata": {},
   "source": [
    "Using the pin cell universe, we can construct a 17x17 rectangular lattice with a 1.26 cm pitch."
   ]
  },
  {
   "cell_type": "code",
   "execution_count": 7,
   "metadata": {
    "collapsed": false
   },
   "outputs": [],
   "source": [
    "# Create fuel assembly Lattice\n",
    "assembly = openmc.RectLattice(name='1.6% Fuel - 0BA')\n",
    "assembly.pitch = (1.26, 1.26)\n",
    "assembly.lower_left = [-1.26 * 17. / 2.0] * 2\n",
    "assembly.universes = [[pin_cell_universe] * 17] * 17"
   ]
  },
  {
   "cell_type": "markdown",
   "metadata": {},
   "source": [
    "OpenMC requires that there is a \"root\" universe. Let us create a root cell that is filled by the pin cell universe and then assign it to the root universe."
   ]
  },
  {
   "cell_type": "code",
   "execution_count": 8,
   "metadata": {
    "collapsed": false
   },
   "outputs": [],
   "source": [
    "# Create root Cell\n",
    "root_cell = openmc.Cell(name='root cell')\n",
    "root_cell.fill = assembly\n",
    "\n",
    "# Add boundary planes\n",
    "root_cell.region = +min_x & -max_x & +min_y & -max_y & +min_z & -max_z\n",
    "\n",
    "# Create root Universe\n",
    "root_universe = openmc.Universe(universe_id=0, name='root universe')\n",
    "root_universe.add_cell(root_cell)"
   ]
  },
  {
   "cell_type": "markdown",
   "metadata": {},
   "source": [
    "We now must create a geometry that is assigned a root universe and export it to XML."
   ]
  },
  {
   "cell_type": "code",
   "execution_count": 9,
   "metadata": {
    "collapsed": true
   },
   "outputs": [],
   "source": [
    "# Create Geometry and set root Universe\n",
    "geometry = openmc.Geometry()\n",
    "geometry.root_universe = root_universe"
   ]
  },
  {
   "cell_type": "code",
   "execution_count": 10,
   "metadata": {
    "collapsed": false
   },
   "outputs": [],
   "source": [
    "# Export to \"geometry.xml\"\n",
    "geometry.export_to_xml()"
   ]
  },
  {
   "cell_type": "markdown",
   "metadata": {},
   "source": [
    "With the geometry and materials finished, we now just need to define simulation parameters. In this case, we will use 5 inactive batches and 15 minimum active batches each with 2500 particles. We also tell OpenMC to turn tally triggers on, which means it will keep running until some criterion on the uncertainty of tallies is reached."
   ]
  },
  {
   "cell_type": "code",
   "execution_count": 11,
   "metadata": {
    "collapsed": true
   },
   "outputs": [],
   "source": [
    "# OpenMC simulation parameters\n",
    "min_batches = 20\n",
    "max_batches = 200\n",
    "inactive = 5\n",
    "particles = 2500\n",
    "\n",
    "# Instantiate a Settings object\n",
    "settings_file = openmc.Settings()\n",
    "settings_file.batches = min_batches\n",
    "settings_file.inactive = inactive\n",
    "settings_file.particles = particles\n",
    "settings_file.output = {'tallies': False}\n",
    "settings_file.trigger_active = True\n",
    "settings_file.trigger_max_batches = max_batches\n",
    "\n",
    "# Create an initial uniform spatial source distribution over fissionable zones\n",
    "bounds = [-10.71, -10.71, -10, 10.71, 10.71, 10.]\n",
    "uniform_dist = openmc.stats.Box(bounds[:3], bounds[3:], only_fissionable=True)\n",
    "settings_file.source = openmc.source.Source(space=uniform_dist)\n",
    "\n",
    "# Export to \"settings.xml\"\n",
    "settings_file.export_to_xml()"
   ]
  },
  {
   "cell_type": "markdown",
   "metadata": {},
   "source": [
    "Let us also create a plot file that we can use to verify that our pin cell geometry was created successfully."
   ]
  },
  {
   "cell_type": "code",
   "execution_count": 12,
   "metadata": {
    "collapsed": false
   },
   "outputs": [],
   "source": [
    "# Instantiate a Plot\n",
    "plot = openmc.Plot(plot_id=1)\n",
    "plot.filename = 'materials-xy'\n",
    "plot.origin = [0, 0, 0]\n",
    "plot.width = [21.5, 21.5]\n",
    "plot.pixels = [250, 250]\n",
    "plot.color = 'mat'\n",
    "\n",
    "# Instantiate a Plots collection and export to \"plots.xml\"\n",
    "plot_file = openmc.Plots([plot])\n",
    "plot_file.export_to_xml()"
   ]
  },
  {
   "cell_type": "markdown",
   "metadata": {},
   "source": [
    "With the plots.xml file, we can now generate and view the plot. OpenMC outputs plots in .ppm format, which can be converted into a compressed format like .png with the convert utility."
   ]
  },
  {
   "cell_type": "code",
   "execution_count": 13,
   "metadata": {
    "collapsed": false
   },
   "outputs": [
    {
     "data": {
      "text/plain": [
       "0"
      ]
     },
     "execution_count": 13,
     "metadata": {},
     "output_type": "execute_result"
    }
   ],
   "source": [
    "# Run openmc in plotting mode\n",
    "openmc.plot_geometry(output=False)"
   ]
  },
  {
   "cell_type": "code",
   "execution_count": 14,
   "metadata": {
    "collapsed": false
   },
   "outputs": [
    {
     "data": {
      "image/png": "[encoded data removed]",
      "text/plain": [
       "<IPython.core.display.Image object>"
      ]
     },
     "execution_count": 14,
     "metadata": {},
     "output_type": "execute_result"
    }
   ],
   "source": [
    "# Convert OpenMC's funky ppm to png\n",
    "!convert materials-xy.ppm materials-xy.png\n",
    "\n",
    "# Display the materials plot inline\n",
    "Image(filename='materials-xy.png')"
   ]
  },
  {
   "cell_type": "markdown",
   "metadata": {},
   "source": [
    "As we can see from the plot, we have a nice array of pin cells with fuel, cladding, and water! Before we run our simulation, we need to tell the code what we want to tally. The following code shows how to create a variety of tallies."
   ]
  },
  {
   "cell_type": "code",
   "execution_count": 15,
   "metadata": {
    "collapsed": true
   },
   "outputs": [],
   "source": [
    "# Instantiate an empty Tallies object\n",
    "tallies_file = openmc.Tallies()\n",
    "tallies_file._tallies = []"
   ]
  },
  {
   "cell_type": "markdown",
   "metadata": {},
   "source": [
    "Instantiate a fission rate mesh Tally"
   ]
  },
  {
   "cell_type": "code",
   "execution_count": 16,
   "metadata": {
    "collapsed": false
   },
   "outputs": [],
   "source": [
    "# Instantiate a tally Mesh\n",
    "mesh = openmc.Mesh(mesh_id=1)\n",
    "mesh.type = 'regular'\n",
    "mesh.dimension = [17, 17]\n",
    "mesh.lower_left = [-10.71, -10.71]\n",
    "mesh.width = [1.26, 1.26]\n",
    "\n",
    "# Instantiate tally Filter\n",
    "mesh_filter = openmc.MeshFilter(mesh)\n",
    "\n",
    "# Instantiate energy Filter\n",
    "energy_filter = openmc.EnergyFilter([0, 0.625, 20.0e6])\n",
    "\n",
    "# Instantiate the Tally\n",
    "tally = openmc.Tally(name='mesh tally')\n",
    "tally.filters = [mesh_filter, energy_filter]\n",
    "tally.scores = ['fission', 'nu-fission']\n",
    "\n",
    "# Add mesh and Tally to Tallies\n",
    "tallies_file.append(tally)"
   ]
  },
  {
   "cell_type": "markdown",
   "metadata": {},
   "source": [
    "Instantiate a cell Tally with nuclides"
   ]
  },
  {
   "cell_type": "code",
   "execution_count": 17,
   "metadata": {
    "collapsed": false
   },
   "outputs": [],
   "source": [
    "# Instantiate tally Filter\n",
    "cell_filter = openmc.CellFilter(fuel_cell.id)\n",
    "\n",
    "# Instantiate the tally\n",
    "tally = openmc.Tally(name='cell tally')\n",
    "tally.filters = [cell_filter]\n",
    "tally.scores = ['scatter-y2']\n",
    "tally.nuclides = [u235, u238]\n",
    "\n",
    "# Add mesh and tally to Tallies\n",
    "tallies_file.append(tally)"
   ]
  },
  {
   "cell_type": "markdown",
   "metadata": {},
   "source": [
    "Create a \"distribcell\" Tally. The distribcell filter allows us to tally multiple repeated instances of the same cell throughout the geometry."
   ]
  },
  {
   "cell_type": "code",
   "execution_count": 18,
   "metadata": {
    "collapsed": false
   },
   "outputs": [],
   "source": [
    "# Instantiate tally Filter\n",
    "distribcell_filter = openmc.DistribcellFilter(moderator_cell.id)\n",
    "\n",
    "# Instantiate tally Trigger for kicks\n",
    "trigger = openmc.Trigger(trigger_type='std_dev', threshold=5e-5)\n",
    "trigger.scores = ['absorption']\n",
    "\n",
    "# Instantiate the Tally\n",
    "tally = openmc.Tally(name='distribcell tally')\n",
    "tally.filters = [distribcell_filter]\n",
    "tally.scores = ['absorption', 'scatter']\n",
    "tally.triggers = [trigger]\n",
    "\n",
    "# Add mesh and tally to Tallies\n",
    "tallies_file.append(tally)"
   ]
  },
  {
   "cell_type": "code",
   "execution_count": 19,
   "metadata": {
    "collapsed": true
   },
   "outputs": [],
   "source": [
    "# Export to \"tallies.xml\"\n",
    "tallies_file.export_to_xml()"
   ]
  },
  {
   "cell_type": "markdown",
   "metadata": {},
   "source": [
    "Now we a have a complete set of inputs, so we can go ahead and run our simulation."
   ]
  },
  {
   "cell_type": "code",
   "execution_count": 20,
   "metadata": {
    "collapsed": false
   },
   "outputs": [
    {
     "name": "stdout",
     "output_type": "stream",
     "text": [
      "\n",
      "                               %%%%%%%%%%%%%%%\n",
      "                          %%%%%%%%%%%%%%%%%%%%%%%%\n",
      "                       %%%%%%%%%%%%%%%%%%%%%%%%%%%%%%\n",
      "                     %%%%%%%%%%%%%%%%%%%%%%%%%%%%%%%%%%\n",
      "                   %%%%%%%%%%%%%%%%%%%%%%%%%%%%%%%%%%%%%%\n",
      "                  %%%%%%%%%%%%%%%%%%%%%%%%%%%%%%%%%%%%%%%%\n",
      "                                   %%%%%%%%%%%%%%%%%%%%%%%%\n",
      "                                    %%%%%%%%%%%%%%%%%%%%%%%%\n",
      "                ###############      %%%%%%%%%%%%%%%%%%%%%%%%\n",
      "               ##################     %%%%%%%%%%%%%%%%%%%%%%%\n",
      "               ###################     %%%%%%%%%%%%%%%%%%%%%%%\n",
      "               ####################     %%%%%%%%%%%%%%%%%%%%%%\n",
      "               #####################     %%%%%%%%%%%%%%%%%%%%%\n",
      "               ######################     %%%%%%%%%%%%%%%%%%%%\n",
      "               #######################     %%%%%%%%%%%%%%%%%%\n",
      "                #######################     %%%%%%%%%%%%%%%%%\n",
      "                ######################     %%%%%%%%%%%%%%%%%\n",
      "                 ####################     %%%%%%%%%%%%%%%%%\n",
      "                   #################     %%%%%%%%%%%%%%%%%\n",
      "                    ###############     %%%%%%%%%%%%%%%%\n",
      "                      ############     %%%%%%%%%%%%%%%\n",
      "                         ########     %%%%%%%%%%%%%%\n",
      "                                     %%%%%%%%%%%\n",
      "\n",
      "                   | The OpenMC Monte Carlo Code\n",
      "         Copyright | 2011-2016 Massachusetts Institute of Technology\n",
      "           License | http://openmc.readthedocs.io/en/latest/license.html\n",
      "           Version | 0.8.0\n",
      "          Git SHA1 | da5563eddb5f2c2d6b2c9839d518de40962b78f2\n",
      "         Date/Time | 2016-10-31 12:45:15\n",
      "    OpenMP Threads | 4\n",
      "\n",
      " ===========================================================================\n",
      " ========================>     INITIALIZATION     <=========================\n",
      " ===========================================================================\n",
      "\n",
      " Reading settings XML file...\n",
      " Reading geometry XML file...\n",
      " Reading materials XML file...\n",
      " Reading cross sections XML file...\n",
      " Reading U235 from /home/romano/openmc/scripts/nndc_hdf5/U235.h5\n",
      " Reading U238 from /home/romano/openmc/scripts/nndc_hdf5/U238.h5\n",
      " Reading O16 from /home/romano/openmc/scripts/nndc_hdf5/O16.h5\n",
      " Reading H1 from /home/romano/openmc/scripts/nndc_hdf5/H1.h5\n",
      " Reading B10 from /home/romano/openmc/scripts/nndc_hdf5/B10.h5\n",
      " Reading Zr90 from /home/romano/openmc/scripts/nndc_hdf5/Zr90.h5\n",
      " Maximum neutron transport energy: 2.00000E+07 eV for U235\n",
      " Reading tallies XML file...\n",
      " Building neighboring cells lists for each surface...\n",
      " Initializing source particles...\n",
      "\n",
      " ===========================================================================\n",
      " ====================>     K EIGENVALUE SIMULATION     <====================\n",
      " ===========================================================================\n",
      "\n",
      "  Bat./Gen.      k            Average k         \n",
      "  =========   ========   ====================   \n",
      "        1/1    0.55921                       \n",
      "        2/1    0.63816                       \n",
      "        3/1    0.68834                       \n",
      "        4/1    0.71192                       \n",
      "        5/1    0.67935                       \n",
      "        6/1    0.68274                       \n",
      "        7/1    0.66339    0.67307 +/- 0.00967\n",
      "        8/1    0.65835    0.66816 +/- 0.00743\n",
      "        9/1    0.66697    0.66786 +/- 0.00527\n",
      "       10/1    0.70498    0.67528 +/- 0.00847\n",
      "       11/1    0.68596    0.67706 +/- 0.00714\n",
      "       12/1    0.68481    0.67817 +/- 0.00614\n",
      "       13/1    0.68369    0.67886 +/- 0.00536\n",
      "       14/1    0.68785    0.67986 +/- 0.00483\n",
      "       15/1    0.66145    0.67802 +/- 0.00470\n",
      "       16/1    0.71831    0.68168 +/- 0.00561\n",
      "       17/1    0.68428    0.68190 +/- 0.00512\n",
      "       18/1    0.67527    0.68139 +/- 0.00474\n",
      "       19/1    0.68166    0.68141 +/- 0.00439\n",
      "       20/1    0.65475    0.67963 +/- 0.00446\n",
      " Triggers unsatisfied, max unc./thresh. is 1.07581 for absorption in tally 10002\n",
      " The estimated number of batches is 23\n",
      " Creating state point statepoint.020.h5...\n",
      "       21/1    0.64538    0.67749 +/- 0.00469\n",
      "       22/1    0.73275    0.68074 +/- 0.00547\n",
      "       23/1    0.71674    0.68274 +/- 0.00553\n",
      " Triggers satisfied for batch 23\n",
      " Creating state point statepoint.023.h5...\n",
      "\n",
      " ===========================================================================\n",
      " ======================>     SIMULATION FINISHED     <======================\n",
      " ===========================================================================\n",
      "\n",
      "\n",
      " =======================>     TIMING STATISTICS     <=======================\n",
      "\n",
      " Total time for initialization     =  5.0551E-01 seconds\n",
      "   Reading cross sections          =  3.6354E-01 seconds\n",
      " Total time in simulation          =  5.9963E+00 seconds\n",
      "   Time in transport only          =  5.9140E+00 seconds\n",
      "   Time in inactive batches        =  1.1232E+00 seconds\n",
      "   Time in active batches          =  4.8731E+00 seconds\n",
      "   Time synchronizing fission bank =  2.4961E-03 seconds\n",
      "     Sampling source sites         =  1.7274E-03 seconds\n",
      "     SEND/RECV source sites        =  7.2484E-04 seconds\n",
      "   Time accumulating tallies       =  4.0034E-04 seconds\n",
      " Total time for finalization       =  2.3800E-05 seconds\n",
      " Total time elapsed                =  6.5204E+00 seconds\n",
      " Calculation Rate (inactive)       =  11129.0 neutrons/second\n",
      " Calculation Rate (active)         =  7695.33 neutrons/second\n",
      "\n",
      " ============================>     RESULTS     <============================\n",
      "\n",
      " k-effective (Collision)     =  0.67952 +/-  0.00434\n",
      " k-effective (Track-length)  =  0.68274 +/-  0.00553\n",
      " k-effective (Absorption)    =  0.68095 +/-  0.00369\n",
      " Combined k-effective        =  0.67994 +/-  0.00349\n",
      " Leakage Fraction            =  0.34133 +/-  0.00332\n",
      "\n"
     ]
    },
    {
     "data": {
      "text/plain": [
       "0"
      ]
     },
     "execution_count": 20,
     "metadata": {},
     "output_type": "execute_result"
    }
   ],
   "source": [
    "# Remove old HDF5 (summary, statepoint) files\n",
    "!rm statepoint.*\n",
    "\n",
    "# Run OpenMC!\n",
    "openmc.run()"
   ]
  },
  {
   "cell_type": "markdown",
   "metadata": {},
   "source": [
    "## Tally Data Processing"
   ]
  },
  {
   "cell_type": "code",
   "execution_count": 21,
   "metadata": {
    "collapsed": false
   },
   "outputs": [],
   "source": [
    "# We do not know how many batches were needed to satisfy the \n",
    "# tally trigger(s), so find the statepoint file(s)\n",
    "statepoints = glob.glob('statepoint.*.h5')\n",
    "\n",
    "# Load the last statepoint file\n",
    "sp = openmc.StatePoint(statepoints[-1])"
   ]
  },
  {
   "cell_type": "markdown",
   "metadata": {},
   "source": [
    "**Analyze the mesh fission rate tally**"
   ]
  },
  {
   "cell_type": "code",
   "execution_count": 22,
   "metadata": {
    "collapsed": false
   },
   "outputs": [
    {
     "name": "stdout",
     "output_type": "stream",
     "text": [
      "Tally\n",
      "\tID             =\t10000\n",
      "\tName           =\tmesh tally\n",
      "\tFilters        =\t\n",
      "                \t\tMeshFilter\t[1]\n",
      "                \t\tEnergyFilter\t[  0.00000000e+00   6.25000000e-01   2.00000000e+07]\n",
      "\tNuclides       =\ttotal \n",
      "\tScores         =\t['fission', 'nu-fission']\n",
      "\tEstimator      =\ttracklength\n",
      "\n"
     ]
    }
   ],
   "source": [
    "# Find the mesh tally with the StatePoint API\n",
    "tally = sp.get_tally(name='mesh tally')\n",
    "\n",
    "# Print a little info about the mesh tally to the screen\n",
    "print(tally)"
   ]
  },
  {
   "cell_type": "markdown",
   "metadata": {},
   "source": [
    "Use the new Tally data retrieval API with pure NumPy"
   ]
  },
  {
   "cell_type": "code",
   "execution_count": 23,
   "metadata": {
    "collapsed": false
   },
   "outputs": [
    {
     "name": "stdout",
     "output_type": "stream",
     "text": [
      "[[[ 0.1501735 ]]\n",
      "\n",
      " [[ 0.21402727]]\n",
      "\n",
      " [[ 0.05936257]]\n",
      "\n",
      " [[ 0.13436703]]]\n"
     ]
    }
   ],
   "source": [
    "# Get the relative error for the thermal fission reaction \n",
    "# rates in the four corner pins \n",
    "data = tally.get_values(scores=['fission'],\n",
    "                        filters=[openmc.MeshFilter, openmc.EnergyFilter], \\\n",
    "                        filter_bins=[((1,1),(1,17), (17,1), (17,17)), \\\n",
    "                                    ((0., 0.625),)], value='rel_err')\n",
    "print(data)"
   ]
  },
  {
   "cell_type": "code",
   "execution_count": 24,
   "metadata": {
    "collapsed": false
   },
   "outputs": [
    {
     "data": {
      "text/html": [
       "<div>\n",
       "<table border=\"1\" class=\"dataframe\">\n",
       "  <thead>\n",
       "    <tr>\n",
       "      <th></th>\n",
       "      <th colspan=\"3\" halign=\"left\">mesh 1</th>\n",
       "      <th>energy low [eV]</th>\n",
       "      <th>energy high [eV]</th>\n",
       "      <th>score</th>\n",
       "      <th>mean</th>\n",
       "      <th>std. dev.</th>\n",
       "    </tr>\n",
       "    <tr>\n",
       "      <th></th>\n",
       "      <th>x</th>\n",
       "      <th>y</th>\n",
       "      <th>z</th>\n",
       "      <th></th>\n",
       "      <th></th>\n",
       "      <th></th>\n",
       "      <th></th>\n",
       "      <th></th>\n",
       "    </tr>\n",
       "  </thead>\n",
       "  <tbody>\n",
       "    <tr>\n",
       "      <th>0</th>\n",
       "      <td>1</td>\n",
       "      <td>1</td>\n",
       "      <td>1</td>\n",
       "      <td>0.00e+00</td>\n",
       "      <td>6.25e-01</td>\n",
       "      <td>fission</td>\n",
       "      <td>2.20e-04</td>\n",
       "      <td>3.31e-05</td>\n",
       "    </tr>\n",
       "    <tr>\n",
       "      <th>1</th>\n",
       "      <td>1</td>\n",
       "      <td>1</td>\n",
       "      <td>1</td>\n",
       "      <td>0.00e+00</td>\n",
       "      <td>6.25e-01</td>\n",
       "      <td>nu-fission</td>\n",
       "      <td>5.37e-04</td>\n",
       "      <td>8.06e-05</td>\n",
       "    </tr>\n",
       "    <tr>\n",
       "      <th>2</th>\n",
       "      <td>1</td>\n",
       "      <td>1</td>\n",
       "      <td>1</td>\n",
       "      <td>6.25e-01</td>\n",
       "      <td>2.00e+07</td>\n",
       "      <td>fission</td>\n",
       "      <td>7.43e-05</td>\n",
       "      <td>7.91e-06</td>\n",
       "    </tr>\n",
       "    <tr>\n",
       "      <th>3</th>\n",
       "      <td>1</td>\n",
       "      <td>1</td>\n",
       "      <td>1</td>\n",
       "      <td>6.25e-01</td>\n",
       "      <td>2.00e+07</td>\n",
       "      <td>nu-fission</td>\n",
       "      <td>1.97e-04</td>\n",
       "      <td>1.96e-05</td>\n",
       "    </tr>\n",
       "    <tr>\n",
       "      <th>4</th>\n",
       "      <td>1</td>\n",
       "      <td>2</td>\n",
       "      <td>1</td>\n",
       "      <td>0.00e+00</td>\n",
       "      <td>6.25e-01</td>\n",
       "      <td>fission</td>\n",
       "      <td>2.32e-04</td>\n",
       "      <td>4.97e-05</td>\n",
       "    </tr>\n",
       "    <tr>\n",
       "      <th>5</th>\n",
       "      <td>1</td>\n",
       "      <td>2</td>\n",
       "      <td>1</td>\n",
       "      <td>0.00e+00</td>\n",
       "      <td>6.25e-01</td>\n",
       "      <td>nu-fission</td>\n",
       "      <td>5.65e-04</td>\n",
       "      <td>1.21e-04</td>\n",
       "    </tr>\n",
       "    <tr>\n",
       "      <th>6</th>\n",
       "      <td>1</td>\n",
       "      <td>2</td>\n",
       "      <td>1</td>\n",
       "      <td>6.25e-01</td>\n",
       "      <td>2.00e+07</td>\n",
       "      <td>fission</td>\n",
       "      <td>6.96e-05</td>\n",
       "      <td>6.90e-06</td>\n",
       "    </tr>\n",
       "    <tr>\n",
       "      <th>7</th>\n",
       "      <td>1</td>\n",
       "      <td>2</td>\n",
       "      <td>1</td>\n",
       "      <td>6.25e-01</td>\n",
       "      <td>2.00e+07</td>\n",
       "      <td>nu-fission</td>\n",
       "      <td>1.86e-04</td>\n",
       "      <td>1.90e-05</td>\n",
       "    </tr>\n",
       "    <tr>\n",
       "      <th>8</th>\n",
       "      <td>1</td>\n",
       "      <td>3</td>\n",
       "      <td>1</td>\n",
       "      <td>0.00e+00</td>\n",
       "      <td>6.25e-01</td>\n",
       "      <td>fission</td>\n",
       "      <td>2.43e-04</td>\n",
       "      <td>3.24e-05</td>\n",
       "    </tr>\n",
       "    <tr>\n",
       "      <th>9</th>\n",
       "      <td>1</td>\n",
       "      <td>3</td>\n",
       "      <td>1</td>\n",
       "      <td>0.00e+00</td>\n",
       "      <td>6.25e-01</td>\n",
       "      <td>nu-fission</td>\n",
       "      <td>5.91e-04</td>\n",
       "      <td>7.90e-05</td>\n",
       "    </tr>\n",
       "    <tr>\n",
       "      <th>10</th>\n",
       "      <td>1</td>\n",
       "      <td>3</td>\n",
       "      <td>1</td>\n",
       "      <td>6.25e-01</td>\n",
       "      <td>2.00e+07</td>\n",
       "      <td>fission</td>\n",
       "      <td>7.27e-05</td>\n",
       "      <td>4.76e-06</td>\n",
       "    </tr>\n",
       "    <tr>\n",
       "      <th>11</th>\n",
       "      <td>1</td>\n",
       "      <td>3</td>\n",
       "      <td>1</td>\n",
       "      <td>6.25e-01</td>\n",
       "      <td>2.00e+07</td>\n",
       "      <td>nu-fission</td>\n",
       "      <td>1.93e-04</td>\n",
       "      <td>1.14e-05</td>\n",
       "    </tr>\n",
       "    <tr>\n",
       "      <th>12</th>\n",
       "      <td>1</td>\n",
       "      <td>4</td>\n",
       "      <td>1</td>\n",
       "      <td>0.00e+00</td>\n",
       "      <td>6.25e-01</td>\n",
       "      <td>fission</td>\n",
       "      <td>2.61e-04</td>\n",
       "      <td>4.48e-05</td>\n",
       "    </tr>\n",
       "    <tr>\n",
       "      <th>13</th>\n",
       "      <td>1</td>\n",
       "      <td>4</td>\n",
       "      <td>1</td>\n",
       "      <td>0.00e+00</td>\n",
       "      <td>6.25e-01</td>\n",
       "      <td>nu-fission</td>\n",
       "      <td>6.35e-04</td>\n",
       "      <td>1.09e-04</td>\n",
       "    </tr>\n",
       "    <tr>\n",
       "      <th>14</th>\n",
       "      <td>1</td>\n",
       "      <td>4</td>\n",
       "      <td>1</td>\n",
       "      <td>6.25e-01</td>\n",
       "      <td>2.00e+07</td>\n",
       "      <td>fission</td>\n",
       "      <td>6.00e-05</td>\n",
       "      <td>4.53e-06</td>\n",
       "    </tr>\n",
       "    <tr>\n",
       "      <th>15</th>\n",
       "      <td>1</td>\n",
       "      <td>4</td>\n",
       "      <td>1</td>\n",
       "      <td>6.25e-01</td>\n",
       "      <td>2.00e+07</td>\n",
       "      <td>nu-fission</td>\n",
       "      <td>1.59e-04</td>\n",
       "      <td>1.17e-05</td>\n",
       "    </tr>\n",
       "    <tr>\n",
       "      <th>16</th>\n",
       "      <td>1</td>\n",
       "      <td>5</td>\n",
       "      <td>1</td>\n",
       "      <td>0.00e+00</td>\n",
       "      <td>6.25e-01</td>\n",
       "      <td>fission</td>\n",
       "      <td>2.23e-04</td>\n",
       "      <td>2.89e-05</td>\n",
       "    </tr>\n",
       "    <tr>\n",
       "      <th>17</th>\n",
       "      <td>1</td>\n",
       "      <td>5</td>\n",
       "      <td>1</td>\n",
       "      <td>0.00e+00</td>\n",
       "      <td>6.25e-01</td>\n",
       "      <td>nu-fission</td>\n",
       "      <td>5.43e-04</td>\n",
       "      <td>7.04e-05</td>\n",
       "    </tr>\n",
       "    <tr>\n",
       "      <th>18</th>\n",
       "      <td>1</td>\n",
       "      <td>5</td>\n",
       "      <td>1</td>\n",
       "      <td>6.25e-01</td>\n",
       "      <td>2.00e+07</td>\n",
       "      <td>fission</td>\n",
       "      <td>7.93e-05</td>\n",
       "      <td>7.77e-06</td>\n",
       "    </tr>\n",
       "    <tr>\n",
       "      <th>19</th>\n",
       "      <td>1</td>\n",
       "      <td>5</td>\n",
       "      <td>1</td>\n",
       "      <td>6.25e-01</td>\n",
       "      <td>2.00e+07</td>\n",
       "      <td>nu-fission</td>\n",
       "      <td>2.07e-04</td>\n",
       "      <td>1.94e-05</td>\n",
       "    </tr>\n",
       "  </tbody>\n",
       "</table>\n",
       "</div>"
      ],
      "text/plain": [
       "   mesh 1       energy low [eV] energy high [eV]       score     mean  \\\n",
       "        x  y  z                                                         \n",
       "0       1  1  1        0.00e+00         6.25e-01     fission 2.20e-04   \n",
       "1       1  1  1        0.00e+00         6.25e-01  nu-fission 5.37e-04   \n",
       "2       1  1  1        6.25e-01         2.00e+07     fission 7.43e-05   \n",
       "3       1  1  1        6.25e-01         2.00e+07  nu-fission 1.97e-04   \n",
       "4       1  2  1        0.00e+00         6.25e-01     fission 2.32e-04   \n",
       "5       1  2  1        0.00e+00         6.25e-01  nu-fission 5.65e-04   \n",
       "6       1  2  1        6.25e-01         2.00e+07     fission 6.96e-05   \n",
       "7       1  2  1        6.25e-01         2.00e+07  nu-fission 1.86e-04   \n",
       "8       1  3  1        0.00e+00         6.25e-01     fission 2.43e-04   \n",
       "9       1  3  1        0.00e+00         6.25e-01  nu-fission 5.91e-04   \n",
       "10      1  3  1        6.25e-01         2.00e+07     fission 7.27e-05   \n",
       "11      1  3  1        6.25e-01         2.00e+07  nu-fission 1.93e-04   \n",
       "12      1  4  1        0.00e+00         6.25e-01     fission 2.61e-04   \n",
       "13      1  4  1        0.00e+00         6.25e-01  nu-fission 6.35e-04   \n",
       "14      1  4  1        6.25e-01         2.00e+07     fission 6.00e-05   \n",
       "15      1  4  1        6.25e-01         2.00e+07  nu-fission 1.59e-04   \n",
       "16      1  5  1        0.00e+00         6.25e-01     fission 2.23e-04   \n",
       "17      1  5  1        0.00e+00         6.25e-01  nu-fission 5.43e-04   \n",
       "18      1  5  1        6.25e-01         2.00e+07     fission 7.93e-05   \n",
       "19      1  5  1        6.25e-01         2.00e+07  nu-fission 2.07e-04   \n",
       "\n",
       "   std. dev.  \n",
       "              \n",
       "0   3.31e-05  \n",
       "1   8.06e-05  \n",
       "2   7.91e-06  \n",
       "3   1.96e-05  \n",
       "4   4.97e-05  \n",
       "5   1.21e-04  \n",
       "6   6.90e-06  \n",
       "7   1.90e-05  \n",
       "8   3.24e-05  \n",
       "9   7.90e-05  \n",
       "10  4.76e-06  \n",
       "11  1.14e-05  \n",
       "12  4.48e-05  \n",
       "13  1.09e-04  \n",
       "14  4.53e-06  \n",
       "15  1.17e-05  \n",
       "16  2.89e-05  \n",
       "17  7.04e-05  \n",
       "18  7.77e-06  \n",
       "19  1.94e-05  "
      ]
     },
     "execution_count": 24,
     "metadata": {},
     "output_type": "execute_result"
    }
   ],
   "source": [
    "# Get a pandas dataframe for the mesh tally data\n",
    "df = tally.get_pandas_dataframe(nuclides=False)\n",
    "\n",
    "# Set the Pandas float display settings\n",
    "pd.options.display.float_format = '{:.2e}'.format\n",
    "\n",
    "# Print the first twenty rows in the dataframe\n",
    "df.head(20)"
   ]
  },
  {
   "cell_type": "code",
   "execution_count": 25,
   "metadata": {
    "collapsed": false
   },
   "outputs": [
    {
     "data": {
      "image/png": "[encoded data removed]",
      "text/plain": [
       "<matplotlib.figure.Figure at 0x7f3d42840ac8>"
      ]
     },
     "metadata": {},
     "output_type": "display_data"
    }
   ],
   "source": [
    "# Create a boxplot to view the distribution of\n",
    "# fission and nu-fission rates in the pins\n",
    "bp = df.boxplot(column='mean', by='score')"
   ]
  },
  {
   "cell_type": "code",
   "execution_count": 26,
   "metadata": {
    "collapsed": false
   },
   "outputs": [
    {
     "data": {
      "text/plain": [
       "<matplotlib.colorbar.Colorbar at 0x7f3d3fea9eb8>"
      ]
     },
     "execution_count": 26,
     "metadata": {},
     "output_type": "execute_result"
    },
    {
     "data": {
      "image/png": "[encoded data removed]",
      "text/plain": [
       "<matplotlib.figure.Figure at 0x7f3d4046d908>"
      ]
     },
     "metadata": {},
     "output_type": "display_data"
    }
   ],
   "source": [
    "# Extract thermal nu-fission rates from pandas\n",
    "fiss = df[df['score'] == 'nu-fission']\n",
    "fiss = fiss[fiss['energy low [eV]'] == 0.0]\n",
    "\n",
    "# Extract mean and reshape as 2D NumPy arrays\n",
    "mean = fiss['mean'].reshape((17,17))\n",
    "\n",
    "plt.imshow(mean, interpolation='nearest')\n",
    "plt.title('fission rate')\n",
    "plt.xlabel('x')\n",
    "plt.ylabel('y')\n",
    "plt.colorbar()"
   ]
  },
  {
   "cell_type": "markdown",
   "metadata": {},
   "source": [
    "**Analyze the cell+nuclides scatter-y2 rate tally**"
   ]
  },
  {
   "cell_type": "code",
   "execution_count": 27,
   "metadata": {
    "collapsed": false
   },
   "outputs": [
    {
     "name": "stdout",
     "output_type": "stream",
     "text": [
      "Tally\n",
      "\tID             =\t10001\n",
      "\tName           =\tcell tally\n",
      "\tFilters        =\t\n",
      "                \t\tCellFilter\t[10000]\n",
      "\tNuclides       =\tU235 U238 \n",
      "\tScores         =\t['scatter-Y0,0', 'scatter-Y1,-1', 'scatter-Y1,0', 'scatter-Y1,1', 'scatter-Y2,-2', 'scatter-Y2,-1', 'scatter-Y2,0', 'scatter-Y2,1', 'scatter-Y2,2']\n",
      "\tEstimator      =\tanalog\n",
      "\n"
     ]
    }
   ],
   "source": [
    "# Find the cell Tally with the StatePoint API\n",
    "tally = sp.get_tally(name='cell tally')\n",
    "\n",
    "# Print a little info about the cell tally to the screen\n",
    "print(tally)"
   ]
  },
  {
   "cell_type": "code",
   "execution_count": 28,
   "metadata": {
    "collapsed": false
   },
   "outputs": [
    {
     "data": {
      "text/html": [
       "<div>\n",
       "<table border=\"1\" class=\"dataframe\">\n",
       "  <thead>\n",
       "    <tr style=\"text-align: right;\">\n",
       "      <th></th>\n",
       "      <th>cell</th>\n",
       "      <th>nuclide</th>\n",
       "      <th>score</th>\n",
       "      <th>mean</th>\n",
       "      <th>std. dev.</th>\n",
       "    </tr>\n",
       "  </thead>\n",
       "  <tbody>\n",
       "    <tr>\n",
       "      <th>0</th>\n",
       "      <td>10000</td>\n",
       "      <td>U235</td>\n",
       "      <td>scatter-Y0,0</td>\n",
       "      <td>3.84e-02</td>\n",
       "      <td>1.32e-03</td>\n",
       "    </tr>\n",
       "    <tr>\n",
       "      <th>1</th>\n",
       "      <td>10000</td>\n",
       "      <td>U235</td>\n",
       "      <td>scatter-Y1,-1</td>\n",
       "      <td>3.61e-04</td>\n",
       "      <td>3.13e-04</td>\n",
       "    </tr>\n",
       "    <tr>\n",
       "      <th>2</th>\n",
       "      <td>10000</td>\n",
       "      <td>U235</td>\n",
       "      <td>scatter-Y1,0</td>\n",
       "      <td>-2.38e-04</td>\n",
       "      <td>4.69e-04</td>\n",
       "    </tr>\n",
       "    <tr>\n",
       "      <th>3</th>\n",
       "      <td>10000</td>\n",
       "      <td>U235</td>\n",
       "      <td>scatter-Y1,1</td>\n",
       "      <td>-5.08e-04</td>\n",
       "      <td>3.83e-04</td>\n",
       "    </tr>\n",
       "    <tr>\n",
       "      <th>4</th>\n",
       "      <td>10000</td>\n",
       "      <td>U235</td>\n",
       "      <td>scatter-Y2,-2</td>\n",
       "      <td>6.68e-05</td>\n",
       "      <td>2.46e-04</td>\n",
       "    </tr>\n",
       "    <tr>\n",
       "      <th>5</th>\n",
       "      <td>10000</td>\n",
       "      <td>U235</td>\n",
       "      <td>scatter-Y2,-1</td>\n",
       "      <td>6.47e-06</td>\n",
       "      <td>2.84e-04</td>\n",
       "    </tr>\n",
       "    <tr>\n",
       "      <th>6</th>\n",
       "      <td>10000</td>\n",
       "      <td>U235</td>\n",
       "      <td>scatter-Y2,0</td>\n",
       "      <td>-1.41e-04</td>\n",
       "      <td>1.75e-04</td>\n",
       "    </tr>\n",
       "    <tr>\n",
       "      <th>7</th>\n",
       "      <td>10000</td>\n",
       "      <td>U235</td>\n",
       "      <td>scatter-Y2,1</td>\n",
       "      <td>1.61e-04</td>\n",
       "      <td>2.33e-04</td>\n",
       "    </tr>\n",
       "    <tr>\n",
       "      <th>8</th>\n",
       "      <td>10000</td>\n",
       "      <td>U235</td>\n",
       "      <td>scatter-Y2,2</td>\n",
       "      <td>-1.80e-05</td>\n",
       "      <td>1.97e-04</td>\n",
       "    </tr>\n",
       "    <tr>\n",
       "      <th>9</th>\n",
       "      <td>10000</td>\n",
       "      <td>U238</td>\n",
       "      <td>scatter-Y0,0</td>\n",
       "      <td>2.33e+00</td>\n",
       "      <td>1.35e-02</td>\n",
       "    </tr>\n",
       "    <tr>\n",
       "      <th>10</th>\n",
       "      <td>10000</td>\n",
       "      <td>U238</td>\n",
       "      <td>scatter-Y1,-1</td>\n",
       "      <td>2.53e-02</td>\n",
       "      <td>3.23e-03</td>\n",
       "    </tr>\n",
       "    <tr>\n",
       "      <th>11</th>\n",
       "      <td>10000</td>\n",
       "      <td>U238</td>\n",
       "      <td>scatter-Y1,0</td>\n",
       "      <td>7.10e-04</td>\n",
       "      <td>2.92e-03</td>\n",
       "    </tr>\n",
       "    <tr>\n",
       "      <th>12</th>\n",
       "      <td>10000</td>\n",
       "      <td>U238</td>\n",
       "      <td>scatter-Y1,1</td>\n",
       "      <td>-2.49e-02</td>\n",
       "      <td>3.52e-03</td>\n",
       "    </tr>\n",
       "    <tr>\n",
       "      <th>13</th>\n",
       "      <td>10000</td>\n",
       "      <td>U238</td>\n",
       "      <td>scatter-Y2,-2</td>\n",
       "      <td>-1.43e-03</td>\n",
       "      <td>1.17e-03</td>\n",
       "    </tr>\n",
       "    <tr>\n",
       "      <th>14</th>\n",
       "      <td>10000</td>\n",
       "      <td>U238</td>\n",
       "      <td>scatter-Y2,-1</td>\n",
       "      <td>6.84e-04</td>\n",
       "      <td>1.63e-03</td>\n",
       "    </tr>\n",
       "    <tr>\n",
       "      <th>15</th>\n",
       "      <td>10000</td>\n",
       "      <td>U238</td>\n",
       "      <td>scatter-Y2,0</td>\n",
       "      <td>2.85e-03</td>\n",
       "      <td>2.63e-03</td>\n",
       "    </tr>\n",
       "    <tr>\n",
       "      <th>16</th>\n",
       "      <td>10000</td>\n",
       "      <td>U238</td>\n",
       "      <td>scatter-Y2,1</td>\n",
       "      <td>3.97e-03</td>\n",
       "      <td>2.24e-03</td>\n",
       "    </tr>\n",
       "    <tr>\n",
       "      <th>17</th>\n",
       "      <td>10000</td>\n",
       "      <td>U238</td>\n",
       "      <td>scatter-Y2,2</td>\n",
       "      <td>2.26e-03</td>\n",
       "      <td>1.85e-03</td>\n",
       "    </tr>\n",
       "  </tbody>\n",
       "</table>\n",
       "</div>"
      ],
      "text/plain": [
       "     cell nuclide          score      mean  std. dev.\n",
       "0   10000    U235   scatter-Y0,0  3.84e-02   1.32e-03\n",
       "1   10000    U235  scatter-Y1,-1  3.61e-04   3.13e-04\n",
       "2   10000    U235   scatter-Y1,0 -2.38e-04   4.69e-04\n",
       "3   10000    U235   scatter-Y1,1 -5.08e-04   3.83e-04\n",
       "4   10000    U235  scatter-Y2,-2  6.68e-05   2.46e-04\n",
       "5   10000    U235  scatter-Y2,-1  6.47e-06   2.84e-04\n",
       "6   10000    U235   scatter-Y2,0 -1.41e-04   1.75e-04\n",
       "7   10000    U235   scatter-Y2,1  1.61e-04   2.33e-04\n",
       "8   10000    U235   scatter-Y2,2 -1.80e-05   1.97e-04\n",
       "9   10000    U238   scatter-Y0,0  2.33e+00   1.35e-02\n",
       "10  10000    U238  scatter-Y1,-1  2.53e-02   3.23e-03\n",
       "11  10000    U238   scatter-Y1,0  7.10e-04   2.92e-03\n",
       "12  10000    U238   scatter-Y1,1 -2.49e-02   3.52e-03\n",
       "13  10000    U238  scatter-Y2,-2 -1.43e-03   1.17e-03\n",
       "14  10000    U238  scatter-Y2,-1  6.84e-04   1.63e-03\n",
       "15  10000    U238   scatter-Y2,0  2.85e-03   2.63e-03\n",
       "16  10000    U238   scatter-Y2,1  3.97e-03   2.24e-03\n",
       "17  10000    U238   scatter-Y2,2  2.26e-03   1.85e-03"
      ]
     },
     "execution_count": 28,
     "metadata": {},
     "output_type": "execute_result"
    }
   ],
   "source": [
    "# Get a pandas dataframe for the cell tally data\n",
    "df = tally.get_pandas_dataframe()\n",
    "\n",
    "# Print the first twenty rows in the dataframe\n",
    "df.head(100)"
   ]
  },
  {
   "cell_type": "markdown",
   "metadata": {},
   "source": [
    "Use the new Tally data retrieval API with pure NumPy"
   ]
  },
  {
   "cell_type": "code",
   "execution_count": 29,
   "metadata": {
    "collapsed": false
   },
   "outputs": [
    {
     "name": "stdout",
     "output_type": "stream",
     "text": [
      "[[[ 0.00185463  0.01350521]\n",
      "  [ 0.00019723  0.00131654]]]\n"
     ]
    }
   ],
   "source": [
    "# Get the standard deviations for two of the spherical harmonic\n",
    "# scattering reaction rates \n",
    "data = tally.get_values(scores=['scatter-Y2,2', 'scatter-Y0,0'], \n",
    "                        nuclides=['U238', 'U235'], value='std_dev')\n",
    "print(data)"
   ]
  },
  {
   "cell_type": "markdown",
   "metadata": {},
   "source": [
    "**Analyze the distribcell tally**"
   ]
  },
  {
   "cell_type": "code",
   "execution_count": 30,
   "metadata": {
    "collapsed": false
   },
   "outputs": [
    {
     "name": "stdout",
     "output_type": "stream",
     "text": [
      "Tally\n",
      "\tID             =\t10002\n",
      "\tName           =\tdistribcell tally\n",
      "\tFilters        =\t\n",
      "                \t\tDistribcellFilter\t[10002]\n",
      "\tNuclides       =\ttotal \n",
      "\tScores         =\t['absorption', 'scatter']\n",
      "\tEstimator      =\ttracklength\n",
      "\n"
     ]
    }
   ],
   "source": [
    "# Find the distribcell Tally with the StatePoint API\n",
    "tally = sp.get_tally(name='distribcell tally')\n",
    "\n",
    "# Print a little info about the distribcell tally to the screen\n",
    "print(tally)"
   ]
  },
  {
   "cell_type": "markdown",
   "metadata": {},
   "source": [
    "Use the new Tally data retrieval API with pure NumPy"
   ]
  },
  {
   "cell_type": "code",
   "execution_count": 31,
   "metadata": {
    "collapsed": false
   },
   "outputs": [
    {
     "name": "stdout",
     "output_type": "stream",
     "text": [
      "[[[ 0.05468423]]]\n"
     ]
    }
   ],
   "source": [
    "# Get the relative error for the scattering reaction rates in\n",
    "# the first 10 distribcell instances \n",
    "data = tally.get_values(scores=['scatter'], filters=[openmc.DistribcellFilter],\n",
    "                        filter_bins=[(i,) for i in range(10)], value='rel_err')\n",
    "print(data)"
   ]
  },
  {
   "cell_type": "markdown",
   "metadata": {},
   "source": [
    "Print the distribcell tally dataframe"
   ]
  },
  {
   "cell_type": "code",
   "execution_count": 32,
   "metadata": {
    "collapsed": false
   },
   "outputs": [
    {
     "data": {
      "text/html": [
       "<div>\n",
       "<table border=\"1\" class=\"dataframe\">\n",
       "  <thead>\n",
       "    <tr>\n",
       "      <th></th>\n",
       "      <th colspan=\"2\" halign=\"left\">level 1</th>\n",
       "      <th colspan=\"4\" halign=\"left\">level 2</th>\n",
       "      <th colspan=\"2\" halign=\"left\">level 3</th>\n",
       "      <th>distribcell</th>\n",
       "      <th>score</th>\n",
       "      <th>mean</th>\n",
       "      <th>std. dev.</th>\n",
       "    </tr>\n",
       "    <tr>\n",
       "      <th></th>\n",
       "      <th>univ</th>\n",
       "      <th>cell</th>\n",
       "      <th colspan=\"4\" halign=\"left\">lat</th>\n",
       "      <th>univ</th>\n",
       "      <th>cell</th>\n",
       "      <th></th>\n",
       "      <th></th>\n",
       "      <th></th>\n",
       "      <th></th>\n",
       "    </tr>\n",
       "    <tr>\n",
       "      <th></th>\n",
       "      <th>id</th>\n",
       "      <th>id</th>\n",
       "      <th>id</th>\n",
       "      <th>x</th>\n",
       "      <th>y</th>\n",
       "      <th>z</th>\n",
       "      <th>id</th>\n",
       "      <th>id</th>\n",
       "      <th></th>\n",
       "      <th></th>\n",
       "      <th></th>\n",
       "      <th></th>\n",
       "    </tr>\n",
       "  </thead>\n",
       "  <tbody>\n",
       "    <tr>\n",
       "      <th>558</th>\n",
       "      <td>0</td>\n",
       "      <td>10003</td>\n",
       "      <td>10001</td>\n",
       "      <td>16</td>\n",
       "      <td>7</td>\n",
       "      <td>0</td>\n",
       "      <td>10000</td>\n",
       "      <td>10002</td>\n",
       "      <td>279</td>\n",
       "      <td>absorption</td>\n",
       "      <td>8.72e-05</td>\n",
       "      <td>8.13e-06</td>\n",
       "    </tr>\n",
       "    <tr>\n",
       "      <th>559</th>\n",
       "      <td>0</td>\n",
       "      <td>10003</td>\n",
       "      <td>10001</td>\n",
       "      <td>16</td>\n",
       "      <td>7</td>\n",
       "      <td>0</td>\n",
       "      <td>10000</td>\n",
       "      <td>10002</td>\n",
       "      <td>279</td>\n",
       "      <td>scatter</td>\n",
       "      <td>1.37e-02</td>\n",
       "      <td>6.98e-04</td>\n",
       "    </tr>\n",
       "    <tr>\n",
       "      <th>560</th>\n",
       "      <td>0</td>\n",
       "      <td>10003</td>\n",
       "      <td>10001</td>\n",
       "      <td>16</td>\n",
       "      <td>8</td>\n",
       "      <td>0</td>\n",
       "      <td>10000</td>\n",
       "      <td>10002</td>\n",
       "      <td>280</td>\n",
       "      <td>absorption</td>\n",
       "      <td>1.03e-04</td>\n",
       "      <td>9.17e-06</td>\n",
       "    </tr>\n",
       "    <tr>\n",
       "      <th>561</th>\n",
       "      <td>0</td>\n",
       "      <td>10003</td>\n",
       "      <td>10001</td>\n",
       "      <td>16</td>\n",
       "      <td>8</td>\n",
       "      <td>0</td>\n",
       "      <td>10000</td>\n",
       "      <td>10002</td>\n",
       "      <td>280</td>\n",
       "      <td>scatter</td>\n",
       "      <td>1.41e-02</td>\n",
       "      <td>6.26e-04</td>\n",
       "    </tr>\n",
       "    <tr>\n",
       "      <th>562</th>\n",
       "      <td>0</td>\n",
       "      <td>10003</td>\n",
       "      <td>10001</td>\n",
       "      <td>16</td>\n",
       "      <td>9</td>\n",
       "      <td>0</td>\n",
       "      <td>10000</td>\n",
       "      <td>10002</td>\n",
       "      <td>281</td>\n",
       "      <td>absorption</td>\n",
       "      <td>9.41e-05</td>\n",
       "      <td>8.40e-06</td>\n",
       "    </tr>\n",
       "    <tr>\n",
       "      <th>563</th>\n",
       "      <td>0</td>\n",
       "      <td>10003</td>\n",
       "      <td>10001</td>\n",
       "      <td>16</td>\n",
       "      <td>9</td>\n",
       "      <td>0</td>\n",
       "      <td>10000</td>\n",
       "      <td>10002</td>\n",
       "      <td>281</td>\n",
       "      <td>scatter</td>\n",
       "      <td>1.50e-02</td>\n",
       "      <td>6.92e-04</td>\n",
       "    </tr>\n",
       "    <tr>\n",
       "      <th>564</th>\n",
       "      <td>0</td>\n",
       "      <td>10003</td>\n",
       "      <td>10001</td>\n",
       "      <td>16</td>\n",
       "      <td>10</td>\n",
       "      <td>0</td>\n",
       "      <td>10000</td>\n",
       "      <td>10002</td>\n",
       "      <td>282</td>\n",
       "      <td>absorption</td>\n",
       "      <td>9.56e-05</td>\n",
       "      <td>1.03e-05</td>\n",
       "    </tr>\n",
       "    <tr>\n",
       "      <th>565</th>\n",
       "      <td>0</td>\n",
       "      <td>10003</td>\n",
       "      <td>10001</td>\n",
       "      <td>16</td>\n",
       "      <td>10</td>\n",
       "      <td>0</td>\n",
       "      <td>10000</td>\n",
       "      <td>10002</td>\n",
       "      <td>282</td>\n",
       "      <td>scatter</td>\n",
       "      <td>1.52e-02</td>\n",
       "      <td>5.37e-04</td>\n",
       "    </tr>\n",
       "    <tr>\n",
       "      <th>566</th>\n",
       "      <td>0</td>\n",
       "      <td>10003</td>\n",
       "      <td>10001</td>\n",
       "      <td>16</td>\n",
       "      <td>11</td>\n",
       "      <td>0</td>\n",
       "      <td>10000</td>\n",
       "      <td>10002</td>\n",
       "      <td>283</td>\n",
       "      <td>absorption</td>\n",
       "      <td>1.06e-04</td>\n",
       "      <td>1.49e-05</td>\n",
       "    </tr>\n",
       "    <tr>\n",
       "      <th>567</th>\n",
       "      <td>0</td>\n",
       "      <td>10003</td>\n",
       "      <td>10001</td>\n",
       "      <td>16</td>\n",
       "      <td>11</td>\n",
       "      <td>0</td>\n",
       "      <td>10000</td>\n",
       "      <td>10002</td>\n",
       "      <td>283</td>\n",
       "      <td>scatter</td>\n",
       "      <td>1.64e-02</td>\n",
       "      <td>8.14e-04</td>\n",
       "    </tr>\n",
       "    <tr>\n",
       "      <th>568</th>\n",
       "      <td>0</td>\n",
       "      <td>10003</td>\n",
       "      <td>10001</td>\n",
       "      <td>16</td>\n",
       "      <td>12</td>\n",
       "      <td>0</td>\n",
       "      <td>10000</td>\n",
       "      <td>10002</td>\n",
       "      <td>284</td>\n",
       "      <td>absorption</td>\n",
       "      <td>1.16e-04</td>\n",
       "      <td>9.02e-06</td>\n",
       "    </tr>\n",
       "    <tr>\n",
       "      <th>569</th>\n",
       "      <td>0</td>\n",
       "      <td>10003</td>\n",
       "      <td>10001</td>\n",
       "      <td>16</td>\n",
       "      <td>12</td>\n",
       "      <td>0</td>\n",
       "      <td>10000</td>\n",
       "      <td>10002</td>\n",
       "      <td>284</td>\n",
       "      <td>scatter</td>\n",
       "      <td>1.64e-02</td>\n",
       "      <td>6.00e-04</td>\n",
       "    </tr>\n",
       "    <tr>\n",
       "      <th>570</th>\n",
       "      <td>0</td>\n",
       "      <td>10003</td>\n",
       "      <td>10001</td>\n",
       "      <td>16</td>\n",
       "      <td>13</td>\n",
       "      <td>0</td>\n",
       "      <td>10000</td>\n",
       "      <td>10002</td>\n",
       "      <td>285</td>\n",
       "      <td>absorption</td>\n",
       "      <td>1.25e-04</td>\n",
       "      <td>1.12e-05</td>\n",
       "    </tr>\n",
       "    <tr>\n",
       "      <th>571</th>\n",
       "      <td>0</td>\n",
       "      <td>10003</td>\n",
       "      <td>10001</td>\n",
       "      <td>16</td>\n",
       "      <td>13</td>\n",
       "      <td>0</td>\n",
       "      <td>10000</td>\n",
       "      <td>10002</td>\n",
       "      <td>285</td>\n",
       "      <td>scatter</td>\n",
       "      <td>1.87e-02</td>\n",
       "      <td>8.26e-04</td>\n",
       "    </tr>\n",
       "    <tr>\n",
       "      <th>572</th>\n",
       "      <td>0</td>\n",
       "      <td>10003</td>\n",
       "      <td>10001</td>\n",
       "      <td>16</td>\n",
       "      <td>14</td>\n",
       "      <td>0</td>\n",
       "      <td>10000</td>\n",
       "      <td>10002</td>\n",
       "      <td>286</td>\n",
       "      <td>absorption</td>\n",
       "      <td>1.47e-04</td>\n",
       "      <td>1.49e-05</td>\n",
       "    </tr>\n",
       "    <tr>\n",
       "      <th>573</th>\n",
       "      <td>0</td>\n",
       "      <td>10003</td>\n",
       "      <td>10001</td>\n",
       "      <td>16</td>\n",
       "      <td>14</td>\n",
       "      <td>0</td>\n",
       "      <td>10000</td>\n",
       "      <td>10002</td>\n",
       "      <td>286</td>\n",
       "      <td>scatter</td>\n",
       "      <td>1.94e-02</td>\n",
       "      <td>7.71e-04</td>\n",
       "    </tr>\n",
       "    <tr>\n",
       "      <th>574</th>\n",
       "      <td>0</td>\n",
       "      <td>10003</td>\n",
       "      <td>10001</td>\n",
       "      <td>16</td>\n",
       "      <td>15</td>\n",
       "      <td>0</td>\n",
       "      <td>10000</td>\n",
       "      <td>10002</td>\n",
       "      <td>287</td>\n",
       "      <td>absorption</td>\n",
       "      <td>1.31e-04</td>\n",
       "      <td>9.84e-06</td>\n",
       "    </tr>\n",
       "    <tr>\n",
       "      <th>575</th>\n",
       "      <td>0</td>\n",
       "      <td>10003</td>\n",
       "      <td>10001</td>\n",
       "      <td>16</td>\n",
       "      <td>15</td>\n",
       "      <td>0</td>\n",
       "      <td>10000</td>\n",
       "      <td>10002</td>\n",
       "      <td>287</td>\n",
       "      <td>scatter</td>\n",
       "      <td>1.97e-02</td>\n",
       "      <td>7.93e-04</td>\n",
       "    </tr>\n",
       "    <tr>\n",
       "      <th>576</th>\n",
       "      <td>0</td>\n",
       "      <td>10003</td>\n",
       "      <td>10001</td>\n",
       "      <td>16</td>\n",
       "      <td>16</td>\n",
       "      <td>0</td>\n",
       "      <td>10000</td>\n",
       "      <td>10002</td>\n",
       "      <td>288</td>\n",
       "      <td>absorption</td>\n",
       "      <td>1.23e-04</td>\n",
       "      <td>1.07e-05</td>\n",
       "    </tr>\n",
       "    <tr>\n",
       "      <th>577</th>\n",
       "      <td>0</td>\n",
       "      <td>10003</td>\n",
       "      <td>10001</td>\n",
       "      <td>16</td>\n",
       "      <td>16</td>\n",
       "      <td>0</td>\n",
       "      <td>10000</td>\n",
       "      <td>10002</td>\n",
       "      <td>288</td>\n",
       "      <td>scatter</td>\n",
       "      <td>1.97e-02</td>\n",
       "      <td>7.34e-04</td>\n",
       "    </tr>\n",
       "  </tbody>\n",
       "</table>\n",
       "</div>"
      ],
      "text/plain": [
       "    level 1        level 2            level 3        distribcell       score  \\\n",
       "       univ   cell     lat               univ   cell                           \n",
       "         id     id      id   x   y  z      id     id                           \n",
       "558       0  10003   10001  16   7  0   10000  10002         279  absorption   \n",
       "559       0  10003   10001  16   7  0   10000  10002         279     scatter   \n",
       "560       0  10003   10001  16   8  0   10000  10002         280  absorption   \n",
       "561       0  10003   10001  16   8  0   10000  10002         280     scatter   \n",
       "562       0  10003   10001  16   9  0   10000  10002         281  absorption   \n",
       "563       0  10003   10001  16   9  0   10000  10002         281     scatter   \n",
       "564       0  10003   10001  16  10  0   10000  10002         282  absorption   \n",
       "565       0  10003   10001  16  10  0   10000  10002         282     scatter   \n",
       "566       0  10003   10001  16  11  0   10000  10002         283  absorption   \n",
       "567       0  10003   10001  16  11  0   10000  10002         283     scatter   \n",
       "568       0  10003   10001  16  12  0   10000  10002         284  absorption   \n",
       "569       0  10003   10001  16  12  0   10000  10002         284     scatter   \n",
       "570       0  10003   10001  16  13  0   10000  10002         285  absorption   \n",
       "571       0  10003   10001  16  13  0   10000  10002         285     scatter   \n",
       "572       0  10003   10001  16  14  0   10000  10002         286  absorption   \n",
       "573       0  10003   10001  16  14  0   10000  10002         286     scatter   \n",
       "574       0  10003   10001  16  15  0   10000  10002         287  absorption   \n",
       "575       0  10003   10001  16  15  0   10000  10002         287     scatter   \n",
       "576       0  10003   10001  16  16  0   10000  10002         288  absorption   \n",
       "577       0  10003   10001  16  16  0   10000  10002         288     scatter   \n",
       "\n",
       "        mean std. dev.  \n",
       "                        \n",
       "                        \n",
       "558 8.72e-05  8.13e-06  \n",
       "559 1.37e-02  6.98e-04  \n",
       "560 1.03e-04  9.17e-06  \n",
       "561 1.41e-02  6.26e-04  \n",
       "562 9.41e-05  8.40e-06  \n",
       "563 1.50e-02  6.92e-04  \n",
       "564 9.56e-05  1.03e-05  \n",
       "565 1.52e-02  5.37e-04  \n",
       "566 1.06e-04  1.49e-05  \n",
       "567 1.64e-02  8.14e-04  \n",
       "568 1.16e-04  9.02e-06  \n",
       "569 1.64e-02  6.00e-04  \n",
       "570 1.25e-04  1.12e-05  \n",
       "571 1.87e-02  8.26e-04  \n",
       "572 1.47e-04  1.49e-05  \n",
       "573 1.94e-02  7.71e-04  \n",
       "574 1.31e-04  9.84e-06  \n",
       "575 1.97e-02  7.93e-04  \n",
       "576 1.23e-04  1.07e-05  \n",
       "577 1.97e-02  7.34e-04  "
      ]
     },
     "execution_count": 32,
     "metadata": {},
     "output_type": "execute_result"
    }
   ],
   "source": [
    "# Get a pandas dataframe for the distribcell tally data\n",
    "df = tally.get_pandas_dataframe(nuclides=False)\n",
    "\n",
    "# Print the last twenty rows in the dataframe\n",
    "df.tail(20)"
   ]
  },
  {
   "cell_type": "code",
   "execution_count": 33,
   "metadata": {
    "collapsed": false
   },
   "outputs": [
    {
     "data": {
      "text/html": [
       "<div>\n",
       "<table border=\"1\" class=\"dataframe\">\n",
       "  <thead>\n",
       "    <tr>\n",
       "      <th></th>\n",
       "      <th>mean</th>\n",
       "      <th>std. dev.</th>\n",
       "    </tr>\n",
       "    <tr>\n",
       "      <th></th>\n",
       "      <th></th>\n",
       "      <th></th>\n",
       "    </tr>\n",
       "    <tr>\n",
       "      <th></th>\n",
       "      <th></th>\n",
       "      <th></th>\n",
       "    </tr>\n",
       "  </thead>\n",
       "  <tbody>\n",
       "    <tr>\n",
       "      <th>count</th>\n",
       "      <td>2.89e+02</td>\n",
       "      <td>2.89e+02</td>\n",
       "    </tr>\n",
       "    <tr>\n",
       "      <th>mean</th>\n",
       "      <td>4.16e-04</td>\n",
       "      <td>2.42e-05</td>\n",
       "    </tr>\n",
       "    <tr>\n",
       "      <th>std</th>\n",
       "      <td>2.39e-04</td>\n",
       "      <td>1.03e-05</td>\n",
       "    </tr>\n",
       "    <tr>\n",
       "      <th>min</th>\n",
       "      <td>1.90e-05</td>\n",
       "      <td>3.80e-06</td>\n",
       "    </tr>\n",
       "    <tr>\n",
       "      <th>25%</th>\n",
       "      <td>1.99e-04</td>\n",
       "      <td>1.61e-05</td>\n",
       "    </tr>\n",
       "    <tr>\n",
       "      <th>50%</th>\n",
       "      <td>4.09e-04</td>\n",
       "      <td>2.37e-05</td>\n",
       "    </tr>\n",
       "    <tr>\n",
       "      <th>75%</th>\n",
       "      <td>6.00e-04</td>\n",
       "      <td>3.08e-05</td>\n",
       "    </tr>\n",
       "    <tr>\n",
       "      <th>max</th>\n",
       "      <td>9.07e-04</td>\n",
       "      <td>5.38e-05</td>\n",
       "    </tr>\n",
       "  </tbody>\n",
       "</table>\n",
       "</div>"
      ],
      "text/plain": [
       "          mean std. dev.\n",
       "                        \n",
       "                        \n",
       "count 2.89e+02  2.89e+02\n",
       "mean  4.16e-04  2.42e-05\n",
       "std   2.39e-04  1.03e-05\n",
       "min   1.90e-05  3.80e-06\n",
       "25%   1.99e-04  1.61e-05\n",
       "50%   4.09e-04  2.37e-05\n",
       "75%   6.00e-04  3.08e-05\n",
       "max   9.07e-04  5.38e-05"
      ]
     },
     "execution_count": 33,
     "metadata": {},
     "output_type": "execute_result"
    }
   ],
   "source": [
    "# Show summary statistics for absorption distribcell tally data\n",
    "absorption = df[df['score'] == 'absorption']\n",
    "absorption[['mean', 'std. dev.']].dropna().describe()\n",
    "\n",
    "# Note that the maximum standard deviation does indeed\n",
    "# meet the 5e-4 threshold set by the tally trigger"
   ]
  },
  {
   "cell_type": "markdown",
   "metadata": {},
   "source": [
    "Perform a statistical test comparing the tally sample distributions for two categories of fuel pins."
   ]
  },
  {
   "cell_type": "code",
   "execution_count": 34,
   "metadata": {
    "collapsed": false
   },
   "outputs": [
    {
     "name": "stdout",
     "output_type": "stream",
     "text": [
      "Mann-Whitney Test p-value: 0.7234916721800682\n"
     ]
    }
   ],
   "source": [
    "# Extract tally data from pins in the pins divided along y=x diagonal \n",
    "multi_index = ('level 2', 'lat',)\n",
    "lower = df[df[multi_index + ('x',)] + df[multi_index + ('y',)] < 16]\n",
    "upper = df[df[multi_index + ('x',)] + df[multi_index + ('y',)] > 16]\n",
    "lower = lower[lower['score'] == 'absorption']\n",
    "upper = upper[upper['score'] == 'absorption']\n",
    "\n",
    "# Perform non-parametric Mann-Whitney U Test to see if the \n",
    "# absorption rates (may) come from same sampling distribution\n",
    "u, p = scipy.stats.mannwhitneyu(lower['mean'], upper['mean'])\n",
    "print('Mann-Whitney Test p-value: {0}'.format(p))"
   ]
  },
  {
   "cell_type": "markdown",
   "metadata": {},
   "source": [
    "Note that the symmetry implied by the y=x diagonal ensures that the two sampling distributions are identical. Indeed, as illustrated by the test above, for any reasonable significance level (*e.g.*, $\\alpha$=0.05) one would **not reject** the null hypothesis that the two sampling distributions are identical.\n",
    "\n",
    "Next, perform the same test but with two groupings of pins which are not symmetrically identical to one another."
   ]
  },
  {
   "cell_type": "code",
   "execution_count": 35,
   "metadata": {
    "collapsed": false
   },
   "outputs": [
    {
     "name": "stdout",
     "output_type": "stream",
     "text": [
      "Mann-Whitney Test p-value: 3.5054120724573393e-41\n"
     ]
    }
   ],
   "source": [
    "# Extract tally data from pins in the pins divided along y=-x diagonal\n",
    "multi_index = ('level 2', 'lat',)\n",
    "lower = df[df[multi_index + ('x',)] > df[multi_index + ('y',)]]\n",
    "upper = df[df[multi_index + ('x',)] < df[multi_index + ('y',)]]\n",
    "lower = lower[lower['score'] == 'absorption']\n",
    "upper = upper[upper['score'] == 'absorption']\n",
    "\n",
    "# Perform non-parametric Mann-Whitney U Test to see if the \n",
    "# absorption rates (may) come from same sampling distribution\n",
    "u, p = scipy.stats.mannwhitneyu(lower['mean'], upper['mean'])\n",
    "print('Mann-Whitney Test p-value: {0}'.format(p))"
   ]
  },
  {
   "cell_type": "markdown",
   "metadata": {},
   "source": [
    "Note that the asymmetry implied by the y=-x diagonal ensures that the two sampling distributions are *not* identical. Indeed, as illustrated by the test above, for any reasonable significance level (*e.g.*, $\\alpha$=0.05) one would **reject** the null hypothesis that the two sampling distributions are identical."
   ]
  },
  {
   "cell_type": "code",
   "execution_count": 36,
   "metadata": {
    "collapsed": false
   },
   "outputs": [
    {
     "name": "stderr",
     "output_type": "stream",
     "text": [
      "/home/romano/miniconda3/envs/default/lib/python3.5/site-packages/ipykernel/__main__.py:4: SettingWithCopyWarning: \n",
      "A value is trying to be set on a copy of a slice from a DataFrame.\n",
      "Try using .loc[row_indexer,col_indexer] = value instead\n",
      "\n",
      "See the caveats in the documentation: http://pandas.pydata.org/pandas-docs/stable/indexing.html#indexing-view-versus-copy\n"
     ]
    },
    {
     "data": {
      "text/plain": [
       "<matplotlib.axes._subplots.AxesSubplot at 0x7f3d4045a898>"
      ]
     },
     "execution_count": 36,
     "metadata": {},
     "output_type": "execute_result"
    },
    {
     "data": {
      "image/png": "[encoded data removed]",
      "text/plain": [
       "<matplotlib.figure.Figure at 0x7f3d3ff39da0>"
      ]
     },
     "metadata": {},
     "output_type": "display_data"
    }
   ],
   "source": [
    "# Extract the scatter tally data from pandas\n",
    "scatter = df[df['score'] == 'scatter']\n",
    "\n",
    "scatter['rel. err.'] = scatter['std. dev.'] / scatter['mean']\n",
    "\n",
    "# Show a scatter plot of the mean vs. the std. dev.\n",
    "scatter.plot(kind='scatter', x='mean', y='rel. err.', title='Scattering Rates')"
   ]
  },
  {
   "cell_type": "code",
   "execution_count": 37,
   "metadata": {
    "collapsed": false
   },
   "outputs": [
    {
     "data": {
      "text/plain": [
       "<matplotlib.legend.Legend at 0x7f3d3fe566a0>"
      ]
     },
     "execution_count": 37,
     "metadata": {},
     "output_type": "execute_result"
    },
    {
     "data": {
      "image/png": "[encoded data removed]",
      "text/plain": [
       "<matplotlib.figure.Figure at 0x7f3d3fe3d860>"
      ]
     },
     "metadata": {},
     "output_type": "display_data"
    }
   ],
   "source": [
    "# Plot a histogram and kernel density estimate for the scattering rates\n",
    "scatter['mean'].plot(kind='hist', bins=25)\n",
    "scatter['mean'].plot(kind='kde')\n",
    "plt.title('Scattering Rates')\n",
    "plt.xlabel('Mean')\n",
    "plt.legend(['KDE', 'Histogram'])"
   ]
  }
 ],
 "metadata": {
  "kernelspec": {
   "display_name": "Python 3",
   "language": "python",
   "name": "python3"
  },
  "language_info": {
   "codemirror_mode": {
    "name": "ipython",
    "version": 3
   },
   "file_extension": ".py",
   "mimetype": "text/x-python",
   "name": "python",
   "nbconvert_exporter": "python",
   "pygments_lexer": "ipython3",
   "version": "3.5.2"
  }
 },
 "nbformat": 4,
 "nbformat_minor": 0
}
