{
 "cells": [
  {
   "cell_type": "markdown",
   "metadata": {},
   "source": [
    "This notebook demonstrates how systematic analysis of tally scores is possible using Pandas dataframes. A dataframe can be automatically generated using the `Tally.get_pandas_dataframe(...)` method. Furthermore, by linking the tally data in a statepoint file with geometry and material information from a summary file, the dataframe can be shown with user-supplied labels.\n",
    "\n",
    "**Note:** that this Notebook was created using the latest Pandas v0.16.1. Everything in the Notebook will wun with older versions of Pandas, but the multi-indexing option in >v0.15.0 makes the tables look prettier."
   ]
  },
  {
   "cell_type": "code",
   "execution_count": 1,
   "metadata": {
    "collapsed": false
   },
   "outputs": [],
   "source": [
    "import glob\n",
    "from IPython.display import Image\n",
    "import matplotlib.pylab as pylab\n",
    "import scipy.stats\n",
    "import numpy as np\n",
    "\n",
    "import openmc\n",
    "from openmc.statepoint import StatePoint\n",
    "from openmc.summary import Summary\n",
    "from openmc.source import Source\n",
    "from openmc.stats import Box\n",
    "\n",
    "%matplotlib inline"
   ]
  },
  {
   "cell_type": "markdown",
   "metadata": {},
   "source": [
    "## Generate Input Files"
   ]
  },
  {
   "cell_type": "markdown",
   "metadata": {},
   "source": [
    "First we need to define materials that will be used in the problem. Before defining a material, we must create nuclides that are used in the material."
   ]
  },
  {
   "cell_type": "code",
   "execution_count": 2,
   "metadata": {
    "collapsed": true
   },
   "outputs": [],
   "source": [
    "# Instantiate some Nuclides\n",
    "h1 = openmc.Nuclide('H-1')\n",
    "b10 = openmc.Nuclide('B-10')\n",
    "o16 = openmc.Nuclide('O-16')\n",
    "u235 = openmc.Nuclide('U-235')\n",
    "u238 = openmc.Nuclide('U-238')\n",
    "zr90 = openmc.Nuclide('Zr-90')"
   ]
  },
  {
   "cell_type": "markdown",
   "metadata": {},
   "source": [
    "With the nuclides we defined, we will now create three materials for the fuel, water, and cladding of the fuel pin."
   ]
  },
  {
   "cell_type": "code",
   "execution_count": 3,
   "metadata": {
    "collapsed": false
   },
   "outputs": [],
   "source": [
    "# 1.6 enriched fuel\n",
    "fuel = openmc.Material(name='1.6% Fuel')\n",
    "fuel.set_density('g/cm3', 10.31341)\n",
    "fuel.add_nuclide(u235, 3.7503e-4)\n",
    "fuel.add_nuclide(u238, 2.2625e-2)\n",
    "fuel.add_nuclide(o16, 4.6007e-2)\n",
    "\n",
    "# borated water\n",
    "water = openmc.Material(name='Borated Water')\n",
    "water.set_density('g/cm3', 0.740582)\n",
    "water.add_nuclide(h1, 4.9457e-2)\n",
    "water.add_nuclide(o16, 2.4732e-2)\n",
    "water.add_nuclide(b10, 8.0042e-6)\n",
    "\n",
    "# zircaloy\n",
    "zircaloy = openmc.Material(name='Zircaloy')\n",
    "zircaloy.set_density('g/cm3', 6.55)\n",
    "zircaloy.add_nuclide(zr90, 7.2758e-3)"
   ]
  },
  {
   "cell_type": "markdown",
   "metadata": {},
   "source": [
    "With our three materials, we can now create a materials file object that can be exported to an actual XML file."
   ]
  },
  {
   "cell_type": "code",
   "execution_count": 4,
   "metadata": {
    "collapsed": false
   },
   "outputs": [],
   "source": [
    "# Instantiate a MaterialsFile, add Materials\n",
    "materials_file = openmc.MaterialsFile()\n",
    "materials_file.add_material(fuel)\n",
    "materials_file.add_material(water)\n",
    "materials_file.add_material(zircaloy)\n",
    "materials_file.default_xs = '71c'\n",
    "\n",
    "# Export to \"materials.xml\"\n",
    "materials_file.export_to_xml()"
   ]
  },
  {
   "cell_type": "markdown",
   "metadata": {},
   "source": [
    "Now let's move on to the geometry. This problem will be a square array of fuel pins for which we can use OpenMC's lattice/universe feature. The basic universe will have three regions for the fuel, the clad, and the surrounding coolant. The first step is to create the bounding surfaces for fuel and clad, as well as the outer bounding surfaces of the problem."
   ]
  },
  {
   "cell_type": "code",
   "execution_count": 5,
   "metadata": {
    "collapsed": false
   },
   "outputs": [],
   "source": [
    "# Create cylinders for the fuel and clad\n",
    "fuel_outer_radius = openmc.ZCylinder(x0=0.0, y0=0.0, R=0.39218)\n",
    "clad_outer_radius = openmc.ZCylinder(x0=0.0, y0=0.0, R=0.45720)\n",
    "\n",
    "# Create boundary planes to surround the geometry\n",
    "# Use both reflective and vacuum boundaries to make life interesting\n",
    "min_x = openmc.XPlane(x0=-10.71, boundary_type='reflective')\n",
    "max_x = openmc.XPlane(x0=+10.71, boundary_type='vacuum')\n",
    "min_y = openmc.YPlane(y0=-10.71, boundary_type='vacuum')\n",
    "max_y = openmc.YPlane(y0=+10.71, boundary_type='reflective')\n",
    "min_z = openmc.ZPlane(z0=-10.71, boundary_type='reflective')\n",
    "max_z = openmc.ZPlane(z0=+10.71, boundary_type='reflective')"
   ]
  },
  {
   "cell_type": "markdown",
   "metadata": {},
   "source": [
    "With the surfaces defined, we can now construct a fuel pin cell from cells that are defined by intersections of half-spaces created by the surfaces."
   ]
  },
  {
   "cell_type": "code",
   "execution_count": 6,
   "metadata": {
    "collapsed": false
   },
   "outputs": [],
   "source": [
    "# Create a Universe to encapsulate a fuel pin\n",
    "pin_cell_universe = openmc.Universe(name='1.6% Fuel Pin')\n",
    "\n",
    "# Create fuel Cell\n",
    "fuel_cell = openmc.Cell(name='1.6% Fuel')\n",
    "fuel_cell.fill = fuel\n",
    "fuel_cell.region = -fuel_outer_radius\n",
    "pin_cell_universe.add_cell(fuel_cell)\n",
    "\n",
    "# Create a clad Cell\n",
    "clad_cell = openmc.Cell(name='1.6% Clad')\n",
    "clad_cell.fill = zircaloy\n",
    "clad_cell.region = +fuel_outer_radius & -clad_outer_radius\n",
    "pin_cell_universe.add_cell(clad_cell)\n",
    "\n",
    "# Create a moderator Cell\n",
    "moderator_cell = openmc.Cell(name='1.6% Moderator')\n",
    "moderator_cell.fill = water\n",
    "moderator_cell.region = +clad_outer_radius\n",
    "pin_cell_universe.add_cell(moderator_cell)"
   ]
  },
  {
   "cell_type": "markdown",
   "metadata": {},
   "source": [
    "Using the pin cell universe, we can construct a 17x17 rectangular lattice with a 1.26 cm pitch."
   ]
  },
  {
   "cell_type": "code",
   "execution_count": 7,
   "metadata": {
    "collapsed": false
   },
   "outputs": [],
   "source": [
    "# Create fuel assembly Lattice\n",
    "assembly = openmc.RectLattice(name='1.6% Fuel - 0BA')\n",
    "assembly.dimension = (17, 17)\n",
    "assembly.pitch = (1.26, 1.26)\n",
    "assembly.lower_left = [-1.26 * 17. / 2.0] * 2\n",
    "assembly.universes = [[pin_cell_universe] * 17] * 17"
   ]
  },
  {
   "cell_type": "markdown",
   "metadata": {},
   "source": [
    "OpenMC requires that there is a \"root\" universe. Let us create a root cell that is filled by the pin cell universe and then assign it to the root universe."
   ]
  },
  {
   "cell_type": "code",
   "execution_count": 8,
   "metadata": {
    "collapsed": false
   },
   "outputs": [],
   "source": [
    "# Create root Cell\n",
    "root_cell = openmc.Cell(name='root cell')\n",
    "root_cell.fill = assembly\n",
    "\n",
    "# Add boundary planes\n",
    "root_cell.region = +min_x & -max_x & +min_y & -max_y & +min_z & -max_z\n",
    "\n",
    "# Create root Universe\n",
    "root_universe = openmc.Universe(universe_id=0, name='root universe')\n",
    "root_universe.add_cell(root_cell)"
   ]
  },
  {
   "cell_type": "markdown",
   "metadata": {},
   "source": [
    "We now must create a geometry that is assigned a root universe, put the geometry into a `GeometryFile` object, and export it to XML."
   ]
  },
  {
   "cell_type": "code",
   "execution_count": 9,
   "metadata": {
    "collapsed": true
   },
   "outputs": [],
   "source": [
    "# Create Geometry and set root Universe\n",
    "geometry = openmc.Geometry()\n",
    "geometry.root_universe = root_universe"
   ]
  },
  {
   "cell_type": "code",
   "execution_count": 10,
   "metadata": {
    "collapsed": false
   },
   "outputs": [],
   "source": [
    "# Instantiate a GeometryFile\n",
    "geometry_file = openmc.GeometryFile()\n",
    "geometry_file.geometry = geometry\n",
    "\n",
    "# Export to \"geometry.xml\"\n",
    "geometry_file.export_to_xml()"
   ]
  },
  {
   "cell_type": "markdown",
   "metadata": {},
   "source": [
    "With the geometry and materials finished, we now just need to define simulation parameters. In this case, we will use 5 inactive batches and 15 minimum active batches each with 2500 particles. We also tell OpenMC to turn tally triggers on, which means it will keep running until some criterion on the uncertainty of tallies is reached."
   ]
  },
  {
   "cell_type": "code",
   "execution_count": 11,
   "metadata": {
    "collapsed": true
   },
   "outputs": [],
   "source": [
    "# OpenMC simulation parameters\n",
    "min_batches = 20\n",
    "max_batches = 200\n",
    "inactive = 5\n",
    "particles = 2500\n",
    "\n",
    "# Instantiate a SettingsFile\n",
    "settings_file = openmc.SettingsFile()\n",
    "settings_file.batches = min_batches\n",
    "settings_file.inactive = inactive\n",
    "settings_file.particles = particles\n",
    "settings_file.output = {'tallies': False, 'summary': True}\n",
    "settings_file.trigger_active = True\n",
    "settings_file.trigger_max_batches = max_batches\n",
    "source_bounds = [-10.71, -10.71, -10, 10.71, 10.71, 10.]\n",
    "settings_file.source = Source(space=Box(\n",
    "    source_bounds[:3], source_bounds[3:]))\n",
    "\n",
    "# Export to \"settings.xml\"\n",
    "settings_file.export_to_xml()"
   ]
  },
  {
   "cell_type": "markdown",
   "metadata": {},
   "source": [
    "Let us also create a plot file that we can use to verify that our pin cell geometry was created successfully."
   ]
  },
  {
   "cell_type": "code",
   "execution_count": 12,
   "metadata": {
    "collapsed": false
   },
   "outputs": [],
   "source": [
    "# Instantiate a Plot\n",
    "plot = openmc.Plot(plot_id=1)\n",
    "plot.filename = 'materials-xy'\n",
    "plot.origin = [0, 0, 0]\n",
    "plot.width = [21.5, 21.5]\n",
    "plot.pixels = [250, 250]\n",
    "plot.color = 'mat'\n",
    "\n",
    "# Instantiate a PlotsFile, add Plot, and export to \"plots.xml\"\n",
    "plot_file = openmc.PlotsFile()\n",
    "plot_file.add_plot(plot)\n",
    "plot_file.export_to_xml()"
   ]
  },
  {
   "cell_type": "markdown",
   "metadata": {},
   "source": [
    "With the plots.xml file, we can now generate and view the plot. OpenMC outputs plots in .ppm format, which can be converted into a compressed format like .png with the convert utility."
   ]
  },
  {
   "cell_type": "code",
   "execution_count": 13,
   "metadata": {
    "collapsed": false
   },
   "outputs": [
    {
     "data": {
      "text/plain": [
       "0"
      ]
     },
     "execution_count": 13,
     "metadata": {},
     "output_type": "execute_result"
    }
   ],
   "source": [
    "# Run openmc in plotting mode\n",
    "executor = openmc.Executor()\n",
    "executor.plot_geometry(output=False)"
   ]
  },
  {
   "cell_type": "code",
   "execution_count": 14,
   "metadata": {
    "collapsed": false
   },
   "outputs": [
    {
     "data": {
      "image/png": "[encoded data removed]",
      "text/plain": [
       "<IPython.core.display.Image object>"
      ]
     },
     "execution_count": 14,
     "metadata": {},
     "output_type": "execute_result"
    }
   ],
   "source": [
    "# Convert OpenMC's funky ppm to png\n",
    "!convert materials-xy.ppm materials-xy.png\n",
    "\n",
    "# Display the materials plot inline\n",
    "Image(filename='materials-xy.png')"
   ]
  },
  {
   "cell_type": "markdown",
   "metadata": {},
   "source": [
    "As we can see from the plot, we have a nice array of pin cells with fuel, cladding, and water! Before we run our simulation, we need to tell the code what we want to tally. The following code shows how to create a variety of tallies."
   ]
  },
  {
   "cell_type": "code",
   "execution_count": 15,
   "metadata": {
    "collapsed": true
   },
   "outputs": [],
   "source": [
    "# Instantiate an empty TalliesFile\n",
    "tallies_file = openmc.TalliesFile()\n",
    "tallies_file._tallies = []"
   ]
  },
  {
   "cell_type": "markdown",
   "metadata": {},
   "source": [
    "Instantiate a fission rate mesh Tally"
   ]
  },
  {
   "cell_type": "code",
   "execution_count": 16,
   "metadata": {
    "collapsed": false
   },
   "outputs": [],
   "source": [
    "# Instantiate a tally Mesh\n",
    "mesh = openmc.Mesh(mesh_id=1)\n",
    "mesh.type = 'regular'\n",
    "mesh.dimension = [17, 17]\n",
    "mesh.lower_left = [-10.71, -10.71]\n",
    "mesh.width = [1.26, 1.26]\n",
    "\n",
    "# Instantiate tally Filter\n",
    "mesh_filter = openmc.Filter()\n",
    "mesh_filter.mesh = mesh\n",
    "\n",
    "# Instantiate energy Filter\n",
    "energy_filter = openmc.Filter()\n",
    "energy_filter.type = 'energy'\n",
    "energy_filter.bins = np.array([0, 0.625e-6, 20.])\n",
    "\n",
    "# Instantiate the Tally\n",
    "tally = openmc.Tally(name='mesh tally')\n",
    "tally.add_filter(mesh_filter)\n",
    "tally.add_filter(energy_filter)\n",
    "tally.add_score('fission')\n",
    "tally.add_score('nu-fission')\n",
    "\n",
    "# Add mesh and Tally to TalliesFile\n",
    "tallies_file.add_mesh(mesh)\n",
    "tallies_file.add_tally(tally)"
   ]
  },
  {
   "cell_type": "markdown",
   "metadata": {},
   "source": [
    "Instantiate a cell Tally with nuclides"
   ]
  },
  {
   "cell_type": "code",
   "execution_count": 17,
   "metadata": {
    "collapsed": false
   },
   "outputs": [],
   "source": [
    "# Instantiate tally Filter\n",
    "cell_filter = openmc.Filter(type='cell', bins=[fuel_cell.id])\n",
    "\n",
    "# Instantiate the tally\n",
    "tally = openmc.Tally(name='cell tally')\n",
    "tally.add_filter(cell_filter)\n",
    "tally.add_score('scatter-y2')\n",
    "tally.add_nuclide(u235)\n",
    "tally.add_nuclide(u238)\n",
    "\n",
    "# Add mesh and tally to TalliesFile\n",
    "tallies_file.add_tally(tally)"
   ]
  },
  {
   "cell_type": "markdown",
   "metadata": {},
   "source": [
    "Create a \"distribcell\" Tally. The distribcell filter allows us to tally multiple repeated instances of the same cell throughout the geometry."
   ]
  },
  {
   "cell_type": "code",
   "execution_count": 18,
   "metadata": {
    "collapsed": true
   },
   "outputs": [],
   "source": [
    "# Instantiate tally Filter\n",
    "distribcell_filter = openmc.Filter(type='distribcell', bins=[moderator_cell.id])\n",
    "\n",
    "# Instantiate tally Trigger for kicks\n",
    "trigger = openmc.Trigger(trigger_type='std_dev', threshold=5e-5)\n",
    "trigger.add_score('absorption')\n",
    "\n",
    "# Instantiate the Tally\n",
    "tally = openmc.Tally(name='distribcell tally')\n",
    "tally.add_filter(distribcell_filter)\n",
    "tally.add_score('absorption')\n",
    "tally.add_score('scatter')\n",
    "tally.add_trigger(trigger)\n",
    "\n",
    "# Add mesh and tally to TalliesFile\n",
    "tallies_file.add_tally(tally)"
   ]
  },
  {
   "cell_type": "code",
   "execution_count": 19,
   "metadata": {
    "collapsed": true
   },
   "outputs": [],
   "source": [
    "# Export to \"tallies.xml\"\n",
    "tallies_file.export_to_xml()"
   ]
  },
  {
   "cell_type": "markdown",
   "metadata": {},
   "source": [
    "Now we a have a complete set of inputs, so we can go ahead and run our simulation."
   ]
  },
  {
   "cell_type": "code",
   "execution_count": 20,
   "metadata": {
    "collapsed": false
   },
   "outputs": [
    {
     "name": "stdout",
     "output_type": "stream",
     "text": [
      "\n",
      "       .d88888b.                             888b     d888  .d8888b.\n",
      "      d88P\" \"Y88b                            8888b   d8888 d88P  Y88b\n",
      "      888     888                            88888b.d88888 888    888\n",
      "      888     888 88888b.   .d88b.  88888b.  888Y88888P888 888       \n",
      "      888     888 888 \"88b d8P  Y8b 888 \"88b 888 Y888P 888 888       \n",
      "      888     888 888  888 88888888 888  888 888  Y8P  888 888    888\n",
      "      Y88b. .d88P 888 d88P Y8b.     888  888 888   \"   888 Y88b  d88P\n",
      "       \"Y88888P\"  88888P\"   \"Y8888  888  888 888       888  \"Y8888P\"\n",
      "__________________888______________________________________________________\n",
      "                  888\n",
      "                  888\n",
      "\n",
      "      Copyright:      2011-2015 Massachusetts Institute of Technology\n",
      "      License:        http://mit-crpg.github.io/openmc/license.html\n",
      "      Version:        0.7.1\n",
      "      Git SHA1:       34381b40a9445a727e360873aaa6ef892af1cb6a\n",
      "      Date/Time:      2016-02-07 16:01:57\n",
      "      MPI Processes:  1\n",
      "\n",
      " ===========================================================================\n",
      " ========================>     INITIALIZATION     <=========================\n",
      " ===========================================================================\n",
      "\n",
      " Reading settings XML file...\n",
      " Reading cross sections XML file...\n",
      " Reading geometry XML file...\n",
      " Reading materials XML file...\n",
      " Reading tallies XML file...\n",
      " Building neighboring cells lists for each surface...\n",
      " Loading ACE cross section table: 92235.71c\n",
      " Loading ACE cross section table: 92238.71c\n",
      " Loading ACE cross section table: 8016.71c\n",
      " Loading ACE cross section table: 1001.71c\n",
      " Loading ACE cross section table: 5010.71c\n",
      " Loading ACE cross section table: 40090.71c\n",
      " Maximum neutron transport energy: 20.0000 MeV for 92235.71c\n",
      " Initializing source particles...\n",
      "\n",
      " ===========================================================================\n",
      " ====================>     K EIGENVALUE SIMULATION     <====================\n",
      " ===========================================================================\n",
      "\n",
      "  Bat./Gen.      k            Average k         \n",
      "  =========   ========   ====================   \n",
      "        1/1    0.54958                       \n",
      "        2/1    0.67628                       \n",
      "        3/1    0.70618                       \n",
      "        4/1    0.66601                       \n",
      "        5/1    0.70876                       \n",
      "        6/1    0.69708                       \n",
      "        7/1    0.68623    0.69166 +/- 0.00543\n",
      "        8/1    0.69159    0.69163 +/- 0.00313\n",
      "        9/1    0.69908    0.69349 +/- 0.00289\n",
      "       10/1    0.63865    0.68253 +/- 0.01120\n",
      "       11/1    0.65439    0.67784 +/- 0.01027\n",
      "       12/1    0.68518    0.67889 +/- 0.00875\n",
      "       13/1    0.69507    0.68091 +/- 0.00784\n",
      "       14/1    0.70129    0.68317 +/- 0.00728\n",
      "       15/1    0.71336    0.68619 +/- 0.00717\n",
      "       16/1    0.68725    0.68629 +/- 0.00649\n",
      "       17/1    0.72579    0.68958 +/- 0.00678\n",
      "       18/1    0.67149    0.68819 +/- 0.00639\n",
      "       19/1    0.67771    0.68744 +/- 0.00596\n",
      "       20/1    0.68035    0.68697 +/- 0.00557\n",
      " Triggers unsatisfied, max unc./thresh. is 1.09851 for absorption in tally 10002\n",
      " The estimated number of batches is 24\n",
      " Creating state point statepoint.020.h5...\n",
      "       21/1    0.68105    0.68660 +/- 0.00522\n",
      "       22/1    0.67168    0.68572 +/- 0.00498\n",
      "       23/1    0.67520    0.68514 +/- 0.00473\n",
      "       24/1    0.67940    0.68483 +/- 0.00449\n",
      " Triggers satisfied for batch 24\n",
      " Creating state point statepoint.024.h5...\n",
      "\n",
      " ===========================================================================\n",
      " ======================>     SIMULATION FINISHED     <======================\n",
      " ===========================================================================\n",
      "\n",
      "\n",
      " =======================>     TIMING STATISTICS     <=======================\n",
      "\n",
      " Total time for initialization     =  3.0900E-01 seconds\n",
      "   Reading cross sections          =  7.8000E-02 seconds\n",
      " Total time in simulation          =  4.9560E+00 seconds\n",
      "   Time in transport only          =  4.9400E+00 seconds\n",
      "   Time in inactive batches        =  7.3100E-01 seconds\n",
      "   Time in active batches          =  4.2250E+00 seconds\n",
      "   Time synchronizing fission bank =  4.0000E-03 seconds\n",
      "     Sampling source sites         =  3.0000E-03 seconds\n",
      "     SEND/RECV source sites        =  1.0000E-03 seconds\n",
      "   Time accumulating tallies       =  1.0000E-03 seconds\n",
      " Total time for finalization       =  0.0000E+00 seconds\n",
      " Total time elapsed                =  5.2780E+00 seconds\n",
      " Calculation Rate (inactive)       =  17099.9 neutrons/second\n",
      " Calculation Rate (active)         =  8875.74 neutrons/second\n",
      "\n",
      " ============================>     RESULTS     <============================\n",
      "\n",
      " k-effective (Collision)     =  0.68264 +/-  0.00405\n",
      " k-effective (Track-length)  =  0.68483 +/-  0.00449\n",
      " k-effective (Absorption)    =  0.68225 +/-  0.00336\n",
      " Combined k-effective        =  0.68275 +/-  0.00346\n",
      " Leakage Fraction            =  0.34345 +/-  0.00167\n",
      "\n"
     ]
    },
    {
     "data": {
      "text/plain": [
       "0"
      ]
     },
     "execution_count": 20,
     "metadata": {},
     "output_type": "execute_result"
    }
   ],
   "source": [
    "# Remove old HDF5 (summary, statepoint) files\n",
    "!rm statepoint.*\n",
    "\n",
    "# Run OpenMC with MPI!\n",
    "executor.run_simulation()"
   ]
  },
  {
   "cell_type": "markdown",
   "metadata": {},
   "source": [
    "## Tally Data Processing"
   ]
  },
  {
   "cell_type": "code",
   "execution_count": 21,
   "metadata": {
    "collapsed": false
   },
   "outputs": [],
   "source": [
    "# We do not know how many batches were needed to satisfy the \n",
    "# tally trigger(s), so find the statepoint file(s)\n",
    "statepoints = glob.glob('statepoint.*.h5')\n",
    "\n",
    "# Load the last statepoint file\n",
    "sp = StatePoint(statepoints[-1])"
   ]
  },
  {
   "cell_type": "code",
   "execution_count": 22,
   "metadata": {
    "collapsed": false,
    "scrolled": true
   },
   "outputs": [],
   "source": [
    "# Load the summary file and link with statepoint\n",
    "su = Summary('summary.h5')\n",
    "sp.link_with_summary(su)"
   ]
  },
  {
   "cell_type": "markdown",
   "metadata": {},
   "source": [
    "**Analyze the mesh fission rate tally**"
   ]
  },
  {
   "cell_type": "code",
   "execution_count": 23,
   "metadata": {
    "collapsed": false
   },
   "outputs": [
    {
     "name": "stdout",
     "output_type": "stream",
     "text": [
      "Tally\n",
      "\tID             =\t10000\n",
      "\tName           =\tmesh tally\n",
      "\tFilters        =\t\n",
      "                \t\tmesh\t[1]\n",
      "                \t\tenergy\t[  0.00000000e+00   6.25000000e-07   2.00000000e+01]\n",
      "\tNuclides       =\ttotal \n",
      "\tScores         =\t[u'fission', u'nu-fission']\n",
      "\tEstimator      =\ttracklength\n",
      "\n"
     ]
    }
   ],
   "source": [
    "# Find the mesh tally with the StatePoint API\n",
    "tally = sp.get_tally(name='mesh tally')\n",
    "\n",
    "# Print a little info about the mesh tally to the screen\n",
    "print(tally)"
   ]
  },
  {
   "cell_type": "markdown",
   "metadata": {},
   "source": [
    "Use the new Tally data retrieval API with pure NumPy"
   ]
  },
  {
   "cell_type": "code",
   "execution_count": 24,
   "metadata": {
    "collapsed": false
   },
   "outputs": [
    {
     "name": "stdout",
     "output_type": "stream",
     "text": [
      "[[[ 0.18257268]]\n",
      "\n",
      " [[ 0.07111957]]\n",
      "\n",
      " [[ 0.40880276]]\n",
      "\n",
      " [[ 0.16407535]]]\n"
     ]
    }
   ],
   "source": [
    "# Get the relative error for the thermal fission reaction \n",
    "# rates in the four corner pins \n",
    "data = tally.get_values(scores=['fission'], filters=['mesh', 'energy'], \\\n",
    "                        filter_bins=[((1,1),(1,17), (17,1), (17,17)), \\\n",
    "                                    ((0., 0.625e-6),)], value='rel_err')\n",
    "print(data)"
   ]
  },
  {
   "cell_type": "code",
   "execution_count": 25,
   "metadata": {
    "collapsed": false
   },
   "outputs": [
    {
     "data": {
      "text/html": [
       "<div style=\"max-height:1000px;max-width:1500px;overflow:auto;\">\n",
       "<table border=\"1\" class=\"dataframe\">\n",
       "  <thead>\n",
       "    <tr style=\"text-align: right;\">\n",
       "      <th></th>\n",
       "      <th>(mesh 1, x)</th>\n",
       "      <th>(mesh 1, y)</th>\n",
       "      <th>(mesh 1, z)</th>\n",
       "      <th>energy low [MeV]</th>\n",
       "      <th>energy high [MeV]</th>\n",
       "      <th>score</th>\n",
       "      <th>mean</th>\n",
       "      <th>std. dev.</th>\n",
       "    </tr>\n",
       "  </thead>\n",
       "  <tbody>\n",
       "    <tr>\n",
       "      <th>0 </th>\n",
       "      <td> 1</td>\n",
       "      <td> 1</td>\n",
       "      <td> 1</td>\n",
       "      <td>0.00e+00</td>\n",
       "      <td>6.25e-07</td>\n",
       "      <td>    fission</td>\n",
       "      <td>2.02e-04</td>\n",
       "      <td>3.69e-05</td>\n",
       "    </tr>\n",
       "    <tr>\n",
       "      <th>1 </th>\n",
       "      <td> 1</td>\n",
       "      <td> 1</td>\n",
       "      <td> 1</td>\n",
       "      <td>0.00e+00</td>\n",
       "      <td>6.25e-07</td>\n",
       "      <td> nu-fission</td>\n",
       "      <td>4.92e-04</td>\n",
       "      <td>8.98e-05</td>\n",
       "    </tr>\n",
       "    <tr>\n",
       "      <th>2 </th>\n",
       "      <td> 1</td>\n",
       "      <td> 1</td>\n",
       "      <td> 1</td>\n",
       "      <td>6.25e-07</td>\n",
       "      <td>2.00e+01</td>\n",
       "      <td>    fission</td>\n",
       "      <td>7.62e-05</td>\n",
       "      <td>3.74e-06</td>\n",
       "    </tr>\n",
       "    <tr>\n",
       "      <th>3 </th>\n",
       "      <td> 1</td>\n",
       "      <td> 1</td>\n",
       "      <td> 1</td>\n",
       "      <td>6.25e-07</td>\n",
       "      <td>2.00e+01</td>\n",
       "      <td> nu-fission</td>\n",
       "      <td>2.04e-04</td>\n",
       "      <td>9.88e-06</td>\n",
       "    </tr>\n",
       "    <tr>\n",
       "      <th>4 </th>\n",
       "      <td> 1</td>\n",
       "      <td> 2</td>\n",
       "      <td> 1</td>\n",
       "      <td>0.00e+00</td>\n",
       "      <td>6.25e-07</td>\n",
       "      <td>    fission</td>\n",
       "      <td>3.75e-04</td>\n",
       "      <td>3.86e-05</td>\n",
       "    </tr>\n",
       "    <tr>\n",
       "      <th>5 </th>\n",
       "      <td> 1</td>\n",
       "      <td> 2</td>\n",
       "      <td> 1</td>\n",
       "      <td>0.00e+00</td>\n",
       "      <td>6.25e-07</td>\n",
       "      <td> nu-fission</td>\n",
       "      <td>9.14e-04</td>\n",
       "      <td>9.41e-05</td>\n",
       "    </tr>\n",
       "    <tr>\n",
       "      <th>6 </th>\n",
       "      <td> 1</td>\n",
       "      <td> 2</td>\n",
       "      <td> 1</td>\n",
       "      <td>6.25e-07</td>\n",
       "      <td>2.00e+01</td>\n",
       "      <td>    fission</td>\n",
       "      <td>1.07e-04</td>\n",
       "      <td>1.26e-05</td>\n",
       "    </tr>\n",
       "    <tr>\n",
       "      <th>7 </th>\n",
       "      <td> 1</td>\n",
       "      <td> 2</td>\n",
       "      <td> 1</td>\n",
       "      <td>6.25e-07</td>\n",
       "      <td>2.00e+01</td>\n",
       "      <td> nu-fission</td>\n",
       "      <td>2.78e-04</td>\n",
       "      <td>3.16e-05</td>\n",
       "    </tr>\n",
       "    <tr>\n",
       "      <th>8 </th>\n",
       "      <td> 1</td>\n",
       "      <td> 3</td>\n",
       "      <td> 1</td>\n",
       "      <td>0.00e+00</td>\n",
       "      <td>6.25e-07</td>\n",
       "      <td>    fission</td>\n",
       "      <td>5.64e-04</td>\n",
       "      <td>5.60e-05</td>\n",
       "    </tr>\n",
       "    <tr>\n",
       "      <th>9 </th>\n",
       "      <td> 1</td>\n",
       "      <td> 3</td>\n",
       "      <td> 1</td>\n",
       "      <td>0.00e+00</td>\n",
       "      <td>6.25e-07</td>\n",
       "      <td> nu-fission</td>\n",
       "      <td>1.37e-03</td>\n",
       "      <td>1.37e-04</td>\n",
       "    </tr>\n",
       "    <tr>\n",
       "      <th>10</th>\n",
       "      <td> 1</td>\n",
       "      <td> 3</td>\n",
       "      <td> 1</td>\n",
       "      <td>6.25e-07</td>\n",
       "      <td>2.00e+01</td>\n",
       "      <td>    fission</td>\n",
       "      <td>1.49e-04</td>\n",
       "      <td>7.25e-06</td>\n",
       "    </tr>\n",
       "    <tr>\n",
       "      <th>11</th>\n",
       "      <td> 1</td>\n",
       "      <td> 3</td>\n",
       "      <td> 1</td>\n",
       "      <td>6.25e-07</td>\n",
       "      <td>2.00e+01</td>\n",
       "      <td> nu-fission</td>\n",
       "      <td>3.88e-04</td>\n",
       "      <td>1.78e-05</td>\n",
       "    </tr>\n",
       "    <tr>\n",
       "      <th>12</th>\n",
       "      <td> 1</td>\n",
       "      <td> 4</td>\n",
       "      <td> 1</td>\n",
       "      <td>0.00e+00</td>\n",
       "      <td>6.25e-07</td>\n",
       "      <td>    fission</td>\n",
       "      <td>6.69e-04</td>\n",
       "      <td>4.44e-05</td>\n",
       "    </tr>\n",
       "    <tr>\n",
       "      <th>13</th>\n",
       "      <td> 1</td>\n",
       "      <td> 4</td>\n",
       "      <td> 1</td>\n",
       "      <td>0.00e+00</td>\n",
       "      <td>6.25e-07</td>\n",
       "      <td> nu-fission</td>\n",
       "      <td>1.63e-03</td>\n",
       "      <td>1.08e-04</td>\n",
       "    </tr>\n",
       "    <tr>\n",
       "      <th>14</th>\n",
       "      <td> 1</td>\n",
       "      <td> 4</td>\n",
       "      <td> 1</td>\n",
       "      <td>6.25e-07</td>\n",
       "      <td>2.00e+01</td>\n",
       "      <td>    fission</td>\n",
       "      <td>1.65e-04</td>\n",
       "      <td>1.09e-05</td>\n",
       "    </tr>\n",
       "    <tr>\n",
       "      <th>15</th>\n",
       "      <td> 1</td>\n",
       "      <td> 4</td>\n",
       "      <td> 1</td>\n",
       "      <td>6.25e-07</td>\n",
       "      <td>2.00e+01</td>\n",
       "      <td> nu-fission</td>\n",
       "      <td>4.33e-04</td>\n",
       "      <td>2.89e-05</td>\n",
       "    </tr>\n",
       "    <tr>\n",
       "      <th>16</th>\n",
       "      <td> 1</td>\n",
       "      <td> 5</td>\n",
       "      <td> 1</td>\n",
       "      <td>0.00e+00</td>\n",
       "      <td>6.25e-07</td>\n",
       "      <td>    fission</td>\n",
       "      <td>9.32e-04</td>\n",
       "      <td>6.90e-05</td>\n",
       "    </tr>\n",
       "    <tr>\n",
       "      <th>17</th>\n",
       "      <td> 1</td>\n",
       "      <td> 5</td>\n",
       "      <td> 1</td>\n",
       "      <td>0.00e+00</td>\n",
       "      <td>6.25e-07</td>\n",
       "      <td> nu-fission</td>\n",
       "      <td>2.27e-03</td>\n",
       "      <td>1.68e-04</td>\n",
       "    </tr>\n",
       "    <tr>\n",
       "      <th>18</th>\n",
       "      <td> 1</td>\n",
       "      <td> 5</td>\n",
       "      <td> 1</td>\n",
       "      <td>6.25e-07</td>\n",
       "      <td>2.00e+01</td>\n",
       "      <td>    fission</td>\n",
       "      <td>1.83e-04</td>\n",
       "      <td>1.10e-05</td>\n",
       "    </tr>\n",
       "    <tr>\n",
       "      <th>19</th>\n",
       "      <td> 1</td>\n",
       "      <td> 5</td>\n",
       "      <td> 1</td>\n",
       "      <td>6.25e-07</td>\n",
       "      <td>2.00e+01</td>\n",
       "      <td> nu-fission</td>\n",
       "      <td>4.77e-04</td>\n",
       "      <td>2.77e-05</td>\n",
       "    </tr>\n",
       "  </tbody>\n",
       "</table>\n",
       "</div>"
      ],
      "text/plain": [
       "    (mesh 1, x)  (mesh 1, y)  (mesh 1, z)  energy low [MeV]  \\\n",
       "0             1            1            1          0.00e+00   \n",
       "1             1            1            1          0.00e+00   \n",
       "2             1            1            1          6.25e-07   \n",
       "3             1            1            1          6.25e-07   \n",
       "4             1            2            1          0.00e+00   \n",
       "5             1            2            1          0.00e+00   \n",
       "6             1            2            1          6.25e-07   \n",
       "7             1            2            1          6.25e-07   \n",
       "8             1            3            1          0.00e+00   \n",
       "9             1            3            1          0.00e+00   \n",
       "10            1            3            1          6.25e-07   \n",
       "11            1            3            1          6.25e-07   \n",
       "12            1            4            1          0.00e+00   \n",
       "13            1            4            1          0.00e+00   \n",
       "14            1            4            1          6.25e-07   \n",
       "15            1            4            1          6.25e-07   \n",
       "16            1            5            1          0.00e+00   \n",
       "17            1            5            1          0.00e+00   \n",
       "18            1            5            1          6.25e-07   \n",
       "19            1            5            1          6.25e-07   \n",
       "\n",
       "    energy high [MeV]       score     mean  std. dev.  \n",
       "0            6.25e-07     fission 2.02e-04   3.69e-05  \n",
       "1            6.25e-07  nu-fission 4.92e-04   8.98e-05  \n",
       "2            2.00e+01     fission 7.62e-05   3.74e-06  \n",
       "3            2.00e+01  nu-fission 2.04e-04   9.88e-06  \n",
       "4            6.25e-07     fission 3.75e-04   3.86e-05  \n",
       "5            6.25e-07  nu-fission 9.14e-04   9.41e-05  \n",
       "6            2.00e+01     fission 1.07e-04   1.26e-05  \n",
       "7            2.00e+01  nu-fission 2.78e-04   3.16e-05  \n",
       "8            6.25e-07     fission 5.64e-04   5.60e-05  \n",
       "9            6.25e-07  nu-fission 1.37e-03   1.37e-04  \n",
       "10           2.00e+01     fission 1.49e-04   7.25e-06  \n",
       "11           2.00e+01  nu-fission 3.88e-04   1.78e-05  \n",
       "12           6.25e-07     fission 6.69e-04   4.44e-05  \n",
       "13           6.25e-07  nu-fission 1.63e-03   1.08e-04  \n",
       "14           2.00e+01     fission 1.65e-04   1.09e-05  \n",
       "15           2.00e+01  nu-fission 4.33e-04   2.89e-05  \n",
       "16           6.25e-07     fission 9.32e-04   6.90e-05  \n",
       "17           6.25e-07  nu-fission 2.27e-03   1.68e-04  \n",
       "18           2.00e+01     fission 1.83e-04   1.10e-05  \n",
       "19           2.00e+01  nu-fission 4.77e-04   2.77e-05  "
      ]
     },
     "execution_count": 25,
     "metadata": {},
     "output_type": "execute_result"
    }
   ],
   "source": [
    "# Get a pandas dataframe for the mesh tally data\n",
    "df = tally.get_pandas_dataframe(nuclides=False)\n",
    "\n",
    "# Set the Pandas float display settings\n",
    "import pandas as pd\n",
    "pd.set_option('display.float_format', '{:.2e}'.format)\n",
    "\n",
    "# Print the first twenty rows in the dataframe\n",
    "df.head(20)"
   ]
  },
  {
   "cell_type": "code",
   "execution_count": 26,
   "metadata": {
    "collapsed": false
   },
   "outputs": [
    {
     "data": {
      "image/png": "[encoded data removed]",
      "text/plain": [
       "<matplotlib.figure.Figure at 0x7f469ace7810>"
      ]
     },
     "metadata": {},
     "output_type": "display_data"
    }
   ],
   "source": [
    "# Create a boxplot to view the distribution of\n",
    "# fission and nu-fission rates in the pins\n",
    "bp = df.boxplot(column='mean', by='score')"
   ]
  },
  {
   "cell_type": "code",
   "execution_count": 27,
   "metadata": {
    "collapsed": false
   },
   "outputs": [
    {
     "data": {
      "text/plain": [
       "<matplotlib.colorbar.Colorbar instance at 0x7f4696feafc8>"
      ]
     },
     "execution_count": 27,
     "metadata": {},
     "output_type": "execute_result"
    },
    {
     "data": {
      "image/png": "[encoded data removed]",
      "text/plain": [
       "<matplotlib.figure.Figure at 0x7f469a941110>"
      ]
     },
     "metadata": {},
     "output_type": "display_data"
    }
   ],
   "source": [
    "# Extract thermal nu-fission rates from pandas\n",
    "fiss = df[df['score'] == 'nu-fission']\n",
    "fiss = fiss[fiss['energy low [MeV]'] == 0.0]\n",
    "\n",
    "# Extract mean and reshape as 2D NumPy arrays\n",
    "mean = fiss['mean'].reshape((17,17))\n",
    "\n",
    "pylab.imshow(mean, interpolation='nearest')\n",
    "pylab.title('fission rate')\n",
    "pylab.xlabel('x')\n",
    "pylab.ylabel('y')\n",
    "pylab.colorbar()"
   ]
  },
  {
   "cell_type": "markdown",
   "metadata": {},
   "source": [
    "**Analyze the cell+nuclides scatter-y2 rate tally**"
   ]
  },
  {
   "cell_type": "code",
   "execution_count": 28,
   "metadata": {
    "collapsed": false
   },
   "outputs": [
    {
     "name": "stdout",
     "output_type": "stream",
     "text": [
      "Tally\n",
      "\tID             =\t10001\n",
      "\tName           =\tcell tally\n",
      "\tFilters        =\t\n",
      "                \t\tcell\t[10000]\n",
      "\tNuclides       =\tU-235 U-238 \n",
      "\tScores         =\t[u'scatter-Y0,0', u'scatter-Y1,-1', u'scatter-Y1,0', u'scatter-Y1,1', u'scatter-Y2,-2', u'scatter-Y2,-1', u'scatter-Y2,0', u'scatter-Y2,1', u'scatter-Y2,2']\n",
      "\tEstimator      =\tanalog\n",
      "\n"
     ]
    }
   ],
   "source": [
    "# Find the cell Tally with the StatePoint API\n",
    "tally = sp.get_tally(name='cell tally')\n",
    "\n",
    "# Print a little info about the cell tally to the screen\n",
    "print(tally)"
   ]
  },
  {
   "cell_type": "code",
   "execution_count": 29,
   "metadata": {
    "collapsed": false
   },
   "outputs": [
    {
     "data": {
      "text/html": [
       "<div style=\"max-height:1000px;max-width:1500px;overflow:auto;\">\n",
       "<table border=\"1\" class=\"dataframe\">\n",
       "  <thead>\n",
       "    <tr style=\"text-align: right;\">\n",
       "      <th></th>\n",
       "      <th>cell</th>\n",
       "      <th>nuclide</th>\n",
       "      <th>score</th>\n",
       "      <th>mean</th>\n",
       "      <th>std. dev.</th>\n",
       "    </tr>\n",
       "  </thead>\n",
       "  <tbody>\n",
       "    <tr>\n",
       "      <th>0 </th>\n",
       "      <td> 10000</td>\n",
       "      <td> U-235</td>\n",
       "      <td>  scatter-Y0,0</td>\n",
       "      <td> 3.71e-02</td>\n",
       "      <td>1.15e-03</td>\n",
       "    </tr>\n",
       "    <tr>\n",
       "      <th>1 </th>\n",
       "      <td> 10000</td>\n",
       "      <td> U-235</td>\n",
       "      <td> scatter-Y1,-1</td>\n",
       "      <td> 2.66e-04</td>\n",
       "      <td>3.23e-04</td>\n",
       "    </tr>\n",
       "    <tr>\n",
       "      <th>2 </th>\n",
       "      <td> 10000</td>\n",
       "      <td> U-235</td>\n",
       "      <td>  scatter-Y1,0</td>\n",
       "      <td>-4.17e-04</td>\n",
       "      <td>2.74e-04</td>\n",
       "    </tr>\n",
       "    <tr>\n",
       "      <th>3 </th>\n",
       "      <td> 10000</td>\n",
       "      <td> U-235</td>\n",
       "      <td>  scatter-Y1,1</td>\n",
       "      <td>-2.28e-04</td>\n",
       "      <td>2.37e-04</td>\n",
       "    </tr>\n",
       "    <tr>\n",
       "      <th>4 </th>\n",
       "      <td> 10000</td>\n",
       "      <td> U-235</td>\n",
       "      <td> scatter-Y2,-2</td>\n",
       "      <td> 2.57e-05</td>\n",
       "      <td>1.99e-04</td>\n",
       "    </tr>\n",
       "    <tr>\n",
       "      <th>5 </th>\n",
       "      <td> 10000</td>\n",
       "      <td> U-235</td>\n",
       "      <td> scatter-Y2,-1</td>\n",
       "      <td>-1.15e-04</td>\n",
       "      <td>1.85e-04</td>\n",
       "    </tr>\n",
       "    <tr>\n",
       "      <th>6 </th>\n",
       "      <td> 10000</td>\n",
       "      <td> U-235</td>\n",
       "      <td>  scatter-Y2,0</td>\n",
       "      <td> 1.51e-04</td>\n",
       "      <td>1.59e-04</td>\n",
       "    </tr>\n",
       "    <tr>\n",
       "      <th>7 </th>\n",
       "      <td> 10000</td>\n",
       "      <td> U-235</td>\n",
       "      <td>  scatter-Y2,1</td>\n",
       "      <td>-1.22e-04</td>\n",
       "      <td>2.80e-04</td>\n",
       "    </tr>\n",
       "    <tr>\n",
       "      <th>8 </th>\n",
       "      <td> 10000</td>\n",
       "      <td> U-235</td>\n",
       "      <td>  scatter-Y2,2</td>\n",
       "      <td> 7.65e-06</td>\n",
       "      <td>1.81e-04</td>\n",
       "    </tr>\n",
       "    <tr>\n",
       "      <th>9 </th>\n",
       "      <td> 10000</td>\n",
       "      <td> U-238</td>\n",
       "      <td>  scatter-Y0,0</td>\n",
       "      <td> 2.33e+00</td>\n",
       "      <td>1.31e-02</td>\n",
       "    </tr>\n",
       "    <tr>\n",
       "      <th>10</th>\n",
       "      <td> 10000</td>\n",
       "      <td> U-238</td>\n",
       "      <td> scatter-Y1,-1</td>\n",
       "      <td> 2.45e-02</td>\n",
       "      <td>2.27e-03</td>\n",
       "    </tr>\n",
       "    <tr>\n",
       "      <th>11</th>\n",
       "      <td> 10000</td>\n",
       "      <td> U-238</td>\n",
       "      <td>  scatter-Y1,0</td>\n",
       "      <td>-5.87e-05</td>\n",
       "      <td>2.80e-03</td>\n",
       "    </tr>\n",
       "    <tr>\n",
       "      <th>12</th>\n",
       "      <td> 10000</td>\n",
       "      <td> U-238</td>\n",
       "      <td>  scatter-Y1,1</td>\n",
       "      <td>-2.80e-02</td>\n",
       "      <td>2.54e-03</td>\n",
       "    </tr>\n",
       "    <tr>\n",
       "      <th>13</th>\n",
       "      <td> 10000</td>\n",
       "      <td> U-238</td>\n",
       "      <td> scatter-Y2,-2</td>\n",
       "      <td>-4.86e-03</td>\n",
       "      <td>1.58e-03</td>\n",
       "    </tr>\n",
       "    <tr>\n",
       "      <th>14</th>\n",
       "      <td> 10000</td>\n",
       "      <td> U-238</td>\n",
       "      <td> scatter-Y2,-1</td>\n",
       "      <td> 5.57e-04</td>\n",
       "      <td>2.02e-03</td>\n",
       "    </tr>\n",
       "    <tr>\n",
       "      <th>15</th>\n",
       "      <td> 10000</td>\n",
       "      <td> U-238</td>\n",
       "      <td>  scatter-Y2,0</td>\n",
       "      <td> 6.24e-03</td>\n",
       "      <td>1.63e-03</td>\n",
       "    </tr>\n",
       "    <tr>\n",
       "      <th>16</th>\n",
       "      <td> 10000</td>\n",
       "      <td> U-238</td>\n",
       "      <td>  scatter-Y2,1</td>\n",
       "      <td>-6.48e-04</td>\n",
       "      <td>1.55e-03</td>\n",
       "    </tr>\n",
       "    <tr>\n",
       "      <th>17</th>\n",
       "      <td> 10000</td>\n",
       "      <td> U-238</td>\n",
       "      <td>  scatter-Y2,2</td>\n",
       "      <td>-1.03e-03</td>\n",
       "      <td>1.31e-03</td>\n",
       "    </tr>\n",
       "  </tbody>\n",
       "</table>\n",
       "</div>"
      ],
      "text/plain": [
       "     cell nuclide          score      mean  std. dev.\n",
       "0   10000   U-235   scatter-Y0,0  3.71e-02   1.15e-03\n",
       "1   10000   U-235  scatter-Y1,-1  2.66e-04   3.23e-04\n",
       "2   10000   U-235   scatter-Y1,0 -4.17e-04   2.74e-04\n",
       "3   10000   U-235   scatter-Y1,1 -2.28e-04   2.37e-04\n",
       "4   10000   U-235  scatter-Y2,-2  2.57e-05   1.99e-04\n",
       "5   10000   U-235  scatter-Y2,-1 -1.15e-04   1.85e-04\n",
       "6   10000   U-235   scatter-Y2,0  1.51e-04   1.59e-04\n",
       "7   10000   U-235   scatter-Y2,1 -1.22e-04   2.80e-04\n",
       "8   10000   U-235   scatter-Y2,2  7.65e-06   1.81e-04\n",
       "9   10000   U-238   scatter-Y0,0  2.33e+00   1.31e-02\n",
       "10  10000   U-238  scatter-Y1,-1  2.45e-02   2.27e-03\n",
       "11  10000   U-238   scatter-Y1,0 -5.87e-05   2.80e-03\n",
       "12  10000   U-238   scatter-Y1,1 -2.80e-02   2.54e-03\n",
       "13  10000   U-238  scatter-Y2,-2 -4.86e-03   1.58e-03\n",
       "14  10000   U-238  scatter-Y2,-1  5.57e-04   2.02e-03\n",
       "15  10000   U-238   scatter-Y2,0  6.24e-03   1.63e-03\n",
       "16  10000   U-238   scatter-Y2,1 -6.48e-04   1.55e-03\n",
       "17  10000   U-238   scatter-Y2,2 -1.03e-03   1.31e-03"
      ]
     },
     "execution_count": 29,
     "metadata": {},
     "output_type": "execute_result"
    }
   ],
   "source": [
    "# Get a pandas dataframe for the cell tally data\n",
    "df = tally.get_pandas_dataframe()\n",
    "\n",
    "# Print the first twenty rows in the dataframe\n",
    "df.head(100)"
   ]
  },
  {
   "cell_type": "markdown",
   "metadata": {},
   "source": [
    "Use the new Tally data retrieval API with pure NumPy"
   ]
  },
  {
   "cell_type": "code",
   "execution_count": 30,
   "metadata": {
    "collapsed": false
   },
   "outputs": [
    {
     "name": "stdout",
     "output_type": "stream",
     "text": [
      "[[[ 0.00131009  0.01310707]\n",
      "  [ 0.00018089  0.00114976]]]\n"
     ]
    }
   ],
   "source": [
    "# Get the standard deviations for two of the spherical harmonic\n",
    "# scattering reaction rates \n",
    "data = tally.get_values(scores=['scatter-Y2,2', 'scatter-Y0,0'], \n",
    "                        nuclides=['U-238', 'U-235'], value='std_dev')\n",
    "print(data)"
   ]
  },
  {
   "cell_type": "markdown",
   "metadata": {},
   "source": [
    "**Analyze the distribcell tally**"
   ]
  },
  {
   "cell_type": "code",
   "execution_count": 31,
   "metadata": {
    "collapsed": false
   },
   "outputs": [
    {
     "name": "stdout",
     "output_type": "stream",
     "text": [
      "Tally\n",
      "\tID             =\t10002\n",
      "\tName           =\tdistribcell tally\n",
      "\tFilters        =\t\n",
      "                \t\tdistribcell\t[10002]\n",
      "\tNuclides       =\ttotal \n",
      "\tScores         =\t[u'absorption', u'scatter']\n",
      "\tEstimator      =\ttracklength\n",
      "\n"
     ]
    }
   ],
   "source": [
    "# Find the distribcell Tally with the StatePoint API\n",
    "tally = sp.get_tally(name='distribcell tally')\n",
    "\n",
    "# Print a little info about the distribcell tally to the screen\n",
    "print(tally)"
   ]
  },
  {
   "cell_type": "markdown",
   "metadata": {},
   "source": [
    "Use the new Tally data retrieval API with pure NumPy"
   ]
  },
  {
   "cell_type": "code",
   "execution_count": 32,
   "metadata": {
    "collapsed": false
   },
   "outputs": [
    {
     "name": "stdout",
     "output_type": "stream",
     "text": [
      "[[[ 0.04537029]]]\n"
     ]
    }
   ],
   "source": [
    "# Get the relative error for the scattering reaction rates in\n",
    "# the first 30 distribcell instances \n",
    "data = tally.get_values(scores=['scatter'], filters=['distribcell'],\n",
    "                        filter_bins=[(i,) for i in range(10)], value='rel_err')\n",
    "print(data)"
   ]
  },
  {
   "cell_type": "markdown",
   "metadata": {},
   "source": [
    "Print the distribcell tally dataframe **without** OpenCG info"
   ]
  },
  {
   "cell_type": "code",
   "execution_count": 33,
   "metadata": {
    "collapsed": false
   },
   "outputs": [
    {
     "data": {
      "text/html": [
       "<div style=\"max-height:1000px;max-width:1500px;overflow:auto;\">\n",
       "<table border=\"1\" class=\"dataframe\">\n",
       "  <thead>\n",
       "    <tr style=\"text-align: right;\">\n",
       "      <th></th>\n",
       "      <th>distribcell</th>\n",
       "      <th>score</th>\n",
       "      <th>mean</th>\n",
       "      <th>std. dev.</th>\n",
       "    </tr>\n",
       "  </thead>\n",
       "  <tbody>\n",
       "    <tr>\n",
       "      <th>558</th>\n",
       "      <td> 279</td>\n",
       "      <td> absorption</td>\n",
       "      <td>9.27e-05</td>\n",
       "      <td>1.33e-05</td>\n",
       "    </tr>\n",
       "    <tr>\n",
       "      <th>559</th>\n",
       "      <td> 279</td>\n",
       "      <td>    scatter</td>\n",
       "      <td>1.35e-02</td>\n",
       "      <td>8.05e-04</td>\n",
       "    </tr>\n",
       "    <tr>\n",
       "      <th>560</th>\n",
       "      <td> 280</td>\n",
       "      <td> absorption</td>\n",
       "      <td>8.41e-05</td>\n",
       "      <td>9.92e-06</td>\n",
       "    </tr>\n",
       "    <tr>\n",
       "      <th>561</th>\n",
       "      <td> 280</td>\n",
       "      <td>    scatter</td>\n",
       "      <td>1.42e-02</td>\n",
       "      <td>6.12e-04</td>\n",
       "    </tr>\n",
       "    <tr>\n",
       "      <th>562</th>\n",
       "      <td> 281</td>\n",
       "      <td> absorption</td>\n",
       "      <td>9.12e-05</td>\n",
       "      <td>8.26e-06</td>\n",
       "    </tr>\n",
       "    <tr>\n",
       "      <th>563</th>\n",
       "      <td> 281</td>\n",
       "      <td>    scatter</td>\n",
       "      <td>1.45e-02</td>\n",
       "      <td>5.90e-04</td>\n",
       "    </tr>\n",
       "    <tr>\n",
       "      <th>564</th>\n",
       "      <td> 282</td>\n",
       "      <td> absorption</td>\n",
       "      <td>1.12e-04</td>\n",
       "      <td>1.24e-05</td>\n",
       "    </tr>\n",
       "    <tr>\n",
       "      <th>565</th>\n",
       "      <td> 282</td>\n",
       "      <td>    scatter</td>\n",
       "      <td>1.63e-02</td>\n",
       "      <td>7.29e-04</td>\n",
       "    </tr>\n",
       "    <tr>\n",
       "      <th>566</th>\n",
       "      <td> 283</td>\n",
       "      <td> absorption</td>\n",
       "      <td>9.18e-05</td>\n",
       "      <td>7.12e-06</td>\n",
       "    </tr>\n",
       "    <tr>\n",
       "      <th>567</th>\n",
       "      <td> 283</td>\n",
       "      <td>    scatter</td>\n",
       "      <td>1.62e-02</td>\n",
       "      <td>6.61e-04</td>\n",
       "    </tr>\n",
       "    <tr>\n",
       "      <th>568</th>\n",
       "      <td> 284</td>\n",
       "      <td> absorption</td>\n",
       "      <td>1.04e-04</td>\n",
       "      <td>1.10e-05</td>\n",
       "    </tr>\n",
       "    <tr>\n",
       "      <th>569</th>\n",
       "      <td> 284</td>\n",
       "      <td>    scatter</td>\n",
       "      <td>1.74e-02</td>\n",
       "      <td>5.99e-04</td>\n",
       "    </tr>\n",
       "    <tr>\n",
       "      <th>570</th>\n",
       "      <td> 285</td>\n",
       "      <td> absorption</td>\n",
       "      <td>1.11e-04</td>\n",
       "      <td>1.14e-05</td>\n",
       "    </tr>\n",
       "    <tr>\n",
       "      <th>571</th>\n",
       "      <td> 285</td>\n",
       "      <td>    scatter</td>\n",
       "      <td>1.80e-02</td>\n",
       "      <td>7.74e-04</td>\n",
       "    </tr>\n",
       "    <tr>\n",
       "      <th>572</th>\n",
       "      <td> 286</td>\n",
       "      <td> absorption</td>\n",
       "      <td>1.25e-04</td>\n",
       "      <td>1.20e-05</td>\n",
       "    </tr>\n",
       "    <tr>\n",
       "      <th>573</th>\n",
       "      <td> 286</td>\n",
       "      <td>    scatter</td>\n",
       "      <td>1.83e-02</td>\n",
       "      <td>8.28e-04</td>\n",
       "    </tr>\n",
       "    <tr>\n",
       "      <th>574</th>\n",
       "      <td> 287</td>\n",
       "      <td> absorption</td>\n",
       "      <td>1.19e-04</td>\n",
       "      <td>1.30e-05</td>\n",
       "    </tr>\n",
       "    <tr>\n",
       "      <th>575</th>\n",
       "      <td> 287</td>\n",
       "      <td>    scatter</td>\n",
       "      <td>1.75e-02</td>\n",
       "      <td>7.57e-04</td>\n",
       "    </tr>\n",
       "    <tr>\n",
       "      <th>576</th>\n",
       "      <td> 288</td>\n",
       "      <td> absorption</td>\n",
       "      <td>1.13e-04</td>\n",
       "      <td>1.40e-05</td>\n",
       "    </tr>\n",
       "    <tr>\n",
       "      <th>577</th>\n",
       "      <td> 288</td>\n",
       "      <td>    scatter</td>\n",
       "      <td>1.82e-02</td>\n",
       "      <td>7.82e-04</td>\n",
       "    </tr>\n",
       "  </tbody>\n",
       "</table>\n",
       "</div>"
      ],
      "text/plain": [
       "     distribcell       score     mean  std. dev.\n",
       "558          279  absorption 9.27e-05   1.33e-05\n",
       "559          279     scatter 1.35e-02   8.05e-04\n",
       "560          280  absorption 8.41e-05   9.92e-06\n",
       "561          280     scatter 1.42e-02   6.12e-04\n",
       "562          281  absorption 9.12e-05   8.26e-06\n",
       "563          281     scatter 1.45e-02   5.90e-04\n",
       "564          282  absorption 1.12e-04   1.24e-05\n",
       "565          282     scatter 1.63e-02   7.29e-04\n",
       "566          283  absorption 9.18e-05   7.12e-06\n",
       "567          283     scatter 1.62e-02   6.61e-04\n",
       "568          284  absorption 1.04e-04   1.10e-05\n",
       "569          284     scatter 1.74e-02   5.99e-04\n",
       "570          285  absorption 1.11e-04   1.14e-05\n",
       "571          285     scatter 1.80e-02   7.74e-04\n",
       "572          286  absorption 1.25e-04   1.20e-05\n",
       "573          286     scatter 1.83e-02   8.28e-04\n",
       "574          287  absorption 1.19e-04   1.30e-05\n",
       "575          287     scatter 1.75e-02   7.57e-04\n",
       "576          288  absorption 1.13e-04   1.40e-05\n",
       "577          288     scatter 1.82e-02   7.82e-04"
      ]
     },
     "execution_count": 33,
     "metadata": {},
     "output_type": "execute_result"
    }
   ],
   "source": [
    "# Get a pandas dataframe for the distribcell tally data\n",
    "df = tally.get_pandas_dataframe(nuclides=False)\n",
    "\n",
    "# Print the last twenty rows in the dataframe\n",
    "df.tail(20)"
   ]
  },
  {
   "cell_type": "markdown",
   "metadata": {},
   "source": [
    "Print the distribcell tally dataframe **with** OpenCG info"
   ]
  },
  {
   "cell_type": "code",
   "execution_count": 34,
   "metadata": {
    "collapsed": false
   },
   "outputs": [
    {
     "data": {
      "text/html": [
       "<div style=\"max-height:1000px;max-width:1500px;overflow:auto;\">\n",
       "<table border=\"1\" class=\"dataframe\">\n",
       "  <thead>\n",
       "    <tr style=\"text-align: right;\">\n",
       "      <th></th>\n",
       "      <th>(level 1, cell, id)</th>\n",
       "      <th>(level 1, univ, id)</th>\n",
       "      <th>(level 2, lat, id)</th>\n",
       "      <th>(level 2, lat, x)</th>\n",
       "      <th>(level 2, lat, y)</th>\n",
       "      <th>(level 2, lat, z)</th>\n",
       "      <th>(level 3, cell, id)</th>\n",
       "      <th>(level 3, univ, id)</th>\n",
       "      <th>distribcell</th>\n",
       "      <th>score</th>\n",
       "      <th>mean</th>\n",
       "      <th>std. dev.</th>\n",
       "    </tr>\n",
       "  </thead>\n",
       "  <tbody>\n",
       "    <tr>\n",
       "      <th>0 </th>\n",
       "      <td> 10003</td>\n",
       "      <td> 0</td>\n",
       "      <td> 10001</td>\n",
       "      <td> 0</td>\n",
       "      <td> 0</td>\n",
       "      <td> 0</td>\n",
       "      <td> 10002</td>\n",
       "      <td> 10000</td>\n",
       "      <td> 0</td>\n",
       "      <td> absorption</td>\n",
       "      <td>1.23e-04</td>\n",
       "      <td>1.19e-05</td>\n",
       "    </tr>\n",
       "    <tr>\n",
       "      <th>1 </th>\n",
       "      <td> 10003</td>\n",
       "      <td> 0</td>\n",
       "      <td> 10001</td>\n",
       "      <td> 0</td>\n",
       "      <td> 0</td>\n",
       "      <td> 0</td>\n",
       "      <td> 10002</td>\n",
       "      <td> 10000</td>\n",
       "      <td> 0</td>\n",
       "      <td>    scatter</td>\n",
       "      <td>1.78e-02</td>\n",
       "      <td>8.08e-04</td>\n",
       "    </tr>\n",
       "    <tr>\n",
       "      <th>2 </th>\n",
       "      <td> 10003</td>\n",
       "      <td> 0</td>\n",
       "      <td> 10001</td>\n",
       "      <td> 0</td>\n",
       "      <td> 1</td>\n",
       "      <td> 0</td>\n",
       "      <td> 10002</td>\n",
       "      <td> 10000</td>\n",
       "      <td> 1</td>\n",
       "      <td> absorption</td>\n",
       "      <td>2.17e-04</td>\n",
       "      <td>1.96e-05</td>\n",
       "    </tr>\n",
       "    <tr>\n",
       "      <th>3 </th>\n",
       "      <td> 10003</td>\n",
       "      <td> 0</td>\n",
       "      <td> 10001</td>\n",
       "      <td> 0</td>\n",
       "      <td> 1</td>\n",
       "      <td> 0</td>\n",
       "      <td> 10002</td>\n",
       "      <td> 10000</td>\n",
       "      <td> 1</td>\n",
       "      <td>    scatter</td>\n",
       "      <td>2.89e-02</td>\n",
       "      <td>1.26e-03</td>\n",
       "    </tr>\n",
       "    <tr>\n",
       "      <th>4 </th>\n",
       "      <td> 10003</td>\n",
       "      <td> 0</td>\n",
       "      <td> 10001</td>\n",
       "      <td> 0</td>\n",
       "      <td> 2</td>\n",
       "      <td> 0</td>\n",
       "      <td> 10002</td>\n",
       "      <td> 10000</td>\n",
       "      <td> 2</td>\n",
       "      <td> absorption</td>\n",
       "      <td>3.18e-04</td>\n",
       "      <td>2.03e-05</td>\n",
       "    </tr>\n",
       "    <tr>\n",
       "      <th>5 </th>\n",
       "      <td> 10003</td>\n",
       "      <td> 0</td>\n",
       "      <td> 10001</td>\n",
       "      <td> 0</td>\n",
       "      <td> 2</td>\n",
       "      <td> 0</td>\n",
       "      <td> 10002</td>\n",
       "      <td> 10000</td>\n",
       "      <td> 2</td>\n",
       "      <td>    scatter</td>\n",
       "      <td>4.05e-02</td>\n",
       "      <td>1.27e-03</td>\n",
       "    </tr>\n",
       "    <tr>\n",
       "      <th>6 </th>\n",
       "      <td> 10003</td>\n",
       "      <td> 0</td>\n",
       "      <td> 10001</td>\n",
       "      <td> 0</td>\n",
       "      <td> 3</td>\n",
       "      <td> 0</td>\n",
       "      <td> 10002</td>\n",
       "      <td> 10000</td>\n",
       "      <td> 3</td>\n",
       "      <td> absorption</td>\n",
       "      <td>3.86e-04</td>\n",
       "      <td>1.80e-05</td>\n",
       "    </tr>\n",
       "    <tr>\n",
       "      <th>7 </th>\n",
       "      <td> 10003</td>\n",
       "      <td> 0</td>\n",
       "      <td> 10001</td>\n",
       "      <td> 0</td>\n",
       "      <td> 3</td>\n",
       "      <td> 0</td>\n",
       "      <td> 10002</td>\n",
       "      <td> 10000</td>\n",
       "      <td> 3</td>\n",
       "      <td>    scatter</td>\n",
       "      <td>4.86e-02</td>\n",
       "      <td>1.34e-03</td>\n",
       "    </tr>\n",
       "    <tr>\n",
       "      <th>8 </th>\n",
       "      <td> 10003</td>\n",
       "      <td> 0</td>\n",
       "      <td> 10001</td>\n",
       "      <td> 0</td>\n",
       "      <td> 4</td>\n",
       "      <td> 0</td>\n",
       "      <td> 10002</td>\n",
       "      <td> 10000</td>\n",
       "      <td> 4</td>\n",
       "      <td> absorption</td>\n",
       "      <td>5.01e-04</td>\n",
       "      <td>2.60e-05</td>\n",
       "    </tr>\n",
       "    <tr>\n",
       "      <th>9 </th>\n",
       "      <td> 10003</td>\n",
       "      <td> 0</td>\n",
       "      <td> 10001</td>\n",
       "      <td> 0</td>\n",
       "      <td> 4</td>\n",
       "      <td> 0</td>\n",
       "      <td> 10002</td>\n",
       "      <td> 10000</td>\n",
       "      <td> 4</td>\n",
       "      <td>    scatter</td>\n",
       "      <td>5.71e-02</td>\n",
       "      <td>1.72e-03</td>\n",
       "    </tr>\n",
       "    <tr>\n",
       "      <th>10</th>\n",
       "      <td> 10003</td>\n",
       "      <td> 0</td>\n",
       "      <td> 10001</td>\n",
       "      <td> 0</td>\n",
       "      <td> 5</td>\n",
       "      <td> 0</td>\n",
       "      <td> 10002</td>\n",
       "      <td> 10000</td>\n",
       "      <td> 5</td>\n",
       "      <td> absorption</td>\n",
       "      <td>4.84e-04</td>\n",
       "      <td>2.58e-05</td>\n",
       "    </tr>\n",
       "    <tr>\n",
       "      <th>11</th>\n",
       "      <td> 10003</td>\n",
       "      <td> 0</td>\n",
       "      <td> 10001</td>\n",
       "      <td> 0</td>\n",
       "      <td> 5</td>\n",
       "      <td> 0</td>\n",
       "      <td> 10002</td>\n",
       "      <td> 10000</td>\n",
       "      <td> 5</td>\n",
       "      <td>    scatter</td>\n",
       "      <td>6.08e-02</td>\n",
       "      <td>1.58e-03</td>\n",
       "    </tr>\n",
       "    <tr>\n",
       "      <th>12</th>\n",
       "      <td> 10003</td>\n",
       "      <td> 0</td>\n",
       "      <td> 10001</td>\n",
       "      <td> 0</td>\n",
       "      <td> 6</td>\n",
       "      <td> 0</td>\n",
       "      <td> 10002</td>\n",
       "      <td> 10000</td>\n",
       "      <td> 6</td>\n",
       "      <td> absorption</td>\n",
       "      <td>5.32e-04</td>\n",
       "      <td>3.90e-05</td>\n",
       "    </tr>\n",
       "    <tr>\n",
       "      <th>13</th>\n",
       "      <td> 10003</td>\n",
       "      <td> 0</td>\n",
       "      <td> 10001</td>\n",
       "      <td> 0</td>\n",
       "      <td> 6</td>\n",
       "      <td> 0</td>\n",
       "      <td> 10002</td>\n",
       "      <td> 10000</td>\n",
       "      <td> 6</td>\n",
       "      <td>    scatter</td>\n",
       "      <td>6.91e-02</td>\n",
       "      <td>2.25e-03</td>\n",
       "    </tr>\n",
       "    <tr>\n",
       "      <th>14</th>\n",
       "      <td> 10003</td>\n",
       "      <td> 0</td>\n",
       "      <td> 10001</td>\n",
       "      <td> 0</td>\n",
       "      <td> 7</td>\n",
       "      <td> 0</td>\n",
       "      <td> 10002</td>\n",
       "      <td> 10000</td>\n",
       "      <td> 7</td>\n",
       "      <td> absorption</td>\n",
       "      <td>5.77e-04</td>\n",
       "      <td>3.92e-05</td>\n",
       "    </tr>\n",
       "    <tr>\n",
       "      <th>15</th>\n",
       "      <td> 10003</td>\n",
       "      <td> 0</td>\n",
       "      <td> 10001</td>\n",
       "      <td> 0</td>\n",
       "      <td> 7</td>\n",
       "      <td> 0</td>\n",
       "      <td> 10002</td>\n",
       "      <td> 10000</td>\n",
       "      <td> 7</td>\n",
       "      <td>    scatter</td>\n",
       "      <td>7.67e-02</td>\n",
       "      <td>2.34e-03</td>\n",
       "    </tr>\n",
       "    <tr>\n",
       "      <th>16</th>\n",
       "      <td> 10003</td>\n",
       "      <td> 0</td>\n",
       "      <td> 10001</td>\n",
       "      <td> 0</td>\n",
       "      <td> 8</td>\n",
       "      <td> 0</td>\n",
       "      <td> 10002</td>\n",
       "      <td> 10000</td>\n",
       "      <td> 8</td>\n",
       "      <td> absorption</td>\n",
       "      <td>6.49e-04</td>\n",
       "      <td>3.90e-05</td>\n",
       "    </tr>\n",
       "    <tr>\n",
       "      <th>17</th>\n",
       "      <td> 10003</td>\n",
       "      <td> 0</td>\n",
       "      <td> 10001</td>\n",
       "      <td> 0</td>\n",
       "      <td> 8</td>\n",
       "      <td> 0</td>\n",
       "      <td> 10002</td>\n",
       "      <td> 10000</td>\n",
       "      <td> 8</td>\n",
       "      <td>    scatter</td>\n",
       "      <td>8.16e-02</td>\n",
       "      <td>1.61e-03</td>\n",
       "    </tr>\n",
       "    <tr>\n",
       "      <th>18</th>\n",
       "      <td> 10003</td>\n",
       "      <td> 0</td>\n",
       "      <td> 10001</td>\n",
       "      <td> 0</td>\n",
       "      <td> 9</td>\n",
       "      <td> 0</td>\n",
       "      <td> 10002</td>\n",
       "      <td> 10000</td>\n",
       "      <td> 9</td>\n",
       "      <td> absorption</td>\n",
       "      <td>6.80e-04</td>\n",
       "      <td>3.17e-05</td>\n",
       "    </tr>\n",
       "    <tr>\n",
       "      <th>19</th>\n",
       "      <td> 10003</td>\n",
       "      <td> 0</td>\n",
       "      <td> 10001</td>\n",
       "      <td> 0</td>\n",
       "      <td> 9</td>\n",
       "      <td> 0</td>\n",
       "      <td> 10002</td>\n",
       "      <td> 10000</td>\n",
       "      <td> 9</td>\n",
       "      <td>    scatter</td>\n",
       "      <td>8.77e-02</td>\n",
       "      <td>1.96e-03</td>\n",
       "    </tr>\n",
       "  </tbody>\n",
       "</table>\n",
       "</div>"
      ],
      "text/plain": [
       "    (level 1, cell, id)  (level 1, univ, id)  (level 2, lat, id)  \\\n",
       "0                 10003                    0               10001   \n",
       "1                 10003                    0               10001   \n",
       "2                 10003                    0               10001   \n",
       "3                 10003                    0               10001   \n",
       "4                 10003                    0               10001   \n",
       "5                 10003                    0               10001   \n",
       "6                 10003                    0               10001   \n",
       "7                 10003                    0               10001   \n",
       "8                 10003                    0               10001   \n",
       "9                 10003                    0               10001   \n",
       "10                10003                    0               10001   \n",
       "11                10003                    0               10001   \n",
       "12                10003                    0               10001   \n",
       "13                10003                    0               10001   \n",
       "14                10003                    0               10001   \n",
       "15                10003                    0               10001   \n",
       "16                10003                    0               10001   \n",
       "17                10003                    0               10001   \n",
       "18                10003                    0               10001   \n",
       "19                10003                    0               10001   \n",
       "\n",
       "    (level 2, lat, x)  (level 2, lat, y)  (level 2, lat, z)  \\\n",
       "0                   0                  0                  0   \n",
       "1                   0                  0                  0   \n",
       "2                   0                  1                  0   \n",
       "3                   0                  1                  0   \n",
       "4                   0                  2                  0   \n",
       "5                   0                  2                  0   \n",
       "6                   0                  3                  0   \n",
       "7                   0                  3                  0   \n",
       "8                   0                  4                  0   \n",
       "9                   0                  4                  0   \n",
       "10                  0                  5                  0   \n",
       "11                  0                  5                  0   \n",
       "12                  0                  6                  0   \n",
       "13                  0                  6                  0   \n",
       "14                  0                  7                  0   \n",
       "15                  0                  7                  0   \n",
       "16                  0                  8                  0   \n",
       "17                  0                  8                  0   \n",
       "18                  0                  9                  0   \n",
       "19                  0                  9                  0   \n",
       "\n",
       "    (level 3, cell, id)  (level 3, univ, id)  distribcell       score  \\\n",
       "0                 10002                10000            0  absorption   \n",
       "1                 10002                10000            0     scatter   \n",
       "2                 10002                10000            1  absorption   \n",
       "3                 10002                10000            1     scatter   \n",
       "4                 10002                10000            2  absorption   \n",
       "5                 10002                10000            2     scatter   \n",
       "6                 10002                10000            3  absorption   \n",
       "7                 10002                10000            3     scatter   \n",
       "8                 10002                10000            4  absorption   \n",
       "9                 10002                10000            4     scatter   \n",
       "10                10002                10000            5  absorption   \n",
       "11                10002                10000            5     scatter   \n",
       "12                10002                10000            6  absorption   \n",
       "13                10002                10000            6     scatter   \n",
       "14                10002                10000            7  absorption   \n",
       "15                10002                10000            7     scatter   \n",
       "16                10002                10000            8  absorption   \n",
       "17                10002                10000            8     scatter   \n",
       "18                10002                10000            9  absorption   \n",
       "19                10002                10000            9     scatter   \n",
       "\n",
       "       mean  std. dev.  \n",
       "0  1.23e-04   1.19e-05  \n",
       "1  1.78e-02   8.08e-04  \n",
       "2  2.17e-04   1.96e-05  \n",
       "3  2.89e-02   1.26e-03  \n",
       "4  3.18e-04   2.03e-05  \n",
       "5  4.05e-02   1.27e-03  \n",
       "6  3.86e-04   1.80e-05  \n",
       "7  4.86e-02   1.34e-03  \n",
       "8  5.01e-04   2.60e-05  \n",
       "9  5.71e-02   1.72e-03  \n",
       "10 4.84e-04   2.58e-05  \n",
       "11 6.08e-02   1.58e-03  \n",
       "12 5.32e-04   3.90e-05  \n",
       "13 6.91e-02   2.25e-03  \n",
       "14 5.77e-04   3.92e-05  \n",
       "15 7.67e-02   2.34e-03  \n",
       "16 6.49e-04   3.90e-05  \n",
       "17 8.16e-02   1.61e-03  \n",
       "18 6.80e-04   3.17e-05  \n",
       "19 8.77e-02   1.96e-03  "
      ]
     },
     "execution_count": 34,
     "metadata": {},
     "output_type": "execute_result"
    }
   ],
   "source": [
    "# Get a pandas dataframe for the distribcell tally data\n",
    "df = tally.get_pandas_dataframe(summary=su, nuclides=False)\n",
    "\n",
    "# Print the last twenty rows in the dataframe\n",
    "df.head(20)"
   ]
  },
  {
   "cell_type": "code",
   "execution_count": 35,
   "metadata": {
    "collapsed": false
   },
   "outputs": [
    {
     "data": {
      "text/html": [
       "<div style=\"max-height:1000px;max-width:1500px;overflow:auto;\">\n",
       "<table border=\"1\" class=\"dataframe\">\n",
       "  <thead>\n",
       "    <tr style=\"text-align: right;\">\n",
       "      <th></th>\n",
       "      <th>mean</th>\n",
       "      <th>std. dev.</th>\n",
       "    </tr>\n",
       "  </thead>\n",
       "  <tbody>\n",
       "    <tr>\n",
       "      <th>count</th>\n",
       "      <td>2.89e+02</td>\n",
       "      <td>2.89e+02</td>\n",
       "    </tr>\n",
       "    <tr>\n",
       "      <th>mean</th>\n",
       "      <td>4.18e-04</td>\n",
       "      <td>2.17e-05</td>\n",
       "    </tr>\n",
       "    <tr>\n",
       "      <th>std</th>\n",
       "      <td>2.39e-04</td>\n",
       "      <td>8.82e-06</td>\n",
       "    </tr>\n",
       "    <tr>\n",
       "      <th>min</th>\n",
       "      <td>1.81e-05</td>\n",
       "      <td>3.82e-06</td>\n",
       "    </tr>\n",
       "    <tr>\n",
       "      <th>25%</th>\n",
       "      <td>2.02e-04</td>\n",
       "      <td>1.49e-05</td>\n",
       "    </tr>\n",
       "    <tr>\n",
       "      <th>50%</th>\n",
       "      <td>4.02e-04</td>\n",
       "      <td>2.11e-05</td>\n",
       "    </tr>\n",
       "    <tr>\n",
       "      <th>75%</th>\n",
       "      <td>6.15e-04</td>\n",
       "      <td>2.67e-05</td>\n",
       "    </tr>\n",
       "    <tr>\n",
       "      <th>max</th>\n",
       "      <td>8.92e-04</td>\n",
       "      <td>4.43e-05</td>\n",
       "    </tr>\n",
       "  </tbody>\n",
       "</table>\n",
       "</div>"
      ],
      "text/plain": [
       "          mean  std. dev.\n",
       "count 2.89e+02   2.89e+02\n",
       "mean  4.18e-04   2.17e-05\n",
       "std   2.39e-04   8.82e-06\n",
       "min   1.81e-05   3.82e-06\n",
       "25%   2.02e-04   1.49e-05\n",
       "50%   4.02e-04   2.11e-05\n",
       "75%   6.15e-04   2.67e-05\n",
       "max   8.92e-04   4.43e-05"
      ]
     },
     "execution_count": 35,
     "metadata": {},
     "output_type": "execute_result"
    }
   ],
   "source": [
    "# Show summary statistics for absorption distribcell tally data\n",
    "absorption = df[df['score'] == 'absorption']\n",
    "absorption[['mean', 'std. dev.']].dropna().describe()\n",
    "\n",
    "# Note that the maximum standard deviation does indeed\n",
    "# meet the 5e-4 threshold set by the tally trigger"
   ]
  },
  {
   "cell_type": "markdown",
   "metadata": {},
   "source": [
    "Perform a statistical test comparing the tally sample distributions for two categories of fuel pins."
   ]
  },
  {
   "cell_type": "code",
   "execution_count": 36,
   "metadata": {
    "collapsed": false
   },
   "outputs": [
    {
     "name": "stdout",
     "output_type": "stream",
     "text": [
      "Mann-Whitney Test p-value: 0.414863173548\n"
     ]
    }
   ],
   "source": [
    "# Extract tally data from pins in the pins divided along y=x diagonal \n",
    "multi_index = ('level 2', 'lat',)\n",
    "lower = df[df[multi_index + ('x',)] + df[multi_index + ('y',)] < 16]\n",
    "upper = df[df[multi_index + ('x',)] + df[multi_index + ('y',)] > 16]\n",
    "lower = lower[lower['score'] == 'absorption']\n",
    "upper = upper[upper['score'] == 'absorption']\n",
    "\n",
    "# Perform non-parametric Mann-Whitney U Test to see if the \n",
    "# absorption rates (may) come from same sampling distribution\n",
    "u, p = scipy.stats.mannwhitneyu(lower['mean'], upper['mean'])\n",
    "print('Mann-Whitney Test p-value: {0}'.format(p))"
   ]
  },
  {
   "cell_type": "markdown",
   "metadata": {},
   "source": [
    "Note that the symmetry implied by the y=x diagonal ensures that the two sampling distributions are identical. Indeed, as illustrated by the test above, for any reasonable significance level (*e.g.*, $\\alpha$=0.05) one would **not reject** the null hypothesis that the two sampling distributions are identical.\n",
    "\n",
    "Next, perform the same test but with two groupings of pins which are not symmetrically identical to one another."
   ]
  },
  {
   "cell_type": "code",
   "execution_count": 37,
   "metadata": {
    "collapsed": false
   },
   "outputs": [
    {
     "name": "stdout",
     "output_type": "stream",
     "text": [
      "Mann-Whitney Test p-value: 3.28554363741e-42\n"
     ]
    }
   ],
   "source": [
    "# Extract tally data from pins in the pins divided along y=-x diagonal\n",
    "multi_index = ('level 2', 'lat',)\n",
    "lower = df[df[multi_index + ('x',)] > df[multi_index + ('y',)]]\n",
    "upper = df[df[multi_index + ('x',)] < df[multi_index + ('y',)]]\n",
    "lower = lower[lower['score'] == 'absorption']\n",
    "upper = upper[upper['score'] == 'absorption']\n",
    "\n",
    "# Perform non-parametric Mann-Whitney U Test to see if the \n",
    "# absorption rates (may) come from same sampling distribution\n",
    "u, p = scipy.stats.mannwhitneyu(lower['mean'], upper['mean'])\n",
    "print('Mann-Whitney Test p-value: {0}'.format(p))"
   ]
  },
  {
   "cell_type": "markdown",
   "metadata": {},
   "source": [
    "Note that the asymmetry implied by the y=-x diagonal ensures that the two sampling distributions are *not* identical. Indeed, as illustrated by the test above, for any reasonable significance level (*e.g.*, $\\alpha$=0.05) one would **reject** the null hypothesis that the two sampling distributions are identical."
   ]
  },
  {
   "cell_type": "code",
   "execution_count": 38,
   "metadata": {
    "collapsed": false
   },
   "outputs": [
    {
     "name": "stderr",
     "output_type": "stream",
     "text": [
      "/home/smharper/.local/lib/python2.7/site-packages/ipykernel/__main__.py:4: SettingWithCopyWarning: \n",
      "A value is trying to be set on a copy of a slice from a DataFrame.\n",
      "Try using .loc[row_indexer,col_indexer] = value instead\n",
      "\n",
      "See the the caveats in the documentation: http://pandas.pydata.org/pandas-docs/stable/indexing.html#indexing-view-versus-copy\n"
     ]
    },
    {
     "data": {
      "text/plain": [
       "<matplotlib.axes._subplots.AxesSubplot at 0x7f4696f3d110>"
      ]
     },
     "execution_count": 38,
     "metadata": {},
     "output_type": "execute_result"
    },
    {
     "data": {
      "image/png": "[encoded data removed]",
      "text/plain": [
       "<matplotlib.figure.Figure at 0x7f4696faabd0>"
      ]
     },
     "metadata": {},
     "output_type": "display_data"
    }
   ],
   "source": [
    "# Extract the scatter tally data from pandas\n",
    "scatter = df[df['score'] == 'scatter']\n",
    "\n",
    "scatter['rel. err.'] = scatter['std. dev.'] / scatter['mean']\n",
    "\n",
    "# Show a scatter plot of the mean vs. the std. dev.\n",
    "scatter.plot(kind='scatter', x='mean', y='rel. err.', title='Scattering Rates')"
   ]
  },
  {
   "cell_type": "code",
   "execution_count": 39,
   "metadata": {
    "collapsed": false
   },
   "outputs": [
    {
     "data": {
      "text/plain": [
       "<matplotlib.legend.Legend at 0x7f4696ec8e90>"
      ]
     },
     "execution_count": 39,
     "metadata": {},
     "output_type": "execute_result"
    },
    {
     "data": {
      "image/png": "[encoded data removed]",
      "text/plain": [
       "<matplotlib.figure.Figure at 0x7f469a9edc90>"
      ]
     },
     "metadata": {},
     "output_type": "display_data"
    }
   ],
   "source": [
    "# Plot a histogram and kernel density estimate for the scattering rates\n",
    "scatter['mean'].plot(kind='hist', bins=25)\n",
    "scatter['mean'].plot(kind='kde')\n",
    "pylab.title('Scattering Rates')\n",
    "pylab.xlabel('Mean')\n",
    "pylab.legend(['KDE', 'Histogram'])"
   ]
  }
 ],
 "metadata": {
  "kernelspec": {
   "display_name": "Python 2",
   "language": "python",
   "name": "python2"
  },
  "language_info": {
   "codemirror_mode": {
    "name": "ipython",
    "version": 2
   },
   "file_extension": ".py",
   "mimetype": "text/x-python",
   "name": "python",
   "nbconvert_exporter": "python",
   "pygments_lexer": "ipython2",
   "version": "2.7.10"
  }
 },
 "nbformat": 4,
 "nbformat_minor": 0
}
