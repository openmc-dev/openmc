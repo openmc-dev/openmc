{
 "cells": [
  {
   "cell_type": "markdown",
   "metadata": {},
   "source": [
    "This notebook shows the how tallies can be combined (added, subtracted, multiplied, etc.) using the Python API in order to create derived tallies. Since no covariance information is obtained, it is assumed that tallies are completely independent of one another when propagating uncertainties. The target problem is a simple pin cell.\n",
    "\n",
    "**Note:** that this Notebook was created using the latest Pandas v0.16.1. Everything in the Notebook will wun with older versions of Pandas, but the multi-indexing option in >v0.15.0 makes the tables look prettier."
   ]
  },
  {
   "cell_type": "code",
   "execution_count": 1,
   "metadata": {
    "collapsed": false
   },
   "outputs": [],
   "source": [
    "%load_ext autoreload\n",
    "%autoreload 2"
   ]
  },
  {
   "cell_type": "code",
   "execution_count": 2,
   "metadata": {
    "collapsed": false
   },
   "outputs": [],
   "source": [
    "import glob\n",
    "from IPython.display import Image\n",
    "import numpy as np\n",
    "\n",
    "import openmc\n",
    "from openmc.statepoint import StatePoint\n",
    "from openmc.summary import Summary\n",
    "\n",
    "%matplotlib inline"
   ]
  },
  {
   "cell_type": "markdown",
   "metadata": {},
   "source": [
    "## Generate Input Files"
   ]
  },
  {
   "cell_type": "markdown",
   "metadata": {},
   "source": [
    "First we need to define materials that will be used in the problem. Before defining a material, we must create nuclides that are used in the material."
   ]
  },
  {
   "cell_type": "code",
   "execution_count": 3,
   "metadata": {
    "collapsed": true
   },
   "outputs": [],
   "source": [
    "# Instantiate some Nuclides\n",
    "h1 = openmc.Nuclide('H-1')\n",
    "b10 = openmc.Nuclide('B-10')\n",
    "o16 = openmc.Nuclide('O-16')\n",
    "u235 = openmc.Nuclide('U-235')\n",
    "u238 = openmc.Nuclide('U-238')\n",
    "zr90 = openmc.Nuclide('Zr-90')"
   ]
  },
  {
   "cell_type": "markdown",
   "metadata": {},
   "source": [
    "With the nuclides we defined, we will now create three materials for the fuel, water, and cladding of the fuel pin."
   ]
  },
  {
   "cell_type": "code",
   "execution_count": 4,
   "metadata": {
    "collapsed": false
   },
   "outputs": [],
   "source": [
    "# 1.6 enriched fuel\n",
    "fuel = openmc.Material(name='1.6% Fuel')\n",
    "fuel.set_density('g/cm3', 10.31341)\n",
    "fuel.add_nuclide(u235, 3.7503e-4)\n",
    "fuel.add_nuclide(u238, 2.2625e-2)\n",
    "fuel.add_nuclide(o16, 4.6007e-2)\n",
    "\n",
    "# borated water\n",
    "water = openmc.Material(name='Borated Water')\n",
    "water.set_density('g/cm3', 0.740582)\n",
    "water.add_nuclide(h1, 4.9457e-2)\n",
    "water.add_nuclide(o16, 2.4732e-2)\n",
    "water.add_nuclide(b10, 8.0042e-6)\n",
    "\n",
    "# zircaloy\n",
    "zircaloy = openmc.Material(name='Zircaloy')\n",
    "zircaloy.set_density('g/cm3', 6.55)\n",
    "zircaloy.add_nuclide(zr90, 7.2758e-3)"
   ]
  },
  {
   "cell_type": "markdown",
   "metadata": {},
   "source": [
    "With our three materials, we can now create a materials file object that can be exported to an actual XML file."
   ]
  },
  {
   "cell_type": "code",
   "execution_count": 5,
   "metadata": {
    "collapsed": false
   },
   "outputs": [],
   "source": [
    "# Instantiate a MaterialsFile, add Materials\n",
    "materials_file = openmc.MaterialsFile()\n",
    "materials_file.add_material(fuel)\n",
    "materials_file.add_material(water)\n",
    "materials_file.add_material(zircaloy)\n",
    "materials_file.default_xs = '71c'\n",
    "\n",
    "# Export to \"materials.xml\"\n",
    "materials_file.export_to_xml()"
   ]
  },
  {
   "cell_type": "markdown",
   "metadata": {},
   "source": [
    "Now let's move on to the geometry. Our problem will have three regions for the fuel, the clad, and the surrounding coolant. The first step is to create the bounding surfaces -- in this case two cylinders and six reflective planes."
   ]
  },
  {
   "cell_type": "code",
   "execution_count": 6,
   "metadata": {
    "collapsed": false
   },
   "outputs": [],
   "source": [
    "# Create cylinders for the fuel and clad\n",
    "fuel_outer_radius = openmc.ZCylinder(x0=0.0, y0=0.0, R=0.39218)\n",
    "clad_outer_radius = openmc.ZCylinder(x0=0.0, y0=0.0, R=0.45720)\n",
    "\n",
    "# Create boundary planes to surround the geometry\n",
    "# Use both reflective and vacuum boundaries to make life interesting\n",
    "min_x = openmc.XPlane(x0=-0.63, boundary_type='reflective')\n",
    "max_x = openmc.XPlane(x0=+0.63, boundary_type='reflective')\n",
    "min_y = openmc.YPlane(y0=-0.63, boundary_type='reflective')\n",
    "max_y = openmc.YPlane(y0=+0.63, boundary_type='reflective')\n",
    "min_z = openmc.ZPlane(z0=-0.63, boundary_type='reflective')\n",
    "max_z = openmc.ZPlane(z0=+0.63, boundary_type='reflective')"
   ]
  },
  {
   "cell_type": "markdown",
   "metadata": {},
   "source": [
    "With the surfaces defined, we can now create cells that are defined by intersections of half-spaces created by the surfaces."
   ]
  },
  {
   "cell_type": "code",
   "execution_count": 7,
   "metadata": {
    "collapsed": false
   },
   "outputs": [],
   "source": [
    "# Create a Universe to encapsulate a fuel pin\n",
    "pin_cell_universe = openmc.Universe(name='1.6% Fuel Pin')\n",
    "\n",
    "# Create fuel Cell\n",
    "fuel_cell = openmc.Cell(name='1.6% Fuel')\n",
    "fuel_cell.fill = fuel\n",
    "fuel_cell.add_surface(fuel_outer_radius, halfspace=-1)\n",
    "pin_cell_universe.add_cell(fuel_cell)\n",
    "\n",
    "# Create a clad Cell\n",
    "clad_cell = openmc.Cell(name='1.6% Clad')\n",
    "clad_cell.fill = zircaloy\n",
    "clad_cell.add_surface(fuel_outer_radius, halfspace=+1)\n",
    "clad_cell.add_surface(clad_outer_radius, halfspace=-1)\n",
    "pin_cell_universe.add_cell(clad_cell)\n",
    "\n",
    "# Create a moderator Cell\n",
    "moderator_cell = openmc.Cell(name='1.6% Moderator')\n",
    "moderator_cell.fill = water\n",
    "moderator_cell.add_surface(clad_outer_radius, halfspace=+1)\n",
    "pin_cell_universe.add_cell(moderator_cell)"
   ]
  },
  {
   "cell_type": "markdown",
   "metadata": {},
   "source": [
    "OpenMC requires that there is a \"root\" universe. Let us create a root cell that is filled by the pin cell universe and then assign it to the root universe."
   ]
  },
  {
   "cell_type": "code",
   "execution_count": 8,
   "metadata": {
    "collapsed": false
   },
   "outputs": [],
   "source": [
    "# Create root Cell\n",
    "root_cell = openmc.Cell(name='root cell')\n",
    "root_cell.fill = pin_cell_universe\n",
    "\n",
    "# Add boundary planes\n",
    "root_cell.add_surface(min_x, halfspace=+1)\n",
    "root_cell.add_surface(max_x, halfspace=-1)\n",
    "root_cell.add_surface(min_y, halfspace=+1)\n",
    "root_cell.add_surface(max_y, halfspace=-1)\n",
    "root_cell.add_surface(min_z, halfspace=+1)\n",
    "root_cell.add_surface(max_z, halfspace=-1)\n",
    "\n",
    "# Create root Universe\n",
    "root_universe = openmc.Universe(universe_id=0, name='root universe')\n",
    "root_universe.add_cell(root_cell)"
   ]
  },
  {
   "cell_type": "markdown",
   "metadata": {},
   "source": [
    "We now must create a geometry that is assigned a root universe, put the geometry into a geometry file, and export it to XML."
   ]
  },
  {
   "cell_type": "code",
   "execution_count": 9,
   "metadata": {
    "collapsed": false
   },
   "outputs": [],
   "source": [
    "# Create Geometry and set root Universe\n",
    "geometry = openmc.Geometry()\n",
    "geometry.root_universe = root_universe"
   ]
  },
  {
   "cell_type": "code",
   "execution_count": 10,
   "metadata": {
    "collapsed": false
   },
   "outputs": [],
   "source": [
    "# Instantiate a GeometryFile\n",
    "geometry_file = openmc.GeometryFile()\n",
    "geometry_file.geometry = geometry\n",
    "\n",
    "# Export to \"geometry.xml\"\n",
    "geometry_file.export_to_xml()"
   ]
  },
  {
   "cell_type": "markdown",
   "metadata": {},
   "source": [
    "With the geometry and materials finished, we now just need to define simulation parameters. In this case, we will use 5 inactive batches and 15 active batches each with 2500 particles."
   ]
  },
  {
   "cell_type": "code",
   "execution_count": 11,
   "metadata": {
    "collapsed": true
   },
   "outputs": [],
   "source": [
    "# OpenMC simulation parameters\n",
    "batches = 20\n",
    "inactive = 5\n",
    "particles = 2500\n",
    "\n",
    "# Instantiate a SettingsFile\n",
    "settings_file = openmc.SettingsFile()\n",
    "settings_file.batches = batches\n",
    "settings_file.inactive = inactive\n",
    "settings_file.particles = particles\n",
    "settings_file.output = {'tallies': True, 'summary': True}\n",
    "source_bounds = [-0.63, -0.63, -10, 0.63, 0.63, 10.]\n",
    "settings_file.set_source_space('box', source_bounds)\n",
    "\n",
    "# Export to \"settings.xml\"\n",
    "settings_file.export_to_xml()"
   ]
  },
  {
   "cell_type": "markdown",
   "metadata": {},
   "source": [
    "Let us also create a plot file that we can use to verify that our pin cell geometry was created successfully."
   ]
  },
  {
   "cell_type": "code",
   "execution_count": 12,
   "metadata": {
    "collapsed": false
   },
   "outputs": [],
   "source": [
    "# Instantiate a Plot\n",
    "plot = openmc.Plot(plot_id=1)\n",
    "plot.filename = 'materials-xy'\n",
    "plot.origin = [0, 0, 0]\n",
    "plot.width = [1.26, 1.26]\n",
    "plot.pixels = [250, 250]\n",
    "plot.color = 'mat'\n",
    "\n",
    "# Instantiate a PlotsFile, add Plot, and export to \"plots.xml\"\n",
    "plot_file = openmc.PlotsFile()\n",
    "plot_file.add_plot(plot)\n",
    "plot_file.export_to_xml()"
   ]
  },
  {
   "cell_type": "markdown",
   "metadata": {},
   "source": [
    "With the plots.xml file, we can now generate and view the plot. OpenMC outputs plots in .ppm format, which can be converted into a compressed format like .png with the convert utility."
   ]
  },
  {
   "cell_type": "code",
   "execution_count": 13,
   "metadata": {
    "collapsed": false
   },
   "outputs": [],
   "source": [
    "# Run openmc in plotting mode\n",
    "executor = openmc.Executor()\n",
    "executor.plot_geometry(output=False)"
   ]
  },
  {
   "cell_type": "code",
   "execution_count": 14,
   "metadata": {
    "collapsed": false
   },
   "outputs": [
    {
     "data": {
      "image/png": "[encoded data removed]",
      "text/plain": [
       "<IPython.core.display.Image object>"
      ]
     },
     "execution_count": 14,
     "metadata": {},
     "output_type": "execute_result"
    }
   ],
   "source": [
    "# Convert OpenMC's funky ppm to png\n",
    "!convert materials-xy.ppm materials-xy.png\n",
    "\n",
    "# Display the materials plot inline\n",
    "Image(filename='materials-xy.png')"
   ]
  },
  {
   "cell_type": "markdown",
   "metadata": {},
   "source": [
    "As we can see from the plot, we have a nice pin cell with fuel, cladding, and water! Before we run our simulation, we need to tell the code what we want to tally. The following code shows how to create a variety of tallies."
   ]
  },
  {
   "cell_type": "code",
   "execution_count": 15,
   "metadata": {
    "collapsed": true
   },
   "outputs": [],
   "source": [
    "# Instantiate an empty TalliesFile\n",
    "tallies_file = openmc.TalliesFile()\n",
    "tallies_file.tallies = []"
   ]
  },
  {
   "cell_type": "code",
   "execution_count": 16,
   "metadata": {
    "collapsed": false
   },
   "outputs": [],
   "source": [
    "# Create Tallies to compute microscopic multi-group cross-sections\n",
    "\n",
    "# Instantiate energy filter for multi-group cross-section Tallies\n",
    "energy_filter = openmc.Filter(type='energy', bins=[0., 0.625e-6, 20.])\n",
    "\n",
    "# Instantiate flux Tally in moderator and fuel\n",
    "tally = openmc.Tally(name='flux')\n",
    "tally.add_filter(openmc.Filter(type='cell', bins=[fuel_cell.id, moderator_cell.id]))\n",
    "tally.add_filter(energy_filter)\n",
    "tally.add_score('flux')\n",
    "tallies_file.add_tally(tally)\n",
    "\n",
    "# Instantiate reaction rate Tally in fuel\n",
    "tally = openmc.Tally(name='fuel rxn rates')\n",
    "tally.add_filter(openmc.Filter(type='cell', bins=[fuel_cell.id]))\n",
    "tally.add_filter(energy_filter)\n",
    "tally.add_score('nu-fission')\n",
    "tally.add_score('scatter')\n",
    "tally.add_nuclide(u238)\n",
    "tally.add_nuclide(u235)\n",
    "tallies_file.add_tally(tally)\n",
    "\n",
    "# Instantiate reaction rate Tally in moderator\n",
    "tally = openmc.Tally(name='moderator rxn rates')\n",
    "tally.add_filter(openmc.Filter(type='cell', bins=[moderator_cell.id]))\n",
    "tally.add_filter(energy_filter)\n",
    "tally.add_score('absorption')\n",
    "tally.add_score('total')\n",
    "tally.add_nuclide(o16)\n",
    "tally.add_nuclide(h1)\n",
    "tallies_file.add_tally(tally)"
   ]
  },
  {
   "cell_type": "code",
   "execution_count": 17,
   "metadata": {
    "collapsed": true
   },
   "outputs": [],
   "source": [
    "# K-Eigenvalue (infinity) tallies\n",
    "fiss_rate = openmc.Tally(name='fiss. rate')\n",
    "abs_rate = openmc.Tally(name='abs. rate')\n",
    "fiss_rate.add_score('nu-fission')\n",
    "abs_rate.add_score('absorption')\n",
    "tallies_file.add_tally(fiss_rate)\n",
    "tallies_file.add_tally(abs_rate)"
   ]
  },
  {
   "cell_type": "code",
   "execution_count": 18,
   "metadata": {
    "collapsed": false
   },
   "outputs": [],
   "source": [
    "# Resonance Escape Probability tallies\n",
    "therm_abs_rate = openmc.Tally(name='therm. abs. rate')\n",
    "therm_abs_rate.add_score('absorption')\n",
    "therm_abs_rate.add_filter(openmc.Filter(type='energy', bins=[0., 0.625]))\n",
    "tallies_file.add_tally(therm_abs_rate)"
   ]
  },
  {
   "cell_type": "code",
   "execution_count": 19,
   "metadata": {
    "collapsed": false
   },
   "outputs": [],
   "source": [
    "# Thermal Flux Utilization tallies\n",
    "fuel_therm_abs_rate = openmc.Tally(name='fuel therm. abs. rate')\n",
    "fuel_therm_abs_rate.add_score('absorption')\n",
    "fuel_therm_abs_rate.add_filter(openmc.Filter(type='energy', bins=[0., 0.625]))\n",
    "fuel_therm_abs_rate.add_filter(openmc.Filter(type='cell', bins=[fuel_cell.id]))\n",
    "tallies_file.add_tally(fuel_therm_abs_rate)"
   ]
  },
  {
   "cell_type": "code",
   "execution_count": 20,
   "metadata": {
    "collapsed": true
   },
   "outputs": [],
   "source": [
    "# Fast Fission Factor tallies\n",
    "therm_fiss_rate = openmc.Tally(name='therm. fiss. rate')\n",
    "therm_fiss_rate.add_score('nu-fission')\n",
    "therm_fiss_rate.add_filter(openmc.Filter(type='energy', bins=[0., 0.625]))\n",
    "tallies_file.add_tally(therm_fiss_rate)"
   ]
  },
  {
   "cell_type": "code",
   "execution_count": 21,
   "metadata": {
    "collapsed": true
   },
   "outputs": [],
   "source": [
    "# Instantiate energy filter to illustrate Tally slicing\n",
    "energy_filter = openmc.Filter(type='energy', bins=np.logspace(np.log10(1e-8), np.log10(20), 10))\n",
    "\n",
    "# Instantiate flux Tally in moderator and fuel\n",
    "tally = openmc.Tally(name='need-to-slice')\n",
    "tally.add_filter(openmc.Filter(type='cell', bins=[fuel_cell.id, moderator_cell.id]))\n",
    "tally.add_filter(energy_filter)\n",
    "tally.add_score('nu-fission')\n",
    "tally.add_score('scatter')\n",
    "tally.add_nuclide(h1)\n",
    "tally.add_nuclide(u238)\n",
    "tallies_file.add_tally(tally)"
   ]
  },
  {
   "cell_type": "code",
   "execution_count": 22,
   "metadata": {
    "collapsed": true
   },
   "outputs": [],
   "source": [
    "# Export to \"tallies.xml\"\n",
    "tallies_file.export_to_xml()"
   ]
  },
  {
   "cell_type": "markdown",
   "metadata": {},
   "source": [
    "Now we a have a complete set of inputs, so we can go ahead and run our simulation."
   ]
  },
  {
   "cell_type": "code",
   "execution_count": 23,
   "metadata": {
    "collapsed": false,
    "scrolled": true
   },
   "outputs": [
    {
     "name": "stdout",
     "output_type": "stream",
     "text": [
      "\n",
      "       .d88888b.                             888b     d888  .d8888b.\n",
      "      d88P\" \"Y88b                            8888b   d8888 d88P  Y88b\n",
      "      888     888                            88888b.d88888 888    888\n",
      "      888     888 88888b.   .d88b.  88888b.  888Y88888P888 888       \n",
      "      888     888 888 \"88b d8P  Y8b 888 \"88b 888 Y888P 888 888       \n",
      "      888     888 888  888 88888888 888  888 888  Y8P  888 888    888\n",
      "      Y88b. .d88P 888 d88P Y8b.     888  888 888   \"   888 Y88b  d88P\n",
      "       \"Y88888P\"  88888P\"   \"Y8888  888  888 888       888  \"Y8888P\"\n",
      "__________________888______________________________________________________\n",
      "                  888\n",
      "                  888\n",
      "\n",
      "      Copyright:      2011-2015 Massachusetts Institute of Technology\n",
      "      License:        http://mit-crpg.github.io/openmc/license.html\n",
      "      Version:        0.6.2\n",
      "      Date/Time:      2015-08-12 08:58:22\n",
      "      MPI Processes:  4\n",
      "\n",
      " ===========================================================================\n",
      " ========================>     INITIALIZATION     <=========================\n",
      " ===========================================================================\n",
      "\n",
      " Reading settings XML file...\n",
      " Reading cross sections XML file...\n",
      " Reading geometry XML file...\n",
      " Reading materials XML file...\n",
      " Reading tallies XML file...\n",
      " Building neighboring cells lists for each surface...\n",
      " Loading ACE cross section table: 92238.71c\n",
      " Loading ACE cross section table: 8016.71c\n",
      " Loading ACE cross section table: 92235.71c\n",
      " Loading ACE cross section table: 5010.71c\n",
      " Loading ACE cross section table: 1001.71c\n",
      " Loading ACE cross section table: 40090.71c\n",
      " Initializing source particles...\n",
      "\n",
      " ===========================================================================\n",
      " ====================>     K EIGENVALUE SIMULATION     <====================\n",
      " ===========================================================================\n",
      "\n",
      "  Bat./Gen.      k            Average k         \n",
      "  =========   ========   ====================   \n",
      "        1/1    1.04944                       \n",
      "        2/1    1.03451                       \n",
      "        3/1    1.06490                       \n",
      "        4/1    1.04020                       \n",
      "        5/1    1.03270                       \n",
      "        6/1    1.09507                       \n",
      "        7/1    1.06827    1.08167 +/- 0.01340\n",
      "        8/1    1.06089    1.07474 +/- 0.01038\n",
      "        9/1    1.03806    1.06557 +/- 0.01175\n",
      "       10/1    1.05032    1.06252 +/- 0.00960\n",
      "       11/1    1.03259    1.05753 +/- 0.00929\n",
      "       12/1    1.02588    1.05301 +/- 0.00906\n",
      "       13/1    1.03872    1.05123 +/- 0.00805\n",
      "       14/1    1.05396    1.05153 +/- 0.00710\n",
      "       15/1    1.03818    1.05019 +/- 0.00649\n",
      "       16/1    1.05015    1.05019 +/- 0.00587\n",
      "       17/1    1.01418    1.04719 +/- 0.00614\n",
      "       18/1    1.07342    1.04921 +/- 0.00600\n",
      "       19/1    1.03023    1.04785 +/- 0.00572\n",
      "       20/1    1.05405    1.04827 +/- 0.00534\n",
      " Creating state point statepoint.20.h5...\n",
      "\n",
      " ===========================================================================\n",
      " ======================>     SIMULATION FINISHED     <======================\n",
      " ===========================================================================\n",
      "\n",
      "\n",
      " =======================>     TIMING STATISTICS     <=======================\n",
      "\n",
      " Total time for initialization     =  9.7500E-01 seconds\n",
      "   Reading cross sections          =  2.8800E-01 seconds\n",
      " Total time in simulation          =  8.2720E+00 seconds\n",
      "   Time in transport only          =  7.8820E+00 seconds\n",
      "   Time in inactive batches        =  1.0260E+00 seconds\n",
      "   Time in active batches          =  7.2460E+00 seconds\n",
      "   Time synchronizing fission bank =  1.9500E-01 seconds\n",
      "     Sampling source sites         =  2.0000E-03 seconds\n",
      "     SEND/RECV source sites        =  0.0000E+00 seconds\n",
      "   Time accumulating tallies       =  0.0000E+00 seconds\n",
      " Total time for finalization       =  2.0000E-03 seconds\n",
      " Total time elapsed                =  9.2580E+00 seconds\n",
      " Calculation Rate (inactive)       =  12183.2 neutrons/second\n",
      " Calculation Rate (active)         =  5175.27 neutrons/second\n",
      "\n",
      " ============================>     RESULTS     <============================\n",
      "\n",
      " k-effective (Collision)     =  1.04399 +/-  0.00515\n",
      " k-effective (Track-length)  =  1.04827 +/-  0.00534\n",
      " k-effective (Absorption)    =  1.03932 +/-  0.00588\n",
      " Combined k-effective        =  1.04364 +/-  0.00533\n",
      " Leakage Fraction            =  0.00000 +/-  0.00000\n",
      "\n"
     ]
    },
    {
     "data": {
      "text/plain": [
       "0"
      ]
     },
     "execution_count": 23,
     "metadata": {},
     "output_type": "execute_result"
    }
   ],
   "source": [
    "# Remove old HDF5 (summary, statepoint) files\n",
    "!rm statepoint.*\n",
    "\n",
    "# Run OpenMC with MPI!\n",
    "executor.run_simulation(mpi_procs=4)"
   ]
  },
  {
   "cell_type": "markdown",
   "metadata": {},
   "source": [
    "## Tally Data Processing"
   ]
  },
  {
   "cell_type": "markdown",
   "metadata": {},
   "source": [
    "Our simulation ran successfully and created a statepoint file with all the tally data in it. We begin our analysis here loading the statepoint file and 'reading' the results. By default, the tally results are not read into memory because they might be large, even large enough to exceed the available memory on a computer."
   ]
  },
  {
   "cell_type": "code",
   "execution_count": 24,
   "metadata": {
    "collapsed": false,
    "scrolled": true
   },
   "outputs": [],
   "source": [
    "# Load the statepoint file\n",
    "sp = StatePoint('statepoint.20.h5')\n",
    "sp.read_results()"
   ]
  },
  {
   "cell_type": "markdown",
   "metadata": {},
   "source": [
    "You may have also noticed we instructed OpenMC to create a summary file with lots of geometry information in it. This can help to produce more sensible output from the Python API, so we will use the summary file to link against."
   ]
  },
  {
   "cell_type": "code",
   "execution_count": 25,
   "metadata": {
    "collapsed": false,
    "scrolled": true
   },
   "outputs": [],
   "source": [
    "# Load the summary file and link with statepoint\n",
    "su = Summary('summary.h5')\n",
    "sp.link_with_summary(su)"
   ]
  },
  {
   "cell_type": "markdown",
   "metadata": {},
   "source": [
    "We have a tally of the total fission rate and the total absorption rate, so we can calculate k-infinity as:\n",
    "$$k_\\infty = \\frac{\\langle \\nu \\Sigma_f \\phi \\rangle}{\\langle \\Sigma_a \\phi \\rangle}$$\n",
    "In this notation, $\\langle \\cdot \\rangle^a_b$ represents an OpenMC that is integrated over region $a$ and energy range $b$. If $a$ or $b$ is not reported, it means the value represents an integral over all space or all energy, respectively."
   ]
  },
  {
   "cell_type": "code",
   "execution_count": 26,
   "metadata": {
    "collapsed": false
   },
   "outputs": [
    {
     "data": {
      "text/html": [
       "<div style=\"max-height:1000px;max-width:1500px;overflow:auto;\">\n",
       "<table border=\"1\" class=\"dataframe\">\n",
       "  <thead>\n",
       "    <tr style=\"text-align: right;\">\n",
       "      <th></th>\n",
       "      <th>nuclide</th>\n",
       "      <th>score</th>\n",
       "      <th>mean</th>\n",
       "      <th>std. dev.</th>\n",
       "    </tr>\n",
       "    <tr>\n",
       "      <th>bin</th>\n",
       "      <th></th>\n",
       "      <th></th>\n",
       "      <th></th>\n",
       "      <th></th>\n",
       "    </tr>\n",
       "  </thead>\n",
       "  <tbody>\n",
       "    <tr>\n",
       "      <th>0</th>\n",
       "      <td>total</td>\n",
       "      <td>(nu-fission / absorption)</td>\n",
       "      <td>1.042035</td>\n",
       "      <td>0.006584</td>\n",
       "    </tr>\n",
       "  </tbody>\n",
       "</table>\n",
       "</div>"
      ],
      "text/plain": [
       "    nuclide                      score      mean  std. dev.\n",
       "bin                                                        \n",
       "0     total  (nu-fission / absorption)  1.042035   0.006584"
      ]
     },
     "execution_count": 26,
     "metadata": {},
     "output_type": "execute_result"
    }
   ],
   "source": [
    "# Compute k-infinity using tally arithmetic\n",
    "fiss_rate = sp.get_tally(name='fiss. rate')\n",
    "abs_rate = sp.get_tally(name='abs. rate')\n",
    "keff = fiss_rate / abs_rate\n",
    "keff.get_pandas_dataframe()"
   ]
  },
  {
   "cell_type": "markdown",
   "metadata": {},
   "source": [
    "Notice that even though the neutron production rate and absorption rate are separate tallies, we still get a first-order estimate of the uncertainty on the quotient of them automatically!\n",
    "\n",
    "Often in textbooks you'll see k-infinity represented using the four-factor formula $$k_\\infty = p \\epsilon f \\eta.$$ Let's analyze each of these factors, starting with the resonance escape probability which is defined as $$p=\\frac{\\langle\\Sigma_a\\phi\\rangle_T}{\\langle\\Sigma_a\\phi\\rangle}$$ where the subscript $T$ means thermal energies."
   ]
  },
  {
   "cell_type": "code",
   "execution_count": 27,
   "metadata": {
    "collapsed": false
   },
   "outputs": [
    {
     "data": {
      "text/html": [
       "<div style=\"max-height:1000px;max-width:1500px;overflow:auto;\">\n",
       "<table border=\"1\" class=\"dataframe\">\n",
       "  <thead>\n",
       "    <tr style=\"text-align: right;\">\n",
       "      <th></th>\n",
       "      <th>nuclide</th>\n",
       "      <th>score</th>\n",
       "      <th>mean</th>\n",
       "      <th>std. dev.</th>\n",
       "    </tr>\n",
       "    <tr>\n",
       "      <th>bin</th>\n",
       "      <th></th>\n",
       "      <th></th>\n",
       "      <th></th>\n",
       "      <th></th>\n",
       "    </tr>\n",
       "  </thead>\n",
       "  <tbody>\n",
       "    <tr>\n",
       "      <th>0</th>\n",
       "      <td>total</td>\n",
       "      <td>absorption</td>\n",
       "      <td>0.959067</td>\n",
       "      <td>0.00517</td>\n",
       "    </tr>\n",
       "  </tbody>\n",
       "</table>\n",
       "</div>"
      ],
      "text/plain": [
       "    nuclide       score      mean  std. dev.\n",
       "bin                                         \n",
       "0     total  absorption  0.959067    0.00517"
      ]
     },
     "execution_count": 27,
     "metadata": {},
     "output_type": "execute_result"
    }
   ],
   "source": [
    "# Compute resonance escape probability using tally arithmetic\n",
    "therm_abs_rate = sp.get_tally(name='therm. abs. rate')\n",
    "res_esc = therm_abs_rate / abs_rate\n",
    "res_esc.get_pandas_dataframe()"
   ]
  },
  {
   "cell_type": "markdown",
   "metadata": {},
   "source": [
    "The fast fission factor can be calculated as\n",
    "$$\\epsilon=\\frac{\\langle\\nu\\Sigma_f\\phi\\rangle}{\\langle\\nu\\Sigma_f\\phi\\rangle_T}$$"
   ]
  },
  {
   "cell_type": "code",
   "execution_count": 28,
   "metadata": {
    "collapsed": false
   },
   "outputs": [
    {
     "data": {
      "text/html": [
       "<div style=\"max-height:1000px;max-width:1500px;overflow:auto;\">\n",
       "<table border=\"1\" class=\"dataframe\">\n",
       "  <thead>\n",
       "    <tr style=\"text-align: right;\">\n",
       "      <th></th>\n",
       "      <th>nuclide</th>\n",
       "      <th>score</th>\n",
       "      <th>mean</th>\n",
       "      <th>std. dev.</th>\n",
       "    </tr>\n",
       "    <tr>\n",
       "      <th>bin</th>\n",
       "      <th></th>\n",
       "      <th></th>\n",
       "      <th></th>\n",
       "      <th></th>\n",
       "    </tr>\n",
       "  </thead>\n",
       "  <tbody>\n",
       "    <tr>\n",
       "      <th>0</th>\n",
       "      <td>total</td>\n",
       "      <td>nu-fission</td>\n",
       "      <td>1.09144</td>\n",
       "      <td>0.008201</td>\n",
       "    </tr>\n",
       "  </tbody>\n",
       "</table>\n",
       "</div>"
      ],
      "text/plain": [
       "    nuclide       score     mean  std. dev.\n",
       "bin                                        \n",
       "0     total  nu-fission  1.09144   0.008201"
      ]
     },
     "execution_count": 28,
     "metadata": {},
     "output_type": "execute_result"
    }
   ],
   "source": [
    "# Compute fast fission factor factor using tally arithmetic\n",
    "therm_fiss_rate = sp.get_tally(name='therm. fiss. rate')\n",
    "fast_fiss = fiss_rate / therm_fiss_rate\n",
    "fast_fiss.get_pandas_dataframe()"
   ]
  },
  {
   "cell_type": "markdown",
   "metadata": {},
   "source": [
    "The thermal flux utilization is calculated as\n",
    "$$f=\\frac{\\langle\\Sigma_a\\phi\\rangle^F_T}{\\langle\\Sigma_a\\phi\\rangle_T}$$\n",
    "where the superscript $F$ denotes fuel."
   ]
  },
  {
   "cell_type": "code",
   "execution_count": 29,
   "metadata": {
    "collapsed": false
   },
   "outputs": [
    {
     "data": {
      "text/html": [
       "<div style=\"max-height:1000px;max-width:1500px;overflow:auto;\">\n",
       "<table border=\"1\" class=\"dataframe\">\n",
       "  <thead>\n",
       "    <tr style=\"text-align: right;\">\n",
       "      <th></th>\n",
       "      <th>energy [MeV]</th>\n",
       "      <th>cell</th>\n",
       "      <th>nuclide</th>\n",
       "      <th>score</th>\n",
       "      <th>mean</th>\n",
       "      <th>std. dev.</th>\n",
       "    </tr>\n",
       "    <tr>\n",
       "      <th>bin</th>\n",
       "      <th></th>\n",
       "      <th></th>\n",
       "      <th></th>\n",
       "      <th></th>\n",
       "      <th></th>\n",
       "      <th></th>\n",
       "    </tr>\n",
       "  </thead>\n",
       "  <tbody>\n",
       "    <tr>\n",
       "      <th>0</th>\n",
       "      <td>0.0e+00 - 6.2e-01</td>\n",
       "      <td>10000</td>\n",
       "      <td>total</td>\n",
       "      <td>absorption</td>\n",
       "      <td>0.802094</td>\n",
       "      <td>0.004432</td>\n",
       "    </tr>\n",
       "  </tbody>\n",
       "</table>\n",
       "</div>"
      ],
      "text/plain": [
       "          energy [MeV]   cell nuclide       score      mean  std. dev.\n",
       "bin                                                                   \n",
       "0    0.0e+00 - 6.2e-01  10000   total  absorption  0.802094   0.004432"
      ]
     },
     "execution_count": 29,
     "metadata": {},
     "output_type": "execute_result"
    }
   ],
   "source": [
    "# Compute thermal flux utilization factor using tally arithmetic\n",
    "fuel_therm_abs_rate = sp.get_tally(name='fuel therm. abs. rate')\n",
    "therm_util = fuel_therm_abs_rate / therm_abs_rate\n",
    "therm_util.get_pandas_dataframe()"
   ]
  },
  {
   "cell_type": "markdown",
   "metadata": {},
   "source": [
    "The final factor is the number of fission neutrons produced per absorption in fuel, calculated as $$\\eta = \\frac{\\langle \\nu\\Sigma_f\\phi \\rangle_T}{\\langle \\Sigma_a \\phi \\rangle^F_T}$$"
   ]
  },
  {
   "cell_type": "code",
   "execution_count": 30,
   "metadata": {
    "collapsed": false
   },
   "outputs": [
    {
     "data": {
      "text/html": [
       "<div style=\"max-height:1000px;max-width:1500px;overflow:auto;\">\n",
       "<table border=\"1\" class=\"dataframe\">\n",
       "  <thead>\n",
       "    <tr style=\"text-align: right;\">\n",
       "      <th></th>\n",
       "      <th>energy [MeV]</th>\n",
       "      <th>cell</th>\n",
       "      <th>nuclide</th>\n",
       "      <th>score</th>\n",
       "      <th>mean</th>\n",
       "      <th>std. dev.</th>\n",
       "    </tr>\n",
       "    <tr>\n",
       "      <th>bin</th>\n",
       "      <th></th>\n",
       "      <th></th>\n",
       "      <th></th>\n",
       "      <th></th>\n",
       "      <th></th>\n",
       "      <th></th>\n",
       "    </tr>\n",
       "  </thead>\n",
       "  <tbody>\n",
       "    <tr>\n",
       "      <th>0</th>\n",
       "      <td>0.0e+00 - 6.2e-01</td>\n",
       "      <td>10000</td>\n",
       "      <td>total</td>\n",
       "      <td>(nu-fission / absorption)</td>\n",
       "      <td>1.241103</td>\n",
       "      <td>0.008414</td>\n",
       "    </tr>\n",
       "  </tbody>\n",
       "</table>\n",
       "</div>"
      ],
      "text/plain": [
       "          energy [MeV]   cell nuclide                      score      mean  \\\n",
       "bin                                                                          \n",
       "0    0.0e+00 - 6.2e-01  10000   total  (nu-fission / absorption)  1.241103   \n",
       "\n",
       "     std. dev.  \n",
       "bin             \n",
       "0     0.008414  "
      ]
     },
     "execution_count": 30,
     "metadata": {},
     "output_type": "execute_result"
    }
   ],
   "source": [
    "# Compute neutrons produced per absorption (eta) using tally arithmetic\n",
    "eta = therm_fiss_rate / fuel_therm_abs_rate\n",
    "eta.get_pandas_dataframe()"
   ]
  },
  {
   "cell_type": "markdown",
   "metadata": {},
   "source": [
    "Now we can calculate $k_\\infty$ using the product of the factors form the four-factor formula."
   ]
  },
  {
   "cell_type": "code",
   "execution_count": 31,
   "metadata": {
    "collapsed": false
   },
   "outputs": [
    {
     "data": {
      "text/html": [
       "<div style=\"max-height:1000px;max-width:1500px;overflow:auto;\">\n",
       "<table border=\"1\" class=\"dataframe\">\n",
       "  <thead>\n",
       "    <tr style=\"text-align: right;\">\n",
       "      <th></th>\n",
       "      <th>nuclide</th>\n",
       "      <th>score</th>\n",
       "      <th>mean</th>\n",
       "      <th>std. dev.</th>\n",
       "    </tr>\n",
       "    <tr>\n",
       "      <th>bin</th>\n",
       "      <th></th>\n",
       "      <th></th>\n",
       "      <th></th>\n",
       "      <th></th>\n",
       "    </tr>\n",
       "  </thead>\n",
       "  <tbody>\n",
       "    <tr>\n",
       "      <th>0</th>\n",
       "      <td>total</td>\n",
       "      <td>(((absorption * nu-fission) * absorption) * (n...</td>\n",
       "      <td>1.042035</td>\n",
       "      <td>0.013263</td>\n",
       "    </tr>\n",
       "  </tbody>\n",
       "</table>\n",
       "</div>"
      ],
      "text/plain": [
       "    nuclide                                              score      mean  \\\n",
       "bin                                                                        \n",
       "0     total  (((absorption * nu-fission) * absorption) * (n...  1.042035   \n",
       "\n",
       "     std. dev.  \n",
       "bin             \n",
       "0     0.013263  "
      ]
     },
     "execution_count": 31,
     "metadata": {},
     "output_type": "execute_result"
    }
   ],
   "source": [
    "keff = res_esc * fast_fiss * therm_util * eta\n",
    "keff.get_pandas_dataframe()"
   ]
  },
  {
   "cell_type": "markdown",
   "metadata": {},
   "source": [
    "We see that the value we've obtained here has exactly the same mean as before. However, because of the way it was calculated, the standard deviation appears to be larger.\n",
    "\n",
    "Let's move on to a more complicated example now. Before we set up tallies to get reaction rates in the fuel and moderator in two energy groups for two different nuclides. We can use tally arithmetic to divide each of these reaction rates by the flux to get microscopic multi-group cross sections."
   ]
  },
  {
   "cell_type": "code",
   "execution_count": 32,
   "metadata": {
    "collapsed": false,
    "scrolled": true
   },
   "outputs": [],
   "source": [
    "# Compute microscopic multi-group cross-sections\n",
    "flux = sp.get_tally(name='flux')\n",
    "flux = flux.get_slice(filters=['cell'], filter_bins=[(fuel_cell.id,)])\n",
    "fuel_rxn_rates = sp.get_tally(name='fuel rxn rates')\n",
    "mod_rxn_rates = sp.get_tally(name='moderator rxn rates')"
   ]
  },
  {
   "cell_type": "code",
   "execution_count": 33,
   "metadata": {
    "collapsed": false
   },
   "outputs": [
    {
     "data": {
      "text/html": [
       "<div style=\"max-height:1000px;max-width:1500px;overflow:auto;\">\n",
       "<table border=\"1\" class=\"dataframe\">\n",
       "  <thead>\n",
       "    <tr style=\"text-align: right;\">\n",
       "      <th></th>\n",
       "      <th>cell</th>\n",
       "      <th>energy [MeV]</th>\n",
       "      <th>nuclide</th>\n",
       "      <th>score</th>\n",
       "      <th>mean</th>\n",
       "      <th>std. dev.</th>\n",
       "    </tr>\n",
       "    <tr>\n",
       "      <th>bin</th>\n",
       "      <th></th>\n",
       "      <th></th>\n",
       "      <th></th>\n",
       "      <th></th>\n",
       "      <th></th>\n",
       "      <th></th>\n",
       "    </tr>\n",
       "  </thead>\n",
       "  <tbody>\n",
       "    <tr>\n",
       "      <th>0</th>\n",
       "      <td>10000</td>\n",
       "      <td>0.0e+00 - 6.3e-07</td>\n",
       "      <td>(U-238 / total)</td>\n",
       "      <td>(nu-fission / flux)</td>\n",
       "      <td>0.000001</td>\n",
       "      <td>5.999638e-09</td>\n",
       "    </tr>\n",
       "    <tr>\n",
       "      <th>1</th>\n",
       "      <td>10000</td>\n",
       "      <td>0.0e+00 - 6.3e-07</td>\n",
       "      <td>(U-238 / total)</td>\n",
       "      <td>(scatter / flux)</td>\n",
       "      <td>0.209985</td>\n",
       "      <td>1.975043e-03</td>\n",
       "    </tr>\n",
       "    <tr>\n",
       "      <th>2</th>\n",
       "      <td>10000</td>\n",
       "      <td>0.0e+00 - 6.3e-07</td>\n",
       "      <td>(U-235 / total)</td>\n",
       "      <td>(nu-fission / flux)</td>\n",
       "      <td>0.355600</td>\n",
       "      <td>3.196431e-03</td>\n",
       "    </tr>\n",
       "    <tr>\n",
       "      <th>3</th>\n",
       "      <td>10000</td>\n",
       "      <td>0.0e+00 - 6.3e-07</td>\n",
       "      <td>(U-235 / total)</td>\n",
       "      <td>(scatter / flux)</td>\n",
       "      <td>0.005555</td>\n",
       "      <td>5.223274e-05</td>\n",
       "    </tr>\n",
       "    <tr>\n",
       "      <th>4</th>\n",
       "      <td>10000</td>\n",
       "      <td>6.3e-07 - 2.0e+01</td>\n",
       "      <td>(U-238 / total)</td>\n",
       "      <td>(nu-fission / flux)</td>\n",
       "      <td>0.007200</td>\n",
       "      <td>7.935962e-05</td>\n",
       "    </tr>\n",
       "    <tr>\n",
       "      <th>5</th>\n",
       "      <td>10000</td>\n",
       "      <td>6.3e-07 - 2.0e+01</td>\n",
       "      <td>(U-238 / total)</td>\n",
       "      <td>(scatter / flux)</td>\n",
       "      <td>0.227534</td>\n",
       "      <td>8.747338e-04</td>\n",
       "    </tr>\n",
       "    <tr>\n",
       "      <th>6</th>\n",
       "      <td>10000</td>\n",
       "      <td>6.3e-07 - 2.0e+01</td>\n",
       "      <td>(U-235 / total)</td>\n",
       "      <td>(nu-fission / flux)</td>\n",
       "      <td>0.008090</td>\n",
       "      <td>4.645182e-05</td>\n",
       "    </tr>\n",
       "    <tr>\n",
       "      <th>7</th>\n",
       "      <td>10000</td>\n",
       "      <td>6.3e-07 - 2.0e+01</td>\n",
       "      <td>(U-235 / total)</td>\n",
       "      <td>(scatter / flux)</td>\n",
       "      <td>0.003370</td>\n",
       "      <td>1.274353e-05</td>\n",
       "    </tr>\n",
       "  </tbody>\n",
       "</table>\n",
       "</div>"
      ],
      "text/plain": [
       "      cell       energy [MeV]          nuclide                score      mean  \\\n",
       "bin                                                                             \n",
       "0    10000  0.0e+00 - 6.3e-07  (U-238 / total)  (nu-fission / flux)  0.000001   \n",
       "1    10000  0.0e+00 - 6.3e-07  (U-238 / total)     (scatter / flux)  0.209985   \n",
       "2    10000  0.0e+00 - 6.3e-07  (U-235 / total)  (nu-fission / flux)  0.355600   \n",
       "3    10000  0.0e+00 - 6.3e-07  (U-235 / total)     (scatter / flux)  0.005555   \n",
       "4    10000  6.3e-07 - 2.0e+01  (U-238 / total)  (nu-fission / flux)  0.007200   \n",
       "5    10000  6.3e-07 - 2.0e+01  (U-238 / total)     (scatter / flux)  0.227534   \n",
       "6    10000  6.3e-07 - 2.0e+01  (U-235 / total)  (nu-fission / flux)  0.008090   \n",
       "7    10000  6.3e-07 - 2.0e+01  (U-235 / total)     (scatter / flux)  0.003370   \n",
       "\n",
       "        std. dev.  \n",
       "bin                \n",
       "0    5.999638e-09  \n",
       "1    1.975043e-03  \n",
       "2    3.196431e-03  \n",
       "3    5.223274e-05  \n",
       "4    7.935962e-05  \n",
       "5    8.747338e-04  \n",
       "6    4.645182e-05  \n",
       "7    1.274353e-05  "
      ]
     },
     "execution_count": 33,
     "metadata": {},
     "output_type": "execute_result"
    }
   ],
   "source": [
    "fuel_xs = fuel_rxn_rates / flux\n",
    "fuel_xs.get_pandas_dataframe()"
   ]
  },
  {
   "cell_type": "markdown",
   "metadata": {},
   "source": [
    "We see that when the two tallies with multiple bins were divided, the derived tally contains the outer product of the combinations. If the filters/scores are the same, no outer product is needed. The `get_values(...)` method allows us to obtain a subset of tally scores. In the following example, we obtain just the neutron production microscopic cross sections."
   ]
  },
  {
   "cell_type": "code",
   "execution_count": 34,
   "metadata": {
    "collapsed": false
   },
   "outputs": [
    {
     "name": "stdout",
     "output_type": "stream",
     "text": [
      "[[[  6.64202005e-07]\n",
      "  [  3.55599908e-01]]\n",
      "\n",
      " [[  7.20046753e-03]\n",
      "  [  8.09041760e-03]]]\n"
     ]
    }
   ],
   "source": [
    "# Show how to use Tally.get_values(...) with a CrossScore\n",
    "nu_fiss_xs = fuel_xs.get_values(scores=['(nu-fission / flux)'])\n",
    "print(nu_fiss_xs)"
   ]
  },
  {
   "cell_type": "markdown",
   "metadata": {},
   "source": [
    "The same idea can be used not only for scores but also for filters and nuclides."
   ]
  },
  {
   "cell_type": "code",
   "execution_count": 35,
   "metadata": {
    "collapsed": false
   },
   "outputs": [
    {
     "name": "stdout",
     "output_type": "stream",
     "text": [
      "[[[ 0.00555494]]\n",
      "\n",
      " [[ 0.00337012]]]\n"
     ]
    }
   ],
   "source": [
    "# Show how to use Tally.get_values(...) with a CrossScore and CrossNuclide\n",
    "u235_scatter_xs = fuel_xs.get_values(nuclides=['(U-235 / total)'], \n",
    "                                scores=['(scatter / flux)'])\n",
    "print(u235_scatter_xs)"
   ]
  },
  {
   "cell_type": "code",
   "execution_count": 36,
   "metadata": {
    "collapsed": false
   },
   "outputs": [
    {
     "name": "stdout",
     "output_type": "stream",
     "text": [
      "[[[ 0.22753371]\n",
      "  [ 0.00337012]]]\n"
     ]
    }
   ],
   "source": [
    "# Show how to use Tally.get_values(...) with a CrossFilter and CrossScore\n",
    "fast_scatter_xs = fuel_xs.get_values(filters=['energy'], \n",
    "                                     filter_bins=[((0.625e-6, 20.),)], \n",
    "                                     scores=['(scatter / flux)'])\n",
    "print(fast_scatter_xs)"
   ]
  },
  {
   "cell_type": "markdown",
   "metadata": {},
   "source": [
    "A more advanced method is to use `get_slice(...)` to create a new derived tally that is a subset of an existing tally. This has the benefit that we can use `get_pandas_dataframe()` to see the tallies in a more human-readable format."
   ]
  },
  {
   "cell_type": "code",
   "execution_count": 37,
   "metadata": {
    "collapsed": false
   },
   "outputs": [
    {
     "data": {
      "text/html": [
       "<div style=\"max-height:1000px;max-width:1500px;overflow:auto;\">\n",
       "<table border=\"1\" class=\"dataframe\">\n",
       "  <thead>\n",
       "    <tr style=\"text-align: right;\">\n",
       "      <th></th>\n",
       "      <th>cell</th>\n",
       "      <th>energy [MeV]</th>\n",
       "      <th>nuclide</th>\n",
       "      <th>score</th>\n",
       "      <th>mean</th>\n",
       "      <th>std. dev.</th>\n",
       "    </tr>\n",
       "    <tr>\n",
       "      <th>bin</th>\n",
       "      <th></th>\n",
       "      <th></th>\n",
       "      <th></th>\n",
       "      <th></th>\n",
       "      <th></th>\n",
       "      <th></th>\n",
       "    </tr>\n",
       "  </thead>\n",
       "  <tbody>\n",
       "    <tr>\n",
       "      <th>0</th>\n",
       "      <td>10000</td>\n",
       "      <td>0.0e+00 - 6.3e-07</td>\n",
       "      <td>U-238</td>\n",
       "      <td>nu-fission</td>\n",
       "      <td>0.000002</td>\n",
       "      <td>9.952309e-09</td>\n",
       "    </tr>\n",
       "    <tr>\n",
       "      <th>1</th>\n",
       "      <td>10000</td>\n",
       "      <td>0.0e+00 - 6.3e-07</td>\n",
       "      <td>U-235</td>\n",
       "      <td>nu-fission</td>\n",
       "      <td>0.871994</td>\n",
       "      <td>5.271360e-03</td>\n",
       "    </tr>\n",
       "    <tr>\n",
       "      <th>2</th>\n",
       "      <td>10000</td>\n",
       "      <td>6.3e-07 - 2.0e+01</td>\n",
       "      <td>U-238</td>\n",
       "      <td>nu-fission</td>\n",
       "      <td>0.083006</td>\n",
       "      <td>8.813292e-04</td>\n",
       "    </tr>\n",
       "    <tr>\n",
       "      <th>3</th>\n",
       "      <td>10000</td>\n",
       "      <td>6.3e-07 - 2.0e+01</td>\n",
       "      <td>U-235</td>\n",
       "      <td>nu-fission</td>\n",
       "      <td>0.093265</td>\n",
       "      <td>4.590785e-04</td>\n",
       "    </tr>\n",
       "  </tbody>\n",
       "</table>\n",
       "</div>"
      ],
      "text/plain": [
       "      cell       energy [MeV] nuclide       score      mean     std. dev.\n",
       "bin                                                                      \n",
       "0    10000  0.0e+00 - 6.3e-07   U-238  nu-fission  0.000002  9.952309e-09\n",
       "1    10000  0.0e+00 - 6.3e-07   U-235  nu-fission  0.871994  5.271360e-03\n",
       "2    10000  6.3e-07 - 2.0e+01   U-238  nu-fission  0.083006  8.813292e-04\n",
       "3    10000  6.3e-07 - 2.0e+01   U-235  nu-fission  0.093265  4.590785e-04"
      ]
     },
     "execution_count": 37,
     "metadata": {},
     "output_type": "execute_result"
    }
   ],
   "source": [
    "# \"Slice\" the nu-fission data into a new derived Tally\n",
    "nu_fission_rates = fuel_rxn_rates.get_slice(scores=['nu-fission'])\n",
    "nu_fission_rates.get_pandas_dataframe()"
   ]
  },
  {
   "cell_type": "code",
   "execution_count": 38,
   "metadata": {
    "collapsed": false
   },
   "outputs": [
    {
     "data": {
      "text/html": [
       "<div style=\"max-height:1000px;max-width:1500px;overflow:auto;\">\n",
       "<table border=\"1\" class=\"dataframe\">\n",
       "  <thead>\n",
       "    <tr style=\"text-align: right;\">\n",
       "      <th></th>\n",
       "      <th>cell</th>\n",
       "      <th>energy [MeV]</th>\n",
       "      <th>nuclide</th>\n",
       "      <th>score</th>\n",
       "      <th>mean</th>\n",
       "      <th>std. dev.</th>\n",
       "    </tr>\n",
       "    <tr>\n",
       "      <th>bin</th>\n",
       "      <th></th>\n",
       "      <th></th>\n",
       "      <th></th>\n",
       "      <th></th>\n",
       "      <th></th>\n",
       "      <th></th>\n",
       "    </tr>\n",
       "  </thead>\n",
       "  <tbody>\n",
       "    <tr>\n",
       "      <th>0</th>\n",
       "      <td>10002</td>\n",
       "      <td>1.0e-08 - 1.1e-07</td>\n",
       "      <td>H-1</td>\n",
       "      <td>scatter</td>\n",
       "      <td>4.669535</td>\n",
       "      <td>0.032937</td>\n",
       "    </tr>\n",
       "    <tr>\n",
       "      <th>1</th>\n",
       "      <td>10002</td>\n",
       "      <td>1.1e-07 - 1.2e-06</td>\n",
       "      <td>H-1</td>\n",
       "      <td>scatter</td>\n",
       "      <td>2.034786</td>\n",
       "      <td>0.014311</td>\n",
       "    </tr>\n",
       "    <tr>\n",
       "      <th>2</th>\n",
       "      <td>10002</td>\n",
       "      <td>1.2e-06 - 1.3e-05</td>\n",
       "      <td>H-1</td>\n",
       "      <td>scatter</td>\n",
       "      <td>1.664440</td>\n",
       "      <td>0.014963</td>\n",
       "    </tr>\n",
       "    <tr>\n",
       "      <th>3</th>\n",
       "      <td>10002</td>\n",
       "      <td>1.3e-05 - 1.4e-04</td>\n",
       "      <td>H-1</td>\n",
       "      <td>scatter</td>\n",
       "      <td>1.875406</td>\n",
       "      <td>0.011341</td>\n",
       "    </tr>\n",
       "    <tr>\n",
       "      <th>4</th>\n",
       "      <td>10002</td>\n",
       "      <td>1.4e-04 - 1.5e-03</td>\n",
       "      <td>H-1</td>\n",
       "      <td>scatter</td>\n",
       "      <td>2.065055</td>\n",
       "      <td>0.013958</td>\n",
       "    </tr>\n",
       "    <tr>\n",
       "      <th>5</th>\n",
       "      <td>10002</td>\n",
       "      <td>1.5e-03 - 1.6e-02</td>\n",
       "      <td>H-1</td>\n",
       "      <td>scatter</td>\n",
       "      <td>2.144462</td>\n",
       "      <td>0.011313</td>\n",
       "    </tr>\n",
       "    <tr>\n",
       "      <th>6</th>\n",
       "      <td>10002</td>\n",
       "      <td>1.6e-02 - 1.7e-01</td>\n",
       "      <td>H-1</td>\n",
       "      <td>scatter</td>\n",
       "      <td>2.206529</td>\n",
       "      <td>0.011302</td>\n",
       "    </tr>\n",
       "    <tr>\n",
       "      <th>7</th>\n",
       "      <td>10002</td>\n",
       "      <td>1.7e-01 - 1.9e+00</td>\n",
       "      <td>H-1</td>\n",
       "      <td>scatter</td>\n",
       "      <td>1.992336</td>\n",
       "      <td>0.012023</td>\n",
       "    </tr>\n",
       "    <tr>\n",
       "      <th>8</th>\n",
       "      <td>10002</td>\n",
       "      <td>1.9e+00 - 2.0e+01</td>\n",
       "      <td>H-1</td>\n",
       "      <td>scatter</td>\n",
       "      <td>0.377400</td>\n",
       "      <td>0.004341</td>\n",
       "    </tr>\n",
       "  </tbody>\n",
       "</table>\n",
       "</div>"
      ],
      "text/plain": [
       "      cell       energy [MeV] nuclide    score      mean  std. dev.\n",
       "bin                                                                \n",
       "0    10002  1.0e-08 - 1.1e-07     H-1  scatter  4.669535   0.032937\n",
       "1    10002  1.1e-07 - 1.2e-06     H-1  scatter  2.034786   0.014311\n",
       "2    10002  1.2e-06 - 1.3e-05     H-1  scatter  1.664440   0.014963\n",
       "3    10002  1.3e-05 - 1.4e-04     H-1  scatter  1.875406   0.011341\n",
       "4    10002  1.4e-04 - 1.5e-03     H-1  scatter  2.065055   0.013958\n",
       "5    10002  1.5e-03 - 1.6e-02     H-1  scatter  2.144462   0.011313\n",
       "6    10002  1.6e-02 - 1.7e-01     H-1  scatter  2.206529   0.011302\n",
       "7    10002  1.7e-01 - 1.9e+00     H-1  scatter  1.992336   0.012023\n",
       "8    10002  1.9e+00 - 2.0e+01     H-1  scatter  0.377400   0.004341"
      ]
     },
     "execution_count": 38,
     "metadata": {},
     "output_type": "execute_result"
    }
   ],
   "source": [
    "# \"Slice\" the H-1 scatter data in the moderator Cell into a new derived Tally\n",
    "need_to_slice = sp.get_tally(name='need-to-slice')\n",
    "slice_test = need_to_slice.get_slice(scores=['scatter'], nuclides=['H-1'],\n",
    "                                 filters=['cell'], filter_bins=[(moderator_cell.id,)])\n",
    "slice_test.get_pandas_dataframe()"
   ]
  }
 ],
 "metadata": {
  "kernelspec": {
   "display_name": "Python 2",
   "language": "python",
   "name": "python2"
  },
  "language_info": {
   "codemirror_mode": {
    "name": "ipython",
    "version": 2
   },
   "file_extension": ".py",
   "mimetype": "text/x-python",
   "name": "python",
   "nbconvert_exporter": "python",
   "pygments_lexer": "ipython2",
   "version": "2.7.8"
  }
 },
 "nbformat": 4,
 "nbformat_minor": 0
}
