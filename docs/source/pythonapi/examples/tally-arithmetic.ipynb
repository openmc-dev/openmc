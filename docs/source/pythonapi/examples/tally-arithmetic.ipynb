{
 "cells": [
  {
   "cell_type": "markdown",
   "metadata": {},
   "source": [
    "This notebook shows the how tallies can be combined (added, subtracted, multiplied, etc.) using the Python API in order to create derived tallies. Since no covariance information is obtained, it is assumed that tallies are completely independent of one another when propagating uncertainties. The target problem is a simple pin cell.\n",
    "\n",
    "**Note:** that this Notebook was created using the latest Pandas v0.16.1. Everything in the Notebook will wun with older versions of Pandas, but the multi-indexing option in >v0.15.0 makes the tables look prettier."
   ]
  },
  {
   "cell_type": "code",
   "execution_count": 1,
   "metadata": {
    "collapsed": false
   },
   "outputs": [],
   "source": [
    "%load_ext autoreload\n",
    "%autoreload 2"
   ]
  },
  {
   "cell_type": "code",
   "execution_count": 2,
   "metadata": {
    "collapsed": false
   },
   "outputs": [],
   "source": [
    "import glob\n",
    "from IPython.display import Image\n",
    "import numpy as np\n",
    "\n",
    "import openmc\n",
    "from openmc.statepoint import StatePoint\n",
    "from openmc.summary import Summary\n",
    "from openmc.source import Source\n",
    "from openmc.stats import Box\n",
    "\n",
    "%matplotlib inline"
   ]
  },
  {
   "cell_type": "markdown",
   "metadata": {},
   "source": [
    "## Generate Input Files"
   ]
  },
  {
   "cell_type": "markdown",
   "metadata": {},
   "source": [
    "First we need to define materials that will be used in the problem. Before defining a material, we must create nuclides that are used in the material."
   ]
  },
  {
   "cell_type": "code",
   "execution_count": 3,
   "metadata": {
    "collapsed": true
   },
   "outputs": [],
   "source": [
    "# Instantiate some Nuclides\n",
    "h1 = openmc.Nuclide('H-1')\n",
    "b10 = openmc.Nuclide('B-10')\n",
    "o16 = openmc.Nuclide('O-16')\n",
    "u235 = openmc.Nuclide('U-235')\n",
    "u238 = openmc.Nuclide('U-238')\n",
    "zr90 = openmc.Nuclide('Zr-90')"
   ]
  },
  {
   "cell_type": "markdown",
   "metadata": {},
   "source": [
    "With the nuclides we defined, we will now create three materials for the fuel, water, and cladding of the fuel pin."
   ]
  },
  {
   "cell_type": "code",
   "execution_count": 4,
   "metadata": {
    "collapsed": false
   },
   "outputs": [],
   "source": [
    "# 1.6 enriched fuel\n",
    "fuel = openmc.Material(name='1.6% Fuel')\n",
    "fuel.set_density('g/cm3', 10.31341)\n",
    "fuel.add_nuclide(u235, 3.7503e-4)\n",
    "fuel.add_nuclide(u238, 2.2625e-2)\n",
    "fuel.add_nuclide(o16, 4.6007e-2)\n",
    "\n",
    "# borated water\n",
    "water = openmc.Material(name='Borated Water')\n",
    "water.set_density('g/cm3', 0.740582)\n",
    "water.add_nuclide(h1, 4.9457e-2)\n",
    "water.add_nuclide(o16, 2.4732e-2)\n",
    "water.add_nuclide(b10, 8.0042e-6)\n",
    "\n",
    "# zircaloy\n",
    "zircaloy = openmc.Material(name='Zircaloy')\n",
    "zircaloy.set_density('g/cm3', 6.55)\n",
    "zircaloy.add_nuclide(zr90, 7.2758e-3)"
   ]
  },
  {
   "cell_type": "markdown",
   "metadata": {},
   "source": [
    "With our three materials, we can now create a materials file object that can be exported to an actual XML file."
   ]
  },
  {
   "cell_type": "code",
   "execution_count": 5,
   "metadata": {
    "collapsed": false
   },
   "outputs": [],
   "source": [
    "# Instantiate a MaterialsFile, add Materials\n",
    "materials_file = openmc.MaterialsFile()\n",
    "materials_file.add_material(fuel)\n",
    "materials_file.add_material(water)\n",
    "materials_file.add_material(zircaloy)\n",
    "materials_file.default_xs = '71c'\n",
    "\n",
    "# Export to \"materials.xml\"\n",
    "materials_file.export_to_xml()"
   ]
  },
  {
   "cell_type": "markdown",
   "metadata": {},
   "source": [
    "Now let's move on to the geometry. Our problem will have three regions for the fuel, the clad, and the surrounding coolant. The first step is to create the bounding surfaces -- in this case two cylinders and six reflective planes."
   ]
  },
  {
   "cell_type": "code",
   "execution_count": 6,
   "metadata": {
    "collapsed": false
   },
   "outputs": [],
   "source": [
    "# Create cylinders for the fuel and clad\n",
    "fuel_outer_radius = openmc.ZCylinder(x0=0.0, y0=0.0, R=0.39218)\n",
    "clad_outer_radius = openmc.ZCylinder(x0=0.0, y0=0.0, R=0.45720)\n",
    "\n",
    "# Create boundary planes to surround the geometry\n",
    "# Use both reflective and vacuum boundaries to make life interesting\n",
    "min_x = openmc.XPlane(x0=-0.63, boundary_type='reflective')\n",
    "max_x = openmc.XPlane(x0=+0.63, boundary_type='reflective')\n",
    "min_y = openmc.YPlane(y0=-0.63, boundary_type='reflective')\n",
    "max_y = openmc.YPlane(y0=+0.63, boundary_type='reflective')\n",
    "min_z = openmc.ZPlane(z0=-0.63, boundary_type='reflective')\n",
    "max_z = openmc.ZPlane(z0=+0.63, boundary_type='reflective')"
   ]
  },
  {
   "cell_type": "markdown",
   "metadata": {},
   "source": [
    "With the surfaces defined, we can now create cells that are defined by intersections of half-spaces created by the surfaces."
   ]
  },
  {
   "cell_type": "code",
   "execution_count": 7,
   "metadata": {
    "collapsed": false
   },
   "outputs": [],
   "source": [
    "# Create a Universe to encapsulate a fuel pin\n",
    "pin_cell_universe = openmc.Universe(name='1.6% Fuel Pin')\n",
    "\n",
    "# Create fuel Cell\n",
    "fuel_cell = openmc.Cell(name='1.6% Fuel')\n",
    "fuel_cell.fill = fuel\n",
    "fuel_cell.region = -fuel_outer_radius\n",
    "pin_cell_universe.add_cell(fuel_cell)\n",
    "\n",
    "# Create a clad Cell\n",
    "clad_cell = openmc.Cell(name='1.6% Clad')\n",
    "clad_cell.fill = zircaloy\n",
    "clad_cell.region = +fuel_outer_radius & -clad_outer_radius\n",
    "pin_cell_universe.add_cell(clad_cell)\n",
    "\n",
    "# Create a moderator Cell\n",
    "moderator_cell = openmc.Cell(name='1.6% Moderator')\n",
    "moderator_cell.fill = water\n",
    "moderator_cell.region = +clad_outer_radius\n",
    "pin_cell_universe.add_cell(moderator_cell)"
   ]
  },
  {
   "cell_type": "markdown",
   "metadata": {},
   "source": [
    "OpenMC requires that there is a \"root\" universe. Let us create a root cell that is filled by the pin cell universe and then assign it to the root universe."
   ]
  },
  {
   "cell_type": "code",
   "execution_count": 8,
   "metadata": {
    "collapsed": false
   },
   "outputs": [],
   "source": [
    "# Create root Cell\n",
    "root_cell = openmc.Cell(name='root cell')\n",
    "root_cell.fill = pin_cell_universe\n",
    "\n",
    "# Add boundary planes\n",
    "root_cell.region = +min_x & -max_x & +min_y & -max_y & +min_z & -max_z\n",
    "\n",
    "# Create root Universe\n",
    "root_universe = openmc.Universe(universe_id=0, name='root universe')\n",
    "root_universe.add_cell(root_cell)"
   ]
  },
  {
   "cell_type": "markdown",
   "metadata": {},
   "source": [
    "We now must create a geometry that is assigned a root universe, put the geometry into a geometry file, and export it to XML."
   ]
  },
  {
   "cell_type": "code",
   "execution_count": 9,
   "metadata": {
    "collapsed": false
   },
   "outputs": [],
   "source": [
    "# Create Geometry and set root Universe\n",
    "geometry = openmc.Geometry()\n",
    "geometry.root_universe = root_universe"
   ]
  },
  {
   "cell_type": "code",
   "execution_count": 10,
   "metadata": {
    "collapsed": false
   },
   "outputs": [],
   "source": [
    "# Instantiate a GeometryFile\n",
    "geometry_file = openmc.GeometryFile()\n",
    "geometry_file.geometry = geometry\n",
    "\n",
    "# Export to \"geometry.xml\"\n",
    "geometry_file.export_to_xml()"
   ]
  },
  {
   "cell_type": "markdown",
   "metadata": {},
   "source": [
    "With the geometry and materials finished, we now just need to define simulation parameters. In this case, we will use 5 inactive batches and 15 active batches each with 2500 particles."
   ]
  },
  {
   "cell_type": "code",
   "execution_count": 11,
   "metadata": {
    "collapsed": true
   },
   "outputs": [],
   "source": [
    "# OpenMC simulation parameters\n",
    "batches = 20\n",
    "inactive = 5\n",
    "particles = 2500\n",
    "\n",
    "# Instantiate a SettingsFile\n",
    "settings_file = openmc.SettingsFile()\n",
    "settings_file.batches = batches\n",
    "settings_file.inactive = inactive\n",
    "settings_file.particles = particles\n",
    "settings_file.output = {'tallies': True}\n",
    "source_bounds = [-0.63, -0.63, -0.63, 0.63, 0.63, 0.63]\n",
    "settings_file.source = Source(space=Box(\n",
    "        source_bounds[:3], source_bounds[3:]))\n",
    "\n",
    "# Export to \"settings.xml\"\n",
    "settings_file.export_to_xml()"
   ]
  },
  {
   "cell_type": "markdown",
   "metadata": {},
   "source": [
    "Let us also create a plot file that we can use to verify that our pin cell geometry was created successfully."
   ]
  },
  {
   "cell_type": "code",
   "execution_count": 12,
   "metadata": {
    "collapsed": false
   },
   "outputs": [],
   "source": [
    "# Instantiate a Plot\n",
    "plot = openmc.Plot(plot_id=1)\n",
    "plot.filename = 'materials-xy'\n",
    "plot.origin = [0, 0, 0]\n",
    "plot.width = [1.26, 1.26]\n",
    "plot.pixels = [250, 250]\n",
    "plot.color = 'mat'\n",
    "\n",
    "# Instantiate a PlotsFile, add Plot, and export to \"plots.xml\"\n",
    "plot_file = openmc.PlotsFile()\n",
    "plot_file.add_plot(plot)\n",
    "plot_file.export_to_xml()"
   ]
  },
  {
   "cell_type": "markdown",
   "metadata": {},
   "source": [
    "With the plots.xml file, we can now generate and view the plot. OpenMC outputs plots in .ppm format, which can be converted into a compressed format like .png with the convert utility."
   ]
  },
  {
   "cell_type": "code",
   "execution_count": 13,
   "metadata": {
    "collapsed": false
   },
   "outputs": [
    {
     "data": {
      "text/plain": [
       "0"
      ]
     },
     "execution_count": 13,
     "metadata": {},
     "output_type": "execute_result"
    }
   ],
   "source": [
    "# Run openmc in plotting mode\n",
    "executor = openmc.Executor()\n",
    "executor.plot_geometry(output=False)"
   ]
  },
  {
   "cell_type": "code",
   "execution_count": 14,
   "metadata": {
    "collapsed": false
   },
   "outputs": [
    {
     "data": {
      "image/png": "[encoded data removed]",
      "text/plain": [
       "<IPython.core.display.Image object>"
      ]
     },
     "execution_count": 14,
     "metadata": {},
     "output_type": "execute_result"
    }
   ],
   "source": [
    "# Convert OpenMC's funky ppm to png\n",
    "!convert materials-xy.ppm materials-xy.png\n",
    "\n",
    "# Display the materials plot inline\n",
    "Image(filename='materials-xy.png')"
   ]
  },
  {
   "cell_type": "markdown",
   "metadata": {},
   "source": [
    "As we can see from the plot, we have a nice pin cell with fuel, cladding, and water! Before we run our simulation, we need to tell the code what we want to tally. The following code shows how to create a variety of tallies."
   ]
  },
  {
   "cell_type": "code",
   "execution_count": 15,
   "metadata": {
    "collapsed": false
   },
   "outputs": [],
   "source": [
    "# Instantiate an empty TalliesFile\n",
    "tallies_file = openmc.TalliesFile()"
   ]
  },
  {
   "cell_type": "code",
   "execution_count": 16,
   "metadata": {
    "collapsed": false
   },
   "outputs": [],
   "source": [
    "# Create Tallies to compute microscopic multi-group cross-sections\n",
    "\n",
    "# Instantiate energy filter for multi-group cross-section Tallies\n",
    "energy_filter = openmc.Filter(type='energy', bins=[0., 0.625e-6, 20.])\n",
    "\n",
    "# Instantiate flux Tally in moderator and fuel\n",
    "tally = openmc.Tally(name='flux')\n",
    "tally.filters = [openmc.Filter(type='cell', bins=[fuel_cell.id, moderator_cell.id])]\n",
    "tally.filters.append(energy_filter)\n",
    "tally.scores = ['flux']\n",
    "tallies_file.add_tally(tally)\n",
    "\n",
    "# Instantiate reaction rate Tally in fuel\n",
    "tally = openmc.Tally(name='fuel rxn rates')\n",
    "tally.filters = [openmc.Filter(type='cell', bins=[fuel_cell.id])]\n",
    "tally.filters.append(energy_filter)\n",
    "tally.scores = ['nu-fission', 'scatter']\n",
    "tally.nuclides = [u238, u235]\n",
    "tallies_file.add_tally(tally)\n",
    "\n",
    "# Instantiate reaction rate Tally in moderator\n",
    "tally = openmc.Tally(name='moderator rxn rates')\n",
    "tally.filters = [openmc.Filter(type='cell', bins=[moderator_cell.id])]\n",
    "tally.filters.append(energy_filter)\n",
    "tally.scores = ['absorption', 'total']\n",
    "tally.nuclides = [o16, h1]\n",
    "tallies_file.add_tally(tally)"
   ]
  },
  {
   "cell_type": "code",
   "execution_count": 17,
   "metadata": {
    "collapsed": true
   },
   "outputs": [],
   "source": [
    "# K-Eigenvalue (infinity) tallies\n",
    "fiss_rate = openmc.Tally(name='fiss. rate')\n",
    "abs_rate = openmc.Tally(name='abs. rate')\n",
    "fiss_rate.scores = ['nu-fission']\n",
    "abs_rate.scores = ['absorption']\n",
    "tallies_file.add_tally(fiss_rate)\n",
    "tallies_file.add_tally(abs_rate)"
   ]
  },
  {
   "cell_type": "code",
   "execution_count": 18,
   "metadata": {
    "collapsed": false
   },
   "outputs": [],
   "source": [
    "# Resonance Escape Probability tallies\n",
    "therm_abs_rate = openmc.Tally(name='therm. abs. rate')\n",
    "therm_abs_rate.scores = ['absorption']\n",
    "therm_abs_rate.filters = [openmc.Filter(type='energy', bins=[0., 0.625e-6])]\n",
    "tallies_file.add_tally(therm_abs_rate)"
   ]
  },
  {
   "cell_type": "code",
   "execution_count": 19,
   "metadata": {
    "collapsed": false
   },
   "outputs": [],
   "source": [
    "# Thermal Flux Utilization tallies\n",
    "fuel_therm_abs_rate = openmc.Tally(name='fuel therm. abs. rate')\n",
    "fuel_therm_abs_rate.scores = ['absorption']\n",
    "fuel_therm_abs_rate.filters = [openmc.Filter(type='energy', bins=[0., 0.625e-6]),\n",
    "                               openmc.Filter(type='cell', bins=[fuel_cell.id])]\n",
    "tallies_file.add_tally(fuel_therm_abs_rate)"
   ]
  },
  {
   "cell_type": "code",
   "execution_count": 20,
   "metadata": {
    "collapsed": true
   },
   "outputs": [],
   "source": [
    "# Fast Fission Factor tallies\n",
    "therm_fiss_rate = openmc.Tally(name='therm. fiss. rate')\n",
    "therm_fiss_rate.scores = ['nu-fission']\n",
    "therm_fiss_rate.filters = [openmc.Filter(type='energy', bins=[0., 0.625e-6])]\n",
    "tallies_file.add_tally(therm_fiss_rate)"
   ]
  },
  {
   "cell_type": "code",
   "execution_count": 21,
   "metadata": {
    "collapsed": true
   },
   "outputs": [],
   "source": [
    "# Instantiate energy filter to illustrate Tally slicing\n",
    "energy_filter = openmc.Filter(type='energy', bins=np.logspace(np.log10(1e-8), np.log10(20), 10))\n",
    "\n",
    "# Instantiate flux Tally in moderator and fuel\n",
    "tally = openmc.Tally(name='need-to-slice')\n",
    "tally.filters = [openmc.Filter(type='cell', bins=[fuel_cell.id, moderator_cell.id])]\n",
    "tally.filters.append(energy_filter)\n",
    "tally.scores = ['nu-fission', 'scatter']\n",
    "tally.nuclides = [h1, u238]\n",
    "tallies_file.add_tally(tally)"
   ]
  },
  {
   "cell_type": "code",
   "execution_count": 22,
   "metadata": {
    "collapsed": false
   },
   "outputs": [],
   "source": [
    "# Export to \"tallies.xml\"\n",
    "tallies_file.export_to_xml()"
   ]
  },
  {
   "cell_type": "markdown",
   "metadata": {},
   "source": [
    "Now we a have a complete set of inputs, so we can go ahead and run our simulation."
   ]
  },
  {
   "cell_type": "code",
   "execution_count": 23,
   "metadata": {
    "collapsed": false,
    "scrolled": true
   },
   "outputs": [
    {
     "name": "stdout",
     "output_type": "stream",
     "text": [
      "\n",
      "       .d88888b.                             888b     d888  .d8888b.\n",
      "      d88P\" \"Y88b                            8888b   d8888 d88P  Y88b\n",
      "      888     888                            88888b.d88888 888    888\n",
      "      888     888 88888b.   .d88b.  88888b.  888Y88888P888 888       \n",
      "      888     888 888 \"88b d8P  Y8b 888 \"88b 888 Y888P 888 888       \n",
      "      888     888 888  888 88888888 888  888 888  Y8P  888 888    888\n",
      "      Y88b. .d88P 888 d88P Y8b.     888  888 888   \"   888 Y88b  d88P\n",
      "       \"Y88888P\"  88888P\"   \"Y8888  888  888 888       888  \"Y8888P\"\n",
      "__________________888______________________________________________________\n",
      "                  888\n",
      "                  888\n",
      "\n",
      "      Copyright:      2011-2015 Massachusetts Institute of Technology\n",
      "      License:        http://mit-crpg.github.io/openmc/license.html\n",
      "      Version:        0.7.1\n",
      "      Git SHA1:       5f252e2df51930b9175fd41bafa8db01f3eaeb92\n",
      "      Date/Time:      2016-03-23 14:50:46\n",
      "      MPI Processes:  1\n",
      "      OpenMP Threads: 16\n",
      "\n",
      " ===========================================================================\n",
      " ========================>     INITIALIZATION     <=========================\n",
      " ===========================================================================\n",
      "\n",
      " Reading settings XML file...\n",
      " Reading cross sections XML file...\n",
      " Reading geometry XML file...\n",
      " Reading materials XML file...\n",
      " Reading tallies XML file...\n",
      " Building neighboring cells lists for each surface...\n",
      " Loading ACE cross section table: 92235.71c\n",
      " Loading ACE cross section table: 92238.71c\n",
      " Loading ACE cross section table: 8016.71c\n",
      " Loading ACE cross section table: 1001.71c\n",
      " Loading ACE cross section table: 5010.71c\n",
      " Loading ACE cross section table: 40090.71c\n",
      " Maximum neutron transport energy: 20.0000 MeV for 92235.71c\n",
      " Initializing source particles...\n",
      "\n",
      " ===========================================================================\n",
      " ====================>     K EIGENVALUE SIMULATION     <====================\n",
      " ===========================================================================\n",
      "\n",
      "  Bat./Gen.      k            Average k         \n",
      "  =========   ========   ====================   \n",
      "        1/1    1.03167                       \n",
      "        2/1    1.03535                       \n",
      "        3/1    1.02709                       \n",
      "        4/1    1.00637                       \n",
      "        5/1    0.99250                       \n",
      "        6/1    1.06116                       \n",
      "        7/1    1.04289    1.05202 +/- 0.00913\n",
      "        8/1    1.04779    1.05061 +/- 0.00546\n",
      "        9/1    1.04695    1.04969 +/- 0.00397\n",
      "       10/1    0.98778    1.03731 +/- 0.01276\n",
      "       11/1    1.05810    1.04078 +/- 0.01098\n",
      "       12/1    1.01539    1.03715 +/- 0.00996\n",
      "       13/1    1.08644    1.04331 +/- 0.01060\n",
      "       14/1    1.06425    1.04564 +/- 0.00963\n",
      "       15/1    1.01768    1.04284 +/- 0.00906\n",
      "       16/1    1.05877    1.04429 +/- 0.00832\n",
      "       17/1    1.02195    1.04243 +/- 0.00782\n",
      "       18/1    1.02488    1.04108 +/- 0.00732\n",
      "       19/1    1.06285    1.04263 +/- 0.00695\n",
      "       20/1    0.98751    1.03896 +/- 0.00744\n",
      " Creating state point statepoint.20.h5...\n",
      "\n",
      " ===========================================================================\n",
      " ======================>     SIMULATION FINISHED     <======================\n",
      " ===========================================================================\n",
      "\n",
      "\n",
      " =======================>     TIMING STATISTICS     <=======================\n",
      "\n",
      " Total time for initialization     =  5.0400E-01 seconds\n",
      "   Reading cross sections          =  1.5000E-01 seconds\n",
      " Total time in simulation          =  2.1570E+00 seconds\n",
      "   Time in transport only          =  1.9760E+00 seconds\n",
      "   Time in inactive batches        =  3.3600E-01 seconds\n",
      "   Time in active batches          =  1.8210E+00 seconds\n",
      "   Time synchronizing fission bank =  4.0000E-03 seconds\n",
      "     Sampling source sites         =  3.0000E-03 seconds\n",
      "     SEND/RECV source sites        =  1.0000E-03 seconds\n",
      "   Time accumulating tallies       =  0.0000E+00 seconds\n",
      " Total time for finalization       =  2.0000E-03 seconds\n",
      " Total time elapsed                =  2.6800E+00 seconds\n",
      " Calculation Rate (inactive)       =  37202.4 neutrons/second\n",
      " Calculation Rate (active)         =  20593.1 neutrons/second\n",
      "\n",
      " ============================>     RESULTS     <============================\n",
      "\n",
      " k-effective (Collision)     =  1.03965 +/-  0.00597\n",
      " k-effective (Track-length)  =  1.03896 +/-  0.00744\n",
      " k-effective (Absorption)    =  1.03976 +/-  0.00606\n",
      " Combined k-effective        =  1.03991 +/-  0.00536\n",
      " Leakage Fraction            =  0.00000 +/-  0.00000\n",
      "\n"
     ]
    },
    {
     "data": {
      "text/plain": [
       "0"
      ]
     },
     "execution_count": 23,
     "metadata": {},
     "output_type": "execute_result"
    }
   ],
   "source": [
    "# Remove old HDF5 (summary, statepoint) files\n",
    "!rm statepoint.*\n",
    "\n",
    "# Run OpenMC with MPI!\n",
    "executor.run_simulation()"
   ]
  },
  {
   "cell_type": "markdown",
   "metadata": {},
   "source": [
    "## Tally Data Processing"
   ]
  },
  {
   "cell_type": "markdown",
   "metadata": {},
   "source": [
    "Our simulation ran successfully and created a statepoint file with all the tally data in it. We begin our analysis here loading the statepoint file and 'reading' the results. By default, the tally results are not read into memory because they might be large, even large enough to exceed the available memory on a computer."
   ]
  },
  {
   "cell_type": "code",
   "execution_count": 24,
   "metadata": {
    "collapsed": false,
    "scrolled": true
   },
   "outputs": [],
   "source": [
    "# Load the statepoint file\n",
    "sp = StatePoint('statepoint.20.h5')"
   ]
  },
  {
   "cell_type": "markdown",
   "metadata": {},
   "source": [
    "You may have also noticed we instructed OpenMC to create a summary file with lots of geometry information in it. This can help to produce more sensible output from the Python API, so we will use the summary file to link against."
   ]
  },
  {
   "cell_type": "code",
   "execution_count": 25,
   "metadata": {
    "collapsed": false,
    "scrolled": true
   },
   "outputs": [],
   "source": [
    "# Load the summary file and link with statepoint\n",
    "su = Summary('summary.h5')\n",
    "sp.link_with_summary(su)"
   ]
  },
  {
   "cell_type": "markdown",
   "metadata": {},
   "source": [
    "We have a tally of the total fission rate and the total absorption rate, so we can calculate k-infinity as:\n",
    "$$k_\\infty = \\frac{\\langle \\nu \\Sigma_f \\phi \\rangle}{\\langle \\Sigma_a \\phi \\rangle}$$\n",
    "In this notation, $\\langle \\cdot \\rangle^a_b$ represents an OpenMC that is integrated over region $a$ and energy range $b$. If $a$ or $b$ is not reported, it means the value represents an integral over all space or all energy, respectively."
   ]
  },
  {
   "cell_type": "code",
   "execution_count": 26,
   "metadata": {
    "collapsed": false
   },
   "outputs": [
    {
     "data": {
      "text/html": [
       "<div>\n",
       "<table border=\"1\" class=\"dataframe\">\n",
       "  <thead>\n",
       "    <tr style=\"text-align: right;\">\n",
       "      <th></th>\n",
       "      <th>nuclide</th>\n",
       "      <th>score</th>\n",
       "      <th>mean</th>\n",
       "      <th>std. dev.</th>\n",
       "    </tr>\n",
       "  </thead>\n",
       "  <tbody>\n",
       "    <tr>\n",
       "      <th>0</th>\n",
       "      <td>total</td>\n",
       "      <td>(nu-fission / absorption)</td>\n",
       "      <td>1.036847</td>\n",
       "      <td>0.009685</td>\n",
       "    </tr>\n",
       "  </tbody>\n",
       "</table>\n",
       "</div>"
      ],
      "text/plain": [
       "  nuclide                      score     mean  std. dev.\n",
       "0   total  (nu-fission / absorption) 1.04e+00   9.69e-03"
      ]
     },
     "execution_count": 26,
     "metadata": {},
     "output_type": "execute_result"
    }
   ],
   "source": [
    "# Compute k-infinity using tally arithmetic\n",
    "fiss_rate = sp.get_tally(name='fiss. rate')\n",
    "abs_rate = sp.get_tally(name='abs. rate')\n",
    "keff = fiss_rate / abs_rate\n",
    "keff.get_pandas_dataframe()"
   ]
  },
  {
   "cell_type": "markdown",
   "metadata": {},
   "source": [
    "Notice that even though the neutron production rate and absorption rate are separate tallies, we still get a first-order estimate of the uncertainty on the quotient of them automatically!\n",
    "\n",
    "Often in textbooks you'll see k-infinity represented using the four-factor formula $$k_\\infty = p \\epsilon f \\eta.$$ Let's analyze each of these factors, starting with the resonance escape probability which is defined as $$p=\\frac{\\langle\\Sigma_a\\phi\\rangle_T}{\\langle\\Sigma_a\\phi\\rangle}$$ where the subscript $T$ means thermal energies."
   ]
  },
  {
   "cell_type": "code",
   "execution_count": 27,
   "metadata": {
    "collapsed": false
   },
   "outputs": [
    {
     "data": {
      "text/html": [
       "<div>\n",
       "<table border=\"1\" class=\"dataframe\">\n",
       "  <thead>\n",
       "    <tr style=\"text-align: right;\">\n",
       "      <th></th>\n",
       "      <th>energy low [MeV]</th>\n",
       "      <th>energy high [MeV]</th>\n",
       "      <th>nuclide</th>\n",
       "      <th>score</th>\n",
       "      <th>mean</th>\n",
       "      <th>std. dev.</th>\n",
       "    </tr>\n",
       "  </thead>\n",
       "  <tbody>\n",
       "    <tr>\n",
       "      <th>0</th>\n",
       "      <td>0</td>\n",
       "      <td>6.250000e-07</td>\n",
       "      <td>total</td>\n",
       "      <td>absorption</td>\n",
       "      <td>0.692034</td>\n",
       "      <td>0.007217</td>\n",
       "    </tr>\n",
       "  </tbody>\n",
       "</table>\n",
       "</div>"
      ],
      "text/plain": [
       "   energy low [MeV]  energy high [MeV] nuclide       score     mean  std. dev.\n",
       "0          0.00e+00           6.25e-07   total  absorption 6.92e-01   7.22e-03"
      ]
     },
     "execution_count": 27,
     "metadata": {},
     "output_type": "execute_result"
    }
   ],
   "source": [
    "# Compute resonance escape probability using tally arithmetic\n",
    "therm_abs_rate = sp.get_tally(name='therm. abs. rate')\n",
    "res_esc = therm_abs_rate / abs_rate\n",
    "res_esc.get_pandas_dataframe()"
   ]
  },
  {
   "cell_type": "markdown",
   "metadata": {},
   "source": [
    "The fast fission factor can be calculated as\n",
    "$$\\epsilon=\\frac{\\langle\\nu\\Sigma_f\\phi\\rangle}{\\langle\\nu\\Sigma_f\\phi\\rangle_T}$$"
   ]
  },
  {
   "cell_type": "code",
   "execution_count": 28,
   "metadata": {
    "collapsed": false
   },
   "outputs": [
    {
     "data": {
      "text/html": [
       "<div>\n",
       "<table border=\"1\" class=\"dataframe\">\n",
       "  <thead>\n",
       "    <tr style=\"text-align: right;\">\n",
       "      <th></th>\n",
       "      <th>energy low [MeV]</th>\n",
       "      <th>energy high [MeV]</th>\n",
       "      <th>nuclide</th>\n",
       "      <th>score</th>\n",
       "      <th>mean</th>\n",
       "      <th>std. dev.</th>\n",
       "    </tr>\n",
       "  </thead>\n",
       "  <tbody>\n",
       "    <tr>\n",
       "      <th>0</th>\n",
       "      <td>0</td>\n",
       "      <td>6.250000e-07</td>\n",
       "      <td>total</td>\n",
       "      <td>nu-fission</td>\n",
       "      <td>1.202298</td>\n",
       "      <td>0.013385</td>\n",
       "    </tr>\n",
       "  </tbody>\n",
       "</table>\n",
       "</div>"
      ],
      "text/plain": [
       "   energy low [MeV]  energy high [MeV] nuclide       score     mean  std. dev.\n",
       "0          0.00e+00           6.25e-07   total  nu-fission 1.20e+00   1.34e-02"
      ]
     },
     "execution_count": 28,
     "metadata": {},
     "output_type": "execute_result"
    }
   ],
   "source": [
    "# Compute fast fission factor factor using tally arithmetic\n",
    "therm_fiss_rate = sp.get_tally(name='therm. fiss. rate')\n",
    "fast_fiss = fiss_rate / therm_fiss_rate\n",
    "fast_fiss.get_pandas_dataframe()"
   ]
  },
  {
   "cell_type": "markdown",
   "metadata": {},
   "source": [
    "The thermal flux utilization is calculated as\n",
    "$$f=\\frac{\\langle\\Sigma_a\\phi\\rangle^F_T}{\\langle\\Sigma_a\\phi\\rangle_T}$$\n",
    "where the superscript $F$ denotes fuel."
   ]
  },
  {
   "cell_type": "code",
   "execution_count": 29,
   "metadata": {
    "collapsed": false
   },
   "outputs": [
    {
     "data": {
      "text/html": [
       "<div>\n",
       "<table border=\"1\" class=\"dataframe\">\n",
       "  <thead>\n",
       "    <tr style=\"text-align: right;\">\n",
       "      <th></th>\n",
       "      <th>energy low [MeV]</th>\n",
       "      <th>energy high [MeV]</th>\n",
       "      <th>cell</th>\n",
       "      <th>nuclide</th>\n",
       "      <th>score</th>\n",
       "      <th>mean</th>\n",
       "      <th>std. dev.</th>\n",
       "    </tr>\n",
       "  </thead>\n",
       "  <tbody>\n",
       "    <tr>\n",
       "      <th>0</th>\n",
       "      <td>0</td>\n",
       "      <td>6.250000e-07</td>\n",
       "      <td>10000</td>\n",
       "      <td>total</td>\n",
       "      <td>absorption</td>\n",
       "      <td>0.749151</td>\n",
       "      <td>0.009003</td>\n",
       "    </tr>\n",
       "  </tbody>\n",
       "</table>\n",
       "</div>"
      ],
      "text/plain": [
       "   energy low [MeV]  energy high [MeV]   cell nuclide       score     mean  \\\n",
       "0          0.00e+00           6.25e-07  10000   total  absorption 7.49e-01   \n",
       "\n",
       "   std. dev.  \n",
       "0   9.00e-03  "
      ]
     },
     "execution_count": 29,
     "metadata": {},
     "output_type": "execute_result"
    }
   ],
   "source": [
    "# Compute thermal flux utilization factor using tally arithmetic\n",
    "fuel_therm_abs_rate = sp.get_tally(name='fuel therm. abs. rate')\n",
    "therm_util = fuel_therm_abs_rate / therm_abs_rate\n",
    "therm_util.get_pandas_dataframe()"
   ]
  },
  {
   "cell_type": "markdown",
   "metadata": {},
   "source": [
    "The final factor is the number of fission neutrons produced per absorption in fuel, calculated as $$\\eta = \\frac{\\langle \\nu\\Sigma_f\\phi \\rangle_T}{\\langle \\Sigma_a \\phi \\rangle^F_T}$$"
   ]
  },
  {
   "cell_type": "code",
   "execution_count": 30,
   "metadata": {
    "collapsed": false
   },
   "outputs": [
    {
     "data": {
      "text/html": [
       "<div>\n",
       "<table border=\"1\" class=\"dataframe\">\n",
       "  <thead>\n",
       "    <tr style=\"text-align: right;\">\n",
       "      <th></th>\n",
       "      <th>energy low [MeV]</th>\n",
       "      <th>energy high [MeV]</th>\n",
       "      <th>cell</th>\n",
       "      <th>nuclide</th>\n",
       "      <th>score</th>\n",
       "      <th>mean</th>\n",
       "      <th>std. dev.</th>\n",
       "    </tr>\n",
       "  </thead>\n",
       "  <tbody>\n",
       "    <tr>\n",
       "      <th>0</th>\n",
       "      <td>0</td>\n",
       "      <td>6.250000e-07</td>\n",
       "      <td>10000</td>\n",
       "      <td>total</td>\n",
       "      <td>(nu-fission / absorption)</td>\n",
       "      <td>1.663435</td>\n",
       "      <td>0.019976</td>\n",
       "    </tr>\n",
       "  </tbody>\n",
       "</table>\n",
       "</div>"
      ],
      "text/plain": [
       "   energy low [MeV]  energy high [MeV]   cell nuclide  \\\n",
       "0          0.00e+00           6.25e-07  10000   total   \n",
       "\n",
       "                       score     mean  std. dev.  \n",
       "0  (nu-fission / absorption) 1.66e+00   2.00e-02  "
      ]
     },
     "execution_count": 30,
     "metadata": {},
     "output_type": "execute_result"
    }
   ],
   "source": [
    "# Compute neutrons produced per absorption (eta) using tally arithmetic\n",
    "eta = therm_fiss_rate / fuel_therm_abs_rate\n",
    "eta.get_pandas_dataframe()"
   ]
  },
  {
   "cell_type": "markdown",
   "metadata": {},
   "source": [
    "Now we can calculate $k_\\infty$ using the product of the factors form the four-factor formula."
   ]
  },
  {
   "cell_type": "code",
   "execution_count": 31,
   "metadata": {
    "collapsed": false
   },
   "outputs": [
    {
     "data": {
      "text/html": [
       "<div>\n",
       "<table border=\"1\" class=\"dataframe\">\n",
       "  <thead>\n",
       "    <tr style=\"text-align: right;\">\n",
       "      <th></th>\n",
       "      <th>energy low [MeV]</th>\n",
       "      <th>energy high [MeV]</th>\n",
       "      <th>cell</th>\n",
       "      <th>nuclide</th>\n",
       "      <th>score</th>\n",
       "      <th>mean</th>\n",
       "      <th>std. dev.</th>\n",
       "    </tr>\n",
       "  </thead>\n",
       "  <tbody>\n",
       "    <tr>\n",
       "      <th>0</th>\n",
       "      <td>0</td>\n",
       "      <td>6.250000e-07</td>\n",
       "      <td>10000</td>\n",
       "      <td>total</td>\n",
       "      <td>(((absorption * nu-fission) * absorption) * (n...</td>\n",
       "      <td>1.036847</td>\n",
       "      <td>0.023674</td>\n",
       "    </tr>\n",
       "  </tbody>\n",
       "</table>\n",
       "</div>"
      ],
      "text/plain": [
       "   energy low [MeV]  energy high [MeV]   cell nuclide  \\\n",
       "0          0.00e+00           6.25e-07  10000   total   \n",
       "\n",
       "                                               score     mean  std. dev.  \n",
       "0  (((absorption * nu-fission) * absorption) * (n... 1.04e+00   2.37e-02  "
      ]
     },
     "execution_count": 31,
     "metadata": {},
     "output_type": "execute_result"
    }
   ],
   "source": [
    "keff = res_esc * fast_fiss * therm_util * eta\n",
    "keff.get_pandas_dataframe()"
   ]
  },
  {
   "cell_type": "markdown",
   "metadata": {},
   "source": [
    "We see that the value we've obtained here has exactly the same mean as before. However, because of the way it was calculated, the standard deviation appears to be larger.\n",
    "\n",
    "Let's move on to a more complicated example now. Before we set up tallies to get reaction rates in the fuel and moderator in two energy groups for two different nuclides. We can use tally arithmetic to divide each of these reaction rates by the flux to get microscopic multi-group cross sections."
   ]
  },
  {
   "cell_type": "code",
   "execution_count": 32,
   "metadata": {
    "collapsed": false,
    "scrolled": true
   },
   "outputs": [],
   "source": [
    "# Compute microscopic multi-group cross-sections\n",
    "flux = sp.get_tally(name='flux')\n",
    "flux = flux.get_slice(filters=['cell'], filter_bins=[(fuel_cell.id,)])\n",
    "fuel_rxn_rates = sp.get_tally(name='fuel rxn rates')\n",
    "mod_rxn_rates = sp.get_tally(name='moderator rxn rates')"
   ]
  },
  {
   "cell_type": "code",
   "execution_count": 33,
   "metadata": {
    "collapsed": false
   },
   "outputs": [
    {
     "data": {
      "text/html": [
       "<div>\n",
       "<table border=\"1\" class=\"dataframe\">\n",
       "  <thead>\n",
       "    <tr style=\"text-align: right;\">\n",
       "      <th></th>\n",
       "      <th>cell</th>\n",
       "      <th>energy low [MeV]</th>\n",
       "      <th>energy high [MeV]</th>\n",
       "      <th>nuclide</th>\n",
       "      <th>score</th>\n",
       "      <th>mean</th>\n",
       "      <th>std. dev.</th>\n",
       "    </tr>\n",
       "  </thead>\n",
       "  <tbody>\n",
       "    <tr>\n",
       "      <th>0</th>\n",
       "      <td>10000</td>\n",
       "      <td>0.000000e+00</td>\n",
       "      <td>6.250000e-07</td>\n",
       "      <td>(U-238 / total)</td>\n",
       "      <td>(nu-fission / flux)</td>\n",
       "      <td>6.627781e-07</td>\n",
       "      <td>7.082494e-09</td>\n",
       "    </tr>\n",
       "    <tr>\n",
       "      <th>1</th>\n",
       "      <td>10000</td>\n",
       "      <td>0.000000e+00</td>\n",
       "      <td>6.250000e-07</td>\n",
       "      <td>(U-238 / total)</td>\n",
       "      <td>(scatter / flux)</td>\n",
       "      <td>2.099843e-01</td>\n",
       "      <td>2.003686e-03</td>\n",
       "    </tr>\n",
       "    <tr>\n",
       "      <th>2</th>\n",
       "      <td>10000</td>\n",
       "      <td>0.000000e+00</td>\n",
       "      <td>6.250000e-07</td>\n",
       "      <td>(U-235 / total)</td>\n",
       "      <td>(nu-fission / flux)</td>\n",
       "      <td>3.547246e-01</td>\n",
       "      <td>3.854562e-03</td>\n",
       "    </tr>\n",
       "    <tr>\n",
       "      <th>3</th>\n",
       "      <td>10000</td>\n",
       "      <td>0.000000e+00</td>\n",
       "      <td>6.250000e-07</td>\n",
       "      <td>(U-235 / total)</td>\n",
       "      <td>(scatter / flux)</td>\n",
       "      <td>5.554185e-03</td>\n",
       "      <td>5.316706e-05</td>\n",
       "    </tr>\n",
       "    <tr>\n",
       "      <th>4</th>\n",
       "      <td>10000</td>\n",
       "      <td>6.250000e-07</td>\n",
       "      <td>2.000000e+01</td>\n",
       "      <td>(U-238 / total)</td>\n",
       "      <td>(nu-fission / flux)</td>\n",
       "      <td>7.151165e-03</td>\n",
       "      <td>5.480545e-05</td>\n",
       "    </tr>\n",
       "    <tr>\n",
       "      <th>5</th>\n",
       "      <td>10000</td>\n",
       "      <td>6.250000e-07</td>\n",
       "      <td>2.000000e+01</td>\n",
       "      <td>(U-238 / total)</td>\n",
       "      <td>(scatter / flux)</td>\n",
       "      <td>2.278981e-01</td>\n",
       "      <td>6.424480e-04</td>\n",
       "    </tr>\n",
       "    <tr>\n",
       "      <th>6</th>\n",
       "      <td>10000</td>\n",
       "      <td>6.250000e-07</td>\n",
       "      <td>2.000000e+01</td>\n",
       "      <td>(U-235 / total)</td>\n",
       "      <td>(nu-fission / flux)</td>\n",
       "      <td>8.073636e-03</td>\n",
       "      <td>4.374754e-05</td>\n",
       "    </tr>\n",
       "    <tr>\n",
       "      <th>7</th>\n",
       "      <td>10000</td>\n",
       "      <td>6.250000e-07</td>\n",
       "      <td>2.000000e+01</td>\n",
       "      <td>(U-235 / total)</td>\n",
       "      <td>(scatter / flux)</td>\n",
       "      <td>3.369592e-03</td>\n",
       "      <td>8.971220e-06</td>\n",
       "    </tr>\n",
       "  </tbody>\n",
       "</table>\n",
       "</div>"
      ],
      "text/plain": [
       "    cell  energy low [MeV]  energy high [MeV]          nuclide  \\\n",
       "0  10000          0.00e+00           6.25e-07  (U-238 / total)   \n",
       "1  10000          0.00e+00           6.25e-07  (U-238 / total)   \n",
       "2  10000          0.00e+00           6.25e-07  (U-235 / total)   \n",
       "3  10000          0.00e+00           6.25e-07  (U-235 / total)   \n",
       "4  10000          6.25e-07           2.00e+01  (U-238 / total)   \n",
       "5  10000          6.25e-07           2.00e+01  (U-238 / total)   \n",
       "6  10000          6.25e-07           2.00e+01  (U-235 / total)   \n",
       "7  10000          6.25e-07           2.00e+01  (U-235 / total)   \n",
       "\n",
       "                 score     mean  std. dev.  \n",
       "0  (nu-fission / flux) 6.63e-07   7.08e-09  \n",
       "1     (scatter / flux) 2.10e-01   2.00e-03  \n",
       "2  (nu-fission / flux) 3.55e-01   3.85e-03  \n",
       "3     (scatter / flux) 5.55e-03   5.32e-05  \n",
       "4  (nu-fission / flux) 7.15e-03   5.48e-05  \n",
       "5     (scatter / flux) 2.28e-01   6.42e-04  \n",
       "6  (nu-fission / flux) 8.07e-03   4.37e-05  \n",
       "7     (scatter / flux) 3.37e-03   8.97e-06  "
      ]
     },
     "execution_count": 33,
     "metadata": {},
     "output_type": "execute_result"
    }
   ],
   "source": [
    "fuel_xs = fuel_rxn_rates / flux\n",
    "fuel_xs.get_pandas_dataframe()"
   ]
  },
  {
   "cell_type": "markdown",
   "metadata": {},
   "source": [
    "We see that when the two tallies with multiple bins were divided, the derived tally contains the outer product of the combinations. If the filters/scores are the same, no outer product is needed. The `get_values(...)` method allows us to obtain a subset of tally scores. In the following example, we obtain just the neutron production microscopic cross sections."
   ]
  },
  {
   "cell_type": "code",
   "execution_count": 34,
   "metadata": {
    "collapsed": false
   },
   "outputs": [
    {
     "name": "stdout",
     "output_type": "stream",
     "text": [
      "[[[  6.62778145e-07]\n",
      "  [  3.54724568e-01]]\n",
      "\n",
      " [[  7.15116511e-03]\n",
      "  [  8.07363630e-03]]]\n"
     ]
    }
   ],
   "source": [
    "# Show how to use Tally.get_values(...) with a CrossScore\n",
    "nu_fiss_xs = fuel_xs.get_values(scores=['(nu-fission / flux)'])\n",
    "print(nu_fiss_xs)"
   ]
  },
  {
   "cell_type": "markdown",
   "metadata": {},
   "source": [
    "The same idea can be used not only for scores but also for filters and nuclides."
   ]
  },
  {
   "cell_type": "code",
   "execution_count": 35,
   "metadata": {
    "collapsed": false
   },
   "outputs": [
    {
     "name": "stdout",
     "output_type": "stream",
     "text": [
      "[[[ 0.00555418]]\n",
      "\n",
      " [[ 0.00336959]]]\n"
     ]
    }
   ],
   "source": [
    "# Show how to use Tally.get_values(...) with a CrossScore and CrossNuclide\n",
    "u235_scatter_xs = fuel_xs.get_values(nuclides=['(U-235 / total)'], \n",
    "                                scores=['(scatter / flux)'])\n",
    "print(u235_scatter_xs)"
   ]
  },
  {
   "cell_type": "code",
   "execution_count": 36,
   "metadata": {
    "collapsed": false
   },
   "outputs": [
    {
     "name": "stdout",
     "output_type": "stream",
     "text": [
      "[[[ 0.22789806]\n",
      "  [ 0.00336959]]]\n"
     ]
    }
   ],
   "source": [
    "# Show how to use Tally.get_values(...) with a CrossFilter and CrossScore\n",
    "fast_scatter_xs = fuel_xs.get_values(filters=['energy'], \n",
    "                                     filter_bins=[((0.625e-6, 20.),)], \n",
    "                                     scores=['(scatter / flux)'])\n",
    "print(fast_scatter_xs)"
   ]
  },
  {
   "cell_type": "markdown",
   "metadata": {},
   "source": [
    "A more advanced method is to use `get_slice(...)` to create a new derived tally that is a subset of an existing tally. This has the benefit that we can use `get_pandas_dataframe()` to see the tallies in a more human-readable format."
   ]
  },
  {
   "cell_type": "code",
   "execution_count": 37,
   "metadata": {
    "collapsed": false
   },
   "outputs": [
    {
     "data": {
      "text/html": [
       "<div>\n",
       "<table border=\"1\" class=\"dataframe\">\n",
       "  <thead>\n",
       "    <tr style=\"text-align: right;\">\n",
       "      <th></th>\n",
       "      <th>cell</th>\n",
       "      <th>energy low [MeV]</th>\n",
       "      <th>energy high [MeV]</th>\n",
       "      <th>nuclide</th>\n",
       "      <th>score</th>\n",
       "      <th>mean</th>\n",
       "      <th>std. dev.</th>\n",
       "    </tr>\n",
       "  </thead>\n",
       "  <tbody>\n",
       "    <tr>\n",
       "      <th>0</th>\n",
       "      <td>10000</td>\n",
       "      <td>0.000000e+00</td>\n",
       "      <td>6.250000e-07</td>\n",
       "      <td>U-238</td>\n",
       "      <td>nu-fission</td>\n",
       "      <td>0.000002</td>\n",
       "      <td>1.338459e-08</td>\n",
       "    </tr>\n",
       "    <tr>\n",
       "      <th>1</th>\n",
       "      <td>10000</td>\n",
       "      <td>0.000000e+00</td>\n",
       "      <td>6.250000e-07</td>\n",
       "      <td>U-235</td>\n",
       "      <td>nu-fission</td>\n",
       "      <td>0.864141</td>\n",
       "      <td>7.363278e-03</td>\n",
       "    </tr>\n",
       "    <tr>\n",
       "      <th>2</th>\n",
       "      <td>10000</td>\n",
       "      <td>6.250000e-07</td>\n",
       "      <td>2.000000e+01</td>\n",
       "      <td>U-238</td>\n",
       "      <td>nu-fission</td>\n",
       "      <td>0.082111</td>\n",
       "      <td>6.090952e-04</td>\n",
       "    </tr>\n",
       "    <tr>\n",
       "      <th>3</th>\n",
       "      <td>10000</td>\n",
       "      <td>6.250000e-07</td>\n",
       "      <td>2.000000e+01</td>\n",
       "      <td>U-235</td>\n",
       "      <td>nu-fission</td>\n",
       "      <td>0.092703</td>\n",
       "      <td>4.695215e-04</td>\n",
       "    </tr>\n",
       "  </tbody>\n",
       "</table>\n",
       "</div>"
      ],
      "text/plain": [
       "    cell  energy low [MeV]  energy high [MeV] nuclide       score     mean  \\\n",
       "0  10000          0.00e+00           6.25e-07   U-238  nu-fission 1.61e-06   \n",
       "1  10000          0.00e+00           6.25e-07   U-235  nu-fission 8.64e-01   \n",
       "2  10000          6.25e-07           2.00e+01   U-238  nu-fission 8.21e-02   \n",
       "3  10000          6.25e-07           2.00e+01   U-235  nu-fission 9.27e-02   \n",
       "\n",
       "   std. dev.  \n",
       "0   1.34e-08  \n",
       "1   7.36e-03  \n",
       "2   6.09e-04  \n",
       "3   4.70e-04  "
      ]
     },
     "execution_count": 37,
     "metadata": {},
     "output_type": "execute_result"
    }
   ],
   "source": [
    "# \"Slice\" the nu-fission data into a new derived Tally\n",
    "nu_fission_rates = fuel_rxn_rates.get_slice(scores=['nu-fission'])\n",
    "nu_fission_rates.get_pandas_dataframe()"
   ]
  },
  {
   "cell_type": "code",
   "execution_count": 38,
   "metadata": {
    "collapsed": false
   },
   "outputs": [
    {
     "data": {
      "text/html": [
       "<div>\n",
       "<table border=\"1\" class=\"dataframe\">\n",
       "  <thead>\n",
       "    <tr style=\"text-align: right;\">\n",
       "      <th></th>\n",
       "      <th>cell</th>\n",
       "      <th>energy low [MeV]</th>\n",
       "      <th>energy high [MeV]</th>\n",
       "      <th>nuclide</th>\n",
       "      <th>score</th>\n",
       "      <th>mean</th>\n",
       "      <th>std. dev.</th>\n",
       "    </tr>\n",
       "  </thead>\n",
       "  <tbody>\n",
       "    <tr>\n",
       "      <th>0</th>\n",
       "      <td>10002</td>\n",
       "      <td>1.000000e-08</td>\n",
       "      <td>1.080060e-07</td>\n",
       "      <td>H-1</td>\n",
       "      <td>scatter</td>\n",
       "      <td>4.591022</td>\n",
       "      <td>0.043961</td>\n",
       "    </tr>\n",
       "    <tr>\n",
       "      <th>1</th>\n",
       "      <td>10002</td>\n",
       "      <td>1.080060e-07</td>\n",
       "      <td>1.166529e-06</td>\n",
       "      <td>H-1</td>\n",
       "      <td>scatter</td>\n",
       "      <td>2.032481</td>\n",
       "      <td>0.010876</td>\n",
       "    </tr>\n",
       "    <tr>\n",
       "      <th>2</th>\n",
       "      <td>10002</td>\n",
       "      <td>1.166529e-06</td>\n",
       "      <td>1.259921e-05</td>\n",
       "      <td>H-1</td>\n",
       "      <td>scatter</td>\n",
       "      <td>1.654187</td>\n",
       "      <td>0.012130</td>\n",
       "    </tr>\n",
       "    <tr>\n",
       "      <th>3</th>\n",
       "      <td>10002</td>\n",
       "      <td>1.259921e-05</td>\n",
       "      <td>1.360790e-04</td>\n",
       "      <td>H-1</td>\n",
       "      <td>scatter</td>\n",
       "      <td>1.864771</td>\n",
       "      <td>0.011649</td>\n",
       "    </tr>\n",
       "    <tr>\n",
       "      <th>4</th>\n",
       "      <td>10002</td>\n",
       "      <td>1.360790e-04</td>\n",
       "      <td>1.469734e-03</td>\n",
       "      <td>H-1</td>\n",
       "      <td>scatter</td>\n",
       "      <td>2.056893</td>\n",
       "      <td>0.008555</td>\n",
       "    </tr>\n",
       "    <tr>\n",
       "      <th>5</th>\n",
       "      <td>10002</td>\n",
       "      <td>1.469734e-03</td>\n",
       "      <td>1.587401e-02</td>\n",
       "      <td>H-1</td>\n",
       "      <td>scatter</td>\n",
       "      <td>2.138833</td>\n",
       "      <td>0.015180</td>\n",
       "    </tr>\n",
       "    <tr>\n",
       "      <th>6</th>\n",
       "      <td>10002</td>\n",
       "      <td>1.587401e-02</td>\n",
       "      <td>1.714488e-01</td>\n",
       "      <td>H-1</td>\n",
       "      <td>scatter</td>\n",
       "      <td>2.207209</td>\n",
       "      <td>0.014853</td>\n",
       "    </tr>\n",
       "    <tr>\n",
       "      <th>7</th>\n",
       "      <td>10002</td>\n",
       "      <td>1.714488e-01</td>\n",
       "      <td>1.851749e+00</td>\n",
       "      <td>H-1</td>\n",
       "      <td>scatter</td>\n",
       "      <td>1.999407</td>\n",
       "      <td>0.009053</td>\n",
       "    </tr>\n",
       "    <tr>\n",
       "      <th>8</th>\n",
       "      <td>10002</td>\n",
       "      <td>1.851749e+00</td>\n",
       "      <td>2.000000e+01</td>\n",
       "      <td>H-1</td>\n",
       "      <td>scatter</td>\n",
       "      <td>0.368760</td>\n",
       "      <td>0.003373</td>\n",
       "    </tr>\n",
       "  </tbody>\n",
       "</table>\n",
       "</div>"
      ],
      "text/plain": [
       "    cell  energy low [MeV]  energy high [MeV] nuclide    score     mean  \\\n",
       "0  10002          1.00e-08           1.08e-07     H-1  scatter 4.59e+00   \n",
       "1  10002          1.08e-07           1.17e-06     H-1  scatter 2.03e+00   \n",
       "2  10002          1.17e-06           1.26e-05     H-1  scatter 1.65e+00   \n",
       "3  10002          1.26e-05           1.36e-04     H-1  scatter 1.86e+00   \n",
       "4  10002          1.36e-04           1.47e-03     H-1  scatter 2.06e+00   \n",
       "5  10002          1.47e-03           1.59e-02     H-1  scatter 2.14e+00   \n",
       "6  10002          1.59e-02           1.71e-01     H-1  scatter 2.21e+00   \n",
       "7  10002          1.71e-01           1.85e+00     H-1  scatter 2.00e+00   \n",
       "8  10002          1.85e+00           2.00e+01     H-1  scatter 3.69e-01   \n",
       "\n",
       "   std. dev.  \n",
       "0   4.40e-02  \n",
       "1   1.09e-02  \n",
       "2   1.21e-02  \n",
       "3   1.16e-02  \n",
       "4   8.56e-03  \n",
       "5   1.52e-02  \n",
       "6   1.49e-02  \n",
       "7   9.05e-03  \n",
       "8   3.37e-03  "
      ]
     },
     "execution_count": 38,
     "metadata": {},
     "output_type": "execute_result"
    }
   ],
   "source": [
    "# \"Slice\" the H-1 scatter data in the moderator Cell into a new derived Tally\n",
    "need_to_slice = sp.get_tally(name='need-to-slice')\n",
    "slice_test = need_to_slice.get_slice(scores=['scatter'], nuclides=['H-1'],\n",
    "                                     filters=['cell'], filter_bins=[(moderator_cell.id,)])\n",
    "slice_test.get_pandas_dataframe()"
   ]
  }
 ],
 "metadata": {
  "kernelspec": {
   "display_name": "Python 2",
   "language": "python",
   "name": "python2"
  },
  "language_info": {
   "codemirror_mode": {
    "name": "ipython",
    "version": 2
   },
   "file_extension": ".py",
   "mimetype": "text/x-python",
   "name": "python",
   "nbconvert_exporter": "python",
   "pygments_lexer": "ipython2",
   "version": "2.7.11"
  }
 },
 "nbformat": 4,
 "nbformat_minor": 0
}
