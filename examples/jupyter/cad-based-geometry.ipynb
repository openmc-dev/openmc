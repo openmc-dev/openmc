{
 "cells": [
  {
   "cell_type": "markdown",
   "metadata": {},
   "source": [
    "In this notebook we'll be exploring how to use CAD-based geometries in OpenMC via the [DagMC](https://svalinn.github.io/DAGMC/index.html) toolkit. The models we'll be using in this notebook have already been created using [Trelis](https://www.csimsoft.com/trelis) and faceted into a surface mesh represented as `.h5m` files in the [Mesh Oriented DatABase](https://press3.mcs.anl.gov/sigma/moab-library/) format. We'll be retrieving these files using the function below.\n",
    "\n"
   ]
  },
  {
   "cell_type": "code",
   "execution_count": 1,
   "metadata": {},
   "outputs": [],
   "source": [
    "import urllib.request\n",
    "\n",
    "fuel_pin_url = 'https://tinyurl.com/y3ugwz6w' # 1.2 MB\n",
    "teapot_url = 'https://tinyurl.com/y4mcmc3u' # 29 MB\n",
    "\n",
    "def download(url):\n",
    "    \"\"\"\n",
    "    Helper function for retrieving dagmc models\n",
    "    \"\"\"\n",
    "    u = urllib.request.urlopen(url)\n",
    "    \n",
    "    if u.status != 200:\n",
    "        raise RuntimeError(\"Failed to download file.\")\n",
    "    \n",
    "    # save file as dagmc.h5m\n",
    "    with open(\"dagmc.h5m\", 'wb') as f:\n",
    "        f.write(u.read())"
   ]
  },
  {
   "cell_type": "markdown",
   "metadata": {},
   "source": [
    "This notebook is intended to demonstrate how DagMC problems are run in OpenMC. For more information on how DagMC models are created, please refer to the [DagMC User's Guide](https://svalinn.github.io/DAGMC/usersguide/index.html).\n"
   ]
  },
  {
   "cell_type": "markdown",
   "metadata": {},
   "source": [
    "# CAD-Based Geometry in OpenMC using [DagMC](https://svalinn.github.io/DAGMC/)"
   ]
  },
  {
   "cell_type": "code",
   "execution_count": 2,
   "metadata": {},
   "outputs": [],
   "source": [
    "%matplotlib inline\n",
    "from IPython.display import Image\n",
    "import openmc"
   ]
  },
  {
   "cell_type": "markdown",
   "metadata": {},
   "source": [
    "To start, we'll be using a simple U235 fuel pin surrounded by a water moderator, so let's create those materials."
   ]
  },
  {
   "cell_type": "code",
   "execution_count": 3,
   "metadata": {},
   "outputs": [],
   "source": [
    " # materials\n",
    "u235 = openmc.Material(name=\"fuel\")\n",
    "u235.add_nuclide('U235', 1.0, 'ao')\n",
    "u235.set_density('g/cc', 11)\n",
    "u235.id = 40\n",
    "\n",
    "water = openmc.Material(name=\"water\")\n",
    "water.add_nuclide('H1', 2.0, 'ao')\n",
    "water.add_nuclide('O16', 1.0, 'ao')\n",
    "water.set_density('g/cc', 1.0)\n",
    "water.add_s_alpha_beta('c_H_in_H2O')\n",
    "water.id = 41\n",
    "\n",
    "mats = openmc.Materials([u235, water])\n",
    "mats.export_to_xml()"
   ]
  },
  {
   "cell_type": "markdown",
   "metadata": {},
   "source": [
    "Now let's get our DAGMC geometry. We'll be using prefabricated models in this notebook. For information on how to create your own DAGMC models, you can refer to the instructions [here](https://svalinn.github.io/DAGMC/usersguide/trelis_workflow.html)."
   ]
  },
  {
   "cell_type": "markdown",
   "metadata": {},
   "source": [
    "Let's download the DAGMC model. These models come in the form of triangle surface meshes stored using the the Mesh Oriented datABase ([MOAB](https://press3.mcs.anl.gov/sigma/moab-library/)) in an HDF5 file with the extension `.h5m`. An example of a coarse triangle mesh looks like:"
   ]
  },
  {
   "cell_type": "markdown",
   "metadata": {},
   "source": [
    "![DagMC Cylinder](./images/cylinder_mesh.png)"
   ]
  },
  {
   "cell_type": "markdown",
   "metadata": {},
   "source": [
    "First we'll need to grab some pre-made DagMC models."
   ]
  },
  {
   "cell_type": "code",
   "execution_count": 4,
   "metadata": {},
   "outputs": [],
   "source": [
    "download(fuel_pin_url)"
   ]
  },
  {
   "cell_type": "markdown",
   "metadata": {},
   "source": [
    "OpenMC expects that the model has the name \"dagmc.h5m\" so we'll name the file that and indicate to OpenMC that a DAGMC geometry is being used by setting the `settings.dagmc` attribute to `True`."
   ]
  },
  {
   "cell_type": "code",
   "execution_count": 5,
   "metadata": {},
   "outputs": [],
   "source": [
    "settings = openmc.Settings()\n",
    "settings.dagmc = True\n",
    "settings.batches = 10\n",
    "settings.inactive = 2\n",
    "settings.particles = 5000\n",
    "settings.export_to_xml()"
   ]
  },
  {
   "cell_type": "markdown",
   "metadata": {},
   "source": [
    "Unlike conventional geometries in OpenMC, we really have no way of knowing what our model looks like at this point. Thankfully DagMC geometries can be plotted just like any other OpenMC geometry to give us an idea of what we're now working with.\n",
    "\n",
    "Note that material assignments have already been applied to this model. Materials can be assigned either using ids or names of materials in the `materials.xml` file. It is recommended that material names are used for assignment for readability."
   ]
  },
  {
   "cell_type": "code",
   "execution_count": 6,
   "metadata": {},
   "outputs": [
    {
     "data": {
      "image/png": "[encoded data removed]",
      "text/plain": [
       "<IPython.core.display.Image object>"
      ]
     },
     "metadata": {},
     "output_type": "display_data"
    }
   ],
   "source": [
    "p = openmc.Plot()\n",
    "p.width = (25.0, 25.0)\n",
    "p.pixels = (400, 400)\n",
    "p.color_by = 'material'\n",
    "p.colors = {u235: 'yellow', water: 'blue'}\n",
    "openmc.plot_inline(p)"
   ]
  },
  {
   "cell_type": "markdown",
   "metadata": {},
   "source": [
    "Now that we've had a chance to examine the model a bit, we can finish applying our settings and add a source."
   ]
  },
  {
   "cell_type": "code",
   "execution_count": 7,
   "metadata": {},
   "outputs": [],
   "source": [
    "settings.source = openmc.Source(space=openmc.stats.Box([-4., -4., -4.],\n",
    "                                                       [ 4.,  4.,  4.]))\n",
    "settings.export_to_xml()"
   ]
  },
  {
   "cell_type": "markdown",
   "metadata": {},
   "source": [
    "Tallies work in the same way when using DAGMC geometries too. We'll add a tally on the fuel cell here."
   ]
  },
  {
   "cell_type": "code",
   "execution_count": 8,
   "metadata": {},
   "outputs": [],
   "source": [
    "tally = openmc.Tally()\n",
    "tally.scores = ['total']\n",
    "tally.filters = [openmc.CellFilter(1)]\n",
    "tallies = openmc.Tallies([tally])\n",
    "tallies.export_to_xml()"
   ]
  },
  {
   "cell_type": "markdown",
   "metadata": {},
   "source": [
    "Now we're ready to run the simulation just like any other OpenMC run."
   ]
  },
  {
   "cell_type": "code",
   "execution_count": 9,
   "metadata": {
    "scrolled": true
   },
   "outputs": [
    {
     "name": "stdout",
     "output_type": "stream",
     "text": [
      "                                %%%%%%%%%%%%%%%\n",
      "                           %%%%%%%%%%%%%%%%%%%%%%%%\n",
      "                        %%%%%%%%%%%%%%%%%%%%%%%%%%%%%%\n",
      "                      %%%%%%%%%%%%%%%%%%%%%%%%%%%%%%%%%%\n",
      "                    %%%%%%%%%%%%%%%%%%%%%%%%%%%%%%%%%%%%%%\n",
      "                   %%%%%%%%%%%%%%%%%%%%%%%%%%%%%%%%%%%%%%%%\n",
      "                                    %%%%%%%%%%%%%%%%%%%%%%%%\n",
      "                                     %%%%%%%%%%%%%%%%%%%%%%%%\n",
      "                 ###############      %%%%%%%%%%%%%%%%%%%%%%%%\n",
      "                ##################     %%%%%%%%%%%%%%%%%%%%%%%\n",
      "                ###################     %%%%%%%%%%%%%%%%%%%%%%%\n",
      "                ####################     %%%%%%%%%%%%%%%%%%%%%%\n",
      "                #####################     %%%%%%%%%%%%%%%%%%%%%\n",
      "                ######################     %%%%%%%%%%%%%%%%%%%%\n",
      "                #######################     %%%%%%%%%%%%%%%%%%\n",
      "                 #######################     %%%%%%%%%%%%%%%%%\n",
      "                 ######################     %%%%%%%%%%%%%%%%%\n",
      "                  ####################     %%%%%%%%%%%%%%%%%\n",
      "                    #################     %%%%%%%%%%%%%%%%%\n",
      "                     ###############     %%%%%%%%%%%%%%%%\n",
      "                       ############     %%%%%%%%%%%%%%%\n",
      "                          ########     %%%%%%%%%%%%%%\n",
      "                                      %%%%%%%%%%%\n",
      "\n",
      "                   | The OpenMC Monte Carlo Code\n",
      "         Copyright | 2011-2019 MIT and OpenMC contributors\n",
      "           License | http://openmc.readthedocs.io/en/latest/license.html\n",
      "           Version | 0.11.0-dev\n",
      "          Git SHA1 | f29be35a2c7d44d411c5eb7d428e601e36f4d8a8\n",
      "         Date/Time | 2019-06-17 15:15:03\n",
      "    OpenMP Threads | 2\n",
      "\n",
      " Reading settings XML file...\n",
      " Reading cross sections XML file...\n",
      " Reading materials XML file...\n",
      " Reading DAGMC geometry...\n",
      "Loading file dagmc.h5m\n",
      "Initializing the GeomQueryTool...\n",
      "Using faceting tolerance: 0.0001\n",
      "Building OBB Tree...\n",
      " Reading U235 from /home/shriwise/opt/openmc/xs/nndc_hdf5/U235.h5\n",
      " Reading H1 from /home/shriwise/opt/openmc/xs/nndc_hdf5/H1.h5\n",
      " Reading O16 from /home/shriwise/opt/openmc/xs/nndc_hdf5/O16.h5\n",
      " Reading c_H_in_H2O from /home/shriwise/opt/openmc/xs/nndc_hdf5/c_H_in_H2O.h5\n",
      " Maximum neutron transport energy: 20000000.000000 eV for U235\n",
      " Reading tallies XML file...\n",
      " Writing summary.h5 file...\n",
      " Initializing source particles...\n",
      "\n",
      " ====================>     K EIGENVALUE SIMULATION     <====================\n",
      "\n",
      "  Bat./Gen.      k            Average k\n",
      "  =========   ========   ====================\n",
      "        1/1    1.15789\n",
      "        2/1    1.05169\n",
      "        3/1    1.00736\n",
      "        4/1    0.97863    0.99300 +/- 0.01436\n",
      "        5/1    0.95316    0.97972 +/- 0.01566\n",
      "        6/1    0.95079    0.97248 +/- 0.01322\n",
      "        7/1    0.96879    0.97175 +/- 0.01027\n",
      "        8/1    0.94253    0.96688 +/- 0.00970\n",
      "        9/1    0.97406    0.96790 +/- 0.00826\n",
      "       10/1    0.97362    0.96862 +/- 0.00719\n",
      " Creating state point statepoint.10.h5...\n",
      "\n",
      " =======================>     TIMING STATISTICS     <=======================\n",
      "\n",
      " Total time for initialization     = 1.9676e-01 seconds\n",
      "   Reading cross sections          = 1.0400e-01 seconds\n",
      " Total time in simulation          = 1.5376e+00 seconds\n",
      "   Time in transport only          = 1.5318e+00 seconds\n",
      "   Time in inactive batches        = 2.9954e-01 seconds\n",
      "   Time in active batches          = 1.2381e+00 seconds\n",
      "   Time synchronizing fission bank = 2.2472e-03 seconds\n",
      "     Sampling source sites         = 2.0046e-03 seconds\n",
      "     SEND/RECV source sites        = 2.3714e-04 seconds\n",
      "   Time accumulating tallies       = 6.6150e-06 seconds\n",
      " Total time for finalization       = 1.5303e-04 seconds\n",
      " Total time elapsed                = 1.7636e+00 seconds\n",
      " Calculation Rate (inactive)       = 33384.8 particles/second\n",
      " Calculation Rate (active)         = 32307.9 particles/second\n",
      "\n",
      " ============================>     RESULTS     <============================\n",
      "\n",
      " k-effective (Collision)     = 0.97020 +/- 0.00750\n",
      " k-effective (Track-length)  = 0.96862 +/- 0.00719\n",
      " k-effective (Absorption)    = 0.95742 +/- 0.00791\n",
      " Combined k-effective        = 0.96203 +/- 0.00898\n",
      " Leakage Fraction            = 0.57677 +/- 0.00317\n",
      "\n"
     ]
    }
   ],
   "source": [
    "openmc.run()"
   ]
  },
  {
   "cell_type": "markdown",
   "metadata": {},
   "source": [
    "## More Complicated Geometry"
   ]
  },
  {
   "cell_type": "markdown",
   "metadata": {},
   "source": [
    "Neat! But this pincell is something we could've done with CSG. Let's take a look at something more complex. We'll download a pre-built model of the [Utah teapot](https://en.wikipedia.org/wiki/Utah_teapot) and use it here."
   ]
  },
  {
   "cell_type": "code",
   "execution_count": 10,
   "metadata": {},
   "outputs": [],
   "source": [
    "download(teapot_url)"
   ]
  },
  {
   "cell_type": "markdown",
   "metadata": {},
   "source": [
    "![Utah Teapot](./images/teapot.jpg)"
   ]
  },
  {
   "cell_type": "markdown",
   "metadata": {},
   "source": [
    "Our teapot is made out of iron, so we'll want to create that material and make sure it is in our `materials.xml` file."
   ]
  },
  {
   "cell_type": "code",
   "execution_count": 11,
   "metadata": {},
   "outputs": [],
   "source": [
    "iron = openmc.Material(name=\"iron\")\n",
    "iron.add_nuclide(\"Fe54\", 0.0564555822608)\n",
    "iron.add_nuclide(\"Fe56\", 0.919015287728)\n",
    "iron.add_nuclide(\"Fe57\", 0.0216036861685)\n",
    "iron.add_nuclide(\"Fe58\", 0.00292544384231)\n",
    "iron.set_density(\"g/cm3\", 7.874)\n",
    "mats = openmc.Materials([iron, water])\n",
    "mats.export_to_xml()"
   ]
  },
  {
   "cell_type": "markdown",
   "metadata": {},
   "source": [
    "To make sure we've updated the file correctly, let's make a plot of the teapot."
   ]
  },
  {
   "cell_type": "code",
   "execution_count": 12,
   "metadata": {},
   "outputs": [
    {
     "data": {
      "image/png": "[encoded data removed]",
      "text/plain": [
       "<IPython.core.display.Image object>"
      ]
     },
     "metadata": {},
     "output_type": "display_data"
    }
   ],
   "source": [
    "p = openmc.Plot()\n",
    "p.basis = 'xz'\n",
    "p.origin = (0.0, 0.0, 0.0)\n",
    "p.width = (30.0, 20.0)\n",
    "p.pixels = (450, 300)\n",
    "p.color_by = 'material'\n",
    "p.colors = {iron: 'gray', water: 'blue'}\n",
    "openmc.plot_inline(p)"
   ]
  },
  {
   "cell_type": "markdown",
   "metadata": {},
   "source": [
    "Here we start to see some of the advantages CAD geometries provide. This particular file was pulled from the [GrabCAD](https://grabcad.com/library) and pushed through the DAGMC workflow without modification (other than the addition of material assignments). It would take a considerable amount of time to create a model like this using CSG!"
   ]
  },
  {
   "cell_type": "code",
   "execution_count": 13,
   "metadata": {},
   "outputs": [
    {
     "data": {
      "image/png": "[encoded data removed]",
      "text/plain": [
       "<IPython.core.display.Image object>"
      ]
     },
     "metadata": {},
     "output_type": "display_data"
    }
   ],
   "source": [
    "p.width = (18.0, 6.0)\n",
    "p.basis = 'xz'\n",
    "p.origin = (10.0, 0.0, 5.0)\n",
    "p.pixels = (600, 200)\n",
    "p.color_by = 'material'\n",
    "openmc.plot_inline(p)"
   ]
  },
  {
   "cell_type": "markdown",
   "metadata": {},
   "source": [
    "Now let's brew some tea! ... using a very hot neutron source. We'll use some well-placed point sources distributed throughout the model."
   ]
  },
  {
   "cell_type": "code",
   "execution_count": 14,
   "metadata": {},
   "outputs": [],
   "source": [
    "settings = openmc.Settings()\n",
    "settings.dagmc = True\n",
    "settings.batches = 10\n",
    "settings.particles = 5000\n",
    "settings.run_mode = \"fixed source\"\n",
    "\n",
    "src_locations = ((-4.0, 0.0, -2.0),\n",
    "                 ( 4.0, 0.0, -2.0),\n",
    "                 ( 4.0, 0.0, -6.0),\n",
    "                 (-4.0, 0.0, -6.0),\n",
    "                 (10.0, 0.0, -4.0),\n",
    "                 (-8.0, 0.0, -4.0))\n",
    "\n",
    "# we'll use the same energy for each source\n",
    "src_e = openmc.stats.Discrete(x=[12.0,], p=[1.0,])\n",
    "\n",
    "# create source for each location\n",
    "sources = []\n",
    "for loc in src_locations:\n",
    "    src_pnt = openmc.stats.Point(xyz=loc)\n",
    "    src = openmc.Source(space=src_pnt, energy=src_e)\n",
    "    sources.append(src)\n",
    "\n",
    "src_str = 1.0 / len(sources)\n",
    "for source in sources:\n",
    "    source.strength = src_str\n",
    "\n",
    "settings.source = sources\n",
    "settings.export_to_xml()"
   ]
  },
  {
   "cell_type": "markdown",
   "metadata": {},
   "source": [
    "...and setup a couple mesh tallies. One for the kettle, and one for the water inside."
   ]
  },
  {
   "cell_type": "code",
   "execution_count": 15,
   "metadata": {},
   "outputs": [],
   "source": [
    "mesh = openmc.RegularMesh()\n",
    "mesh.dimension = (120, 1, 40)\n",
    "mesh.lower_left = (-20.0, 0.0, -10.0)\n",
    "mesh.upper_right = (20.0, 1.0, 4.0)\n",
    "\n",
    "mesh_filter = openmc.MeshFilter(mesh)\n",
    "\n",
    "pot_filter = openmc.CellFilter([1])\n",
    "pot_tally = openmc.Tally()\n",
    "pot_tally.filters = [mesh_filter, pot_filter]\n",
    "pot_tally.scores = ['flux']\n",
    "\n",
    "water_filter = openmc.CellFilter([5])\n",
    "water_tally = openmc.Tally()\n",
    "water_tally.filters = [mesh_filter, water_filter]\n",
    "water_tally.scores = ['flux']\n",
    "\n",
    "\n",
    "tallies = openmc.Tallies([pot_tally, water_tally])\n",
    "tallies.export_to_xml()"
   ]
  },
  {
   "cell_type": "code",
   "execution_count": 16,
   "metadata": {},
   "outputs": [
    {
     "name": "stdout",
     "output_type": "stream",
     "text": [
      "                                %%%%%%%%%%%%%%%\n",
      "                           %%%%%%%%%%%%%%%%%%%%%%%%\n",
      "                        %%%%%%%%%%%%%%%%%%%%%%%%%%%%%%\n",
      "                      %%%%%%%%%%%%%%%%%%%%%%%%%%%%%%%%%%\n",
      "                    %%%%%%%%%%%%%%%%%%%%%%%%%%%%%%%%%%%%%%\n",
      "                   %%%%%%%%%%%%%%%%%%%%%%%%%%%%%%%%%%%%%%%%\n",
      "                                    %%%%%%%%%%%%%%%%%%%%%%%%\n",
      "                                     %%%%%%%%%%%%%%%%%%%%%%%%\n",
      "                 ###############      %%%%%%%%%%%%%%%%%%%%%%%%\n",
      "                ##################     %%%%%%%%%%%%%%%%%%%%%%%\n",
      "                ###################     %%%%%%%%%%%%%%%%%%%%%%%\n",
      "                ####################     %%%%%%%%%%%%%%%%%%%%%%\n",
      "                #####################     %%%%%%%%%%%%%%%%%%%%%\n",
      "                ######################     %%%%%%%%%%%%%%%%%%%%\n",
      "                #######################     %%%%%%%%%%%%%%%%%%\n",
      "                 #######################     %%%%%%%%%%%%%%%%%\n",
      "                 ######################     %%%%%%%%%%%%%%%%%\n",
      "                  ####################     %%%%%%%%%%%%%%%%%\n",
      "                    #################     %%%%%%%%%%%%%%%%%\n",
      "                     ###############     %%%%%%%%%%%%%%%%\n",
      "                       ############     %%%%%%%%%%%%%%%\n",
      "                          ########     %%%%%%%%%%%%%%\n",
      "                                      %%%%%%%%%%%\n",
      "\n",
      "                   | The OpenMC Monte Carlo Code\n",
      "         Copyright | 2011-2019 MIT and OpenMC contributors\n",
      "           License | http://openmc.readthedocs.io/en/latest/license.html\n",
      "           Version | 0.11.0-dev\n",
      "          Git SHA1 | f29be35a2c7d44d411c5eb7d428e601e36f4d8a8\n",
      "         Date/Time | 2019-06-17 15:15:21\n",
      "    OpenMP Threads | 2\n",
      "\n",
      " Reading settings XML file...\n",
      " Reading cross sections XML file...\n",
      " Reading materials XML file...\n",
      " Reading DAGMC geometry...\n",
      "Loading file dagmc.h5m\n",
      "Initializing the GeomQueryTool...\n",
      "Using faceting tolerance: 0.001\n",
      "Building OBB Tree...\n",
      " Reading Fe54 from /home/shriwise/opt/openmc/xs/nndc_hdf5/Fe54.h5\n",
      " Reading Fe56 from /home/shriwise/opt/openmc/xs/nndc_hdf5/Fe56.h5\n",
      " Reading Fe57 from /home/shriwise/opt/openmc/xs/nndc_hdf5/Fe57.h5\n",
      " Reading Fe58 from /home/shriwise/opt/openmc/xs/nndc_hdf5/Fe58.h5\n",
      " Reading H1 from /home/shriwise/opt/openmc/xs/nndc_hdf5/H1.h5\n",
      " Reading O16 from /home/shriwise/opt/openmc/xs/nndc_hdf5/O16.h5\n",
      " Reading c_H_in_H2O from /home/shriwise/opt/openmc/xs/nndc_hdf5/c_H_in_H2O.h5\n",
      " Maximum neutron transport energy: 20000000.000000 eV for Fe58\n",
      " Reading tallies XML file...\n",
      " Writing summary.h5 file...\n",
      " Initializing source particles...\n",
      "\n",
      " ===============>     FIXED SOURCE TRANSPORT SIMULATION     <===============\n",
      "\n",
      " Simulating batch 1\n",
      " Simulating batch 2\n",
      " Simulating batch 3\n",
      " Simulating batch 4\n",
      " Simulating batch 5\n",
      " Simulating batch 6\n",
      " Simulating batch 7\n",
      " Simulating batch 8\n",
      " Simulating batch 9\n",
      " Simulating batch 10\n",
      " Creating state point statepoint.10.h5...\n",
      "\n",
      " =======================>     TIMING STATISTICS     <=======================\n",
      "\n",
      " Total time for initialization     = 3.9314e+00 seconds\n",
      "   Reading cross sections          = 3.8964e-01 seconds\n",
      " Total time in simulation          = 1.2825e+01 seconds\n",
      "   Time in transport only          = 1.1947e+01 seconds\n",
      "   Time in active batches          = 1.2825e+01 seconds\n",
      "   Time accumulating tallies       = 1.9546e-04 seconds\n",
      " Total time for finalization       = 1.7311e-02 seconds\n",
      " Total time elapsed                = 1.6859e+01 seconds\n",
      " Calculation Rate (active)         = 3898.57 particles/second\n",
      "\n",
      " ============================>     RESULTS     <============================\n",
      "\n",
      " Leakage Fraction            = 0.62594 +/- 0.00117\n",
      "\n"
     ]
    }
   ],
   "source": [
    "openmc.run()"
   ]
  },
  {
   "cell_type": "markdown",
   "metadata": {},
   "source": [
    "Note that the performance is significantly lower than our pincell model due to the increased complexity of the model, but it allows us to examine tally results like these:"
   ]
  },
  {
   "cell_type": "code",
   "execution_count": 17,
   "metadata": {},
   "outputs": [],
   "source": [
    "sp = openmc.StatePoint(\"statepoint.10.h5\")\n",
    "\n",
    "water_tally = sp.get_tally(scores=['flux'], id=water_tally.id)\n",
    "water_flux = water_tally.mean\n",
    "water_flux.shape = (40, 120)\n",
    "water_flux = water_flux[::-1, :]\n",
    "\n",
    "pot_tally = sp.get_tally(scores=['flux'], id=pot_tally.id)\n",
    "pot_flux = pot_tally.mean\n",
    "pot_flux.shape = (40, 120)\n",
    "pot_flux = pot_flux[::-1, :]\n",
    "\n",
    "del sp"
   ]
  },
  {
   "cell_type": "code",
   "execution_count": 18,
   "metadata": {},
   "outputs": [
    {
     "data": {
      "text/plain": [
       "<matplotlib.image.AxesImage at 0x7f0ad2687da0>"
      ]
     },
     "execution_count": 18,
     "metadata": {},
     "output_type": "execute_result"
    },
    {
     "data": {
      "image/png": "[encoded data removed]",
      "text/plain": [
       "<Figure size 1296x1152 with 2 Axes>"
      ]
     },
     "metadata": {
      "needs_background": "light"
     },
     "output_type": "display_data"
    }
   ],
   "source": [
    "from matplotlib import pyplot as plt\n",
    "fig = plt.figure(figsize=(18, 16))\n",
    "\n",
    "sub_plot1 = plt.subplot(121, title=\"Kettle Flux\")\n",
    "sub_plot1.imshow(pot_flux)\n",
    "\n",
    "sub_plot2 = plt.subplot(122, title=\"Water Flux\")\n",
    "sub_plot2.imshow(water_flux)"
   ]
  }
 ],
 "metadata": {
  "kernelspec": {
   "display_name": "Python 3",
   "language": "python",
   "name": "python3"
  },
  "language_info": {
   "codemirror_mode": {
    "name": "ipython",
    "version": 3
   },
   "file_extension": ".py",
   "mimetype": "text/x-python",
   "name": "python",
   "nbconvert_exporter": "python",
   "pygments_lexer": "ipython3",
   "version": "3.6.6"
  }
 },
 "nbformat": 4,
 "nbformat_minor": 2
}
