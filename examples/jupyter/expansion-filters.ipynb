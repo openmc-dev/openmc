{
 "cells": [
  {
   "cell_type": "markdown",
   "metadata": {},
   "source": [
    "OpenMC's general tally system accommodates a wide range of tally *filters*. While most filters are meant to identify regions of phase space that contribute to a tally, there are a special set of functional expansion filters that will multiply the tally by a set of orthogonal functions, e.g. Legendre polynomials, so that continuous functions of space or angle can be reconstructed from the tallied moments.\n",
    "\n",
    "In this example, we will determine the spatial dependence of the flux along the $z$ axis by making a Legendre polynomial expansion. Let us represent the flux along the z axis, $\\phi(z)$, by the function\n",
    "\n",
    "$$ \\phi(z') = \\sum\\limits_{n=0}^N a_n P_n(z') $$\n",
    "\n",
    "where $z'$ is the position normalized to the range [-1, 1]. Since $P_n(z')$ are known functions, our only task is to determine the expansion coefficients, $a_n$. By the orthogonality properties of the Legendre polynomials, one can deduce that the coefficients, $a_n$, are given by\n",
    "\n",
    "$$ a_n = \\frac{2n + 1}{2} \\int_{-1}^1 dz' P_n(z') \\phi(z').$$\n",
    "\n",
    "Thus, the problem reduces to finding the integral of the flux times each Legendre polynomial -- a problem which can be solved by using a Monte Carlo tally. By using a Legendre polynomial filter, we obtain stochastic estimates of these integrals for each polynomial order."
   ]
  },
  {
   "cell_type": "code",
   "execution_count": 1,
   "metadata": {},
   "outputs": [],
   "source": [
    "%matplotlib inline\n",
    "import openmc\n",
    "import numpy as np\n",
    "import matplotlib.pyplot as plt"
   ]
  },
  {
   "cell_type": "markdown",
   "metadata": {},
   "source": [
    "To begin, let us first create a simple model. The model will be a slab of fuel material with reflective boundaries conditions in the x- and y-directions and vacuum boundaries in the z-direction. However, to make the distribution slightly more interesting, we'll put some B<sub>4</sub>C in the middle of the slab."
   ]
  },
  {
   "cell_type": "code",
   "execution_count": 2,
   "metadata": {},
   "outputs": [],
   "source": [
    "# Define fuel and B4C materials\n",
    "fuel = openmc.Material()\n",
    "fuel.add_element('U', 1.0, enrichment=4.5)\n",
    "fuel.add_nuclide('O16', 2.0)\n",
    "fuel.set_density('g/cm3', 10.0)\n",
    "\n",
    "b4c = openmc.Material()\n",
    "b4c.add_element('B', 4.0)\n",
    "b4c.add_element('C', 1.0)\n",
    "b4c.set_density('g/cm3', 2.5)"
   ]
  },
  {
   "cell_type": "code",
   "execution_count": 3,
   "metadata": {},
   "outputs": [],
   "source": [
    "# Define surfaces used to construct regions\n",
    "zmin, zmax = -10., 10.\n",
    "box = openmc.model.get_rectangular_prism(10., 10., boundary_type='reflective')\n",
    "bottom = openmc.ZPlane(z0=zmin, boundary_type='vacuum')\n",
    "boron_lower = openmc.ZPlane(z0=-0.5)\n",
    "boron_upper = openmc.ZPlane(z0=0.5)\n",
    "top = openmc.ZPlane(z0=zmax, boundary_type='vacuum')\n",
    "\n",
    "# Create three cells and add them to geometry\n",
    "fuel1 = openmc.Cell(fill=fuel, region=box & +bottom & -boron_lower)\n",
    "absorber = openmc.Cell(fill=b4c, region=box & +boron_lower & -boron_upper)\n",
    "fuel2 = openmc.Cell(fill=fuel, region=box & +boron_upper & -top)\n",
    "geom = openmc.Geometry([fuel1, absorber, fuel2])"
   ]
  },
  {
   "cell_type": "markdown",
   "metadata": {},
   "source": [
    "For the starting source, we'll use a uniform distribution over the entire box geometry."
   ]
  },
  {
   "cell_type": "code",
   "execution_count": 4,
   "metadata": {},
   "outputs": [],
   "source": [
    "settings = openmc.Settings()\n",
    "spatial_dist = openmc.stats.Box(*geom.bounding_box)\n",
    "settings.source = openmc.Source(space=spatial_dist)\n",
    "settings.batches = 210\n",
    "settings.inactive = 10\n",
    "settings.particles = 1000"
   ]
  },
  {
   "cell_type": "markdown",
   "metadata": {},
   "source": [
    "Defining the tally is relatively straightforward. One simply needs to list 'flux' as a score and then add an expansion filter. For this case, we will want to use the `SpatialLegendreFilter` class which multiplies tally scores by Legendre polynomials evaluated on normalized spatial positions along an axis."
   ]
  },
  {
   "cell_type": "code",
   "execution_count": 5,
   "metadata": {},
   "outputs": [],
   "source": [
    "# Create a flux tally\n",
    "flux_tally = openmc.Tally()\n",
    "flux_tally.scores = ['flux']\n",
    "\n",
    "# Create a Legendre polynomial expansion filter and add to tally\n",
    "order = 8\n",
    "expand_filter = openmc.SpatialLegendreFilter(order, 'z', zmin, zmax)\n",
    "flux_tally.filters.append(expand_filter)"
   ]
  },
  {
   "cell_type": "markdown",
   "metadata": {},
   "source": [
    "The last thing we need to do is create a `Tallies` collection and export the entire model, which we'll do using the `Model` convenience class."
   ]
  },
  {
   "cell_type": "code",
   "execution_count": 6,
   "metadata": {},
   "outputs": [],
   "source": [
    "tallies = openmc.Tallies([flux_tally])\n",
    "model = openmc.model.Model(geometry=geom, settings=settings, tallies=tallies)"
   ]
  },
  {
   "cell_type": "markdown",
   "metadata": {},
   "source": [
    "Running a simulation is now as simple as calling the `run()` method of `Model`."
   ]
  },
  {
   "cell_type": "code",
   "execution_count": 7,
   "metadata": {},
   "outputs": [
    {
     "data": {
      "text/plain": [
       "0.3016877031715249+/-0.0006126949350699303"
      ]
     },
     "execution_count": 7,
     "metadata": {},
     "output_type": "execute_result"
    }
   ],
   "source": [
    "model.run(output=False)"
   ]
  },
  {
   "cell_type": "markdown",
   "metadata": {},
   "source": [
    "Now that the run is finished, we need to load the results from the statepoint file."
   ]
  },
  {
   "cell_type": "code",
   "execution_count": 8,
   "metadata": {},
   "outputs": [],
   "source": [
    "with openmc.StatePoint('statepoint.210.h5') as sp:\n",
    "    df = sp.tallies[flux_tally.id].get_pandas_dataframe()"
   ]
  },
  {
   "cell_type": "markdown",
   "metadata": {},
   "source": [
    "We've used the `get_pandas_dataframe()` method that returns tally data as a Pandas dataframe. Let's see what the raw data looks like."
   ]
  },
  {
   "cell_type": "code",
   "execution_count": 9,
   "metadata": {},
   "outputs": [
    {
     "data": {
      "text/html": [
       "<div>\n",
       "<style>\n",
       "    .dataframe thead tr:only-child th {\n",
       "        text-align: right;\n",
       "    }\n",
       "\n",
       "    .dataframe thead th {\n",
       "        text-align: left;\n",
       "    }\n",
       "\n",
       "    .dataframe tbody tr th {\n",
       "        vertical-align: top;\n",
       "    }\n",
       "</style>\n",
       "<table border=\"1\" class=\"dataframe\">\n",
       "  <thead>\n",
       "    <tr style=\"text-align: right;\">\n",
       "      <th></th>\n",
       "      <th>spatiallegendre</th>\n",
       "      <th>nuclide</th>\n",
       "      <th>score</th>\n",
       "      <th>mean</th>\n",
       "      <th>std. dev.</th>\n",
       "    </tr>\n",
       "  </thead>\n",
       "  <tbody>\n",
       "    <tr>\n",
       "      <th>0</th>\n",
       "      <td>P0</td>\n",
       "      <td>total</td>\n",
       "      <td>flux</td>\n",
       "      <td>36.434828</td>\n",
       "      <td>0.076755</td>\n",
       "    </tr>\n",
       "    <tr>\n",
       "      <th>1</th>\n",
       "      <td>P1</td>\n",
       "      <td>total</td>\n",
       "      <td>flux</td>\n",
       "      <td>0.021797</td>\n",
       "      <td>0.043545</td>\n",
       "    </tr>\n",
       "    <tr>\n",
       "      <th>2</th>\n",
       "      <td>P2</td>\n",
       "      <td>total</td>\n",
       "      <td>flux</td>\n",
       "      <td>-4.380892</td>\n",
       "      <td>0.025739</td>\n",
       "    </tr>\n",
       "    <tr>\n",
       "      <th>3</th>\n",
       "      <td>P3</td>\n",
       "      <td>total</td>\n",
       "      <td>flux</td>\n",
       "      <td>0.001448</td>\n",
       "      <td>0.020740</td>\n",
       "    </tr>\n",
       "    <tr>\n",
       "      <th>4</th>\n",
       "      <td>P4</td>\n",
       "      <td>total</td>\n",
       "      <td>flux</td>\n",
       "      <td>-0.295439</td>\n",
       "      <td>0.014215</td>\n",
       "    </tr>\n",
       "    <tr>\n",
       "      <th>5</th>\n",
       "      <td>P5</td>\n",
       "      <td>total</td>\n",
       "      <td>flux</td>\n",
       "      <td>0.003514</td>\n",
       "      <td>0.012017</td>\n",
       "    </tr>\n",
       "    <tr>\n",
       "      <th>6</th>\n",
       "      <td>P6</td>\n",
       "      <td>total</td>\n",
       "      <td>flux</td>\n",
       "      <td>0.105213</td>\n",
       "      <td>0.010103</td>\n",
       "    </tr>\n",
       "    <tr>\n",
       "      <th>7</th>\n",
       "      <td>P7</td>\n",
       "      <td>total</td>\n",
       "      <td>flux</td>\n",
       "      <td>0.002595</td>\n",
       "      <td>0.009265</td>\n",
       "    </tr>\n",
       "    <tr>\n",
       "      <th>8</th>\n",
       "      <td>P8</td>\n",
       "      <td>total</td>\n",
       "      <td>flux</td>\n",
       "      <td>-0.096197</td>\n",
       "      <td>0.007513</td>\n",
       "    </tr>\n",
       "  </tbody>\n",
       "</table>\n",
       "</div>"
      ],
      "text/plain": [
       "  spatiallegendre nuclide score      mean  std. dev.\n",
       "0              P0   total  flux  3.64e+01   7.68e-02\n",
       "1              P1   total  flux  2.18e-02   4.35e-02\n",
       "2              P2   total  flux -4.38e+00   2.57e-02\n",
       "3              P3   total  flux  1.45e-03   2.07e-02\n",
       "4              P4   total  flux -2.95e-01   1.42e-02\n",
       "5              P5   total  flux  3.51e-03   1.20e-02\n",
       "6              P6   total  flux  1.05e-01   1.01e-02\n",
       "7              P7   total  flux  2.60e-03   9.27e-03\n",
       "8              P8   total  flux -9.62e-02   7.51e-03"
      ]
     },
     "execution_count": 9,
     "metadata": {},
     "output_type": "execute_result"
    }
   ],
   "source": [
    "df"
   ]
  },
  {
   "cell_type": "markdown",
   "metadata": {},
   "source": [
    "Since the expansion coefficients are given as\n",
    "\n",
    "$$ a_n = \\frac{2n + 1}{2} \\int_{-1}^1 dz' P_n(z') \\phi(z')$$\n",
    "\n",
    "we just need to multiply the Legendre moments by $(2n + 1)/2$."
   ]
  },
  {
   "cell_type": "code",
   "execution_count": 10,
   "metadata": {},
   "outputs": [],
   "source": [
    "n = np.arange(order + 1)\n",
    "a_n = (2*n + 1)/2 * df['mean']"
   ]
  },
  {
   "cell_type": "markdown",
   "metadata": {},
   "source": [
    "To plot the flux distribution, we can use the `numpy.polynomial.Legendre` class which represents a truncated Legendre polynomial series. Since we really want to plot $\\phi(z)$ and not $\\phi(z')$ we first need to perform a change of variables. Since\n",
    "\n",
    "$$ \\lvert \\phi(z) dz \\rvert = \\lvert \\phi(z') dz' \\rvert $$\n",
    "\n",
    "and, for this case, $z = 10z'$, it follows that\n",
    "\n",
    "$$ \\phi(z) = \\frac{\\phi(z')}{10} = \\sum_{n=0}^N \\frac{a_n}{10} P_n(z'). $$"
   ]
  },
  {
   "cell_type": "code",
   "execution_count": 11,
   "metadata": {},
   "outputs": [],
   "source": [
    "phi = np.polynomial.Legendre(a_n/10, domain=(zmin, zmax))"
   ]
  },
  {
   "cell_type": "markdown",
   "metadata": {},
   "source": [
    "Let's plot it and see how our flux looks!"
   ]
  },
  {
   "cell_type": "code",
   "execution_count": 12,
   "metadata": {},
   "outputs": [
    {
     "data": {
      "text/plain": [
       "<matplotlib.text.Text at 0x14b35bb035c0>"
      ]
     },
     "execution_count": 12,
     "metadata": {},
     "output_type": "execute_result"
    },
    {
     "data": {
      "image/png": "[encoded data removed]",
      "text/plain": [
       "<matplotlib.figure.Figure at 0x14b35bb818d0>"
      ]
     },
     "metadata": {},
     "output_type": "display_data"
    }
   ],
   "source": [
    "z = np.linspace(zmin, zmax, 1000)\n",
    "plt.plot(z, phi(z))\n",
    "plt.xlabel('Z position [cm]')\n",
    "plt.ylabel('Flux [n/src]')"
   ]
  },
  {
   "cell_type": "markdown",
   "metadata": {},
   "source": [
    "As you might expect, we get a rough cosine shape but with a flux depression in the middle due to the boron slab that we introduced. To get a more accurate distribution, we'd likely need to use a higher order expansion.\n",
    "\n",
    "One more thing we can do is confirm that integrating the distribution gives us the same value as the first moment (since $P_0(z') = 1$). This can easily be done by numerically integrating using the trapezoidal rule:"
   ]
  },
  {
   "cell_type": "code",
   "execution_count": 13,
   "metadata": {},
   "outputs": [
    {
     "data": {
      "text/plain": [
       "36.434786672754925"
      ]
     },
     "execution_count": 13,
     "metadata": {},
     "output_type": "execute_result"
    }
   ],
   "source": [
    "np.trapz(phi(z), z)"
   ]
  },
  {
   "cell_type": "markdown",
   "metadata": {},
   "source": [
    "In addition to being able to tally Legendre moments, there are also functional expansion filters available for spherical harmonics (`SphericalHarmonicsFilter`) and Zernike polynomials over a unit disk (`ZernikeFilter`). A separate `LegendreFilter` class can also be used for determining Legendre scattering moments (i.e., an expansion of the scattering cosine, $\\mu$)."
   ]
  }
 ],
 "metadata": {
  "kernelspec": {
   "display_name": "Python 3",
   "language": "python",
   "name": "python3"
  },
  "language_info": {
   "codemirror_mode": {
    "name": "ipython",
    "version": 3
   },
   "file_extension": ".py",
   "mimetype": "text/x-python",
   "name": "python",
   "nbconvert_exporter": "python",
   "pygments_lexer": "ipython3",
   "version": "3.6.2"
  }
 },
 "nbformat": 4,
 "nbformat_minor": 2
}
