{
 "cells": [
  {
   "cell_type": "markdown",
   "metadata": {},
   "source": [
    "# Magnetic Confinement Fusion Breeder Blanket Simulation\n",
    "In this notebook we'll be exploring how to perform fixed source simulations with a fusion reactor geometry and obtain the Tritium Breeding Ratio (TBR) in the breeder blankets of a tokamak.\n",
    "\n",
    "CAD based geometry has been used for this example via the [DagMC](https://svalinn.github.io/DAGMC/index.html) toolkit. The models we'll be using in this notebook have already been created using the [Paramak](https://github.com/ukaea/paramak) and faceted into a surface mesh using [Coreform-Cubit](https://coreform.com/products/coreform-cubit/) which is also able to export the mesh as `.h5m` files in the [Mesh Oriented DatABase](https://press3.mcs.anl.gov/sigma/moab-library/) format.\n",
    "\n",
    "We'll be retrieving these files using the code block below."
   ]
  },
  {
   "cell_type": "code",
   "execution_count": 1,
   "metadata": {},
   "outputs": [],
   "source": [
    "import urllib.request\n",
    "\n",
    "url='https://github.com/Shimwell/fusion_example_for_openmc_using_paramak/blob/main/dagmc.h5m?raw=true'  # 2.4 MB\n",
    "u = urllib.request.urlopen(url)\n",
    "\n",
    "if u.status != 200:\n",
    "    raise RuntimeError(\"Failed to download file.\")\n",
    "\n",
    "# save file as dagmc.h5m\n",
    "with open(\"dagmc.h5m\", 'wb') as f:\n",
    "    f.write(u.read())"
   ]
  },
  {
   "cell_type": "markdown",
   "metadata": {},
   "source": [
    "This notebook is intended to demonstrate how to obtain TBR for a simple tokamak model. CAD based geometry using DagMC is particularly well suited to this problem as the implicite voids mean that the we can avoid making complex void geometry which would be particularly difficult around the toroidal field coils."
   ]
  },
  {
   "cell_type": "markdown",
   "metadata": {},
   "source": [
    "Now that we have downloaded the h5m geometry file we can inspect the materials tags to see which materials we need to create.\n",
    "\n",
    "The following command runs a MOAB executable and searches the h5m file for material tags.\n",
    "\n",
    "Assuming you have MOAB installed and mbsize in you PATH enviroment then the following command should return six materials:\n",
    "   - tungsten is used for shielding and firstwall armour volumes\n",
    "   - steel is used for the structural material volumes\n",
    "   - flibe is used for the breeder material volume\n",
    "   - copper is used for the magnet volumes\n",
    "   - graveyard is the edge of th emodel universe and particles entering this vlume will no longer be tracked\n",
    "   - Vacuum is the material assigned to the solid used to make the reflecting boundaries and does not need a material definition"
   ]
  },
  {
   "cell_type": "code",
   "execution_count": 2,
   "metadata": {},
   "outputs": [
    {
     "name": "stdout",
     "output_type": "stream",
     "text": [
      "    NAME = mat:tungsten\n",
      "    NAME = mat:steel\n",
      "    NAME = mat:flibe\n",
      "    NAME = mat:copper\n",
      "    NAME = mat:graveyard\n",
      "    NAME = mat:Vacuum\n"
     ]
    }
   ],
   "source": [
    "!mbsize -ll dagmc.h5m | grep 'NAME = mat:'"
   ]
  },
  {
   "cell_type": "markdown",
   "metadata": {},
   "source": [
    "Fusion reactors often make use of reduced activation materials and super conducting materials for the magnets. However To keep the example short we'll be using a simple materials."
   ]
  },
  {
   "cell_type": "code",
   "execution_count": 3,
   "metadata": {},
   "outputs": [],
   "source": [
    "import openmc\n",
    "\n",
    "steel = openmc.Material(name=\"steel\")\n",
    "steel.add_element('Fe', 0.95, 'ao')\n",
    "steel.add_element('C', 0.05, 'ao')\n",
    "steel.set_density('g/cm3', 8)\n",
    "\n",
    "copper = openmc.Material(name=\"copper\")\n",
    "copper.add_element('Cu', 2.0, 'ao')\n",
    "copper.set_density('g/cm3', 19.3)\n",
    "\n",
    "tungsten = openmc.Material(name=\"tungsten\")\n",
    "tungsten.add_element('W', 1.0, 'ao')\n",
    "tungsten.set_density('g/cm3', 19.3)\n",
    "\n",
    "flibe = openmc.Material(name=\"flibe\")\n",
    "flibe.add_elements_from_formula('F2Li2BeF2', enrichment=40, enrichment_target='Li6')\n",
    "flibe.set_density('g/cm3', 1.94)\n",
    "\n",
    "mats = openmc.Materials([steel, copper, tungsten, flibe])\n",
    "mats.export_to_xml()"
   ]
  },
  {
   "cell_type": "markdown",
   "metadata": {},
   "source": [
    "The next stage is to assign the simulation settings. Assigning the inactive batch to 0 helps avoid unessecary compute for fixed-source simulations.\n",
    "\n",
    "```The settings.dagmc``` = True option instructs OpenMC to look for a file called \"dagmc.h5m\" for the model geometry."
   ]
  },
  {
   "cell_type": "code",
   "execution_count": 4,
   "metadata": {},
   "outputs": [],
   "source": [
    "settings = openmc.Settings()\n",
    "settings.dagmc = True\n",
    "settings.batches = 10\n",
    "settings.inactive = 0\n",
    "settings.particles = 10000\n",
    "settings.run_mode = \"fixed source\"\n",
    "\n",
    "settings.export_to_xml()"
   ]
  },
  {
   "cell_type": "markdown",
   "metadata": {},
   "source": [
    "Now that a settings.xml has been produced we can plot the model and use a color scheme to identify the location of different materials."
   ]
  },
  {
   "cell_type": "code",
   "execution_count": 5,
   "metadata": {},
   "outputs": [
    {
     "data": {
      "image/png": "[encoded data removed]",
      "text/plain": [
       "<IPython.core.display.Image object>"
      ]
     },
     "metadata": {},
     "output_type": "display_data"
    }
   ],
   "source": [
    "%matplotlib inline\n",
    "from IPython.display import Image\n",
    "\n",
    "p = openmc.Plot()\n",
    "p.width = (2000, 1000)\n",
    "p.basis='xz'\n",
    "p.pixels = (800, 400)\n",
    "p.color_by = 'material'\n",
    "p.colors = {steel: 'grey', tungsten: 'blue', flibe: 'green', copper: 'yellow'}\n",
    "openmc.plot_inline(p)"
   ]
  },
  {
   "cell_type": "markdown",
   "metadata": {},
   "source": [
    "Now that we've had a chance to examine the model a bit, we can finish applying our settings and add a ring source in the middle of the plasma chamber."
   ]
  },
  {
   "cell_type": "code",
   "execution_count": 6,
   "metadata": {},
   "outputs": [],
   "source": [
    "source = openmc.Source()\n",
    "\n",
    "# the distribution of radius is just a single value at the plasma major radius\n",
    "radius = openmc.stats.Discrete([293.], [1])\n",
    "\n",
    "# the distribution of source z values is just a single value\n",
    "z_values = openmc.stats.Discrete([0], [1])\n",
    "\n",
    "# the distribution of source azimuthal angles values is a uniform distribution between 0 and 2 Pi\n",
    "angle = openmc.stats.Uniform(a=0., b=0.5* 3.14159265359)\n",
    "\n",
    "# this makes the ring source using the three distributions and a radius\n",
    "source.space = openmc.stats.CylindricalIndependent(r=radius, phi=angle, z=z_values, origin=(0.0, 0.0, 0.0))\n",
    "\n",
    "# sets the direction to isotropic\n",
    "source.angle = openmc.stats.Isotropic()\n",
    "\n",
    "# sets the energy distribution to a Muir distribution neutrons\n",
    "source.energy = openmc.stats.Muir(e0=14080000.0, m_rat=5.0, kt=20000.0)\n",
    "\n",
    "settings.source = source\n",
    "\n",
    "settings.export_to_xml()"
   ]
  },
  {
   "cell_type": "markdown",
   "metadata": {},
   "source": [
    "Tallies work in the same way when using DAGMC geometries too. We'll add a tally on the breeder blanket material here."
   ]
  },
  {
   "cell_type": "code",
   "execution_count": 7,
   "metadata": {},
   "outputs": [],
   "source": [
    "tally = openmc.Tally(name='TBR')\n",
    "tally.scores = ['(n,Xt)']  # this catch all neutron induced tritium producing reactions\n",
    "tally.filters = [openmc.MaterialFilter(flibe)]\n",
    "tallies = openmc.Tallies([tally])\n",
    "tallies.export_to_xml()"
   ]
  },
  {
   "cell_type": "markdown",
   "metadata": {},
   "source": [
    "The next code block will remove old h5 files and run the simulation"
   ]
  },
  {
   "cell_type": "code",
   "execution_count": 8,
   "metadata": {
    "scrolled": true
   },
   "outputs": [
    {
     "name": "stdout",
     "output_type": "stream",
     "text": [
      "                                %%%%%%%%%%%%%%%\n",
      "                           %%%%%%%%%%%%%%%%%%%%%%%%\n",
      "                        %%%%%%%%%%%%%%%%%%%%%%%%%%%%%%\n",
      "                      %%%%%%%%%%%%%%%%%%%%%%%%%%%%%%%%%%\n",
      "                    %%%%%%%%%%%%%%%%%%%%%%%%%%%%%%%%%%%%%%\n",
      "                   %%%%%%%%%%%%%%%%%%%%%%%%%%%%%%%%%%%%%%%%\n",
      "                                    %%%%%%%%%%%%%%%%%%%%%%%%\n",
      "                                     %%%%%%%%%%%%%%%%%%%%%%%%\n",
      "                 ###############      %%%%%%%%%%%%%%%%%%%%%%%%\n",
      "                ##################     %%%%%%%%%%%%%%%%%%%%%%%\n",
      "                ###################     %%%%%%%%%%%%%%%%%%%%%%%\n",
      "                ####################     %%%%%%%%%%%%%%%%%%%%%%\n",
      "                #####################     %%%%%%%%%%%%%%%%%%%%%\n",
      "                ######################     %%%%%%%%%%%%%%%%%%%%\n",
      "                #######################     %%%%%%%%%%%%%%%%%%\n",
      "                 #######################     %%%%%%%%%%%%%%%%%\n",
      "                 ######################     %%%%%%%%%%%%%%%%%\n",
      "                  ####################     %%%%%%%%%%%%%%%%%\n",
      "                    #################     %%%%%%%%%%%%%%%%%\n",
      "                     ###############     %%%%%%%%%%%%%%%%\n",
      "                       ############     %%%%%%%%%%%%%%%\n",
      "                          ########     %%%%%%%%%%%%%%\n",
      "                                      %%%%%%%%%%%\n",
      "\n",
      "                   | The OpenMC Monte Carlo Code\n",
      "         Copyright | 2011-2020 MIT and OpenMC contributors\n",
      "           License | https://docs.openmc.org/en/latest/license.html\n",
      "           Version | 0.12.1-dev\n",
      "          Git SHA1 | f952fa9cbcdf00f585f42cc605daf6fe0e44b447\n",
      "         Date/Time | 2021-03-22 21:34:52\n",
      "    OpenMP Threads | 64\n",
      "\n",
      " Reading settings XML file...\n",
      " Reading cross sections XML file...\n",
      " Reading materials XML file...\n",
      " Reading DAGMC geometry...\n",
      "Loading file dagmc.h5m\n",
      "Initializing the GeomQueryTool...\n",
      "Using faceting tolerance: 0.01\n",
      "Building acceleration data structures...\n",
      "Implicit Complement assumed to be Vacuum\n",
      " Reading Fe54 from /home/jshim/data/nndc-b7.1-hdf5/neutron/Fe54.h5\n",
      " Reading Fe56 from /home/jshim/data/nndc-b7.1-hdf5/neutron/Fe56.h5\n",
      " Reading Fe57 from /home/jshim/data/nndc-b7.1-hdf5/neutron/Fe57.h5\n",
      " Reading Fe58 from /home/jshim/data/nndc-b7.1-hdf5/neutron/Fe58.h5\n",
      " Reading C12 from /home/jshim/data/tendl-2019-hdf5/C12.h5\n",
      " Reading C13 from /home/jshim/data/tendl-2019-hdf5/C13.h5\n",
      " Reading Cu63 from /home/jshim/data/nndc-b7.1-hdf5/neutron/Cu63.h5\n",
      " Reading Cu65 from /home/jshim/data/nndc-b7.1-hdf5/neutron/Cu65.h5\n",
      " Reading W180 from /home/jshim/data/nndc-b7.1-hdf5/neutron/W180.h5\n",
      " Reading W182 from /home/jshim/data/nndc-b7.1-hdf5/neutron/W182.h5\n",
      " Reading W183 from /home/jshim/data/nndc-b7.1-hdf5/neutron/W183.h5\n",
      " Reading W184 from /home/jshim/data/nndc-b7.1-hdf5/neutron/W184.h5\n",
      " Reading W186 from /home/jshim/data/nndc-b7.1-hdf5/neutron/W186.h5\n",
      " Reading F19 from /home/jshim/data/nndc-b7.1-hdf5/neutron/F19.h5\n",
      " Reading Li6 from /home/jshim/data/nndc-b7.1-hdf5/neutron/Li6.h5\n",
      " Reading Li7 from /home/jshim/data/nndc-b7.1-hdf5/neutron/Li7.h5\n",
      " Reading Be9 from /home/jshim/data/nndc-b7.1-hdf5/neutron/Be9.h5\n",
      " Minimum neutron data temperature: 294.0 K\n",
      " Maximum neutron data temperature: 294.0 K\n",
      " Reading tallies XML file...\n",
      " Preparing distributed cell instances...\n",
      " Writing summary.h5 file...\n",
      " Maximum neutron transport energy: 20000000.0 eV for Fe58\n",
      "\n",
      " ===============>     FIXED SOURCE TRANSPORT SIMULATION     <===============\n",
      "\n",
      " Simulating batch 1\n",
      " Simulating batch 2\n",
      " Simulating batch 3\n",
      " Simulating batch 4\n",
      " Simulating batch 5\n",
      " Simulating batch 6\n",
      " Simulating batch 7\n",
      " Simulating batch 8\n",
      " Simulating batch 9\n",
      " Simulating batch 10\n",
      " Creating state point statepoint.10.h5...\n",
      "\n",
      " =======================>     TIMING STATISTICS     <=======================\n",
      "\n",
      " Total time for initialization     = 4.0315e+00 seconds\n",
      "   Reading cross sections          = 1.4182e+00 seconds\n",
      " Total time in simulation          = 1.4582e+00 seconds\n",
      "   Time in transport only          = 1.4454e+00 seconds\n",
      "   Time in active batches          = 1.4582e+00 seconds\n",
      "   Time accumulating tallies       = 6.7511e-03 seconds\n",
      "   Time writing statepoints        = 4.4587e-03 seconds\n",
      " Total time for finalization       = 1.1659e-03 seconds\n",
      " Total time elapsed                = 5.4987e+00 seconds\n",
      " Calculation Rate (active)         = 68576.8 particles/second\n",
      "\n",
      " ============================>     RESULTS     <============================\n",
      "\n",
      " Leakage Fraction            = 0.61370 +/- 0.00137\n",
      "\n"
     ]
    }
   ],
   "source": [
    "!rm summary.h5 statepoint.10.h5\n",
    "openmc.run()"
   ]
  },
  {
   "cell_type": "markdown",
   "metadata": {},
   "source": [
    "The TBR result can now be found within the statepoint file."
   ]
  },
  {
   "cell_type": "code",
   "execution_count": 9,
   "metadata": {},
   "outputs": [
    {
     "name": "stdout",
     "output_type": "stream",
     "text": [
      "The tritium breeding ratio was found, TBR =  0.486728957997595\n",
      "Standard deviation on the tbr tally is  0.0028533740332831858\n"
     ]
    }
   ],
   "source": [
    "sp = openmc.StatePoint('statepoint.10.h5')\n",
    "\n",
    "# access the tally using pandas dataframes\n",
    "\n",
    "tbr_tally = sp.get_tally(name='TBR')\n",
    "\n",
    "df = tbr_tally.get_pandas_dataframe()\n",
    "\n",
    "tbr_tally_result = df['mean'].sum()\n",
    "\n",
    "tbr_tally_std_dev = df['std. dev.'].sum()\n",
    "\n",
    "print('The tritium breeding ratio was found, TBR = ', tbr_tally_result)\n",
    "print('Standard deviation on the tbr tally is ', tbr_tally_std_dev)"
   ]
  },
  {
   "cell_type": "markdown",
   "metadata": {},
   "source": [
    "A tritium production mesh tally can also show where the tritium is being produced"
   ]
  },
  {
   "cell_type": "code",
   "execution_count": 10,
   "metadata": {},
   "outputs": [],
   "source": [
    "mesh = openmc.RegularMesh()\n",
    "mesh.dimension = (300, 1, 250)\n",
    "mesh.lower_left = (0., 0, -500.)\n",
    "mesh.upper_right = (600., 1.0, 500.)\n",
    "\n",
    "mesh_filter = openmc.MeshFilter(mesh)\n",
    "\n",
    "tritium_tally = openmc.Tally()\n",
    "tritium_tally.filters = [mesh_filter]\n",
    "tritium_tally.scores = ['(n,Xt)']\n",
    "\n",
    "tallies = openmc.Tallies([tritium_tally])\n",
    "tallies.export_to_xml()"
   ]
  },
  {
   "cell_type": "markdown",
   "metadata": {},
   "source": [
    "The tritium production mesh tally result can now be found within the statepoint file."
   ]
  },
  {
   "cell_type": "code",
   "execution_count": 11,
   "metadata": {},
   "outputs": [
    {
     "name": "stdout",
     "output_type": "stream",
     "text": [
      "                                %%%%%%%%%%%%%%%\n",
      "                           %%%%%%%%%%%%%%%%%%%%%%%%\n",
      "                        %%%%%%%%%%%%%%%%%%%%%%%%%%%%%%\n",
      "                      %%%%%%%%%%%%%%%%%%%%%%%%%%%%%%%%%%\n",
      "                    %%%%%%%%%%%%%%%%%%%%%%%%%%%%%%%%%%%%%%\n",
      "                   %%%%%%%%%%%%%%%%%%%%%%%%%%%%%%%%%%%%%%%%\n",
      "                                    %%%%%%%%%%%%%%%%%%%%%%%%\n",
      "                                     %%%%%%%%%%%%%%%%%%%%%%%%\n",
      "                 ###############      %%%%%%%%%%%%%%%%%%%%%%%%\n",
      "                ##################     %%%%%%%%%%%%%%%%%%%%%%%\n",
      "                ###################     %%%%%%%%%%%%%%%%%%%%%%%\n",
      "                ####################     %%%%%%%%%%%%%%%%%%%%%%\n",
      "                #####################     %%%%%%%%%%%%%%%%%%%%%\n",
      "                ######################     %%%%%%%%%%%%%%%%%%%%\n",
      "                #######################     %%%%%%%%%%%%%%%%%%\n",
      "                 #######################     %%%%%%%%%%%%%%%%%\n",
      "                 ######################     %%%%%%%%%%%%%%%%%\n",
      "                  ####################     %%%%%%%%%%%%%%%%%\n",
      "                    #################     %%%%%%%%%%%%%%%%%\n",
      "                     ###############     %%%%%%%%%%%%%%%%\n",
      "                       ############     %%%%%%%%%%%%%%%\n",
      "                          ########     %%%%%%%%%%%%%%\n",
      "                                      %%%%%%%%%%%\n",
      "\n",
      "                   | The OpenMC Monte Carlo Code\n",
      "         Copyright | 2011-2020 MIT and OpenMC contributors\n",
      "           License | https://docs.openmc.org/en/latest/license.html\n",
      "           Version | 0.12.1-dev\n",
      "          Git SHA1 | f952fa9cbcdf00f585f42cc605daf6fe0e44b447\n",
      "         Date/Time | 2021-03-22 21:34:57\n",
      "    OpenMP Threads | 64\n",
      "\n",
      " Reading settings XML file...\n",
      " Reading cross sections XML file...\n",
      " Reading materials XML file...\n",
      " Reading DAGMC geometry...\n",
      "Loading file dagmc.h5m\n",
      "Initializing the GeomQueryTool...\n",
      "Using faceting tolerance: 0.01\n",
      "Building acceleration data structures...\n",
      "Implicit Complement assumed to be Vacuum\n",
      " Reading Fe54 from /home/jshim/data/nndc-b7.1-hdf5/neutron/Fe54.h5\n",
      " Reading Fe56 from /home/jshim/data/nndc-b7.1-hdf5/neutron/Fe56.h5\n",
      " Reading Fe57 from /home/jshim/data/nndc-b7.1-hdf5/neutron/Fe57.h5\n",
      " Reading Fe58 from /home/jshim/data/nndc-b7.1-hdf5/neutron/Fe58.h5\n",
      " Reading C12 from /home/jshim/data/tendl-2019-hdf5/C12.h5\n",
      " Reading C13 from /home/jshim/data/tendl-2019-hdf5/C13.h5\n",
      " Reading Cu63 from /home/jshim/data/nndc-b7.1-hdf5/neutron/Cu63.h5\n",
      " Reading Cu65 from /home/jshim/data/nndc-b7.1-hdf5/neutron/Cu65.h5\n",
      " Reading W180 from /home/jshim/data/nndc-b7.1-hdf5/neutron/W180.h5\n",
      " Reading W182 from /home/jshim/data/nndc-b7.1-hdf5/neutron/W182.h5\n",
      " Reading W183 from /home/jshim/data/nndc-b7.1-hdf5/neutron/W183.h5\n",
      " Reading W184 from /home/jshim/data/nndc-b7.1-hdf5/neutron/W184.h5\n",
      " Reading W186 from /home/jshim/data/nndc-b7.1-hdf5/neutron/W186.h5\n",
      " Reading F19 from /home/jshim/data/nndc-b7.1-hdf5/neutron/F19.h5\n",
      " Reading Li6 from /home/jshim/data/nndc-b7.1-hdf5/neutron/Li6.h5\n",
      " Reading Li7 from /home/jshim/data/nndc-b7.1-hdf5/neutron/Li7.h5\n",
      " Reading Be9 from /home/jshim/data/nndc-b7.1-hdf5/neutron/Be9.h5\n",
      " Minimum neutron data temperature: 294.0 K\n",
      " Maximum neutron data temperature: 294.0 K\n",
      " Reading tallies XML file...\n",
      " Preparing distributed cell instances...\n",
      " Writing summary.h5 file...\n",
      " Maximum neutron transport energy: 20000000.0 eV for Fe58\n",
      "\n",
      " ===============>     FIXED SOURCE TRANSPORT SIMULATION     <===============\n",
      "\n",
      " Simulating batch 1\n",
      " Simulating batch 2\n",
      " Simulating batch 3\n",
      " Simulating batch 4\n",
      " Simulating batch 5\n",
      " Simulating batch 6\n",
      " Simulating batch 7\n",
      " Simulating batch 8\n",
      " Simulating batch 9\n",
      " Simulating batch 10\n",
      " Creating state point statepoint.10.h5...\n",
      "\n",
      " =======================>     TIMING STATISTICS     <=======================\n",
      "\n",
      " Total time for initialization     = 4.0536e+00 seconds\n",
      "   Reading cross sections          = 1.3906e+00 seconds\n",
      " Total time in simulation          = 1.4729e+00 seconds\n",
      "   Time in transport only          = 1.4593e+00 seconds\n",
      "   Time in active batches          = 1.4729e+00 seconds\n",
      "   Time accumulating tallies       = 7.1096e-03 seconds\n",
      "   Time writing statepoints        = 4.7693e-03 seconds\n",
      " Total time for finalization       = 7.5925e-02 seconds\n",
      " Total time elapsed                = 5.6107e+00 seconds\n",
      " Calculation Rate (active)         = 67894.0 particles/second\n",
      "\n",
      " ============================>     RESULTS     <============================\n",
      "\n",
      " Leakage Fraction            = 0.61370 +/- 0.00137\n",
      "\n"
     ]
    }
   ],
   "source": [
    "!rm summary.h5 statepoint.10.h5\n",
    "openmc.run()"
   ]
  },
  {
   "cell_type": "markdown",
   "metadata": {},
   "source": [
    "Plotting the mesh tally shows that the blanket is producing tritium predominantly at the plasma facing side."
   ]
  },
  {
   "cell_type": "code",
   "execution_count": null,
   "metadata": {},
   "outputs": [],
   "source": [
    "sp = openmc.StatePoint(\"statepoint.10.h5\")\n",
    "\n",
    "tritium_tally = sp.get_tally(scores=['(n,Xt)'])\n",
    "tritium_production = tritium_tally.mean\n",
    "tritium_production.shape = (250, 300)\n",
    "\n",
    "from matplotlib import pyplot as plt\n",
    "fig = plt.figure(figsize=(18, 16))\n",
    "\n",
    "plt.imshow(tritium_production)"
   ]
  },
  {
   "cell_type": "markdown",
   "metadata": {},
   "source": [
    "If you are looking for more OpenMC fusion examples you might find this [fusion neutronics workshop](https://github.com/ukaea/openmc_workshop/) useful."
   ]
  }
 ],
 "metadata": {
  "kernelspec": {
   "display_name": "Python 3",
   "language": "python",
   "name": "python3"
  },
  "language_info": {
   "codemirror_mode": {
    "name": "ipython",
    "version": 3
   },
   "file_extension": ".py",
   "mimetype": "text/x-python",
   "name": "python",
   "nbconvert_exporter": "python",
   "pygments_lexer": "ipython3",
   "version": "3.8.3"
  }
 },
 "nbformat": 4,
 "nbformat_minor": 4
}
