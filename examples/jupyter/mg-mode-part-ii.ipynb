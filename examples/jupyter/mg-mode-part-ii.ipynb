{
 "cells": [
  {
   "cell_type": "markdown",
   "metadata": {},
   "source": [
    "The previous Notebook in this series used multi-group mode to perform a calculation with previously defined cross sections.  However, in many circumstances the multi-group data is not given and one must instead generate the cross sections for the specific application (or at least verify the use of cross sections from another application).  \n",
    "\n",
    "This Notebook illustrates the use of the openmc.mgxs.Library class specifically for the calculation of MGXS to be used in OpenMC's multi-group mode. This example notebook is therefore very similar to the MGXS Part III notebook, except OpenMC is used as the multi-group solver instead of OpenMOC.\n",
    "\n",
    "During this process, this notebook will illustrate the following features:\n",
    "\n",
    "   - Calculation of multi-group cross sections for a fuel assembly\n",
    "   - Automated creation and storage of MGXS with openmc.mgxs.Library\n",
    "   - Steady-state pin-by-pin fission rates comparison between continuous-energy and multi-group OpenMC.\n",
    "   - Modification of the scattering data in the library to show the flexibility of the multi-group solver\n"
   ]
  },
  {
   "cell_type": "markdown",
   "metadata": {},
   "source": [
    "# Generate Input Files"
   ]
  },
  {
   "cell_type": "code",
   "execution_count": 1,
   "metadata": {},
   "outputs": [],
   "source": [
    "import matplotlib.pyplot as plt\n",
    "import numpy as np\n",
    "import os\n",
    "\n",
    "import openmc\n",
    "\n",
    "%matplotlib inline"
   ]
  },
  {
   "cell_type": "markdown",
   "metadata": {},
   "source": [
    "We will begin by creating three materials for the fuel, water, and cladding of the fuel pins."
   ]
  },
  {
   "cell_type": "code",
   "execution_count": 2,
   "metadata": {},
   "outputs": [],
   "source": [
    "# 1.6% enriched fuel\n",
    "fuel = openmc.Material(name='1.6% Fuel')\n",
    "fuel.set_density('g/cm3', 10.31341)\n",
    "fuel.add_element('U', 1., enrichment=1.6)\n",
    "fuel.add_element('O', 2.)\n",
    "\n",
    "# zircaloy\n",
    "zircaloy = openmc.Material(name='Zircaloy')\n",
    "zircaloy.set_density('g/cm3', 6.55)\n",
    "zircaloy.add_element('Zr', 1.)\n",
    "\n",
    "# borated water\n",
    "water = openmc.Material(name='Borated Water')\n",
    "water.set_density('g/cm3', 0.740582)\n",
    "water.add_element('H', 4.9457e-2)\n",
    "water.add_element('O', 2.4732e-2)\n",
    "water.add_element('B', 8.0042e-6)\n"
   ]
  },
  {
   "cell_type": "markdown",
   "metadata": {},
   "source": [
    "With our three materials, we can now create a Materials object that can be exported to an actual XML file."
   ]
  },
  {
   "cell_type": "code",
   "execution_count": 3,
   "metadata": {},
   "outputs": [],
   "source": [
    "# Instantiate a Materials object\n",
    "materials_file = openmc.Materials((fuel, zircaloy, water))\n",
    "\n",
    "# Export to \"materials.xml\"\n",
    "materials_file.export_to_xml()"
   ]
  },
  {
   "cell_type": "markdown",
   "metadata": {},
   "source": [
    "Now let's move on to the geometry. This problem will be a square array of fuel pins and control rod guide tubes for which we can use OpenMC's lattice/universe feature. The basic universe will have three regions for the fuel, the clad, and the surrounding coolant. The first step is to create the bounding surfaces for fuel and clad, as well as the outer bounding surfaces of the problem."
   ]
  },
  {
   "cell_type": "code",
   "execution_count": 4,
   "metadata": {},
   "outputs": [],
   "source": [
    "# Create cylinders for the fuel and clad\n",
    "# The x0 and y0 parameters (0. and 0.) are the default values for an\n",
    "# openmc.ZCylinder object. We could therefore leave them out to no effect\n",
    "fuel_outer_radius = openmc.ZCylinder(x0=0.0, y0=0.0, R=0.39218)\n",
    "clad_outer_radius = openmc.ZCylinder(x0=0.0, y0=0.0, R=0.45720)\n",
    "\n",
    "# Create boundary planes to surround the geometry\n",
    "min_x = openmc.XPlane(x0=-10.71, boundary_type='reflective')\n",
    "max_x = openmc.XPlane(x0=+10.71, boundary_type='reflective')\n",
    "min_y = openmc.YPlane(y0=-10.71, boundary_type='reflective')\n",
    "max_y = openmc.YPlane(y0=+10.71, boundary_type='reflective')\n",
    "min_z = openmc.ZPlane(z0=-10., boundary_type='reflective')\n",
    "max_z = openmc.ZPlane(z0=+10., boundary_type='reflective')"
   ]
  },
  {
   "cell_type": "markdown",
   "metadata": {},
   "source": [
    "With the surfaces defined, we can now construct a fuel pin cell from cells that are defined by intersections of half-spaces created by the surfaces."
   ]
  },
  {
   "cell_type": "code",
   "execution_count": 5,
   "metadata": {},
   "outputs": [],
   "source": [
    "# Create a Universe to encapsulate a fuel pin\n",
    "fuel_pin_universe = openmc.Universe(name='1.6% Fuel Pin')\n",
    "\n",
    "# Create fuel Cell\n",
    "fuel_cell = openmc.Cell(name='1.6% Fuel')\n",
    "fuel_cell.fill = fuel\n",
    "fuel_cell.region = -fuel_outer_radius\n",
    "fuel_pin_universe.add_cell(fuel_cell)\n",
    "\n",
    "# Create a clad Cell\n",
    "clad_cell = openmc.Cell(name='1.6% Clad')\n",
    "clad_cell.fill = zircaloy\n",
    "clad_cell.region = +fuel_outer_radius & -clad_outer_radius\n",
    "fuel_pin_universe.add_cell(clad_cell)\n",
    "\n",
    "# Create a moderator Cell\n",
    "moderator_cell = openmc.Cell(name='1.6% Moderator')\n",
    "moderator_cell.fill = water\n",
    "moderator_cell.region = +clad_outer_radius\n",
    "fuel_pin_universe.add_cell(moderator_cell)"
   ]
  },
  {
   "cell_type": "markdown",
   "metadata": {},
   "source": [
    "Likewise, we can construct a control rod guide tube with the same surfaces."
   ]
  },
  {
   "cell_type": "code",
   "execution_count": 6,
   "metadata": {},
   "outputs": [],
   "source": [
    "# Create a Universe to encapsulate a control rod guide tube\n",
    "guide_tube_universe = openmc.Universe(name='Guide Tube')\n",
    "\n",
    "# Create guide tube Cell\n",
    "guide_tube_cell = openmc.Cell(name='Guide Tube Water')\n",
    "guide_tube_cell.fill = water\n",
    "guide_tube_cell.region = -fuel_outer_radius\n",
    "guide_tube_universe.add_cell(guide_tube_cell)\n",
    "\n",
    "# Create a clad Cell\n",
    "clad_cell = openmc.Cell(name='Guide Clad')\n",
    "clad_cell.fill = zircaloy\n",
    "clad_cell.region = +fuel_outer_radius & -clad_outer_radius\n",
    "guide_tube_universe.add_cell(clad_cell)\n",
    "\n",
    "# Create a moderator Cell\n",
    "moderator_cell = openmc.Cell(name='Guide Tube Moderator')\n",
    "moderator_cell.fill = water\n",
    "moderator_cell.region = +clad_outer_radius\n",
    "guide_tube_universe.add_cell(moderator_cell)"
   ]
  },
  {
   "cell_type": "markdown",
   "metadata": {},
   "source": [
    "Using the pin cell universe, we can construct a 17x17 rectangular lattice with a 1.26 cm pitch."
   ]
  },
  {
   "cell_type": "code",
   "execution_count": 7,
   "metadata": {},
   "outputs": [],
   "source": [
    "# Create fuel assembly Lattice\n",
    "assembly = openmc.RectLattice(name='1.6% Fuel Assembly')\n",
    "assembly.pitch = (1.26, 1.26)\n",
    "assembly.lower_left = [-1.26 * 17. / 2.0] * 2"
   ]
  },
  {
   "cell_type": "markdown",
   "metadata": {},
   "source": [
    "Next, we create a NumPy array of fuel pin and guide tube universes for the lattice."
   ]
  },
  {
   "cell_type": "code",
   "execution_count": 8,
   "metadata": {},
   "outputs": [],
   "source": [
    "# Create array indices for guide tube locations in lattice\n",
    "template_x = np.array([5, 8, 11, 3, 13, 2, 5, 8, 11, 14, 2, 5, 8,\n",
    "                       11, 14, 2, 5, 8, 11, 14, 3, 13, 5, 8, 11])\n",
    "template_y = np.array([2, 2, 2, 3, 3, 5, 5, 5, 5, 5, 8, 8, 8, 8,\n",
    "                       8, 11, 11, 11, 11, 11, 13, 13, 14, 14, 14])\n",
    "\n",
    "# Initialize an empty 17x17 array of the lattice universes\n",
    "universes = np.empty((17, 17), dtype=openmc.Universe)\n",
    "\n",
    "# Fill the array with the fuel pin and guide tube universes\n",
    "universes[:, :] = fuel_pin_universe\n",
    "universes[template_x, template_y] = guide_tube_universe\n",
    "\n",
    "# Store the array of universes in the lattice\n",
    "assembly.universes = universes"
   ]
  },
  {
   "cell_type": "markdown",
   "metadata": {},
   "source": [
    "OpenMC requires that there is a \"root\" universe. Let us create a root cell that is filled by the pin cell universe and then assign it to the root universe."
   ]
  },
  {
   "cell_type": "code",
   "execution_count": 9,
   "metadata": {},
   "outputs": [],
   "source": [
    "# Create root Cell\n",
    "root_cell = openmc.Cell(name='root cell')\n",
    "root_cell.fill = assembly\n",
    "\n",
    "# Add boundary planes\n",
    "root_cell.region = +min_x & -max_x & +min_y & -max_y & +min_z & -max_z\n",
    "\n",
    "# Create root Universe\n",
    "root_universe = openmc.Universe(name='root universe', universe_id=0)\n",
    "root_universe.add_cell(root_cell)"
   ]
  },
  {
   "cell_type": "markdown",
   "metadata": {},
   "source": [
    "Before proceeding lets check the geometry."
   ]
  },
  {
   "cell_type": "code",
   "execution_count": 10,
   "metadata": {},
   "outputs": [
    {
     "data": {
      "text/plain": [
       "<matplotlib.image.AxesImage at 0x7f6d864d44a8>"
      ]
     },
     "execution_count": 10,
     "metadata": {},
     "output_type": "execute_result"
    },
    {
     "data": {
      "image/png": "[encoded data removed]",
      "text/plain": [
       "<matplotlib.figure.Figure at 0x7f6d88d2f860>"
      ]
     },
     "metadata": {},
     "output_type": "display_data"
    }
   ],
   "source": [
    "root_universe.plot(origin=(0., 0., 0.), width=(21.42, 21.42), pixels=(500, 500), color_by='material')"
   ]
  },
  {
   "cell_type": "markdown",
   "metadata": {},
   "source": [
    "Looks good!\n",
    "\n",
    "We now must create a geometry that is assigned a root universe and export it to XML."
   ]
  },
  {
   "cell_type": "code",
   "execution_count": 11,
   "metadata": {},
   "outputs": [],
   "source": [
    "# Create Geometry and set root universe\n",
    "geometry = openmc.Geometry(root_universe)\n",
    "\n",
    "# Export to \"geometry.xml\"\n",
    "geometry.export_to_xml()"
   ]
  },
  {
   "cell_type": "markdown",
   "metadata": {},
   "source": [
    "With the geometry and materials finished, we now just need to define simulation parameters."
   ]
  },
  {
   "cell_type": "code",
   "execution_count": 12,
   "metadata": {},
   "outputs": [],
   "source": [
    "# OpenMC simulation parameters\n",
    "batches = 600\n",
    "inactive = 50\n",
    "particles = 3000\n",
    "\n",
    "# Instantiate a Settings object\n",
    "settings_file = openmc.Settings()\n",
    "settings_file.batches = batches\n",
    "settings_file.inactive = inactive\n",
    "settings_file.particles = particles\n",
    "settings_file.output = {'tallies': False}\n",
    "settings_file.run_mode = 'eigenvalue'\n",
    "settings_file.verbosity = 4\n",
    "\n",
    "# Create an initial uniform spatial source distribution over fissionable zones\n",
    "bounds = [-10.71, -10.71, -10, 10.71, 10.71, 10.]\n",
    "uniform_dist = openmc.stats.Box(bounds[:3], bounds[3:], only_fissionable=True)\n",
    "settings_file.source = openmc.Source(space=uniform_dist)\n",
    "\n",
    "# Export to \"settings.xml\"\n",
    "settings_file.export_to_xml()"
   ]
  },
  {
   "cell_type": "markdown",
   "metadata": {},
   "source": [
    "# Create an MGXS Library\n",
    "\n",
    "Now we are ready to generate multi-group cross sections! First, let's define a 2-group structure using the built-in EnergyGroups class."
   ]
  },
  {
   "cell_type": "code",
   "execution_count": 13,
   "metadata": {},
   "outputs": [],
   "source": [
    "# Instantiate a 2-group EnergyGroups object\n",
    "groups = openmc.mgxs.EnergyGroups([0., 0.625, 20.0e6])"
   ]
  },
  {
   "cell_type": "markdown",
   "metadata": {},
   "source": [
    "Next, we will instantiate an openmc.mgxs.Library for the energy groups with our the fuel assembly geometry."
   ]
  },
  {
   "cell_type": "code",
   "execution_count": 14,
   "metadata": {},
   "outputs": [],
   "source": [
    "# Initialize a 2-group MGXS Library for OpenMC\n",
    "mgxs_lib = openmc.mgxs.Library(geometry)\n",
    "mgxs_lib.energy_groups = groups"
   ]
  },
  {
   "cell_type": "markdown",
   "metadata": {},
   "source": [
    "Now, we must specify to the Library which types of cross sections to compute. OpenMC's multi-group mode can accept isotropic flux-weighted cross sections or angle-dependent cross sections, as well as supporting anisotropic scattering represented by either Legendre polynomials, histogram, or tabular angular distributions.  We will create the following multi-group cross sections needed to run an OpenMC simulation to verify the accuracy of our cross sections: \"total\", \"absorption\", \"nu-fission\", '\"fission\", \"nu-scatter matrix\", \"multiplicity matrix\", and \"chi\".\n",
    "\n",
    "The \"multiplicity matrix\" type is a relatively rare cross section type.  This data is needed to provide OpenMC's multi-group mode with additional information needed to accurately treat scattering multiplication (i.e., (n,xn) reactions)), including how this multiplication varies depending on both incoming and outgoing neutron energies."
   ]
  },
  {
   "cell_type": "code",
   "execution_count": 15,
   "metadata": {},
   "outputs": [],
   "source": [
    "# Specify multi-group cross section types to compute\n",
    "mgxs_lib.mgxs_types = ['total', 'absorption', 'nu-fission', 'fission',\n",
    "                       'nu-scatter matrix', 'multiplicity matrix', 'chi']"
   ]
  },
  {
   "cell_type": "markdown",
   "metadata": {},
   "source": [
    "Now we must specify the type of domain over which we would like the `Library` to compute multi-group cross sections. The domain type corresponds to the type of tally filter to be used in the tallies created to compute multi-group cross sections. At the present time, the `Library` supports \"material\", \"cell\", \"universe\", and \"mesh\" domain types. In this simple example, we wish to compute multi-group cross sections only for each material and therefore will use a \"material\" domain type.\n",
    "\n",
    "**NOTE:** By default, the `Library` class will instantiate `MGXS` objects for each and every domain (material, cell, universe, or mesh) in the geometry of interest. However, one may specify a subset of these domains to the `Library.domains` property."
   ]
  },
  {
   "cell_type": "code",
   "execution_count": 16,
   "metadata": {},
   "outputs": [],
   "source": [
    "# Specify a \"cell\" domain type for the cross section tally filters\n",
    "mgxs_lib.domain_type = \"material\"\n",
    "\n",
    "# Specify the cell domains over which to compute multi-group cross sections\n",
    "mgxs_lib.domains = geometry.get_all_materials().values()"
   ]
  },
  {
   "cell_type": "markdown",
   "metadata": {},
   "source": [
    "We will instruct the library to not compute cross sections on a nuclide-by-nuclide basis, and instead to focus on generating material-specific macroscopic cross sections.\n",
    "\n",
    "**NOTE:** The default value of the `by_nuclide` parameter is `False`, so the following step is not necessary but is included for illustrative purposes."
   ]
  },
  {
   "cell_type": "code",
   "execution_count": 17,
   "metadata": {},
   "outputs": [],
   "source": [
    "# Do not compute cross sections on a nuclide-by-nuclide basis\n",
    "mgxs_lib.by_nuclide = False"
   ]
  },
  {
   "cell_type": "markdown",
   "metadata": {},
   "source": [
    "Now we will set the scattering order that we wish to use.  For this problem we will use P3 scattering.  A warning is expected telling us that the default behavior (a P0 correction on the scattering data) is over-ridden by our choice of using a Legendre expansion to treat anisotropic scattering."
   ]
  },
  {
   "cell_type": "code",
   "execution_count": 18,
   "metadata": {},
   "outputs": [
    {
     "name": "stderr",
     "output_type": "stream",
     "text": [
      "/home/nelsonag/git/openmc/openmc/mgxs/library.py:412: RuntimeWarning: The P0 correction will be ignored since the scattering order 0 is greater than zero\n",
      "  warn(msg, RuntimeWarning)\n"
     ]
    }
   ],
   "source": [
    "# Set the Legendre order to 3 for P3 scattering\n",
    "mgxs_lib.legendre_order = 3"
   ]
  },
  {
   "cell_type": "markdown",
   "metadata": {},
   "source": [
    "Now that the `Library` has been setup let's verify that it contains the types of cross sections which meet the needs of OpenMC's multi-group solver.  Note that this step is done automatically when writing the Multi-Group Library file later in the process (as part of `mgxs_lib.write_mg_library()`), but it is a good practice to also run this before spending all the time running OpenMC to generate the cross sections.\n",
    "\n",
    "If no error is raised, then we have a good set of data."
   ]
  },
  {
   "cell_type": "code",
   "execution_count": 19,
   "metadata": {},
   "outputs": [],
   "source": [
    "# Check the library - if no errors are raised, then the library is satisfactory.\n",
    "mgxs_lib.check_library_for_openmc_mgxs()"
   ]
  },
  {
   "cell_type": "markdown",
   "metadata": {},
   "source": [
    "Great, now we can use the `Library` to construct the tallies needed to compute all of the requested multi-group cross sections in each domain."
   ]
  },
  {
   "cell_type": "code",
   "execution_count": 20,
   "metadata": {},
   "outputs": [],
   "source": [
    "# Construct all tallies needed for the multi-group cross section library\n",
    "mgxs_lib.build_library()"
   ]
  },
  {
   "cell_type": "markdown",
   "metadata": {},
   "source": [
    "The tallies can now be exported to a \"tallies.xml\" input file for OpenMC.\n",
    "\n",
    "**NOTE:** At this point the `Library` has constructed nearly 100 distinct Tally objects. The overhead to tally in OpenMC scales as O(N) for N tallies, which can become a bottleneck for large tally datasets. To compensate for this, the Python API's `Tally`, `Filter` and `Tallies` classes allow for the smart merging of tallies when possible. The `Library` class supports this runtime optimization with the use of the optional `merge` parameter (`False` by default) for the `Library.add_to_tallies_file(...)` method, as shown below."
   ]
  },
  {
   "cell_type": "code",
   "execution_count": 21,
   "metadata": {},
   "outputs": [],
   "source": [
    "# Create a \"tallies.xml\" file for the MGXS Library\n",
    "tallies_file = openmc.Tallies()\n",
    "mgxs_lib.add_to_tallies_file(tallies_file, merge=True)"
   ]
  },
  {
   "cell_type": "markdown",
   "metadata": {},
   "source": [
    "In addition, we instantiate a fission rate mesh tally that we will eventually use to compare with the corresponding multi-group results."
   ]
  },
  {
   "cell_type": "code",
   "execution_count": 22,
   "metadata": {},
   "outputs": [
    {
     "name": "stderr",
     "output_type": "stream",
     "text": [
      "/home/nelsonag/git/openmc/openmc/mixin.py:71: IDWarning: Another Filter instance already exists with id=66.\n",
      "  warn(msg, IDWarning)\n",
      "/home/nelsonag/git/openmc/openmc/mixin.py:71: IDWarning: Another Filter instance already exists with id=2.\n",
      "  warn(msg, IDWarning)\n",
      "/home/nelsonag/git/openmc/openmc/mixin.py:71: IDWarning: Another Filter instance already exists with id=11.\n",
      "  warn(msg, IDWarning)\n"
     ]
    }
   ],
   "source": [
    "# Instantiate a tally Mesh\n",
    "mesh = openmc.RegularMesh()\n",
    "mesh.dimension = [17, 17]\n",
    "mesh.lower_left = [-10.71, -10.71]\n",
    "mesh.upper_right = [+10.71, +10.71]\n",
    "\n",
    "# Instantiate tally Filter\n",
    "mesh_filter = openmc.MeshFilter(mesh)\n",
    "\n",
    "# Instantiate the Tally\n",
    "tally = openmc.Tally(name='mesh tally')\n",
    "tally.filters = [mesh_filter]\n",
    "tally.scores = ['fission']\n",
    "\n",
    "# Add tally to collection\n",
    "tallies_file.append(tally, merge=True)\n",
    "\n",
    "# Export all tallies to a \"tallies.xml\" file\n",
    "tallies_file.export_to_xml()"
   ]
  },
  {
   "cell_type": "markdown",
   "metadata": {
    "collapsed": true
   },
   "source": [
    "Time to run the calculation and get our results!"
   ]
  },
  {
   "cell_type": "code",
   "execution_count": 23,
   "metadata": {},
   "outputs": [
    {
     "name": "stdout",
     "output_type": "stream",
     "text": [
      "\n",
      "                               %%%%%%%%%%%%%%%\n",
      "                          %%%%%%%%%%%%%%%%%%%%%%%%\n",
      "                       %%%%%%%%%%%%%%%%%%%%%%%%%%%%%%\n",
      "                     %%%%%%%%%%%%%%%%%%%%%%%%%%%%%%%%%%\n",
      "                   %%%%%%%%%%%%%%%%%%%%%%%%%%%%%%%%%%%%%%\n",
      "                  %%%%%%%%%%%%%%%%%%%%%%%%%%%%%%%%%%%%%%%%\n",
      "                                   %%%%%%%%%%%%%%%%%%%%%%%%\n",
      "                                    %%%%%%%%%%%%%%%%%%%%%%%%\n",
      "                ###############      %%%%%%%%%%%%%%%%%%%%%%%%\n",
      "               ##################     %%%%%%%%%%%%%%%%%%%%%%%\n",
      "               ###################     %%%%%%%%%%%%%%%%%%%%%%%\n",
      "               ####################     %%%%%%%%%%%%%%%%%%%%%%\n",
      "               #####################     %%%%%%%%%%%%%%%%%%%%%\n",
      "               ######################     %%%%%%%%%%%%%%%%%%%%\n",
      "               #######################     %%%%%%%%%%%%%%%%%%\n",
      "                #######################     %%%%%%%%%%%%%%%%%\n",
      "                ######################     %%%%%%%%%%%%%%%%%\n",
      "                 ####################     %%%%%%%%%%%%%%%%%\n",
      "                   #################     %%%%%%%%%%%%%%%%%\n",
      "                    ###############     %%%%%%%%%%%%%%%%\n",
      "                      ############     %%%%%%%%%%%%%%%\n",
      "                         ########     %%%%%%%%%%%%%%\n",
      "                                     %%%%%%%%%%%\n",
      "\n",
      "                   | The OpenMC Monte Carlo Code\n",
      "         Copyright | 2011-2018 Massachusetts Institute of Technology\n",
      "           License | http://openmc.readthedocs.io/en/latest/license.html\n",
      "           Version | 0.10.0\n",
      "          Git SHA1 | 6c2d82a4d7dfe10312329d5969568fc03a698416\n",
      "         Date/Time | 2018-04-22 15:02:43\n",
      "    OpenMP Threads | 8\n",
      "\n",
      "\n",
      " ====================>     K EIGENVALUE SIMULATION     <====================\n",
      "\n",
      "\n",
      " ============================>     RESULTS     <============================\n",
      "\n",
      " k-effective (Collision)     =  1.16513 +/-  0.00090\n",
      " k-effective (Track-length)  =  1.16337 +/-  0.00104\n",
      " k-effective (Absorption)    =  1.16479 +/-  0.00080\n",
      " Combined k-effective        =  1.16460 +/-  0.00068\n",
      " Leakage Fraction            =  0.00000 +/-  0.00000\n",
      "\n"
     ]
    }
   ],
   "source": [
    "# Run OpenMC\n",
    "openmc.run()"
   ]
  },
  {
   "cell_type": "markdown",
   "metadata": {},
   "source": [
    "To make sure the results we need are available after running the multi-group calculation, we will now rename the statepoint and summary files."
   ]
  },
  {
   "cell_type": "code",
   "execution_count": 24,
   "metadata": {},
   "outputs": [],
   "source": [
    "# Move the statepoint File\n",
    "ce_spfile = './statepoint_ce.h5'\n",
    "os.rename('statepoint.' + str(batches) + '.h5', ce_spfile)\n",
    "# Move the Summary file\n",
    "ce_sumfile = './summary_ce.h5'\n",
    "os.rename('summary.h5', ce_sumfile)"
   ]
  },
  {
   "cell_type": "markdown",
   "metadata": {},
   "source": [
    "# Tally Data Processing\n",
    "\n",
    "Our simulation ran successfully and created statepoint and summary output files.  Let's begin by loading the StatePoint file."
   ]
  },
  {
   "cell_type": "code",
   "execution_count": 25,
   "metadata": {},
   "outputs": [],
   "source": [
    "# Load the statepoint file\n",
    "sp = openmc.StatePoint(ce_spfile, autolink=False)\n",
    "\n",
    "# Load the summary file in its new location\n",
    "su = openmc.Summary(ce_sumfile)\n",
    "sp.link_with_summary(su)"
   ]
  },
  {
   "cell_type": "markdown",
   "metadata": {},
   "source": [
    "The statepoint is now ready to be analyzed by the `Library`. We simply have to load the tallies from the statepoint into the `Library` and our `MGXS` objects will compute the cross sections for us under-the-hood."
   ]
  },
  {
   "cell_type": "code",
   "execution_count": 26,
   "metadata": {},
   "outputs": [],
   "source": [
    "# Initialize MGXS Library with OpenMC statepoint data\n",
    "mgxs_lib.load_from_statepoint(sp)"
   ]
  },
  {
   "cell_type": "markdown",
   "metadata": {},
   "source": [
    "The next step will be to prepare the input for OpenMC to use our newly created multi-group data."
   ]
  },
  {
   "cell_type": "markdown",
   "metadata": {},
   "source": [
    "# Multi-Group OpenMC Calculation"
   ]
  },
  {
   "cell_type": "markdown",
   "metadata": {},
   "source": [
    "We will now use the `Library` to produce a multi-group cross section data set for use by the OpenMC multi-group solver.  \n",
    "Note that since this simulation included so few histories, it is reasonable to expect some data has not had any scores, and thus we could see division by zero errors.  This will show up as a runtime warning in the following step. The `Library` class is designed to gracefully handle these scenarios."
   ]
  },
  {
   "cell_type": "code",
   "execution_count": 27,
   "metadata": {},
   "outputs": [],
   "source": [
    "# Create a MGXS File which can then be written to disk\n",
    "mgxs_file = mgxs_lib.create_mg_library(xs_type='macro', xsdata_names=['fuel', 'zircaloy', 'water'])\n",
    "\n",
    "# Write the file to disk using the default filename of \"mgxs.h5\"\n",
    "mgxs_file.export_to_hdf5()"
   ]
  },
  {
   "cell_type": "markdown",
   "metadata": {},
   "source": [
    "OpenMC's multi-group mode uses the same input files as does the continuous-energy mode (materials, geometry, settings, plots, and tallies file).  Differences would include the use of a flag to tell the code to use multi-group transport, a location of the multi-group library file, and any changes needed in the materials.xml and geometry.xml files to re-define materials as necessary. The materials and geometry file changes could be necessary if materials or their nuclide/element/macroscopic constituents need to be renamed.\n",
    "\n",
    "In this example we have created macroscopic cross sections (by material), and thus we will need to change the material definitions accordingly.\n",
    "\n",
    "First we will create the new materials.xml file."
   ]
  },
  {
   "cell_type": "code",
   "execution_count": 28,
   "metadata": {},
   "outputs": [
    {
     "name": "stderr",
     "output_type": "stream",
     "text": [
      "/home/nelsonag/git/openmc/openmc/mixin.py:71: IDWarning: Another Material instance already exists with id=1.\n",
      "  warn(msg, IDWarning)\n",
      "/home/nelsonag/git/openmc/openmc/mixin.py:71: IDWarning: Another Material instance already exists with id=2.\n",
      "  warn(msg, IDWarning)\n",
      "/home/nelsonag/git/openmc/openmc/mixin.py:71: IDWarning: Another Material instance already exists with id=3.\n",
      "  warn(msg, IDWarning)\n"
     ]
    }
   ],
   "source": [
    "# Re-define our materials to use the multi-group macroscopic data\n",
    "# instead of the continuous-energy data.\n",
    "\n",
    "# 1.6% enriched fuel UO2\n",
    "fuel_mg = openmc.Material(name='UO2', material_id=1)\n",
    "fuel_mg.add_macroscopic('fuel')\n",
    "\n",
    "# cladding\n",
    "zircaloy_mg = openmc.Material(name='Clad', material_id=2)\n",
    "zircaloy_mg.add_macroscopic('zircaloy')\n",
    "\n",
    "# moderator\n",
    "water_mg = openmc.Material(name='Water', material_id=3)\n",
    "water_mg.add_macroscopic('water')\n",
    "\n",
    "# Finally, instantiate our Materials object\n",
    "materials_file = openmc.Materials((fuel_mg, zircaloy_mg, water_mg))\n",
    "\n",
    "# Set the location of the cross sections file\n",
    "materials_file.cross_sections = 'mgxs.h5'\n",
    "\n",
    "# Export to \"materials.xml\"\n",
    "materials_file.export_to_xml()"
   ]
  },
  {
   "cell_type": "markdown",
   "metadata": {},
   "source": [
    "No geometry file neeeds to be written as the continuous-energy file is correctly defined for the multi-group case as well."
   ]
  },
  {
   "cell_type": "markdown",
   "metadata": {},
   "source": [
    "Next, we can make the changes we need to the simulation parameters.\n",
    "These changes are limited to telling OpenMC to run a multi-group vice contrinuous-energy calculation."
   ]
  },
  {
   "cell_type": "code",
   "execution_count": 29,
   "metadata": {},
   "outputs": [],
   "source": [
    "# Set the energy mode\n",
    "settings_file.energy_mode = 'multi-group'\n",
    "\n",
    "# Export to \"settings.xml\"\n",
    "settings_file.export_to_xml()"
   ]
  },
  {
   "cell_type": "markdown",
   "metadata": {},
   "source": [
    "Lets clear the tallies file so it doesn't include tallies for re-generating a multi-group library, but then put back in a tally for the fission mesh."
   ]
  },
  {
   "cell_type": "code",
   "execution_count": 30,
   "metadata": {},
   "outputs": [],
   "source": [
    "# Create a \"tallies.xml\" file for the MGXS Library\n",
    "tallies_file = openmc.Tallies()\n",
    "\n",
    "# Add fission and flux mesh to tally for plotting using the same mesh we've already defined\n",
    "mesh_tally = openmc.Tally(name='mesh tally')\n",
    "mesh_tally.filters = [openmc.MeshFilter(mesh)]\n",
    "mesh_tally.scores = ['fission']\n",
    "tallies_file.append(mesh_tally)\n",
    "\n",
    "# Export to \"tallies.xml\"\n",
    "tallies_file.export_to_xml()"
   ]
  },
  {
   "cell_type": "markdown",
   "metadata": {},
   "source": [
    "\n",
    "Before running the calculation let's visually compare a subset of the newly-generated multi-group cross section data to the continuous-energy data. We will do this using the cross section plotting functionality built-in to the OpenMC Python API."
   ]
  },
  {
   "cell_type": "code",
   "execution_count": 31,
   "metadata": {},
   "outputs": [
    {
     "data": {
      "image/png": "[encoded data removed]",
      "text/plain": [
       "<matplotlib.figure.Figure at 0x7f6db0ac4f98>"
      ]
     },
     "metadata": {},
     "output_type": "display_data"
    },
    {
     "data": {
      "image/png": "[encoded data removed]",
      "text/plain": [
       "<matplotlib.figure.Figure at 0x7f6d86493fd0>"
      ]
     },
     "metadata": {},
     "output_type": "display_data"
    },
    {
     "data": {
      "image/png": "[encoded data removed]",
      "text/plain": [
       "<matplotlib.figure.Figure at 0x7f6db067e390>"
      ]
     },
     "metadata": {},
     "output_type": "display_data"
    }
   ],
   "source": [
    "# First lets plot the fuel data\n",
    "# We will first add the continuous-energy data\n",
    "fig = openmc.plot_xs(fuel, ['total'])\n",
    "\n",
    "# We will now add in the corresponding multi-group data and show the result\n",
    "openmc.plot_xs(fuel_mg, ['total'], plot_CE=False, mg_cross_sections='mgxs.h5', axis=fig.axes[0])\n",
    "fig.axes[0].legend().set_visible(False)\n",
    "plt.show()\n",
    "plt.close()\n",
    "\n",
    "# Then repeat for the zircaloy data\n",
    "fig = openmc.plot_xs(zircaloy, ['total'])\n",
    "openmc.plot_xs(zircaloy_mg, ['total'], plot_CE=False, mg_cross_sections='mgxs.h5', axis=fig.axes[0])\n",
    "fig.axes[0].legend().set_visible(False)\n",
    "plt.show()\n",
    "plt.close()\n",
    "\n",
    "# And finally repeat for the water data\n",
    "fig = openmc.plot_xs(water, ['total'])\n",
    "openmc.plot_xs(water_mg, ['total'], plot_CE=False, mg_cross_sections='mgxs.h5', axis=fig.axes[0])\n",
    "fig.axes[0].legend().set_visible(False)\n",
    "plt.show()\n",
    "plt.close()"
   ]
  },
  {
   "cell_type": "markdown",
   "metadata": {},
   "source": [
    "At this point, the problem is set up and we can run the multi-group calculation."
   ]
  },
  {
   "cell_type": "code",
   "execution_count": 32,
   "metadata": {
    "scrolled": true
   },
   "outputs": [
    {
     "name": "stdout",
     "output_type": "stream",
     "text": [
      "\n",
      "                               %%%%%%%%%%%%%%%\n",
      "                          %%%%%%%%%%%%%%%%%%%%%%%%\n",
      "                       %%%%%%%%%%%%%%%%%%%%%%%%%%%%%%\n",
      "                     %%%%%%%%%%%%%%%%%%%%%%%%%%%%%%%%%%\n",
      "                   %%%%%%%%%%%%%%%%%%%%%%%%%%%%%%%%%%%%%%\n",
      "                  %%%%%%%%%%%%%%%%%%%%%%%%%%%%%%%%%%%%%%%%\n",
      "                                   %%%%%%%%%%%%%%%%%%%%%%%%\n",
      "                                    %%%%%%%%%%%%%%%%%%%%%%%%\n",
      "                ###############      %%%%%%%%%%%%%%%%%%%%%%%%\n",
      "               ##################     %%%%%%%%%%%%%%%%%%%%%%%\n",
      "               ###################     %%%%%%%%%%%%%%%%%%%%%%%\n",
      "               ####################     %%%%%%%%%%%%%%%%%%%%%%\n",
      "               #####################     %%%%%%%%%%%%%%%%%%%%%\n",
      "               ######################     %%%%%%%%%%%%%%%%%%%%\n",
      "               #######################     %%%%%%%%%%%%%%%%%%\n",
      "                #######################     %%%%%%%%%%%%%%%%%\n",
      "                ######################     %%%%%%%%%%%%%%%%%\n",
      "                 ####################     %%%%%%%%%%%%%%%%%\n",
      "                   #################     %%%%%%%%%%%%%%%%%\n",
      "                    ###############     %%%%%%%%%%%%%%%%\n",
      "                      ############     %%%%%%%%%%%%%%%\n",
      "                         ########     %%%%%%%%%%%%%%\n",
      "                                     %%%%%%%%%%%\n",
      "\n",
      "                   | The OpenMC Monte Carlo Code\n",
      "         Copyright | 2011-2018 Massachusetts Institute of Technology\n",
      "           License | http://openmc.readthedocs.io/en/latest/license.html\n",
      "           Version | 0.10.0\n",
      "          Git SHA1 | 6c2d82a4d7dfe10312329d5969568fc03a698416\n",
      "         Date/Time | 2018-04-22 15:04:03\n",
      "    OpenMP Threads | 8\n",
      "\n",
      "\n",
      " ====================>     K EIGENVALUE SIMULATION     <====================\n",
      "\n",
      "\n",
      " ============================>     RESULTS     <============================\n",
      "\n",
      " k-effective (Collision)     =  1.16541 +/-  0.00086\n",
      " k-effective (Track-length)  =  1.16590 +/-  0.00096\n",
      " k-effective (Absorption)    =  1.16469 +/-  0.00046\n",
      " Combined k-effective        =  1.16480 +/-  0.00045\n",
      " Leakage Fraction            =  0.00000 +/-  0.00000\n",
      "\n"
     ]
    }
   ],
   "source": [
    "# Run the Multi-Group OpenMC Simulation\n",
    "openmc.run()"
   ]
  },
  {
   "cell_type": "markdown",
   "metadata": {},
   "source": [
    "# Results Comparison\n",
    "Now we can compare the multi-group and continuous-energy results.\n",
    "\n",
    "We will begin by loading the multi-group statepoint file we just finished writing and extracting the calculated keff."
   ]
  },
  {
   "cell_type": "code",
   "execution_count": 33,
   "metadata": {},
   "outputs": [],
   "source": [
    "# Move the StatePoint File\n",
    "mg_spfile = './statepoint_mg.h5'\n",
    "os.rename('statepoint.' + str(batches) + '.h5', mg_spfile)\n",
    "# Move the Summary file\n",
    "mg_sumfile = './summary_mg.h5'\n",
    "os.rename('summary.h5', mg_sumfile)\n",
    "\n",
    "# Rename and then load the last statepoint file and keff value\n",
    "mgsp = openmc.StatePoint(mg_spfile, autolink=False)\n",
    "\n",
    "# Load the summary file in its new location\n",
    "mgsu = openmc.Summary(mg_sumfile)\n",
    "mgsp.link_with_summary(mgsu)\n",
    "\n",
    "# Get keff\n",
    "mg_keff = mgsp.k_combined"
   ]
  },
  {
   "cell_type": "markdown",
   "metadata": {},
   "source": [
    "Next, we can load the continuous-energy eigenvalue for comparison."
   ]
  },
  {
   "cell_type": "code",
   "execution_count": 34,
   "metadata": {},
   "outputs": [],
   "source": [
    "ce_keff = sp.k_combined"
   ]
  },
  {
   "cell_type": "markdown",
   "metadata": {},
   "source": [
    "Lets compare the two eigenvalues, including their bias"
   ]
  },
  {
   "cell_type": "code",
   "execution_count": 35,
   "metadata": {},
   "outputs": [
    {
     "name": "stdout",
     "output_type": "stream",
     "text": [
      "Continuous-Energy keff = 1.164600+/-0.000677\n",
      "Multi-Group keff = 1.164805+/-0.000448\n",
      "bias [pcm]: -20.4\n"
     ]
    }
   ],
   "source": [
    "bias = 1.0E5 * (ce_keff - mg_keff)\n",
    "\n",
    "print('Continuous-Energy keff = {0:1.6f}'.format(ce_keff))\n",
    "print('Multi-Group keff = {0:1.6f}'.format(mg_keff))\n",
    "print('bias [pcm]: {0:1.1f}'.format(bias.nominal_value))"
   ]
  },
  {
   "cell_type": "markdown",
   "metadata": {},
   "source": [
    "This shows a small but nontrivial pcm bias between the two methods.  Some degree of mismatch is expected simply to the very few histories being used in these example problems.  An additional mismatch is always inherent in the practical application of multi-group theory due to the high degree of approximations inherent in that method."
   ]
  },
  {
   "cell_type": "markdown",
   "metadata": {},
   "source": [
    "# Pin Power Visualizations"
   ]
  },
  {
   "cell_type": "markdown",
   "metadata": {},
   "source": [
    "Next we will visualize the pin power results obtained from both the Continuous-Energy and Multi-Group OpenMC calculations.\n",
    "\n",
    "First, we extract volume-integrated fission rates from the Multi-Group calculation's mesh fission rate tally for each pin cell in the fuel assembly."
   ]
  },
  {
   "cell_type": "code",
   "execution_count": 36,
   "metadata": {},
   "outputs": [],
   "source": [
    "# Get the OpenMC fission rate mesh tally data\n",
    "mg_mesh_tally = mgsp.get_tally(name='mesh tally')\n",
    "mg_fission_rates = mg_mesh_tally.get_values(scores=['fission'])\n",
    "\n",
    "# Reshape array to 2D for plotting\n",
    "mg_fission_rates.shape = (17,17)\n",
    "\n",
    "# Normalize to the average pin power\n",
    "mg_fission_rates /= np.mean(mg_fission_rates[mg_fission_rates > 0.])"
   ]
  },
  {
   "cell_type": "markdown",
   "metadata": {},
   "source": [
    "We can now do the same for the Continuous-Energy results."
   ]
  },
  {
   "cell_type": "code",
   "execution_count": 37,
   "metadata": {},
   "outputs": [],
   "source": [
    "# Get the OpenMC fission rate mesh tally data\n",
    "ce_mesh_tally = sp.get_tally(name='mesh tally')\n",
    "ce_fission_rates = ce_mesh_tally.get_values(scores=['fission'])\n",
    "\n",
    "# Reshape array to 2D for plotting\n",
    "ce_fission_rates.shape = (17,17)\n",
    "\n",
    "# Normalize to the average pin power\n",
    "ce_fission_rates /= np.mean(ce_fission_rates[ce_fission_rates > 0.])"
   ]
  },
  {
   "cell_type": "markdown",
   "metadata": {},
   "source": [
    "Now we can easily use Matplotlib to visualize the two fission rates side-by-side."
   ]
  },
  {
   "cell_type": "code",
   "execution_count": 38,
   "metadata": {},
   "outputs": [
    {
     "data": {
      "text/plain": [
       "<matplotlib.text.Text at 0x7f6db0a885c0>"
      ]
     },
     "execution_count": 38,
     "metadata": {},
     "output_type": "execute_result"
    },
    {
     "data": {
      "image/png": "[encoded data removed]",
      "text/plain": [
       "<matplotlib.figure.Figure at 0x7f6db069cb38>"
      ]
     },
     "metadata": {},
     "output_type": "display_data"
    }
   ],
   "source": [
    "# Force zeros to be NaNs so their values are not included when matplotlib calculates\n",
    "# the color scale\n",
    "ce_fission_rates[ce_fission_rates == 0.] = np.nan\n",
    "mg_fission_rates[mg_fission_rates == 0.] = np.nan\n",
    "\n",
    "# Plot the CE fission rates in the left subplot\n",
    "fig = plt.subplot(121)\n",
    "plt.imshow(ce_fission_rates, interpolation='none', cmap='jet')\n",
    "plt.title('Continuous-Energy Fission Rates')\n",
    "\n",
    "# Plot the MG fission rates in the right subplot\n",
    "fig2 = plt.subplot(122)\n",
    "plt.imshow(mg_fission_rates, interpolation='none', cmap='jet')\n",
    "plt.title('Multi-Group Fission Rates')\n"
   ]
  },
  {
   "cell_type": "markdown",
   "metadata": {
    "collapsed": true
   },
   "source": [
    "These figures really indicate that more histories are probably necessary when trying to achieve a fully converged solution, but hey, this is good enough for our example!"
   ]
  },
  {
   "cell_type": "markdown",
   "metadata": {},
   "source": [
    "# Scattering Anisotropy Treatments\n",
    "\n",
    "We will next show how we can work with the scattering angular distributions. OpenMC's MG solver has the capability to use group-to-group angular distributions which are represented as any of the following: a truncated Legendre series of up to the 10th order, a histogram distribution, and a tabular distribution. Any combination of these representations can be used by OpenMC during the transport process, so long as all constituents of a given material use the same representation. This means it is possible to have water represented by a tabular distribution and fuel represented by a Legendre if so desired.\n",
    "\n",
    "*Note*: To have the highest runtime performance OpenMC natively converts Legendre series to a tabular distribution before the transport begins. This default functionality can be turned off with the `tabular_legendre` element of the `settings.xml` file (or for the Python API, the `openmc.Settings.tabular_legendre` attribute).\n",
    "\n",
    "This section will examine the following:\n",
    "- Re-run the MG-mode calculation with P0 scattering everywhere using the `openmc.Settings.max_order` attribute\n",
    "- Re-run the problem with only the water represented with P3 scattering and P0 scattering for the remaining materials using the Python API's ability to convert between formats."
   ]
  },
  {
   "cell_type": "markdown",
   "metadata": {},
   "source": [
    "\n",
    "## Global P0 Scattering\n",
    "First we begin by re-running with P0 scattering (i.e., isotropic) everywhere. If a global maximum order is requested, the most effective way to do this is to use the  `max_order` attribute of our `openmc.Settings` object."
   ]
  },
  {
   "cell_type": "code",
   "execution_count": 39,
   "metadata": {},
   "outputs": [],
   "source": [
    "# Set the maximum scattering order to 0 (i.e., isotropic scattering)\n",
    "settings_file.max_order = 0\n",
    "\n",
    "# Export to \"settings.xml\"\n",
    "settings_file.export_to_xml()"
   ]
  },
  {
   "cell_type": "markdown",
   "metadata": {},
   "source": [
    "Now we can re-run OpenMC to obtain our results"
   ]
  },
  {
   "cell_type": "code",
   "execution_count": 40,
   "metadata": {},
   "outputs": [
    {
     "name": "stdout",
     "output_type": "stream",
     "text": [
      "\n",
      "                               %%%%%%%%%%%%%%%\n",
      "                          %%%%%%%%%%%%%%%%%%%%%%%%\n",
      "                       %%%%%%%%%%%%%%%%%%%%%%%%%%%%%%\n",
      "                     %%%%%%%%%%%%%%%%%%%%%%%%%%%%%%%%%%\n",
      "                   %%%%%%%%%%%%%%%%%%%%%%%%%%%%%%%%%%%%%%\n",
      "                  %%%%%%%%%%%%%%%%%%%%%%%%%%%%%%%%%%%%%%%%\n",
      "                                   %%%%%%%%%%%%%%%%%%%%%%%%\n",
      "                                    %%%%%%%%%%%%%%%%%%%%%%%%\n",
      "                ###############      %%%%%%%%%%%%%%%%%%%%%%%%\n",
      "               ##################     %%%%%%%%%%%%%%%%%%%%%%%\n",
      "               ###################     %%%%%%%%%%%%%%%%%%%%%%%\n",
      "               ####################     %%%%%%%%%%%%%%%%%%%%%%\n",
      "               #####################     %%%%%%%%%%%%%%%%%%%%%\n",
      "               ######################     %%%%%%%%%%%%%%%%%%%%\n",
      "               #######################     %%%%%%%%%%%%%%%%%%\n",
      "                #######################     %%%%%%%%%%%%%%%%%\n",
      "                ######################     %%%%%%%%%%%%%%%%%\n",
      "                 ####################     %%%%%%%%%%%%%%%%%\n",
      "                   #################     %%%%%%%%%%%%%%%%%\n",
      "                    ###############     %%%%%%%%%%%%%%%%\n",
      "                      ############     %%%%%%%%%%%%%%%\n",
      "                         ########     %%%%%%%%%%%%%%\n",
      "                                     %%%%%%%%%%%\n",
      "\n",
      "                   | The OpenMC Monte Carlo Code\n",
      "         Copyright | 2011-2018 Massachusetts Institute of Technology\n",
      "           License | http://openmc.readthedocs.io/en/latest/license.html\n",
      "           Version | 0.10.0\n",
      "          Git SHA1 | 6c2d82a4d7dfe10312329d5969568fc03a698416\n",
      "         Date/Time | 2018-04-22 15:04:39\n",
      "    OpenMP Threads | 8\n",
      "\n",
      "\n",
      " ====================>     K EIGENVALUE SIMULATION     <====================\n",
      "\n",
      "\n",
      " ============================>     RESULTS     <============================\n",
      "\n",
      " k-effective (Collision)     =  1.16379 +/-  0.00090\n",
      " k-effective (Track-length)  =  1.16469 +/-  0.00101\n",
      " k-effective (Absorption)    =  1.16315 +/-  0.00052\n",
      " Combined k-effective        =  1.16335 +/-  0.00050\n",
      " Leakage Fraction            =  0.00000 +/-  0.00000\n",
      "\n"
     ]
    }
   ],
   "source": [
    "# Run the Multi-Group OpenMC Simulation\n",
    "openmc.run()"
   ]
  },
  {
   "cell_type": "markdown",
   "metadata": {},
   "source": [
    "And then get the eigenvalue differences from the Continuous-Energy and P3 MG solution"
   ]
  },
  {
   "cell_type": "code",
   "execution_count": 41,
   "metadata": {},
   "outputs": [
    {
     "name": "stdout",
     "output_type": "stream",
     "text": [
      "P3 bias [pcm]: -20.4\n",
      "P0 bias [pcm]: 125.1\n"
     ]
    }
   ],
   "source": [
    "# Move the statepoint File\n",
    "mgp0_spfile = './statepoint_mg_p0.h5'\n",
    "os.rename('statepoint.' + str(batches) + '.h5', mgp0_spfile)\n",
    "# Move the Summary file\n",
    "mgp0_sumfile = './summary_mg_p0.h5'\n",
    "os.rename('summary.h5', mgp0_sumfile)\n",
    "\n",
    "# Load the last statepoint file and keff value\n",
    "mgsp_p0 = openmc.StatePoint(mgp0_spfile, autolink=False)\n",
    "\n",
    "# Get keff\n",
    "mg_p0_keff = mgsp_p0.k_combined\n",
    "\n",
    "bias_p0 = 1.0E5 * (ce_keff - mg_p0_keff)\n",
    "\n",
    "print('P3 bias [pcm]: {0:1.1f}'.format(bias.nominal_value))\n",
    "print('P0 bias [pcm]: {0:1.1f}'.format(bias_p0.nominal_value))"
   ]
  },
  {
   "cell_type": "markdown",
   "metadata": {},
   "source": [
    "## Mixed Scattering Representations\n",
    "OpenMC's Multi-Group mode also includes a feature where not every data in the library is required to have the same scattering treatment. For example,  we could represent the water with P3 scattering, and the fuel and cladding with P0 scattering. This series will show how this can be done.\n",
    "\n",
    "First we will convert the data to P0 scattering, unless its water, then we will leave that as P3 data."
   ]
  },
  {
   "cell_type": "code",
   "execution_count": 42,
   "metadata": {},
   "outputs": [],
   "source": [
    "# Convert the zircaloy and fuel data to P0 scattering\n",
    "for i, xsdata in enumerate(mgxs_file.xsdatas):\n",
    "    if xsdata.name != 'water':\n",
    "        mgxs_file.xsdatas[i] = xsdata.convert_scatter_format('legendre', 0)"
   ]
  },
  {
   "cell_type": "markdown",
   "metadata": {},
   "source": [
    "We can also use whatever scattering format that we want for the materials in the library. As an example, we will take this P0 data and convert zircaloy to a histogram anisotropic scattering format and the fuel to a tabular anisotropic scattering format"
   ]
  },
  {
   "cell_type": "code",
   "execution_count": 43,
   "metadata": {},
   "outputs": [],
   "source": [
    "# Convert the formats as discussed\n",
    "for i, xsdata in enumerate(mgxs_file.xsdatas):\n",
    "    if xsdata.name == 'zircaloy':\n",
    "        mgxs_file.xsdatas[i] = xsdata.convert_scatter_format('histogram', 2)\n",
    "    elif xsdata.name == 'fuel':\n",
    "        mgxs_file.xsdatas[i] = xsdata.convert_scatter_format('tabular', 2)\n",
    "        \n",
    "mgxs_file.export_to_hdf5('mgxs.h5')"
   ]
  },
  {
   "cell_type": "markdown",
   "metadata": {},
   "source": [
    "Finally we will re-set our `max_order` parameter of our `openmc.Settings` object to our maximum order so that OpenMC will use whatever scattering data is available in the library.\n",
    "\n",
    "After we do this we can re-run the simulation."
   ]
  },
  {
   "cell_type": "code",
   "execution_count": 44,
   "metadata": {},
   "outputs": [
    {
     "name": "stdout",
     "output_type": "stream",
     "text": [
      "\n",
      "                               %%%%%%%%%%%%%%%\n",
      "                          %%%%%%%%%%%%%%%%%%%%%%%%\n",
      "                       %%%%%%%%%%%%%%%%%%%%%%%%%%%%%%\n",
      "                     %%%%%%%%%%%%%%%%%%%%%%%%%%%%%%%%%%\n",
      "                   %%%%%%%%%%%%%%%%%%%%%%%%%%%%%%%%%%%%%%\n",
      "                  %%%%%%%%%%%%%%%%%%%%%%%%%%%%%%%%%%%%%%%%\n",
      "                                   %%%%%%%%%%%%%%%%%%%%%%%%\n",
      "                                    %%%%%%%%%%%%%%%%%%%%%%%%\n",
      "                ###############      %%%%%%%%%%%%%%%%%%%%%%%%\n",
      "               ##################     %%%%%%%%%%%%%%%%%%%%%%%\n",
      "               ###################     %%%%%%%%%%%%%%%%%%%%%%%\n",
      "               ####################     %%%%%%%%%%%%%%%%%%%%%%\n",
      "               #####################     %%%%%%%%%%%%%%%%%%%%%\n",
      "               ######################     %%%%%%%%%%%%%%%%%%%%\n",
      "               #######################     %%%%%%%%%%%%%%%%%%\n",
      "                #######################     %%%%%%%%%%%%%%%%%\n",
      "                ######################     %%%%%%%%%%%%%%%%%\n",
      "                 ####################     %%%%%%%%%%%%%%%%%\n",
      "                   #################     %%%%%%%%%%%%%%%%%\n",
      "                    ###############     %%%%%%%%%%%%%%%%\n",
      "                      ############     %%%%%%%%%%%%%%%\n",
      "                         ########     %%%%%%%%%%%%%%\n",
      "                                     %%%%%%%%%%%\n",
      "\n",
      "                   | The OpenMC Monte Carlo Code\n",
      "         Copyright | 2011-2018 Massachusetts Institute of Technology\n",
      "           License | http://openmc.readthedocs.io/en/latest/license.html\n",
      "           Version | 0.10.0\n",
      "          Git SHA1 | 6c2d82a4d7dfe10312329d5969568fc03a698416\n",
      "         Date/Time | 2018-04-22 15:05:16\n",
      "    OpenMP Threads | 8\n",
      "\n",
      "\n",
      " ====================>     K EIGENVALUE SIMULATION     <====================\n",
      "\n",
      "\n",
      " ============================>     RESULTS     <============================\n",
      "\n",
      " k-effective (Collision)     =  1.16471 +/-  0.00093\n",
      " k-effective (Track-length)  =  1.16412 +/-  0.00106\n",
      " k-effective (Absorption)    =  1.16449 +/-  0.00050\n",
      " Combined k-effective        =  1.16441 +/-  0.00049\n",
      " Leakage Fraction            =  0.00000 +/-  0.00000\n",
      "\n"
     ]
    }
   ],
   "source": [
    "settings_file.max_order = None\n",
    "\n",
    "# Export to \"settings.xml\"\n",
    "settings_file.export_to_xml()\n",
    "\n",
    "# Run the Multi-Group OpenMC Simulation\n",
    "openmc.run()"
   ]
  },
  {
   "cell_type": "markdown",
   "metadata": {},
   "source": [
    "For a final step we can again obtain the eigenvalue differences from this case and compare with the same from the P3 MG solution"
   ]
  },
  {
   "cell_type": "code",
   "execution_count": 45,
   "metadata": {},
   "outputs": [
    {
     "name": "stdout",
     "output_type": "stream",
     "text": [
      "P3 bias [pcm]: -20.4\n",
      "Mixed Scattering bias [pcm]: 19.5\n"
     ]
    }
   ],
   "source": [
    "# Load the last statepoint file and keff value\n",
    "mgsp_mixed = openmc.StatePoint('./statepoint.' + str(batches) + '.h5')\n",
    "\n",
    "mg_mixed_keff = mgsp_mixed.k_combined\n",
    "bias_mixed = 1.0E5 * (ce_keff - mg_mixed_keff)\n",
    "\n",
    "print('P3 bias [pcm]: {0:1.1f}'.format(bias.nominal_value))\n",
    "print('Mixed Scattering bias [pcm]: {0:1.1f}'.format(bias_mixed.nominal_value))"
   ]
  },
  {
   "cell_type": "markdown",
   "metadata": {},
   "source": [
    "\n",
    "Our tests in this section showed the flexibility of data formatting within OpenMC's multi-group mode: every material can be represented with its own format with the approximations that make the most sense. Now, as you'll see above, the runtimes from our P3, P0, and mixed cases are not significantly different and therefore this might not be a useful strategy for multi-group Monte Carlo.  However, this capability provides a useful benchmark for the accuracy hit one may expect due to these scattering approximations before implementing this generality in a deterministic solver where the runtime savings are more significant.\n",
    "\n",
    "**NOTE**: The biases obtained above with P3, P0, and mixed representations do not necessarily reflect the inherent accuracies of the options. These cases were *not* run with a sufficient number of histories to truly differentiate methods improvement from statistical noise."
   ]
  }
 ],
 "metadata": {
  "kernelspec": {
   "display_name": "Python 3",
   "language": "python",
   "name": "python3"
  },
  "language_info": {
   "codemirror_mode": {
    "name": "ipython",
    "version": 3
   },
   "file_extension": ".py",
   "mimetype": "text/x-python",
   "name": "python",
   "nbconvert_exporter": "python",
   "pygments_lexer": "ipython3",
   "version": "3.6.7"
  }
 },
 "nbformat": 4,
 "nbformat_minor": 1
}
