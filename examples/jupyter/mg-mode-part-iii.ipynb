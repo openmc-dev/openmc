{
 "cells": [
  {
   "cell_type": "markdown",
   "metadata": {},
   "source": [
    "This Notebook illustrates the use of the the more advanced features of OpenMC's multi-group mode and the openmc.mgxs.Library class. During this process, this notebook will illustrate the following features:\n",
    "\n",
    "   - Calculation of multi-group cross sections for a simplified BWR 8x8 assembly with isotropic and angle-dependent MGXS.\n",
    "   - Automated creation and storage of MGXS with openmc.mgxs.Library\n",
    "   - Fission rate comparison between continuous-energy and the two multi-group OpenMC cases.\n",
    "\n",
    "To avoid focusing on unimportant details, the BWR assembly in this notebook is greatly simplified. The descriptions which follow will point out some areas of simplification."
   ]
  },
  {
   "cell_type": "markdown",
   "metadata": {},
   "source": [
    "# Generate Input Files"
   ]
  },
  {
   "cell_type": "code",
   "execution_count": 1,
   "metadata": {
    "collapsed": false
   },
   "outputs": [],
   "source": [
    "import os\n",
    "\n",
    "import matplotlib.pyplot as plt\n",
    "import numpy as np\n",
    "\n",
    "import openmc\n",
    "\n",
    "%matplotlib inline"
   ]
  },
  {
   "cell_type": "markdown",
   "metadata": {},
   "source": [
    "We will be running a rodded 8x8 assembly with Gadolinia fuel pins. Let's create all the elemental data we would need for this case."
   ]
  },
  {
   "cell_type": "code",
   "execution_count": 2,
   "metadata": {
    "collapsed": true
   },
   "outputs": [],
   "source": [
    "# Instantiate some elements\n",
    "elements = {}\n",
    "for elem in ['H', 'O', 'U', 'Zr', 'Gd', 'B', 'C', 'Fe']:\n",
    "    elements[elem] = openmc.Element(elem)"
   ]
  },
  {
   "cell_type": "markdown",
   "metadata": {},
   "source": [
    "With the elements we defined, we will now create the materials we will use later.\n",
    "\n",
    "Material Definition Simplifications:\n",
    "\n",
    "- This model will be run at room temperature so the NNDC ENDF-B/VII.1 data set can be used but the water density will be representative of a module with around 20% voiding. This water density will be non-physically used in all regions of the problem.\n",
    "- Steel is composed of more than just iron, but we will only treat it as such here.\n"
   ]
  },
  {
   "cell_type": "code",
   "execution_count": 3,
   "metadata": {
    "collapsed": false
   },
   "outputs": [],
   "source": [
    "materials = {}\n",
    "\n",
    "# Fuel\n",
    "materials['Fuel'] = openmc.Material(name='Fuel')\n",
    "materials['Fuel'].set_density('g/cm3', 10.32)\n",
    "materials['Fuel'].add_element(elements['O'], 2)\n",
    "materials['Fuel'].add_element(elements['U'], 1, enrichment=3.)\n",
    "\n",
    "# Gadolinia bearing fuel\n",
    "materials['Gad'] = openmc.Material(name='Gad')\n",
    "materials['Gad'].set_density('g/cm3', 10.23)\n",
    "materials['Gad'].add_element(elements['O'], 2)\n",
    "materials['Gad'].add_element(elements['U'], 1, enrichment=3.)\n",
    "materials['Gad'].add_element(elements['Gd'], .02)\n",
    "\n",
    "# Zircaloy\n",
    "materials['Zirc2'] = openmc.Material(name='Zirc2')\n",
    "materials['Zirc2'].set_density('g/cm3', 6.55)\n",
    "materials['Zirc2'].add_element(elements['Zr'], 1)\n",
    "\n",
    "# Boiling Water\n",
    "materials['Water'] = openmc.Material(name='Water')\n",
    "materials['Water'].set_density('g/cm3', 0.6)\n",
    "materials['Water'].add_element(elements['H'], 2)\n",
    "materials['Water'].add_element(elements['O'], 1)\n",
    "\n",
    "# Boron Carbide for the Control Rods\n",
    "materials['B4C'] = openmc.Material(name='B4C')\n",
    "materials['B4C'].set_density('g/cm3', 0.7 * 2.52)\n",
    "materials['B4C'].add_element(elements['B'], 4)\n",
    "materials['B4C'].add_element(elements['C'], 1)\n",
    "\n",
    "# Steel \n",
    "materials['Steel'] = openmc.Material(name='Steel')\n",
    "materials['Steel'].set_density('g/cm3', 7.75)\n",
    "materials['Steel'].add_element(elements['Fe'], 1)"
   ]
  },
  {
   "cell_type": "markdown",
   "metadata": {},
   "source": [
    "We can now create a Materials object that can be exported to an actual XML file."
   ]
  },
  {
   "cell_type": "code",
   "execution_count": 4,
   "metadata": {
    "collapsed": true
   },
   "outputs": [],
   "source": [
    "# Instantiate a Materials object\n",
    "materials_file = openmc.Materials(materials.values())\n",
    "\n",
    "# Export to \"materials.xml\"\n",
    "materials_file.export_to_xml()"
   ]
  },
  {
   "cell_type": "markdown",
   "metadata": {},
   "source": [
    "Now let's move on to the geometry. The first step is to define some constants which will be used to set our dimensions and then we can start creating the surfaces and regions for the problem, the 8x8 lattice, the rods and the control blade.\n",
    "\n",
    "Before proceeding let's discuss some simplifications made to the problem geometry:\n",
    "- To enable the use of an equal-width mesh for running the multi-group calculations, the intra-assembly gap was increased to the same size as the pitch of the 8x8 fuel lattice\n",
    "- The can is neglected\n",
    "- The pin-in-water geometry for the control blade is ignored and instead the blade is a solid block of B4C\n",
    "- Rounded corners are ignored\n",
    "- There is no cladding for the water rod"
   ]
  },
  {
   "cell_type": "code",
   "execution_count": 5,
   "metadata": {
    "collapsed": false
   },
   "outputs": [],
   "source": [
    "# Set constants for the problem and assembly dimensions\n",
    "fuel_rad = 0.53213\n",
    "clad_rad = 0.61341\n",
    "Np = 8\n",
    "pin_pitch = 1.6256\n",
    "length = float(Np + 2) * pin_pitch\n",
    "assembly_width = length - 2. * pin_pitch\n",
    "rod_thick = 0.47752 / 2. + 0.14224\n",
    "rod_span = 7. * pin_pitch\n",
    "\n",
    "surfaces = {}\n",
    "\n",
    "# Create boundary planes to surround the geometry\n",
    "surfaces['Global x-'] = openmc.XPlane(x0=0., boundary_type='reflective')\n",
    "surfaces['Global x+'] = openmc.XPlane(x0=length, boundary_type='reflective')\n",
    "surfaces['Global y-'] = openmc.YPlane(y0=0., boundary_type='reflective')\n",
    "surfaces['Global y+'] = openmc.YPlane(y0=length, boundary_type='reflective')\n",
    "\n",
    "# Create cylinders for the fuel and clad\n",
    "surfaces['Fuel Radius'] = openmc.ZCylinder(R=fuel_rad)\n",
    "surfaces['Clad Radius'] = openmc.ZCylinder(R=clad_rad)\n",
    "\n",
    "surfaces['Assembly x-'] = openmc.XPlane(x0=pin_pitch)\n",
    "surfaces['Assembly x+'] = openmc.XPlane(x0=length - pin_pitch)\n",
    "surfaces['Assembly y-'] = openmc.YPlane(y0=pin_pitch)\n",
    "surfaces['Assembly y+'] = openmc.YPlane(y0=length - pin_pitch)\n",
    "\n",
    "# Set surfaces for the control blades\n",
    "surfaces['Top Blade y-'] = openmc.YPlane(y0=length - rod_thick)\n",
    "surfaces['Top Blade x-'] = openmc.XPlane(x0=pin_pitch)\n",
    "surfaces['Top Blade x+'] = openmc.XPlane(x0=rod_span)\n",
    "surfaces['Left Blade x+'] = openmc.XPlane(x0=rod_thick)\n",
    "surfaces['Left Blade y-'] = openmc.YPlane(y0=length - rod_span)\n",
    "surfaces['Left Blade y+'] = openmc.YPlane(y0=9. * pin_pitch)"
   ]
  },
  {
   "cell_type": "markdown",
   "metadata": {},
   "source": [
    "With the surfaces defined, we can now construct regions with these surfaces before we use those to create cells"
   ]
  },
  {
   "cell_type": "code",
   "execution_count": 6,
   "metadata": {
    "collapsed": true
   },
   "outputs": [],
   "source": [
    "# Set regions for geometry building\n",
    "regions = {}\n",
    "regions['Global'] = \\\n",
    "    (+surfaces['Global x-'] & -surfaces['Global x+'] &\n",
    "     +surfaces['Global y-'] & -surfaces['Global y+'])\n",
    "regions['Assembly'] = \\\n",
    "    (+surfaces['Assembly x-'] & -surfaces['Assembly x+'] &\n",
    "     +surfaces['Assembly y-'] & -surfaces['Assembly y+'])\n",
    "regions['Fuel'] = -surfaces['Fuel Radius']\n",
    "regions['Clad'] = +surfaces['Fuel Radius'] & -surfaces['Clad Radius']\n",
    "regions['Water'] = +surfaces['Clad Radius']\n",
    "regions['Top Blade'] = \\\n",
    "    (+surfaces['Top Blade y-'] & -surfaces['Global y+']) & \\\n",
    "    (+surfaces['Top Blade x-'] & -surfaces['Top Blade x+'])\n",
    "regions['Top Steel'] = \\\n",
    "    (+surfaces['Global x-'] & -surfaces['Top Blade x-']) & \\\n",
    "    (+surfaces['Top Blade y-'] & -surfaces['Global y+'])\n",
    "regions['Left Blade'] = \\\n",
    "    (+surfaces['Left Blade y-'] & -surfaces['Left Blade y+']) & \\\n",
    "    (+surfaces['Global x-'] & -surfaces['Left Blade x+'])\n",
    "regions['Left Steel'] = \\\n",
    "    (+surfaces['Left Blade y+'] & -surfaces['Top Blade y-']) & \\\n",
    "    (+surfaces['Global x-'] & -surfaces['Left Blade x+'])\n",
    "regions['Corner Blade'] = \\\n",
    "    regions['Left Steel'] | regions['Top Steel']\n",
    "regions['Water Fill'] = \\\n",
    "    regions['Global'] & ~regions['Assembly'] & \\\n",
    "    ~regions['Top Blade'] & ~regions['Left Blade'] &\\\n",
    "    ~regions['Corner Blade']"
   ]
  },
  {
   "cell_type": "markdown",
   "metadata": {},
   "source": [
    "We will begin building the 8x8 assembly. To do that we will have to build the cells and universe for each pin type (fuel, gadolinia-fuel, and water)."
   ]
  },
  {
   "cell_type": "code",
   "execution_count": 7,
   "metadata": {
    "collapsed": false
   },
   "outputs": [],
   "source": [
    "universes = {}\n",
    "cells = {}\n",
    "\n",
    "for name, mat, in zip(['Fuel Pin', 'Gd Pin'],\n",
    "                      [materials['Fuel'], materials['Gad']]):\n",
    "    universes[name] = openmc.Universe(name=name)\n",
    "    cells[name] = openmc.Cell(name=name)\n",
    "    cells[name].fill = mat\n",
    "    cells[name].region = regions['Fuel']\n",
    "    universes[name].add_cell(cells[name])\n",
    "    \n",
    "    cells[name + ' Clad'] = openmc.Cell(name=name + ' Clad')\n",
    "    cells[name + ' Clad'].fill = materials['Zirc2']\n",
    "    cells[name + ' Clad'].region = regions['Clad']\n",
    "    universes[name].add_cell(cells[name + ' Clad'])\n",
    "    \n",
    "    cells[name + ' Water'] = openmc.Cell(name=name + ' Water')\n",
    "    cells[name + ' Water'].fill = materials['Water']\n",
    "    cells[name + ' Water'].region = regions['Water']\n",
    "    universes[name].add_cell(cells[name + ' Water'])\n",
    "\n",
    "universes['Hole'] = openmc.Universe(name='Hole')\n",
    "cells['Hole'] = openmc.Cell(name='Hole')\n",
    "cells['Hole'].fill = materials['Water']\n",
    "universes['Hole'].add_cell(cells['Hole'])"
   ]
  },
  {
   "cell_type": "markdown",
   "metadata": {},
   "source": [
    "Let's use this pin information to create our 8x8 assembly."
   ]
  },
  {
   "cell_type": "code",
   "execution_count": 8,
   "metadata": {
    "collapsed": true
   },
   "outputs": [],
   "source": [
    "# Create fuel assembly Lattice\n",
    "universes['Assembly'] = openmc.RectLattice(name='Assembly')\n",
    "universes['Assembly'].pitch = (pin_pitch, pin_pitch)\n",
    "universes['Assembly'].lower_left = [pin_pitch, pin_pitch]\n",
    "\n",
    "f = universes['Fuel Pin']\n",
    "g = universes['Gd Pin']\n",
    "h = universes['Hole']\n",
    "\n",
    "lattices = [[f, f, f, f, f, f, f, f],\n",
    "            [f, f, f, f, f, f, f, f],\n",
    "            [f, f, f, g, f, g, f, f],\n",
    "            [f, f, g, h, h, f, g, f],\n",
    "            [f, f, f, h, h, f, f, f],\n",
    "            [f, f, g, f, f, f, g, f],\n",
    "            [f, f, f, g, f, g, f, f],\n",
    "            [f, f, f, f, f, f, f, f]]\n",
    "\n",
    "# Store the array of lattice universes\n",
    "universes['Assembly'].universes = lattices\n",
    "\n",
    "cells['Assembly'] = openmc.Cell(name='Assembly')\n",
    "cells['Assembly'].fill = universes['Assembly']\n",
    "cells['Assembly'].region = regions['Assembly']"
   ]
  },
  {
   "cell_type": "markdown",
   "metadata": {},
   "source": [
    "So far we have the rods and water within the assembly , but we still need the control blade and the water which fills the rest of the space. We will create those cells now"
   ]
  },
  {
   "cell_type": "code",
   "execution_count": 9,
   "metadata": {
    "collapsed": true
   },
   "outputs": [],
   "source": [
    "# The top portion of the blade, poisoned with B4C\n",
    "cells['Top Blade'] = openmc.Cell(name='Top Blade')\n",
    "cells['Top Blade'].fill = materials['B4C']\n",
    "cells['Top Blade'].region = regions['Top Blade']\n",
    "\n",
    "# The left portion of the blade, poisoned with B4C\n",
    "cells['Left Blade'] = openmc.Cell(name='Left Blade')\n",
    "cells['Left Blade'].fill = materials['B4C']\n",
    "cells['Left Blade'].region = regions['Left Blade']\n",
    "\n",
    "# The top-left corner portion of the blade, with no poison\n",
    "cells['Corner Blade'] = openmc.Cell(name='Corner Blade')\n",
    "cells['Corner Blade'].fill = materials['Steel']\n",
    "cells['Corner Blade'].region = regions['Corner Blade']\n",
    "\n",
    "# Water surrounding all other cells and our assembly\n",
    "cells['Water Fill'] = openmc.Cell(name='Water Fill')\n",
    "cells['Water Fill'].fill = materials['Water']\n",
    "cells['Water Fill'].region = regions['Water Fill']"
   ]
  },
  {
   "cell_type": "markdown",
   "metadata": {},
   "source": [
    "OpenMC requires that there is a \"root\" universe. Let us create our root universe and fill it with the cells just defined."
   ]
  },
  {
   "cell_type": "code",
   "execution_count": 10,
   "metadata": {
    "collapsed": false
   },
   "outputs": [],
   "source": [
    "# Create root Universe\n",
    "universes['Root'] = openmc.Universe(name='root universe', universe_id=0)\n",
    "universes['Root'].add_cells([cells['Assembly'], cells['Top Blade'],\n",
    "                             cells['Corner Blade'], cells['Left Blade'],\n",
    "                             cells['Water Fill']])"
   ]
  },
  {
   "cell_type": "markdown",
   "metadata": {},
   "source": [
    "What do you do after you create your model? Check it! We will use the plotting capabilities of the Python API to do this for us.\n",
    "\n",
    "When doing so, we will coloring by material with fuel being red, gadolinia-fuel as yellow, zirc cladding as a light grey, water as blue, B4C as black and steel as a darker gray."
   ]
  },
  {
   "cell_type": "code",
   "execution_count": 11,
   "metadata": {
    "collapsed": false
   },
   "outputs": [
    {
     "data": {
      "image/png": "[encoded data removed]",
      "text/plain": [
       "<matplotlib.figure.Figure at 0x7f264c98b588>"
      ]
     },
     "metadata": {},
     "output_type": "display_data"
    }
   ],
   "source": [
    "universes['Root'].plot(origin=(length / 2., length / 2., 0.),\n",
    "                       pixels=(500, 500), width=(length, length),\n",
    "                       color_by='material',\n",
    "                       colors={materials['Fuel']: (1., 0., 0.),\n",
    "                               materials['Gad']: (1., 1., 0.),\n",
    "                               materials['Zirc2']: (0.5, 0.5, 0.5),\n",
    "                               materials['Water']: (0.0, 0.0, 1.0),\n",
    "                               materials['B4C']: (0.0, 0.0, 0.0),\n",
    "                               materials['Steel']: (0.4, 0.4, 0.4)})"
   ]
  },
  {
   "cell_type": "markdown",
   "metadata": {},
   "source": [
    "Looks pretty good to us!\n",
    "\n",
    "We now must create a geometry that is assigned a root universe and export it to XML."
   ]
  },
  {
   "cell_type": "code",
   "execution_count": 12,
   "metadata": {
    "collapsed": false
   },
   "outputs": [],
   "source": [
    "# Create Geometry and set root universe\n",
    "geometry = openmc.Geometry(universes['Root'])\n",
    "\n",
    "# Export to \"geometry.xml\"\n",
    "geometry.export_to_xml()"
   ]
  },
  {
   "cell_type": "markdown",
   "metadata": {},
   "source": [
    "With the geometry and materials finished, we now just need to define simulation parameters, including how to run the model and what we want to learn from the model (i.e., define the tallies). We will start with our simulation parameters in the next block.\n",
    "\n",
    "This will include setting the run strategy, telling OpenMC not to bother creating a `tallies.out` file, and limiting the verbosity of our output to just the header and results to not clog up our notebook with results from each batch."
   ]
  },
  {
   "cell_type": "code",
   "execution_count": 13,
   "metadata": {
    "collapsed": true
   },
   "outputs": [],
   "source": [
    "# OpenMC simulation parameters\n",
    "batches = 1000\n",
    "inactive = 20\n",
    "particles = 1000\n",
    "\n",
    "# Instantiate a Settings object\n",
    "settings_file = openmc.Settings()\n",
    "settings_file.batches = batches\n",
    "settings_file.inactive = inactive\n",
    "settings_file.particles = particles\n",
    "settings_file.output = {'tallies': False}\n",
    "settings_file.verbosity = 4\n",
    "\n",
    "# Create an initial uniform spatial source distribution over fissionable zones\n",
    "bounds = [pin_pitch, pin_pitch, 10, length - pin_pitch, length - pin_pitch, 10]\n",
    "uniform_dist = openmc.stats.Box(bounds[:3], bounds[3:], only_fissionable=True)\n",
    "settings_file.source = openmc.source.Source(space=uniform_dist)\n",
    "\n",
    "# Export to \"settings.xml\"\n",
    "settings_file.export_to_xml()"
   ]
  },
  {
   "cell_type": "markdown",
   "metadata": {},
   "source": [
    "# Create an MGXS Library\n",
    "\n",
    "Now we are ready to generate multi-group cross sections! First, let's define a 2-group structure using the built-in EnergyGroups class."
   ]
  },
  {
   "cell_type": "code",
   "execution_count": 14,
   "metadata": {
    "collapsed": false
   },
   "outputs": [],
   "source": [
    "# Instantiate a 2-group EnergyGroups object\n",
    "groups = openmc.mgxs.EnergyGroups()\n",
    "groups.group_edges = np.array([0., 0.625, 20.0e6])"
   ]
  },
  {
   "cell_type": "markdown",
   "metadata": {},
   "source": [
    "Next, we will instantiate an openmc.mgxs.Library for the energy groups with our the problem geometry. This library will use the default setting of isotropically-weighting the multi-group cross sections."
   ]
  },
  {
   "cell_type": "code",
   "execution_count": 15,
   "metadata": {
    "collapsed": true
   },
   "outputs": [],
   "source": [
    "# Initialize a 2-group Isotropic MGXS Library for OpenMC\n",
    "iso_mgxs_lib = openmc.mgxs.Library(geometry)\n",
    "iso_mgxs_lib.energy_groups = groups"
   ]
  },
  {
   "cell_type": "markdown",
   "metadata": {},
   "source": [
    "Now, we must specify to the Library which types of cross sections to compute. OpenMC's multi-group mode can accept isotropic flux-weighted cross sections or angle-dependent cross sections, as well as supporting anisotropic scattering represented by either Legendre polynomials, histogram, or tabular angular distributions.  \n",
    "\n",
    "Just like before, we will create the following multi-group cross sections needed to run an OpenMC simulation to verify the accuracy of our cross sections: \"total\", \"absorption\", \"nu-fission\", '\"fission\", \"nu-scatter matrix\", \"multiplicity matrix\", and \"chi\".\n",
    "\"multiplicity matrix\" is needed to provide OpenMC's multi-group mode with additional information needed to accurately treat scattering multiplication (i.e., (n,xn) reactions)) explicitly."
   ]
  },
  {
   "cell_type": "code",
   "execution_count": 16,
   "metadata": {
    "collapsed": true
   },
   "outputs": [],
   "source": [
    "# Specify multi-group cross section types to compute\n",
    "iso_mgxs_lib.mgxs_types = ['total', 'absorption', 'nu-fission', 'fission',\n",
    "                           'nu-scatter matrix', 'multiplicity matrix', 'chi']"
   ]
  },
  {
   "cell_type": "markdown",
   "metadata": {},
   "source": [
    "Now we must specify the type of domain over which we would like the `Library` to compute multi-group cross sections. The domain type corresponds to the type of tally filter to be used in the tallies created to compute multi-group cross sections. At the present time, the `Library` supports \"material\" \"cell\", \"universe\", and \"mesh\" domain types. \n",
    "\n",
    "For the sake of example we will use a mesh to gather our cross sections. This mesh will be set up so there is one mesh bin for every pin cell."
   ]
  },
  {
   "cell_type": "code",
   "execution_count": 17,
   "metadata": {
    "collapsed": false
   },
   "outputs": [],
   "source": [
    "# Instantiate a tally Mesh\n",
    "mesh = openmc.Mesh()\n",
    "mesh.type = 'regular'\n",
    "mesh.dimension = [10, 10]\n",
    "mesh.lower_left = [0., 0.]\n",
    "mesh.upper_right = [length, length]\n",
    "\n",
    "# Specify a \"mesh\" domain type for the cross section tally filters\n",
    "iso_mgxs_lib.domain_type = \"mesh\"\n",
    "\n",
    "# Specify the mesh over which to compute multi-group cross sections\n",
    "iso_mgxs_lib.domains = [mesh]"
   ]
  },
  {
   "cell_type": "markdown",
   "metadata": {},
   "source": [
    "Now we will set the scattering treatment that we wish to use.\n",
    "\n",
    "In the [mg-mode-part-ii](mg-mode-part-ii.html) notebook, the cross sections were generated with a typical P3 scattering expansion in mind. Now, however, we will use a more advanced technique: OpenMC will directly provide us a histogram of the change-in-angle (i.e., $\\mu$) distribution.\n",
    "\n",
    "Where as in the [mg-mode-part-ii](mg-mode-part-ii.html) notebook, all that was required was to set the `legendre_order` attribute of `mgxs_lib`, here we have only slightly more work: we have to tell the Library that we want to use a histogram distribution (as it is not the default), and then tell it the number of bins.\n",
    "\n",
    "For this problem we will use 11 bins."
   ]
  },
  {
   "cell_type": "code",
   "execution_count": 18,
   "metadata": {
    "collapsed": false
   },
   "outputs": [],
   "source": [
    "# Set the scattering format to histogram and then define the number of bins\n",
    "\n",
    "# Avoid a warning that corrections don't make sense with histogram data\n",
    "iso_mgxs_lib.correction = None\n",
    "# Set the histogram data\n",
    "iso_mgxs_lib.scatter_format = 'histogram'\n",
    "iso_mgxs_lib.histogram_bins = 11"
   ]
  },
  {
   "cell_type": "markdown",
   "metadata": {},
   "source": [
    "Ok, we made our isotropic library with histogram-scattering!\n",
    "\n",
    "Now why don't we go ahead and create a library to do the same, but with angle-dependent MGXS. That is, we will avoid making the isotropic flux weighting approximation and instead just store a cross section for every polar and azimuthal angle pair.\n",
    "\n",
    "To do this with the Python API and OpenMC, all we have to do is set the number of polar and azimuthal bins. Here we only need to set the number of bins, the API will convert all of angular space into equal-width bins for us.\n",
    "\n",
    "Since this problem is symmetric in the z-direction, we only need to concern ourselves with the azimuthal variation here.  We will use eight angles.\n",
    "\n",
    "Ok, we will repeat all the above steps for a new library object, but will also set the number of azimuthal bins at the end."
   ]
  },
  {
   "cell_type": "code",
   "execution_count": 19,
   "metadata": {
    "collapsed": true
   },
   "outputs": [],
   "source": [
    "# Let's repeat all of the above for an angular MGXS library so we can gather\n",
    "# that in the same continuous-energy calculation\n",
    "angle_mgxs_lib = openmc.mgxs.Library(geometry)\n",
    "angle_mgxs_lib.energy_groups = groups\n",
    "angle_mgxs_lib.mgxs_types = ['total', 'absorption', 'nu-fission', 'fission',\n",
    "                             'nu-scatter matrix', 'multiplicity matrix', 'chi']\n",
    "\n",
    "angle_mgxs_lib.domain_type = \"mesh\"\n",
    "angle_mgxs_lib.domains = [mesh]\n",
    "angle_mgxs_lib.correction = None\n",
    "angle_mgxs_lib.scatter_format = 'histogram'\n",
    "angle_mgxs_lib.histogram_bins = 11\n",
    "\n",
    "# Set the angular bins to 8\n",
    "angle_mgxs_lib.num_azimuthal = 8"
   ]
  },
  {
   "cell_type": "markdown",
   "metadata": {},
   "source": [
    "Now that our libraries have been setup, let's make sure they contain the types of cross sections which meet the needs of OpenMC's multi-group solver.  Note that this step is done automatically when writing the Multi-Group Library file later in the process (as part of the `mgxs_lib.write_mg_library()`), but it is a good practice to also run this before spending all the time running OpenMC to generate the cross sections."
   ]
  },
  {
   "cell_type": "code",
   "execution_count": 20,
   "metadata": {
    "collapsed": false
   },
   "outputs": [],
   "source": [
    "# Check the libraries - if no errors are raised, then the library is satisfactory.\n",
    "iso_mgxs_lib.check_library_for_openmc_mgxs()\n",
    "angle_mgxs_lib.check_library_for_openmc_mgxs()"
   ]
  },
  {
   "cell_type": "markdown",
   "metadata": {},
   "source": [
    "Lastly, we use our two `Library` objects to construct the tallies needed to compute all of the requested multi-group cross sections in each domain.\n",
    "\n",
    "We expect a warning here telling us that the default Legendre order is not meaningful since we are using histogram scattering."
   ]
  },
  {
   "cell_type": "code",
   "execution_count": 21,
   "metadata": {
    "collapsed": false
   },
   "outputs": [
    {
     "name": "stderr",
     "output_type": "stream",
     "text": [
      "/home/nelsonag/git/openmc/openmc/mgxs/mgxs.py:3801: UserWarning: The legendre order will be ignored since the scatter format is set to histogram\n",
      "  warnings.warn(msg)\n"
     ]
    }
   ],
   "source": [
    "# Construct all tallies needed for the multi-group cross section library\n",
    "iso_mgxs_lib.build_library()\n",
    "angle_mgxs_lib.build_library()"
   ]
  },
  {
   "cell_type": "markdown",
   "metadata": {},
   "source": [
    "The tallies within the libraries can now be exported to a \"tallies.xml\" input file for OpenMC."
   ]
  },
  {
   "cell_type": "code",
   "execution_count": 22,
   "metadata": {
    "collapsed": true
   },
   "outputs": [],
   "source": [
    "# Create a \"tallies.xml\" file for the MGXS Library\n",
    "tallies_file = openmc.Tallies()\n",
    "iso_mgxs_lib.add_to_tallies_file(tallies_file, merge=True)\n",
    "angle_mgxs_lib.add_to_tallies_file(tallies_file, merge=True)"
   ]
  },
  {
   "cell_type": "markdown",
   "metadata": {},
   "source": [
    "In addition, we instantiate a fission rate mesh tally for eventual comparison of results."
   ]
  },
  {
   "cell_type": "code",
   "execution_count": 23,
   "metadata": {
    "collapsed": true
   },
   "outputs": [],
   "source": [
    "# Instantiate tally Filter\n",
    "mesh_filter = openmc.MeshFilter(mesh)\n",
    "\n",
    "# Instantiate the Tally\n",
    "tally = openmc.Tally(name='mesh tally')\n",
    "tally.filters = [mesh_filter]\n",
    "tally.scores = ['fission']\n",
    "\n",
    "# Add tally to collection\n",
    "tallies_file.append(tally, merge=True)\n",
    "\n",
    "# Export all tallies to a \"tallies.xml\" file\n",
    "tallies_file.export_to_xml()"
   ]
  },
  {
   "cell_type": "markdown",
   "metadata": {
    "collapsed": true
   },
   "source": [
    "Time to run the calculation and get our results!"
   ]
  },
  {
   "cell_type": "code",
   "execution_count": 24,
   "metadata": {
    "collapsed": false
   },
   "outputs": [
    {
     "name": "stdout",
     "output_type": "stream",
     "text": [
      "\n",
      "                               %%%%%%%%%%%%%%%\n",
      "                          %%%%%%%%%%%%%%%%%%%%%%%%\n",
      "                       %%%%%%%%%%%%%%%%%%%%%%%%%%%%%%\n",
      "                     %%%%%%%%%%%%%%%%%%%%%%%%%%%%%%%%%%\n",
      "                   %%%%%%%%%%%%%%%%%%%%%%%%%%%%%%%%%%%%%%\n",
      "                  %%%%%%%%%%%%%%%%%%%%%%%%%%%%%%%%%%%%%%%%\n",
      "                                   %%%%%%%%%%%%%%%%%%%%%%%%\n",
      "                                    %%%%%%%%%%%%%%%%%%%%%%%%\n",
      "                ###############      %%%%%%%%%%%%%%%%%%%%%%%%\n",
      "               ##################     %%%%%%%%%%%%%%%%%%%%%%%\n",
      "               ###################     %%%%%%%%%%%%%%%%%%%%%%%\n",
      "               ####################     %%%%%%%%%%%%%%%%%%%%%%\n",
      "               #####################     %%%%%%%%%%%%%%%%%%%%%\n",
      "               ######################     %%%%%%%%%%%%%%%%%%%%\n",
      "               #######################     %%%%%%%%%%%%%%%%%%\n",
      "                #######################     %%%%%%%%%%%%%%%%%\n",
      "                ######################     %%%%%%%%%%%%%%%%%\n",
      "                 ####################     %%%%%%%%%%%%%%%%%\n",
      "                   #################     %%%%%%%%%%%%%%%%%\n",
      "                    ###############     %%%%%%%%%%%%%%%%\n",
      "                      ############     %%%%%%%%%%%%%%%\n",
      "                         ########     %%%%%%%%%%%%%%\n",
      "                                     %%%%%%%%%%%\n",
      "\n",
      "                   | The OpenMC Monte Carlo Code\n",
      "         Copyright | 2011-2017 Massachusetts Institute of Technology\n",
      "           License | http://openmc.readthedocs.io/en/latest/license.html\n",
      "           Version | 0.8.0\n",
      "          Git SHA1 | 966169de084fcfda3a5aaca3edc0065c8caf6bbc\n",
      "         Date/Time | 2017-03-09 09:18:01\n",
      "    OpenMP Threads | 8\n",
      "\n",
      "\n",
      " ====================>     K EIGENVALUE SIMULATION     <====================\n",
      "\n",
      "\n",
      " ============================>     RESULTS     <============================\n",
      "\n",
      " k-effective (Collision)     =  0.83694 +/-  0.00098\n",
      " k-effective (Track-length)  =  0.83663 +/-  0.00116\n",
      " k-effective (Absorption)    =  0.83775 +/-  0.00102\n",
      " Combined k-effective        =  0.83724 +/-  0.00083\n",
      " Leakage Fraction            =  0.00000 +/-  0.00000\n",
      "\n"
     ]
    },
    {
     "data": {
      "text/plain": [
       "0"
      ]
     },
     "execution_count": 24,
     "metadata": {},
     "output_type": "execute_result"
    }
   ],
   "source": [
    "# Run OpenMC\n",
    "openmc.run()"
   ]
  },
  {
   "cell_type": "markdown",
   "metadata": {},
   "source": [
    "To make the files available and not be over-written when running the multi-group calculation, we will now rename the statepoint and summary files."
   ]
  },
  {
   "cell_type": "code",
   "execution_count": 25,
   "metadata": {
    "collapsed": false
   },
   "outputs": [],
   "source": [
    "# Move the StatePoint File\n",
    "ce_spfile = './statepoint_ce.h5'\n",
    "os.rename('statepoint.' + str(batches) + '.h5', ce_spfile)\n",
    "# Move the Summary file\n",
    "ce_sumfile = './summary_ce.h5'\n",
    "os.rename('summary.h5', ce_sumfile)"
   ]
  },
  {
   "cell_type": "markdown",
   "metadata": {},
   "source": [
    "# Tally Data Processing\n",
    "\n",
    "Our simulation ran successfully and created statepoint and summary output files.  Let's begin by loading the StatePoint file, but not automatically linking the summary file."
   ]
  },
  {
   "cell_type": "code",
   "execution_count": 26,
   "metadata": {
    "collapsed": false
   },
   "outputs": [],
   "source": [
    "# Load the statepoint file, but not the summary file, as it is a different filename than expected.\n",
    "sp = openmc.StatePoint(ce_spfile, autolink=False)"
   ]
  },
  {
   "cell_type": "markdown",
   "metadata": {},
   "source": [
    "In addition to the statepoint file, our simulation also created a summary file which encapsulates information about the materials and geometry. This is necessary for the `openmc.Library` to properly process the tally data. We first create a `Summary` object and link it with the statepoint.  Normally this would not need to be performed, but since we have renamed our summary file to avoid conflicts with the Multi-Group calculation's summary file, we will load this in explicitly."
   ]
  },
  {
   "cell_type": "code",
   "execution_count": 27,
   "metadata": {
    "collapsed": false
   },
   "outputs": [],
   "source": [
    "su = openmc.Summary(ce_sumfile)\n",
    "sp.link_with_summary(su)"
   ]
  },
  {
   "cell_type": "markdown",
   "metadata": {},
   "source": [
    "The statepoint is now ready to be analyzed. To create our libraries we simply have to load the tallies from the statepoint into each `Library` and our `MGXS` objects will compute the cross sections for us under-the-hood."
   ]
  },
  {
   "cell_type": "code",
   "execution_count": 28,
   "metadata": {
    "collapsed": false
   },
   "outputs": [],
   "source": [
    "# Initialize MGXS Library with OpenMC statepoint data\n",
    "iso_mgxs_lib.load_from_statepoint(sp)\n",
    "angle_mgxs_lib.load_from_statepoint(sp)"
   ]
  },
  {
   "cell_type": "markdown",
   "metadata": {},
   "source": [
    "The next step will be to prepare the input for OpenMC to use our newly created multi-group data."
   ]
  },
  {
   "cell_type": "markdown",
   "metadata": {},
   "source": [
    "# Isotropic Multi-Group OpenMC Calculation"
   ]
  },
  {
   "cell_type": "markdown",
   "metadata": {},
   "source": [
    "We will now use the `Library` to produce the isotropic multi-group cross section data set for use by the OpenMC multi-group solver.  \n",
    "\n",
    "If the model to be run in multi-group mode is the same as the continuous-energy mode, the `openmc.mgxs.Library` class has the ability to directly create the multi-group geometry, materials, and multi-group library for us. \n",
    "Note that this feature is only useful if the MG model is intended to replicate the CE geometry - it is not useful if the CE library is not the same geometry (like it would be for generating MGXS from a generic spectral region).\n",
    "\n",
    "This method creates and assigns the materials automatically, including creating a geometry which is equivalent to our mesh cells for which the cross sections were derived."
   ]
  },
  {
   "cell_type": "code",
   "execution_count": 29,
   "metadata": {
    "collapsed": false
   },
   "outputs": [
    {
     "name": "stderr",
     "output_type": "stream",
     "text": [
      "/home/nelsonag/git/openmc/openmc/tallies.py:1835: RuntimeWarning: invalid value encountered in true_divide\n",
      "  self_rel_err = data['self']['std. dev.'] / data['self']['mean']\n",
      "/home/nelsonag/git/openmc/openmc/tallies.py:1836: RuntimeWarning: invalid value encountered in true_divide\n",
      "  other_rel_err = data['other']['std. dev.'] / data['other']['mean']\n",
      "/home/nelsonag/git/openmc/openmc/tallies.py:1837: RuntimeWarning: invalid value encountered in true_divide\n",
      "  new_tally._mean = data['self']['mean'] / data['other']['mean']\n"
     ]
    }
   ],
   "source": [
    "# Allow the API to create our Library, materials, and geometry file\n",
    "iso_mgxs_file, materials_file, geometry_file = iso_mgxs_lib.create_mg_mode()\n",
    "\n",
    "# Tell the materials file what we want to call the multi-group library\n",
    "materials_file.cross_sections = 'mgxs.h5'\n",
    "\n",
    "# Write our newly-created files to disk\n",
    "iso_mgxs_file.export_to_hdf5('mgxs.h5')\n",
    "materials_file.export_to_xml()\n",
    "geometry_file.export_to_xml()"
   ]
  },
  {
   "cell_type": "markdown",
   "metadata": {},
   "source": [
    "Next, we can make the changes we need to the settings file.\n",
    "These changes are limited to telling OpenMC to run a multi-group calculation and provide the location of our multi-group cross section file."
   ]
  },
  {
   "cell_type": "code",
   "execution_count": 30,
   "metadata": {
    "collapsed": true
   },
   "outputs": [],
   "source": [
    "# Set the energy mode\n",
    "settings_file.energy_mode = 'multi-group'\n",
    "\n",
    "# Export to \"settings.xml\"\n",
    "settings_file.export_to_xml()"
   ]
  },
  {
   "cell_type": "markdown",
   "metadata": {},
   "source": [
    "Let's clear up the tallies file so it doesn't include all the extra tallies for re-generating a multi-group library"
   ]
  },
  {
   "cell_type": "code",
   "execution_count": 31,
   "metadata": {
    "collapsed": true
   },
   "outputs": [],
   "source": [
    "# Create a \"tallies.xml\" file for the MGXS Library\n",
    "tallies_file = openmc.Tallies()\n",
    "\n",
    "# Add our fission rate mesh tally\n",
    "tallies_file.add_tally(tally)\n",
    "\n",
    "# Export to \"tallies.xml\"\n",
    "tallies_file.export_to_xml()"
   ]
  },
  {
   "cell_type": "markdown",
   "metadata": {},
   "source": [
    "Before running the calculation let's look at our meshed model. It might not be interesting, but let's take a look anyways."
   ]
  },
  {
   "cell_type": "code",
   "execution_count": 32,
   "metadata": {
    "collapsed": false
   },
   "outputs": [
    {
     "data": {
      "image/png": "[encoded data removed]",
      "text/plain": [
       "<matplotlib.figure.Figure at 0x7f264c8ff320>"
      ]
     },
     "metadata": {},
     "output_type": "display_data"
    }
   ],
   "source": [
    "geometry_file.root_universe.plot(origin=(length / 2., length / 2., 0.),\n",
    "                       pixels=(300, 300), width=(length, length),\n",
    "                       color_by='material')"
   ]
  },
  {
   "cell_type": "markdown",
   "metadata": {},
   "source": [
    "So, we see a 10x10 grid with a different color for every material, sounds good!\n",
    "\n",
    "At this point, the problem is set up and we can run the multi-group calculation."
   ]
  },
  {
   "cell_type": "code",
   "execution_count": 33,
   "metadata": {
    "collapsed": false
   },
   "outputs": [
    {
     "name": "stdout",
     "output_type": "stream",
     "text": [
      "\n",
      "                               %%%%%%%%%%%%%%%\n",
      "                          %%%%%%%%%%%%%%%%%%%%%%%%\n",
      "                       %%%%%%%%%%%%%%%%%%%%%%%%%%%%%%\n",
      "                     %%%%%%%%%%%%%%%%%%%%%%%%%%%%%%%%%%\n",
      "                   %%%%%%%%%%%%%%%%%%%%%%%%%%%%%%%%%%%%%%\n",
      "                  %%%%%%%%%%%%%%%%%%%%%%%%%%%%%%%%%%%%%%%%\n",
      "                                   %%%%%%%%%%%%%%%%%%%%%%%%\n",
      "                                    %%%%%%%%%%%%%%%%%%%%%%%%\n",
      "                ###############      %%%%%%%%%%%%%%%%%%%%%%%%\n",
      "               ##################     %%%%%%%%%%%%%%%%%%%%%%%\n",
      "               ###################     %%%%%%%%%%%%%%%%%%%%%%%\n",
      "               ####################     %%%%%%%%%%%%%%%%%%%%%%\n",
      "               #####################     %%%%%%%%%%%%%%%%%%%%%\n",
      "               ######################     %%%%%%%%%%%%%%%%%%%%\n",
      "               #######################     %%%%%%%%%%%%%%%%%%\n",
      "                #######################     %%%%%%%%%%%%%%%%%\n",
      "                ######################     %%%%%%%%%%%%%%%%%\n",
      "                 ####################     %%%%%%%%%%%%%%%%%\n",
      "                   #################     %%%%%%%%%%%%%%%%%\n",
      "                    ###############     %%%%%%%%%%%%%%%%\n",
      "                      ############     %%%%%%%%%%%%%%%\n",
      "                         ########     %%%%%%%%%%%%%%\n",
      "                                     %%%%%%%%%%%\n",
      "\n",
      "                   | The OpenMC Monte Carlo Code\n",
      "         Copyright | 2011-2017 Massachusetts Institute of Technology\n",
      "           License | http://openmc.readthedocs.io/en/latest/license.html\n",
      "           Version | 0.8.0\n",
      "          Git SHA1 | 966169de084fcfda3a5aaca3edc0065c8caf6bbc\n",
      "         Date/Time | 2017-03-09 09:18:56\n",
      "    OpenMP Threads | 8\n",
      "\n",
      "\n",
      " ====================>     K EIGENVALUE SIMULATION     <====================\n",
      "\n",
      "\n",
      " ============================>     RESULTS     <============================\n",
      "\n",
      " k-effective (Collision)     =  0.82605 +/-  0.00103\n",
      " k-effective (Track-length)  =  0.82596 +/-  0.00103\n",
      " k-effective (Absorption)    =  0.82503 +/-  0.00075\n",
      " Combined k-effective        =  0.82528 +/-  0.00067\n",
      " Leakage Fraction            =  0.00000 +/-  0.00000\n",
      "\n"
     ]
    },
    {
     "data": {
      "text/plain": [
       "0"
      ]
     },
     "execution_count": 33,
     "metadata": {},
     "output_type": "execute_result"
    }
   ],
   "source": [
    "# Execute the Isotropic MG OpenMC Run\n",
    "openmc.run()"
   ]
  },
  {
   "cell_type": "markdown",
   "metadata": {},
   "source": [
    "Before we go the angle-dependent case, let's save the StatePoint and Summary files so they don't get over-written"
   ]
  },
  {
   "cell_type": "code",
   "execution_count": 34,
   "metadata": {
    "collapsed": true
   },
   "outputs": [],
   "source": [
    "# Move the StatePoint File\n",
    "iso_mg_spfile = './statepoint_mg_iso.h5'\n",
    "os.rename('statepoint.' + str(batches) + '.h5', iso_mg_spfile)\n",
    "# Move the Summary file\n",
    "iso_mg_sumfile = './summary_mg_iso.h5'\n",
    "os.rename('summary.h5', iso_mg_sumfile)"
   ]
  },
  {
   "cell_type": "markdown",
   "metadata": {},
   "source": [
    "# Angle-Dependent Multi-Group OpenMC Calculation\n",
    "\n",
    "Let's now run the calculation with the angle-dependent multi-group cross sections. This process will be the exact same as above, except this time we will use the angle-dependent Library as our starting point.\n",
    "\n",
    "We do not need to re-write the materials, geometry, or tallies file to disk since they are the same as for the isotropic case."
   ]
  },
  {
   "cell_type": "code",
   "execution_count": 35,
   "metadata": {
    "collapsed": false
   },
   "outputs": [
    {
     "name": "stderr",
     "output_type": "stream",
     "text": [
      "/home/nelsonag/git/openmc/openmc/tallies.py:1835: RuntimeWarning: invalid value encountered in true_divide\n",
      "  self_rel_err = data['self']['std. dev.'] / data['self']['mean']\n",
      "/home/nelsonag/git/openmc/openmc/tallies.py:1836: RuntimeWarning: invalid value encountered in true_divide\n",
      "  other_rel_err = data['other']['std. dev.'] / data['other']['mean']\n",
      "/home/nelsonag/git/openmc/openmc/tallies.py:1837: RuntimeWarning: invalid value encountered in true_divide\n",
      "  new_tally._mean = data['self']['mean'] / data['other']['mean']\n"
     ]
    }
   ],
   "source": [
    "# Let's repeat for the angle-dependent case\n",
    "angle_mgxs_lib.load_from_statepoint(sp)\n",
    "angle_mgxs_file, materials_file, geometry_file = angle_mgxs_lib.create_mg_mode()\n",
    "angle_mgxs_file.export_to_hdf5()"
   ]
  },
  {
   "cell_type": "markdown",
   "metadata": {},
   "source": [
    "At this point, the problem is set up and we can run the multi-group calculation."
   ]
  },
  {
   "cell_type": "code",
   "execution_count": 36,
   "metadata": {
    "collapsed": false
   },
   "outputs": [
    {
     "name": "stdout",
     "output_type": "stream",
     "text": [
      "\n",
      "                               %%%%%%%%%%%%%%%\n",
      "                          %%%%%%%%%%%%%%%%%%%%%%%%\n",
      "                       %%%%%%%%%%%%%%%%%%%%%%%%%%%%%%\n",
      "                     %%%%%%%%%%%%%%%%%%%%%%%%%%%%%%%%%%\n",
      "                   %%%%%%%%%%%%%%%%%%%%%%%%%%%%%%%%%%%%%%\n",
      "                  %%%%%%%%%%%%%%%%%%%%%%%%%%%%%%%%%%%%%%%%\n",
      "                                   %%%%%%%%%%%%%%%%%%%%%%%%\n",
      "                                    %%%%%%%%%%%%%%%%%%%%%%%%\n",
      "                ###############      %%%%%%%%%%%%%%%%%%%%%%%%\n",
      "               ##################     %%%%%%%%%%%%%%%%%%%%%%%\n",
      "               ###################     %%%%%%%%%%%%%%%%%%%%%%%\n",
      "               ####################     %%%%%%%%%%%%%%%%%%%%%%\n",
      "               #####################     %%%%%%%%%%%%%%%%%%%%%\n",
      "               ######################     %%%%%%%%%%%%%%%%%%%%\n",
      "               #######################     %%%%%%%%%%%%%%%%%%\n",
      "                #######################     %%%%%%%%%%%%%%%%%\n",
      "                ######################     %%%%%%%%%%%%%%%%%\n",
      "                 ####################     %%%%%%%%%%%%%%%%%\n",
      "                   #################     %%%%%%%%%%%%%%%%%\n",
      "                    ###############     %%%%%%%%%%%%%%%%\n",
      "                      ############     %%%%%%%%%%%%%%%\n",
      "                         ########     %%%%%%%%%%%%%%\n",
      "                                     %%%%%%%%%%%\n",
      "\n",
      "                   | The OpenMC Monte Carlo Code\n",
      "         Copyright | 2011-2017 Massachusetts Institute of Technology\n",
      "           License | http://openmc.readthedocs.io/en/latest/license.html\n",
      "           Version | 0.8.0\n",
      "          Git SHA1 | 966169de084fcfda3a5aaca3edc0065c8caf6bbc\n",
      "         Date/Time | 2017-03-09 09:19:06\n",
      "    OpenMP Threads | 8\n",
      "\n",
      "\n",
      " ====================>     K EIGENVALUE SIMULATION     <====================\n",
      "\n",
      "\n",
      " ============================>     RESULTS     <============================\n",
      "\n",
      " k-effective (Collision)     =  0.83752 +/-  0.00102\n",
      " k-effective (Track-length)  =  0.83708 +/-  0.00104\n",
      " k-effective (Absorption)    =  0.83678 +/-  0.00077\n",
      " Combined k-effective        =  0.83684 +/-  0.00068\n",
      " Leakage Fraction            =  0.00000 +/-  0.00000\n",
      "\n"
     ]
    },
    {
     "data": {
      "text/plain": [
       "0"
      ]
     },
     "execution_count": 36,
     "metadata": {},
     "output_type": "execute_result"
    }
   ],
   "source": [
    "# Execute the angle-dependent OpenMC Run\n",
    "openmc.run()"
   ]
  },
  {
   "cell_type": "markdown",
   "metadata": {},
   "source": [
    "# Results Comparison\n",
    "In this section we will compare the eigenvalues and fission rate distributions of the continuous-energy, isotropic multi-group and angle-dependent multi-group cases.\n",
    "\n",
    "We will begin by loading the multi-group statepoint files, first the isotropic, then angle-dependent. The angle-dependent was not renamed, so we can autolink its summary."
   ]
  },
  {
   "cell_type": "code",
   "execution_count": 37,
   "metadata": {
    "collapsed": false
   },
   "outputs": [],
   "source": [
    "# Load the isotropic statepoint file\n",
    "iso_mgsp = openmc.StatePoint(iso_mg_spfile, autolink=False)\n",
    "iso_mgsum = openmc.Summary(iso_mg_sumfile)\n",
    "iso_mgsp.link_with_summary(iso_mgsum)\n",
    "\n",
    "# Load the angle-dependent statepoint file\n",
    "angle_mgsp = openmc.StatePoint('statepoint.' + str(batches) + '.h5')"
   ]
  },
  {
   "cell_type": "markdown",
   "metadata": {},
   "source": [
    "## Eigenvalue Comparison\n",
    "Next, we can load the eigenvalues for comparison and do that comparison"
   ]
  },
  {
   "cell_type": "code",
   "execution_count": 38,
   "metadata": {
    "collapsed": false
   },
   "outputs": [],
   "source": [
    "ce_keff = sp.k_combined\n",
    "iso_mg_keff = iso_mgsp.k_combined\n",
    "angle_mg_keff = angle_mgsp.k_combined\n",
    "\n",
    "# Find eigenvalue bias\n",
    "iso_bias = 1.0E5 * (ce_keff[0] - iso_mg_keff[0])\n",
    "angle_bias = 1.0E5 * (ce_keff[0] - angle_mg_keff[0])"
   ]
  },
  {
   "cell_type": "markdown",
   "metadata": {},
   "source": [
    "Let's compare the eigenvalues in units of pcm"
   ]
  },
  {
   "cell_type": "code",
   "execution_count": 39,
   "metadata": {
    "collapsed": false
   },
   "outputs": [
    {
     "name": "stdout",
     "output_type": "stream",
     "text": [
      "Isotropic to CE Bias [pcm]: 1195.9\n",
      "Angle to CE Bias [pcm]: 40.4\n"
     ]
    }
   ],
   "source": [
    "print('Isotropic to CE Bias [pcm]: {0:1.1f}'.format(iso_bias))\n",
    "print('Angle to CE Bias [pcm]: {0:1.1f}'.format(angle_bias))"
   ]
  },
  {
   "cell_type": "markdown",
   "metadata": {},
   "source": [
    "We see a large reduction in error by switching to the usage of angle-dependent multi-group cross sections! \n",
    "\n",
    "Of course, this rodded and partially voided BWR problem was chosen specifically to exacerbate the angular variation of the reaction rates (and thus cross sections). Such improvements should not be expected in every case, especially if localized absorbers are not present.\n",
    "\n",
    "It is important to note that both eigenvalues can be improved by the application of finer geometric or energetic discretizations, but this shows that the angle discretization may be a factor for consideration.\n",
    "\n",
    "## Fission Rate Distribution Comparison\n",
    "Next we will visualize the mesh tally results obtained from our three cases.\n",
    "\n",
    "This will be performed by first obtaining the one-group fission rate tally information from our state point files. After we have this information we will re-shape the data to match the original mesh laydown. We will then normalize, and finally create side-by-side plots of all."
   ]
  },
  {
   "cell_type": "code",
   "execution_count": 40,
   "metadata": {
    "collapsed": false,
    "scrolled": false
   },
   "outputs": [
    {
     "data": {
      "image/png": "[encoded data removed]",
      "text/plain": [
       "<matplotlib.figure.Figure at 0x7f264c5caf60>"
      ]
     },
     "metadata": {},
     "output_type": "display_data"
    }
   ],
   "source": [
    "sp_files = [sp, iso_mgsp, angle_mgsp]\n",
    "titles = ['Continuous-Energy', 'Isotropic Multi-Group',\n",
    "         'Angle-Dependent Multi-Group']\n",
    "fiss_rates = []\n",
    "fig = plt.figure(figsize=(12, 6))\n",
    "for i, (case, title) in enumerate(zip(sp_files, titles)):\n",
    "    # Get our mesh tally information\n",
    "    mesh_tally = case.get_tally(name='mesh tally')\n",
    "    fiss_rates.append(mesh_tally.get_values(scores=['fission']))\n",
    "    \n",
    "    # Reshape the array\n",
    "    fiss_rates[-1].shape = mesh.dimension\n",
    "    \n",
    "    # Normalize the fission rates\n",
    "    fiss_rates[-1] /= np.mean(fiss_rates[-1][fiss_rates[-1] > 0.])\n",
    "    \n",
    "    # Set 0s to NaNs so they show as white\n",
    "    fiss_rates[-1][fiss_rates[-1] == 0.] = np.nan\n",
    "\n",
    "    fig = plt.subplot(1, len(titles), i + 1)\n",
    "    # Plot only the fueled regions\n",
    "    plt.imshow(fiss_rates[-1][1:-1, 1:-1], cmap='jet', origin='lower',\n",
    "               vmin=0.4, vmax=4.)\n",
    "    plt.title(title + '\\nFission Rates')"
   ]
  },
  {
   "cell_type": "markdown",
   "metadata": {
    "collapsed": true
   },
   "source": [
    "With this colormap, dark blue is the lowest power and dark red is the highest power.\n",
    "\n",
    "We see general agreement between the fission rate distributions, but it looks like there may be less of a gradient near the rods in the continuous-energy and angle-dependent MGXS cases than in the isotropic MGXS case.  \n",
    "\n",
    "To better see the differences, let's plot ratios of the fission powers for our two multi-group cases compared to the continuous-energy case t"
   ]
  },
  {
   "cell_type": "code",
   "execution_count": 41,
   "metadata": {
    "collapsed": false
   },
   "outputs": [
    {
     "data": {
      "text/plain": [
       "<matplotlib.colorbar.Colorbar at 0x7f264c3a56a0>"
      ]
     },
     "execution_count": 41,
     "metadata": {},
     "output_type": "execute_result"
    },
    {
     "data": {
      "image/png": "[encoded data removed]",
      "text/plain": [
       "<matplotlib.figure.Figure at 0x7f264c493a58>"
      ]
     },
     "metadata": {},
     "output_type": "display_data"
    }
   ],
   "source": [
    "# Calculate and plot the ratios of MG to CE for each of the 2 MG cases\n",
    "ratios = []\n",
    "fig, axes = plt.subplots(figsize=(12, 6), nrows=1, ncols=2)\n",
    "for i, (case, title, axis) in enumerate(zip(sp_files[1:], titles[1:], axes.flat)):\n",
    "    # Get our ratio relative to the CE (in fiss_ratios[0])\n",
    "    ratios.append(np.divide(fiss_rates[i + 1], fiss_rates[0]))\n",
    "    \n",
    "    # Plot only the fueled regions\n",
    "    im = axis.imshow(ratios[-1][1:-1, 1:-1], cmap='bwr', origin='lower',\n",
    "                     vmin = 0.9, vmax = 1.1)\n",
    "    axis.set_title(title + '\\nFission Rates Relative\\nto Continuous-Energy')\n",
    "    \n",
    "# Add a color bar\n",
    "fig.subplots_adjust(right=0.8)\n",
    "cbar_ax = fig.add_axes([0.85, 0.15, 0.05, 0.7])\n",
    "fig.colorbar(im, cax=cbar_ax)"
   ]
  },
  {
   "cell_type": "markdown",
   "metadata": {},
   "source": [
    "With this ratio its clear that the errors are significantly worse in the isotropic case. These errors are conveniently located right where the most anisotropy is espected: by the control blades and by the Gd-bearing pins!"
   ]
  }
 ],
 "metadata": {
  "kernelspec": {
   "display_name": "Python 3",
   "language": "python",
   "name": "python3"
  },
  "language_info": {
   "codemirror_mode": {
    "name": "ipython",
    "version": 3
   },
   "file_extension": ".py",
   "mimetype": "text/x-python",
   "name": "python",
   "nbconvert_exporter": "python",
   "pygments_lexer": "ipython3",
   "version": "3.6.0"
  }
 },
 "nbformat": 4,
 "nbformat_minor": 0
}
