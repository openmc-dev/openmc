{
 "cells": [
  {
   "cell_type": "code",
   "execution_count": 1,
   "metadata": {},
   "outputs": [],
   "source": [
    "%matplotlib inline\n",
    "import os\n",
    "from pprint import pprint\n",
    "import shutil\n",
    "import subprocess\n",
    "import urllib.request\n",
    "\n",
    "import h5py\n",
    "import numpy as np\n",
    "import matplotlib.pyplot as plt\n",
    "import matplotlib.cm\n",
    "from matplotlib.patches import Rectangle\n",
    "\n",
    "import openmc.data"
   ]
  },
  {
   "cell_type": "markdown",
   "metadata": {},
   "source": [
    "### ENDF: Resonance Covariance Data\n",
    "\n",
    "We can also load the resonance covariance data contained within File 32 of ENDF. Let's download the ENDF/B-VII.1 evaluation for $^{157}$Gd and load it in:"
   ]
  },
  {
   "cell_type": "code",
   "execution_count": 2,
   "metadata": {},
   "outputs": [
    {
     "data": {
      "text/plain": [
       "<IncidentNeutron: Gd157>"
      ]
     },
     "execution_count": 2,
     "metadata": {},
     "output_type": "execute_result"
    }
   ],
   "source": [
    "# Download ENDF file\n",
    "url = 'https://t2.lanl.gov/nis/data/data/ENDFB-VII.1-neutron/Gd/157'\n",
    "filename, headers = urllib.request.urlretrieve(url, 'gd157.endf')\n",
    "\n",
    "# Load into memory\n",
    "gd157_endf = openmc.data.IncidentNeutron.from_endf(filename, covariance = True)\n",
    "gd157_endf"
   ]
  },
  {
   "cell_type": "markdown",
   "metadata": {},
   "source": [
    "We can access the parameters contained within File 32 in a similar manner to the File 2 parameters from before. "
   ]
  },
  {
   "cell_type": "code",
   "execution_count": 3,
   "metadata": {},
   "outputs": [
    {
     "name": "stdout",
     "output_type": "stream",
     "text": [
      "    energy    J  neutronWidth  captureWidth  fissionWidthA  fissionWidthB  L\n",
      "0   0.0314  2.0      0.000474        0.1072            0.0            0.0  0\n",
      "1   2.8250  2.0      0.000345        0.0970            0.0            0.0  0\n",
      "2  16.2400  1.0      0.000400        0.0910            0.0            0.0  0\n",
      "3  16.7700  2.0      0.012800        0.0805            0.0            0.0  0\n",
      "4  20.5600  2.0      0.011360        0.0880            0.0            0.0  0\n"
     ]
    }
   ],
   "source": [
    "first_five = gd157_endf.resonance_covariance.ranges[0].parameters[:5]\n",
    "print(first_five)"
   ]
  },
  {
   "cell_type": "markdown",
   "metadata": {},
   "source": [
    "The newly created object will contain multiple resonance regions within 'gd157_endf.res_covariance.ranges'. We can access the full covariance matrix from File 32 for a given range by:"
   ]
  },
  {
   "cell_type": "code",
   "execution_count": 4,
   "metadata": {},
   "outputs": [],
   "source": [
    "covariance = gd157_endf.resonance_covariance.ranges[0].covariance"
   ]
  },
  {
   "cell_type": "markdown",
   "metadata": {},
   "source": [
    "This covariance matrix currently only stores the upper triangular portion as covariance matrices are symmetric. Plotting the covariance matrix:"
   ]
  },
  {
   "cell_type": "code",
   "execution_count": 5,
   "metadata": {},
   "outputs": [
    {
     "data": {
      "text/plain": [
       "<matplotlib.colorbar.Colorbar at 0x14c9af3a0630>"
      ]
     },
     "execution_count": 5,
     "metadata": {},
     "output_type": "execute_result"
    },
    {
     "data": {
      "image/png": "[encoded data removed]",
      "text/plain": [
       "<matplotlib.figure.Figure at 0x14c9e4583668>"
      ]
     },
     "metadata": {},
     "output_type": "display_data"
    }
   ],
   "source": [
    "plt.imshow(covariance)\n",
    "plt.colorbar()"
   ]
  },
  {
   "cell_type": "markdown",
   "metadata": {},
   "source": [
    "Another capability of the covariance module is selecting a subset of the resonance parameters and the corresponding subset of the covariance matrix. We can do this by specifying the value we want to discriminate and the bounds within one energy region. Selecting only resonances with J=2:"
   ]
  },
  {
   "cell_type": "code",
   "execution_count": 6,
   "metadata": {},
   "outputs": [
    {
     "name": "stdout",
     "output_type": "stream",
     "text": [
      "    energy    J  neutronWidth  captureWidth  fissionWidthA  fissionWidthB  L\n",
      "0   0.0314  2.0      0.000474        0.1072            0.0            0.0  0\n",
      "1   2.8250  2.0      0.000345        0.0970            0.0            0.0  0\n",
      "3  16.7700  2.0      0.012800        0.0805            0.0            0.0  0\n",
      "4  20.5600  2.0      0.011360        0.0880            0.0            0.0  0\n",
      "5  21.6500  2.0      0.000376        0.1140            0.0            0.0  0\n"
     ]
    }
   ],
   "source": [
    "lower_bound = 2; #inclusive\n",
    "upper_bound = 2; #inclusive\n",
    "gd157_endf.resonance_covariance.ranges[0].res_subset('J',[lower_bound,upper_bound])\n",
    "subset_first_five = gd157_endf.resonance_covariance.ranges[0].parameters_subset[:5]\n",
    "print(subset_first_five)"
   ]
  },
  {
   "cell_type": "markdown",
   "metadata": {},
   "source": [
    "The subset method will also store the corresponding subset of the covariance matrix"
   ]
  },
  {
   "cell_type": "code",
   "execution_count": 7,
   "metadata": {},
   "outputs": [
    {
     "name": "stdout",
     "output_type": "stream",
     "text": [
      "[[  2.82609600e-06   5.89537500e-09  -4.78638600e-06  -5.73895500e-08\n",
      "   -1.48636900e-09]\n",
      " [  0.00000000e+00   1.36218000e-11  -9.61975600e-09  -1.15354000e-10\n",
      "   -2.87250000e-12]\n",
      " [  0.00000000e+00   0.00000000e+00   8.20814700e-06   9.83537100e-08\n",
      "    2.58111200e-09]\n",
      " [  0.00000000e+00   0.00000000e+00   0.00000000e+00   6.54205000e-06\n",
      "   -4.31977000e-10]\n",
      " [  0.00000000e+00   0.00000000e+00   0.00000000e+00   0.00000000e+00\n",
      "    1.76975000e-10]]\n"
     ]
    }
   ],
   "source": [
    "cov_subset = gd157_endf.resonance_covariance.ranges[0].cov_subset\n",
    "print(cov_subset[:5,:5])"
   ]
  },
  {
   "cell_type": "markdown",
   "metadata": {},
   "source": [
    "The covariance module also has the ability to sample a new set of parameters using the covariance matrix. Currently the sampling uses np.multivariate_normal(). Because parameters are assumed to have a multivariate normal distribution this method doesn't not currently guarantee that sampled parameters will be positive."
   ]
  },
  {
   "cell_type": "code",
   "execution_count": 8,
   "metadata": {},
   "outputs": [
    {
     "data": {
      "text/plain": [
       "openmc.data.resonance.ReichMoore"
      ]
     },
     "execution_count": 8,
     "metadata": {},
     "output_type": "execute_result"
    }
   ],
   "source": [
    "rm_resonance = gd157_endf.resonances.ranges[0]\n",
    "n_samples = 5\n",
    "gd157_endf.resonance_covariance.ranges[0].sample_resonance_parameters(n_samples, rm_resonance)\n",
    "samples = gd157_endf.resonance_covariance.ranges[0].samples\n",
    "type(samples[0])\n"
   ]
  },
  {
   "cell_type": "markdown",
   "metadata": {},
   "source": [
    "The sampling routine requires the incorpotation of the `openmc.data.ResonanceRange` for the same resonance range object. This allows each sample itself to be its own `openmc.data.ResonanceRange` with a new set of parameters. Looking at some of the sampled parameters below:"
   ]
  },
  {
   "cell_type": "code",
   "execution_count": 9,
   "metadata": {},
   "outputs": [
    {
     "name": "stdout",
     "output_type": "stream",
     "text": [
      "Sample 1\n",
      "      energy  L    J  neutronWidth  captureWidth  fissionWidthA  fissionWidthB\n",
      "0   0.030278  0  2.0      0.000472      0.109151            0.0            0.0\n",
      "1   2.826910  0  2.0      0.000347      0.099239            0.0            0.0\n",
      "2  16.199761  0  1.0      0.000258      0.082103            0.0            0.0\n",
      "3  16.772474  0  2.0      0.012354      0.091428            0.0            0.0\n",
      "4  20.553868  0  2.0      0.011185      0.089609            0.0            0.0\n",
      "Sample 2\n",
      "      energy  L    J  neutronWidth  captureWidth  fissionWidthA  fissionWidthB\n",
      "0   0.033611  0  2.0      0.000479      0.103410            0.0            0.0\n",
      "1   2.825707  0  2.0      0.000335      0.101266            0.0            0.0\n",
      "2  16.270769  0  1.0      0.000360      0.071230            0.0            0.0\n",
      "3  16.773850  0  2.0      0.013402      0.074592            0.0            0.0\n",
      "4  20.563037  0  2.0      0.011916      0.086590            0.0            0.0\n"
     ]
    }
   ],
   "source": [
    "first_five_sample_1 = samples[0].parameters[:5]\n",
    "first_five_sample_2 = samples[1].parameters[:5]\n",
    "print('Sample 1')\n",
    "print(first_five_sample_1)\n",
    "print('Sample 2')\n",
    "print(first_five_sample_2)"
   ]
  },
  {
   "cell_type": "markdown",
   "metadata": {},
   "source": [
    "We can reconstruct the cross section from the sampled parameters using the reconstruct method of  `openmc.data.ResonanceRange`. For more on reconstruction see the Nuclear Data example notebook. "
   ]
  },
  {
   "cell_type": "code",
   "execution_count": 10,
   "metadata": {},
   "outputs": [
    {
     "data": {
      "text/plain": [
       "[<openmc.data.resonance.ReichMoore at 0x14c9b88a9dd8>,\n",
       " <openmc.data.resonance.Unresolved at 0x14c9b888be10>]"
      ]
     },
     "execution_count": 10,
     "metadata": {},
     "output_type": "execute_result"
    }
   ],
   "source": [
    "gd157_endf.resonances.ranges"
   ]
  },
  {
   "cell_type": "code",
   "execution_count": 11,
   "metadata": {},
   "outputs": [
    {
     "data": {
      "text/plain": [
       "Text(0,0.5,'Cross section (b)')"
      ]
     },
     "execution_count": 11,
     "metadata": {},
     "output_type": "execute_result"
    },
    {
     "data": {
      "image/png": "[encoded data removed]",
      "text/plain": [
       "<matplotlib.figure.Figure at 0x14c9af392f28>"
      ]
     },
     "metadata": {},
     "output_type": "display_data"
    }
   ],
   "source": [
    "energy_range = [rm_resonance.energy_min, rm_resonance.energy_max]\n",
    "energies = np.logspace(np.log10(energy_range[0]),\n",
    "                       np.log10(energy_range[1]), 10000)\n",
    "for sample in gd157_endf.resonance_covariance.ranges[0].samples:\n",
    "    xs = sample.reconstruct(energies)\n",
    "    elastic_xs = xs[2]\n",
    "    plt.loglog(energies, elastic_xs)\n",
    "plt.xlabel('Energy (eV)')\n",
    "plt.ylabel('Cross section (b)')\n",
    "\n",
    "    "
   ]
  }
 ],
 "metadata": {
  "kernelspec": {
   "display_name": "Python 3",
   "language": "python",
   "name": "python3"
  },
  "language_info": {
   "codemirror_mode": {
    "name": "ipython",
    "version": 3
   },
   "file_extension": ".py",
   "mimetype": "text/x-python",
   "name": "python",
   "nbconvert_exporter": "python",
   "pygments_lexer": "ipython3",
   "version": "3.6.3"
  }
 },
 "nbformat": 4,
 "nbformat_minor": 2
}
