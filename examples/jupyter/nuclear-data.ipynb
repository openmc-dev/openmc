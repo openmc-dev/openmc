{
 "cells": [
  {
   "cell_type": "markdown",
   "metadata": {},
   "source": [
    "In this notebook, we will go through the salient features of the `openmc.data` package in the Python API. This package enables inspection, analysis, and conversion of nuclear data from ACE files. Most importantly, the package provides a mean to generate HDF5 nuclear data libraries that are used by the transport solver."
   ]
  },
  {
   "cell_type": "code",
   "execution_count": 1,
   "metadata": {},
   "outputs": [],
   "source": [
    "%matplotlib inline\n",
    "import os\n",
    "from pprint import pprint\n",
    "import shutil\n",
    "import subprocess\n",
    "import urllib.request\n",
    "\n",
    "import h5py\n",
    "import numpy as np\n",
    "import matplotlib.pyplot as plt\n",
    "import matplotlib.cm\n",
    "from matplotlib.patches import Rectangle\n",
    "\n",
    "import openmc.data"
   ]
  },
  {
   "cell_type": "markdown",
   "metadata": {},
   "source": [
    "## Physical Data\n",
    "\n",
    "Some very helpful physical data is available as part of `openmc.data`: atomic masses, natural abundances, and atomic weights."
   ]
  },
  {
   "cell_type": "code",
   "execution_count": 2,
   "metadata": {},
   "outputs": [
    {
     "data": {
      "text/plain": [
       "53.939608306"
      ]
     },
     "execution_count": 2,
     "metadata": {},
     "output_type": "execute_result"
    }
   ],
   "source": [
    "openmc.data.atomic_mass('Fe54')"
   ]
  },
  {
   "cell_type": "code",
   "execution_count": 3,
   "metadata": {},
   "outputs": [
    {
     "data": {
      "text/plain": [
       "0.00015574"
      ]
     },
     "execution_count": 3,
     "metadata": {},
     "output_type": "execute_result"
    }
   ],
   "source": [
    "openmc.data.NATURAL_ABUNDANCE['H2']"
   ]
  },
  {
   "cell_type": "code",
   "execution_count": 4,
   "metadata": {},
   "outputs": [
    {
     "data": {
      "text/plain": [
       "12.011115164864455"
      ]
     },
     "execution_count": 4,
     "metadata": {},
     "output_type": "execute_result"
    }
   ],
   "source": [
    "openmc.data.atomic_weight('C')"
   ]
  },
  {
   "cell_type": "markdown",
   "metadata": {},
   "source": [
    "## The IncidentNeutron class\n",
    "\n",
    "The most useful class within the `openmc.data` API is `IncidentNeutron`, which stores to continuous-energy incident neutron data. This class has factory methods `from_ace`, `from_endf`, and `from_hdf5` which take a data file on disk and parse it into a hierarchy of classes in memory. To demonstrate this feature, we will download an ACE file (which can be produced with [NJOY 2016](https://github.com/njoy/NJOY2016)) and then load it in using the `IncidentNeutron.from_ace` method. "
   ]
  },
  {
   "cell_type": "code",
   "execution_count": 5,
   "metadata": {},
   "outputs": [],
   "source": [
    "url = 'https://anl.box.com/shared/static/kxm7s57z3xgfbeq29h54n7q6js8rd11c.ace'\n",
    "filename, headers = urllib.request.urlretrieve(url, 'gd157.ace')"
   ]
  },
  {
   "cell_type": "code",
   "execution_count": 6,
   "metadata": {},
   "outputs": [
    {
     "data": {
      "text/plain": [
       "<IncidentNeutron: Gd157>"
      ]
     },
     "execution_count": 6,
     "metadata": {},
     "output_type": "execute_result"
    }
   ],
   "source": [
    "# Load ACE data into object\n",
    "gd157 = openmc.data.IncidentNeutron.from_ace('gd157.ace')\n",
    "gd157"
   ]
  },
  {
   "cell_type": "markdown",
   "metadata": {},
   "source": [
    "### Cross sections"
   ]
  },
  {
   "cell_type": "markdown",
   "metadata": {},
   "source": [
    "From Python, it's easy to explore (and modify) the nuclear data. Let's start off by reading the total cross section. Reactions are indexed using their \"MT\" number -- a unique identifier for each reaction defined by the ENDF-6 format. The MT number for the total cross section is 1."
   ]
  },
  {
   "cell_type": "code",
   "execution_count": 7,
   "metadata": {},
   "outputs": [
    {
     "data": {
      "text/plain": [
       "<Reaction: MT=1 (n,total)>"
      ]
     },
     "execution_count": 7,
     "metadata": {},
     "output_type": "execute_result"
    }
   ],
   "source": [
    "total = gd157[1]\n",
    "total"
   ]
  },
  {
   "cell_type": "markdown",
   "metadata": {},
   "source": [
    "Cross sections for each reaction can be stored at multiple temperatures. To see what temperatures are available, we can look at the reaction's `xs` attribute."
   ]
  },
  {
   "cell_type": "code",
   "execution_count": 8,
   "metadata": {},
   "outputs": [
    {
     "data": {
      "text/plain": [
       "{'294K': <openmc.data.function.Tabulated1D at 0x1461b4d2f160>}"
      ]
     },
     "execution_count": 8,
     "metadata": {},
     "output_type": "execute_result"
    }
   ],
   "source": [
    "total.xs"
   ]
  },
  {
   "cell_type": "markdown",
   "metadata": {},
   "source": [
    "To find the cross section at a particular energy, 1 eV for example, simply get the cross section at the appropriate temperature and then call it as a function. Note that our nuclear data uses eV as the unit of energy."
   ]
  },
  {
   "cell_type": "code",
   "execution_count": 9,
   "metadata": {},
   "outputs": [
    {
     "data": {
      "text/plain": [
       "142.64747"
      ]
     },
     "execution_count": 9,
     "metadata": {},
     "output_type": "execute_result"
    }
   ],
   "source": [
    "total.xs['294K'](1.0)"
   ]
  },
  {
   "cell_type": "markdown",
   "metadata": {},
   "source": [
    "The `xs` attribute can also be called on an array of energies."
   ]
  },
  {
   "cell_type": "code",
   "execution_count": 10,
   "metadata": {},
   "outputs": [
    {
     "data": {
      "text/plain": [
       "array([142.64747   ,  38.6541761 , 175.40019642])"
      ]
     },
     "execution_count": 10,
     "metadata": {},
     "output_type": "execute_result"
    }
   ],
   "source": [
    "total.xs['294K']([1.0, 2.0, 3.0])"
   ]
  },
  {
   "cell_type": "markdown",
   "metadata": {},
   "source": [
    "A quick way to plot cross sections is to use the `energy` attribute of `IncidentNeutron`. This gives an array of all the energy values used in cross section interpolation for each temperature present."
   ]
  },
  {
   "cell_type": "code",
   "execution_count": 11,
   "metadata": {},
   "outputs": [
    {
     "data": {
      "text/plain": [
       "{'294K': array([1.0000e-05, 1.0325e-05, 1.0650e-05, ..., 1.9500e+07, 1.9900e+07,\n",
       "        2.0000e+07])}"
      ]
     },
     "execution_count": 11,
     "metadata": {},
     "output_type": "execute_result"
    }
   ],
   "source": [
    "gd157.energy"
   ]
  },
  {
   "cell_type": "code",
   "execution_count": 12,
   "metadata": {},
   "outputs": [
    {
     "data": {
      "text/plain": [
       "Text(0, 0.5, 'Cross section (b)')"
      ]
     },
     "execution_count": 12,
     "metadata": {},
     "output_type": "execute_result"
    },
    {
     "data": {
      "image/png": "[encoded data removed]",
      "text/plain": [
       "<Figure size 432x288 with 1 Axes>"
      ]
     },
     "metadata": {
      "needs_background": "light"
     },
     "output_type": "display_data"
    }
   ],
   "source": [
    "energies = gd157.energy['294K']\n",
    "total_xs = total.xs['294K'](energies)\n",
    "plt.loglog(energies, total_xs)\n",
    "plt.xlabel('Energy (eV)')\n",
    "plt.ylabel('Cross section (b)')"
   ]
  },
  {
   "cell_type": "markdown",
   "metadata": {},
   "source": [
    "### Reaction Data\n",
    "\n",
    "Most of the interesting data for an `IncidentNeutron` instance is contained within the `reactions` attribute, which is a dictionary mapping MT values to `Reaction` objects."
   ]
  },
  {
   "cell_type": "code",
   "execution_count": 13,
   "metadata": {},
   "outputs": [
    {
     "name": "stdout",
     "output_type": "stream",
     "text": [
      "[<Reaction: MT=1 (n,total)>,\n",
      " <Reaction: MT=101 (n,disappear)>,\n",
      " <Reaction: MT=301 heating>,\n",
      " <Reaction: MT=2 (n,elastic)>,\n",
      " <Reaction: MT=16 (n,2n)>,\n",
      " <Reaction: MT=17 (n,3n)>,\n",
      " <Reaction: MT=22 (n,na)>,\n",
      " <Reaction: MT=24 (n,2na)>,\n",
      " <Reaction: MT=28 (n,np)>,\n",
      " <Reaction: MT=41 (n,2np)>]\n"
     ]
    }
   ],
   "source": [
    "pprint(list(gd157.reactions.values())[:10])"
   ]
  },
  {
   "cell_type": "markdown",
   "metadata": {},
   "source": [
    "Let's suppose we want to look more closely at the (n,2n) reaction. This reaction has an energy threshold"
   ]
  },
  {
   "cell_type": "code",
   "execution_count": 14,
   "metadata": {},
   "outputs": [
    {
     "name": "stdout",
     "output_type": "stream",
     "text": [
      "Threshold = 6400881.0 eV\n"
     ]
    }
   ],
   "source": [
    "n2n = gd157[16]\n",
    "print('Threshold = {} eV'.format(n2n.xs['294K'].x[0]))"
   ]
  },
  {
   "cell_type": "markdown",
   "metadata": {},
   "source": [
    "The (n,2n) cross section, like all basic cross sections, is represented by the `Tabulated1D` class. The energy and cross section values in the table can be directly accessed with the `x` and `y` attributes. Using the `x` and `y` has the nice benefit of automatically acounting for reaction thresholds."
   ]
  },
  {
   "cell_type": "code",
   "execution_count": 15,
   "metadata": {},
   "outputs": [
    {
     "data": {
      "text/plain": [
       "{'294K': <openmc.data.function.Tabulated1D at 0x1461b4d594e0>}"
      ]
     },
     "execution_count": 15,
     "metadata": {},
     "output_type": "execute_result"
    }
   ],
   "source": [
    "n2n.xs"
   ]
  },
  {
   "cell_type": "code",
   "execution_count": 16,
   "metadata": {},
   "outputs": [
    {
     "data": {
      "text/plain": [
       "(6400881.0, 20000000.0)"
      ]
     },
     "execution_count": 16,
     "metadata": {},
     "output_type": "execute_result"
    },
    {
     "data": {
      "image/png": "[encoded data removed]",
      "text/plain": [
       "<Figure size 432x288 with 1 Axes>"
      ]
     },
     "metadata": {
      "needs_background": "light"
     },
     "output_type": "display_data"
    }
   ],
   "source": [
    "xs = n2n.xs['294K']\n",
    "plt.plot(xs.x, xs.y)\n",
    "plt.xlabel('Energy (eV)')\n",
    "plt.ylabel('Cross section (b)')\n",
    "plt.xlim((xs.x[0], xs.x[-1]))"
   ]
  },
  {
   "cell_type": "markdown",
   "metadata": {},
   "source": [
    "To get information on the energy and angle distribution of the neutrons emitted in the reaction, we need to look at the `products` attribute."
   ]
  },
  {
   "cell_type": "code",
   "execution_count": 17,
   "metadata": {},
   "outputs": [
    {
     "data": {
      "text/plain": [
       "[<Product: neutron, emission=prompt, yield=polynomial>,\n",
       " <Product: photon, emission=prompt, yield=tabulated>]"
      ]
     },
     "execution_count": 17,
     "metadata": {},
     "output_type": "execute_result"
    }
   ],
   "source": [
    "n2n.products"
   ]
  },
  {
   "cell_type": "code",
   "execution_count": 18,
   "metadata": {},
   "outputs": [
    {
     "data": {
      "text/plain": [
       "[<openmc.data.correlated.CorrelatedAngleEnergy at 0x1461b4a66908>]"
      ]
     },
     "execution_count": 18,
     "metadata": {},
     "output_type": "execute_result"
    }
   ],
   "source": [
    "neutron = n2n.products[0]\n",
    "neutron.distribution"
   ]
  },
  {
   "cell_type": "markdown",
   "metadata": {},
   "source": [
    "We see that the neutrons emitted have a correlated angle-energy distribution. Let's look at the `energy_out` attribute to see what the outgoing energy distributions are."
   ]
  },
  {
   "cell_type": "code",
   "execution_count": 19,
   "metadata": {},
   "outputs": [
    {
     "data": {
      "text/plain": [
       "[<openmc.stats.univariate.Tabular at 0x1461b4d59550>,\n",
       " <openmc.stats.univariate.Tabular at 0x1461b4d59630>,\n",
       " <openmc.stats.univariate.Tabular at 0x1461b4d596d8>,\n",
       " <openmc.stats.univariate.Tabular at 0x1461b4d59828>,\n",
       " <openmc.stats.univariate.Tabular at 0x1461b4d59a20>,\n",
       " <openmc.stats.univariate.Tabular at 0x1461b4d59c88>,\n",
       " <openmc.stats.univariate.Tabular at 0x1461b4d59f98>,\n",
       " <openmc.stats.univariate.Tabular at 0x1461b4d63358>,\n",
       " <openmc.stats.univariate.Tabular at 0x1461b4d63748>,\n",
       " <openmc.stats.univariate.Tabular at 0x1461b4d63ba8>,\n",
       " <openmc.stats.univariate.Tabular at 0x1461b4d6b0b8>,\n",
       " <openmc.stats.univariate.Tabular at 0x1461b4d6b588>,\n",
       " <openmc.stats.univariate.Tabular at 0x1461b4d6bb00>,\n",
       " <openmc.stats.univariate.Tabular at 0x1461b4aaa0f0>,\n",
       " <openmc.stats.univariate.Tabular at 0x1461b4aaa710>,\n",
       " <openmc.stats.univariate.Tabular at 0x1461b4aaad68>,\n",
       " <openmc.stats.univariate.Tabular at 0x1461b4ab1470>,\n",
       " <openmc.stats.univariate.Tabular at 0x1461b4ab1b70>,\n",
       " <openmc.stats.univariate.Tabular at 0x1461b4ab92b0>,\n",
       " <openmc.stats.univariate.Tabular at 0x1461b4ab9a20>,\n",
       " <openmc.stats.univariate.Tabular at 0x1461b4ac1208>,\n",
       " <openmc.stats.univariate.Tabular at 0x1461b4ac19e8>,\n",
       " <openmc.stats.univariate.Tabular at 0x1461b4ac9240>,\n",
       " <openmc.stats.univariate.Tabular at 0x1461b4ac9a90>,\n",
       " <openmc.stats.univariate.Tabular at 0x1461b4acf358>,\n",
       " <openmc.stats.univariate.Tabular at 0x1461b4acfc18>,\n",
       " <openmc.stats.univariate.Tabular at 0x1461b4ad7470>,\n",
       " <openmc.stats.univariate.Tabular at 0x1461b4ad7d30>,\n",
       " <openmc.stats.univariate.Tabular at 0x1461b4ae0668>,\n",
       " <openmc.stats.univariate.Tabular at 0x1461b4ae0f98>]"
      ]
     },
     "execution_count": 19,
     "metadata": {},
     "output_type": "execute_result"
    }
   ],
   "source": [
    "dist = neutron.distribution[0]\n",
    "dist.energy_out"
   ]
  },
  {
   "cell_type": "markdown",
   "metadata": {},
   "source": [
    "Here we see we have a tabulated outgoing energy distribution for each incoming energy. Note that the same probability distribution classes that we could use to create a source definition are also used within the `openmc.data` package. Let's plot every fifth distribution to get an idea of what they look like."
   ]
  },
  {
   "cell_type": "code",
   "execution_count": 20,
   "metadata": {},
   "outputs": [
    {
     "data": {
      "image/png": "[encoded data removed]",
      "text/plain": [
       "<Figure size 432x288 with 1 Axes>"
      ]
     },
     "metadata": {
      "needs_background": "light"
     },
     "output_type": "display_data"
    }
   ],
   "source": [
    "for e_in, e_out_dist in zip(dist.energy[::5], dist.energy_out[::5]):\n",
    "    plt.semilogy(e_out_dist.x, e_out_dist.p, label='E={:.2f} MeV'.format(e_in/1e6))\n",
    "plt.ylim(top=1e-6)\n",
    "plt.legend()\n",
    "plt.xlabel('Outgoing energy (eV)')\n",
    "plt.ylabel('Probability/eV')\n",
    "plt.show()"
   ]
  },
  {
   "cell_type": "markdown",
   "metadata": {},
   "source": [
    "### Unresolved resonance probability tables\n",
    "\n",
    "We can also look at unresolved resonance probability tables which are stored in a `ProbabilityTables` object. In the following example, we'll create a plot showing what the total cross section probability tables look like as a function of incoming energy."
   ]
  },
  {
   "cell_type": "code",
   "execution_count": 21,
   "metadata": {},
   "outputs": [
    {
     "data": {
      "text/plain": [
       "Text(0, 0.5, 'Cross section(b)')"
      ]
     },
     "execution_count": 21,
     "metadata": {},
     "output_type": "execute_result"
    },
    {
     "data": {
      "image/png": "[encoded data removed]",
      "text/plain": [
       "<Figure size 432x288 with 1 Axes>"
      ]
     },
     "metadata": {
      "needs_background": "light"
     },
     "output_type": "display_data"
    }
   ],
   "source": [
    "fig = plt.figure()\n",
    "ax = fig.add_subplot(111)\n",
    "cm = matplotlib.cm.Spectral_r\n",
    "\n",
    "# Determine size of probability tables\n",
    "urr = gd157.urr['294K']\n",
    "n_energy = urr.table.shape[0]\n",
    "n_band = urr.table.shape[2]\n",
    "\n",
    "for i in range(n_energy):\n",
    "    # Get bounds on energy\n",
    "    if i > 0:\n",
    "        e_left = urr.energy[i] - 0.5*(urr.energy[i] - urr.energy[i-1])\n",
    "    else:\n",
    "        e_left = urr.energy[i] - 0.5*(urr.energy[i+1] - urr.energy[i])\n",
    "\n",
    "    if i < n_energy - 1:\n",
    "        e_right = urr.energy[i] + 0.5*(urr.energy[i+1] - urr.energy[i])\n",
    "    else:\n",
    "        e_right = urr.energy[i] + 0.5*(urr.energy[i] - urr.energy[i-1])\n",
    "        \n",
    "    for j in range(n_band):\n",
    "        # Determine maximum probability for a single band\n",
    "        max_prob = np.diff(urr.table[i,0,:]).max()\n",
    "        \n",
    "        # Determine bottom of band\n",
    "        if j > 0:\n",
    "            xs_bottom = urr.table[i,1,j] - 0.5*(urr.table[i,1,j] - urr.table[i,1,j-1])\n",
    "            value = (urr.table[i,0,j] - urr.table[i,0,j-1])/max_prob\n",
    "        else:\n",
    "            xs_bottom = urr.table[i,1,j] - 0.5*(urr.table[i,1,j+1] - urr.table[i,1,j])\n",
    "            value = urr.table[i,0,j]/max_prob\n",
    "\n",
    "        # Determine top of band\n",
    "        if j < n_band - 1:\n",
    "            xs_top = urr.table[i,1,j] + 0.5*(urr.table[i,1,j+1] - urr.table[i,1,j])\n",
    "        else:\n",
    "            xs_top = urr.table[i,1,j] + 0.5*(urr.table[i,1,j] - urr.table[i,1,j-1])\n",
    "    \n",
    "        # Draw rectangle with appropriate color\n",
    "        ax.add_patch(Rectangle((e_left, xs_bottom), e_right - e_left, xs_top - xs_bottom,\n",
    "                     color=cm(value)))\n",
    "\n",
    "# Overlay total cross section\n",
    "ax.plot(gd157.energy['294K'], total.xs['294K'](gd157.energy['294K']), 'k')\n",
    "\n",
    "# Make plot pretty and labeled\n",
    "ax.set_xlim(1.0, 1.0e5)\n",
    "ax.set_ylim(1e-1, 1e4)\n",
    "ax.set_xscale('log')\n",
    "ax.set_yscale('log')\n",
    "ax.set_xlabel('Energy (eV)')\n",
    "ax.set_ylabel('Cross section(b)')"
   ]
  },
  {
   "cell_type": "markdown",
   "metadata": {},
   "source": [
    "### Exporting HDF5 data\n",
    "\n",
    "If you have an instance `IncidentNeutron` that was created from ACE or HDF5 data, you can easily write it to disk using the `export_to_hdf5()` method. This can be used to convert ACE to HDF5 or to take an existing data set and actually modify cross sections."
   ]
  },
  {
   "cell_type": "code",
   "execution_count": 22,
   "metadata": {},
   "outputs": [],
   "source": [
    "gd157.export_to_hdf5('gd157.h5', 'w')"
   ]
  },
  {
   "cell_type": "markdown",
   "metadata": {},
   "source": [
    "With few exceptions, the HDF5 file encodes the same data as the ACE file."
   ]
  },
  {
   "cell_type": "code",
   "execution_count": 23,
   "metadata": {},
   "outputs": [
    {
     "data": {
      "text/plain": [
       "True"
      ]
     },
     "execution_count": 23,
     "metadata": {},
     "output_type": "execute_result"
    }
   ],
   "source": [
    "gd157_reconstructed = openmc.data.IncidentNeutron.from_hdf5('gd157.h5')\n",
    "np.all(gd157[16].xs['294K'].y == gd157_reconstructed[16].xs['294K'].y)"
   ]
  },
  {
   "cell_type": "markdown",
   "metadata": {},
   "source": [
    "And one of the best parts of using HDF5 is that it is a widely used format with lots of third-party support. You can use `h5py`, for example, to inspect the data."
   ]
  },
  {
   "cell_type": "code",
   "execution_count": 24,
   "metadata": {},
   "outputs": [
    {
     "name": "stdout",
     "output_type": "stream",
     "text": [
      "reaction_002, (n,elastic)\n",
      "reaction_016, (n,2n)\n",
      "reaction_017, (n,3n)\n",
      "reaction_022, (n,na)\n",
      "reaction_024, (n,2na)\n",
      "reaction_028, (n,np)\n",
      "reaction_041, (n,2np)\n",
      "reaction_051, (n,n1)\n",
      "reaction_052, (n,n2)\n",
      "reaction_053, (n,n3)\n"
     ]
    }
   ],
   "source": [
    "h5file = h5py.File('gd157.h5', 'r')\n",
    "main_group = h5file['Gd157/reactions']\n",
    "for name, obj in sorted(list(main_group.items()))[:10]:\n",
    "    if 'reaction_' in name:\n",
    "        print('{}, {}'.format(name, obj.attrs['label'].decode()))"
   ]
  },
  {
   "cell_type": "code",
   "execution_count": 25,
   "metadata": {},
   "outputs": [
    {
     "name": "stdout",
     "output_type": "stream",
     "text": [
      "[<HDF5 group \"/Gd157/reactions/reaction_016/294K\" (1 members)>,\n",
      " <HDF5 group \"/Gd157/reactions/reaction_016/product_0\" (2 members)>,\n",
      " <HDF5 group \"/Gd157/reactions/reaction_016/product_1\" (2 members)>]\n"
     ]
    }
   ],
   "source": [
    "n2n_group = main_group['reaction_016']\n",
    "pprint(list(n2n_group.values()))"
   ]
  },
  {
   "cell_type": "markdown",
   "metadata": {},
   "source": [
    "So we see that the hierarchy of data within the HDF5 mirrors the hierarchy of Python objects that we manipulated before."
   ]
  },
  {
   "cell_type": "code",
   "execution_count": 26,
   "metadata": {
    "scrolled": true
   },
   "outputs": [
    {
     "data": {
      "text/plain": [
       "array([0.000000e+00, 3.026796e-13, 1.291101e-02, 6.511110e-02,\n",
       "       3.926270e-01, 5.752268e-01, 6.969600e-01, 7.399378e-01,\n",
       "       9.635450e-01, 1.142130e+00, 1.308020e+00, 1.463500e+00,\n",
       "       1.557600e+00, 1.640550e+00, 1.688960e+00, 1.711400e+00,\n",
       "       1.739450e+00, 1.782070e+00, 1.816650e+00, 1.845280e+00,\n",
       "       1.865409e+00, 1.867240e+00, 1.881558e+00, 1.881560e+00,\n",
       "       1.881800e+00, 1.894470e+00, 1.869570e+00, 1.821200e+00,\n",
       "       1.716000e+00, 1.600540e+00, 1.431620e+00, 1.283460e+00,\n",
       "       1.101660e+00, 1.065300e+00, 9.307300e-01, 8.029800e-01,\n",
       "       7.777400e-01])"
      ]
     },
     "execution_count": 26,
     "metadata": {},
     "output_type": "execute_result"
    }
   ],
   "source": [
    "n2n_group['294K/xs'][()]"
   ]
  },
  {
   "cell_type": "markdown",
   "metadata": {},
   "source": [
    "### Working with ENDF files\n",
    "\n",
    "In addition to being able to load ACE and HDF5 data, we can also load ENDF data directly into an `IncidentNeutron` instance using the `from_endf()` factory method. Let's download the ENDF/B-VII.1 evaluation for $^{157}$Gd and load it in:"
   ]
  },
  {
   "cell_type": "code",
   "execution_count": 27,
   "metadata": {},
   "outputs": [
    {
     "data": {
      "text/plain": [
       "<IncidentNeutron: Gd157>"
      ]
     },
     "execution_count": 27,
     "metadata": {},
     "output_type": "execute_result"
    }
   ],
   "source": [
    "# Download ENDF file\n",
    "url = 'https://t2.lanl.gov/nis/data/data/ENDFB-VII.1-neutron/Gd/157'\n",
    "filename, headers = urllib.request.urlretrieve(url, 'gd157.endf')\n",
    "\n",
    "# Load into memory\n",
    "gd157_endf = openmc.data.IncidentNeutron.from_endf(filename)\n",
    "gd157_endf"
   ]
  },
  {
   "cell_type": "markdown",
   "metadata": {},
   "source": [
    "Just as before, we can get a reaction by indexing the object directly:"
   ]
  },
  {
   "cell_type": "code",
   "execution_count": 28,
   "metadata": {},
   "outputs": [],
   "source": [
    "elastic = gd157_endf[2]"
   ]
  },
  {
   "cell_type": "markdown",
   "metadata": {},
   "source": [
    "However, if we look at the cross section now, we see that it isn't represented as tabulated data anymore."
   ]
  },
  {
   "cell_type": "code",
   "execution_count": 29,
   "metadata": {},
   "outputs": [
    {
     "data": {
      "text/plain": [
       "{'0K': <openmc.data.function.ResonancesWithBackground at 0x1461b11824a8>}"
      ]
     },
     "execution_count": 29,
     "metadata": {},
     "output_type": "execute_result"
    }
   ],
   "source": [
    "elastic.xs"
   ]
  },
  {
   "cell_type": "markdown",
   "metadata": {},
   "source": [
    "If had [Cython](http://cython.org/) installed when you built/installed OpenMC, you should be able to evaluate resonant cross sections from ENDF data directly, i.e., OpenMC will reconstruct resonances behind the scenes for you."
   ]
  },
  {
   "cell_type": "code",
   "execution_count": 30,
   "metadata": {},
   "outputs": [
    {
     "data": {
      "text/plain": [
       "998.7871174521487"
      ]
     },
     "execution_count": 30,
     "metadata": {},
     "output_type": "execute_result"
    }
   ],
   "source": [
    "elastic.xs['0K'](0.0253)"
   ]
  },
  {
   "cell_type": "markdown",
   "metadata": {},
   "source": [
    "When data is loaded from an ENDF file, there is also a special `resonances` attribute that contains resolved and unresolved resonance region data (from MF=2 in an ENDF file)."
   ]
  },
  {
   "cell_type": "code",
   "execution_count": 31,
   "metadata": {},
   "outputs": [
    {
     "data": {
      "text/plain": [
       "[<openmc.data.resonance.ReichMoore at 0x1461b1fcb898>,\n",
       " <openmc.data.resonance.Unresolved at 0x1461b2692ba8>]"
      ]
     },
     "execution_count": 31,
     "metadata": {},
     "output_type": "execute_result"
    }
   ],
   "source": [
    "gd157_endf.resonances.ranges"
   ]
  },
  {
   "cell_type": "markdown",
   "metadata": {},
   "source": [
    "We see that $^{157}$Gd has a resolved resonance region represented in the Reich-Moore format as well as an unresolved resonance region. We can look at the min/max energy of each region by doing the following:"
   ]
  },
  {
   "cell_type": "code",
   "execution_count": 32,
   "metadata": {},
   "outputs": [
    {
     "data": {
      "text/plain": [
       "[(1e-05, 306.6), (306.6, 54881.1)]"
      ]
     },
     "execution_count": 32,
     "metadata": {},
     "output_type": "execute_result"
    }
   ],
   "source": [
    "[(r.energy_min, r.energy_max) for r in gd157_endf.resonances.ranges]"
   ]
  },
  {
   "cell_type": "markdown",
   "metadata": {},
   "source": [
    "With knowledge of the energy bounds, let's create an array of energies over the entire resolved resonance range and plot the elastic scattering cross section."
   ]
  },
  {
   "cell_type": "code",
   "execution_count": 33,
   "metadata": {},
   "outputs": [
    {
     "data": {
      "text/plain": [
       "Text(0, 0.5, 'Cross section (b)')"
      ]
     },
     "execution_count": 33,
     "metadata": {},
     "output_type": "execute_result"
    },
    {
     "data": {
      "image/png": "[encoded data removed]",
      "text/plain": [
       "<Figure size 432x288 with 1 Axes>"
      ]
     },
     "metadata": {
      "needs_background": "light"
     },
     "output_type": "display_data"
    }
   ],
   "source": [
    "# Create log-spaced array of energies\n",
    "resolved = gd157_endf.resonances.resolved\n",
    "energies = np.logspace(np.log10(resolved.energy_min),\n",
    "                       np.log10(resolved.energy_max), 1000)\n",
    "\n",
    "# Evaluate elastic scattering xs at energies\n",
    "xs = elastic.xs['0K'](energies)\n",
    "\n",
    "# Plot cross section vs energies\n",
    "plt.loglog(energies, xs)\n",
    "plt.xlabel('Energy (eV)')\n",
    "plt.ylabel('Cross section (b)')"
   ]
  },
  {
   "cell_type": "markdown",
   "metadata": {},
   "source": [
    "Resonance ranges also have a useful `parameters` attribute that shows the energies and widths for resonances."
   ]
  },
  {
   "cell_type": "code",
   "execution_count": 34,
   "metadata": {},
   "outputs": [
    {
     "data": {
      "text/html": [
       "<div>\n",
       "<style scoped>\n",
       "    .dataframe tbody tr th:only-of-type {\n",
       "        vertical-align: middle;\n",
       "    }\n",
       "\n",
       "    .dataframe tbody tr th {\n",
       "        vertical-align: top;\n",
       "    }\n",
       "\n",
       "    .dataframe thead th {\n",
       "        text-align: right;\n",
       "    }\n",
       "</style>\n",
       "<table border=\"1\" class=\"dataframe\">\n",
       "  <thead>\n",
       "    <tr style=\"text-align: right;\">\n",
       "      <th></th>\n",
       "      <th>energy</th>\n",
       "      <th>L</th>\n",
       "      <th>J</th>\n",
       "      <th>neutronWidth</th>\n",
       "      <th>captureWidth</th>\n",
       "      <th>fissionWidthA</th>\n",
       "      <th>fissionWidthB</th>\n",
       "    </tr>\n",
       "  </thead>\n",
       "  <tbody>\n",
       "    <tr>\n",
       "      <th>0</th>\n",
       "      <td>0.0314</td>\n",
       "      <td>0</td>\n",
       "      <td>2.0</td>\n",
       "      <td>0.000474</td>\n",
       "      <td>0.1072</td>\n",
       "      <td>0.0</td>\n",
       "      <td>0.0</td>\n",
       "    </tr>\n",
       "    <tr>\n",
       "      <th>1</th>\n",
       "      <td>2.8250</td>\n",
       "      <td>0</td>\n",
       "      <td>2.0</td>\n",
       "      <td>0.000345</td>\n",
       "      <td>0.0970</td>\n",
       "      <td>0.0</td>\n",
       "      <td>0.0</td>\n",
       "    </tr>\n",
       "    <tr>\n",
       "      <th>2</th>\n",
       "      <td>16.2400</td>\n",
       "      <td>0</td>\n",
       "      <td>1.0</td>\n",
       "      <td>0.000400</td>\n",
       "      <td>0.0910</td>\n",
       "      <td>0.0</td>\n",
       "      <td>0.0</td>\n",
       "    </tr>\n",
       "    <tr>\n",
       "      <th>3</th>\n",
       "      <td>16.7700</td>\n",
       "      <td>0</td>\n",
       "      <td>2.0</td>\n",
       "      <td>0.012800</td>\n",
       "      <td>0.0805</td>\n",
       "      <td>0.0</td>\n",
       "      <td>0.0</td>\n",
       "    </tr>\n",
       "    <tr>\n",
       "      <th>4</th>\n",
       "      <td>20.5600</td>\n",
       "      <td>0</td>\n",
       "      <td>2.0</td>\n",
       "      <td>0.011360</td>\n",
       "      <td>0.0880</td>\n",
       "      <td>0.0</td>\n",
       "      <td>0.0</td>\n",
       "    </tr>\n",
       "    <tr>\n",
       "      <th>5</th>\n",
       "      <td>21.6500</td>\n",
       "      <td>0</td>\n",
       "      <td>2.0</td>\n",
       "      <td>0.000376</td>\n",
       "      <td>0.1140</td>\n",
       "      <td>0.0</td>\n",
       "      <td>0.0</td>\n",
       "    </tr>\n",
       "    <tr>\n",
       "      <th>6</th>\n",
       "      <td>23.3300</td>\n",
       "      <td>0</td>\n",
       "      <td>1.0</td>\n",
       "      <td>0.000813</td>\n",
       "      <td>0.1210</td>\n",
       "      <td>0.0</td>\n",
       "      <td>0.0</td>\n",
       "    </tr>\n",
       "    <tr>\n",
       "      <th>7</th>\n",
       "      <td>25.4000</td>\n",
       "      <td>0</td>\n",
       "      <td>2.0</td>\n",
       "      <td>0.001840</td>\n",
       "      <td>0.0850</td>\n",
       "      <td>0.0</td>\n",
       "      <td>0.0</td>\n",
       "    </tr>\n",
       "    <tr>\n",
       "      <th>8</th>\n",
       "      <td>40.1700</td>\n",
       "      <td>0</td>\n",
       "      <td>1.0</td>\n",
       "      <td>0.001307</td>\n",
       "      <td>0.1100</td>\n",
       "      <td>0.0</td>\n",
       "      <td>0.0</td>\n",
       "    </tr>\n",
       "    <tr>\n",
       "      <th>9</th>\n",
       "      <td>44.2200</td>\n",
       "      <td>0</td>\n",
       "      <td>2.0</td>\n",
       "      <td>0.008960</td>\n",
       "      <td>0.0960</td>\n",
       "      <td>0.0</td>\n",
       "      <td>0.0</td>\n",
       "    </tr>\n",
       "  </tbody>\n",
       "</table>\n",
       "</div>"
      ],
      "text/plain": [
       "    energy  L    J  neutronWidth  captureWidth  fissionWidthA  fissionWidthB\n",
       "0   0.0314  0  2.0      0.000474        0.1072            0.0            0.0\n",
       "1   2.8250  0  2.0      0.000345        0.0970            0.0            0.0\n",
       "2  16.2400  0  1.0      0.000400        0.0910            0.0            0.0\n",
       "3  16.7700  0  2.0      0.012800        0.0805            0.0            0.0\n",
       "4  20.5600  0  2.0      0.011360        0.0880            0.0            0.0\n",
       "5  21.6500  0  2.0      0.000376        0.1140            0.0            0.0\n",
       "6  23.3300  0  1.0      0.000813        0.1210            0.0            0.0\n",
       "7  25.4000  0  2.0      0.001840        0.0850            0.0            0.0\n",
       "8  40.1700  0  1.0      0.001307        0.1100            0.0            0.0\n",
       "9  44.2200  0  2.0      0.008960        0.0960            0.0            0.0"
      ]
     },
     "execution_count": 34,
     "metadata": {},
     "output_type": "execute_result"
    }
   ],
   "source": [
    "resolved.parameters.head(10)"
   ]
  },
  {
   "cell_type": "markdown",
   "metadata": {},
   "source": [
    "## Heavy-nuclide resonance scattering\n",
    "\n",
    "OpenMC has two methods for accounting for resonance upscattering in heavy nuclides, DBRC and RVS. These methods rely on 0 K elastic scattering data being present. If you have an existing ACE/HDF5 dataset and you need to add 0 K elastic scattering data to it, this can be done using the `IncidentNeutron.add_elastic_0K_from_endf()` method. Let's do this with our original `gd157` object that we instantiated from an ACE file."
   ]
  },
  {
   "cell_type": "code",
   "execution_count": 35,
   "metadata": {},
   "outputs": [],
   "source": [
    "gd157.add_elastic_0K_from_endf('gd157.endf')"
   ]
  },
  {
   "cell_type": "markdown",
   "metadata": {},
   "source": [
    "Let's check to make sure that we have both the room temperature elastic scattering cross section as well as a 0K cross section."
   ]
  },
  {
   "cell_type": "code",
   "execution_count": 36,
   "metadata": {},
   "outputs": [
    {
     "data": {
      "text/plain": [
       "{'294K': <openmc.data.function.Tabulated1D at 0x1461b4d2ff60>,\n",
       " '0K': <openmc.data.function.Tabulated1D at 0x1461b0e59128>}"
      ]
     },
     "execution_count": 36,
     "metadata": {},
     "output_type": "execute_result"
    }
   ],
   "source": [
    "gd157[2].xs"
   ]
  },
  {
   "cell_type": "markdown",
   "metadata": {},
   "source": [
    "## Generating data from NJOY\n",
    "\n",
    "To run OpenMC in continuous-energy mode, you generally need to have ACE files already available that can be converted to OpenMC's native HDF5 format. If you don't already have suitable ACE files or need to generate new data, both the `IncidentNeutron` and `ThermalScattering` classes include `from_njoy()` methods that will run [NJOY](https://www.njoy21.io/) to generate ACE files and then read those files to create OpenMC class instances. The `from_njoy()` methods take as input the name of an ENDF file on disk. By default, it is assumed that you have an executable named `njoy` available on your path. This can be configured with the optional `njoy_exec` argument. Additionally, if you want to show the progress of NJOY as it is running, you can pass `stdout=True`.\n",
    "\n",
    "Let's use `IncidentNeutron.from_njoy()` to run NJOY to create data for $^2$H using an ENDF file. We'll specify that we want data specifically at 300, 400, and 500 K."
   ]
  },
  {
   "cell_type": "code",
   "execution_count": 37,
   "metadata": {},
   "outputs": [
    {
     "name": "stdout",
     "output_type": "stream",
     "text": [
      "\n",
      " njoy 2016.49  25Jan19                                       07/19/19 06:12:49\n",
      " *****************************************************************************\n",
      "\n",
      " reconr...                                                                0.0s\n",
      "\n",
      " broadr...                                                                0.1s\n",
      "      300.0 deg                                                           0.1s\n",
      "      400.0 deg                                                           0.2s\n",
      "      500.0 deg                                                           0.3s\n",
      "\n",
      " heatr...                                                                 0.3s\n",
      "\n",
      " gaspr...                                                                 0.6s\n",
      "\n",
      " purr...                                                                  0.7s\n",
      "\n",
      " mat =  128                                                               0.7s\n",
      "\n",
      " ---message from purr---mat  128 has no resonance parameters\n",
      "                          copy as is to nout\n",
      "\n",
      " acer...                                                                  0.7s\n",
      "\n",
      " acer...                                                                  1.0s\n",
      "\n",
      " acer...                                                                  1.1s\n",
      "                                                                          1.2s\n",
      " *****************************************************************************\n"
     ]
    }
   ],
   "source": [
    "# Download ENDF file\n",
    "url = 'https://t2.lanl.gov/nis/data/data/ENDFB-VII.1-neutron/H/2'\n",
    "filename, headers = urllib.request.urlretrieve(url, 'h2.endf')\n",
    "\n",
    "# Run NJOY to create deuterium data\n",
    "h2 = openmc.data.IncidentNeutron.from_njoy('h2.endf', temperatures=[300., 400., 500.], stdout=True)"
   ]
  },
  {
   "cell_type": "markdown",
   "metadata": {},
   "source": [
    "Now we can use our `h2` object just as we did before."
   ]
  },
  {
   "cell_type": "code",
   "execution_count": 38,
   "metadata": {},
   "outputs": [
    {
     "data": {
      "text/plain": [
       "{'300K': <openmc.data.function.Tabulated1D at 0x1461b066ebe0>,\n",
       " '400K': <openmc.data.function.Tabulated1D at 0x1461b23a0978>,\n",
       " '500K': <openmc.data.function.Tabulated1D at 0x1461b1009400>,\n",
       " '0K': <openmc.data.function.Tabulated1D at 0x1461b101b358>}"
      ]
     },
     "execution_count": 38,
     "metadata": {},
     "output_type": "execute_result"
    }
   ],
   "source": [
    "h2[2].xs"
   ]
  },
  {
   "cell_type": "markdown",
   "metadata": {},
   "source": [
    "Note that 0 K elastic scattering data is automatically added when using `from_njoy()` so that resonance elastic scattering treatments can be used."
   ]
  },
  {
   "cell_type": "markdown",
   "metadata": {},
   "source": [
    "## Windowed multipole\n",
    "\n",
    "OpenMC can also be used with an experimental format called windowed multipole.  Windowed multipole allows for analytic on-the-fly Doppler broadening of the resolved resonance range.  Windowed multipole data can be downloaded with the `openmc-get-multipole-data` script.  This data can be used in the transport solver, but it can also be used directly in the Python API."
   ]
  },
  {
   "cell_type": "code",
   "execution_count": 39,
   "metadata": {},
   "outputs": [],
   "source": [
    "url = 'https://github.com/mit-crpg/WMP_Library/releases/download/v1.1/092238.h5'\n",
    "filename, headers = urllib.request.urlretrieve(url, '092238.h5')"
   ]
  },
  {
   "cell_type": "code",
   "execution_count": 40,
   "metadata": {},
   "outputs": [],
   "source": [
    "u238_multipole = openmc.data.WindowedMultipole.from_hdf5('092238.h5')"
   ]
  },
  {
   "cell_type": "markdown",
   "metadata": {},
   "source": [
    "The `WindowedMultipole` object can be called with energy and temperature values.  Calling the object gives a tuple of 3 cross sections: elastic scattering, radiative capture, and fission."
   ]
  },
  {
   "cell_type": "code",
   "execution_count": 41,
   "metadata": {},
   "outputs": [
    {
     "data": {
      "text/plain": [
       "(array(9.13284265), array(0.50530278), array(2.9316765e-06))"
      ]
     },
     "execution_count": 41,
     "metadata": {},
     "output_type": "execute_result"
    }
   ],
   "source": [
    "u238_multipole(1.0, 294)"
   ]
  },
  {
   "cell_type": "markdown",
   "metadata": {},
   "source": [
    "An array can be passed for the energy argument."
   ]
  },
  {
   "cell_type": "code",
   "execution_count": 42,
   "metadata": {},
   "outputs": [
    {
     "data": {
      "text/plain": [
       "[<matplotlib.lines.Line2D at 0x1461b0ed9978>]"
      ]
     },
     "execution_count": 42,
     "metadata": {},
     "output_type": "execute_result"
    },
    {
     "data": {
      "image/png": "[encoded data removed]",
      "text/plain": [
       "<Figure size 432x288 with 1 Axes>"
      ]
     },
     "metadata": {
      "needs_background": "light"
     },
     "output_type": "display_data"
    }
   ],
   "source": [
    "E = np.linspace(5, 25, 1000)\n",
    "plt.semilogy(E, u238_multipole(E, 293.606)[1])"
   ]
  },
  {
   "cell_type": "markdown",
   "metadata": {},
   "source": [
    "The real advantage to multipole is that it can be used to generate cross sections at any temperature.  For example, this plot shows the Doppler broadening of the 6.67 eV resonance between 0 K and 900 K."
   ]
  },
  {
   "cell_type": "code",
   "execution_count": 43,
   "metadata": {},
   "outputs": [
    {
     "data": {
      "text/plain": [
       "[<matplotlib.lines.Line2D at 0x1461b09755c0>]"
      ]
     },
     "execution_count": 43,
     "metadata": {},
     "output_type": "execute_result"
    },
    {
     "data": {
      "image/png": "[encoded data removed]",
      "text/plain": [
       "<Figure size 432x288 with 1 Axes>"
      ]
     },
     "metadata": {
      "needs_background": "light"
     },
     "output_type": "display_data"
    }
   ],
   "source": [
    "E = np.linspace(6.1, 7.1, 1000)\n",
    "plt.semilogy(E, u238_multipole(E, 0)[1])\n",
    "plt.semilogy(E, u238_multipole(E, 900)[1])"
   ]
  }
 ],
 "metadata": {
  "anaconda-cloud": {},
  "kernelspec": {
   "display_name": "Python 3",
   "language": "python",
   "name": "python3"
  },
  "language_info": {
   "codemirror_mode": {
    "name": "ipython",
    "version": 3
   },
   "file_extension": ".py",
   "mimetype": "text/x-python",
   "name": "python",
   "nbconvert_exporter": "python",
   "pygments_lexer": "ipython3",
   "version": "3.7.0"
  }
 },
 "nbformat": 4,
 "nbformat_minor": 1
}
