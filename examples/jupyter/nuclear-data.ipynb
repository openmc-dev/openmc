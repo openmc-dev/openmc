{
 "cells": [
  {
   "cell_type": "markdown",
   "metadata": {},
   "source": [
    "In this notebook, we will go through the salient features of the `openmc.data` package in the Python API. This package enables inspection, analysis, and conversion of nuclear data from ACE files. Most importantly, the package provides a mean to generate HDF5 nuclear data libraries that are used by the transport solver."
   ]
  },
  {
   "cell_type": "code",
   "execution_count": 1,
   "metadata": {
    "collapsed": true
   },
   "outputs": [],
   "source": [
    "%matplotlib inline\n",
    "import os\n",
    "from pprint import pprint\n",
    "import shutil\n",
    "import subprocess\n",
    "import urllib.request\n",
    "\n",
    "import h5py\n",
    "import numpy as np\n",
    "import matplotlib.pyplot as plt\n",
    "import matplotlib.cm\n",
    "from matplotlib.patches import Rectangle\n",
    "\n",
    "import openmc.data"
   ]
  },
  {
   "cell_type": "markdown",
   "metadata": {},
   "source": [
    "## Physical Data\n",
    "\n",
    "Some very helpful physical data is available as part of `openmc.data`: atomic masses, natural abundances, and atomic weights."
   ]
  },
  {
   "cell_type": "code",
   "execution_count": 2,
   "metadata": {
    "collapsed": false
   },
   "outputs": [
    {
     "data": {
      "text/plain": [
       "53.939608986"
      ]
     },
     "execution_count": 2,
     "metadata": {},
     "output_type": "execute_result"
    }
   ],
   "source": [
    "openmc.data.atomic_mass('Fe54')"
   ]
  },
  {
   "cell_type": "code",
   "execution_count": 3,
   "metadata": {
    "collapsed": false
   },
   "outputs": [
    {
     "data": {
      "text/plain": [
       "0.00015574"
      ]
     },
     "execution_count": 3,
     "metadata": {},
     "output_type": "execute_result"
    }
   ],
   "source": [
    "openmc.data.NATURAL_ABUNDANCE['H2']"
   ]
  },
  {
   "cell_type": "code",
   "execution_count": 4,
   "metadata": {
    "collapsed": false
   },
   "outputs": [
    {
     "data": {
      "text/plain": [
       "12.011115164862904"
      ]
     },
     "execution_count": 4,
     "metadata": {},
     "output_type": "execute_result"
    }
   ],
   "source": [
    "openmc.data.atomic_weight('C')"
   ]
  },
  {
   "cell_type": "markdown",
   "metadata": {},
   "source": [
    "## The IncidentNeutron class\n",
    "\n",
    "The most useful class within the `openmc.data` API is `IncidentNeutron`, which stores to continuous-energy incident neutron data. This class has factory methods `from_ace`, `from_endf`, and `from_hdf5` which take a data file on disk and parse it into a hierarchy of classes in memory. To demonstrate this feature, we will download an ACE file (which can be produced with [NJOY 2016](https://github.com/njoy/NJOY2016)) and then load it in using the `IncidentNeutron.from_ace` method. "
   ]
  },
  {
   "cell_type": "code",
   "execution_count": 5,
   "metadata": {
    "collapsed": false
   },
   "outputs": [],
   "source": [
    "url = 'https://anl.box.com/shared/static/kxm7s57z3xgfbeq29h54n7q6js8rd11c.ace'\n",
    "filename, headers = urllib.request.urlretrieve(url, 'gd157.ace')"
   ]
  },
  {
   "cell_type": "code",
   "execution_count": 6,
   "metadata": {
    "collapsed": false
   },
   "outputs": [
    {
     "data": {
      "text/plain": [
       "<IncidentNeutron: Gd157>"
      ]
     },
     "execution_count": 6,
     "metadata": {},
     "output_type": "execute_result"
    }
   ],
   "source": [
    "# Load ACE data into object\n",
    "gd157 = openmc.data.IncidentNeutron.from_ace('gd157.ace')\n",
    "gd157"
   ]
  },
  {
   "cell_type": "markdown",
   "metadata": {},
   "source": [
    "### Cross sections"
   ]
  },
  {
   "cell_type": "markdown",
   "metadata": {},
   "source": [
    "From Python, it's easy to explore (and modify) the nuclear data. Let's start off by reading the total cross section. Reactions are indexed using their \"MT\" number -- a unique identifier for each reaction defined by the ENDF-6 format. The MT number for the total cross section is 1."
   ]
  },
  {
   "cell_type": "code",
   "execution_count": 7,
   "metadata": {
    "collapsed": false
   },
   "outputs": [
    {
     "data": {
      "text/plain": [
       "<Reaction: MT=1 (n,total)>"
      ]
     },
     "execution_count": 7,
     "metadata": {},
     "output_type": "execute_result"
    }
   ],
   "source": [
    "total = gd157[1]\n",
    "total"
   ]
  },
  {
   "cell_type": "markdown",
   "metadata": {},
   "source": [
    "Cross sections for each reaction can be stored at multiple temperatures. To see what temperatures are available, we can look at the reaction's `xs` attribute."
   ]
  },
  {
   "cell_type": "code",
   "execution_count": 8,
   "metadata": {
    "collapsed": false
   },
   "outputs": [
    {
     "data": {
      "text/plain": [
       "{'294K': <openmc.data.function.Tabulated1D at 0x7ffa9643d400>}"
      ]
     },
     "execution_count": 8,
     "metadata": {},
     "output_type": "execute_result"
    }
   ],
   "source": [
    "total.xs"
   ]
  },
  {
   "cell_type": "markdown",
   "metadata": {},
   "source": [
    "To find the cross section at a particular energy, 1 eV for example, simply get the cross section at the appropriate temperature and then call it as a function. Note that our nuclear data uses eV as the unit of energy."
   ]
  },
  {
   "cell_type": "code",
   "execution_count": 9,
   "metadata": {
    "collapsed": false
   },
   "outputs": [
    {
     "data": {
      "text/plain": [
       "142.64747"
      ]
     },
     "execution_count": 9,
     "metadata": {},
     "output_type": "execute_result"
    }
   ],
   "source": [
    "total.xs['294K'](1.0)"
   ]
  },
  {
   "cell_type": "markdown",
   "metadata": {},
   "source": [
    "The `xs` attribute can also be called on an array of energies."
   ]
  },
  {
   "cell_type": "code",
   "execution_count": 10,
   "metadata": {
    "collapsed": false
   },
   "outputs": [
    {
     "data": {
      "text/plain": [
       "array([ 142.64747   ,   38.6541761 ,  175.40019642])"
      ]
     },
     "execution_count": 10,
     "metadata": {},
     "output_type": "execute_result"
    }
   ],
   "source": [
    "total.xs['294K']([1.0, 2.0, 3.0])"
   ]
  },
  {
   "cell_type": "markdown",
   "metadata": {},
   "source": [
    "A quick way to plot cross sections is to use the `energy` attribute of `IncidentNeutron`. This gives an array of all the energy values used in cross section interpolation for each temperature present."
   ]
  },
  {
   "cell_type": "code",
   "execution_count": 11,
   "metadata": {
    "collapsed": false
   },
   "outputs": [
    {
     "data": {
      "text/plain": [
       "{'294K': array([  1.00000000e-05,   1.03250000e-05,   1.06500000e-05, ...,\n",
       "          1.95000000e+07,   1.99000000e+07,   2.00000000e+07])}"
      ]
     },
     "execution_count": 11,
     "metadata": {},
     "output_type": "execute_result"
    }
   ],
   "source": [
    "gd157.energy"
   ]
  },
  {
   "cell_type": "code",
   "execution_count": 12,
   "metadata": {
    "collapsed": false
   },
   "outputs": [
    {
     "data": {
      "text/plain": [
       "<matplotlib.text.Text at 0x7ffa934e0358>"
      ]
     },
     "execution_count": 12,
     "metadata": {},
     "output_type": "execute_result"
    },
    {
     "data": {
      "image/png": "[encoded data removed]",
      "text/plain": [
       "<matplotlib.figure.Figure at 0x7ffa959f82e8>"
      ]
     },
     "metadata": {},
     "output_type": "display_data"
    }
   ],
   "source": [
    "energies = gd157.energy['294K']\n",
    "total_xs = total.xs['294K'](energies)\n",
    "plt.loglog(energies, total_xs)\n",
    "plt.xlabel('Energy (eV)')\n",
    "plt.ylabel('Cross section (b)')"
   ]
  },
  {
   "cell_type": "markdown",
   "metadata": {},
   "source": [
    "### Reaction Data\n",
    "\n",
    "Most of the interesting data for an `IncidentNeutron` instance is contained within the `reactions` attribute, which is a dictionary mapping MT values to `Reaction` objects."
   ]
  },
  {
   "cell_type": "code",
   "execution_count": 13,
   "metadata": {
    "collapsed": false
   },
   "outputs": [
    {
     "name": "stdout",
     "output_type": "stream",
     "text": [
      "[<Reaction: MT=2 (n,elastic)>,\n",
      " <Reaction: MT=16 (n,2n)>,\n",
      " <Reaction: MT=17 (n,3n)>,\n",
      " <Reaction: MT=22 (n,na)>,\n",
      " <Reaction: MT=24 (n,2na)>,\n",
      " <Reaction: MT=28 (n,np)>,\n",
      " <Reaction: MT=41 (n,2np)>,\n",
      " <Reaction: MT=51 (n,n1)>,\n",
      " <Reaction: MT=52 (n,n2)>,\n",
      " <Reaction: MT=53 (n,n3)>]\n"
     ]
    }
   ],
   "source": [
    "pprint(list(gd157.reactions.values())[:10])"
   ]
  },
  {
   "cell_type": "markdown",
   "metadata": {},
   "source": [
    "Let's suppose we want to look more closely at the (n,2n) reaction. This reaction has an energy threshold"
   ]
  },
  {
   "cell_type": "code",
   "execution_count": 14,
   "metadata": {
    "collapsed": false
   },
   "outputs": [
    {
     "name": "stdout",
     "output_type": "stream",
     "text": [
      "Threshold = 6400881.0 eV\n"
     ]
    }
   ],
   "source": [
    "n2n = gd157[16]\n",
    "print('Threshold = {} eV'.format(n2n.xs['294K'].x[0]))"
   ]
  },
  {
   "cell_type": "markdown",
   "metadata": {},
   "source": [
    "The (n,2n) cross section, like all basic cross sections, is represented by the `Tabulated1D` class. The energy and cross section values in the table can be directly accessed with the `x` and `y` attributes. Using the `x` and `y` has the nice benefit of automatically acounting for reaction thresholds."
   ]
  },
  {
   "cell_type": "code",
   "execution_count": 15,
   "metadata": {
    "collapsed": false
   },
   "outputs": [
    {
     "data": {
      "text/plain": [
       "{'294K': <openmc.data.function.Tabulated1D at 0x7ffa95cf70f0>}"
      ]
     },
     "execution_count": 15,
     "metadata": {},
     "output_type": "execute_result"
    }
   ],
   "source": [
    "n2n.xs"
   ]
  },
  {
   "cell_type": "code",
   "execution_count": 16,
   "metadata": {
    "collapsed": false
   },
   "outputs": [
    {
     "data": {
      "text/plain": [
       "(6400881.0, 20000000.0)"
      ]
     },
     "execution_count": 16,
     "metadata": {},
     "output_type": "execute_result"
    },
    {
     "data": {
      "image/png": "[encoded data removed]",
      "text/plain": [
       "<matplotlib.figure.Figure at 0x7ffa930af0b8>"
      ]
     },
     "metadata": {},
     "output_type": "display_data"
    }
   ],
   "source": [
    "xs = n2n.xs['294K']\n",
    "plt.plot(xs.x, xs.y)\n",
    "plt.xlabel('Energy (eV)')\n",
    "plt.ylabel('Cross section (b)')\n",
    "plt.xlim((xs.x[0], xs.x[-1]))"
   ]
  },
  {
   "cell_type": "markdown",
   "metadata": {},
   "source": [
    "To get information on the energy and angle distribution of the neutrons emitted in the reaction, we need to look at the `products` attribute."
   ]
  },
  {
   "cell_type": "code",
   "execution_count": 17,
   "metadata": {
    "collapsed": false
   },
   "outputs": [
    {
     "data": {
      "text/plain": [
       "[<Product: neutron, emission=prompt, yield=polynomial>,\n",
       " <Product: photon, emission=prompt, yield=tabulated>]"
      ]
     },
     "execution_count": 17,
     "metadata": {},
     "output_type": "execute_result"
    }
   ],
   "source": [
    "n2n.products"
   ]
  },
  {
   "cell_type": "code",
   "execution_count": 18,
   "metadata": {
    "collapsed": false
   },
   "outputs": [
    {
     "data": {
      "text/plain": [
       "[<openmc.data.correlated.CorrelatedAngleEnergy at 0x7ffa95cbaf98>]"
      ]
     },
     "execution_count": 18,
     "metadata": {},
     "output_type": "execute_result"
    }
   ],
   "source": [
    "neutron = n2n.products[0]\n",
    "neutron.distribution"
   ]
  },
  {
   "cell_type": "markdown",
   "metadata": {},
   "source": [
    "We see that the neutrons emitted have a correlated angle-energy distribution. Let's look at the `energy_out` attribute to see what the outgoing energy distributions are."
   ]
  },
  {
   "cell_type": "code",
   "execution_count": 19,
   "metadata": {
    "collapsed": false
   },
   "outputs": [
    {
     "data": {
      "text/plain": [
       "[<openmc.stats.univariate.Tabular at 0x7ffa95cf71d0>,\n",
       " <openmc.stats.univariate.Tabular at 0x7ffa95cf7278>,\n",
       " <openmc.stats.univariate.Tabular at 0x7ffa95cf7320>,\n",
       " <openmc.stats.univariate.Tabular at 0x7ffa95cf7470>,\n",
       " <openmc.stats.univariate.Tabular at 0x7ffa95cf7668>,\n",
       " <openmc.stats.univariate.Tabular at 0x7ffa95cf78d0>,\n",
       " <openmc.stats.univariate.Tabular at 0x7ffa95cf7be0>,\n",
       " <openmc.stats.univariate.Tabular at 0x7ffa95cf7f60>,\n",
       " <openmc.stats.univariate.Tabular at 0x7ffa95d00390>,\n",
       " <openmc.stats.univariate.Tabular at 0x7ffa96449390>,\n",
       " <openmc.stats.univariate.Tabular at 0x7ffa95d00748>,\n",
       " <openmc.stats.univariate.Tabular at 0x7ffa95d00c18>,\n",
       " <openmc.stats.univariate.Tabular at 0x7ffa95d071d0>,\n",
       " <openmc.stats.univariate.Tabular at 0x7ffa95d07780>,\n",
       " <openmc.stats.univariate.Tabular at 0x7ffa95d07da0>,\n",
       " <openmc.stats.univariate.Tabular at 0x7ffa95d0d438>,\n",
       " <openmc.stats.univariate.Tabular at 0x7ffa95d0db00>,\n",
       " <openmc.stats.univariate.Tabular at 0x7ffa95d13240>,\n",
       " <openmc.stats.univariate.Tabular at 0x7ffa95d13940>,\n",
       " <openmc.stats.univariate.Tabular at 0x7ffa95d1b0f0>,\n",
       " <openmc.stats.univariate.Tabular at 0x7ffa95d1b898>,\n",
       " <openmc.stats.univariate.Tabular at 0x7ffa95d210b8>,\n",
       " <openmc.stats.univariate.Tabular at 0x7ffa95d218d0>,\n",
       " <openmc.stats.univariate.Tabular at 0x7ffa95ca7160>,\n",
       " <openmc.stats.univariate.Tabular at 0x7ffa95ca79e8>,\n",
       " <openmc.stats.univariate.Tabular at 0x7ffa95cae2e8>,\n",
       " <openmc.stats.univariate.Tabular at 0x7ffa95caeb00>,\n",
       " <openmc.stats.univariate.Tabular at 0x7ffa95cb4400>,\n",
       " <openmc.stats.univariate.Tabular at 0x7ffa95cb4cf8>,\n",
       " <openmc.stats.univariate.Tabular at 0x7ffa95cba668>]"
      ]
     },
     "execution_count": 19,
     "metadata": {},
     "output_type": "execute_result"
    }
   ],
   "source": [
    "dist = neutron.distribution[0]\n",
    "dist.energy_out"
   ]
  },
  {
   "cell_type": "markdown",
   "metadata": {},
   "source": [
    "Here we see we have a tabulated outgoing energy distribution for each incoming energy. Note that the same probability distribution classes that we could use to create a source definition are also used within the `openmc.data` package. Let's plot every fifth distribution to get an idea of what they look like."
   ]
  },
  {
   "cell_type": "code",
   "execution_count": 20,
   "metadata": {
    "collapsed": false
   },
   "outputs": [
    {
     "data": {
      "image/png": "[encoded data removed]",
      "text/plain": [
       "<matplotlib.figure.Figure at 0x7ffaa84b6f28>"
      ]
     },
     "metadata": {},
     "output_type": "display_data"
    }
   ],
   "source": [
    "for e_in, e_out_dist in zip(dist.energy[::5], dist.energy_out[::5]):\n",
    "    plt.semilogy(e_out_dist.x, e_out_dist.p, label='E={:.2f} MeV'.format(e_in/1e6))\n",
    "plt.ylim(ymax=1e-6)\n",
    "plt.legend()\n",
    "plt.xlabel('Outgoing energy (eV)')\n",
    "plt.ylabel('Probability/eV')\n",
    "plt.show()"
   ]
  },
  {
   "cell_type": "markdown",
   "metadata": {},
   "source": [
    "There is also `summed_reactions` attribute for cross sections (like total) which are built from summing up other cross sections."
   ]
  },
  {
   "cell_type": "code",
   "execution_count": 21,
   "metadata": {
    "collapsed": false
   },
   "outputs": [
    {
     "name": "stdout",
     "output_type": "stream",
     "text": [
      "[<Reaction: MT=1 (n,total)>, <Reaction: MT=27 (n,absorption)>]\n"
     ]
    }
   ],
   "source": [
    "pprint(list(gd157.summed_reactions.values()))"
   ]
  },
  {
   "cell_type": "markdown",
   "metadata": {},
   "source": [
    "Note that the cross sections for these reactions are represented by the `Sum` class rather than `Tabulated1D`. They do not support the `x` and `y` attributes."
   ]
  },
  {
   "cell_type": "code",
   "execution_count": 22,
   "metadata": {
    "collapsed": false
   },
   "outputs": [
    {
     "data": {
      "text/plain": [
       "{'294K': <openmc.data.function.Tabulated1D at 0x7ffa9643d390>}"
      ]
     },
     "execution_count": 22,
     "metadata": {},
     "output_type": "execute_result"
    }
   ],
   "source": [
    "gd157[27].xs"
   ]
  },
  {
   "cell_type": "markdown",
   "metadata": {},
   "source": [
    "### Unresolved resonance probability tables\n",
    "\n",
    "We can also look at unresolved resonance probability tables which are stored in a `ProbabilityTables` object. In the following example, we'll create a plot showing what the total cross section probability tables look like as a function of incoming energy."
   ]
  },
  {
   "cell_type": "code",
   "execution_count": 23,
   "metadata": {
    "collapsed": false
   },
   "outputs": [
    {
     "data": {
      "text/plain": [
       "<matplotlib.text.Text at 0x7ffa92f3c470>"
      ]
     },
     "execution_count": 23,
     "metadata": {},
     "output_type": "execute_result"
    },
    {
     "data": {
      "image/png": "[encoded data removed]",
      "text/plain": [
       "<matplotlib.figure.Figure at 0x7ffa92f4b278>"
      ]
     },
     "metadata": {},
     "output_type": "display_data"
    }
   ],
   "source": [
    "fig = plt.figure()\n",
    "ax = fig.add_subplot(111)\n",
    "cm = matplotlib.cm.Spectral_r\n",
    "\n",
    "# Determine size of probability tables\n",
    "urr = gd157.urr['294K']\n",
    "n_energy = urr.table.shape[0]\n",
    "n_band = urr.table.shape[2]\n",
    "\n",
    "for i in range(n_energy):\n",
    "    # Get bounds on energy\n",
    "    if i > 0:\n",
    "        e_left = urr.energy[i] - 0.5*(urr.energy[i] - urr.energy[i-1])\n",
    "    else:\n",
    "        e_left = urr.energy[i] - 0.5*(urr.energy[i+1] - urr.energy[i])\n",
    "\n",
    "    if i < n_energy - 1:\n",
    "        e_right = urr.energy[i] + 0.5*(urr.energy[i+1] - urr.energy[i])\n",
    "    else:\n",
    "        e_right = urr.energy[i] + 0.5*(urr.energy[i] - urr.energy[i-1])\n",
    "        \n",
    "    for j in range(n_band):\n",
    "        # Determine maximum probability for a single band\n",
    "        max_prob = np.diff(urr.table[i,0,:]).max()\n",
    "        \n",
    "        # Determine bottom of band\n",
    "        if j > 0:\n",
    "            xs_bottom = urr.table[i,1,j] - 0.5*(urr.table[i,1,j] - urr.table[i,1,j-1])\n",
    "            value = (urr.table[i,0,j] - urr.table[i,0,j-1])/max_prob\n",
    "        else:\n",
    "            xs_bottom = urr.table[i,1,j] - 0.5*(urr.table[i,1,j+1] - urr.table[i,1,j])\n",
    "            value = urr.table[i,0,j]/max_prob\n",
    "\n",
    "        # Determine top of band\n",
    "        if j < n_band - 1:\n",
    "            xs_top = urr.table[i,1,j] + 0.5*(urr.table[i,1,j+1] - urr.table[i,1,j])\n",
    "        else:\n",
    "            xs_top = urr.table[i,1,j] + 0.5*(urr.table[i,1,j] - urr.table[i,1,j-1])\n",
    "    \n",
    "        # Draw rectangle with appropriate color\n",
    "        ax.add_patch(Rectangle((e_left, xs_bottom), e_right - e_left, xs_top - xs_bottom,\n",
    "                     color=cm(value)))\n",
    "\n",
    "# Overlay total cross section\n",
    "ax.plot(gd157.energy['294K'], total.xs['294K'](gd157.energy['294K']), 'k')\n",
    "\n",
    "# Make plot pretty and labeled\n",
    "ax.set_xlim(1.0, 1.0e5)\n",
    "ax.set_ylim(1e-1, 1e4)\n",
    "ax.set_xscale('log')\n",
    "ax.set_yscale('log')\n",
    "ax.set_xlabel('Energy (eV)')\n",
    "ax.set_ylabel('Cross section(b)')"
   ]
  },
  {
   "cell_type": "markdown",
   "metadata": {},
   "source": [
    "### Exporting HDF5 data\n",
    "\n",
    "If you have an instance `IncidentNeutron` that was created from ACE or HDF5 data, you can easily write it to disk using the `export_to_hdf5()` method. This can be used to convert ACE to HDF5 or to take an existing data set and actually modify cross sections."
   ]
  },
  {
   "cell_type": "code",
   "execution_count": 24,
   "metadata": {
    "collapsed": false
   },
   "outputs": [],
   "source": [
    "gd157.export_to_hdf5('gd157.h5', 'w')"
   ]
  },
  {
   "cell_type": "markdown",
   "metadata": {},
   "source": [
    "With few exceptions, the HDF5 file encodes the same data as the ACE file."
   ]
  },
  {
   "cell_type": "code",
   "execution_count": 25,
   "metadata": {
    "collapsed": false
   },
   "outputs": [
    {
     "data": {
      "text/plain": [
       "True"
      ]
     },
     "execution_count": 25,
     "metadata": {},
     "output_type": "execute_result"
    }
   ],
   "source": [
    "gd157_reconstructed = openmc.data.IncidentNeutron.from_hdf5('gd157.h5')\n",
    "np.all(gd157[16].xs['294K'].y == gd157_reconstructed[16].xs['294K'].y)"
   ]
  },
  {
   "cell_type": "markdown",
   "metadata": {},
   "source": [
    "And one of the best parts of using HDF5 is that it is a widely used format with lots of third-party support. You can use `h5py`, for example, to inspect the data."
   ]
  },
  {
   "cell_type": "code",
   "execution_count": 26,
   "metadata": {
    "collapsed": false
   },
   "outputs": [
    {
     "name": "stdout",
     "output_type": "stream",
     "text": [
      "reaction_002, (n,elastic)\n",
      "reaction_016, (n,2n)\n",
      "reaction_017, (n,3n)\n",
      "reaction_022, (n,na)\n",
      "reaction_024, (n,2na)\n",
      "reaction_028, (n,np)\n",
      "reaction_041, (n,2np)\n",
      "reaction_051, (n,n1)\n",
      "reaction_052, (n,n2)\n",
      "reaction_053, (n,n3)\n"
     ]
    }
   ],
   "source": [
    "h5file = h5py.File('gd157.h5', 'r')\n",
    "main_group = h5file['Gd157/reactions']\n",
    "for name, obj in sorted(list(main_group.items()))[:10]:\n",
    "    if 'reaction_' in name:\n",
    "        print('{}, {}'.format(name, obj.attrs['label'].decode()))"
   ]
  },
  {
   "cell_type": "code",
   "execution_count": 27,
   "metadata": {
    "collapsed": false
   },
   "outputs": [
    {
     "name": "stdout",
     "output_type": "stream",
     "text": [
      "[<HDF5 group \"/Gd157/reactions/reaction_016/294K\" (1 members)>,\n",
      " <HDF5 group \"/Gd157/reactions/reaction_016/product_0\" (2 members)>,\n",
      " <HDF5 group \"/Gd157/reactions/reaction_016/product_1\" (2 members)>]\n"
     ]
    }
   ],
   "source": [
    "n2n_group = main_group['reaction_016']\n",
    "pprint(list(n2n_group.values()))"
   ]
  },
  {
   "cell_type": "markdown",
   "metadata": {},
   "source": [
    "So we see that the hierarchy of data within the HDF5 mirrors the hierarchy of Python objects that we manipulated before."
   ]
  },
  {
   "cell_type": "code",
   "execution_count": 28,
   "metadata": {
    "collapsed": false,
    "scrolled": true
   },
   "outputs": [
    {
     "data": {
      "text/plain": [
       "array([  0.00000000e+00,   3.02679600e-13,   1.29110100e-02,\n",
       "         6.51111000e-02,   3.92627000e-01,   5.75226800e-01,\n",
       "         6.96960000e-01,   7.39937800e-01,   9.63545000e-01,\n",
       "         1.14213000e+00,   1.30802000e+00,   1.46350000e+00,\n",
       "         1.55760000e+00,   1.64055000e+00,   1.68896000e+00,\n",
       "         1.71140000e+00,   1.73945000e+00,   1.78207000e+00,\n",
       "         1.81665000e+00,   1.84528000e+00,   1.86540900e+00,\n",
       "         1.86724000e+00,   1.88155800e+00,   1.88156000e+00,\n",
       "         1.88180000e+00,   1.89447000e+00,   1.86957000e+00,\n",
       "         1.82120000e+00,   1.71600000e+00,   1.60054000e+00,\n",
       "         1.43162000e+00,   1.28346000e+00,   1.10166000e+00,\n",
       "         1.06530000e+00,   9.30730000e-01,   8.02980000e-01,\n",
       "         7.77740000e-01])"
      ]
     },
     "execution_count": 28,
     "metadata": {},
     "output_type": "execute_result"
    }
   ],
   "source": [
    "n2n_group['294K/xs'].value"
   ]
  },
  {
   "cell_type": "markdown",
   "metadata": {},
   "source": [
    "### Working with ENDF files\n",
    "\n",
    "In addition to being able to load ACE and HDF5 data, we can also load ENDF data directly into an `IncidentNeutron` instance using the `from_endf()` factory method. Let's download the ENDF/B-VII.1 evaluation for $^{157}$Gd and load it in:"
   ]
  },
  {
   "cell_type": "code",
   "execution_count": 29,
   "metadata": {
    "collapsed": false
   },
   "outputs": [
    {
     "data": {
      "text/plain": [
       "<IncidentNeutron: Gd157>"
      ]
     },
     "execution_count": 29,
     "metadata": {},
     "output_type": "execute_result"
    }
   ],
   "source": [
    "# Download ENDF file\n",
    "url = 'https://t2.lanl.gov/nis/data/data/ENDFB-VII.1-neutron/Gd/157'\n",
    "filename, headers = urllib.request.urlretrieve(url, 'gd157.endf')\n",
    "\n",
    "# Load into memory\n",
    "gd157_endf = openmc.data.IncidentNeutron.from_endf(filename)\n",
    "gd157_endf"
   ]
  },
  {
   "cell_type": "markdown",
   "metadata": {},
   "source": [
    "Just as before, we can get a reaction by indexing the object directly:"
   ]
  },
  {
   "cell_type": "code",
   "execution_count": 30,
   "metadata": {
    "collapsed": true
   },
   "outputs": [],
   "source": [
    "elastic = gd157_endf[2]"
   ]
  },
  {
   "cell_type": "markdown",
   "metadata": {},
   "source": [
    "However, if we look at the cross section now, we see that it isn't represented as tabulated data anymore."
   ]
  },
  {
   "cell_type": "code",
   "execution_count": 31,
   "metadata": {
    "collapsed": false
   },
   "outputs": [
    {
     "data": {
      "text/plain": [
       "{'0K': <openmc.data.function.ResonancesWithBackground at 0x7ffa91a97c50>}"
      ]
     },
     "execution_count": 31,
     "metadata": {},
     "output_type": "execute_result"
    }
   ],
   "source": [
    "elastic.xs"
   ]
  },
  {
   "cell_type": "markdown",
   "metadata": {},
   "source": [
    "If had [Cython](http://cython.org/) installed when you built/installed OpenMC, you should be able to evaluate resonant cross sections from ENDF data directly, i.e., OpenMC will reconstruct resonances behind the scenes for you."
   ]
  },
  {
   "cell_type": "code",
   "execution_count": 32,
   "metadata": {
    "collapsed": false
   },
   "outputs": [
    {
     "data": {
      "text/plain": [
       "998.78711745214866"
      ]
     },
     "execution_count": 32,
     "metadata": {},
     "output_type": "execute_result"
    }
   ],
   "source": [
    "elastic.xs['0K'](0.0253)"
   ]
  },
  {
   "cell_type": "markdown",
   "metadata": {},
   "source": [
    "When data is loaded from an ENDF file, there is also a special `resonances` attribute that contains resolved and unresolved resonance region data (from MF=2 in an ENDF file)."
   ]
  },
  {
   "cell_type": "code",
   "execution_count": 33,
   "metadata": {
    "collapsed": false
   },
   "outputs": [
    {
     "data": {
      "text/plain": [
       "[<openmc.data.resonance.ReichMoore at 0x7ffa92689a90>,\n",
       " <openmc.data.resonance.Unresolved at 0x7ffa92946710>]"
      ]
     },
     "execution_count": 33,
     "metadata": {},
     "output_type": "execute_result"
    }
   ],
   "source": [
    "gd157_endf.resonances.ranges"
   ]
  },
  {
   "cell_type": "markdown",
   "metadata": {},
   "source": [
    "We see that $^{157}$Gd has a resolved resonance region represented in the Reich-Moore format as well as an unresolved resonance region. We can look at the min/max energy of each region by doing the following:"
   ]
  },
  {
   "cell_type": "code",
   "execution_count": 34,
   "metadata": {
    "collapsed": false
   },
   "outputs": [
    {
     "data": {
      "text/plain": [
       "[(1e-05, 306.6), (306.6, 54881.1)]"
      ]
     },
     "execution_count": 34,
     "metadata": {},
     "output_type": "execute_result"
    }
   ],
   "source": [
    "[(r.energy_min, r.energy_max) for r in gd157_endf.resonances.ranges]"
   ]
  },
  {
   "cell_type": "markdown",
   "metadata": {},
   "source": [
    "With knowledge of the energy bounds, let's create an array of energies over the entire resolved resonance range and plot the elastic scattering cross section."
   ]
  },
  {
   "cell_type": "code",
   "execution_count": 35,
   "metadata": {
    "collapsed": false
   },
   "outputs": [
    {
     "data": {
      "text/plain": [
       "<matplotlib.text.Text at 0x7ffa919b14a8>"
      ]
     },
     "execution_count": 35,
     "metadata": {},
     "output_type": "execute_result"
    },
    {
     "data": {
      "image/png": "[encoded data removed]",
      "text/plain": [
       "<matplotlib.figure.Figure at 0x7ffa91a0be10>"
      ]
     },
     "metadata": {},
     "output_type": "display_data"
    }
   ],
   "source": [
    "# Create log-spaced array of energies\n",
    "resolved = gd157_endf.resonances.resolved\n",
    "energies = np.logspace(np.log10(resolved.energy_min),\n",
    "                       np.log10(resolved.energy_max), 1000)\n",
    "\n",
    "# Evaluate elastic scattering xs at energies\n",
    "xs = elastic.xs['0K'](energies)\n",
    "\n",
    "# Plot cross section vs energies\n",
    "plt.loglog(energies, xs)\n",
    "plt.xlabel('Energy (eV)')\n",
    "plt.ylabel('Cross section (b)')"
   ]
  },
  {
   "cell_type": "markdown",
   "metadata": {},
   "source": [
    "Resonance ranges also have a useful `parameters` attribute that shows the energies and widths for resonances."
   ]
  },
  {
   "cell_type": "code",
   "execution_count": 36,
   "metadata": {
    "collapsed": false
   },
   "outputs": [
    {
     "data": {
      "text/html": [
       "<div>\n",
       "<table border=\"1\" class=\"dataframe\">\n",
       "  <thead>\n",
       "    <tr style=\"text-align: right;\">\n",
       "      <th></th>\n",
       "      <th>energy</th>\n",
       "      <th>L</th>\n",
       "      <th>J</th>\n",
       "      <th>neutronWidth</th>\n",
       "      <th>captureWidth</th>\n",
       "      <th>fissionWidthA</th>\n",
       "      <th>fissionWidthB</th>\n",
       "    </tr>\n",
       "  </thead>\n",
       "  <tbody>\n",
       "    <tr>\n",
       "      <th>0</th>\n",
       "      <td>0.0314</td>\n",
       "      <td>0</td>\n",
       "      <td>2.0</td>\n",
       "      <td>0.000474</td>\n",
       "      <td>0.1072</td>\n",
       "      <td>0.0</td>\n",
       "      <td>0.0</td>\n",
       "    </tr>\n",
       "    <tr>\n",
       "      <th>1</th>\n",
       "      <td>2.8250</td>\n",
       "      <td>0</td>\n",
       "      <td>2.0</td>\n",
       "      <td>0.000345</td>\n",
       "      <td>0.0970</td>\n",
       "      <td>0.0</td>\n",
       "      <td>0.0</td>\n",
       "    </tr>\n",
       "    <tr>\n",
       "      <th>2</th>\n",
       "      <td>16.2400</td>\n",
       "      <td>0</td>\n",
       "      <td>1.0</td>\n",
       "      <td>0.000400</td>\n",
       "      <td>0.0910</td>\n",
       "      <td>0.0</td>\n",
       "      <td>0.0</td>\n",
       "    </tr>\n",
       "    <tr>\n",
       "      <th>3</th>\n",
       "      <td>16.7700</td>\n",
       "      <td>0</td>\n",
       "      <td>2.0</td>\n",
       "      <td>0.012800</td>\n",
       "      <td>0.0805</td>\n",
       "      <td>0.0</td>\n",
       "      <td>0.0</td>\n",
       "    </tr>\n",
       "    <tr>\n",
       "      <th>4</th>\n",
       "      <td>20.5600</td>\n",
       "      <td>0</td>\n",
       "      <td>2.0</td>\n",
       "      <td>0.011360</td>\n",
       "      <td>0.0880</td>\n",
       "      <td>0.0</td>\n",
       "      <td>0.0</td>\n",
       "    </tr>\n",
       "    <tr>\n",
       "      <th>5</th>\n",
       "      <td>21.6500</td>\n",
       "      <td>0</td>\n",
       "      <td>2.0</td>\n",
       "      <td>0.000376</td>\n",
       "      <td>0.1140</td>\n",
       "      <td>0.0</td>\n",
       "      <td>0.0</td>\n",
       "    </tr>\n",
       "    <tr>\n",
       "      <th>6</th>\n",
       "      <td>23.3300</td>\n",
       "      <td>0</td>\n",
       "      <td>1.0</td>\n",
       "      <td>0.000813</td>\n",
       "      <td>0.1210</td>\n",
       "      <td>0.0</td>\n",
       "      <td>0.0</td>\n",
       "    </tr>\n",
       "    <tr>\n",
       "      <th>7</th>\n",
       "      <td>25.4000</td>\n",
       "      <td>0</td>\n",
       "      <td>2.0</td>\n",
       "      <td>0.001840</td>\n",
       "      <td>0.0850</td>\n",
       "      <td>0.0</td>\n",
       "      <td>0.0</td>\n",
       "    </tr>\n",
       "    <tr>\n",
       "      <th>8</th>\n",
       "      <td>40.1700</td>\n",
       "      <td>0</td>\n",
       "      <td>1.0</td>\n",
       "      <td>0.001307</td>\n",
       "      <td>0.1100</td>\n",
       "      <td>0.0</td>\n",
       "      <td>0.0</td>\n",
       "    </tr>\n",
       "    <tr>\n",
       "      <th>9</th>\n",
       "      <td>44.2200</td>\n",
       "      <td>0</td>\n",
       "      <td>2.0</td>\n",
       "      <td>0.008960</td>\n",
       "      <td>0.0960</td>\n",
       "      <td>0.0</td>\n",
       "      <td>0.0</td>\n",
       "    </tr>\n",
       "  </tbody>\n",
       "</table>\n",
       "</div>"
      ],
      "text/plain": [
       "    energy  L    J  neutronWidth  captureWidth  fissionWidthA  fissionWidthB\n",
       "0   0.0314  0  2.0      0.000474        0.1072            0.0            0.0\n",
       "1   2.8250  0  2.0      0.000345        0.0970            0.0            0.0\n",
       "2  16.2400  0  1.0      0.000400        0.0910            0.0            0.0\n",
       "3  16.7700  0  2.0      0.012800        0.0805            0.0            0.0\n",
       "4  20.5600  0  2.0      0.011360        0.0880            0.0            0.0\n",
       "5  21.6500  0  2.0      0.000376        0.1140            0.0            0.0\n",
       "6  23.3300  0  1.0      0.000813        0.1210            0.0            0.0\n",
       "7  25.4000  0  2.0      0.001840        0.0850            0.0            0.0\n",
       "8  40.1700  0  1.0      0.001307        0.1100            0.0            0.0\n",
       "9  44.2200  0  2.0      0.008960        0.0960            0.0            0.0"
      ]
     },
     "execution_count": 36,
     "metadata": {},
     "output_type": "execute_result"
    }
   ],
   "source": [
    "resolved.parameters.head(10)"
   ]
  },
  {
   "cell_type": "markdown",
   "metadata": {},
   "source": [
    "## Heavy-nuclide resonance scattering\n",
    "\n",
    "OpenMC has two methods for accounting for resonance upscattering in heavy nuclides, DBRC and ARES. These methods rely on 0 K elastic scattering data being present. If you have an existing ACE/HDF5 dataset and you need to add 0 K elastic scattering data to it, this can be done using the `IncidentNeutron.add_elastic_0K_from_endf()` method. Let's do this with our original `gd157` object that we instantiated from an ACE file."
   ]
  },
  {
   "cell_type": "code",
   "execution_count": 37,
   "metadata": {
    "collapsed": true
   },
   "outputs": [],
   "source": [
    "gd157.add_elastic_0K_from_endf('gd157.endf')"
   ]
  },
  {
   "cell_type": "markdown",
   "metadata": {},
   "source": [
    "Let's check to make sure that we have both the room temperature elastic scattering cross section as well as a 0K cross section."
   ]
  },
  {
   "cell_type": "code",
   "execution_count": 38,
   "metadata": {
    "collapsed": false
   },
   "outputs": [
    {
     "data": {
      "text/plain": [
       "{'0K': <openmc.data.function.Tabulated1D at 0x7ffa9192abe0>,\n",
       " '294K': <openmc.data.function.Tabulated1D at 0x7ffa96449da0>}"
      ]
     },
     "execution_count": 38,
     "metadata": {},
     "output_type": "execute_result"
    }
   ],
   "source": [
    "gd157[2].xs"
   ]
  },
  {
   "cell_type": "markdown",
   "metadata": {},
   "source": [
    "## Generating data from NJOY\n",
    "\n",
    "To run OpenMC in continuous-energy mode, you generally need to have ACE files already available that can be converted to OpenMC's native HDF5 format. If you don't already have suitable ACE files or need to generate new data, both the `IncidentNeutron` and `ThermalScattering` classes include `from_njoy()` methods that will run [NJOY](https://njoy.github.io/NJOY2016/) to generate ACE files and then read those files to create OpenMC class instances. The `from_njoy()` methods take as input the name of an ENDF file on disk. By default, it is assumed that you have an executable named `njoy` available on your path. This can be configured with the optional `njoy_exec` argument. Additionally, if you want to show the progress of NJOY as it is running, you can pass `stdout=True`.\n",
    "\n",
    "Let's use `IncidentNeutron.from_njoy()` to run NJOY to create data for $^2$H using an ENDF file. We'll specify that we want data specifically at 300, 400, and 500 K."
   ]
  },
  {
   "cell_type": "code",
   "execution_count": 39,
   "metadata": {
    "collapsed": false
   },
   "outputs": [
    {
     "name": "stdout",
     "output_type": "stream",
     "text": [
      "\n",
      " njoy 2016.12  02Apr17                                       05/01/17 12:33:17\n",
      " *****************************************************************************\n",
      "\n",
      " reconr...                                                                0.0s\n",
      "\n",
      " broadr...                                                                0.0s\n",
      "      300.0 deg                                                           0.0s\n",
      "      400.0 deg                                                           0.2s\n",
      "      500.0 deg                                                           0.3s\n",
      "\n",
      " heatr...                                                                 0.4s\n",
      "\n",
      " purr...                                                                  0.6s\n",
      "\n",
      " mat =  128                                                               0.6s\n",
      "\n",
      " ---message from purr---mat  128 has no resonance parameters\n",
      "                          copy as is to nout\n",
      "\n",
      " acer...                                                                  0.6s\n",
      "\n",
      " acer...                                                                  0.7s\n",
      "\n",
      " acer...                                                                  0.8s\n",
      "                                                                          0.8s\n",
      " *****************************************************************************\n"
     ]
    }
   ],
   "source": [
    "# Download ENDF file\n",
    "url = 'https://t2.lanl.gov/nis/data/data/ENDFB-VII.1-neutron/H/2'\n",
    "filename, headers = urllib.request.urlretrieve(url, 'h2.endf')\n",
    "\n",
    "# Run NJOY to create deuterium data\n",
    "h2 = openmc.data.IncidentNeutron.from_njoy('h2.endf', temperatures=[300., 400., 500.], stdout=True)"
   ]
  },
  {
   "cell_type": "markdown",
   "metadata": {},
   "source": [
    "Now we can use our `h2` object just as we did before."
   ]
  },
  {
   "cell_type": "code",
   "execution_count": 40,
   "metadata": {
    "collapsed": false
   },
   "outputs": [
    {
     "data": {
      "text/plain": [
       "{'0K': <openmc.data.function.Tabulated1D at 0x7ffa93130d30>,\n",
       " '300K': <openmc.data.function.Tabulated1D at 0x7ffa919485c0>,\n",
       " '400K': <openmc.data.function.Tabulated1D at 0x7ffa92fcb630>,\n",
       " '500K': <openmc.data.function.Tabulated1D at 0x7ffa91805240>}"
      ]
     },
     "execution_count": 40,
     "metadata": {},
     "output_type": "execute_result"
    }
   ],
   "source": [
    "h2[2].xs"
   ]
  },
  {
   "cell_type": "markdown",
   "metadata": {},
   "source": [
    "Note that 0 K elastic scattering data is automatically added when using `from_njoy()` so that resonance elastic scattering treatments can be used."
   ]
  }
 ],
 "metadata": {
  "anaconda-cloud": {},
  "kernelspec": {
   "display_name": "Python [default]",
   "language": "python",
   "name": "python3"
  },
  "language_info": {
   "codemirror_mode": {
    "name": "ipython",
    "version": 3
   },
   "file_extension": ".py",
   "mimetype": "text/x-python",
   "name": "python",
   "nbconvert_exporter": "python",
   "pygments_lexer": "ipython3",
   "version": "3.5.2"
  }
 },
 "nbformat": 4,
 "nbformat_minor": 0
}
