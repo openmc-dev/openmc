{
 "cells": [
  {
   "cell_type": "markdown",
   "metadata": {},
   "source": [
    "This notebook demonstrates how systematic analysis of tally scores is possible using Pandas dataframes. A dataframe can be automatically generated using the `Tally.get_pandas_dataframe(...)` method. Furthermore, by linking the tally data in a statepoint file with geometry and material information from a summary file, the dataframe can be shown with user-supplied labels."
   ]
  },
  {
   "cell_type": "code",
   "execution_count": 1,
   "metadata": {},
   "outputs": [],
   "source": [
    "import glob\n",
    "\n",
    "from IPython.display import Image\n",
    "import matplotlib.pyplot as plt\n",
    "import scipy.stats\n",
    "import numpy as np\n",
    "import pandas as pd\n",
    "\n",
    "import openmc\n",
    "%matplotlib inline"
   ]
  },
  {
   "cell_type": "markdown",
   "metadata": {},
   "source": [
    "## Generate Input Files"
   ]
  },
  {
   "cell_type": "markdown",
   "metadata": {},
   "source": [
    "First we need to define materials that will be used in the problem. We will create three materials for the fuel, water, and cladding of the fuel pin."
   ]
  },
  {
   "cell_type": "code",
   "execution_count": 2,
   "metadata": {},
   "outputs": [],
   "source": [
    "# 1.6 enriched fuel\n",
    "fuel = openmc.Material(name='1.6% Fuel')\n",
    "fuel.set_density('g/cm3', 10.31341)\n",
    "fuel.add_nuclide('U235', 3.7503e-4)\n",
    "fuel.add_nuclide('U238', 2.2625e-2)\n",
    "fuel.add_nuclide('O16', 4.6007e-2)\n",
    "\n",
    "# borated water\n",
    "water = openmc.Material(name='Borated Water')\n",
    "water.set_density('g/cm3', 0.740582)\n",
    "water.add_nuclide('H1', 4.9457e-2)\n",
    "water.add_nuclide('O16', 2.4732e-2)\n",
    "water.add_nuclide('B10', 8.0042e-6)\n",
    "\n",
    "# zircaloy\n",
    "zircaloy = openmc.Material(name='Zircaloy')\n",
    "zircaloy.set_density('g/cm3', 6.55)\n",
    "zircaloy.add_nuclide('Zr90', 7.2758e-3)"
   ]
  },
  {
   "cell_type": "markdown",
   "metadata": {},
   "source": [
    "With our three materials, we can now create a materials file object that can be exported to an actual XML file."
   ]
  },
  {
   "cell_type": "code",
   "execution_count": 3,
   "metadata": {},
   "outputs": [],
   "source": [
    "# Instantiate a Materials collection\n",
    "materials_file = openmc.Materials([fuel, water, zircaloy])\n",
    "\n",
    "# Export to \"materials.xml\"\n",
    "materials_file.export_to_xml()"
   ]
  },
  {
   "cell_type": "markdown",
   "metadata": {},
   "source": [
    "Now let's move on to the geometry. This problem will be a square array of fuel pins for which we can use OpenMC's lattice/universe feature. The basic universe will have three regions for the fuel, the clad, and the surrounding coolant. The first step is to create the bounding surfaces for fuel and clad, as well as the outer bounding surfaces of the problem."
   ]
  },
  {
   "cell_type": "code",
   "execution_count": 4,
   "metadata": {},
   "outputs": [],
   "source": [
    "# Create cylinders for the fuel and clad\n",
    "fuel_outer_radius = openmc.ZCylinder(x0=0.0, y0=0.0, R=0.39218)\n",
    "clad_outer_radius = openmc.ZCylinder(x0=0.0, y0=0.0, R=0.45720)\n",
    "\n",
    "# Create boundary planes to surround the geometry\n",
    "# Use both reflective and vacuum boundaries to make life interesting\n",
    "min_x = openmc.XPlane(x0=-10.71, boundary_type='reflective')\n",
    "max_x = openmc.XPlane(x0=+10.71, boundary_type='vacuum')\n",
    "min_y = openmc.YPlane(y0=-10.71, boundary_type='vacuum')\n",
    "max_y = openmc.YPlane(y0=+10.71, boundary_type='reflective')\n",
    "min_z = openmc.ZPlane(z0=-10.71, boundary_type='reflective')\n",
    "max_z = openmc.ZPlane(z0=+10.71, boundary_type='reflective')"
   ]
  },
  {
   "cell_type": "markdown",
   "metadata": {},
   "source": [
    "With the surfaces defined, we can now construct a fuel pin cell from cells that are defined by intersections of half-spaces created by the surfaces."
   ]
  },
  {
   "cell_type": "code",
   "execution_count": 5,
   "metadata": {},
   "outputs": [],
   "source": [
    "# Create fuel Cell\n",
    "fuel_cell = openmc.Cell(name='1.6% Fuel', fill=fuel,\n",
    "                        region=-fuel_outer_radius)\n",
    "\n",
    "# Create a clad Cell\n",
    "clad_cell = openmc.Cell(name='1.6% Clad', fill=zircaloy)\n",
    "clad_cell.region = +fuel_outer_radius & -clad_outer_radius\n",
    "\n",
    "# Create a moderator Cell\n",
    "moderator_cell = openmc.Cell(name='1.6% Moderator', fill=water,\n",
    "                             region=+clad_outer_radius)\n",
    "\n",
    "# Create a Universe to encapsulate a fuel pin\n",
    "pin_cell_universe = openmc.Universe(name='1.6% Fuel Pin', cells=[\n",
    "    fuel_cell, clad_cell, moderator_cell\n",
    "])"
   ]
  },
  {
   "cell_type": "markdown",
   "metadata": {},
   "source": [
    "Using the pin cell universe, we can construct a 17x17 rectangular lattice with a 1.26 cm pitch."
   ]
  },
  {
   "cell_type": "code",
   "execution_count": 6,
   "metadata": {},
   "outputs": [],
   "source": [
    "# Create fuel assembly Lattice\n",
    "assembly = openmc.RectLattice(name='1.6% Fuel - 0BA')\n",
    "assembly.pitch = (1.26, 1.26)\n",
    "assembly.lower_left = [-1.26 * 17. / 2.0] * 2\n",
    "assembly.universes = [[pin_cell_universe] * 17] * 17"
   ]
  },
  {
   "cell_type": "markdown",
   "metadata": {},
   "source": [
    "OpenMC requires that there is a \"root\" universe. Let us create a root cell that is filled by the pin cell universe and then assign it to the root universe."
   ]
  },
  {
   "cell_type": "code",
   "execution_count": 7,
   "metadata": {},
   "outputs": [],
   "source": [
    "# Create root Cell\n",
    "root_cell = openmc.Cell(name='root cell', fill=assembly)\n",
    "\n",
    "# Add boundary planes\n",
    "root_cell.region = +min_x & -max_x & +min_y & -max_y & +min_z & -max_z\n",
    "\n",
    "# Create root Universe\n",
    "root_universe = openmc.Universe(name='root universe')\n",
    "root_universe.add_cell(root_cell)"
   ]
  },
  {
   "cell_type": "markdown",
   "metadata": {},
   "source": [
    "We now must create a geometry that is assigned a root universe and export it to XML."
   ]
  },
  {
   "cell_type": "code",
   "execution_count": 8,
   "metadata": {},
   "outputs": [],
   "source": [
    "# Create Geometry and export to \"geometry.xml\"\n",
    "geometry = openmc.Geometry(root_universe)\n",
    "geometry.export_to_xml()"
   ]
  },
  {
   "cell_type": "markdown",
   "metadata": {},
   "source": [
    "With the geometry and materials finished, we now just need to define simulation parameters. In this case, we will use 5 inactive batches and 15 minimum active batches each with 2500 particles. We also tell OpenMC to turn tally triggers on, which means it will keep running until some criterion on the uncertainty of tallies is reached."
   ]
  },
  {
   "cell_type": "code",
   "execution_count": 9,
   "metadata": {},
   "outputs": [],
   "source": [
    "# OpenMC simulation parameters\n",
    "min_batches = 20\n",
    "max_batches = 200\n",
    "inactive = 5\n",
    "particles = 2500\n",
    "\n",
    "# Instantiate a Settings object\n",
    "settings = openmc.Settings()\n",
    "settings.batches = min_batches\n",
    "settings.inactive = inactive\n",
    "settings.particles = particles\n",
    "settings.output = {'tallies': False}\n",
    "settings.trigger_active = True\n",
    "settings.trigger_max_batches = max_batches\n",
    "\n",
    "# Create an initial uniform spatial source distribution over fissionable zones\n",
    "bounds = [-10.71, -10.71, -10, 10.71, 10.71, 10.]\n",
    "uniform_dist = openmc.stats.Box(bounds[:3], bounds[3:], only_fissionable=True)\n",
    "settings.source = openmc.Source(space=uniform_dist)\n",
    "\n",
    "# Export to \"settings.xml\"\n",
    "settings.export_to_xml()"
   ]
  },
  {
   "cell_type": "markdown",
   "metadata": {},
   "source": [
    "Let us also create a plot file that we can use to verify that our pin cell geometry was created successfully."
   ]
  },
  {
   "cell_type": "code",
   "execution_count": 10,
   "metadata": {},
   "outputs": [],
   "source": [
    "# Instantiate a Plot\n",
    "plot = openmc.Plot(plot_id=1)\n",
    "plot.filename = 'materials-xy'\n",
    "plot.origin = [0, 0, 0]\n",
    "plot.width = [21.5, 21.5]\n",
    "plot.pixels = [250, 250]\n",
    "plot.color_by = 'material'\n",
    "\n",
    "# Instantiate a Plots collection and export to \"plots.xml\"\n",
    "plot_file = openmc.Plots([plot])\n",
    "plot_file.export_to_xml()"
   ]
  },
  {
   "cell_type": "markdown",
   "metadata": {},
   "source": [
    "With the plots.xml file, we can now generate and view the plot. OpenMC outputs plots in .ppm format, which can be converted into a compressed format like .png with the convert utility."
   ]
  },
  {
   "cell_type": "code",
   "execution_count": 11,
   "metadata": {},
   "outputs": [],
   "source": [
    "# Run openmc in plotting mode\n",
    "openmc.plot_geometry(output=False)"
   ]
  },
  {
   "cell_type": "code",
   "execution_count": 12,
   "metadata": {},
   "outputs": [
    {
     "data": {
      "image/png": "[encoded data removed]",
      "text/plain": [
       "<IPython.core.display.Image object>"
      ]
     },
     "execution_count": 12,
     "metadata": {},
     "output_type": "execute_result"
    }
   ],
   "source": [
    "# Convert OpenMC's funky ppm to png\n",
    "!convert materials-xy.ppm materials-xy.png\n",
    "\n",
    "# Display the materials plot inline\n",
    "Image(filename='materials-xy.png')"
   ]
  },
  {
   "cell_type": "markdown",
   "metadata": {},
   "source": [
    "As we can see from the plot, we have a nice array of pin cells with fuel, cladding, and water! Before we run our simulation, we need to tell the code what we want to tally. The following code shows how to create a variety of tallies."
   ]
  },
  {
   "cell_type": "code",
   "execution_count": 13,
   "metadata": {},
   "outputs": [],
   "source": [
    "# Instantiate an empty Tallies object\n",
    "tallies = openmc.Tallies()"
   ]
  },
  {
   "cell_type": "markdown",
   "metadata": {},
   "source": [
    "Instantiate a fission rate mesh Tally"
   ]
  },
  {
   "cell_type": "code",
   "execution_count": 14,
   "metadata": {},
   "outputs": [],
   "source": [
    "# Instantiate a tally Mesh\n",
    "mesh = openmc.RegularMesh(mesh_id=1)\n",
    "mesh.dimension = [17, 17]\n",
    "mesh.lower_left = [-10.71, -10.71]\n",
    "mesh.width = [1.26, 1.26]\n",
    "\n",
    "# Instantiate tally Filter\n",
    "mesh_filter = openmc.MeshFilter(mesh)\n",
    "\n",
    "# Instantiate energy Filter\n",
    "energy_filter = openmc.EnergyFilter([0, 0.625, 20.0e6])\n",
    "\n",
    "# Instantiate the Tally\n",
    "tally = openmc.Tally(name='mesh tally')\n",
    "tally.filters = [mesh_filter, energy_filter]\n",
    "tally.scores = ['fission', 'nu-fission']\n",
    "\n",
    "# Add mesh and Tally to Tallies\n",
    "tallies.append(tally)"
   ]
  },
  {
   "cell_type": "markdown",
   "metadata": {},
   "source": [
    "Instantiate a cell Tally with nuclides"
   ]
  },
  {
   "cell_type": "code",
   "execution_count": 15,
   "metadata": {},
   "outputs": [],
   "source": [
    "# Instantiate tally Filter\n",
    "cell_filter = openmc.CellFilter(fuel_cell)\n",
    "\n",
    "# Instantiate the tally\n",
    "tally = openmc.Tally(name='cell tally')\n",
    "tally.filters = [cell_filter]\n",
    "tally.scores = ['scatter']\n",
    "tally.nuclides = ['U235', 'U238']\n",
    "\n",
    "# Add mesh and tally to Tallies\n",
    "tallies.append(tally)"
   ]
  },
  {
   "cell_type": "markdown",
   "metadata": {},
   "source": [
    "Create a \"distribcell\" Tally. The distribcell filter allows us to tally multiple repeated instances of the same cell throughout the geometry."
   ]
  },
  {
   "cell_type": "code",
   "execution_count": 16,
   "metadata": {},
   "outputs": [],
   "source": [
    "# Instantiate tally Filter\n",
    "distribcell_filter = openmc.DistribcellFilter(moderator_cell)\n",
    "\n",
    "# Instantiate tally Trigger for kicks\n",
    "trigger = openmc.Trigger(trigger_type='std_dev', threshold=5e-5)\n",
    "trigger.scores = ['absorption']\n",
    "\n",
    "# Instantiate the Tally\n",
    "tally = openmc.Tally(name='distribcell tally')\n",
    "tally.filters = [distribcell_filter]\n",
    "tally.scores = ['absorption', 'scatter']\n",
    "tally.triggers = [trigger]\n",
    "\n",
    "# Add mesh and tally to Tallies\n",
    "tallies.append(tally)"
   ]
  },
  {
   "cell_type": "code",
   "execution_count": 17,
   "metadata": {},
   "outputs": [],
   "source": [
    "# Export to \"tallies.xml\"\n",
    "tallies.export_to_xml()"
   ]
  },
  {
   "cell_type": "markdown",
   "metadata": {},
   "source": [
    "Now we a have a complete set of inputs, so we can go ahead and run our simulation."
   ]
  },
  {
   "cell_type": "code",
   "execution_count": 18,
   "metadata": {},
   "outputs": [
    {
     "name": "stdout",
     "output_type": "stream",
     "text": [
      "\n",
      "                               %%%%%%%%%%%%%%%\n",
      "                          %%%%%%%%%%%%%%%%%%%%%%%%\n",
      "                       %%%%%%%%%%%%%%%%%%%%%%%%%%%%%%\n",
      "                     %%%%%%%%%%%%%%%%%%%%%%%%%%%%%%%%%%\n",
      "                   %%%%%%%%%%%%%%%%%%%%%%%%%%%%%%%%%%%%%%\n",
      "                  %%%%%%%%%%%%%%%%%%%%%%%%%%%%%%%%%%%%%%%%\n",
      "                                   %%%%%%%%%%%%%%%%%%%%%%%%\n",
      "                                    %%%%%%%%%%%%%%%%%%%%%%%%\n",
      "                ###############      %%%%%%%%%%%%%%%%%%%%%%%%\n",
      "               ##################     %%%%%%%%%%%%%%%%%%%%%%%\n",
      "               ###################     %%%%%%%%%%%%%%%%%%%%%%%\n",
      "               ####################     %%%%%%%%%%%%%%%%%%%%%%\n",
      "               #####################     %%%%%%%%%%%%%%%%%%%%%\n",
      "               ######################     %%%%%%%%%%%%%%%%%%%%\n",
      "               #######################     %%%%%%%%%%%%%%%%%%\n",
      "                #######################     %%%%%%%%%%%%%%%%%\n",
      "                ######################     %%%%%%%%%%%%%%%%%\n",
      "                 ####################     %%%%%%%%%%%%%%%%%\n",
      "                   #################     %%%%%%%%%%%%%%%%%\n",
      "                    ###############     %%%%%%%%%%%%%%%%\n",
      "                      ############     %%%%%%%%%%%%%%%\n",
      "                         ########     %%%%%%%%%%%%%%\n",
      "                                     %%%%%%%%%%%\n",
      "\n",
      "                   | The OpenMC Monte Carlo Code\n",
      "         Copyright | 2011-2018 MIT and OpenMC contributors\n",
      "           License | http://openmc.readthedocs.io/en/latest/license.html\n",
      "           Version | 0.10.0\n",
      "          Git SHA1 | 199126b2fcc5cb094f2cc820ae13e1a972cacddd\n",
      "         Date/Time | 2018-10-11 16:41:25\n",
      "    OpenMP Threads | 8\n",
      "\n",
      " Reading settings XML file...\n",
      " Reading cross sections XML file...\n",
      " Reading materials XML file...\n",
      " Reading geometry XML file...\n",
      " Building neighboring cells lists for each surface...\n",
      " Reading U235 from /home/jan/openmc/nndc_hdf5/U235.h5\n",
      " Reading U238 from /home/jan/openmc/nndc_hdf5/U238.h5\n",
      " Reading O16 from /home/jan/openmc/nndc_hdf5/O16.h5\n",
      " Reading H1 from /home/jan/openmc/nndc_hdf5/H1.h5\n",
      " Reading B10 from /home/jan/openmc/nndc_hdf5/B10.h5\n",
      " Reading Zr90 from /home/jan/openmc/nndc_hdf5/Zr90.h5\n",
      " Maximum neutron transport energy: 2.00000E+07 eV for U235\n",
      " Reading tallies XML file...\n",
      " Writing summary.h5 file...\n",
      " Initializing source particles...\n",
      "\n",
      " ====================>     K EIGENVALUE SIMULATION     <====================\n",
      "\n",
      "  Bat./Gen.      k            Average k         \n",
      "  =========   ========   ====================   \n",
      "        1/1    0.55921                       \n",
      "        2/1    0.63816                       \n",
      "        3/1    0.68834                       \n",
      "        4/1    0.71192                       \n",
      "        5/1    0.67935                       \n",
      "        6/1    0.68254                       \n",
      "        7/1    0.65804    0.67029 +/- 0.01225\n",
      "        8/1    0.66225    0.66761 +/- 0.00756\n",
      "        9/1    0.66336    0.66655 +/- 0.00545\n",
      "       10/1    0.68037    0.66931 +/- 0.00505\n",
      "       11/1    0.71728    0.67731 +/- 0.00899\n",
      "       12/1    0.66098    0.67498 +/- 0.00795\n",
      "       13/1    0.69969    0.67806 +/- 0.00755\n",
      "       14/1    0.70998    0.68161 +/- 0.00754\n",
      "       15/1    0.70092    0.68354 +/- 0.00702\n",
      "       16/1    0.71586    0.68648 +/- 0.00699\n",
      "       17/1    0.65949    0.68423 +/- 0.00677\n",
      "       18/1    0.67696    0.68367 +/- 0.00625\n",
      "       19/1    0.65444    0.68158 +/- 0.00615\n",
      "       20/1    0.69766    0.68266 +/- 0.00583\n",
      " Triggers unsatisfied, max unc./thresh. is 1.17617 for absorption in tally 3\n",
      " The estimated number of batches is 26\n",
      " Creating state point statepoint.020.h5...\n",
      "       21/1    0.64126    0.68007 +/- 0.00603\n",
      "       22/1    0.69287    0.68082 +/- 0.00572\n",
      "       23/1    0.70254    0.68203 +/- 0.00552\n",
      "       24/1    0.68198    0.68203 +/- 0.00523\n",
      "       25/1    0.67214    0.68153 +/- 0.00498\n",
      "       26/1    0.68171    0.68154 +/- 0.00474\n",
      " Triggers satisfied for batch 26\n",
      " Creating state point statepoint.026.h5...\n",
      "\n",
      " =======================>     TIMING STATISTICS     <=======================\n",
      "\n",
      " Total time for initialization     =  6.5303E-01 seconds\n",
      "   Reading cross sections          =  5.8105E-01 seconds\n",
      " Total time in simulation          =  4.6015E+00 seconds\n",
      "   Time in transport only          =  3.5767E+00 seconds\n",
      "   Time in inactive batches        =  4.5008E-01 seconds\n",
      "   Time in active batches          =  4.1514E+00 seconds\n",
      "   Time synchronizing fission bank =  2.3493E-03 seconds\n",
      "     Sampling source sites         =  1.7160E-03 seconds\n",
      "     SEND/RECV source sites        =  4.7010E-04 seconds\n",
      "   Time accumulating tallies       =  2.3040E-04 seconds\n",
      " Total time for finalization       =  2.6451E-02 seconds\n",
      " Total time elapsed                =  5.3123E+00 seconds\n",
      " Calculation Rate (inactive)       =  27772.9 particles/second\n",
      " Calculation Rate (active)         =  12646.3 particles/second\n",
      "\n",
      " ============================>     RESULTS     <============================\n",
      "\n",
      " k-effective (Collision)     =  0.67976 +/-  0.00436\n",
      " k-effective (Track-length)  =  0.68154 +/-  0.00474\n",
      " k-effective (Absorption)    =  0.68320 +/-  0.00518\n",
      " Combined k-effective        =  0.68122 +/-  0.00432\n",
      " Leakage Fraction            =  0.34011 +/-  0.00283\n",
      "\n"
     ]
    }
   ],
   "source": [
    "# Remove old HDF5 (summary, statepoint) files\n",
    "!rm statepoint.*\n",
    "\n",
    "# Run OpenMC!\n",
    "openmc.run()"
   ]
  },
  {
   "cell_type": "markdown",
   "metadata": {},
   "source": [
    "## Tally Data Processing"
   ]
  },
  {
   "cell_type": "code",
   "execution_count": 19,
   "metadata": {},
   "outputs": [],
   "source": [
    "# We do not know how many batches were needed to satisfy the \n",
    "# tally trigger(s), so find the statepoint file(s)\n",
    "statepoints = glob.glob('statepoint.*.h5')\n",
    "\n",
    "# Load the last statepoint file\n",
    "sp = openmc.StatePoint(statepoints[-1])"
   ]
  },
  {
   "cell_type": "markdown",
   "metadata": {},
   "source": [
    "**Analyze the mesh fission rate tally**"
   ]
  },
  {
   "cell_type": "code",
   "execution_count": 20,
   "metadata": {},
   "outputs": [
    {
     "name": "stdout",
     "output_type": "stream",
     "text": [
      "Tally\n",
      "\tID             =\t1\n",
      "\tName           =\tmesh tally\n",
      "\tFilters        =\tMeshFilter, EnergyFilter\n",
      "\tNuclides       =\ttotal \n",
      "\tScores         =\t['fission', 'nu-fission']\n",
      "\tEstimator      =\ttracklength\n",
      "\n"
     ]
    }
   ],
   "source": [
    "# Find the mesh tally with the StatePoint API\n",
    "tally = sp.get_tally(name='mesh tally')\n",
    "\n",
    "# Print a little info about the mesh tally to the screen\n",
    "print(tally)"
   ]
  },
  {
   "cell_type": "markdown",
   "metadata": {},
   "source": [
    "Use the new Tally data retrieval API with pure NumPy"
   ]
  },
  {
   "cell_type": "code",
   "execution_count": 21,
   "metadata": {},
   "outputs": [
    {
     "name": "stdout",
     "output_type": "stream",
     "text": [
      "[[[0.17581417]]\n",
      "\n",
      " [[0.06842901]]\n",
      "\n",
      " [[0.30578219]]\n",
      "\n",
      " [[0.12436752]]]\n"
     ]
    }
   ],
   "source": [
    "# Get the relative error for the thermal fission reaction \n",
    "# rates in the four corner pins \n",
    "data = tally.get_values(scores=['fission'],\n",
    "                        filters=[openmc.MeshFilter, openmc.EnergyFilter], \\\n",
    "                        filter_bins=[((1,1),(1,17), (17,1), (17,17)), \\\n",
    "                                    ((0., 0.625),)], value='rel_err')\n",
    "print(data)"
   ]
  },
  {
   "cell_type": "code",
   "execution_count": 22,
   "metadata": {},
   "outputs": [
    {
     "data": {
      "text/html": [
       "<div>\n",
       "<style scoped>\n",
       "    .dataframe tbody tr th:only-of-type {\n",
       "        vertical-align: middle;\n",
       "    }\n",
       "\n",
       "    .dataframe tbody tr th {\n",
       "        vertical-align: top;\n",
       "    }\n",
       "\n",
       "    .dataframe thead tr th {\n",
       "        text-align: left;\n",
       "    }\n",
       "</style>\n",
       "<table border=\"1\" class=\"dataframe\">\n",
       "  <thead>\n",
       "    <tr>\n",
       "      <th></th>\n",
       "      <th colspan=\"3\" halign=\"left\">mesh 1</th>\n",
       "      <th>energy low [eV]</th>\n",
       "      <th>energy high [eV]</th>\n",
       "      <th>score</th>\n",
       "      <th>mean</th>\n",
       "      <th>std. dev.</th>\n",
       "    </tr>\n",
       "    <tr>\n",
       "      <th></th>\n",
       "      <th>x</th>\n",
       "      <th>y</th>\n",
       "      <th>z</th>\n",
       "      <th></th>\n",
       "      <th></th>\n",
       "      <th></th>\n",
       "      <th></th>\n",
       "      <th></th>\n",
       "    </tr>\n",
       "  </thead>\n",
       "  <tbody>\n",
       "    <tr>\n",
       "      <th>0</th>\n",
       "      <td>1</td>\n",
       "      <td>1</td>\n",
       "      <td>1</td>\n",
       "      <td>0.00e+00</td>\n",
       "      <td>6.25e-01</td>\n",
       "      <td>fission</td>\n",
       "      <td>2.24e-04</td>\n",
       "      <td>3.94e-05</td>\n",
       "    </tr>\n",
       "    <tr>\n",
       "      <th>1</th>\n",
       "      <td>1</td>\n",
       "      <td>1</td>\n",
       "      <td>1</td>\n",
       "      <td>0.00e+00</td>\n",
       "      <td>6.25e-01</td>\n",
       "      <td>nu-fission</td>\n",
       "      <td>5.46e-04</td>\n",
       "      <td>9.59e-05</td>\n",
       "    </tr>\n",
       "    <tr>\n",
       "      <th>2</th>\n",
       "      <td>1</td>\n",
       "      <td>1</td>\n",
       "      <td>1</td>\n",
       "      <td>6.25e-01</td>\n",
       "      <td>2.00e+07</td>\n",
       "      <td>fission</td>\n",
       "      <td>8.42e-05</td>\n",
       "      <td>6.79e-06</td>\n",
       "    </tr>\n",
       "    <tr>\n",
       "      <th>3</th>\n",
       "      <td>1</td>\n",
       "      <td>1</td>\n",
       "      <td>1</td>\n",
       "      <td>6.25e-01</td>\n",
       "      <td>2.00e+07</td>\n",
       "      <td>nu-fission</td>\n",
       "      <td>2.22e-04</td>\n",
       "      <td>1.65e-05</td>\n",
       "    </tr>\n",
       "    <tr>\n",
       "      <th>4</th>\n",
       "      <td>2</td>\n",
       "      <td>1</td>\n",
       "      <td>1</td>\n",
       "      <td>0.00e+00</td>\n",
       "      <td>6.25e-01</td>\n",
       "      <td>fission</td>\n",
       "      <td>1.85e-04</td>\n",
       "      <td>2.70e-05</td>\n",
       "    </tr>\n",
       "    <tr>\n",
       "      <th>5</th>\n",
       "      <td>2</td>\n",
       "      <td>1</td>\n",
       "      <td>1</td>\n",
       "      <td>0.00e+00</td>\n",
       "      <td>6.25e-01</td>\n",
       "      <td>nu-fission</td>\n",
       "      <td>4.52e-04</td>\n",
       "      <td>6.58e-05</td>\n",
       "    </tr>\n",
       "    <tr>\n",
       "      <th>6</th>\n",
       "      <td>2</td>\n",
       "      <td>1</td>\n",
       "      <td>1</td>\n",
       "      <td>6.25e-01</td>\n",
       "      <td>2.00e+07</td>\n",
       "      <td>fission</td>\n",
       "      <td>6.82e-05</td>\n",
       "      <td>5.29e-06</td>\n",
       "    </tr>\n",
       "    <tr>\n",
       "      <th>7</th>\n",
       "      <td>2</td>\n",
       "      <td>1</td>\n",
       "      <td>1</td>\n",
       "      <td>6.25e-01</td>\n",
       "      <td>2.00e+07</td>\n",
       "      <td>nu-fission</td>\n",
       "      <td>1.81e-04</td>\n",
       "      <td>1.35e-05</td>\n",
       "    </tr>\n",
       "    <tr>\n",
       "      <th>8</th>\n",
       "      <td>3</td>\n",
       "      <td>1</td>\n",
       "      <td>1</td>\n",
       "      <td>0.00e+00</td>\n",
       "      <td>6.25e-01</td>\n",
       "      <td>fission</td>\n",
       "      <td>2.05e-04</td>\n",
       "      <td>2.25e-05</td>\n",
       "    </tr>\n",
       "    <tr>\n",
       "      <th>9</th>\n",
       "      <td>3</td>\n",
       "      <td>1</td>\n",
       "      <td>1</td>\n",
       "      <td>0.00e+00</td>\n",
       "      <td>6.25e-01</td>\n",
       "      <td>nu-fission</td>\n",
       "      <td>5.00e-04</td>\n",
       "      <td>5.49e-05</td>\n",
       "    </tr>\n",
       "    <tr>\n",
       "      <th>10</th>\n",
       "      <td>3</td>\n",
       "      <td>1</td>\n",
       "      <td>1</td>\n",
       "      <td>6.25e-01</td>\n",
       "      <td>2.00e+07</td>\n",
       "      <td>fission</td>\n",
       "      <td>7.53e-05</td>\n",
       "      <td>7.06e-06</td>\n",
       "    </tr>\n",
       "    <tr>\n",
       "      <th>11</th>\n",
       "      <td>3</td>\n",
       "      <td>1</td>\n",
       "      <td>1</td>\n",
       "      <td>6.25e-01</td>\n",
       "      <td>2.00e+07</td>\n",
       "      <td>nu-fission</td>\n",
       "      <td>1.99e-04</td>\n",
       "      <td>1.81e-05</td>\n",
       "    </tr>\n",
       "    <tr>\n",
       "      <th>12</th>\n",
       "      <td>4</td>\n",
       "      <td>1</td>\n",
       "      <td>1</td>\n",
       "      <td>0.00e+00</td>\n",
       "      <td>6.25e-01</td>\n",
       "      <td>fission</td>\n",
       "      <td>2.06e-04</td>\n",
       "      <td>2.79e-05</td>\n",
       "    </tr>\n",
       "    <tr>\n",
       "      <th>13</th>\n",
       "      <td>4</td>\n",
       "      <td>1</td>\n",
       "      <td>1</td>\n",
       "      <td>0.00e+00</td>\n",
       "      <td>6.25e-01</td>\n",
       "      <td>nu-fission</td>\n",
       "      <td>5.03e-04</td>\n",
       "      <td>6.80e-05</td>\n",
       "    </tr>\n",
       "    <tr>\n",
       "      <th>14</th>\n",
       "      <td>4</td>\n",
       "      <td>1</td>\n",
       "      <td>1</td>\n",
       "      <td>6.25e-01</td>\n",
       "      <td>2.00e+07</td>\n",
       "      <td>fission</td>\n",
       "      <td>6.65e-05</td>\n",
       "      <td>3.91e-06</td>\n",
       "    </tr>\n",
       "    <tr>\n",
       "      <th>15</th>\n",
       "      <td>4</td>\n",
       "      <td>1</td>\n",
       "      <td>1</td>\n",
       "      <td>6.25e-01</td>\n",
       "      <td>2.00e+07</td>\n",
       "      <td>nu-fission</td>\n",
       "      <td>1.75e-04</td>\n",
       "      <td>1.04e-05</td>\n",
       "    </tr>\n",
       "    <tr>\n",
       "      <th>16</th>\n",
       "      <td>5</td>\n",
       "      <td>1</td>\n",
       "      <td>1</td>\n",
       "      <td>0.00e+00</td>\n",
       "      <td>6.25e-01</td>\n",
       "      <td>fission</td>\n",
       "      <td>2.03e-04</td>\n",
       "      <td>2.78e-05</td>\n",
       "    </tr>\n",
       "    <tr>\n",
       "      <th>17</th>\n",
       "      <td>5</td>\n",
       "      <td>1</td>\n",
       "      <td>1</td>\n",
       "      <td>0.00e+00</td>\n",
       "      <td>6.25e-01</td>\n",
       "      <td>nu-fission</td>\n",
       "      <td>4.94e-04</td>\n",
       "      <td>6.78e-05</td>\n",
       "    </tr>\n",
       "    <tr>\n",
       "      <th>18</th>\n",
       "      <td>5</td>\n",
       "      <td>1</td>\n",
       "      <td>1</td>\n",
       "      <td>6.25e-01</td>\n",
       "      <td>2.00e+07</td>\n",
       "      <td>fission</td>\n",
       "      <td>6.26e-05</td>\n",
       "      <td>5.71e-06</td>\n",
       "    </tr>\n",
       "    <tr>\n",
       "      <th>19</th>\n",
       "      <td>5</td>\n",
       "      <td>1</td>\n",
       "      <td>1</td>\n",
       "      <td>6.25e-01</td>\n",
       "      <td>2.00e+07</td>\n",
       "      <td>nu-fission</td>\n",
       "      <td>1.64e-04</td>\n",
       "      <td>1.53e-05</td>\n",
       "    </tr>\n",
       "  </tbody>\n",
       "</table>\n",
       "</div>"
      ],
      "text/plain": [
       "   mesh 1       energy low [eV] energy high [eV]       score     mean  \\\n",
       "        x  y  z                                                         \n",
       "0       1  1  1        0.00e+00         6.25e-01     fission 2.24e-04   \n",
       "1       1  1  1        0.00e+00         6.25e-01  nu-fission 5.46e-04   \n",
       "2       1  1  1        6.25e-01         2.00e+07     fission 8.42e-05   \n",
       "3       1  1  1        6.25e-01         2.00e+07  nu-fission 2.22e-04   \n",
       "4       2  1  1        0.00e+00         6.25e-01     fission 1.85e-04   \n",
       "5       2  1  1        0.00e+00         6.25e-01  nu-fission 4.52e-04   \n",
       "6       2  1  1        6.25e-01         2.00e+07     fission 6.82e-05   \n",
       "7       2  1  1        6.25e-01         2.00e+07  nu-fission 1.81e-04   \n",
       "8       3  1  1        0.00e+00         6.25e-01     fission 2.05e-04   \n",
       "9       3  1  1        0.00e+00         6.25e-01  nu-fission 5.00e-04   \n",
       "10      3  1  1        6.25e-01         2.00e+07     fission 7.53e-05   \n",
       "11      3  1  1        6.25e-01         2.00e+07  nu-fission 1.99e-04   \n",
       "12      4  1  1        0.00e+00         6.25e-01     fission 2.06e-04   \n",
       "13      4  1  1        0.00e+00         6.25e-01  nu-fission 5.03e-04   \n",
       "14      4  1  1        6.25e-01         2.00e+07     fission 6.65e-05   \n",
       "15      4  1  1        6.25e-01         2.00e+07  nu-fission 1.75e-04   \n",
       "16      5  1  1        0.00e+00         6.25e-01     fission 2.03e-04   \n",
       "17      5  1  1        0.00e+00         6.25e-01  nu-fission 4.94e-04   \n",
       "18      5  1  1        6.25e-01         2.00e+07     fission 6.26e-05   \n",
       "19      5  1  1        6.25e-01         2.00e+07  nu-fission 1.64e-04   \n",
       "\n",
       "   std. dev.  \n",
       "              \n",
       "0   3.94e-05  \n",
       "1   9.59e-05  \n",
       "2   6.79e-06  \n",
       "3   1.65e-05  \n",
       "4   2.70e-05  \n",
       "5   6.58e-05  \n",
       "6   5.29e-06  \n",
       "7   1.35e-05  \n",
       "8   2.25e-05  \n",
       "9   5.49e-05  \n",
       "10  7.06e-06  \n",
       "11  1.81e-05  \n",
       "12  2.79e-05  \n",
       "13  6.80e-05  \n",
       "14  3.91e-06  \n",
       "15  1.04e-05  \n",
       "16  2.78e-05  \n",
       "17  6.78e-05  \n",
       "18  5.71e-06  \n",
       "19  1.53e-05  "
      ]
     },
     "execution_count": 22,
     "metadata": {},
     "output_type": "execute_result"
    }
   ],
   "source": [
    "# Get a pandas dataframe for the mesh tally data\n",
    "df = tally.get_pandas_dataframe(nuclides=False)\n",
    "\n",
    "# Set the Pandas float display settings\n",
    "pd.options.display.float_format = '{:.2e}'.format\n",
    "\n",
    "# Print the first twenty rows in the dataframe\n",
    "df.head(20)"
   ]
  },
  {
   "cell_type": "code",
   "execution_count": 23,
   "metadata": {},
   "outputs": [
    {
     "data": {
      "image/png": "[encoded data removed]",
      "text/plain": [
       "<Figure size 432x288 with 1 Axes>"
      ]
     },
     "metadata": {
      "needs_background": "light"
     },
     "output_type": "display_data"
    }
   ],
   "source": [
    "# Create a boxplot to view the distribution of\n",
    "# fission and nu-fission rates in the pins\n",
    "bp = df.boxplot(column='mean', by='score')"
   ]
  },
  {
   "cell_type": "code",
   "execution_count": 24,
   "metadata": {},
   "outputs": [
    {
     "data": {
      "text/plain": [
       "<matplotlib.colorbar.Colorbar at 0x7f39196c0b00>"
      ]
     },
     "execution_count": 24,
     "metadata": {},
     "output_type": "execute_result"
    },
    {
     "data": {
      "image/png": "[encoded data removed]",
      "text/plain": [
       "<Figure size 432x288 with 2 Axes>"
      ]
     },
     "metadata": {
      "needs_background": "light"
     },
     "output_type": "display_data"
    }
   ],
   "source": [
    "# Extract thermal nu-fission rates from pandas\n",
    "fiss = df[df['score'] == 'nu-fission']\n",
    "fiss = fiss[fiss['energy low [eV]'] == 0.0]\n",
    "\n",
    "# Extract mean and reshape as 2D NumPy arrays\n",
    "mean = fiss['mean'].values.reshape((17,17))\n",
    "\n",
    "plt.imshow(mean, interpolation='nearest')\n",
    "plt.title('fission rate')\n",
    "plt.xlabel('x')\n",
    "plt.ylabel('y')\n",
    "plt.colorbar()"
   ]
  },
  {
   "cell_type": "markdown",
   "metadata": {},
   "source": [
    "**Analyze the cell+nuclides scatter-y2 rate tally**"
   ]
  },
  {
   "cell_type": "code",
   "execution_count": 25,
   "metadata": {},
   "outputs": [
    {
     "name": "stdout",
     "output_type": "stream",
     "text": [
      "Tally\n",
      "\tID             =\t2\n",
      "\tName           =\tcell tally\n",
      "\tFilters        =\tCellFilter\n",
      "\tNuclides       =\tU235 U238 \n",
      "\tScores         =\t['scatter']\n",
      "\tEstimator      =\ttracklength\n",
      "\n"
     ]
    }
   ],
   "source": [
    "# Find the cell Tally with the StatePoint API\n",
    "tally = sp.get_tally(name='cell tally')\n",
    "\n",
    "# Print a little info about the cell tally to the screen\n",
    "print(tally)"
   ]
  },
  {
   "cell_type": "code",
   "execution_count": 26,
   "metadata": {},
   "outputs": [
    {
     "data": {
      "text/html": [
       "<div>\n",
       "<style scoped>\n",
       "    .dataframe tbody tr th:only-of-type {\n",
       "        vertical-align: middle;\n",
       "    }\n",
       "\n",
       "    .dataframe tbody tr th {\n",
       "        vertical-align: top;\n",
       "    }\n",
       "\n",
       "    .dataframe thead th {\n",
       "        text-align: right;\n",
       "    }\n",
       "</style>\n",
       "<table border=\"1\" class=\"dataframe\">\n",
       "  <thead>\n",
       "    <tr style=\"text-align: right;\">\n",
       "      <th></th>\n",
       "      <th>cell</th>\n",
       "      <th>nuclide</th>\n",
       "      <th>score</th>\n",
       "      <th>mean</th>\n",
       "      <th>std. dev.</th>\n",
       "    </tr>\n",
       "  </thead>\n",
       "  <tbody>\n",
       "    <tr>\n",
       "      <th>0</th>\n",
       "      <td>1</td>\n",
       "      <td>U235</td>\n",
       "      <td>scatter</td>\n",
       "      <td>3.81e-02</td>\n",
       "      <td>1.65e-04</td>\n",
       "    </tr>\n",
       "    <tr>\n",
       "      <th>1</th>\n",
       "      <td>1</td>\n",
       "      <td>U238</td>\n",
       "      <td>scatter</td>\n",
       "      <td>2.33e+00</td>\n",
       "      <td>9.59e-03</td>\n",
       "    </tr>\n",
       "  </tbody>\n",
       "</table>\n",
       "</div>"
      ],
      "text/plain": [
       "   cell nuclide    score     mean  std. dev.\n",
       "0     1    U235  scatter 3.81e-02   1.65e-04\n",
       "1     1    U238  scatter 2.33e+00   9.59e-03"
      ]
     },
     "execution_count": 26,
     "metadata": {},
     "output_type": "execute_result"
    }
   ],
   "source": [
    "# Get a pandas dataframe for the cell tally data\n",
    "df = tally.get_pandas_dataframe()\n",
    "\n",
    "# Print the first twenty rows in the dataframe\n",
    "df.head(20)"
   ]
  },
  {
   "cell_type": "markdown",
   "metadata": {},
   "source": [
    "Use the new Tally data retrieval API with pure NumPy"
   ]
  },
  {
   "cell_type": "code",
   "execution_count": 27,
   "metadata": {},
   "outputs": [
    {
     "name": "stdout",
     "output_type": "stream",
     "text": [
      "[[[0.00958717]\n",
      "  [0.00016469]]]\n"
     ]
    }
   ],
   "source": [
    "# Get the standard deviations the total scattering rate\n",
    "data = tally.get_values(scores=['scatter'], \n",
    "                        nuclides=['U238', 'U235'], value='std_dev')\n",
    "print(data)"
   ]
  },
  {
   "cell_type": "markdown",
   "metadata": {},
   "source": [
    "**Analyze the distribcell tally**"
   ]
  },
  {
   "cell_type": "code",
   "execution_count": 28,
   "metadata": {},
   "outputs": [
    {
     "name": "stdout",
     "output_type": "stream",
     "text": [
      "Tally\n",
      "\tID             =\t3\n",
      "\tName           =\tdistribcell tally\n",
      "\tFilters        =\tDistribcellFilter\n",
      "\tNuclides       =\ttotal \n",
      "\tScores         =\t['absorption', 'scatter']\n",
      "\tEstimator      =\ttracklength\n",
      "\n"
     ]
    }
   ],
   "source": [
    "# Find the distribcell Tally with the StatePoint API\n",
    "tally = sp.get_tally(name='distribcell tally')\n",
    "\n",
    "# Print a little info about the distribcell tally to the screen\n",
    "print(tally)"
   ]
  },
  {
   "cell_type": "markdown",
   "metadata": {},
   "source": [
    "Use the new Tally data retrieval API with pure NumPy"
   ]
  },
  {
   "cell_type": "code",
   "execution_count": 29,
   "metadata": {},
   "outputs": [
    {
     "name": "stdout",
     "output_type": "stream",
     "text": [
      "[[[0.03500496]]\n",
      "\n",
      " [[0.02745568]]\n",
      "\n",
      " [[0.02988488]]\n",
      "\n",
      " [[0.04474905]]\n",
      "\n",
      " [[0.03697764]]\n",
      "\n",
      " [[0.0409214 ]]\n",
      "\n",
      " [[0.03366461]]\n",
      "\n",
      " [[0.03210393]]\n",
      "\n",
      " [[0.03216398]]\n",
      "\n",
      " [[0.04003553]]]\n"
     ]
    }
   ],
   "source": [
    "# Get the relative error for the scattering reaction rates in\n",
    "# the first 10 distribcell instances \n",
    "data = tally.get_values(scores=['scatter'], filters=[openmc.DistribcellFilter],\n",
    "                        filter_bins=[tuple(range(10))], value='rel_err')\n",
    "print(data)"
   ]
  },
  {
   "cell_type": "markdown",
   "metadata": {},
   "source": [
    "Print the distribcell tally dataframe"
   ]
  },
  {
   "cell_type": "code",
   "execution_count": 30,
   "metadata": {},
   "outputs": [
    {
     "data": {
      "text/html": [
       "<div>\n",
       "<style scoped>\n",
       "    .dataframe tbody tr th:only-of-type {\n",
       "        vertical-align: middle;\n",
       "    }\n",
       "\n",
       "    .dataframe tbody tr th {\n",
       "        vertical-align: top;\n",
       "    }\n",
       "\n",
       "    .dataframe thead tr th {\n",
       "        text-align: left;\n",
       "    }\n",
       "</style>\n",
       "<table border=\"1\" class=\"dataframe\">\n",
       "  <thead>\n",
       "    <tr>\n",
       "      <th></th>\n",
       "      <th colspan=\"2\" halign=\"left\">level 1</th>\n",
       "      <th colspan=\"3\" halign=\"left\">level 2</th>\n",
       "      <th colspan=\"2\" halign=\"left\">level 3</th>\n",
       "      <th>distribcell</th>\n",
       "      <th>score</th>\n",
       "      <th>mean</th>\n",
       "      <th>std. dev.</th>\n",
       "    </tr>\n",
       "    <tr>\n",
       "      <th></th>\n",
       "      <th>univ</th>\n",
       "      <th>cell</th>\n",
       "      <th colspan=\"3\" halign=\"left\">lat</th>\n",
       "      <th>univ</th>\n",
       "      <th>cell</th>\n",
       "      <th></th>\n",
       "      <th></th>\n",
       "      <th></th>\n",
       "      <th></th>\n",
       "    </tr>\n",
       "    <tr>\n",
       "      <th></th>\n",
       "      <th>id</th>\n",
       "      <th>id</th>\n",
       "      <th>id</th>\n",
       "      <th>x</th>\n",
       "      <th>y</th>\n",
       "      <th>id</th>\n",
       "      <th>id</th>\n",
       "      <th></th>\n",
       "      <th></th>\n",
       "      <th></th>\n",
       "      <th></th>\n",
       "    </tr>\n",
       "  </thead>\n",
       "  <tbody>\n",
       "    <tr>\n",
       "      <th>558</th>\n",
       "      <td>3</td>\n",
       "      <td>4</td>\n",
       "      <td>2</td>\n",
       "      <td>7</td>\n",
       "      <td>16</td>\n",
       "      <td>1</td>\n",
       "      <td>3</td>\n",
       "      <td>279</td>\n",
       "      <td>absorption</td>\n",
       "      <td>6.81e-04</td>\n",
       "      <td>2.84e-05</td>\n",
       "    </tr>\n",
       "    <tr>\n",
       "      <th>559</th>\n",
       "      <td>3</td>\n",
       "      <td>4</td>\n",
       "      <td>2</td>\n",
       "      <td>7</td>\n",
       "      <td>16</td>\n",
       "      <td>1</td>\n",
       "      <td>3</td>\n",
       "      <td>279</td>\n",
       "      <td>scatter</td>\n",
       "      <td>8.82e-02</td>\n",
       "      <td>1.86e-03</td>\n",
       "    </tr>\n",
       "    <tr>\n",
       "      <th>560</th>\n",
       "      <td>3</td>\n",
       "      <td>4</td>\n",
       "      <td>2</td>\n",
       "      <td>8</td>\n",
       "      <td>16</td>\n",
       "      <td>1</td>\n",
       "      <td>3</td>\n",
       "      <td>280</td>\n",
       "      <td>absorption</td>\n",
       "      <td>6.65e-04</td>\n",
       "      <td>3.46e-05</td>\n",
       "    </tr>\n",
       "    <tr>\n",
       "      <th>561</th>\n",
       "      <td>3</td>\n",
       "      <td>4</td>\n",
       "      <td>2</td>\n",
       "      <td>8</td>\n",
       "      <td>16</td>\n",
       "      <td>1</td>\n",
       "      <td>3</td>\n",
       "      <td>280</td>\n",
       "      <td>scatter</td>\n",
       "      <td>8.37e-02</td>\n",
       "      <td>2.02e-03</td>\n",
       "    </tr>\n",
       "    <tr>\n",
       "      <th>562</th>\n",
       "      <td>3</td>\n",
       "      <td>4</td>\n",
       "      <td>2</td>\n",
       "      <td>9</td>\n",
       "      <td>16</td>\n",
       "      <td>1</td>\n",
       "      <td>3</td>\n",
       "      <td>281</td>\n",
       "      <td>absorption</td>\n",
       "      <td>5.61e-04</td>\n",
       "      <td>2.91e-05</td>\n",
       "    </tr>\n",
       "    <tr>\n",
       "      <th>563</th>\n",
       "      <td>3</td>\n",
       "      <td>4</td>\n",
       "      <td>2</td>\n",
       "      <td>9</td>\n",
       "      <td>16</td>\n",
       "      <td>1</td>\n",
       "      <td>3</td>\n",
       "      <td>281</td>\n",
       "      <td>scatter</td>\n",
       "      <td>7.52e-02</td>\n",
       "      <td>1.79e-03</td>\n",
       "    </tr>\n",
       "    <tr>\n",
       "      <th>564</th>\n",
       "      <td>3</td>\n",
       "      <td>4</td>\n",
       "      <td>2</td>\n",
       "      <td>10</td>\n",
       "      <td>16</td>\n",
       "      <td>1</td>\n",
       "      <td>3</td>\n",
       "      <td>282</td>\n",
       "      <td>absorption</td>\n",
       "      <td>4.77e-04</td>\n",
       "      <td>2.33e-05</td>\n",
       "    </tr>\n",
       "    <tr>\n",
       "      <th>565</th>\n",
       "      <td>3</td>\n",
       "      <td>4</td>\n",
       "      <td>2</td>\n",
       "      <td>10</td>\n",
       "      <td>16</td>\n",
       "      <td>1</td>\n",
       "      <td>3</td>\n",
       "      <td>282</td>\n",
       "      <td>scatter</td>\n",
       "      <td>6.68e-02</td>\n",
       "      <td>1.14e-03</td>\n",
       "    </tr>\n",
       "    <tr>\n",
       "      <th>566</th>\n",
       "      <td>3</td>\n",
       "      <td>4</td>\n",
       "      <td>2</td>\n",
       "      <td>11</td>\n",
       "      <td>16</td>\n",
       "      <td>1</td>\n",
       "      <td>3</td>\n",
       "      <td>283</td>\n",
       "      <td>absorption</td>\n",
       "      <td>4.64e-04</td>\n",
       "      <td>2.05e-05</td>\n",
       "    </tr>\n",
       "    <tr>\n",
       "      <th>567</th>\n",
       "      <td>3</td>\n",
       "      <td>4</td>\n",
       "      <td>2</td>\n",
       "      <td>11</td>\n",
       "      <td>16</td>\n",
       "      <td>1</td>\n",
       "      <td>3</td>\n",
       "      <td>283</td>\n",
       "      <td>scatter</td>\n",
       "      <td>6.20e-02</td>\n",
       "      <td>1.61e-03</td>\n",
       "    </tr>\n",
       "    <tr>\n",
       "      <th>568</th>\n",
       "      <td>3</td>\n",
       "      <td>4</td>\n",
       "      <td>2</td>\n",
       "      <td>12</td>\n",
       "      <td>16</td>\n",
       "      <td>1</td>\n",
       "      <td>3</td>\n",
       "      <td>284</td>\n",
       "      <td>absorption</td>\n",
       "      <td>4.44e-04</td>\n",
       "      <td>2.93e-05</td>\n",
       "    </tr>\n",
       "    <tr>\n",
       "      <th>569</th>\n",
       "      <td>3</td>\n",
       "      <td>4</td>\n",
       "      <td>2</td>\n",
       "      <td>12</td>\n",
       "      <td>16</td>\n",
       "      <td>1</td>\n",
       "      <td>3</td>\n",
       "      <td>284</td>\n",
       "      <td>scatter</td>\n",
       "      <td>5.47e-02</td>\n",
       "      <td>1.53e-03</td>\n",
       "    </tr>\n",
       "    <tr>\n",
       "      <th>570</th>\n",
       "      <td>3</td>\n",
       "      <td>4</td>\n",
       "      <td>2</td>\n",
       "      <td>13</td>\n",
       "      <td>16</td>\n",
       "      <td>1</td>\n",
       "      <td>3</td>\n",
       "      <td>285</td>\n",
       "      <td>absorption</td>\n",
       "      <td>3.67e-04</td>\n",
       "      <td>2.63e-05</td>\n",
       "    </tr>\n",
       "    <tr>\n",
       "      <th>571</th>\n",
       "      <td>3</td>\n",
       "      <td>4</td>\n",
       "      <td>2</td>\n",
       "      <td>13</td>\n",
       "      <td>16</td>\n",
       "      <td>1</td>\n",
       "      <td>3</td>\n",
       "      <td>285</td>\n",
       "      <td>scatter</td>\n",
       "      <td>4.68e-02</td>\n",
       "      <td>1.52e-03</td>\n",
       "    </tr>\n",
       "    <tr>\n",
       "      <th>572</th>\n",
       "      <td>3</td>\n",
       "      <td>4</td>\n",
       "      <td>2</td>\n",
       "      <td>14</td>\n",
       "      <td>16</td>\n",
       "      <td>1</td>\n",
       "      <td>3</td>\n",
       "      <td>286</td>\n",
       "      <td>absorption</td>\n",
       "      <td>2.76e-04</td>\n",
       "      <td>1.75e-05</td>\n",
       "    </tr>\n",
       "    <tr>\n",
       "      <th>573</th>\n",
       "      <td>3</td>\n",
       "      <td>4</td>\n",
       "      <td>2</td>\n",
       "      <td>14</td>\n",
       "      <td>16</td>\n",
       "      <td>1</td>\n",
       "      <td>3</td>\n",
       "      <td>286</td>\n",
       "      <td>scatter</td>\n",
       "      <td>3.81e-02</td>\n",
       "      <td>1.28e-03</td>\n",
       "    </tr>\n",
       "    <tr>\n",
       "      <th>574</th>\n",
       "      <td>3</td>\n",
       "      <td>4</td>\n",
       "      <td>2</td>\n",
       "      <td>15</td>\n",
       "      <td>16</td>\n",
       "      <td>1</td>\n",
       "      <td>3</td>\n",
       "      <td>287</td>\n",
       "      <td>absorption</td>\n",
       "      <td>2.08e-04</td>\n",
       "      <td>1.69e-05</td>\n",
       "    </tr>\n",
       "    <tr>\n",
       "      <th>575</th>\n",
       "      <td>3</td>\n",
       "      <td>4</td>\n",
       "      <td>2</td>\n",
       "      <td>15</td>\n",
       "      <td>16</td>\n",
       "      <td>1</td>\n",
       "      <td>3</td>\n",
       "      <td>287</td>\n",
       "      <td>scatter</td>\n",
       "      <td>2.85e-02</td>\n",
       "      <td>1.13e-03</td>\n",
       "    </tr>\n",
       "    <tr>\n",
       "      <th>576</th>\n",
       "      <td>3</td>\n",
       "      <td>4</td>\n",
       "      <td>2</td>\n",
       "      <td>16</td>\n",
       "      <td>16</td>\n",
       "      <td>1</td>\n",
       "      <td>3</td>\n",
       "      <td>288</td>\n",
       "      <td>absorption</td>\n",
       "      <td>1.32e-04</td>\n",
       "      <td>1.30e-05</td>\n",
       "    </tr>\n",
       "    <tr>\n",
       "      <th>577</th>\n",
       "      <td>3</td>\n",
       "      <td>4</td>\n",
       "      <td>2</td>\n",
       "      <td>16</td>\n",
       "      <td>16</td>\n",
       "      <td>1</td>\n",
       "      <td>3</td>\n",
       "      <td>288</td>\n",
       "      <td>scatter</td>\n",
       "      <td>1.86e-02</td>\n",
       "      <td>7.12e-04</td>\n",
       "    </tr>\n",
       "  </tbody>\n",
       "</table>\n",
       "</div>"
      ],
      "text/plain": [
       "    level 1      level 2         level 3      distribcell       score  \\\n",
       "       univ cell     lat            univ cell                           \n",
       "         id   id      id   x   y      id   id                           \n",
       "558       3    4       2   7  16       1    3         279  absorption   \n",
       "559       3    4       2   7  16       1    3         279     scatter   \n",
       "560       3    4       2   8  16       1    3         280  absorption   \n",
       "561       3    4       2   8  16       1    3         280     scatter   \n",
       "562       3    4       2   9  16       1    3         281  absorption   \n",
       "563       3    4       2   9  16       1    3         281     scatter   \n",
       "564       3    4       2  10  16       1    3         282  absorption   \n",
       "565       3    4       2  10  16       1    3         282     scatter   \n",
       "566       3    4       2  11  16       1    3         283  absorption   \n",
       "567       3    4       2  11  16       1    3         283     scatter   \n",
       "568       3    4       2  12  16       1    3         284  absorption   \n",
       "569       3    4       2  12  16       1    3         284     scatter   \n",
       "570       3    4       2  13  16       1    3         285  absorption   \n",
       "571       3    4       2  13  16       1    3         285     scatter   \n",
       "572       3    4       2  14  16       1    3         286  absorption   \n",
       "573       3    4       2  14  16       1    3         286     scatter   \n",
       "574       3    4       2  15  16       1    3         287  absorption   \n",
       "575       3    4       2  15  16       1    3         287     scatter   \n",
       "576       3    4       2  16  16       1    3         288  absorption   \n",
       "577       3    4       2  16  16       1    3         288     scatter   \n",
       "\n",
       "        mean std. dev.  \n",
       "                        \n",
       "                        \n",
       "558 6.81e-04  2.84e-05  \n",
       "559 8.82e-02  1.86e-03  \n",
       "560 6.65e-04  3.46e-05  \n",
       "561 8.37e-02  2.02e-03  \n",
       "562 5.61e-04  2.91e-05  \n",
       "563 7.52e-02  1.79e-03  \n",
       "564 4.77e-04  2.33e-05  \n",
       "565 6.68e-02  1.14e-03  \n",
       "566 4.64e-04  2.05e-05  \n",
       "567 6.20e-02  1.61e-03  \n",
       "568 4.44e-04  2.93e-05  \n",
       "569 5.47e-02  1.53e-03  \n",
       "570 3.67e-04  2.63e-05  \n",
       "571 4.68e-02  1.52e-03  \n",
       "572 2.76e-04  1.75e-05  \n",
       "573 3.81e-02  1.28e-03  \n",
       "574 2.08e-04  1.69e-05  \n",
       "575 2.85e-02  1.13e-03  \n",
       "576 1.32e-04  1.30e-05  \n",
       "577 1.86e-02  7.12e-04  "
      ]
     },
     "execution_count": 30,
     "metadata": {},
     "output_type": "execute_result"
    }
   ],
   "source": [
    "# Get a pandas dataframe for the distribcell tally data\n",
    "df = tally.get_pandas_dataframe(nuclides=False)\n",
    "\n",
    "# Print the last twenty rows in the dataframe\n",
    "df.tail(20)"
   ]
  },
  {
   "cell_type": "code",
   "execution_count": 31,
   "metadata": {},
   "outputs": [
    {
     "data": {
      "text/html": [
       "<div>\n",
       "<style scoped>\n",
       "    .dataframe tbody tr th:only-of-type {\n",
       "        vertical-align: middle;\n",
       "    }\n",
       "\n",
       "    .dataframe tbody tr th {\n",
       "        vertical-align: top;\n",
       "    }\n",
       "\n",
       "    .dataframe thead tr th {\n",
       "        text-align: left;\n",
       "    }\n",
       "</style>\n",
       "<table border=\"1\" class=\"dataframe\">\n",
       "  <thead>\n",
       "    <tr>\n",
       "      <th></th>\n",
       "      <th>mean</th>\n",
       "      <th>std. dev.</th>\n",
       "    </tr>\n",
       "    <tr>\n",
       "      <th></th>\n",
       "      <th></th>\n",
       "      <th></th>\n",
       "    </tr>\n",
       "    <tr>\n",
       "      <th></th>\n",
       "      <th></th>\n",
       "      <th></th>\n",
       "    </tr>\n",
       "  </thead>\n",
       "  <tbody>\n",
       "    <tr>\n",
       "      <th>count</th>\n",
       "      <td>2.89e+02</td>\n",
       "      <td>2.89e+02</td>\n",
       "    </tr>\n",
       "    <tr>\n",
       "      <th>mean</th>\n",
       "      <td>4.17e-04</td>\n",
       "      <td>2.05e-05</td>\n",
       "    </tr>\n",
       "    <tr>\n",
       "      <th>std</th>\n",
       "      <td>2.42e-04</td>\n",
       "      <td>8.32e-06</td>\n",
       "    </tr>\n",
       "    <tr>\n",
       "      <th>min</th>\n",
       "      <td>2.27e-05</td>\n",
       "      <td>4.04e-06</td>\n",
       "    </tr>\n",
       "    <tr>\n",
       "      <th>25%</th>\n",
       "      <td>2.01e-04</td>\n",
       "      <td>1.40e-05</td>\n",
       "    </tr>\n",
       "    <tr>\n",
       "      <th>50%</th>\n",
       "      <td>4.00e-04</td>\n",
       "      <td>2.05e-05</td>\n",
       "    </tr>\n",
       "    <tr>\n",
       "      <th>75%</th>\n",
       "      <td>6.08e-04</td>\n",
       "      <td>2.60e-05</td>\n",
       "    </tr>\n",
       "    <tr>\n",
       "      <th>max</th>\n",
       "      <td>9.38e-04</td>\n",
       "      <td>4.27e-05</td>\n",
       "    </tr>\n",
       "  </tbody>\n",
       "</table>\n",
       "</div>"
      ],
      "text/plain": [
       "          mean std. dev.\n",
       "                        \n",
       "                        \n",
       "count 2.89e+02  2.89e+02\n",
       "mean  4.17e-04  2.05e-05\n",
       "std   2.42e-04  8.32e-06\n",
       "min   2.27e-05  4.04e-06\n",
       "25%   2.01e-04  1.40e-05\n",
       "50%   4.00e-04  2.05e-05\n",
       "75%   6.08e-04  2.60e-05\n",
       "max   9.38e-04  4.27e-05"
      ]
     },
     "execution_count": 31,
     "metadata": {},
     "output_type": "execute_result"
    }
   ],
   "source": [
    "# Show summary statistics for absorption distribcell tally data\n",
    "absorption = df[df['score'] == 'absorption']\n",
    "absorption[['mean', 'std. dev.']].dropna().describe()\n",
    "\n",
    "# Note that the maximum standard deviation does indeed\n",
    "# meet the 5e-5 threshold set by the tally trigger"
   ]
  },
  {
   "cell_type": "markdown",
   "metadata": {},
   "source": [
    "Perform a statistical test comparing the tally sample distributions for two categories of fuel pins."
   ]
  },
  {
   "cell_type": "code",
   "execution_count": 32,
   "metadata": {},
   "outputs": [
    {
     "name": "stdout",
     "output_type": "stream",
     "text": [
      "Mann-Whitney Test p-value: 0.3933685843661936\n"
     ]
    }
   ],
   "source": [
    "# Extract tally data from pins in the pins divided along y=-x diagonal \n",
    "multi_index = ('level 2', 'lat',)\n",
    "lower = df[df[multi_index + ('x',)] + df[multi_index + ('y',)] < 16]\n",
    "upper = df[df[multi_index + ('x',)] + df[multi_index + ('y',)] > 16]\n",
    "lower = lower[lower['score'] == 'absorption']\n",
    "upper = upper[upper['score'] == 'absorption']\n",
    "\n",
    "# Perform non-parametric Mann-Whitney U Test to see if the \n",
    "# absorption rates (may) come from same sampling distribution\n",
    "u, p = scipy.stats.mannwhitneyu(lower['mean'], upper['mean'])\n",
    "print('Mann-Whitney Test p-value: {0}'.format(p))"
   ]
  },
  {
   "cell_type": "markdown",
   "metadata": {},
   "source": [
    "Note that the symmetry implied by the y=-x diagonal ensures that the two sampling distributions are identical. Indeed, as illustrated by the test above, for any reasonable significance level (*e.g.*, $\\alpha$=0.05) one would **not reject** the null hypothesis that the two sampling distributions are identical.\n",
    "\n",
    "Next, perform the same test but with two groupings of pins which are not symmetrically identical to one another."
   ]
  },
  {
   "cell_type": "code",
   "execution_count": 33,
   "metadata": {},
   "outputs": [
    {
     "name": "stdout",
     "output_type": "stream",
     "text": [
      "Mann-Whitney Test p-value: 7.927841393301949e-42\n"
     ]
    }
   ],
   "source": [
    "# Extract tally data from pins in the pins divided along y=x diagonal\n",
    "multi_index = ('level 2', 'lat',)\n",
    "lower = df[df[multi_index + ('x',)] > df[multi_index + ('y',)]]\n",
    "upper = df[df[multi_index + ('x',)] < df[multi_index + ('y',)]]\n",
    "lower = lower[lower['score'] == 'absorption']\n",
    "upper = upper[upper['score'] == 'absorption']\n",
    "\n",
    "# Perform non-parametric Mann-Whitney U Test to see if the \n",
    "# absorption rates (may) come from same sampling distribution\n",
    "u, p = scipy.stats.mannwhitneyu(lower['mean'], upper['mean'])\n",
    "print('Mann-Whitney Test p-value: {0}'.format(p))"
   ]
  },
  {
   "cell_type": "markdown",
   "metadata": {},
   "source": [
    "Note that the asymmetry implied by the y=x diagonal ensures that the two sampling distributions are *not* identical. Indeed, as illustrated by the test above, for any reasonable significance level (*e.g.*, $\\alpha$=0.05) one would **reject** the null hypothesis that the two sampling distributions are identical."
   ]
  },
  {
   "cell_type": "code",
   "execution_count": 34,
   "metadata": {},
   "outputs": [
    {
     "name": "stderr",
     "output_type": "stream",
     "text": [
      "/home/jan/.local/lib/python3.6/site-packages/ipykernel_launcher.py:4: SettingWithCopyWarning: \n",
      "A value is trying to be set on a copy of a slice from a DataFrame.\n",
      "Try using .loc[row_indexer,col_indexer] = value instead\n",
      "\n",
      "See the caveats in the documentation: http://pandas.pydata.org/pandas-docs/stable/indexing.html#indexing-view-versus-copy\n",
      "  after removing the cwd from sys.path.\n"
     ]
    },
    {
     "data": {
      "text/plain": [
       "<matplotlib.axes._subplots.AxesSubplot at 0x7f39195e74e0>"
      ]
     },
     "execution_count": 34,
     "metadata": {},
     "output_type": "execute_result"
    },
    {
     "data": {
      "image/png": "[encoded data removed]",
      "text/plain": [
       "<Figure size 432x288 with 1 Axes>"
      ]
     },
     "metadata": {
      "needs_background": "light"
     },
     "output_type": "display_data"
    }
   ],
   "source": [
    "# Extract the scatter tally data from pandas\n",
    "scatter = df[df['score'] == 'scatter']\n",
    "\n",
    "scatter['rel. err.'] = scatter['std. dev.'] / scatter['mean']\n",
    "\n",
    "# Show a scatter plot of the mean vs. the std. dev.\n",
    "scatter.plot(kind='scatter', x='mean', y='rel. err.', title='Scattering Rates')"
   ]
  },
  {
   "cell_type": "code",
   "execution_count": 35,
   "metadata": {},
   "outputs": [
    {
     "data": {
      "text/plain": [
       "<matplotlib.legend.Legend at 0x7f39195d7cf8>"
      ]
     },
     "execution_count": 35,
     "metadata": {},
     "output_type": "execute_result"
    },
    {
     "data": {
      "image/png": "[encoded data removed]",
      "text/plain": [
       "<Figure size 432x288 with 1 Axes>"
      ]
     },
     "metadata": {
      "needs_background": "light"
     },
     "output_type": "display_data"
    }
   ],
   "source": [
    "# Plot a histogram and kernel density estimate for the scattering rates\n",
    "scatter['mean'].plot(kind='hist', bins=25)\n",
    "scatter['mean'].plot(kind='kde')\n",
    "plt.title('Scattering Rates')\n",
    "plt.xlabel('Mean')\n",
    "plt.legend(['KDE', 'Histogram'])"
   ]
  }
 ],
 "metadata": {
  "anaconda-cloud": {},
  "kernelspec": {
   "display_name": "Python 3",
   "language": "python",
   "name": "python3"
  },
  "language_info": {
   "codemirror_mode": {
    "name": "ipython",
    "version": 3
   },
   "file_extension": ".py",
   "mimetype": "text/x-python",
   "name": "python",
   "nbconvert_exporter": "python",
   "pygments_lexer": "ipython3",
   "version": "3.6.7"
  }
 },
 "nbformat": 4,
 "nbformat_minor": 1
}
