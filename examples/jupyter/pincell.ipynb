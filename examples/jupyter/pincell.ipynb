{
 "cells": [
  {
   "cell_type": "markdown",
   "metadata": {},
   "source": [
    "This notebook is intended to demonstrate the basic features of the Python API for constructing input files and running OpenMC. In it, we will show how to create a basic reflective pin-cell model that is equivalent to modeling an infinite array of fuel pins. If you have never used OpenMC, this can serve as a good starting point to learn the Python API. We highly recommend having a copy of the [Python API reference documentation](http://openmc.readthedocs.org/en/latest/pythonapi/index.html) open in another browser tab that you can refer to."
   ]
  },
  {
   "cell_type": "code",
   "execution_count": 1,
   "metadata": {
    "collapsed": false
   },
   "outputs": [],
   "source": [
    "%matplotlib inline\n",
    "import openmc"
   ]
  },
  {
   "cell_type": "markdown",
   "metadata": {},
   "source": [
    "## Defining Materials\n",
    "\n",
    "Materials in OpenMC are defined as a set of nuclides with specified atom/weight fractions. To begin, we will create a material by making an instance of the `Material` class. In OpenMC, many objects, including materials, are identified by a \"unique ID\" that is simply just a positive integer. These IDs are used when exporting XML files that the solver reads in. They also appear in the output and can be used for identification. Since an integer ID is not very useful by itself, you can also give a material a `name` as well."
   ]
  },
  {
   "cell_type": "code",
   "execution_count": 2,
   "metadata": {
    "collapsed": false
   },
   "outputs": [
    {
     "name": "stdout",
     "output_type": "stream",
     "text": [
      "Material\n",
      "\tID             =\t1\n",
      "\tName           =\tuo2\n",
      "\tTemperature    =\tNone\n",
      "\tDensity        =\tNone []\n",
      "\tS(a,b) Tables  \n",
      "\tNuclides       \n",
      "\n"
     ]
    }
   ],
   "source": [
    "uo2 = openmc.Material(1, \"uo2\")\n",
    "print(uo2)"
   ]
  },
  {
   "cell_type": "markdown",
   "metadata": {},
   "source": [
    "On the XML side, you have no choice but to supply an ID. However, in the Python API, if you don't give an ID, one will be automatically generated for you:"
   ]
  },
  {
   "cell_type": "code",
   "execution_count": 3,
   "metadata": {
    "collapsed": false
   },
   "outputs": [
    {
     "name": "stdout",
     "output_type": "stream",
     "text": [
      "Material\n",
      "\tID             =\t2\n",
      "\tName           =\t\n",
      "\tTemperature    =\tNone\n",
      "\tDensity        =\tNone []\n",
      "\tS(a,b) Tables  \n",
      "\tNuclides       \n",
      "\n"
     ]
    }
   ],
   "source": [
    "mat = openmc.Material()\n",
    "print(mat)"
   ]
  },
  {
   "cell_type": "markdown",
   "metadata": {},
   "source": [
    "We see that an ID of 2 was automatically assigned. Let's now move on to adding nuclides to our `uo2` material. The `Material` object has a method `add_nuclide()` whose first argument is the name of the nuclide and second argument is the atom or weight fraction."
   ]
  },
  {
   "cell_type": "code",
   "execution_count": 4,
   "metadata": {
    "collapsed": false
   },
   "outputs": [
    {
     "name": "stdout",
     "output_type": "stream",
     "text": [
      "Help on method add_nuclide in module openmc.material:\n",
      "\n",
      "add_nuclide(nuclide, percent, percent_type='ao') method of openmc.material.Material instance\n",
      "    Add a nuclide to the material\n",
      "    \n",
      "    Parameters\n",
      "    ----------\n",
      "    nuclide : str\n",
      "        Nuclide to add\n",
      "    percent : float\n",
      "        Atom or weight percent\n",
      "    percent_type : {'ao', 'wo'}\n",
      "        'ao' for atom percent and 'wo' for weight percent\n",
      "\n"
     ]
    }
   ],
   "source": [
    "help(uo2.add_nuclide)"
   ]
  },
  {
   "cell_type": "markdown",
   "metadata": {},
   "source": [
    "We see that by default it assumes we want an atom fraction."
   ]
  },
  {
   "cell_type": "code",
   "execution_count": 5,
   "metadata": {
    "collapsed": true
   },
   "outputs": [],
   "source": [
    "# Add nuclides to uo2\n",
    "uo2.add_nuclide('U235', 0.03)\n",
    "uo2.add_nuclide('U238', 0.97)\n",
    "uo2.add_nuclide('O16', 2.0)"
   ]
  },
  {
   "cell_type": "markdown",
   "metadata": {},
   "source": [
    "Now we need to assign a total density to the material. We'll use the `set_density` for this."
   ]
  },
  {
   "cell_type": "code",
   "execution_count": 6,
   "metadata": {
    "collapsed": true
   },
   "outputs": [],
   "source": [
    "uo2.set_density('g/cm3', 10.0)"
   ]
  },
  {
   "cell_type": "markdown",
   "metadata": {},
   "source": [
    "You may sometimes be given a material specification where all the nuclide densities are in units of atom/b-cm. In this case, you just want the density to be the sum of the constituents. In that case, you can simply run `mat.set_density('sum')`.\n",
    "\n",
    "With UO2 finished, let's now create materials for the clad and coolant. Note the use of `add_element()` for zirconium."
   ]
  },
  {
   "cell_type": "code",
   "execution_count": 7,
   "metadata": {
    "collapsed": false
   },
   "outputs": [
    {
     "name": "stderr",
     "output_type": "stream",
     "text": [
      "/home/romano/openmc/openmc/mixin.py:61: IDWarning: Another Material instance already exists with id=2.\n",
      "  warn(msg, IDWarning)\n"
     ]
    }
   ],
   "source": [
    "zirconium = openmc.Material(2, \"zirconium\")\n",
    "zirconium.add_element('Zr', 1.0)\n",
    "zirconium.set_density('g/cm3', 6.6)\n",
    "\n",
    "water = openmc.Material(3, \"h2o\")\n",
    "water.add_nuclide('H1', 2.0)\n",
    "water.add_nuclide('O16', 1.0)\n",
    "water.set_density('g/cm3', 1.0)"
   ]
  },
  {
   "cell_type": "markdown",
   "metadata": {},
   "source": [
    "An astute observer might now point out that this water material we just created will only use free-atom cross sections. We need to tell it to use an $S(\\alpha,\\beta)$ table so that the bound atom cross section is used at thermal energies. To do this, there's an `add_s_alpha_beta()` method. Note the use of the GND-style name \"c_H_in_H2O\"."
   ]
  },
  {
   "cell_type": "code",
   "execution_count": 8,
   "metadata": {
    "collapsed": false
   },
   "outputs": [],
   "source": [
    "water.add_s_alpha_beta('c_H_in_H2O')"
   ]
  },
  {
   "cell_type": "markdown",
   "metadata": {},
   "source": [
    "When we go to run the transport solver in OpenMC, it is going to look for a `materials.xml` file. Thus far, we have only created objects in memory. To actually create a `materials.xml` file, we need to instantiate a `Materials` collection and export it to XML."
   ]
  },
  {
   "cell_type": "code",
   "execution_count": 9,
   "metadata": {
    "collapsed": true
   },
   "outputs": [],
   "source": [
    "mats = openmc.Materials([uo2, zirconium, water])"
   ]
  },
  {
   "cell_type": "markdown",
   "metadata": {},
   "source": [
    "Note that `Materials` is actually a subclass of Python's built-in `list`, so we can use methods like `append()`, `insert()`, `pop()`, etc."
   ]
  },
  {
   "cell_type": "code",
   "execution_count": 10,
   "metadata": {
    "collapsed": false
   },
   "outputs": [
    {
     "data": {
      "text/plain": [
       "True"
      ]
     },
     "execution_count": 10,
     "metadata": {},
     "output_type": "execute_result"
    }
   ],
   "source": [
    "mats = openmc.Materials()\n",
    "mats.append(uo2)\n",
    "mats += [zirconium, water]\n",
    "isinstance(mats, list)"
   ]
  },
  {
   "cell_type": "markdown",
   "metadata": {},
   "source": [
    "Finally, we can create the XML file with the `export_to_xml()` method. In a Jupyter notebook, we can run a shell command by putting `!` before it, so in this case we are going to display the `materials.xml` file that we created."
   ]
  },
  {
   "cell_type": "code",
   "execution_count": 11,
   "metadata": {
    "collapsed": false
   },
   "outputs": [
    {
     "name": "stdout",
     "output_type": "stream",
     "text": [
      "<?xml version='1.0' encoding='utf-8'?>\r\n",
      "<materials>\r\n",
      "  <material id=\"1\" name=\"uo2\">\r\n",
      "    <density units=\"g/cm3\" value=\"10.0\" />\r\n",
      "    <nuclide ao=\"0.03\" name=\"U235\" />\r\n",
      "    <nuclide ao=\"0.97\" name=\"U238\" />\r\n",
      "    <nuclide ao=\"2.0\" name=\"O16\" />\r\n",
      "  </material>\r\n",
      "  <material id=\"2\" name=\"zirconium\">\r\n",
      "    <density units=\"g/cm3\" value=\"6.6\" />\r\n",
      "    <nuclide ao=\"0.5145\" name=\"Zr90\" />\r\n",
      "    <nuclide ao=\"0.1122\" name=\"Zr91\" />\r\n",
      "    <nuclide ao=\"0.1715\" name=\"Zr92\" />\r\n",
      "    <nuclide ao=\"0.1738\" name=\"Zr94\" />\r\n",
      "    <nuclide ao=\"0.028\" name=\"Zr96\" />\r\n",
      "  </material>\r\n",
      "  <material id=\"3\" name=\"h2o\">\r\n",
      "    <density units=\"g/cm3\" value=\"1.0\" />\r\n",
      "    <nuclide ao=\"2.0\" name=\"H1\" />\r\n",
      "    <nuclide ao=\"1.0\" name=\"O16\" />\r\n",
      "    <sab name=\"c_H_in_H2O\" />\r\n",
      "  </material>\r\n",
      "</materials>\r\n"
     ]
    }
   ],
   "source": [
    "mats.export_to_xml()\n",
    "!cat materials.xml"
   ]
  },
  {
   "cell_type": "markdown",
   "metadata": {},
   "source": [
    "### Element Expansion\n",
    "\n",
    "Did you notice something really cool that happened to our Zr element? OpenMC automatically turned it into a list of nuclides when it exported it! The way this feature works is as follows:\n",
    "\n",
    "- First, it checks whether `Materials.cross_sections` has been set, indicating the path to a `cross_sections.xml` file.\n",
    "- If `Materials.cross_sections` isn't set, it looks for the `OPENMC_CROSS_SECTIONS` environment variable.\n",
    "- If either of these are found, it scans the file to see what nuclides are actually available and will expand elements accordingly.\n",
    "\n",
    "Let's see what happens if we change O16 in water to elemental O."
   ]
  },
  {
   "cell_type": "code",
   "execution_count": 12,
   "metadata": {
    "collapsed": false
   },
   "outputs": [
    {
     "name": "stdout",
     "output_type": "stream",
     "text": [
      "<?xml version='1.0' encoding='utf-8'?>\r\n",
      "<materials>\r\n",
      "  <material id=\"1\" name=\"uo2\">\r\n",
      "    <density units=\"g/cm3\" value=\"10.0\" />\r\n",
      "    <nuclide ao=\"0.03\" name=\"U235\" />\r\n",
      "    <nuclide ao=\"0.97\" name=\"U238\" />\r\n",
      "    <nuclide ao=\"2.0\" name=\"O16\" />\r\n",
      "  </material>\r\n",
      "  <material id=\"2\" name=\"zirconium\">\r\n",
      "    <density units=\"g/cm3\" value=\"6.6\" />\r\n",
      "    <nuclide ao=\"0.5145\" name=\"Zr90\" />\r\n",
      "    <nuclide ao=\"0.1122\" name=\"Zr91\" />\r\n",
      "    <nuclide ao=\"0.1715\" name=\"Zr92\" />\r\n",
      "    <nuclide ao=\"0.1738\" name=\"Zr94\" />\r\n",
      "    <nuclide ao=\"0.028\" name=\"Zr96\" />\r\n",
      "  </material>\r\n",
      "  <material id=\"3\" name=\"h2o\">\r\n",
      "    <density units=\"g/cm3\" value=\"1.0\" />\r\n",
      "    <nuclide ao=\"2.0\" name=\"H1\" />\r\n",
      "    <nuclide ao=\"0.999621\" name=\"O16\" />\r\n",
      "    <nuclide ao=\"0.000379\" name=\"O17\" />\r\n",
      "    <sab name=\"c_H_in_H2O\" />\r\n",
      "  </material>\r\n",
      "</materials>\r\n"
     ]
    }
   ],
   "source": [
    "water.remove_nuclide('O16')\n",
    "water.add_element('O', 1.0)\n",
    "\n",
    "mats.export_to_xml()\n",
    "!cat materials.xml"
   ]
  },
  {
   "cell_type": "markdown",
   "metadata": {},
   "source": [
    "We see that now O16 and O17 were automatically added. O18 is missing because our cross sections file (which is based on ENDF/B-VII.1) doesn't have O18. If OpenMC didn't know about the cross sections file, it would have assumed that all isotopes exist."
   ]
  },
  {
   "cell_type": "markdown",
   "metadata": {},
   "source": [
    "### The `cross_sections.xml` file\n",
    "\n",
    "The `cross_sections.xml` tells OpenMC where it can find nuclide cross sections and $S(\\alpha,\\beta)$ tables. It serves the same purpose as MCNP's `xsdir` file and Serpent's `xsdata` file. As we mentioned, this can be set either by the `OPENMC_CROSS_SECTIONS` environment variable or the `Materials.cross_sections` attribute.\n",
    "\n",
    "Let's have a look at what's inside this file:"
   ]
  },
  {
   "cell_type": "code",
   "execution_count": 13,
   "metadata": {
    "collapsed": false
   },
   "outputs": [
    {
     "name": "stdout",
     "output_type": "stream",
     "text": [
      "<?xml version='1.0' encoding='utf-8'?>\n",
      "<cross_sections>\n",
      "    <library materials=\"Ac225\" path=\"Ac225.h5\" type=\"neutron\" />\n",
      "    <library materials=\"Ac226\" path=\"Ac226.h5\" type=\"neutron\" />\n",
      "    <library materials=\"Ac227\" path=\"Ac227.h5\" type=\"neutron\" />\n",
      "    <library materials=\"Ag107\" path=\"Ag107.h5\" type=\"neutron\" />\n",
      "    <library materials=\"Ag109\" path=\"Ag109.h5\" type=\"neutron\" />\n",
      "    <library materials=\"Ag110_m1\" path=\"Ag110_m1.h5\" type=\"neutron\" />\n",
      "    <library materials=\"Ag111\" path=\"Ag111.h5\" type=\"neutron\" />\n",
      "    <library materials=\"Al27\" path=\"Al27.h5\" type=\"neutron\" />\n",
      "    ...\n",
      "    <library materials=\"c_O_in_BeO\" path=\"c_O_in_BeO.h5\" type=\"thermal\" />\n",
      "    <library materials=\"c_ortho_D\" path=\"c_ortho_D.h5\" type=\"thermal\" />\n",
      "    <library materials=\"c_ortho_H\" path=\"c_ortho_H.h5\" type=\"thermal\" />\n",
      "    <library materials=\"c_O_in_UO2\" path=\"c_O_in_UO2.h5\" type=\"thermal\" />\n",
      "    <library materials=\"c_para_D\" path=\"c_para_D.h5\" type=\"thermal\" />\n",
      "    <library materials=\"c_para_H\" path=\"c_para_H.h5\" type=\"thermal\" />\n",
      "    <library materials=\"c_H_in_CH4_solid\" path=\"c_H_in_CH4_solid.h5\" type=\"thermal\" />\n",
      "    <library materials=\"c_U_in_UO2\" path=\"c_U_in_UO2.h5\" type=\"thermal\" />\n",
      "    <library materials=\"c_Zr_in_ZrH\" path=\"c_Zr_in_ZrH.h5\" type=\"thermal\" />\n",
      "</cross_sections>\n"
     ]
    }
   ],
   "source": [
    "!cat $OPENMC_CROSS_SECTIONS | head -n 10\n",
    "print('    ...')\n",
    "!cat $OPENMC_CROSS_SECTIONS | tail -n 10"
   ]
  },
  {
   "cell_type": "markdown",
   "metadata": {},
   "source": [
    "### Enrichment\n",
    "\n",
    "Note that the `add_element()` method has a special argument `enrichment` that can be used for Uranium. For example, if we know that we want to create 3% enriched UO2, the following would work:"
   ]
  },
  {
   "cell_type": "code",
   "execution_count": 14,
   "metadata": {
    "collapsed": false
   },
   "outputs": [],
   "source": [
    "uo2_three = openmc.Material()\n",
    "uo2_three.add_element('U', 1.0, enrichment=3.0)\n",
    "uo2_three.add_element('O', 2.0)\n",
    "uo2_three.set_density('g/cc', 10.0)"
   ]
  },
  {
   "cell_type": "markdown",
   "metadata": {},
   "source": [
    "## Defining Geometry\n",
    "\n",
    "At this point, we have three materials defined, exported to XML, and ready to be used in our model. To finish our model, we need to define the geometric arrangement of materials. OpenMC represents physical volumes using constructive solid geometry (CSG), also known as combinatorial geometry. The object that allows us to assign a material to a region of space is called a `Cell` (same concept in MCNP, for those familiar). In order to define a region that we can assign to a cell, we must first define surfaces which bound the region. A *surface* is a locus of zeros of a function of Cartesian coordinates $x$, $y$, and $z$, e.g.\n",
    "\n",
    "- A plane perpendicular to the x axis: $x - x_0 = 0$\n",
    "- A cylinder parallel to the z axis: $(x - x_0)^2 + (y - y_0)^2 - R^2 = 0$\n",
    "- A sphere: $(x - x_0)^2 + (y - y_0)^2 + (z - z_0)^2 - R^2 = 0$\n",
    "\n",
    "Between those three classes of surfaces (planes, cylinders, spheres), one can construct a wide variety of models. It is also possible to define cones and general second-order surfaces (tori are not currently supported).\n",
    "\n",
    "Note that defining a surface is not sufficient to specify a volume -- in order to define an actual volume, one must reference the half-space of a surface. A surface *half-space* is the region whose points satisfy a positive or negative inequality of the surface equation. For example, for a sphere of radius one centered at the origin, the surface equation is $f(x,y,z) = x^2 + y^2 + z^2 - 1 = 0$. Thus, we say that the negative half-space of the sphere, is defined as the collection of points satisfying $f(x,y,z) < 0$, which one can reason is the inside of the sphere. Conversely, the positive half-space of the sphere would correspond to all points outside of the sphere.\n",
    "\n",
    "Let's go ahead and create a sphere and confirm that what we've told you is true."
   ]
  },
  {
   "cell_type": "code",
   "execution_count": 15,
   "metadata": {
    "collapsed": true
   },
   "outputs": [],
   "source": [
    "sph = openmc.Sphere(R=1.0)"
   ]
  },
  {
   "cell_type": "markdown",
   "metadata": {},
   "source": [
    "Note that by default the sphere is centered at the origin so we didn't have to supply `x0`, `y0`, or `z0` arguments. Strictly speaking, we could have omitted `R` as well since it defaults to one. To get the negative or positive half-space, we simply need to apply the `-` or `+` unary operators, respectively.\n",
    "\n",
    "(NOTE: Those unary operators are defined by special methods: `__pos__` and `__neg__` in this case)."
   ]
  },
  {
   "cell_type": "code",
   "execution_count": 16,
   "metadata": {
    "collapsed": false
   },
   "outputs": [],
   "source": [
    "inside_sphere = -sph\n",
    "outside_sphere = +sph"
   ]
  },
  {
   "cell_type": "markdown",
   "metadata": {},
   "source": [
    "Now let's see if `inside_sphere` actually contains points inside the sphere:"
   ]
  },
  {
   "cell_type": "code",
   "execution_count": 17,
   "metadata": {
    "collapsed": false
   },
   "outputs": [
    {
     "name": "stdout",
     "output_type": "stream",
     "text": [
      "True False\n",
      "False True\n"
     ]
    }
   ],
   "source": [
    "print((0,0,0) in inside_sphere, (0,0,2) in inside_sphere)\n",
    "print((0,0,0) in outside_sphere, (0,0,2) in outside_sphere)"
   ]
  },
  {
   "cell_type": "markdown",
   "metadata": {},
   "source": [
    "Everything works as expected! Now that we understand how to create half-spaces, we can create more complex volumes by combining half-spaces using Boolean operators: `&` (intersection), `|` (union), and `~` (complement). For example, let's say we want to define a region that is the top part of the sphere (all points inside the sphere that have $z > 0$."
   ]
  },
  {
   "cell_type": "code",
   "execution_count": 18,
   "metadata": {
    "collapsed": true
   },
   "outputs": [],
   "source": [
    "z_plane = openmc.ZPlane(z0=0)\n",
    "northern_hemisphere = -sph & +z_plane"
   ]
  },
  {
   "cell_type": "markdown",
   "metadata": {},
   "source": [
    "For many regions, OpenMC can automatically determine a bounding box. To get the bounding box, we use the `bounding_box` property of a region, which returns a tuple of the lower-left and upper-right Cartesian coordinates for the bounding box:"
   ]
  },
  {
   "cell_type": "code",
   "execution_count": 19,
   "metadata": {
    "collapsed": false
   },
   "outputs": [
    {
     "data": {
      "text/plain": [
       "(array([-1., -1.,  0.]), array([ 1.,  1.,  1.]))"
      ]
     },
     "execution_count": 19,
     "metadata": {},
     "output_type": "execute_result"
    }
   ],
   "source": [
    "northern_hemisphere.bounding_box"
   ]
  },
  {
   "cell_type": "markdown",
   "metadata": {},
   "source": [
    "Now that we see how to create volumes, we can use them to create a cell."
   ]
  },
  {
   "cell_type": "code",
   "execution_count": 20,
   "metadata": {
    "collapsed": false
   },
   "outputs": [],
   "source": [
    "cell = openmc.Cell()\n",
    "cell.region = northern_hemisphere\n",
    "\n",
    "# or...\n",
    "cell = openmc.Cell(region=northern_hemisphere)"
   ]
  },
  {
   "cell_type": "markdown",
   "metadata": {},
   "source": [
    "By default, the cell is not filled by any material (void). In order to assign a material, we set the `fill` property of a `Cell`."
   ]
  },
  {
   "cell_type": "code",
   "execution_count": 21,
   "metadata": {
    "collapsed": true
   },
   "outputs": [],
   "source": [
    "cell.fill = water"
   ]
  },
  {
   "cell_type": "markdown",
   "metadata": {},
   "source": [
    "### Universes and in-line plotting"
   ]
  },
  {
   "cell_type": "markdown",
   "metadata": {},
   "source": [
    "A collection of cells is known as a universe (again, this will be familiar to MCNP/Serpent users) and can be used as a repeatable unit when creating a model. Although we don't need it yet, the benefit of creating a universe is that we can visualize our geometry while we're creating it."
   ]
  },
  {
   "cell_type": "code",
   "execution_count": 22,
   "metadata": {
    "collapsed": true
   },
   "outputs": [],
   "source": [
    "universe = openmc.Universe()\n",
    "universe.add_cell(cell)\n",
    "\n",
    "# this also works\n",
    "universe = openmc.Universe(cells=[cell])"
   ]
  },
  {
   "cell_type": "markdown",
   "metadata": {},
   "source": [
    "The `Universe` object has a `plot` method that will display our the universe as current constructed:"
   ]
  },
  {
   "cell_type": "code",
   "execution_count": 23,
   "metadata": {
    "collapsed": false
   },
   "outputs": [
    {
     "data": {
      "image/png": "[encoded data removed]",
      "text/plain": [
       "<matplotlib.figure.Figure at 0x7fe36e571588>"
      ]
     },
     "metadata": {},
     "output_type": "display_data"
    }
   ],
   "source": [
    "universe.plot(width=(2.0, 2.0))"
   ]
  },
  {
   "cell_type": "markdown",
   "metadata": {},
   "source": [
    "By default, the plot will appear in the $x$-$y$ plane. We can change that with the `basis` argument."
   ]
  },
  {
   "cell_type": "code",
   "execution_count": 24,
   "metadata": {
    "collapsed": false
   },
   "outputs": [
    {
     "data": {
      "image/png": "[encoded data removed]",
      "text/plain": [
       "<matplotlib.figure.Figure at 0x7fe3a1080048>"
      ]
     },
     "metadata": {},
     "output_type": "display_data"
    }
   ],
   "source": [
    "universe.plot(width=(2.0, 2.0), basis='xz')"
   ]
  },
  {
   "cell_type": "markdown",
   "metadata": {},
   "source": [
    "If we have particular fondness for, say, fuchsia, we can tell the `plot()` method to make our cell that color."
   ]
  },
  {
   "cell_type": "code",
   "execution_count": 25,
   "metadata": {
    "collapsed": false
   },
   "outputs": [
    {
     "data": {
      "image/png": "[encoded data removed]",
      "text/plain": [
       "<matplotlib.figure.Figure at 0x7fe36aa15390>"
      ]
     },
     "metadata": {},
     "output_type": "display_data"
    }
   ],
   "source": [
    "universe.plot(width=(2.0, 2.0), basis='xz',\n",
    "              colors={cell: 'fuchsia'})"
   ]
  },
  {
   "cell_type": "markdown",
   "metadata": {},
   "source": [
    "### Pin cell geometry\n",
    "\n",
    "We now have enough knowledge to create our pin-cell. We need three surfaces to define the fuel and clad:\n",
    "\n",
    "1. The outer surface of the fuel -- a cylinder parallel to the z axis\n",
    "2. The inner surface of the clad -- same as above\n",
    "3. The outer surface of the clad -- same as above\n",
    "\n",
    "These three surfaces will all be instances of `openmc.ZCylinder`, each with a different radius according to the specification."
   ]
  },
  {
   "cell_type": "code",
   "execution_count": 26,
   "metadata": {
    "collapsed": true
   },
   "outputs": [],
   "source": [
    "fuel_or = openmc.ZCylinder(R=0.39)\n",
    "clad_ir = openmc.ZCylinder(R=0.40)\n",
    "clad_or = openmc.ZCylinder(R=0.46)"
   ]
  },
  {
   "cell_type": "markdown",
   "metadata": {},
   "source": [
    "With the surfaces created, we can now take advantage of the built-in operators on surfaces to create regions for the fuel, the gap, and the clad:"
   ]
  },
  {
   "cell_type": "code",
   "execution_count": 27,
   "metadata": {
    "collapsed": true
   },
   "outputs": [],
   "source": [
    "fuel_region = -fuel_or\n",
    "gap_region = +fuel_or & -clad_ir\n",
    "clad_region = +clad_ir & -clad_or"
   ]
  },
  {
   "cell_type": "markdown",
   "metadata": {},
   "source": [
    "Now we can create corresponding cells that assign materials to these regions. As with materials, cells have unique IDs that are assigned either manually or automatically. Note that the gap cell doesn't have any material assigned (it is void by default)."
   ]
  },
  {
   "cell_type": "code",
   "execution_count": 28,
   "metadata": {
    "collapsed": false
   },
   "outputs": [
    {
     "name": "stderr",
     "output_type": "stream",
     "text": [
      "/home/romano/openmc/openmc/mixin.py:61: IDWarning: Another Cell instance already exists with id=1.\n",
      "  warn(msg, IDWarning)\n",
      "/home/romano/openmc/openmc/mixin.py:61: IDWarning: Another Cell instance already exists with id=2.\n",
      "  warn(msg, IDWarning)\n"
     ]
    }
   ],
   "source": [
    "fuel = openmc.Cell(1, 'fuel')\n",
    "fuel.fill = uo2\n",
    "fuel.region = fuel_region\n",
    "\n",
    "gap = openmc.Cell(2, 'air gap')\n",
    "gap.region = gap_region\n",
    "\n",
    "clad = openmc.Cell(3, 'clad')\n",
    "clad.fill = zirconium\n",
    "clad.region = clad_region"
   ]
  },
  {
   "cell_type": "markdown",
   "metadata": {},
   "source": [
    "Finally, we need to handle the coolant outside of our fuel pin. To do this, we create x- and y-planes that bound the geometry."
   ]
  },
  {
   "cell_type": "code",
   "execution_count": 29,
   "metadata": {
    "collapsed": true
   },
   "outputs": [],
   "source": [
    "pitch = 1.26\n",
    "left = openmc.XPlane(x0=-pitch/2, boundary_type='reflective')\n",
    "right = openmc.XPlane(x0=pitch/2, boundary_type='reflective')\n",
    "bottom = openmc.YPlane(y0=-pitch/2, boundary_type='reflective')\n",
    "top = openmc.YPlane(y0=pitch/2, boundary_type='reflective')"
   ]
  },
  {
   "cell_type": "markdown",
   "metadata": {},
   "source": [
    "The water region is going to be everything outside of the clad outer radius and within the box formed as the intersection of four half-spaces."
   ]
  },
  {
   "cell_type": "code",
   "execution_count": 30,
   "metadata": {
    "collapsed": false
   },
   "outputs": [],
   "source": [
    "water_region = +left & -right & +bottom & -top & +clad_or\n",
    "\n",
    "moderator = openmc.Cell(4, 'moderator')\n",
    "moderator.fill = water\n",
    "moderator.region = water_region"
   ]
  },
  {
   "cell_type": "markdown",
   "metadata": {},
   "source": [
    "OpenMC also includes a factory function that generates a rectangular prism that could have made our lives easier."
   ]
  },
  {
   "cell_type": "code",
   "execution_count": 31,
   "metadata": {
    "collapsed": false
   },
   "outputs": [
    {
     "data": {
      "text/plain": [
       "openmc.region.Intersection"
      ]
     },
     "execution_count": 31,
     "metadata": {},
     "output_type": "execute_result"
    }
   ],
   "source": [
    "box = openmc.get_rectangular_prism(width=pitch, height=pitch,\n",
    "                                   boundary_type='reflective')\n",
    "type(box)"
   ]
  },
  {
   "cell_type": "markdown",
   "metadata": {},
   "source": [
    "Pay attention here -- the object that was returned is NOT a surface. It is actually the intersection of four surface half-spaces, just like we created manually before. Thus, we don't need to apply the unary operator (`-box`). Instead, we can directly combine it with `+clad_or`."
   ]
  },
  {
   "cell_type": "code",
   "execution_count": 32,
   "metadata": {
    "collapsed": true
   },
   "outputs": [],
   "source": [
    "water_region = box & +clad_or"
   ]
  },
  {
   "cell_type": "markdown",
   "metadata": {},
   "source": [
    "The final step is to assign the cells we created to a universe and tell OpenMC that this universe is the \"root\" universe in our geometry. The `Geometry` is the final object that is actually exported to XML."
   ]
  },
  {
   "cell_type": "code",
   "execution_count": 33,
   "metadata": {
    "collapsed": false
   },
   "outputs": [
    {
     "name": "stdout",
     "output_type": "stream",
     "text": [
      "<?xml version='1.0' encoding='utf-8'?>\r\n",
      "<geometry>\r\n",
      "  <cell id=\"1\" material=\"1\" name=\"fuel\" region=\"-3\" universe=\"3\" />\r\n",
      "  <cell id=\"2\" material=\"void\" name=\"air gap\" region=\"3 -4\" universe=\"3\" />\r\n",
      "  <cell id=\"3\" material=\"2\" name=\"clad\" region=\"4 -5\" universe=\"3\" />\r\n",
      "  <cell id=\"4\" material=\"3\" name=\"moderator\" region=\"6 -7 8 -9 5\" universe=\"3\" />\r\n",
      "  <surface coeffs=\"0.0 0.0 0.39\" id=\"3\" type=\"z-cylinder\" />\r\n",
      "  <surface coeffs=\"0.0 0.0 0.4\" id=\"4\" type=\"z-cylinder\" />\r\n",
      "  <surface coeffs=\"0.0 0.0 0.46\" id=\"5\" type=\"z-cylinder\" />\r\n",
      "  <surface boundary=\"reflective\" coeffs=\"-0.63\" id=\"6\" type=\"x-plane\" />\r\n",
      "  <surface boundary=\"reflective\" coeffs=\"0.63\" id=\"7\" type=\"x-plane\" />\r\n",
      "  <surface boundary=\"reflective\" coeffs=\"-0.63\" id=\"8\" type=\"y-plane\" />\r\n",
      "  <surface boundary=\"reflective\" coeffs=\"0.63\" id=\"9\" type=\"y-plane\" />\r\n",
      "</geometry>\r\n"
     ]
    }
   ],
   "source": [
    "root = openmc.Universe(cells=(fuel, gap, clad, moderator))\n",
    "\n",
    "geom = openmc.Geometry()\n",
    "geom.root_universe = root\n",
    "\n",
    "# or...\n",
    "geom = openmc.Geometry(root)\n",
    "geom.export_to_xml()\n",
    "!cat geometry.xml"
   ]
  },
  {
   "cell_type": "markdown",
   "metadata": {},
   "source": [
    "## Starting source and settings\n",
    "\n",
    "The Python API has a module ``openmc.stats`` with various univariate and multivariate probability distributions. We can use these distributions to create a starting source using the ``openmc.Source`` object."
   ]
  },
  {
   "cell_type": "code",
   "execution_count": 34,
   "metadata": {
    "collapsed": true
   },
   "outputs": [],
   "source": [
    "point = openmc.stats.Point((0, 0, 0))\n",
    "src = openmc.Source(space=point)"
   ]
  },
  {
   "cell_type": "markdown",
   "metadata": {},
   "source": [
    "Now let's create a `Settings` object and give it the source we created along with specifying how many batches and particles we want to run."
   ]
  },
  {
   "cell_type": "code",
   "execution_count": 35,
   "metadata": {
    "collapsed": true
   },
   "outputs": [],
   "source": [
    "settings = openmc.Settings()\n",
    "settings.source = src\n",
    "settings.batches = 100\n",
    "settings.inactive = 10\n",
    "settings.particles = 1000"
   ]
  },
  {
   "cell_type": "code",
   "execution_count": 36,
   "metadata": {
    "collapsed": false
   },
   "outputs": [
    {
     "name": "stdout",
     "output_type": "stream",
     "text": [
      "<?xml version='1.0' encoding='utf-8'?>\r\n",
      "<settings>\r\n",
      "  <run_mode>eigenvalue</run_mode>\r\n",
      "  <particles>1000</particles>\r\n",
      "  <batches>100</batches>\r\n",
      "  <inactive>10</inactive>\r\n",
      "  <source strength=\"1.0\">\r\n",
      "    <space type=\"point\">\r\n",
      "      <parameters>0 0 0</parameters>\r\n",
      "    </space>\r\n",
      "  </source>\r\n",
      "</settings>\r\n"
     ]
    }
   ],
   "source": [
    "settings.export_to_xml()\n",
    "!cat settings.xml"
   ]
  },
  {
   "cell_type": "markdown",
   "metadata": {},
   "source": [
    "## User-defined tallies\n",
    "\n",
    "We actually have all the *required* files needed to run a simulation. Before we do that though, let's give a quick example of how to create tallies. We will show how one would tally the total, fission, absorption, and (n,$\\gamma$) reaction rates for $^{235}$U in the cell containing fuel. Recall that filters allow us to specify *where* in phase-space we want events to be tallied and scores tell us *what* we want to tally:\n",
    "\n",
    "$$X = \\underbrace{\\int d\\mathbf{r} \\int d\\mathbf{\\Omega} \\int dE}_{\\text{filters}} \\; \\underbrace{f(\\mathbf{r},\\mathbf{\\Omega},E)}_{\\text{scores}} \\psi (\\mathbf{r},\\mathbf{\\Omega},E)$$\n",
    "\n",
    "In this case, the *where* is \"the fuel cell\". So, we will create a cell filter specifying the fuel cell."
   ]
  },
  {
   "cell_type": "code",
   "execution_count": 37,
   "metadata": {
    "collapsed": true
   },
   "outputs": [],
   "source": [
    "cell_filter = openmc.CellFilter(fuel)\n",
    "\n",
    "t = openmc.Tally(1)\n",
    "t.filters = [cell_filter]"
   ]
  },
  {
   "cell_type": "markdown",
   "metadata": {},
   "source": [
    "The *what* is the total, fission, absorption, and (n,$\\gamma$) reaction rates in $^{235}$U. By default, if we only specify what reactions, it will gives us tallies over all nuclides. We can use the `nuclides` attribute to name specific nuclides we're interested in."
   ]
  },
  {
   "cell_type": "code",
   "execution_count": 38,
   "metadata": {
    "collapsed": false
   },
   "outputs": [],
   "source": [
    "t.nuclides = ['U235']\n",
    "t.scores = ['total', 'fission', 'absorption', '(n,gamma)']"
   ]
  },
  {
   "cell_type": "markdown",
   "metadata": {},
   "source": [
    "Similar to the other files, we need to create a `Tallies` collection and export it to XML."
   ]
  },
  {
   "cell_type": "code",
   "execution_count": 39,
   "metadata": {
    "collapsed": false
   },
   "outputs": [
    {
     "name": "stdout",
     "output_type": "stream",
     "text": [
      "<?xml version='1.0' encoding='utf-8'?>\r\n",
      "<tallies>\r\n",
      "  <filter id=\"1\" type=\"cell\">\r\n",
      "    <bins>1</bins>\r\n",
      "  </filter>\r\n",
      "  <tally id=\"1\">\r\n",
      "    <filters>1</filters>\r\n",
      "    <nuclides>U235</nuclides>\r\n",
      "    <scores>total fission absorption (n,gamma)</scores>\r\n",
      "  </tally>\r\n",
      "</tallies>\r\n"
     ]
    }
   ],
   "source": [
    "tallies = openmc.Tallies([t])\n",
    "tallies.export_to_xml()\n",
    "!cat tallies.xml"
   ]
  },
  {
   "cell_type": "markdown",
   "metadata": {},
   "source": [
    "## Running OpenMC\n",
    "\n",
    "Running OpenMC from Python can be done using the `openmc.run()` function. This function allows you to set the number of MPI processes and OpenMP threads, if need be."
   ]
  },
  {
   "cell_type": "code",
   "execution_count": 40,
   "metadata": {
    "collapsed": false,
    "scrolled": true
   },
   "outputs": [
    {
     "name": "stdout",
     "output_type": "stream",
     "text": [
      "\n",
      "                               %%%%%%%%%%%%%%%\n",
      "                          %%%%%%%%%%%%%%%%%%%%%%%%\n",
      "                       %%%%%%%%%%%%%%%%%%%%%%%%%%%%%%\n",
      "                     %%%%%%%%%%%%%%%%%%%%%%%%%%%%%%%%%%\n",
      "                   %%%%%%%%%%%%%%%%%%%%%%%%%%%%%%%%%%%%%%\n",
      "                  %%%%%%%%%%%%%%%%%%%%%%%%%%%%%%%%%%%%%%%%\n",
      "                                   %%%%%%%%%%%%%%%%%%%%%%%%\n",
      "                                    %%%%%%%%%%%%%%%%%%%%%%%%\n",
      "                ###############      %%%%%%%%%%%%%%%%%%%%%%%%\n",
      "               ##################     %%%%%%%%%%%%%%%%%%%%%%%\n",
      "               ###################     %%%%%%%%%%%%%%%%%%%%%%%\n",
      "               ####################     %%%%%%%%%%%%%%%%%%%%%%\n",
      "               #####################     %%%%%%%%%%%%%%%%%%%%%\n",
      "               ######################     %%%%%%%%%%%%%%%%%%%%\n",
      "               #######################     %%%%%%%%%%%%%%%%%%\n",
      "                #######################     %%%%%%%%%%%%%%%%%\n",
      "                ######################     %%%%%%%%%%%%%%%%%\n",
      "                 ####################     %%%%%%%%%%%%%%%%%\n",
      "                   #################     %%%%%%%%%%%%%%%%%\n",
      "                    ###############     %%%%%%%%%%%%%%%%\n",
      "                      ############     %%%%%%%%%%%%%%%\n",
      "                         ########     %%%%%%%%%%%%%%\n",
      "                                     %%%%%%%%%%%\n",
      "\n",
      "                   | The OpenMC Monte Carlo Code\n",
      "         Copyright | 2011-2017 Massachusetts Institute of Technology\n",
      "           License | http://openmc.readthedocs.io/en/latest/license.html\n",
      "           Version | 0.9.0\n",
      "          Git SHA1 | 168f202e3ecf48cdd15b541dc396b24465832986\n",
      "         Date/Time | 2017-12-12 15:10:36\n",
      "    OpenMP Threads | 4\n",
      "\n",
      " Reading settings XML file...\n",
      " Reading materials XML file...\n",
      " Reading cross sections XML file...\n",
      " Reading geometry XML file...\n",
      " Building neighboring cells lists for each surface...\n",
      " Reading U235 from /home/romano/openmc/scripts/nndc_hdf5/U235.h5\n",
      " Reading U238 from /home/romano/openmc/scripts/nndc_hdf5/U238.h5\n",
      " Reading O16 from /home/romano/openmc/scripts/nndc_hdf5/O16.h5\n",
      " Reading Zr90 from /home/romano/openmc/scripts/nndc_hdf5/Zr90.h5\n",
      " Reading Zr91 from /home/romano/openmc/scripts/nndc_hdf5/Zr91.h5\n",
      " Reading Zr92 from /home/romano/openmc/scripts/nndc_hdf5/Zr92.h5\n",
      " Reading Zr94 from /home/romano/openmc/scripts/nndc_hdf5/Zr94.h5\n",
      " Reading Zr96 from /home/romano/openmc/scripts/nndc_hdf5/Zr96.h5\n",
      " Reading H1 from /home/romano/openmc/scripts/nndc_hdf5/H1.h5\n",
      " Reading O17 from /home/romano/openmc/scripts/nndc_hdf5/O17.h5\n",
      " Reading c_H_in_H2O from /home/romano/openmc/scripts/nndc_hdf5/c_H_in_H2O.h5\n",
      " Maximum neutron transport energy: 2.00000E+07 eV for U235\n",
      " Reading tallies XML file...\n",
      " Initializing source particles...\n",
      "\n",
      " ====================>     K EIGENVALUE SIMULATION     <====================\n",
      "\n",
      "  Bat./Gen.      k            Average k         \n",
      "  =========   ========   ====================   \n",
      "        1/1    1.32572                       \n",
      "        2/1    1.46138                       \n",
      "        3/1    1.46068                       \n",
      "        4/1    1.39592                       \n",
      "        5/1    1.37519                       \n",
      "        6/1    1.38777                       \n",
      "        7/1    1.50242                       \n",
      "        8/1    1.42042                       \n",
      "        9/1    1.47458                       \n",
      "       10/1    1.49148                       \n",
      "       11/1    1.39339                       \n",
      "       12/1    1.40637    1.39988 +/- 0.00649\n",
      "       13/1    1.42972    1.40983 +/- 0.01063\n",
      "       14/1    1.46319    1.42317 +/- 0.01531\n",
      "       15/1    1.41538    1.42161 +/- 0.01196\n",
      "       16/1    1.38163    1.41494 +/- 0.01182\n",
      "       17/1    1.41257    1.41461 +/- 0.01000\n",
      "       18/1    1.43455    1.41710 +/- 0.00901\n",
      "       19/1    1.33136    1.40757 +/- 0.01241\n",
      "       20/1    1.41560    1.40837 +/- 0.01113\n",
      "       21/1    1.38911    1.40662 +/- 0.01021\n",
      "       22/1    1.28621    1.39659 +/- 0.01370\n",
      "       23/1    1.45693    1.40123 +/- 0.01343\n",
      "       24/1    1.46839    1.40603 +/- 0.01333\n",
      "       25/1    1.46738    1.41012 +/- 0.01306\n",
      "       26/1    1.43977    1.41197 +/- 0.01236\n",
      "       27/1    1.44066    1.41366 +/- 0.01173\n",
      "       28/1    1.39358    1.41254 +/- 0.01112\n",
      "       29/1    1.39142    1.41143 +/- 0.01057\n",
      "       30/1    1.38525    1.41012 +/- 0.01012\n",
      "       31/1    1.38025    1.40870 +/- 0.00973\n",
      "       32/1    1.45348    1.41074 +/- 0.00949\n",
      "       33/1    1.35893    1.40848 +/- 0.00935\n",
      "       34/1    1.32332    1.40493 +/- 0.00963\n",
      "       35/1    1.46285    1.40725 +/- 0.00952\n",
      "       36/1    1.33760    1.40457 +/- 0.00953\n",
      "       37/1    1.41117    1.40482 +/- 0.00917\n",
      "       38/1    1.45574    1.40664 +/- 0.00903\n",
      "       39/1    1.43472    1.40760 +/- 0.00876\n",
      "       40/1    1.30110    1.40405 +/- 0.00918\n",
      "       41/1    1.41765    1.40449 +/- 0.00889\n",
      "       42/1    1.45300    1.40601 +/- 0.00874\n",
      "       43/1    1.40491    1.40597 +/- 0.00847\n",
      "       44/1    1.42053    1.40640 +/- 0.00823\n",
      "       45/1    1.38805    1.40588 +/- 0.00801\n",
      "       46/1    1.34293    1.40413 +/- 0.00798\n",
      "       47/1    1.35441    1.40279 +/- 0.00787\n",
      "       48/1    1.29370    1.39991 +/- 0.00818\n",
      "       49/1    1.48467    1.40209 +/- 0.00826\n",
      "       50/1    1.41759    1.40248 +/- 0.00806\n",
      "       51/1    1.37151    1.40172 +/- 0.00790\n",
      "       52/1    1.42403    1.40225 +/- 0.00773\n",
      "       53/1    1.38826    1.40193 +/- 0.00755\n",
      "       54/1    1.48944    1.40392 +/- 0.00764\n",
      "       55/1    1.41452    1.40415 +/- 0.00747\n",
      "       56/1    1.47337    1.40566 +/- 0.00746\n",
      "       57/1    1.35700    1.40462 +/- 0.00738\n",
      "       58/1    1.40305    1.40459 +/- 0.00722\n",
      "       59/1    1.41608    1.40482 +/- 0.00708\n",
      "       60/1    1.47254    1.40618 +/- 0.00706\n",
      "       61/1    1.36847    1.40544 +/- 0.00696\n",
      "       62/1    1.34103    1.40420 +/- 0.00694\n",
      "       63/1    1.39510    1.40403 +/- 0.00681\n",
      "       64/1    1.40228    1.40399 +/- 0.00668\n",
      "       65/1    1.29401    1.40200 +/- 0.00686\n",
      "       66/1    1.42693    1.40244 +/- 0.00675\n",
      "       67/1    1.36447    1.40177 +/- 0.00666\n",
      "       68/1    1.37498    1.40131 +/- 0.00656\n",
      "       69/1    1.36958    1.40077 +/- 0.00647\n",
      "       70/1    1.38585    1.40053 +/- 0.00637\n",
      "       71/1    1.42133    1.40087 +/- 0.00627\n",
      "       72/1    1.44900    1.40164 +/- 0.00622\n",
      "       73/1    1.37696    1.40125 +/- 0.00613\n",
      "       74/1    1.48851    1.40261 +/- 0.00619\n",
      "       75/1    1.38933    1.40241 +/- 0.00610\n",
      "       76/1    1.41780    1.40264 +/- 0.00601\n",
      "       77/1    1.41054    1.40276 +/- 0.00592\n",
      "       78/1    1.38194    1.40246 +/- 0.00584\n",
      "       79/1    1.38446    1.40219 +/- 0.00576\n",
      "       80/1    1.37504    1.40181 +/- 0.00569\n",
      "       81/1    1.40550    1.40186 +/- 0.00561\n",
      "       82/1    1.49785    1.40319 +/- 0.00569\n",
      "       83/1    1.35613    1.40255 +/- 0.00565\n",
      "       84/1    1.41786    1.40275 +/- 0.00557\n",
      "       85/1    1.38444    1.40251 +/- 0.00550\n",
      "       86/1    1.40459    1.40254 +/- 0.00543\n",
      "       87/1    1.39923    1.40249 +/- 0.00536\n",
      "       88/1    1.44540    1.40304 +/- 0.00532\n",
      "       89/1    1.45962    1.40376 +/- 0.00530\n",
      "       90/1    1.37057    1.40335 +/- 0.00525\n",
      "       91/1    1.38115    1.40307 +/- 0.00519\n",
      "       92/1    1.35758    1.40252 +/- 0.00516\n",
      "       93/1    1.34508    1.40182 +/- 0.00514\n",
      "       94/1    1.31471    1.40079 +/- 0.00519\n",
      "       95/1    1.41434    1.40095 +/- 0.00513\n",
      "       96/1    1.33895    1.40023 +/- 0.00512\n",
      "       97/1    1.44716    1.40077 +/- 0.00509\n",
      "       98/1    1.38455    1.40058 +/- 0.00503\n",
      "       99/1    1.52127    1.40194 +/- 0.00516\n",
      "      100/1    1.35488    1.40141 +/- 0.00513\n",
      " Creating state point statepoint.100.h5...\n",
      "\n",
      " =======================>     TIMING STATISTICS     <=======================\n",
      "\n",
      " Total time for initialization     =  1.5898E+00 seconds\n",
      "   Reading cross sections          =  1.4448E+00 seconds\n",
      " Total time in simulation          =  8.3458E+00 seconds\n",
      "   Time in transport only          =  7.7626E+00 seconds\n",
      "   Time in inactive batches        =  6.6138E-01 seconds\n",
      "   Time in active batches          =  7.6845E+00 seconds\n",
      "   Time synchronizing fission bank =  7.1921E-03 seconds\n",
      "     Sampling source sites         =  4.8562E-03 seconds\n",
      "     SEND/RECV source sites        =  2.0519E-03 seconds\n",
      "   Time accumulating tallies       =  2.3785E-04 seconds\n",
      " Total time for finalization       =  3.0973E-03 seconds\n",
      " Total time elapsed                =  9.9670E+00 seconds\n",
      " Calculation Rate (inactive)       =  15120.0 neutrons/second\n",
      " Calculation Rate (active)         =  11711.9 neutrons/second\n",
      "\n",
      " ============================>     RESULTS     <============================\n",
      "\n",
      " k-effective (Collision)     =  1.39737 +/-  0.00470\n",
      " k-effective (Track-length)  =  1.40141 +/-  0.00513\n",
      " k-effective (Absorption)    =  1.39596 +/-  0.00308\n",
      " Combined k-effective        =  1.39719 +/-  0.00286\n",
      " Leakage Fraction            =  0.00000 +/-  0.00000\n",
      "\n"
     ]
    },
    {
     "data": {
      "text/plain": [
       "0"
      ]
     },
     "execution_count": 40,
     "metadata": {},
     "output_type": "execute_result"
    }
   ],
   "source": [
    "openmc.run()"
   ]
  },
  {
   "cell_type": "markdown",
   "metadata": {},
   "source": [
    "Great! OpenMC already told us our k-effective. It also spit out a file called `tallies.out` that shows our tallies. This is a very basic method to look at tally data; for more sophisticated methods, see other example notebooks."
   ]
  },
  {
   "cell_type": "code",
   "execution_count": 41,
   "metadata": {
    "collapsed": false
   },
   "outputs": [
    {
     "name": "stdout",
     "output_type": "stream",
     "text": [
      "\r\n",
      " ============================>     TALLY 1     <============================\r\n",
      "\r\n",
      " Cell 1\r\n",
      "   U235\r\n",
      "     Total Reaction Rate                  0.731003       +/- 2.53759E-03\r\n",
      "     Fission Rate                         0.547587       +/- 2.10114E-03\r\n",
      "     Absorption Rate                      0.657406       +/- 2.45390E-03\r\n",
      "     (n,gamma)                            0.109821       +/- 3.68054E-04\r\n"
     ]
    }
   ],
   "source": [
    "!cat tallies.out"
   ]
  },
  {
   "cell_type": "markdown",
   "metadata": {},
   "source": [
    "## Geometry plotting\n",
    "\n",
    "We saw before that we could call the `Universe.plot()` method to show a universe while we were creating our geometry. There is also a built-in plotter in the Fortran codebase that is much faster than the Python plotter and has more options. The interface looks somewhat similar to the `Universe.plot()` method. Instead though, we create `Plot` instances, assign them to a `Plots` collection, export it to XML, and then run OpenMC in geometry plotting mode. As an example, let's specify that we want the plot to be colored by material (rather than by cell) and we assign yellow to fuel and blue to water."
   ]
  },
  {
   "cell_type": "code",
   "execution_count": 42,
   "metadata": {
    "collapsed": true
   },
   "outputs": [],
   "source": [
    "p = openmc.Plot()\n",
    "p.filename = 'pinplot'\n",
    "p.width = (pitch, pitch)\n",
    "p.pixels = (200, 200)\n",
    "p.color_by = 'material'\n",
    "p.colors = {uo2: 'yellow', water: 'blue'}"
   ]
  },
  {
   "cell_type": "markdown",
   "metadata": {},
   "source": [
    "With our plot created, we need to add it to a `Plots` collection which can be exported to XML."
   ]
  },
  {
   "cell_type": "code",
   "execution_count": 43,
   "metadata": {
    "collapsed": false
   },
   "outputs": [
    {
     "name": "stdout",
     "output_type": "stream",
     "text": [
      "<?xml version='1.0' encoding='utf-8'?>\r\n",
      "<plots>\r\n",
      "  <plot basis=\"xy\" color_by=\"material\" filename=\"pinplot\" id=\"1\" type=\"slice\">\r\n",
      "    <origin>0.0 0.0 0.0</origin>\r\n",
      "    <width>1.26 1.26</width>\r\n",
      "    <pixels>200 200</pixels>\r\n",
      "    <color id=\"1\" rgb=\"255 255 0\" />\r\n",
      "    <color id=\"3\" rgb=\"0 0 255\" />\r\n",
      "  </plot>\r\n",
      "</plots>\r\n"
     ]
    }
   ],
   "source": [
    "plots = openmc.Plots([p])\n",
    "plots.export_to_xml()\n",
    "!cat plots.xml"
   ]
  },
  {
   "cell_type": "markdown",
   "metadata": {},
   "source": [
    "Now we can run OpenMC in plotting mode by calling the `plot_geometry()` function. Under the hood this is calling `openmc --plot`."
   ]
  },
  {
   "cell_type": "code",
   "execution_count": 44,
   "metadata": {
    "collapsed": false
   },
   "outputs": [
    {
     "name": "stdout",
     "output_type": "stream",
     "text": [
      "\n",
      "                               %%%%%%%%%%%%%%%\n",
      "                          %%%%%%%%%%%%%%%%%%%%%%%%\n",
      "                       %%%%%%%%%%%%%%%%%%%%%%%%%%%%%%\n",
      "                     %%%%%%%%%%%%%%%%%%%%%%%%%%%%%%%%%%\n",
      "                   %%%%%%%%%%%%%%%%%%%%%%%%%%%%%%%%%%%%%%\n",
      "                  %%%%%%%%%%%%%%%%%%%%%%%%%%%%%%%%%%%%%%%%\n",
      "                                   %%%%%%%%%%%%%%%%%%%%%%%%\n",
      "                                    %%%%%%%%%%%%%%%%%%%%%%%%\n",
      "                ###############      %%%%%%%%%%%%%%%%%%%%%%%%\n",
      "               ##################     %%%%%%%%%%%%%%%%%%%%%%%\n",
      "               ###################     %%%%%%%%%%%%%%%%%%%%%%%\n",
      "               ####################     %%%%%%%%%%%%%%%%%%%%%%\n",
      "               #####################     %%%%%%%%%%%%%%%%%%%%%\n",
      "               ######################     %%%%%%%%%%%%%%%%%%%%\n",
      "               #######################     %%%%%%%%%%%%%%%%%%\n",
      "                #######################     %%%%%%%%%%%%%%%%%\n",
      "                ######################     %%%%%%%%%%%%%%%%%\n",
      "                 ####################     %%%%%%%%%%%%%%%%%\n",
      "                   #################     %%%%%%%%%%%%%%%%%\n",
      "                    ###############     %%%%%%%%%%%%%%%%\n",
      "                      ############     %%%%%%%%%%%%%%%\n",
      "                         ########     %%%%%%%%%%%%%%\n",
      "                                     %%%%%%%%%%%\n",
      "\n",
      "                   | The OpenMC Monte Carlo Code\n",
      "         Copyright | 2011-2017 Massachusetts Institute of Technology\n",
      "           License | http://openmc.readthedocs.io/en/latest/license.html\n",
      "           Version | 0.9.0\n",
      "          Git SHA1 | 168f202e3ecf48cdd15b541dc396b24465832986\n",
      "         Date/Time | 2017-12-12 15:10:46\n",
      "    OpenMP Threads | 4\n",
      "\n",
      " Reading settings XML file...\n",
      " Reading materials XML file...\n",
      " Reading cross sections XML file...\n",
      " Reading geometry XML file...\n",
      " Building neighboring cells lists for each surface...\n",
      " Reading tallies XML file...\n",
      " Reading plot XML file...\n",
      "\n",
      " =======================>     PLOTTING SUMMARY     <========================\n",
      "\n",
      " Plot ID:               1\n",
      " Plot file:             pinplot.ppm\n",
      " Universe depth:        -1\n",
      " Plot Type:             Slice\n",
      " Origin:                0.0 0.0 0.0\n",
      " Width:                 1.26000 1.26000\n",
      " Coloring:              Materials\n",
      " Basis:                 xy\n",
      " Pixels:                200 200\n",
      "\n",
      " Processing plot 1: pinplot.ppm ...\n"
     ]
    },
    {
     "data": {
      "text/plain": [
       "0"
      ]
     },
     "execution_count": 44,
     "metadata": {},
     "output_type": "execute_result"
    }
   ],
   "source": [
    "openmc.plot_geometry()"
   ]
  },
  {
   "cell_type": "markdown",
   "metadata": {},
   "source": [
    "OpenMC writes out a peculiar image with a `.ppm` extension. If you have ImageMagick installed, this can be converted into a more normal `.png` file."
   ]
  },
  {
   "cell_type": "code",
   "execution_count": 45,
   "metadata": {
    "collapsed": false
   },
   "outputs": [],
   "source": [
    "!convert pinplot.ppm pinplot.png"
   ]
  },
  {
   "cell_type": "markdown",
   "metadata": {},
   "source": [
    "We can use functionality from IPython to display the image inline in our notebook:"
   ]
  },
  {
   "cell_type": "code",
   "execution_count": 46,
   "metadata": {
    "collapsed": false,
    "scrolled": false
   },
   "outputs": [
    {
     "data": {
      "image/png": "[encoded data removed]",
      "text/plain": [
       "<IPython.core.display.Image object>"
      ]
     },
     "execution_count": 46,
     "metadata": {},
     "output_type": "execute_result"
    }
   ],
   "source": [
    "from IPython.display import Image\n",
    "Image(\"pinplot.png\")"
   ]
  },
  {
   "cell_type": "markdown",
   "metadata": {},
   "source": [
    "That was a little bit cumbersome. Thankfully, OpenMC provides us with a function that does all that \"boilerplate\" work."
   ]
  },
  {
   "cell_type": "code",
   "execution_count": 47,
   "metadata": {
    "collapsed": false
   },
   "outputs": [
    {
     "data": {
      "image/png": "[encoded data removed]",
      "text/plain": [
       "<IPython.core.display.Image object>"
      ]
     },
     "metadata": {},
     "output_type": "display_data"
    }
   ],
   "source": [
    "openmc.plot_inline(p)"
   ]
  }
 ],
 "metadata": {
  "anaconda-cloud": {},
  "kernelspec": {
   "display_name": "Python 3",
   "language": "python",
   "name": "python3"
  },
  "language_info": {
   "codemirror_mode": {
    "name": "ipython",
    "version": 3
   },
   "file_extension": ".py",
   "mimetype": "text/x-python",
   "name": "python",
   "nbconvert_exporter": "python",
   "pygments_lexer": "ipython3",
   "version": "3.6.0"
  }
 },
 "nbformat": 4,
 "nbformat_minor": 0
}
