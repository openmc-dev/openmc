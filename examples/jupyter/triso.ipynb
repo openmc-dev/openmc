{
 "cells": [
  {
   "cell_type": "markdown",
   "metadata": {},
   "source": [
    "OpenMC includes a few convenience functions for generationing TRISO particle locations and placing them in a lattice. To be clear, this capability is not a stochastic geometry capability like that included in MCNP. It's also important to note that OpenMC does not use delta tracking, which would normally speed up calculations in geometries with tons of surfaces and cells. However, the computational burden can be eased by placing TRISO particles in a lattice."
   ]
  },
  {
   "cell_type": "code",
   "execution_count": 1,
   "metadata": {
    "collapsed": true
   },
   "outputs": [],
   "source": [
    "%matplotlib inline\n",
    "from math import pi\n",
    "import numpy as np\n",
    "import matplotlib.pyplot as plt\n",
    "import openmc\n",
    "import openmc.model"
   ]
  },
  {
   "cell_type": "markdown",
   "metadata": {},
   "source": [
    "Let's first start by creating materials that will be used in our TRISO particles and the background material."
   ]
  },
  {
   "cell_type": "code",
   "execution_count": 2,
   "metadata": {
    "collapsed": false
   },
   "outputs": [],
   "source": [
    "fuel = openmc.Material(name='Fuel')\n",
    "fuel.set_density('g/cm3', 10.5)\n",
    "fuel.add_nuclide('U235', 4.6716e-02)\n",
    "fuel.add_nuclide('U238', 2.8697e-01)\n",
    "fuel.add_nuclide('O16',  5.0000e-01)\n",
    "fuel.add_element('C', 1.6667e-01)\n",
    "\n",
    "buff = openmc.Material(name='Buffer')\n",
    "buff.set_density('g/cm3', 1.0)\n",
    "buff.add_element('C', 1.0)\n",
    "buff.add_s_alpha_beta('c_Graphite')\n",
    "\n",
    "PyC1 = openmc.Material(name='PyC1')\n",
    "PyC1.set_density('g/cm3', 1.9)\n",
    "PyC1.add_element('C', 1.0)\n",
    "PyC1.add_s_alpha_beta('c_Graphite')\n",
    "\n",
    "PyC2 = openmc.Material(name='PyC2')\n",
    "PyC2.set_density('g/cm3', 1.87)\n",
    "PyC2.add_element('C', 1.0)\n",
    "PyC2.add_s_alpha_beta('c_Graphite')\n",
    "\n",
    "SiC = openmc.Material(name='SiC')\n",
    "SiC.set_density('g/cm3', 3.2)\n",
    "SiC.add_element('C', 0.5)\n",
    "SiC.add_element('Si', 0.5)\n",
    "\n",
    "graphite = openmc.Material()\n",
    "graphite.set_density('g/cm3', 1.1995)\n",
    "graphite.add_element('C', 1.0)\n",
    "graphite.add_s_alpha_beta('c_Graphite')"
   ]
  },
  {
   "cell_type": "markdown",
   "metadata": {},
   "source": [
    "To actually create individual TRISO particles, we first need to create a universe that will be used within each particle. The reason we use the same universe for each TRISO particle is to reduce the total number of cells/surfaces needed which can substantially improve performance over using unique cells/surfaces in each."
   ]
  },
  {
   "cell_type": "code",
   "execution_count": 3,
   "metadata": {
    "collapsed": false
   },
   "outputs": [],
   "source": [
    "# Create TRISO universe\n",
    "spheres = [openmc.Sphere(R=r*1e-4)\n",
    "           for r in [215., 315., 350., 385.]]\n",
    "cells = [openmc.Cell(fill=fuel, region=-spheres[0]),\n",
    "         openmc.Cell(fill=buff, region=+spheres[0] & -spheres[1]),\n",
    "         openmc.Cell(fill=PyC1, region=+spheres[1] & -spheres[2]),\n",
    "         openmc.Cell(fill=SiC, region=+spheres[2] & -spheres[3]),\n",
    "         openmc.Cell(fill=PyC2, region=+spheres[3])]\n",
    "triso_univ = openmc.Universe(cells=cells)"
   ]
  },
  {
   "cell_type": "markdown",
   "metadata": {},
   "source": [
    "Now that we have a universe that can be used for each TRISO particle, we need to randomly select locations. In this example, we will select locations at random within a 1 cm x 1 cm x 1 cm box centered at the origin with a packing fraction of 30%. Note that `pack_trisos` can handle up to the theoretical maximum of 60% (it will just be slow)."
   ]
  },
  {
   "cell_type": "code",
   "execution_count": 4,
   "metadata": {
    "collapsed": false
   },
   "outputs": [],
   "source": [
    "outer_radius = 425.*1e-4\n",
    "\n",
    "trisos = openmc.model.pack_trisos(\n",
    "    radius=outer_radius,\n",
    "    fill=triso_univ,\n",
    "    domain_shape='cube',\n",
    "    domain_length=1,\n",
    "    packing_fraction=0.3\n",
    ")"
   ]
  },
  {
   "cell_type": "markdown",
   "metadata": {},
   "source": [
    "Each TRISO object actually **is** a Cell, in fact; we can look at the properties of the TRISO just as we would a cell:"
   ]
  },
  {
   "cell_type": "code",
   "execution_count": 5,
   "metadata": {
    "collapsed": false
   },
   "outputs": [
    {
     "name": "stdout",
     "output_type": "stream",
     "text": [
      "Cell\n",
      "\tID             =\t10005\n",
      "\tName           =\t\n",
      "\tFill           =\t10000\n",
      "\tRegion         =\t-10004\n",
      "\tRotation       =\tNone\n",
      "\tTranslation    =\t[-0.33455672  0.31790187  0.24135378]\n",
      "\n"
     ]
    }
   ],
   "source": [
    "print(trisos[0])"
   ]
  },
  {
   "cell_type": "markdown",
   "metadata": {},
   "source": [
    "Let's confirm that all our TRISO particles are within the box."
   ]
  },
  {
   "cell_type": "code",
   "execution_count": 6,
   "metadata": {
    "collapsed": false
   },
   "outputs": [
    {
     "name": "stdout",
     "output_type": "stream",
     "text": [
      "[-0.45718713 -0.45730405 -0.45725048]\n",
      "[ 0.45705454  0.45743843  0.45741142]\n"
     ]
    }
   ],
   "source": [
    "centers = np.vstack([t.center for t in trisos])\n",
    "print(centers.min(axis=0))\n",
    "print(centers.max(axis=0))"
   ]
  },
  {
   "cell_type": "markdown",
   "metadata": {},
   "source": [
    "We can also look at what the actual packing fraction turned out to be:"
   ]
  },
  {
   "cell_type": "code",
   "execution_count": 7,
   "metadata": {
    "collapsed": false
   },
   "outputs": [
    {
     "data": {
      "text/plain": [
       "0.2996893513959326"
      ]
     },
     "execution_count": 7,
     "metadata": {},
     "output_type": "execute_result"
    }
   ],
   "source": [
    "len(trisos)*4/3*pi*outer_radius**3"
   ]
  },
  {
   "cell_type": "markdown",
   "metadata": {},
   "source": [
    "Now that we have our TRISO particles created, we need to place them in a lattice to provide optimal tracking performance in OpenMC. We'll start by creating a box that the lattice will be placed within."
   ]
  },
  {
   "cell_type": "code",
   "execution_count": 8,
   "metadata": {
    "collapsed": false,
    "scrolled": true
   },
   "outputs": [],
   "source": [
    "min_x = openmc.XPlane(x0=-0.5, boundary_type='reflective')\n",
    "max_x = openmc.XPlane(x0=0.5, boundary_type='reflective')\n",
    "min_y = openmc.YPlane(y0=-0.5, boundary_type='reflective')\n",
    "max_y = openmc.YPlane(y0=0.5, boundary_type='reflective')\n",
    "min_z = openmc.ZPlane(z0=-0.5, boundary_type='reflective')\n",
    "max_z = openmc.ZPlane(z0=0.5, boundary_type='reflective')\n",
    "box = openmc.Cell(region=+min_x & -max_x & +min_y & -max_y & +min_z & -max_z)"
   ]
  },
  {
   "cell_type": "markdown",
   "metadata": {},
   "source": [
    "Our last step is to actually create a lattice containing TRISO particles which can be done with `model.create_triso_lattice()` function. This function requires that we give it a list of TRISO particles, the lower-left coordinates of the lattice, the pitch of each lattice cell, the overall shape of the lattice (number of cells in each direction), and a background material."
   ]
  },
  {
   "cell_type": "code",
   "execution_count": 9,
   "metadata": {
    "collapsed": false
   },
   "outputs": [],
   "source": [
    "lower_left, upper_right = box.region.bounding_box\n",
    "shape = (3, 3, 3)\n",
    "pitch = (upper_right - lower_left)/shape\n",
    "lattice = openmc.model.create_triso_lattice(\n",
    "    trisos, lower_left, pitch, shape, graphite)"
   ]
  },
  {
   "cell_type": "markdown",
   "metadata": {},
   "source": [
    "Now we can set the fill of our box cell to be the lattice:"
   ]
  },
  {
   "cell_type": "code",
   "execution_count": 10,
   "metadata": {
    "collapsed": true
   },
   "outputs": [],
   "source": [
    "box.fill = lattice"
   ]
  },
  {
   "cell_type": "markdown",
   "metadata": {},
   "source": [
    "Finally, let's take a look at our geometry by putting the box in a universe and plotting it. We're going to use the Fortran-side plotter since it's much faster."
   ]
  },
  {
   "cell_type": "code",
   "execution_count": 11,
   "metadata": {
    "collapsed": false
   },
   "outputs": [
    {
     "data": {
      "image/png": "[encoded data removed]",
      "text/plain": [
       "<IPython.core.display.Image object>"
      ]
     },
     "metadata": {},
     "output_type": "display_data"
    }
   ],
   "source": [
    "univ = openmc.Universe(cells=[box])\n",
    "\n",
    "geom = openmc.Geometry(univ)\n",
    "geom.export_to_xml()\n",
    "\n",
    "mats = list(geom.get_all_materials().values())\n",
    "openmc.Materials(mats).export_to_xml()\n",
    "\n",
    "settings = openmc.Settings()\n",
    "settings.run_mode = 'plot'\n",
    "settings.export_to_xml()\n",
    "\n",
    "p = openmc.Plot.from_geometry(geom)\n",
    "openmc.plot_inline(p)"
   ]
  },
  {
   "cell_type": "markdown",
   "metadata": {},
   "source": [
    "If we plot the universe by material rather than by cell, we can see that the entire background is just graphite."
   ]
  },
  {
   "cell_type": "code",
   "execution_count": 12,
   "metadata": {
    "collapsed": false
   },
   "outputs": [
    {
     "data": {
      "image/png": "[encoded data removed]",
      "text/plain": [
       "<IPython.core.display.Image object>"
      ]
     },
     "metadata": {},
     "output_type": "display_data"
    }
   ],
   "source": [
    "p.color_by = 'material'\n",
    "p.colors = {graphite: 'gray'}\n",
    "openmc.plot_inline(p)"
   ]
  }
 ],
 "metadata": {
  "anaconda-cloud": {},
  "kernelspec": {
   "display_name": "Python [default]",
   "language": "python",
   "name": "python3"
  },
  "language_info": {
   "codemirror_mode": {
    "name": "ipython",
    "version": 3
   },
   "file_extension": ".py",
   "mimetype": "text/x-python",
   "name": "python",
   "nbconvert_exporter": "python",
   "pygments_lexer": "ipython3",
   "version": "3.5.2"
  }
 },
 "nbformat": 4,
 "nbformat_minor": 0
}
