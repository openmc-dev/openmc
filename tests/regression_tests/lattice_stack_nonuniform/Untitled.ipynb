{
 "cells": [
  {
   "cell_type": "code",
   "execution_count": 1,
   "id": "b9a4a8e6",
   "metadata": {},
   "outputs": [],
   "source": [
    "import openmc"
   ]
  },
  {
   "cell_type": "code",
   "execution_count": 3,
   "id": "48f0c339",
   "metadata": {},
   "outputs": [],
   "source": [
    "model = openmc.model.Model()\n",
    "\n",
    "uo2 = openmc.Material(name='UO2')\n",
    "uo2.set_density('g/cm3', 10.0)\n",
    "uo2.add_nuclide('U235', 1.0)\n",
    "uo2.add_nuclide('O16', 2.0)\n",
    "water = openmc.Material(name='light water')\n",
    "water.add_nuclide('H1', 2.0)\n",
    "water.add_nuclide('O16', 1.0)\n",
    "water.set_density('g/cm3', 1.0)\n",
    "water.add_s_alpha_beta('c_H_in_H2O')\n",
    "model.materials.extend([uo2, water])\n",
    "\n",
    "rc = 0.4\n",
    "h1 = 1.0\n",
    "h2 = 2.0\n",
    "h_avg = (h1 + h2) / 2\n",
    "cyl = openmc.ZCylinder(r=rc)\n",
    "top1 = openmc.ZPlane(z0=h1)\n",
    "top2 = openmc.ZPlane(z0=h2)\n",
    "bottom = openmc.ZPlane(z0=0.)\n",
    "pellet1 = -cyl & -top1 & +bottom\n",
    "pellet2 = -cyl & -top2 & +bottom\n",
    "water_slice1 = +cyl & -top1 & +bottom\n",
    "water_slice2 = +cyl & -top2 & +bottom\n",
    "\n",
    "fuel1 = openmc.Cell(fill=uo2, region=pellet1)\n",
    "fuel2 = openmc.Cell(fill=uo2, region=pellet2)\n",
    "water_reflector1 = openmc.Cell(fill=water, region=water_slice1)\n",
    "water_reflector2 = openmc.Cell(fill=water, region=water_slice2)\n",
    "layer1 = openmc.Universe(cells=[fuel1, water_reflector1])\n",
    "layer2 = openmc.Universe(cells=[fuel2, water_reflector2])\n",
    "\n",
    "\n",
    "n_pellets = 2\n",
    "\n",
    "top = openmc.ZPlane(z0 = n_pellets * h_avg)\n",
    "bot = openmc.ZPlane(z0=0.)\n",
    "tb_refl = openmc.Cell(fill=water, region=-bot | +top)\n",
    "\n",
    "d = 1.5 * rc\n",
    "box = openmc.model.RectangularParallelepiped(-d, d, -d, d, 0. - d,\n",
    "                                           n_pellets * h_avg + d,\n",
    "                                           boundary_type='reflective')\n",
    "outer_cell = openmc.Cell(fill=water, region=+box)\n",
    "\n",
    "univs = [layer1, layer2]# * int(n_pellets / 2)\n",
    "pellet_stack = openmc.StackLattice()\n",
    "pellet_stack.central_axis = (0., 0.)\n",
    "pellet_stack.base_coordinate = 0.\n",
    "pellet_stack.universes = univs\n",
    "\n",
    "pellet_stack.pitch = [h1, h2]# * int(n_pellets / 2)\n",
    "pellet_stack.outer = openmc.Universe(cells=[outer_cell])\n",
    "\n",
    "stack_cell = openmc.Cell(fill=pellet_stack)\n",
    "\n",
    "pin_univ = openmc.Universe(cells=[stack_cell, tb_refl])\n",
    "\n",
    "main_cell = openmc.Cell(fill=pin_univ, region=-box)\n",
    "model.geometry = openmc.Geometry([main_cell])\n",
    "\n",
    "model.settings.batches = 10\n",
    "model.settings.inactive = 5\n",
    "model.settings.particles = 1000\n",
    "\n",
    "model.export_to_xml()"
   ]
  },
  {
   "cell_type": "code",
   "execution_count": 3,
   "id": "5889b469",
   "metadata": {},
   "outputs": [
    {
     "data": {
      "text/plain": [
       "array([0., 1., 3.])"
      ]
     },
     "execution_count": 3,
     "metadata": {},
     "output_type": "execute_result"
    }
   ],
   "source": [
    "pellet_stack._layer_boundaries"
   ]
  },
  {
   "cell_type": "code",
   "execution_count": 4,
   "id": "19dc886d",
   "metadata": {},
   "outputs": [
    {
     "data": {
      "text/plain": [
       "1.0"
      ]
     },
     "execution_count": 4,
     "metadata": {},
     "output_type": "execute_result"
    }
   ],
   "source": [
    "pellet_stack.pitch"
   ]
  },
  {
   "cell_type": "code",
   "execution_count": 9,
   "id": "671f2f2b",
   "metadata": {},
   "outputs": [
    {
     "data": {
      "text/plain": [
       "<RectangularParallelepiped at 0x7f8a3b11d0f0>"
      ]
     },
     "execution_count": 9,
     "metadata": {},
     "output_type": "execute_result"
    }
   ],
   "source": [
    "box"
   ]
  },
  {
   "cell_type": "code",
   "execution_count": 5,
   "id": "ec9e59c1",
   "metadata": {},
   "outputs": [
    {
     "ename": "TypeError",
     "evalue": "object of type 'int' has no len()",
     "output_type": "error",
     "traceback": [
      "\u001b[0;31m---------------------------------------------------------------------------\u001b[0m",
      "\u001b[0;31mTypeError\u001b[0m                                 Traceback (most recent call last)",
      "Input \u001b[0;32mIn [5]\u001b[0m, in \u001b[0;36m<cell line: 1>\u001b[0;34m()\u001b[0m\n\u001b[0;32m----> 1\u001b[0m \u001b[38;5;28;43mlen\u001b[39;49m\u001b[43m(\u001b[49m\u001b[38;5;241;43m1\u001b[39;49m\u001b[43m)\u001b[49m\n",
      "\u001b[0;31mTypeError\u001b[0m: object of type 'int' has no len()"
     ]
    }
   ],
   "source": []
  },
  {
   "cell_type": "code",
   "execution_count": 12,
   "id": "645b90ad",
   "metadata": {
    "scrolled": true
   },
   "outputs": [
    {
     "data": {
      "text/plain": [
       "<matplotlib.image.AxesImage at 0x7fcd34cf2530>"
      ]
     },
     "execution_count": 12,
     "metadata": {},
     "output_type": "execute_result"
    },
    {
     "data": {
      "image/png": "[encoded data removed]",
      "text/plain": [
       "<Figure size 432x288 with 1 Axes>"
      ]
     },
     "metadata": {
      "needs_background": "light"
     },
     "output_type": "display_data"
    }
   ],
   "source": [
    "pin_univ.plot(width=(2.,5.), origin=(0.,0.,0.), basis='xz', color_by='material', colors={uo2: 'red', water: 'blue'})"
   ]
  },
  {
   "cell_type": "code",
   "execution_count": 13,
   "id": "44530e60",
   "metadata": {},
   "outputs": [
    {
     "data": {
      "text/plain": [
       "<matplotlib.image.AxesImage at 0x7fcd34d5ccd0>"
      ]
     },
     "execution_count": 13,
     "metadata": {},
     "output_type": "execute_result"
    },
    {
     "data": {
      "image/png": "[encoded data removed]",
      "text/plain": [
       "<Figure size 432x288 with 1 Axes>"
      ]
     },
     "metadata": {
      "needs_background": "light"
     },
     "output_type": "display_data"
    }
   ],
   "source": [
    "#import pdb\n",
    "#pdb.set_trace()\n",
    "model.geometry.root_universe.plot(width=(2.,5.), origin=(0.,0.,-2), basis='xz', color_by='material', colors={uo2: 'red', water: 'blue'})"
   ]
  },
  {
   "cell_type": "code",
   "execution_count": 12,
   "id": "46414807",
   "metadata": {},
   "outputs": [
    {
     "data": {
      "text/plain": [
       "array([0., 1., 3.])"
      ]
     },
     "execution_count": 12,
     "metadata": {},
     "output_type": "execute_result"
    }
   ],
   "source": [
    "pellet_stack._layer_boundaries"
   ]
  },
  {
   "cell_type": "code",
   "execution_count": 19,
   "id": "47420492",
   "metadata": {},
   "outputs": [
    {
     "data": {
      "text/plain": [
       "[Universe\n",
       " \tID             =\t19\n",
       " \tName           =\t\n",
       " \tGeom           =\tCSG\n",
       " \tCells          =\t[29, 31],\n",
       " Universe\n",
       " \tID             =\t20\n",
       " \tName           =\t\n",
       " \tGeom           =\tCSG\n",
       " \tCells          =\t[30, 32]]"
      ]
     },
     "execution_count": 19,
     "metadata": {},
     "output_type": "execute_result"
    }
   ],
   "source": [
    "pellet_stack._universes"
   ]
  },
  {
   "cell_type": "code",
   "execution_count": 15,
   "id": "f4632cfa",
   "metadata": {},
   "outputs": [
    {
     "data": {
      "text/plain": [
       "2"
      ]
     },
     "execution_count": 15,
     "metadata": {},
     "output_type": "execute_result"
    }
   ],
   "source": [
    "pellet_stack._orientation_idx"
   ]
  },
  {
   "cell_type": "code",
   "execution_count": 10,
   "id": "0ecf9b11",
   "metadata": {},
   "outputs": [],
   "source": [
    "plotxy = openmc.Plot()\n",
    "plotxy.basis = 'xy'\n",
    "plotxy.origin = (0., 0., 1.)\n",
    "plotxy.width = (5., 5.)\n",
    "plotxy.pixels = (400, 400)\n",
    "plotxy.color_by = 'material'\n",
    "\n",
    "plotxy.colors = {\n",
    "    uo2: 'red',\n",
    "    water: 'blue'\n",
    "}\n",
    "plotxy.filename = 'xy'\n",
    "\n",
    "plotxz = openmc.Plot()\n",
    "plotxz.basis = 'xz'\n",
    "plotxz.origin = (0., 0., 1.)\n",
    "plotxz.width = (5., 5.)\n",
    "plotxz.pixels = (400, 400)\n",
    "plotxz.color_by = 'material'\n",
    "\n",
    "plotxz.colors = {\n",
    "    uo2: 'red',\n",
    "    water: 'blue'\n",
    "}\n",
    "plotxz.filename = 'xz'\n",
    "\n",
    "plots = openmc.Plots([plotxy, plotxz])\n",
    "plots.export_to_xml()"
   ]
  },
  {
   "cell_type": "code",
   "execution_count": 11,
   "id": "53233712",
   "metadata": {},
   "outputs": [],
   "source": [
    "model.export_to_xml()"
   ]
  },
  {
   "cell_type": "code",
   "execution_count": 3,
   "id": "6216cbdb",
   "metadata": {},
   "outputs": [
    {
     "data": {
      "text/plain": [
       "StackLattice\n",
       "\tID             =\t3\n",
       "\tName           =\t\n",
       "\tOrientation    =\tz\n",
       "\t# Layers       =\t2\n",
       "\tPitch          =\t[1.0, 2.0]\n",
       "\tbase_coordinate=\t0.0\n",
       "\tcentral_axis   =\t(0.0, 0.0)\n",
       "\tOuter          =\tNone\n",
       "\tUniverses, z-coord\n",
       "1, 0.0\n",
       "2, 1.0"
      ]
     },
     "execution_count": 3,
     "metadata": {},
     "output_type": "execute_result"
    }
   ],
   "source": [
    "pellet_stack"
   ]
  },
  {
   "cell_type": "code",
   "execution_count": 7,
   "id": "a47268fa",
   "metadata": {},
   "outputs": [
    {
     "data": {
      "text/plain": [
       "-0.6666666666666666"
      ]
     },
     "execution_count": 7,
     "metadata": {},
     "output_type": "execute_result"
    }
   ],
   "source": [
    "(-1 - 0) / 1.5"
   ]
  },
  {
   "cell_type": "code",
   "execution_count": null,
   "id": "2eaeccde",
   "metadata": {},
   "outputs": [],
   "source": []
  }
 ],
 "metadata": {
  "kernelspec": {
   "display_name": "Python 3 (ipykernel)",
   "language": "python",
   "name": "python3"
  },
  "language_info": {
   "codemirror_mode": {
    "name": "ipython",
    "version": 3
   },
   "file_extension": ".py",
   "mimetype": "text/x-python",
   "name": "python",
   "nbconvert_exporter": "python",
   "pygments_lexer": "ipython3",
   "version": "3.10.4"
  }
 },
 "nbformat": 4,
 "nbformat_minor": 5
}
