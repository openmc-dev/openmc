{
 "cells": [
  {
   "cell_type": "code",
   "execution_count": 1,
   "id": "b9a4a8e6",
   "metadata": {},
   "outputs": [],
   "source": [
    "import openmc"
   ]
  },
  {
   "cell_type": "code",
   "execution_count": 2,
   "id": "48f0c339",
   "metadata": {},
   "outputs": [],
   "source": [
    "model = openmc.model.Model()\n",
    "\n",
    "uo2 = openmc.Material(name='UO2')\n",
    "uo2.set_density('g/cm3', 10.0)\n",
    "uo2.add_nuclide('U235', 1.0)\n",
    "uo2.add_nuclide('O16', 2.0)\n",
    "water = openmc.Material(name='light water')\n",
    "water.add_nuclide('H1', 2.0)\n",
    "water.add_nuclide('O16', 1.0)\n",
    "water.set_density('g/cm3', 1.0)\n",
    "water.add_s_alpha_beta('c_H_in_H2O')\n",
    "model.materials.extend([uo2, water])\n",
    "\n",
    "rc = 0.4\n",
    "h1 = 1.0\n",
    "h2 = 2.0\n",
    "h_avg = (h1 + h2) / 2\n",
    "cyl = openmc.ZCylinder(r=rc)\n",
    "top1 = openmc.ZPlane(z0=h1)\n",
    "top2 = openmc.ZPlane(z0=h2)\n",
    "bottom = openmc.ZPlane(z0=0.)\n",
    "pellet1 = -cyl & -top1 & +bottom\n",
    "pellet2 = -cyl & -top2 & +bottom\n",
    "water_slice1 = +cyl & -top1 & +bottom\n",
    "water_slice2 = +cyl & -top2 & +bottom\n",
    "\n",
    "fuel1 = openmc.Cell(fill=uo2, region=pellet1)\n",
    "fuel2 = openmc.Cell(fill=uo2, region=pellet2)\n",
    "water_reflector1 = openmc.Cell(fill=water, region=water_slice1)\n",
    "water_reflector2 = openmc.Cell(fill=water, region=water_slice2)\n",
    "layer1 = openmc.Universe(cells=[fuel1, water_reflector1])\n",
    "layer2 = openmc.Universe(cells=[fuel2, water_reflector2])\n",
    "\n",
    "\n",
    "n_pellets = 200\n",
    "\n",
    "top = openmc.ZPlane(z0 = n_pellets * h_avg)\n",
    "tb_refl = openmc.Cell(fill=water, region=-bottom | +top)\n",
    "\n",
    "d = 1.5 * rc\n",
    "box = openmc.model.RectangularParallelepiped(-d, d, -d, d, 0. - d,\n",
    "                                           n_pellets * h_avg + d,\n",
    "                                           boundary_type='reflective')\n",
    "#outer_cell = openmc.Cell(fill=water, region=+box)\n",
    "\n",
    "univs = [layer1, layer2] * int(n_pellets / 2)\n",
    "pellet_stack = openmc.StackLattice()\n",
    "pellet_stack.central_axis = (0., 0.)\n",
    "pellet_stack.base_coordinate = 0.\n",
    "pellet_stack.universes = univs\n",
    "pellet_stack.is_uniform = False\n",
    "\n",
    "pellet_stack.pitch = [h1, h2] * int(n_pellets / 2)\n",
    "#pellet_stack.outer = openmc.Universe(cells=[outer_cell])\n",
    "\n",
    "stack_cell = openmc.Cell(fill=pellet_stack)\n",
    "\n",
    "pin_univ = openmc.Universe(cells=[stack_cell, tb_refl])\n",
    "\n",
    "main_cell = openmc.Cell(fill=pin_univ, region=-box)\n",
    "model.geometry = openmc.Geometry([main_cell])\n",
    "\n",
    "model.settings.batches = 10\n",
    "model.settings.inactive = 5\n",
    "model.settings.particles = 1000\n",
    "\n",
    "model.export_to_xml()"
   ]
  },
  {
   "cell_type": "code",
   "execution_count": 21,
   "id": "5889b469",
   "metadata": {},
   "outputs": [
    {
     "data": {
      "text/plain": [
       "1"
      ]
     },
     "execution_count": 21,
     "metadata": {},
     "output_type": "execute_result"
    }
   ],
   "source": [
    "pellet_stack.num_layers"
   ]
  },
  {
   "cell_type": "code",
   "execution_count": 22,
   "id": "19dc886d",
   "metadata": {},
   "outputs": [
    {
     "data": {
      "text/plain": [
       "[1.0]"
      ]
     },
     "execution_count": 22,
     "metadata": {},
     "output_type": "execute_result"
    }
   ],
   "source": [
    "pellet_stack.pitch"
   ]
  },
  {
   "cell_type": "code",
   "execution_count": null,
   "id": "ec9e59c1",
   "metadata": {
    "scrolled": true
   },
   "outputs": [],
   "source": []
  },
  {
   "cell_type": "code",
   "execution_count": 3,
   "id": "645b90ad",
   "metadata": {
    "scrolled": true
   },
   "outputs": [
    {
     "data": {
      "text/plain": [
       "<matplotlib.image.AxesImage at 0x7fef7428c7f0>"
      ]
     },
     "execution_count": 3,
     "metadata": {},
     "output_type": "execute_result"
    },
    {
     "data": {
      "image/png": "[encoded data removed]",
      "text/plain": [
       "<Figure size 432x288 with 1 Axes>"
      ]
     },
     "metadata": {
      "needs_background": "light"
     },
     "output_type": "display_data"
    }
   ],
   "source": [
    "pin_univ.plot(pixels=[50,50],width=(2.,5.), origin=(0.,0.,2.), basis='xz', color_by='material', colors={uo2: 'red', water: 'blue'})"
   ]
  },
  {
   "cell_type": "code",
   "execution_count": 4,
   "id": "44530e60",
   "metadata": {
    "scrolled": true
   },
   "outputs": [
    {
     "data": {
      "text/plain": [
       "<matplotlib.image.AxesImage at 0x7fef6bf2a5f0>"
      ]
     },
     "execution_count": 4,
     "metadata": {},
     "output_type": "execute_result"
    },
    {
     "data": {
      "image/png": "[encoded data removed]",
      "text/plain": [
       "<Figure size 432x288 with 1 Axes>"
      ]
     },
     "metadata": {
      "needs_background": "light"
     },
     "output_type": "display_data"
    }
   ],
   "source": [
    "import pdb\n",
    "pdb.traceback\n",
    "model.geometry.root_universe.plot(pixels=[50,50], width=(2.,5.), origin=(0.,0.,1.5), basis='xz', color_by='material', colors={uo2: 'red', water: 'blue'})"
   ]
  },
  {
   "cell_type": "code",
   "execution_count": null,
   "id": "10469a4a",
   "metadata": {},
   "outputs": [],
   "source": []
  },
  {
   "cell_type": "code",
   "execution_count": 3,
   "id": "46414807",
   "metadata": {},
   "outputs": [
    {
     "data": {
      "text/plain": [
       "array([0., 1., 3.])"
      ]
     },
     "execution_count": 3,
     "metadata": {},
     "output_type": "execute_result"
    }
   ],
   "source": [
    "pellet_stack._layer_boundabries"
   ]
  },
  {
   "cell_type": "code",
   "execution_count": 5,
   "id": "e0cf54bf",
   "metadata": {},
   "outputs": [
    {
     "data": {
      "text/plain": [
       "2.6"
      ]
     },
     "execution_count": 5,
     "metadata": {},
     "output_type": "execute_result"
    }
   ],
   "source": [
    "n_pellets * h_avg + d"
   ]
  },
  {
   "cell_type": "code",
   "execution_count": null,
   "id": "47420492",
   "metadata": {},
   "outputs": [],
   "source": [
    "pellet_stack._universes"
   ]
  },
  {
   "cell_type": "code",
   "execution_count": null,
   "id": "f4632cfa",
   "metadata": {},
   "outputs": [],
   "source": [
    "pellet_stack._orientation_idx"
   ]
  },
  {
   "cell_type": "code",
   "execution_count": 3,
   "id": "0ecf9b11",
   "metadata": {},
   "outputs": [],
   "source": [
    "plotxy = openmc.Plot()\n",
    "plotxy.basis = 'xy'\n",
    "plotxy.origin = (0., 0., 1.)\n",
    "plotxy.width = (5., 5.)\n",
    "plotxy.pixels = (400, 400)\n",
    "plotxy.color_by = 'material'\n",
    "\n",
    "plotxy.colors = {\n",
    "    uo2: 'red',\n",
    "    water: 'blue'\n",
    "}\n",
    "plotxy.filename = 'xy'\n",
    "\n",
    "plotxz = openmc.Plot()\n",
    "plotxz.basis = 'xz'\n",
    "plotxz.origin = (0., 0., 1.)\n",
    "plotxz.width = (5., 5.)\n",
    "plotxz.pixels = (400, 400)\n",
    "plotxz.color_by = 'material'\n",
    "\n",
    "plotxz.colors = {\n",
    "    uo2: 'red',\n",
    "    water: 'blue'\n",
    "}\n",
    "plotxz.filename = 'xz'\n",
    "\n",
    "plots = openmc.Plots([plotxy, plotxz])\n",
    "plots.export_to_xml()"
   ]
  },
  {
   "cell_type": "code",
   "execution_count": null,
   "id": "53233712",
   "metadata": {},
   "outputs": [],
   "source": [
    "model.export_to_xml()"
   ]
  },
  {
   "cell_type": "code",
   "execution_count": null,
   "id": "6216cbdb",
   "metadata": {},
   "outputs": [],
   "source": [
    "pellet_stack"
   ]
  },
  {
   "cell_type": "code",
   "execution_count": null,
   "id": "a47268fa",
   "metadata": {},
   "outputs": [],
   "source": [
    "(-1 - 0) / 1.5"
   ]
  },
  {
   "cell_type": "code",
   "execution_count": 3,
   "id": "2eaeccde",
   "metadata": {},
   "outputs": [],
   "source": [
    "sp = openmc.StatePoint('statepoint.10.h5')"
   ]
  },
  {
   "cell_type": "code",
   "execution_count": 4,
   "id": "a978cc2b",
   "metadata": {},
   "outputs": [
    {
     "data": {
      "text/plain": [
       "1.8508013152353244+/-0.005892614515898528"
      ]
     },
     "execution_count": 4,
     "metadata": {},
     "output_type": "execute_result"
    }
   ],
   "source": [
    "sp.k_combined"
   ]
  },
  {
   "cell_type": "code",
   "execution_count": null,
   "id": "0d537140",
   "metadata": {},
   "outputs": [],
   "source": []
  }
 ],
 "metadata": {
  "kernelspec": {
   "display_name": "Python 3 (ipykernel)",
   "language": "python",
   "name": "python3"
  },
  "language_info": {
   "codemirror_mode": {
    "name": "ipython",
    "version": 3
   },
   "file_extension": ".py",
   "mimetype": "text/x-python",
   "name": "python",
   "nbconvert_exporter": "python",
   "pygments_lexer": "ipython3",
   "version": "3.10.2"
  }
 },
 "nbformat": 4,
 "nbformat_minor": 5
}
