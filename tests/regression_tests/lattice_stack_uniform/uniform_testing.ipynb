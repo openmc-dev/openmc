{
 "cells": [
  {
   "cell_type": "code",
   "execution_count": 1,
   "id": "b9a4a8e6",
   "metadata": {},
   "outputs": [],
   "source": [
    "import openmc"
   ]
  },
  {
   "cell_type": "code",
   "execution_count": 2,
   "id": "48f0c339",
   "metadata": {},
   "outputs": [],
   "source": [
    "model = openmc.model.Model()\n",
    "\n",
    "uo2 = openmc.Material(name='UO2')\n",
    "uo2.set_density('g/cm3', 10.0)\n",
    "uo2.add_nuclide('U235', 1.0)\n",
    "uo2.add_nuclide('O16', 2.0)\n",
    "water = openmc.Material(name='light water')\n",
    "water.add_nuclide('H1', 2.0)\n",
    "water.add_nuclide('O16', 1.0)\n",
    "water.set_density('g/cm3', 1.0)\n",
    "water.add_s_alpha_beta('c_H_in_H2O')\n",
    "model.materials.extend([uo2, water])\n",
    "\n",
    "rc = 0.4\n",
    "h = 1.5\n",
    "cyl = openmc.ZCylinder(r=rc)\n",
    "top = openmc.ZPlane(z0=h)\n",
    "bottom = openmc.ZPlane(z0=0.)\n",
    "pellet = -cyl & -top & +bottom\n",
    "water_slice = +cyl & -top & +bottom\n",
    "\n",
    "fuel = openmc.Cell(fill=uo2, region=pellet)\n",
    "water_reflector = openmc.Cell(fill=water, region=water_slice)\n",
    "layer = openmc.Universe(cells=[fuel, water_reflector])\n",
    "\n",
    "n_pellets = 200\n",
    "\n",
    "top = openmc.ZPlane(z0 = n_pellets * h)\n",
    "tb_refl = openmc.Cell(fill=water, region=-bottom | +top)\n",
    "\n",
    "#outer_cell = openmc.Cell(fill=water, region=+box)\n",
    "\n",
    "univs = [layer] * n_pellets\n",
    "pellet_stack = openmc.StackLattice()\n",
    "pellet_stack.central_axis = (0., 0.)\n",
    "pellet_stack.base_coordinate = 0.\n",
    "pellet_stack.universes = univs\n",
    "pellet_stack.is_uniform = True\n",
    "pellet_stack.pitch = h\n",
    "#pellet_stack.outer = openmc.Universe(cells=[outer_cell])\n",
    "\n",
    "stack_cell = openmc.Cell(fill=pellet_stack)\n",
    "\n",
    "pin_univ = openmc.Universe(cells=[stack_cell, tb_refl])\n",
    "d = 1.5 * rc\n",
    "\n",
    "box = openmc.model.RectangularParallelepiped(-d, d, -d, d,\n",
    "                                          0. - d, n_pellets * h + d,\n",
    "                                          boundary_type='reflective')\n",
    "\n",
    "\n",
    "main_cell = openmc.Cell(fill=pin_univ, region=-box)\n",
    "model.geometry = openmc.Geometry([main_cell])\n",
    "\n",
    "model.settings.batches = 10\n",
    "model.settings.inactive = 5\n",
    "model.settings.particles = 1000\n",
    "\n",
    "model.export_to_xml()"
   ]
  },
  {
   "cell_type": "code",
   "execution_count": 39,
   "id": "19dc886d",
   "metadata": {},
   "outputs": [
    {
     "data": {
      "text/plain": [
       "array([0. , 1.5])"
      ]
     },
     "execution_count": 39,
     "metadata": {},
     "output_type": "execute_result"
    }
   ],
   "source": [
    "pellet_stack._layer_boundaries"
   ]
  },
  {
   "cell_type": "code",
   "execution_count": 31,
   "id": "671f2f2b",
   "metadata": {},
   "outputs": [
    {
     "data": {
      "text/plain": [
       "Surface\n",
       "\tID             =\t60\n",
       "\tName           =\t\n",
       "\tType           =\tz-plane\n",
       "\tBoundary       =\treflective\n",
       "\tCoefficients   \n",
       "z0              =\t2.1"
      ]
     },
     "execution_count": 31,
     "metadata": {},
     "output_type": "execute_result"
    }
   ],
   "source": [
    "box.zmax"
   ]
  },
  {
   "cell_type": "code",
   "execution_count": 3,
   "id": "ec9e59c1",
   "metadata": {},
   "outputs": [],
   "source": []
  },
  {
   "cell_type": "code",
   "execution_count": 40,
   "id": "645b90ad",
   "metadata": {
    "scrolled": true
   },
   "outputs": [
    {
     "data": {
      "text/plain": [
       "<matplotlib.image.AxesImage at 0x7fa9e1229ba0>"
      ]
     },
     "execution_count": 40,
     "metadata": {},
     "output_type": "execute_result"
    },
    {
     "data": {
      "image/png": "[encoded data removed]",
      "text/plain": [
       "<Figure size 432x288 with 1 Axes>"
      ]
     },
     "metadata": {
      "needs_background": "light"
     },
     "output_type": "display_data"
    }
   ],
   "source": [
    "pin_univ.plot(width=(5.,5.), origin=(0.,0.,1.), basis='xz', color_by='material', colors={uo2: 'red', water: 'blue'})"
   ]
  },
  {
   "cell_type": "code",
   "execution_count": 41,
   "id": "44530e60",
   "metadata": {
    "scrolled": true
   },
   "outputs": [
    {
     "data": {
      "text/plain": [
       "<matplotlib.image.AxesImage at 0x7fa9e12b5870>"
      ]
     },
     "execution_count": 41,
     "metadata": {},
     "output_type": "execute_result"
    },
    {
     "data": {
      "image/png": "[encoded data removed]",
      "text/plain": [
       "<Figure size 432x288 with 1 Axes>"
      ]
     },
     "metadata": {
      "needs_background": "light"
     },
     "output_type": "display_data"
    }
   ],
   "source": [
    "#import pdb\n",
    "#pdb.set_trace()\n",
    "model.geometry.root_universe.plot(width=(2.,5.), origin=(0.,0.,1.5), basis='xz', color_by='material')"
   ]
  },
  {
   "cell_type": "code",
   "execution_count": 12,
   "id": "46414807",
   "metadata": {},
   "outputs": [
    {
     "data": {
      "text/plain": [
       "array([0., 1., 3.])"
      ]
     },
     "execution_count": 12,
     "metadata": {},
     "output_type": "execute_result"
    }
   ],
   "source": [
    "pellet_stack._layer_boundaries"
   ]
  },
  {
   "cell_type": "code",
   "execution_count": 21,
   "id": "0d643fb9",
   "metadata": {},
   "outputs": [
    {
     "data": {
      "text/plain": [
       "True"
      ]
     },
     "execution_count": 21,
     "metadata": {},
     "output_type": "execute_result"
    }
   ],
   "source": [
    "import numpy as np\n",
    "pellet_stack.universes[0] == pellet_stack.universes[1]"
   ]
  },
  {
   "cell_type": "code",
   "execution_count": 25,
   "id": "47420492",
   "metadata": {},
   "outputs": [
    {
     "ename": "NameError",
     "evalue": "name 'universes' is not defined",
     "output_type": "error",
     "traceback": [
      "\u001b[0;31m---------------------------------------------------------------------------\u001b[0m",
      "\u001b[0;31mNameError\u001b[0m                                 Traceback (most recent call last)",
      "Input \u001b[0;32mIn [25]\u001b[0m, in \u001b[0;36m<cell line: 1>\u001b[0;34m()\u001b[0m\n\u001b[0;32m----> 1\u001b[0m \u001b[43muniverses\u001b[49m\n",
      "\u001b[0;31mNameError\u001b[0m: name 'universes' is not defined"
     ]
    }
   ],
   "source": [
    "universes"
   ]
  },
  {
   "cell_type": "code",
   "execution_count": 15,
   "id": "f4632cfa",
   "metadata": {},
   "outputs": [
    {
     "data": {
      "text/plain": [
       "2"
      ]
     },
     "execution_count": 15,
     "metadata": {},
     "output_type": "execute_result"
    }
   ],
   "source": [
    "pellet_stack._orientation_idx"
   ]
  },
  {
   "cell_type": "code",
   "execution_count": 5,
   "id": "0ecf9b11",
   "metadata": {},
   "outputs": [],
   "source": [
    "plotxy = openmc.Plot()\n",
    "plotxy.basis = 'xy'\n",
    "plotxy.origin = (0., 0., 1.)\n",
    "plotxy.width = (5., 5.)\n",
    "plotxy.pixels = (400, 400)\n",
    "plotxy.color_by = 'material'\n",
    "\n",
    "plotxy.colors = {\n",
    "    uo2: 'red',\n",
    "    water: 'blue'\n",
    "}\n",
    "plotxy.filename = 'xy'\n",
    "\n",
    "plotxz = openmc.Plot()\n",
    "plotxz.basis = 'xz'\n",
    "plotxz.origin = (0., 0., 1.)\n",
    "plotxz.width = (5., 5.)\n",
    "plotxz.pixels = (400, 400)\n",
    "plotxz.color_by = 'material'\n",
    "\n",
    "plotxz.colors = {\n",
    "    uo2: 'red',\n",
    "    water: 'blue'\n",
    "}\n",
    "plotxz.filename = 'xz'\n",
    "\n",
    "plots = openmc.Plots([plotxy, plotxz])\n",
    "plots.export_to_xml()"
   ]
  },
  {
   "cell_type": "code",
   "execution_count": 13,
   "id": "53233712",
   "metadata": {},
   "outputs": [],
   "source": [
    "model.export_to_xml()"
   ]
  },
  {
   "cell_type": "code",
   "execution_count": 3,
   "id": "6216cbdb",
   "metadata": {},
   "outputs": [
    {
     "ename": "NameError",
     "evalue": "name 'pellet_stack' is not defined",
     "output_type": "error",
     "traceback": [
      "\u001b[0;31m---------------------------------------------------------------------------\u001b[0m",
      "\u001b[0;31mNameError\u001b[0m                                 Traceback (most recent call last)",
      "Input \u001b[0;32mIn [3]\u001b[0m, in \u001b[0;36m<cell line: 1>\u001b[0;34m()\u001b[0m\n\u001b[0;32m----> 1\u001b[0m \u001b[38;5;28mtype\u001b[39m(\u001b[43mpellet_stack\u001b[49m\u001b[38;5;241m.\u001b[39muniverses)\n",
      "\u001b[0;31mNameError\u001b[0m: name 'pellet_stack' is not defined"
     ]
    }
   ],
   "source": [
    "type(pellet_stack.universes)"
   ]
  },
  {
   "cell_type": "code",
   "execution_count": 29,
   "id": "a47268fa",
   "metadata": {},
   "outputs": [
    {
     "data": {
      "text/plain": [
       "array([Universe\n",
       "       \tID             =\t1\n",
       "       \tName           =\n",
       "       \tGeom           =\tCSG\n",
       "       \tCells          =\t[1, 2], Universe\n",
       "                                 \tID             =\t1\n",
       "                                 \tName           =\n",
       "                                 \tGeom           =\tCSG\n",
       "                                 \tCells          =\t[1, 2]], dtype=object)"
      ]
     },
     "execution_count": 29,
     "metadata": {},
     "output_type": "execute_result"
    }
   ],
   "source": [
    "np.asarray(pellet_stack.universes)"
   ]
  },
  {
   "cell_type": "code",
   "execution_count": 2,
   "id": "2eaeccde",
   "metadata": {},
   "outputs": [],
   "source": [
    "sp = openmc.StatePoint('statepoint.10.h5')"
   ]
  },
  {
   "cell_type": "code",
   "execution_count": 4,
   "id": "b65686d0",
   "metadata": {},
   "outputs": [
    {
     "data": {
      "text/plain": [
       "1.8398702113607215+/-0.0061415075113124724"
      ]
     },
     "execution_count": 4,
     "metadata": {},
     "output_type": "execute_result"
    }
   ],
   "source": [
    "sp.k_combined"
   ]
  },
  {
   "cell_type": "code",
   "execution_count": null,
   "id": "d678bc80",
   "metadata": {},
   "outputs": [],
   "source": []
  }
 ],
 "metadata": {
  "kernelspec": {
   "display_name": "Python 3 (ipykernel)",
   "language": "python",
   "name": "python3"
  },
  "language_info": {
   "codemirror_mode": {
    "name": "ipython",
    "version": 3
   },
   "file_extension": ".py",
   "mimetype": "text/x-python",
   "name": "python",
   "nbconvert_exporter": "python",
   "pygments_lexer": "ipython3",
   "version": "3.10.2"
  }
 },
 "nbformat": 4,
 "nbformat_minor": 5
}
